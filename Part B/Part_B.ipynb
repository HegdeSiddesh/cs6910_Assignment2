{
  "nbformat": 4,
  "nbformat_minor": 0,
  "metadata": {
    "colab": {
      "name": "PartB.ipynb",
      "provenance": [],
      "collapsed_sections": [],
      "machine_shape": "hm",
      "include_colab_link": true
    },
    "kernelspec": {
      "name": "python3",
      "display_name": "Python 3"
    },
    "language_info": {
      "name": "python"
    },
    "accelerator": "GPU",
    "widgets": {
      "application/vnd.jupyter.widget-state+json": {
        "800fe5bc06074554abb44c9a55e7fef3": {
          "model_module": "@jupyter-widgets/controls",
          "model_name": "VBoxModel",
          "model_module_version": "1.5.0",
          "state": {
            "_dom_classes": [],
            "_model_module": "@jupyter-widgets/controls",
            "_model_module_version": "1.5.0",
            "_model_name": "VBoxModel",
            "_view_count": null,
            "_view_module": "@jupyter-widgets/controls",
            "_view_module_version": "1.5.0",
            "_view_name": "VBoxView",
            "box_style": "",
            "children": [
              "IPY_MODEL_606cfb5c882b4ccbb13f8358e624addb",
              "IPY_MODEL_95631d8077d14073b150dcc338b1ccc3"
            ],
            "layout": "IPY_MODEL_51b542a6fc4c4f90a160fe607e9a707f"
          }
        },
        "606cfb5c882b4ccbb13f8358e624addb": {
          "model_module": "@jupyter-widgets/controls",
          "model_name": "LabelModel",
          "model_module_version": "1.5.0",
          "state": {
            "_dom_classes": [],
            "_model_module": "@jupyter-widgets/controls",
            "_model_module_version": "1.5.0",
            "_model_name": "LabelModel",
            "_view_count": null,
            "_view_module": "@jupyter-widgets/controls",
            "_view_module_version": "1.5.0",
            "_view_name": "LabelView",
            "description": "",
            "description_tooltip": null,
            "layout": "IPY_MODEL_fbeb712c6273424b89d0b24f6a3aeeb6",
            "placeholder": "​",
            "style": "IPY_MODEL_5ccf0f0da96d4bf895e2cc4700ce9446",
            "value": "0.009 MB of 0.009 MB uploaded (0.000 MB deduped)\r"
          }
        },
        "95631d8077d14073b150dcc338b1ccc3": {
          "model_module": "@jupyter-widgets/controls",
          "model_name": "FloatProgressModel",
          "model_module_version": "1.5.0",
          "state": {
            "_dom_classes": [],
            "_model_module": "@jupyter-widgets/controls",
            "_model_module_version": "1.5.0",
            "_model_name": "FloatProgressModel",
            "_view_count": null,
            "_view_module": "@jupyter-widgets/controls",
            "_view_module_version": "1.5.0",
            "_view_name": "ProgressView",
            "bar_style": "",
            "description": "",
            "description_tooltip": null,
            "layout": "IPY_MODEL_266e8a2e36aa4e87908668a930f41056",
            "max": 1,
            "min": 0,
            "orientation": "horizontal",
            "style": "IPY_MODEL_086859619d1249dca12b418fd18ac540",
            "value": 1
          }
        },
        "51b542a6fc4c4f90a160fe607e9a707f": {
          "model_module": "@jupyter-widgets/base",
          "model_name": "LayoutModel",
          "model_module_version": "1.2.0",
          "state": {
            "_model_module": "@jupyter-widgets/base",
            "_model_module_version": "1.2.0",
            "_model_name": "LayoutModel",
            "_view_count": null,
            "_view_module": "@jupyter-widgets/base",
            "_view_module_version": "1.2.0",
            "_view_name": "LayoutView",
            "align_content": null,
            "align_items": null,
            "align_self": null,
            "border": null,
            "bottom": null,
            "display": null,
            "flex": null,
            "flex_flow": null,
            "grid_area": null,
            "grid_auto_columns": null,
            "grid_auto_flow": null,
            "grid_auto_rows": null,
            "grid_column": null,
            "grid_gap": null,
            "grid_row": null,
            "grid_template_areas": null,
            "grid_template_columns": null,
            "grid_template_rows": null,
            "height": null,
            "justify_content": null,
            "justify_items": null,
            "left": null,
            "margin": null,
            "max_height": null,
            "max_width": null,
            "min_height": null,
            "min_width": null,
            "object_fit": null,
            "object_position": null,
            "order": null,
            "overflow": null,
            "overflow_x": null,
            "overflow_y": null,
            "padding": null,
            "right": null,
            "top": null,
            "visibility": null,
            "width": null
          }
        },
        "fbeb712c6273424b89d0b24f6a3aeeb6": {
          "model_module": "@jupyter-widgets/base",
          "model_name": "LayoutModel",
          "model_module_version": "1.2.0",
          "state": {
            "_model_module": "@jupyter-widgets/base",
            "_model_module_version": "1.2.0",
            "_model_name": "LayoutModel",
            "_view_count": null,
            "_view_module": "@jupyter-widgets/base",
            "_view_module_version": "1.2.0",
            "_view_name": "LayoutView",
            "align_content": null,
            "align_items": null,
            "align_self": null,
            "border": null,
            "bottom": null,
            "display": null,
            "flex": null,
            "flex_flow": null,
            "grid_area": null,
            "grid_auto_columns": null,
            "grid_auto_flow": null,
            "grid_auto_rows": null,
            "grid_column": null,
            "grid_gap": null,
            "grid_row": null,
            "grid_template_areas": null,
            "grid_template_columns": null,
            "grid_template_rows": null,
            "height": null,
            "justify_content": null,
            "justify_items": null,
            "left": null,
            "margin": null,
            "max_height": null,
            "max_width": null,
            "min_height": null,
            "min_width": null,
            "object_fit": null,
            "object_position": null,
            "order": null,
            "overflow": null,
            "overflow_x": null,
            "overflow_y": null,
            "padding": null,
            "right": null,
            "top": null,
            "visibility": null,
            "width": null
          }
        },
        "5ccf0f0da96d4bf895e2cc4700ce9446": {
          "model_module": "@jupyter-widgets/controls",
          "model_name": "DescriptionStyleModel",
          "model_module_version": "1.5.0",
          "state": {
            "_model_module": "@jupyter-widgets/controls",
            "_model_module_version": "1.5.0",
            "_model_name": "DescriptionStyleModel",
            "_view_count": null,
            "_view_module": "@jupyter-widgets/base",
            "_view_module_version": "1.2.0",
            "_view_name": "StyleView",
            "description_width": ""
          }
        },
        "266e8a2e36aa4e87908668a930f41056": {
          "model_module": "@jupyter-widgets/base",
          "model_name": "LayoutModel",
          "model_module_version": "1.2.0",
          "state": {
            "_model_module": "@jupyter-widgets/base",
            "_model_module_version": "1.2.0",
            "_model_name": "LayoutModel",
            "_view_count": null,
            "_view_module": "@jupyter-widgets/base",
            "_view_module_version": "1.2.0",
            "_view_name": "LayoutView",
            "align_content": null,
            "align_items": null,
            "align_self": null,
            "border": null,
            "bottom": null,
            "display": null,
            "flex": null,
            "flex_flow": null,
            "grid_area": null,
            "grid_auto_columns": null,
            "grid_auto_flow": null,
            "grid_auto_rows": null,
            "grid_column": null,
            "grid_gap": null,
            "grid_row": null,
            "grid_template_areas": null,
            "grid_template_columns": null,
            "grid_template_rows": null,
            "height": null,
            "justify_content": null,
            "justify_items": null,
            "left": null,
            "margin": null,
            "max_height": null,
            "max_width": null,
            "min_height": null,
            "min_width": null,
            "object_fit": null,
            "object_position": null,
            "order": null,
            "overflow": null,
            "overflow_x": null,
            "overflow_y": null,
            "padding": null,
            "right": null,
            "top": null,
            "visibility": null,
            "width": null
          }
        },
        "086859619d1249dca12b418fd18ac540": {
          "model_module": "@jupyter-widgets/controls",
          "model_name": "ProgressStyleModel",
          "model_module_version": "1.5.0",
          "state": {
            "_model_module": "@jupyter-widgets/controls",
            "_model_module_version": "1.5.0",
            "_model_name": "ProgressStyleModel",
            "_view_count": null,
            "_view_module": "@jupyter-widgets/base",
            "_view_module_version": "1.2.0",
            "_view_name": "StyleView",
            "bar_color": null,
            "description_width": ""
          }
        },
        "bcbf592ec2184dbabd8bd228ad4bec9d": {
          "model_module": "@jupyter-widgets/controls",
          "model_name": "VBoxModel",
          "model_module_version": "1.5.0",
          "state": {
            "_dom_classes": [],
            "_model_module": "@jupyter-widgets/controls",
            "_model_module_version": "1.5.0",
            "_model_name": "VBoxModel",
            "_view_count": null,
            "_view_module": "@jupyter-widgets/controls",
            "_view_module_version": "1.5.0",
            "_view_name": "VBoxView",
            "box_style": "",
            "children": [
              "IPY_MODEL_29465094ee7544d1a6f66f6e06ceb293",
              "IPY_MODEL_eba3c9a99e21419f967540c4a9425616"
            ],
            "layout": "IPY_MODEL_13d3f8585e02484d98496b28612030d8"
          }
        },
        "29465094ee7544d1a6f66f6e06ceb293": {
          "model_module": "@jupyter-widgets/controls",
          "model_name": "LabelModel",
          "model_module_version": "1.5.0",
          "state": {
            "_dom_classes": [],
            "_model_module": "@jupyter-widgets/controls",
            "_model_module_version": "1.5.0",
            "_model_name": "LabelModel",
            "_view_count": null,
            "_view_module": "@jupyter-widgets/controls",
            "_view_module_version": "1.5.0",
            "_view_name": "LabelView",
            "description": "",
            "description_tooltip": null,
            "layout": "IPY_MODEL_e5b01066322a4877ad12bcc68c9bc6b6",
            "placeholder": "​",
            "style": "IPY_MODEL_7af86158f5904120a103609628ac7fca",
            "value": "0.009 MB of 0.009 MB uploaded (0.000 MB deduped)\r"
          }
        },
        "eba3c9a99e21419f967540c4a9425616": {
          "model_module": "@jupyter-widgets/controls",
          "model_name": "FloatProgressModel",
          "model_module_version": "1.5.0",
          "state": {
            "_dom_classes": [],
            "_model_module": "@jupyter-widgets/controls",
            "_model_module_version": "1.5.0",
            "_model_name": "FloatProgressModel",
            "_view_count": null,
            "_view_module": "@jupyter-widgets/controls",
            "_view_module_version": "1.5.0",
            "_view_name": "ProgressView",
            "bar_style": "",
            "description": "",
            "description_tooltip": null,
            "layout": "IPY_MODEL_c08526c543ad45d18343e752094cbaaa",
            "max": 1,
            "min": 0,
            "orientation": "horizontal",
            "style": "IPY_MODEL_ae0a7c79c92545cd9312e03da44cdfac",
            "value": 1
          }
        },
        "13d3f8585e02484d98496b28612030d8": {
          "model_module": "@jupyter-widgets/base",
          "model_name": "LayoutModel",
          "model_module_version": "1.2.0",
          "state": {
            "_model_module": "@jupyter-widgets/base",
            "_model_module_version": "1.2.0",
            "_model_name": "LayoutModel",
            "_view_count": null,
            "_view_module": "@jupyter-widgets/base",
            "_view_module_version": "1.2.0",
            "_view_name": "LayoutView",
            "align_content": null,
            "align_items": null,
            "align_self": null,
            "border": null,
            "bottom": null,
            "display": null,
            "flex": null,
            "flex_flow": null,
            "grid_area": null,
            "grid_auto_columns": null,
            "grid_auto_flow": null,
            "grid_auto_rows": null,
            "grid_column": null,
            "grid_gap": null,
            "grid_row": null,
            "grid_template_areas": null,
            "grid_template_columns": null,
            "grid_template_rows": null,
            "height": null,
            "justify_content": null,
            "justify_items": null,
            "left": null,
            "margin": null,
            "max_height": null,
            "max_width": null,
            "min_height": null,
            "min_width": null,
            "object_fit": null,
            "object_position": null,
            "order": null,
            "overflow": null,
            "overflow_x": null,
            "overflow_y": null,
            "padding": null,
            "right": null,
            "top": null,
            "visibility": null,
            "width": null
          }
        },
        "e5b01066322a4877ad12bcc68c9bc6b6": {
          "model_module": "@jupyter-widgets/base",
          "model_name": "LayoutModel",
          "model_module_version": "1.2.0",
          "state": {
            "_model_module": "@jupyter-widgets/base",
            "_model_module_version": "1.2.0",
            "_model_name": "LayoutModel",
            "_view_count": null,
            "_view_module": "@jupyter-widgets/base",
            "_view_module_version": "1.2.0",
            "_view_name": "LayoutView",
            "align_content": null,
            "align_items": null,
            "align_self": null,
            "border": null,
            "bottom": null,
            "display": null,
            "flex": null,
            "flex_flow": null,
            "grid_area": null,
            "grid_auto_columns": null,
            "grid_auto_flow": null,
            "grid_auto_rows": null,
            "grid_column": null,
            "grid_gap": null,
            "grid_row": null,
            "grid_template_areas": null,
            "grid_template_columns": null,
            "grid_template_rows": null,
            "height": null,
            "justify_content": null,
            "justify_items": null,
            "left": null,
            "margin": null,
            "max_height": null,
            "max_width": null,
            "min_height": null,
            "min_width": null,
            "object_fit": null,
            "object_position": null,
            "order": null,
            "overflow": null,
            "overflow_x": null,
            "overflow_y": null,
            "padding": null,
            "right": null,
            "top": null,
            "visibility": null,
            "width": null
          }
        },
        "7af86158f5904120a103609628ac7fca": {
          "model_module": "@jupyter-widgets/controls",
          "model_name": "DescriptionStyleModel",
          "model_module_version": "1.5.0",
          "state": {
            "_model_module": "@jupyter-widgets/controls",
            "_model_module_version": "1.5.0",
            "_model_name": "DescriptionStyleModel",
            "_view_count": null,
            "_view_module": "@jupyter-widgets/base",
            "_view_module_version": "1.2.0",
            "_view_name": "StyleView",
            "description_width": ""
          }
        },
        "c08526c543ad45d18343e752094cbaaa": {
          "model_module": "@jupyter-widgets/base",
          "model_name": "LayoutModel",
          "model_module_version": "1.2.0",
          "state": {
            "_model_module": "@jupyter-widgets/base",
            "_model_module_version": "1.2.0",
            "_model_name": "LayoutModel",
            "_view_count": null,
            "_view_module": "@jupyter-widgets/base",
            "_view_module_version": "1.2.0",
            "_view_name": "LayoutView",
            "align_content": null,
            "align_items": null,
            "align_self": null,
            "border": null,
            "bottom": null,
            "display": null,
            "flex": null,
            "flex_flow": null,
            "grid_area": null,
            "grid_auto_columns": null,
            "grid_auto_flow": null,
            "grid_auto_rows": null,
            "grid_column": null,
            "grid_gap": null,
            "grid_row": null,
            "grid_template_areas": null,
            "grid_template_columns": null,
            "grid_template_rows": null,
            "height": null,
            "justify_content": null,
            "justify_items": null,
            "left": null,
            "margin": null,
            "max_height": null,
            "max_width": null,
            "min_height": null,
            "min_width": null,
            "object_fit": null,
            "object_position": null,
            "order": null,
            "overflow": null,
            "overflow_x": null,
            "overflow_y": null,
            "padding": null,
            "right": null,
            "top": null,
            "visibility": null,
            "width": null
          }
        },
        "ae0a7c79c92545cd9312e03da44cdfac": {
          "model_module": "@jupyter-widgets/controls",
          "model_name": "ProgressStyleModel",
          "model_module_version": "1.5.0",
          "state": {
            "_model_module": "@jupyter-widgets/controls",
            "_model_module_version": "1.5.0",
            "_model_name": "ProgressStyleModel",
            "_view_count": null,
            "_view_module": "@jupyter-widgets/base",
            "_view_module_version": "1.2.0",
            "_view_name": "StyleView",
            "bar_color": null,
            "description_width": ""
          }
        },
        "83d903b513124b54993b7f51f21438b3": {
          "model_module": "@jupyter-widgets/controls",
          "model_name": "VBoxModel",
          "model_module_version": "1.5.0",
          "state": {
            "_dom_classes": [],
            "_model_module": "@jupyter-widgets/controls",
            "_model_module_version": "1.5.0",
            "_model_name": "VBoxModel",
            "_view_count": null,
            "_view_module": "@jupyter-widgets/controls",
            "_view_module_version": "1.5.0",
            "_view_name": "VBoxView",
            "box_style": "",
            "children": [
              "IPY_MODEL_183f2d4effb540399b79045b9707cc93",
              "IPY_MODEL_1f741fa0444b49bd88c542b106afc05f"
            ],
            "layout": "IPY_MODEL_1d2d5e4cb1434108b656e7c688a33d95"
          }
        },
        "183f2d4effb540399b79045b9707cc93": {
          "model_module": "@jupyter-widgets/controls",
          "model_name": "LabelModel",
          "model_module_version": "1.5.0",
          "state": {
            "_dom_classes": [],
            "_model_module": "@jupyter-widgets/controls",
            "_model_module_version": "1.5.0",
            "_model_name": "LabelModel",
            "_view_count": null,
            "_view_module": "@jupyter-widgets/controls",
            "_view_module_version": "1.5.0",
            "_view_name": "LabelView",
            "description": "",
            "description_tooltip": null,
            "layout": "IPY_MODEL_730f09090a414487b63435ee769dbce8",
            "placeholder": "​",
            "style": "IPY_MODEL_a382696eb1164e42b970d20ade599f99",
            "value": "0.009 MB of 0.009 MB uploaded (0.000 MB deduped)\r"
          }
        },
        "1f741fa0444b49bd88c542b106afc05f": {
          "model_module": "@jupyter-widgets/controls",
          "model_name": "FloatProgressModel",
          "model_module_version": "1.5.0",
          "state": {
            "_dom_classes": [],
            "_model_module": "@jupyter-widgets/controls",
            "_model_module_version": "1.5.0",
            "_model_name": "FloatProgressModel",
            "_view_count": null,
            "_view_module": "@jupyter-widgets/controls",
            "_view_module_version": "1.5.0",
            "_view_name": "ProgressView",
            "bar_style": "",
            "description": "",
            "description_tooltip": null,
            "layout": "IPY_MODEL_f88ba2dac0ce4061b53288da702c92a6",
            "max": 1,
            "min": 0,
            "orientation": "horizontal",
            "style": "IPY_MODEL_df8800dca46e40e9845bba40e3ae508a",
            "value": 1
          }
        },
        "1d2d5e4cb1434108b656e7c688a33d95": {
          "model_module": "@jupyter-widgets/base",
          "model_name": "LayoutModel",
          "model_module_version": "1.2.0",
          "state": {
            "_model_module": "@jupyter-widgets/base",
            "_model_module_version": "1.2.0",
            "_model_name": "LayoutModel",
            "_view_count": null,
            "_view_module": "@jupyter-widgets/base",
            "_view_module_version": "1.2.0",
            "_view_name": "LayoutView",
            "align_content": null,
            "align_items": null,
            "align_self": null,
            "border": null,
            "bottom": null,
            "display": null,
            "flex": null,
            "flex_flow": null,
            "grid_area": null,
            "grid_auto_columns": null,
            "grid_auto_flow": null,
            "grid_auto_rows": null,
            "grid_column": null,
            "grid_gap": null,
            "grid_row": null,
            "grid_template_areas": null,
            "grid_template_columns": null,
            "grid_template_rows": null,
            "height": null,
            "justify_content": null,
            "justify_items": null,
            "left": null,
            "margin": null,
            "max_height": null,
            "max_width": null,
            "min_height": null,
            "min_width": null,
            "object_fit": null,
            "object_position": null,
            "order": null,
            "overflow": null,
            "overflow_x": null,
            "overflow_y": null,
            "padding": null,
            "right": null,
            "top": null,
            "visibility": null,
            "width": null
          }
        },
        "730f09090a414487b63435ee769dbce8": {
          "model_module": "@jupyter-widgets/base",
          "model_name": "LayoutModel",
          "model_module_version": "1.2.0",
          "state": {
            "_model_module": "@jupyter-widgets/base",
            "_model_module_version": "1.2.0",
            "_model_name": "LayoutModel",
            "_view_count": null,
            "_view_module": "@jupyter-widgets/base",
            "_view_module_version": "1.2.0",
            "_view_name": "LayoutView",
            "align_content": null,
            "align_items": null,
            "align_self": null,
            "border": null,
            "bottom": null,
            "display": null,
            "flex": null,
            "flex_flow": null,
            "grid_area": null,
            "grid_auto_columns": null,
            "grid_auto_flow": null,
            "grid_auto_rows": null,
            "grid_column": null,
            "grid_gap": null,
            "grid_row": null,
            "grid_template_areas": null,
            "grid_template_columns": null,
            "grid_template_rows": null,
            "height": null,
            "justify_content": null,
            "justify_items": null,
            "left": null,
            "margin": null,
            "max_height": null,
            "max_width": null,
            "min_height": null,
            "min_width": null,
            "object_fit": null,
            "object_position": null,
            "order": null,
            "overflow": null,
            "overflow_x": null,
            "overflow_y": null,
            "padding": null,
            "right": null,
            "top": null,
            "visibility": null,
            "width": null
          }
        },
        "a382696eb1164e42b970d20ade599f99": {
          "model_module": "@jupyter-widgets/controls",
          "model_name": "DescriptionStyleModel",
          "model_module_version": "1.5.0",
          "state": {
            "_model_module": "@jupyter-widgets/controls",
            "_model_module_version": "1.5.0",
            "_model_name": "DescriptionStyleModel",
            "_view_count": null,
            "_view_module": "@jupyter-widgets/base",
            "_view_module_version": "1.2.0",
            "_view_name": "StyleView",
            "description_width": ""
          }
        },
        "f88ba2dac0ce4061b53288da702c92a6": {
          "model_module": "@jupyter-widgets/base",
          "model_name": "LayoutModel",
          "model_module_version": "1.2.0",
          "state": {
            "_model_module": "@jupyter-widgets/base",
            "_model_module_version": "1.2.0",
            "_model_name": "LayoutModel",
            "_view_count": null,
            "_view_module": "@jupyter-widgets/base",
            "_view_module_version": "1.2.0",
            "_view_name": "LayoutView",
            "align_content": null,
            "align_items": null,
            "align_self": null,
            "border": null,
            "bottom": null,
            "display": null,
            "flex": null,
            "flex_flow": null,
            "grid_area": null,
            "grid_auto_columns": null,
            "grid_auto_flow": null,
            "grid_auto_rows": null,
            "grid_column": null,
            "grid_gap": null,
            "grid_row": null,
            "grid_template_areas": null,
            "grid_template_columns": null,
            "grid_template_rows": null,
            "height": null,
            "justify_content": null,
            "justify_items": null,
            "left": null,
            "margin": null,
            "max_height": null,
            "max_width": null,
            "min_height": null,
            "min_width": null,
            "object_fit": null,
            "object_position": null,
            "order": null,
            "overflow": null,
            "overflow_x": null,
            "overflow_y": null,
            "padding": null,
            "right": null,
            "top": null,
            "visibility": null,
            "width": null
          }
        },
        "df8800dca46e40e9845bba40e3ae508a": {
          "model_module": "@jupyter-widgets/controls",
          "model_name": "ProgressStyleModel",
          "model_module_version": "1.5.0",
          "state": {
            "_model_module": "@jupyter-widgets/controls",
            "_model_module_version": "1.5.0",
            "_model_name": "ProgressStyleModel",
            "_view_count": null,
            "_view_module": "@jupyter-widgets/base",
            "_view_module_version": "1.2.0",
            "_view_name": "StyleView",
            "bar_color": null,
            "description_width": ""
          }
        },
        "ecb6503f10c248d7922bf456b19d3f8d": {
          "model_module": "@jupyter-widgets/controls",
          "model_name": "VBoxModel",
          "model_module_version": "1.5.0",
          "state": {
            "_dom_classes": [],
            "_model_module": "@jupyter-widgets/controls",
            "_model_module_version": "1.5.0",
            "_model_name": "VBoxModel",
            "_view_count": null,
            "_view_module": "@jupyter-widgets/controls",
            "_view_module_version": "1.5.0",
            "_view_name": "VBoxView",
            "box_style": "",
            "children": [
              "IPY_MODEL_eadc2af3baba438f84bc1041ebe797df",
              "IPY_MODEL_b24606aa6cd444ffaf8a699e2fe91c8e"
            ],
            "layout": "IPY_MODEL_277858db1c804480bef383ff6a0b7a06"
          }
        },
        "eadc2af3baba438f84bc1041ebe797df": {
          "model_module": "@jupyter-widgets/controls",
          "model_name": "LabelModel",
          "model_module_version": "1.5.0",
          "state": {
            "_dom_classes": [],
            "_model_module": "@jupyter-widgets/controls",
            "_model_module_version": "1.5.0",
            "_model_name": "LabelModel",
            "_view_count": null,
            "_view_module": "@jupyter-widgets/controls",
            "_view_module_version": "1.5.0",
            "_view_name": "LabelView",
            "description": "",
            "description_tooltip": null,
            "layout": "IPY_MODEL_9fd712b38e1942c5b869351f9ec573cb",
            "placeholder": "​",
            "style": "IPY_MODEL_056de56d86d94d8f90794530597370dd",
            "value": "0.009 MB of 0.009 MB uploaded (0.000 MB deduped)\r"
          }
        },
        "b24606aa6cd444ffaf8a699e2fe91c8e": {
          "model_module": "@jupyter-widgets/controls",
          "model_name": "FloatProgressModel",
          "model_module_version": "1.5.0",
          "state": {
            "_dom_classes": [],
            "_model_module": "@jupyter-widgets/controls",
            "_model_module_version": "1.5.0",
            "_model_name": "FloatProgressModel",
            "_view_count": null,
            "_view_module": "@jupyter-widgets/controls",
            "_view_module_version": "1.5.0",
            "_view_name": "ProgressView",
            "bar_style": "",
            "description": "",
            "description_tooltip": null,
            "layout": "IPY_MODEL_ff41047c0d52409c9857ae8a5697a005",
            "max": 1,
            "min": 0,
            "orientation": "horizontal",
            "style": "IPY_MODEL_a464dabf31854181a81d8e0e56e27193",
            "value": 1
          }
        },
        "277858db1c804480bef383ff6a0b7a06": {
          "model_module": "@jupyter-widgets/base",
          "model_name": "LayoutModel",
          "model_module_version": "1.2.0",
          "state": {
            "_model_module": "@jupyter-widgets/base",
            "_model_module_version": "1.2.0",
            "_model_name": "LayoutModel",
            "_view_count": null,
            "_view_module": "@jupyter-widgets/base",
            "_view_module_version": "1.2.0",
            "_view_name": "LayoutView",
            "align_content": null,
            "align_items": null,
            "align_self": null,
            "border": null,
            "bottom": null,
            "display": null,
            "flex": null,
            "flex_flow": null,
            "grid_area": null,
            "grid_auto_columns": null,
            "grid_auto_flow": null,
            "grid_auto_rows": null,
            "grid_column": null,
            "grid_gap": null,
            "grid_row": null,
            "grid_template_areas": null,
            "grid_template_columns": null,
            "grid_template_rows": null,
            "height": null,
            "justify_content": null,
            "justify_items": null,
            "left": null,
            "margin": null,
            "max_height": null,
            "max_width": null,
            "min_height": null,
            "min_width": null,
            "object_fit": null,
            "object_position": null,
            "order": null,
            "overflow": null,
            "overflow_x": null,
            "overflow_y": null,
            "padding": null,
            "right": null,
            "top": null,
            "visibility": null,
            "width": null
          }
        },
        "9fd712b38e1942c5b869351f9ec573cb": {
          "model_module": "@jupyter-widgets/base",
          "model_name": "LayoutModel",
          "model_module_version": "1.2.0",
          "state": {
            "_model_module": "@jupyter-widgets/base",
            "_model_module_version": "1.2.0",
            "_model_name": "LayoutModel",
            "_view_count": null,
            "_view_module": "@jupyter-widgets/base",
            "_view_module_version": "1.2.0",
            "_view_name": "LayoutView",
            "align_content": null,
            "align_items": null,
            "align_self": null,
            "border": null,
            "bottom": null,
            "display": null,
            "flex": null,
            "flex_flow": null,
            "grid_area": null,
            "grid_auto_columns": null,
            "grid_auto_flow": null,
            "grid_auto_rows": null,
            "grid_column": null,
            "grid_gap": null,
            "grid_row": null,
            "grid_template_areas": null,
            "grid_template_columns": null,
            "grid_template_rows": null,
            "height": null,
            "justify_content": null,
            "justify_items": null,
            "left": null,
            "margin": null,
            "max_height": null,
            "max_width": null,
            "min_height": null,
            "min_width": null,
            "object_fit": null,
            "object_position": null,
            "order": null,
            "overflow": null,
            "overflow_x": null,
            "overflow_y": null,
            "padding": null,
            "right": null,
            "top": null,
            "visibility": null,
            "width": null
          }
        },
        "056de56d86d94d8f90794530597370dd": {
          "model_module": "@jupyter-widgets/controls",
          "model_name": "DescriptionStyleModel",
          "model_module_version": "1.5.0",
          "state": {
            "_model_module": "@jupyter-widgets/controls",
            "_model_module_version": "1.5.0",
            "_model_name": "DescriptionStyleModel",
            "_view_count": null,
            "_view_module": "@jupyter-widgets/base",
            "_view_module_version": "1.2.0",
            "_view_name": "StyleView",
            "description_width": ""
          }
        },
        "ff41047c0d52409c9857ae8a5697a005": {
          "model_module": "@jupyter-widgets/base",
          "model_name": "LayoutModel",
          "model_module_version": "1.2.0",
          "state": {
            "_model_module": "@jupyter-widgets/base",
            "_model_module_version": "1.2.0",
            "_model_name": "LayoutModel",
            "_view_count": null,
            "_view_module": "@jupyter-widgets/base",
            "_view_module_version": "1.2.0",
            "_view_name": "LayoutView",
            "align_content": null,
            "align_items": null,
            "align_self": null,
            "border": null,
            "bottom": null,
            "display": null,
            "flex": null,
            "flex_flow": null,
            "grid_area": null,
            "grid_auto_columns": null,
            "grid_auto_flow": null,
            "grid_auto_rows": null,
            "grid_column": null,
            "grid_gap": null,
            "grid_row": null,
            "grid_template_areas": null,
            "grid_template_columns": null,
            "grid_template_rows": null,
            "height": null,
            "justify_content": null,
            "justify_items": null,
            "left": null,
            "margin": null,
            "max_height": null,
            "max_width": null,
            "min_height": null,
            "min_width": null,
            "object_fit": null,
            "object_position": null,
            "order": null,
            "overflow": null,
            "overflow_x": null,
            "overflow_y": null,
            "padding": null,
            "right": null,
            "top": null,
            "visibility": null,
            "width": null
          }
        },
        "a464dabf31854181a81d8e0e56e27193": {
          "model_module": "@jupyter-widgets/controls",
          "model_name": "ProgressStyleModel",
          "model_module_version": "1.5.0",
          "state": {
            "_model_module": "@jupyter-widgets/controls",
            "_model_module_version": "1.5.0",
            "_model_name": "ProgressStyleModel",
            "_view_count": null,
            "_view_module": "@jupyter-widgets/base",
            "_view_module_version": "1.2.0",
            "_view_name": "StyleView",
            "bar_color": null,
            "description_width": ""
          }
        },
        "7ec99793fea644808ff03618f1c69ccc": {
          "model_module": "@jupyter-widgets/controls",
          "model_name": "VBoxModel",
          "model_module_version": "1.5.0",
          "state": {
            "_dom_classes": [],
            "_model_module": "@jupyter-widgets/controls",
            "_model_module_version": "1.5.0",
            "_model_name": "VBoxModel",
            "_view_count": null,
            "_view_module": "@jupyter-widgets/controls",
            "_view_module_version": "1.5.0",
            "_view_name": "VBoxView",
            "box_style": "",
            "children": [
              "IPY_MODEL_23f75c1c960d4a2d9f52c56cc021f24e",
              "IPY_MODEL_cf524527e0fe47289cc40b047eacd6c5"
            ],
            "layout": "IPY_MODEL_15b843b3c3a043fc988a111840a23693"
          }
        },
        "23f75c1c960d4a2d9f52c56cc021f24e": {
          "model_module": "@jupyter-widgets/controls",
          "model_name": "LabelModel",
          "model_module_version": "1.5.0",
          "state": {
            "_dom_classes": [],
            "_model_module": "@jupyter-widgets/controls",
            "_model_module_version": "1.5.0",
            "_model_name": "LabelModel",
            "_view_count": null,
            "_view_module": "@jupyter-widgets/controls",
            "_view_module_version": "1.5.0",
            "_view_name": "LabelView",
            "description": "",
            "description_tooltip": null,
            "layout": "IPY_MODEL_9d8038a9ea1243d3b5b91d0f19ddbf8c",
            "placeholder": "​",
            "style": "IPY_MODEL_4191174e5ecc423ba5508422cd9f3c23",
            "value": "0.009 MB of 0.009 MB uploaded (0.000 MB deduped)\r"
          }
        },
        "cf524527e0fe47289cc40b047eacd6c5": {
          "model_module": "@jupyter-widgets/controls",
          "model_name": "FloatProgressModel",
          "model_module_version": "1.5.0",
          "state": {
            "_dom_classes": [],
            "_model_module": "@jupyter-widgets/controls",
            "_model_module_version": "1.5.0",
            "_model_name": "FloatProgressModel",
            "_view_count": null,
            "_view_module": "@jupyter-widgets/controls",
            "_view_module_version": "1.5.0",
            "_view_name": "ProgressView",
            "bar_style": "",
            "description": "",
            "description_tooltip": null,
            "layout": "IPY_MODEL_54dc2bd236614fabbbcb4267ab38c7ae",
            "max": 1,
            "min": 0,
            "orientation": "horizontal",
            "style": "IPY_MODEL_f90590ec73bf4cd3bdd40afd6481600c",
            "value": 1
          }
        },
        "15b843b3c3a043fc988a111840a23693": {
          "model_module": "@jupyter-widgets/base",
          "model_name": "LayoutModel",
          "model_module_version": "1.2.0",
          "state": {
            "_model_module": "@jupyter-widgets/base",
            "_model_module_version": "1.2.0",
            "_model_name": "LayoutModel",
            "_view_count": null,
            "_view_module": "@jupyter-widgets/base",
            "_view_module_version": "1.2.0",
            "_view_name": "LayoutView",
            "align_content": null,
            "align_items": null,
            "align_self": null,
            "border": null,
            "bottom": null,
            "display": null,
            "flex": null,
            "flex_flow": null,
            "grid_area": null,
            "grid_auto_columns": null,
            "grid_auto_flow": null,
            "grid_auto_rows": null,
            "grid_column": null,
            "grid_gap": null,
            "grid_row": null,
            "grid_template_areas": null,
            "grid_template_columns": null,
            "grid_template_rows": null,
            "height": null,
            "justify_content": null,
            "justify_items": null,
            "left": null,
            "margin": null,
            "max_height": null,
            "max_width": null,
            "min_height": null,
            "min_width": null,
            "object_fit": null,
            "object_position": null,
            "order": null,
            "overflow": null,
            "overflow_x": null,
            "overflow_y": null,
            "padding": null,
            "right": null,
            "top": null,
            "visibility": null,
            "width": null
          }
        },
        "9d8038a9ea1243d3b5b91d0f19ddbf8c": {
          "model_module": "@jupyter-widgets/base",
          "model_name": "LayoutModel",
          "model_module_version": "1.2.0",
          "state": {
            "_model_module": "@jupyter-widgets/base",
            "_model_module_version": "1.2.0",
            "_model_name": "LayoutModel",
            "_view_count": null,
            "_view_module": "@jupyter-widgets/base",
            "_view_module_version": "1.2.0",
            "_view_name": "LayoutView",
            "align_content": null,
            "align_items": null,
            "align_self": null,
            "border": null,
            "bottom": null,
            "display": null,
            "flex": null,
            "flex_flow": null,
            "grid_area": null,
            "grid_auto_columns": null,
            "grid_auto_flow": null,
            "grid_auto_rows": null,
            "grid_column": null,
            "grid_gap": null,
            "grid_row": null,
            "grid_template_areas": null,
            "grid_template_columns": null,
            "grid_template_rows": null,
            "height": null,
            "justify_content": null,
            "justify_items": null,
            "left": null,
            "margin": null,
            "max_height": null,
            "max_width": null,
            "min_height": null,
            "min_width": null,
            "object_fit": null,
            "object_position": null,
            "order": null,
            "overflow": null,
            "overflow_x": null,
            "overflow_y": null,
            "padding": null,
            "right": null,
            "top": null,
            "visibility": null,
            "width": null
          }
        },
        "4191174e5ecc423ba5508422cd9f3c23": {
          "model_module": "@jupyter-widgets/controls",
          "model_name": "DescriptionStyleModel",
          "model_module_version": "1.5.0",
          "state": {
            "_model_module": "@jupyter-widgets/controls",
            "_model_module_version": "1.5.0",
            "_model_name": "DescriptionStyleModel",
            "_view_count": null,
            "_view_module": "@jupyter-widgets/base",
            "_view_module_version": "1.2.0",
            "_view_name": "StyleView",
            "description_width": ""
          }
        },
        "54dc2bd236614fabbbcb4267ab38c7ae": {
          "model_module": "@jupyter-widgets/base",
          "model_name": "LayoutModel",
          "model_module_version": "1.2.0",
          "state": {
            "_model_module": "@jupyter-widgets/base",
            "_model_module_version": "1.2.0",
            "_model_name": "LayoutModel",
            "_view_count": null,
            "_view_module": "@jupyter-widgets/base",
            "_view_module_version": "1.2.0",
            "_view_name": "LayoutView",
            "align_content": null,
            "align_items": null,
            "align_self": null,
            "border": null,
            "bottom": null,
            "display": null,
            "flex": null,
            "flex_flow": null,
            "grid_area": null,
            "grid_auto_columns": null,
            "grid_auto_flow": null,
            "grid_auto_rows": null,
            "grid_column": null,
            "grid_gap": null,
            "grid_row": null,
            "grid_template_areas": null,
            "grid_template_columns": null,
            "grid_template_rows": null,
            "height": null,
            "justify_content": null,
            "justify_items": null,
            "left": null,
            "margin": null,
            "max_height": null,
            "max_width": null,
            "min_height": null,
            "min_width": null,
            "object_fit": null,
            "object_position": null,
            "order": null,
            "overflow": null,
            "overflow_x": null,
            "overflow_y": null,
            "padding": null,
            "right": null,
            "top": null,
            "visibility": null,
            "width": null
          }
        },
        "f90590ec73bf4cd3bdd40afd6481600c": {
          "model_module": "@jupyter-widgets/controls",
          "model_name": "ProgressStyleModel",
          "model_module_version": "1.5.0",
          "state": {
            "_model_module": "@jupyter-widgets/controls",
            "_model_module_version": "1.5.0",
            "_model_name": "ProgressStyleModel",
            "_view_count": null,
            "_view_module": "@jupyter-widgets/base",
            "_view_module_version": "1.2.0",
            "_view_name": "StyleView",
            "bar_color": null,
            "description_width": ""
          }
        },
        "e19c71bbae0c4e7aa36fc4baf96ba17e": {
          "model_module": "@jupyter-widgets/controls",
          "model_name": "VBoxModel",
          "model_module_version": "1.5.0",
          "state": {
            "_dom_classes": [],
            "_model_module": "@jupyter-widgets/controls",
            "_model_module_version": "1.5.0",
            "_model_name": "VBoxModel",
            "_view_count": null,
            "_view_module": "@jupyter-widgets/controls",
            "_view_module_version": "1.5.0",
            "_view_name": "VBoxView",
            "box_style": "",
            "children": [
              "IPY_MODEL_27d12254987c4a8cb24d97e8100e338e",
              "IPY_MODEL_c92e2efe22e841baa6945584ab6da74c"
            ],
            "layout": "IPY_MODEL_bbd0ae4a3bdf428283d74434043f84d6"
          }
        },
        "27d12254987c4a8cb24d97e8100e338e": {
          "model_module": "@jupyter-widgets/controls",
          "model_name": "LabelModel",
          "model_module_version": "1.5.0",
          "state": {
            "_dom_classes": [],
            "_model_module": "@jupyter-widgets/controls",
            "_model_module_version": "1.5.0",
            "_model_name": "LabelModel",
            "_view_count": null,
            "_view_module": "@jupyter-widgets/controls",
            "_view_module_version": "1.5.0",
            "_view_name": "LabelView",
            "description": "",
            "description_tooltip": null,
            "layout": "IPY_MODEL_657b9ab6c83a40e6bddce4a622028d57",
            "placeholder": "​",
            "style": "IPY_MODEL_8adcb0362e5c4cb2bd6aa60498d0c71f",
            "value": "0.009 MB of 0.009 MB uploaded (0.000 MB deduped)\r"
          }
        },
        "c92e2efe22e841baa6945584ab6da74c": {
          "model_module": "@jupyter-widgets/controls",
          "model_name": "FloatProgressModel",
          "model_module_version": "1.5.0",
          "state": {
            "_dom_classes": [],
            "_model_module": "@jupyter-widgets/controls",
            "_model_module_version": "1.5.0",
            "_model_name": "FloatProgressModel",
            "_view_count": null,
            "_view_module": "@jupyter-widgets/controls",
            "_view_module_version": "1.5.0",
            "_view_name": "ProgressView",
            "bar_style": "",
            "description": "",
            "description_tooltip": null,
            "layout": "IPY_MODEL_0177816e16364f15affc9300553a2074",
            "max": 1,
            "min": 0,
            "orientation": "horizontal",
            "style": "IPY_MODEL_98e3f8c2b75043538e0ffaad8ba8e4fa",
            "value": 1
          }
        },
        "bbd0ae4a3bdf428283d74434043f84d6": {
          "model_module": "@jupyter-widgets/base",
          "model_name": "LayoutModel",
          "model_module_version": "1.2.0",
          "state": {
            "_model_module": "@jupyter-widgets/base",
            "_model_module_version": "1.2.0",
            "_model_name": "LayoutModel",
            "_view_count": null,
            "_view_module": "@jupyter-widgets/base",
            "_view_module_version": "1.2.0",
            "_view_name": "LayoutView",
            "align_content": null,
            "align_items": null,
            "align_self": null,
            "border": null,
            "bottom": null,
            "display": null,
            "flex": null,
            "flex_flow": null,
            "grid_area": null,
            "grid_auto_columns": null,
            "grid_auto_flow": null,
            "grid_auto_rows": null,
            "grid_column": null,
            "grid_gap": null,
            "grid_row": null,
            "grid_template_areas": null,
            "grid_template_columns": null,
            "grid_template_rows": null,
            "height": null,
            "justify_content": null,
            "justify_items": null,
            "left": null,
            "margin": null,
            "max_height": null,
            "max_width": null,
            "min_height": null,
            "min_width": null,
            "object_fit": null,
            "object_position": null,
            "order": null,
            "overflow": null,
            "overflow_x": null,
            "overflow_y": null,
            "padding": null,
            "right": null,
            "top": null,
            "visibility": null,
            "width": null
          }
        },
        "657b9ab6c83a40e6bddce4a622028d57": {
          "model_module": "@jupyter-widgets/base",
          "model_name": "LayoutModel",
          "model_module_version": "1.2.0",
          "state": {
            "_model_module": "@jupyter-widgets/base",
            "_model_module_version": "1.2.0",
            "_model_name": "LayoutModel",
            "_view_count": null,
            "_view_module": "@jupyter-widgets/base",
            "_view_module_version": "1.2.0",
            "_view_name": "LayoutView",
            "align_content": null,
            "align_items": null,
            "align_self": null,
            "border": null,
            "bottom": null,
            "display": null,
            "flex": null,
            "flex_flow": null,
            "grid_area": null,
            "grid_auto_columns": null,
            "grid_auto_flow": null,
            "grid_auto_rows": null,
            "grid_column": null,
            "grid_gap": null,
            "grid_row": null,
            "grid_template_areas": null,
            "grid_template_columns": null,
            "grid_template_rows": null,
            "height": null,
            "justify_content": null,
            "justify_items": null,
            "left": null,
            "margin": null,
            "max_height": null,
            "max_width": null,
            "min_height": null,
            "min_width": null,
            "object_fit": null,
            "object_position": null,
            "order": null,
            "overflow": null,
            "overflow_x": null,
            "overflow_y": null,
            "padding": null,
            "right": null,
            "top": null,
            "visibility": null,
            "width": null
          }
        },
        "8adcb0362e5c4cb2bd6aa60498d0c71f": {
          "model_module": "@jupyter-widgets/controls",
          "model_name": "DescriptionStyleModel",
          "model_module_version": "1.5.0",
          "state": {
            "_model_module": "@jupyter-widgets/controls",
            "_model_module_version": "1.5.0",
            "_model_name": "DescriptionStyleModel",
            "_view_count": null,
            "_view_module": "@jupyter-widgets/base",
            "_view_module_version": "1.2.0",
            "_view_name": "StyleView",
            "description_width": ""
          }
        },
        "0177816e16364f15affc9300553a2074": {
          "model_module": "@jupyter-widgets/base",
          "model_name": "LayoutModel",
          "model_module_version": "1.2.0",
          "state": {
            "_model_module": "@jupyter-widgets/base",
            "_model_module_version": "1.2.0",
            "_model_name": "LayoutModel",
            "_view_count": null,
            "_view_module": "@jupyter-widgets/base",
            "_view_module_version": "1.2.0",
            "_view_name": "LayoutView",
            "align_content": null,
            "align_items": null,
            "align_self": null,
            "border": null,
            "bottom": null,
            "display": null,
            "flex": null,
            "flex_flow": null,
            "grid_area": null,
            "grid_auto_columns": null,
            "grid_auto_flow": null,
            "grid_auto_rows": null,
            "grid_column": null,
            "grid_gap": null,
            "grid_row": null,
            "grid_template_areas": null,
            "grid_template_columns": null,
            "grid_template_rows": null,
            "height": null,
            "justify_content": null,
            "justify_items": null,
            "left": null,
            "margin": null,
            "max_height": null,
            "max_width": null,
            "min_height": null,
            "min_width": null,
            "object_fit": null,
            "object_position": null,
            "order": null,
            "overflow": null,
            "overflow_x": null,
            "overflow_y": null,
            "padding": null,
            "right": null,
            "top": null,
            "visibility": null,
            "width": null
          }
        },
        "98e3f8c2b75043538e0ffaad8ba8e4fa": {
          "model_module": "@jupyter-widgets/controls",
          "model_name": "ProgressStyleModel",
          "model_module_version": "1.5.0",
          "state": {
            "_model_module": "@jupyter-widgets/controls",
            "_model_module_version": "1.5.0",
            "_model_name": "ProgressStyleModel",
            "_view_count": null,
            "_view_module": "@jupyter-widgets/base",
            "_view_module_version": "1.2.0",
            "_view_name": "StyleView",
            "bar_color": null,
            "description_width": ""
          }
        },
        "ccbc0a395fe845cf96d26edb4796557d": {
          "model_module": "@jupyter-widgets/controls",
          "model_name": "VBoxModel",
          "model_module_version": "1.5.0",
          "state": {
            "_dom_classes": [],
            "_model_module": "@jupyter-widgets/controls",
            "_model_module_version": "1.5.0",
            "_model_name": "VBoxModel",
            "_view_count": null,
            "_view_module": "@jupyter-widgets/controls",
            "_view_module_version": "1.5.0",
            "_view_name": "VBoxView",
            "box_style": "",
            "children": [
              "IPY_MODEL_c3d3d57c52a2490f852bc039805617d8",
              "IPY_MODEL_1a3075087c634568a6cc5871510f8c7b"
            ],
            "layout": "IPY_MODEL_c144536e13ec4c7fadbfa06c7b7b3981"
          }
        },
        "c3d3d57c52a2490f852bc039805617d8": {
          "model_module": "@jupyter-widgets/controls",
          "model_name": "LabelModel",
          "model_module_version": "1.5.0",
          "state": {
            "_dom_classes": [],
            "_model_module": "@jupyter-widgets/controls",
            "_model_module_version": "1.5.0",
            "_model_name": "LabelModel",
            "_view_count": null,
            "_view_module": "@jupyter-widgets/controls",
            "_view_module_version": "1.5.0",
            "_view_name": "LabelView",
            "description": "",
            "description_tooltip": null,
            "layout": "IPY_MODEL_ebef688a40754a238f0dac2c9a7b69f3",
            "placeholder": "​",
            "style": "IPY_MODEL_32372d7e0f9d4240871a7703283a5dd3",
            "value": "0.009 MB of 0.009 MB uploaded (0.000 MB deduped)\r"
          }
        },
        "1a3075087c634568a6cc5871510f8c7b": {
          "model_module": "@jupyter-widgets/controls",
          "model_name": "FloatProgressModel",
          "model_module_version": "1.5.0",
          "state": {
            "_dom_classes": [],
            "_model_module": "@jupyter-widgets/controls",
            "_model_module_version": "1.5.0",
            "_model_name": "FloatProgressModel",
            "_view_count": null,
            "_view_module": "@jupyter-widgets/controls",
            "_view_module_version": "1.5.0",
            "_view_name": "ProgressView",
            "bar_style": "",
            "description": "",
            "description_tooltip": null,
            "layout": "IPY_MODEL_c5b10e6d39974985bf854be55c4374b5",
            "max": 1,
            "min": 0,
            "orientation": "horizontal",
            "style": "IPY_MODEL_1795052b1dfd4693a5a96701327975bf",
            "value": 1
          }
        },
        "c144536e13ec4c7fadbfa06c7b7b3981": {
          "model_module": "@jupyter-widgets/base",
          "model_name": "LayoutModel",
          "model_module_version": "1.2.0",
          "state": {
            "_model_module": "@jupyter-widgets/base",
            "_model_module_version": "1.2.0",
            "_model_name": "LayoutModel",
            "_view_count": null,
            "_view_module": "@jupyter-widgets/base",
            "_view_module_version": "1.2.0",
            "_view_name": "LayoutView",
            "align_content": null,
            "align_items": null,
            "align_self": null,
            "border": null,
            "bottom": null,
            "display": null,
            "flex": null,
            "flex_flow": null,
            "grid_area": null,
            "grid_auto_columns": null,
            "grid_auto_flow": null,
            "grid_auto_rows": null,
            "grid_column": null,
            "grid_gap": null,
            "grid_row": null,
            "grid_template_areas": null,
            "grid_template_columns": null,
            "grid_template_rows": null,
            "height": null,
            "justify_content": null,
            "justify_items": null,
            "left": null,
            "margin": null,
            "max_height": null,
            "max_width": null,
            "min_height": null,
            "min_width": null,
            "object_fit": null,
            "object_position": null,
            "order": null,
            "overflow": null,
            "overflow_x": null,
            "overflow_y": null,
            "padding": null,
            "right": null,
            "top": null,
            "visibility": null,
            "width": null
          }
        },
        "ebef688a40754a238f0dac2c9a7b69f3": {
          "model_module": "@jupyter-widgets/base",
          "model_name": "LayoutModel",
          "model_module_version": "1.2.0",
          "state": {
            "_model_module": "@jupyter-widgets/base",
            "_model_module_version": "1.2.0",
            "_model_name": "LayoutModel",
            "_view_count": null,
            "_view_module": "@jupyter-widgets/base",
            "_view_module_version": "1.2.0",
            "_view_name": "LayoutView",
            "align_content": null,
            "align_items": null,
            "align_self": null,
            "border": null,
            "bottom": null,
            "display": null,
            "flex": null,
            "flex_flow": null,
            "grid_area": null,
            "grid_auto_columns": null,
            "grid_auto_flow": null,
            "grid_auto_rows": null,
            "grid_column": null,
            "grid_gap": null,
            "grid_row": null,
            "grid_template_areas": null,
            "grid_template_columns": null,
            "grid_template_rows": null,
            "height": null,
            "justify_content": null,
            "justify_items": null,
            "left": null,
            "margin": null,
            "max_height": null,
            "max_width": null,
            "min_height": null,
            "min_width": null,
            "object_fit": null,
            "object_position": null,
            "order": null,
            "overflow": null,
            "overflow_x": null,
            "overflow_y": null,
            "padding": null,
            "right": null,
            "top": null,
            "visibility": null,
            "width": null
          }
        },
        "32372d7e0f9d4240871a7703283a5dd3": {
          "model_module": "@jupyter-widgets/controls",
          "model_name": "DescriptionStyleModel",
          "model_module_version": "1.5.0",
          "state": {
            "_model_module": "@jupyter-widgets/controls",
            "_model_module_version": "1.5.0",
            "_model_name": "DescriptionStyleModel",
            "_view_count": null,
            "_view_module": "@jupyter-widgets/base",
            "_view_module_version": "1.2.0",
            "_view_name": "StyleView",
            "description_width": ""
          }
        },
        "c5b10e6d39974985bf854be55c4374b5": {
          "model_module": "@jupyter-widgets/base",
          "model_name": "LayoutModel",
          "model_module_version": "1.2.0",
          "state": {
            "_model_module": "@jupyter-widgets/base",
            "_model_module_version": "1.2.0",
            "_model_name": "LayoutModel",
            "_view_count": null,
            "_view_module": "@jupyter-widgets/base",
            "_view_module_version": "1.2.0",
            "_view_name": "LayoutView",
            "align_content": null,
            "align_items": null,
            "align_self": null,
            "border": null,
            "bottom": null,
            "display": null,
            "flex": null,
            "flex_flow": null,
            "grid_area": null,
            "grid_auto_columns": null,
            "grid_auto_flow": null,
            "grid_auto_rows": null,
            "grid_column": null,
            "grid_gap": null,
            "grid_row": null,
            "grid_template_areas": null,
            "grid_template_columns": null,
            "grid_template_rows": null,
            "height": null,
            "justify_content": null,
            "justify_items": null,
            "left": null,
            "margin": null,
            "max_height": null,
            "max_width": null,
            "min_height": null,
            "min_width": null,
            "object_fit": null,
            "object_position": null,
            "order": null,
            "overflow": null,
            "overflow_x": null,
            "overflow_y": null,
            "padding": null,
            "right": null,
            "top": null,
            "visibility": null,
            "width": null
          }
        },
        "1795052b1dfd4693a5a96701327975bf": {
          "model_module": "@jupyter-widgets/controls",
          "model_name": "ProgressStyleModel",
          "model_module_version": "1.5.0",
          "state": {
            "_model_module": "@jupyter-widgets/controls",
            "_model_module_version": "1.5.0",
            "_model_name": "ProgressStyleModel",
            "_view_count": null,
            "_view_module": "@jupyter-widgets/base",
            "_view_module_version": "1.2.0",
            "_view_name": "StyleView",
            "bar_color": null,
            "description_width": ""
          }
        },
        "725d90919a7c4498bda168acd1e78ca1": {
          "model_module": "@jupyter-widgets/controls",
          "model_name": "VBoxModel",
          "model_module_version": "1.5.0",
          "state": {
            "_dom_classes": [],
            "_model_module": "@jupyter-widgets/controls",
            "_model_module_version": "1.5.0",
            "_model_name": "VBoxModel",
            "_view_count": null,
            "_view_module": "@jupyter-widgets/controls",
            "_view_module_version": "1.5.0",
            "_view_name": "VBoxView",
            "box_style": "",
            "children": [
              "IPY_MODEL_efa0502e4e5c4f3684a47587d986b3c8",
              "IPY_MODEL_f78ec602e3c347ddb808586bd28d7709"
            ],
            "layout": "IPY_MODEL_8816bb6e61444ad1ac2c6bd2afde6b94"
          }
        },
        "efa0502e4e5c4f3684a47587d986b3c8": {
          "model_module": "@jupyter-widgets/controls",
          "model_name": "LabelModel",
          "model_module_version": "1.5.0",
          "state": {
            "_dom_classes": [],
            "_model_module": "@jupyter-widgets/controls",
            "_model_module_version": "1.5.0",
            "_model_name": "LabelModel",
            "_view_count": null,
            "_view_module": "@jupyter-widgets/controls",
            "_view_module_version": "1.5.0",
            "_view_name": "LabelView",
            "description": "",
            "description_tooltip": null,
            "layout": "IPY_MODEL_ecbe3d4388a64109bef4cc25a2184e69",
            "placeholder": "​",
            "style": "IPY_MODEL_d60bfec8e0dd45128aa82628a3bfd1db",
            "value": "0.009 MB of 0.009 MB uploaded (0.000 MB deduped)\r"
          }
        },
        "f78ec602e3c347ddb808586bd28d7709": {
          "model_module": "@jupyter-widgets/controls",
          "model_name": "FloatProgressModel",
          "model_module_version": "1.5.0",
          "state": {
            "_dom_classes": [],
            "_model_module": "@jupyter-widgets/controls",
            "_model_module_version": "1.5.0",
            "_model_name": "FloatProgressModel",
            "_view_count": null,
            "_view_module": "@jupyter-widgets/controls",
            "_view_module_version": "1.5.0",
            "_view_name": "ProgressView",
            "bar_style": "",
            "description": "",
            "description_tooltip": null,
            "layout": "IPY_MODEL_fd81c0f71c824414a97ab3304ea86c42",
            "max": 1,
            "min": 0,
            "orientation": "horizontal",
            "style": "IPY_MODEL_90f20797d4284f9b9673e9ed7d20ec53",
            "value": 1
          }
        },
        "8816bb6e61444ad1ac2c6bd2afde6b94": {
          "model_module": "@jupyter-widgets/base",
          "model_name": "LayoutModel",
          "model_module_version": "1.2.0",
          "state": {
            "_model_module": "@jupyter-widgets/base",
            "_model_module_version": "1.2.0",
            "_model_name": "LayoutModel",
            "_view_count": null,
            "_view_module": "@jupyter-widgets/base",
            "_view_module_version": "1.2.0",
            "_view_name": "LayoutView",
            "align_content": null,
            "align_items": null,
            "align_self": null,
            "border": null,
            "bottom": null,
            "display": null,
            "flex": null,
            "flex_flow": null,
            "grid_area": null,
            "grid_auto_columns": null,
            "grid_auto_flow": null,
            "grid_auto_rows": null,
            "grid_column": null,
            "grid_gap": null,
            "grid_row": null,
            "grid_template_areas": null,
            "grid_template_columns": null,
            "grid_template_rows": null,
            "height": null,
            "justify_content": null,
            "justify_items": null,
            "left": null,
            "margin": null,
            "max_height": null,
            "max_width": null,
            "min_height": null,
            "min_width": null,
            "object_fit": null,
            "object_position": null,
            "order": null,
            "overflow": null,
            "overflow_x": null,
            "overflow_y": null,
            "padding": null,
            "right": null,
            "top": null,
            "visibility": null,
            "width": null
          }
        },
        "ecbe3d4388a64109bef4cc25a2184e69": {
          "model_module": "@jupyter-widgets/base",
          "model_name": "LayoutModel",
          "model_module_version": "1.2.0",
          "state": {
            "_model_module": "@jupyter-widgets/base",
            "_model_module_version": "1.2.0",
            "_model_name": "LayoutModel",
            "_view_count": null,
            "_view_module": "@jupyter-widgets/base",
            "_view_module_version": "1.2.0",
            "_view_name": "LayoutView",
            "align_content": null,
            "align_items": null,
            "align_self": null,
            "border": null,
            "bottom": null,
            "display": null,
            "flex": null,
            "flex_flow": null,
            "grid_area": null,
            "grid_auto_columns": null,
            "grid_auto_flow": null,
            "grid_auto_rows": null,
            "grid_column": null,
            "grid_gap": null,
            "grid_row": null,
            "grid_template_areas": null,
            "grid_template_columns": null,
            "grid_template_rows": null,
            "height": null,
            "justify_content": null,
            "justify_items": null,
            "left": null,
            "margin": null,
            "max_height": null,
            "max_width": null,
            "min_height": null,
            "min_width": null,
            "object_fit": null,
            "object_position": null,
            "order": null,
            "overflow": null,
            "overflow_x": null,
            "overflow_y": null,
            "padding": null,
            "right": null,
            "top": null,
            "visibility": null,
            "width": null
          }
        },
        "d60bfec8e0dd45128aa82628a3bfd1db": {
          "model_module": "@jupyter-widgets/controls",
          "model_name": "DescriptionStyleModel",
          "model_module_version": "1.5.0",
          "state": {
            "_model_module": "@jupyter-widgets/controls",
            "_model_module_version": "1.5.0",
            "_model_name": "DescriptionStyleModel",
            "_view_count": null,
            "_view_module": "@jupyter-widgets/base",
            "_view_module_version": "1.2.0",
            "_view_name": "StyleView",
            "description_width": ""
          }
        },
        "fd81c0f71c824414a97ab3304ea86c42": {
          "model_module": "@jupyter-widgets/base",
          "model_name": "LayoutModel",
          "model_module_version": "1.2.0",
          "state": {
            "_model_module": "@jupyter-widgets/base",
            "_model_module_version": "1.2.0",
            "_model_name": "LayoutModel",
            "_view_count": null,
            "_view_module": "@jupyter-widgets/base",
            "_view_module_version": "1.2.0",
            "_view_name": "LayoutView",
            "align_content": null,
            "align_items": null,
            "align_self": null,
            "border": null,
            "bottom": null,
            "display": null,
            "flex": null,
            "flex_flow": null,
            "grid_area": null,
            "grid_auto_columns": null,
            "grid_auto_flow": null,
            "grid_auto_rows": null,
            "grid_column": null,
            "grid_gap": null,
            "grid_row": null,
            "grid_template_areas": null,
            "grid_template_columns": null,
            "grid_template_rows": null,
            "height": null,
            "justify_content": null,
            "justify_items": null,
            "left": null,
            "margin": null,
            "max_height": null,
            "max_width": null,
            "min_height": null,
            "min_width": null,
            "object_fit": null,
            "object_position": null,
            "order": null,
            "overflow": null,
            "overflow_x": null,
            "overflow_y": null,
            "padding": null,
            "right": null,
            "top": null,
            "visibility": null,
            "width": null
          }
        },
        "90f20797d4284f9b9673e9ed7d20ec53": {
          "model_module": "@jupyter-widgets/controls",
          "model_name": "ProgressStyleModel",
          "model_module_version": "1.5.0",
          "state": {
            "_model_module": "@jupyter-widgets/controls",
            "_model_module_version": "1.5.0",
            "_model_name": "ProgressStyleModel",
            "_view_count": null,
            "_view_module": "@jupyter-widgets/base",
            "_view_module_version": "1.2.0",
            "_view_name": "StyleView",
            "bar_color": null,
            "description_width": ""
          }
        },
        "d3e7851ac74e4fab8c85a33b1a136bf3": {
          "model_module": "@jupyter-widgets/controls",
          "model_name": "VBoxModel",
          "model_module_version": "1.5.0",
          "state": {
            "_dom_classes": [],
            "_model_module": "@jupyter-widgets/controls",
            "_model_module_version": "1.5.0",
            "_model_name": "VBoxModel",
            "_view_count": null,
            "_view_module": "@jupyter-widgets/controls",
            "_view_module_version": "1.5.0",
            "_view_name": "VBoxView",
            "box_style": "",
            "children": [
              "IPY_MODEL_46084ecd604540a0857aacdfb67d3485",
              "IPY_MODEL_45c66779801d48818e456df3b20d7bbb"
            ],
            "layout": "IPY_MODEL_97866330d3934fe983ef3ae26b946da1"
          }
        },
        "46084ecd604540a0857aacdfb67d3485": {
          "model_module": "@jupyter-widgets/controls",
          "model_name": "LabelModel",
          "model_module_version": "1.5.0",
          "state": {
            "_dom_classes": [],
            "_model_module": "@jupyter-widgets/controls",
            "_model_module_version": "1.5.0",
            "_model_name": "LabelModel",
            "_view_count": null,
            "_view_module": "@jupyter-widgets/controls",
            "_view_module_version": "1.5.0",
            "_view_name": "LabelView",
            "description": "",
            "description_tooltip": null,
            "layout": "IPY_MODEL_7cf302b4198f43ce97c529313e1eac0e",
            "placeholder": "​",
            "style": "IPY_MODEL_182d5dd871f040a88ee4f3d46664fd27",
            "value": "0.009 MB of 0.009 MB uploaded (0.000 MB deduped)\r"
          }
        },
        "45c66779801d48818e456df3b20d7bbb": {
          "model_module": "@jupyter-widgets/controls",
          "model_name": "FloatProgressModel",
          "model_module_version": "1.5.0",
          "state": {
            "_dom_classes": [],
            "_model_module": "@jupyter-widgets/controls",
            "_model_module_version": "1.5.0",
            "_model_name": "FloatProgressModel",
            "_view_count": null,
            "_view_module": "@jupyter-widgets/controls",
            "_view_module_version": "1.5.0",
            "_view_name": "ProgressView",
            "bar_style": "",
            "description": "",
            "description_tooltip": null,
            "layout": "IPY_MODEL_24c4a4d1310d4bfab19313d104f13476",
            "max": 1,
            "min": 0,
            "orientation": "horizontal",
            "style": "IPY_MODEL_0a1bd74204524322a0b3d9c28be544dc",
            "value": 1
          }
        },
        "97866330d3934fe983ef3ae26b946da1": {
          "model_module": "@jupyter-widgets/base",
          "model_name": "LayoutModel",
          "model_module_version": "1.2.0",
          "state": {
            "_model_module": "@jupyter-widgets/base",
            "_model_module_version": "1.2.0",
            "_model_name": "LayoutModel",
            "_view_count": null,
            "_view_module": "@jupyter-widgets/base",
            "_view_module_version": "1.2.0",
            "_view_name": "LayoutView",
            "align_content": null,
            "align_items": null,
            "align_self": null,
            "border": null,
            "bottom": null,
            "display": null,
            "flex": null,
            "flex_flow": null,
            "grid_area": null,
            "grid_auto_columns": null,
            "grid_auto_flow": null,
            "grid_auto_rows": null,
            "grid_column": null,
            "grid_gap": null,
            "grid_row": null,
            "grid_template_areas": null,
            "grid_template_columns": null,
            "grid_template_rows": null,
            "height": null,
            "justify_content": null,
            "justify_items": null,
            "left": null,
            "margin": null,
            "max_height": null,
            "max_width": null,
            "min_height": null,
            "min_width": null,
            "object_fit": null,
            "object_position": null,
            "order": null,
            "overflow": null,
            "overflow_x": null,
            "overflow_y": null,
            "padding": null,
            "right": null,
            "top": null,
            "visibility": null,
            "width": null
          }
        },
        "7cf302b4198f43ce97c529313e1eac0e": {
          "model_module": "@jupyter-widgets/base",
          "model_name": "LayoutModel",
          "model_module_version": "1.2.0",
          "state": {
            "_model_module": "@jupyter-widgets/base",
            "_model_module_version": "1.2.0",
            "_model_name": "LayoutModel",
            "_view_count": null,
            "_view_module": "@jupyter-widgets/base",
            "_view_module_version": "1.2.0",
            "_view_name": "LayoutView",
            "align_content": null,
            "align_items": null,
            "align_self": null,
            "border": null,
            "bottom": null,
            "display": null,
            "flex": null,
            "flex_flow": null,
            "grid_area": null,
            "grid_auto_columns": null,
            "grid_auto_flow": null,
            "grid_auto_rows": null,
            "grid_column": null,
            "grid_gap": null,
            "grid_row": null,
            "grid_template_areas": null,
            "grid_template_columns": null,
            "grid_template_rows": null,
            "height": null,
            "justify_content": null,
            "justify_items": null,
            "left": null,
            "margin": null,
            "max_height": null,
            "max_width": null,
            "min_height": null,
            "min_width": null,
            "object_fit": null,
            "object_position": null,
            "order": null,
            "overflow": null,
            "overflow_x": null,
            "overflow_y": null,
            "padding": null,
            "right": null,
            "top": null,
            "visibility": null,
            "width": null
          }
        },
        "182d5dd871f040a88ee4f3d46664fd27": {
          "model_module": "@jupyter-widgets/controls",
          "model_name": "DescriptionStyleModel",
          "model_module_version": "1.5.0",
          "state": {
            "_model_module": "@jupyter-widgets/controls",
            "_model_module_version": "1.5.0",
            "_model_name": "DescriptionStyleModel",
            "_view_count": null,
            "_view_module": "@jupyter-widgets/base",
            "_view_module_version": "1.2.0",
            "_view_name": "StyleView",
            "description_width": ""
          }
        },
        "24c4a4d1310d4bfab19313d104f13476": {
          "model_module": "@jupyter-widgets/base",
          "model_name": "LayoutModel",
          "model_module_version": "1.2.0",
          "state": {
            "_model_module": "@jupyter-widgets/base",
            "_model_module_version": "1.2.0",
            "_model_name": "LayoutModel",
            "_view_count": null,
            "_view_module": "@jupyter-widgets/base",
            "_view_module_version": "1.2.0",
            "_view_name": "LayoutView",
            "align_content": null,
            "align_items": null,
            "align_self": null,
            "border": null,
            "bottom": null,
            "display": null,
            "flex": null,
            "flex_flow": null,
            "grid_area": null,
            "grid_auto_columns": null,
            "grid_auto_flow": null,
            "grid_auto_rows": null,
            "grid_column": null,
            "grid_gap": null,
            "grid_row": null,
            "grid_template_areas": null,
            "grid_template_columns": null,
            "grid_template_rows": null,
            "height": null,
            "justify_content": null,
            "justify_items": null,
            "left": null,
            "margin": null,
            "max_height": null,
            "max_width": null,
            "min_height": null,
            "min_width": null,
            "object_fit": null,
            "object_position": null,
            "order": null,
            "overflow": null,
            "overflow_x": null,
            "overflow_y": null,
            "padding": null,
            "right": null,
            "top": null,
            "visibility": null,
            "width": null
          }
        },
        "0a1bd74204524322a0b3d9c28be544dc": {
          "model_module": "@jupyter-widgets/controls",
          "model_name": "ProgressStyleModel",
          "model_module_version": "1.5.0",
          "state": {
            "_model_module": "@jupyter-widgets/controls",
            "_model_module_version": "1.5.0",
            "_model_name": "ProgressStyleModel",
            "_view_count": null,
            "_view_module": "@jupyter-widgets/base",
            "_view_module_version": "1.2.0",
            "_view_name": "StyleView",
            "bar_color": null,
            "description_width": ""
          }
        },
        "9b45837280e04f2c9a9759f970ad38a5": {
          "model_module": "@jupyter-widgets/controls",
          "model_name": "VBoxModel",
          "model_module_version": "1.5.0",
          "state": {
            "_dom_classes": [],
            "_model_module": "@jupyter-widgets/controls",
            "_model_module_version": "1.5.0",
            "_model_name": "VBoxModel",
            "_view_count": null,
            "_view_module": "@jupyter-widgets/controls",
            "_view_module_version": "1.5.0",
            "_view_name": "VBoxView",
            "box_style": "",
            "children": [
              "IPY_MODEL_564df4fb2c0a469c8042ef8bf5f3f575",
              "IPY_MODEL_5e90e45073dd48ebb3dc681d0fbccad0"
            ],
            "layout": "IPY_MODEL_117fb856430e40e8b7d445d71ddc8f3f"
          }
        },
        "564df4fb2c0a469c8042ef8bf5f3f575": {
          "model_module": "@jupyter-widgets/controls",
          "model_name": "LabelModel",
          "model_module_version": "1.5.0",
          "state": {
            "_dom_classes": [],
            "_model_module": "@jupyter-widgets/controls",
            "_model_module_version": "1.5.0",
            "_model_name": "LabelModel",
            "_view_count": null,
            "_view_module": "@jupyter-widgets/controls",
            "_view_module_version": "1.5.0",
            "_view_name": "LabelView",
            "description": "",
            "description_tooltip": null,
            "layout": "IPY_MODEL_21d72a0930f445dc94ec89ba617144ec",
            "placeholder": "​",
            "style": "IPY_MODEL_1f325f7f988340408567b15a9fa1733d",
            "value": "0.009 MB of 0.009 MB uploaded (0.000 MB deduped)\r"
          }
        },
        "5e90e45073dd48ebb3dc681d0fbccad0": {
          "model_module": "@jupyter-widgets/controls",
          "model_name": "FloatProgressModel",
          "model_module_version": "1.5.0",
          "state": {
            "_dom_classes": [],
            "_model_module": "@jupyter-widgets/controls",
            "_model_module_version": "1.5.0",
            "_model_name": "FloatProgressModel",
            "_view_count": null,
            "_view_module": "@jupyter-widgets/controls",
            "_view_module_version": "1.5.0",
            "_view_name": "ProgressView",
            "bar_style": "",
            "description": "",
            "description_tooltip": null,
            "layout": "IPY_MODEL_79c9b0ea1ff24e6c906b476c9813a406",
            "max": 1,
            "min": 0,
            "orientation": "horizontal",
            "style": "IPY_MODEL_b6bfed89855742d998cd4ce582653465",
            "value": 1
          }
        },
        "117fb856430e40e8b7d445d71ddc8f3f": {
          "model_module": "@jupyter-widgets/base",
          "model_name": "LayoutModel",
          "model_module_version": "1.2.0",
          "state": {
            "_model_module": "@jupyter-widgets/base",
            "_model_module_version": "1.2.0",
            "_model_name": "LayoutModel",
            "_view_count": null,
            "_view_module": "@jupyter-widgets/base",
            "_view_module_version": "1.2.0",
            "_view_name": "LayoutView",
            "align_content": null,
            "align_items": null,
            "align_self": null,
            "border": null,
            "bottom": null,
            "display": null,
            "flex": null,
            "flex_flow": null,
            "grid_area": null,
            "grid_auto_columns": null,
            "grid_auto_flow": null,
            "grid_auto_rows": null,
            "grid_column": null,
            "grid_gap": null,
            "grid_row": null,
            "grid_template_areas": null,
            "grid_template_columns": null,
            "grid_template_rows": null,
            "height": null,
            "justify_content": null,
            "justify_items": null,
            "left": null,
            "margin": null,
            "max_height": null,
            "max_width": null,
            "min_height": null,
            "min_width": null,
            "object_fit": null,
            "object_position": null,
            "order": null,
            "overflow": null,
            "overflow_x": null,
            "overflow_y": null,
            "padding": null,
            "right": null,
            "top": null,
            "visibility": null,
            "width": null
          }
        },
        "21d72a0930f445dc94ec89ba617144ec": {
          "model_module": "@jupyter-widgets/base",
          "model_name": "LayoutModel",
          "model_module_version": "1.2.0",
          "state": {
            "_model_module": "@jupyter-widgets/base",
            "_model_module_version": "1.2.0",
            "_model_name": "LayoutModel",
            "_view_count": null,
            "_view_module": "@jupyter-widgets/base",
            "_view_module_version": "1.2.0",
            "_view_name": "LayoutView",
            "align_content": null,
            "align_items": null,
            "align_self": null,
            "border": null,
            "bottom": null,
            "display": null,
            "flex": null,
            "flex_flow": null,
            "grid_area": null,
            "grid_auto_columns": null,
            "grid_auto_flow": null,
            "grid_auto_rows": null,
            "grid_column": null,
            "grid_gap": null,
            "grid_row": null,
            "grid_template_areas": null,
            "grid_template_columns": null,
            "grid_template_rows": null,
            "height": null,
            "justify_content": null,
            "justify_items": null,
            "left": null,
            "margin": null,
            "max_height": null,
            "max_width": null,
            "min_height": null,
            "min_width": null,
            "object_fit": null,
            "object_position": null,
            "order": null,
            "overflow": null,
            "overflow_x": null,
            "overflow_y": null,
            "padding": null,
            "right": null,
            "top": null,
            "visibility": null,
            "width": null
          }
        },
        "1f325f7f988340408567b15a9fa1733d": {
          "model_module": "@jupyter-widgets/controls",
          "model_name": "DescriptionStyleModel",
          "model_module_version": "1.5.0",
          "state": {
            "_model_module": "@jupyter-widgets/controls",
            "_model_module_version": "1.5.0",
            "_model_name": "DescriptionStyleModel",
            "_view_count": null,
            "_view_module": "@jupyter-widgets/base",
            "_view_module_version": "1.2.0",
            "_view_name": "StyleView",
            "description_width": ""
          }
        },
        "79c9b0ea1ff24e6c906b476c9813a406": {
          "model_module": "@jupyter-widgets/base",
          "model_name": "LayoutModel",
          "model_module_version": "1.2.0",
          "state": {
            "_model_module": "@jupyter-widgets/base",
            "_model_module_version": "1.2.0",
            "_model_name": "LayoutModel",
            "_view_count": null,
            "_view_module": "@jupyter-widgets/base",
            "_view_module_version": "1.2.0",
            "_view_name": "LayoutView",
            "align_content": null,
            "align_items": null,
            "align_self": null,
            "border": null,
            "bottom": null,
            "display": null,
            "flex": null,
            "flex_flow": null,
            "grid_area": null,
            "grid_auto_columns": null,
            "grid_auto_flow": null,
            "grid_auto_rows": null,
            "grid_column": null,
            "grid_gap": null,
            "grid_row": null,
            "grid_template_areas": null,
            "grid_template_columns": null,
            "grid_template_rows": null,
            "height": null,
            "justify_content": null,
            "justify_items": null,
            "left": null,
            "margin": null,
            "max_height": null,
            "max_width": null,
            "min_height": null,
            "min_width": null,
            "object_fit": null,
            "object_position": null,
            "order": null,
            "overflow": null,
            "overflow_x": null,
            "overflow_y": null,
            "padding": null,
            "right": null,
            "top": null,
            "visibility": null,
            "width": null
          }
        },
        "b6bfed89855742d998cd4ce582653465": {
          "model_module": "@jupyter-widgets/controls",
          "model_name": "ProgressStyleModel",
          "model_module_version": "1.5.0",
          "state": {
            "_model_module": "@jupyter-widgets/controls",
            "_model_module_version": "1.5.0",
            "_model_name": "ProgressStyleModel",
            "_view_count": null,
            "_view_module": "@jupyter-widgets/base",
            "_view_module_version": "1.2.0",
            "_view_name": "StyleView",
            "bar_color": null,
            "description_width": ""
          }
        },
        "eb1417596320417a9f2ee8ad24110a52": {
          "model_module": "@jupyter-widgets/controls",
          "model_name": "VBoxModel",
          "model_module_version": "1.5.0",
          "state": {
            "_dom_classes": [],
            "_model_module": "@jupyter-widgets/controls",
            "_model_module_version": "1.5.0",
            "_model_name": "VBoxModel",
            "_view_count": null,
            "_view_module": "@jupyter-widgets/controls",
            "_view_module_version": "1.5.0",
            "_view_name": "VBoxView",
            "box_style": "",
            "children": [
              "IPY_MODEL_ae2cf158c479468e969bae14772d6b23",
              "IPY_MODEL_51255bd8ecfa4791b9a700d1d223a73a"
            ],
            "layout": "IPY_MODEL_b942a57c30e64a958d884385a82c5d4d"
          }
        },
        "ae2cf158c479468e969bae14772d6b23": {
          "model_module": "@jupyter-widgets/controls",
          "model_name": "LabelModel",
          "model_module_version": "1.5.0",
          "state": {
            "_dom_classes": [],
            "_model_module": "@jupyter-widgets/controls",
            "_model_module_version": "1.5.0",
            "_model_name": "LabelModel",
            "_view_count": null,
            "_view_module": "@jupyter-widgets/controls",
            "_view_module_version": "1.5.0",
            "_view_name": "LabelView",
            "description": "",
            "description_tooltip": null,
            "layout": "IPY_MODEL_915d62033b63407db36ef606e13cf995",
            "placeholder": "​",
            "style": "IPY_MODEL_656cf5bc15b94acc877585643ab34711",
            "value": "0.009 MB of 0.009 MB uploaded (0.000 MB deduped)\r"
          }
        },
        "51255bd8ecfa4791b9a700d1d223a73a": {
          "model_module": "@jupyter-widgets/controls",
          "model_name": "FloatProgressModel",
          "model_module_version": "1.5.0",
          "state": {
            "_dom_classes": [],
            "_model_module": "@jupyter-widgets/controls",
            "_model_module_version": "1.5.0",
            "_model_name": "FloatProgressModel",
            "_view_count": null,
            "_view_module": "@jupyter-widgets/controls",
            "_view_module_version": "1.5.0",
            "_view_name": "ProgressView",
            "bar_style": "",
            "description": "",
            "description_tooltip": null,
            "layout": "IPY_MODEL_6b10785b7ea243b889e29d51f5160da8",
            "max": 1,
            "min": 0,
            "orientation": "horizontal",
            "style": "IPY_MODEL_3ef6e329294b4feaaaf8d3182cb3738c",
            "value": 1
          }
        },
        "b942a57c30e64a958d884385a82c5d4d": {
          "model_module": "@jupyter-widgets/base",
          "model_name": "LayoutModel",
          "model_module_version": "1.2.0",
          "state": {
            "_model_module": "@jupyter-widgets/base",
            "_model_module_version": "1.2.0",
            "_model_name": "LayoutModel",
            "_view_count": null,
            "_view_module": "@jupyter-widgets/base",
            "_view_module_version": "1.2.0",
            "_view_name": "LayoutView",
            "align_content": null,
            "align_items": null,
            "align_self": null,
            "border": null,
            "bottom": null,
            "display": null,
            "flex": null,
            "flex_flow": null,
            "grid_area": null,
            "grid_auto_columns": null,
            "grid_auto_flow": null,
            "grid_auto_rows": null,
            "grid_column": null,
            "grid_gap": null,
            "grid_row": null,
            "grid_template_areas": null,
            "grid_template_columns": null,
            "grid_template_rows": null,
            "height": null,
            "justify_content": null,
            "justify_items": null,
            "left": null,
            "margin": null,
            "max_height": null,
            "max_width": null,
            "min_height": null,
            "min_width": null,
            "object_fit": null,
            "object_position": null,
            "order": null,
            "overflow": null,
            "overflow_x": null,
            "overflow_y": null,
            "padding": null,
            "right": null,
            "top": null,
            "visibility": null,
            "width": null
          }
        },
        "915d62033b63407db36ef606e13cf995": {
          "model_module": "@jupyter-widgets/base",
          "model_name": "LayoutModel",
          "model_module_version": "1.2.0",
          "state": {
            "_model_module": "@jupyter-widgets/base",
            "_model_module_version": "1.2.0",
            "_model_name": "LayoutModel",
            "_view_count": null,
            "_view_module": "@jupyter-widgets/base",
            "_view_module_version": "1.2.0",
            "_view_name": "LayoutView",
            "align_content": null,
            "align_items": null,
            "align_self": null,
            "border": null,
            "bottom": null,
            "display": null,
            "flex": null,
            "flex_flow": null,
            "grid_area": null,
            "grid_auto_columns": null,
            "grid_auto_flow": null,
            "grid_auto_rows": null,
            "grid_column": null,
            "grid_gap": null,
            "grid_row": null,
            "grid_template_areas": null,
            "grid_template_columns": null,
            "grid_template_rows": null,
            "height": null,
            "justify_content": null,
            "justify_items": null,
            "left": null,
            "margin": null,
            "max_height": null,
            "max_width": null,
            "min_height": null,
            "min_width": null,
            "object_fit": null,
            "object_position": null,
            "order": null,
            "overflow": null,
            "overflow_x": null,
            "overflow_y": null,
            "padding": null,
            "right": null,
            "top": null,
            "visibility": null,
            "width": null
          }
        },
        "656cf5bc15b94acc877585643ab34711": {
          "model_module": "@jupyter-widgets/controls",
          "model_name": "DescriptionStyleModel",
          "model_module_version": "1.5.0",
          "state": {
            "_model_module": "@jupyter-widgets/controls",
            "_model_module_version": "1.5.0",
            "_model_name": "DescriptionStyleModel",
            "_view_count": null,
            "_view_module": "@jupyter-widgets/base",
            "_view_module_version": "1.2.0",
            "_view_name": "StyleView",
            "description_width": ""
          }
        },
        "6b10785b7ea243b889e29d51f5160da8": {
          "model_module": "@jupyter-widgets/base",
          "model_name": "LayoutModel",
          "model_module_version": "1.2.0",
          "state": {
            "_model_module": "@jupyter-widgets/base",
            "_model_module_version": "1.2.0",
            "_model_name": "LayoutModel",
            "_view_count": null,
            "_view_module": "@jupyter-widgets/base",
            "_view_module_version": "1.2.0",
            "_view_name": "LayoutView",
            "align_content": null,
            "align_items": null,
            "align_self": null,
            "border": null,
            "bottom": null,
            "display": null,
            "flex": null,
            "flex_flow": null,
            "grid_area": null,
            "grid_auto_columns": null,
            "grid_auto_flow": null,
            "grid_auto_rows": null,
            "grid_column": null,
            "grid_gap": null,
            "grid_row": null,
            "grid_template_areas": null,
            "grid_template_columns": null,
            "grid_template_rows": null,
            "height": null,
            "justify_content": null,
            "justify_items": null,
            "left": null,
            "margin": null,
            "max_height": null,
            "max_width": null,
            "min_height": null,
            "min_width": null,
            "object_fit": null,
            "object_position": null,
            "order": null,
            "overflow": null,
            "overflow_x": null,
            "overflow_y": null,
            "padding": null,
            "right": null,
            "top": null,
            "visibility": null,
            "width": null
          }
        },
        "3ef6e329294b4feaaaf8d3182cb3738c": {
          "model_module": "@jupyter-widgets/controls",
          "model_name": "ProgressStyleModel",
          "model_module_version": "1.5.0",
          "state": {
            "_model_module": "@jupyter-widgets/controls",
            "_model_module_version": "1.5.0",
            "_model_name": "ProgressStyleModel",
            "_view_count": null,
            "_view_module": "@jupyter-widgets/base",
            "_view_module_version": "1.2.0",
            "_view_name": "StyleView",
            "bar_color": null,
            "description_width": ""
          }
        },
        "8d400d8ea941474fa7668f4de5bd844b": {
          "model_module": "@jupyter-widgets/controls",
          "model_name": "VBoxModel",
          "model_module_version": "1.5.0",
          "state": {
            "_dom_classes": [],
            "_model_module": "@jupyter-widgets/controls",
            "_model_module_version": "1.5.0",
            "_model_name": "VBoxModel",
            "_view_count": null,
            "_view_module": "@jupyter-widgets/controls",
            "_view_module_version": "1.5.0",
            "_view_name": "VBoxView",
            "box_style": "",
            "children": [
              "IPY_MODEL_23102f7a23ae41a0b9aba8d5c54c0429",
              "IPY_MODEL_f082dd29b25e4684acd4c360651b51c1"
            ],
            "layout": "IPY_MODEL_2d206c3171ed40418c222b2c30df0ab4"
          }
        },
        "23102f7a23ae41a0b9aba8d5c54c0429": {
          "model_module": "@jupyter-widgets/controls",
          "model_name": "LabelModel",
          "model_module_version": "1.5.0",
          "state": {
            "_dom_classes": [],
            "_model_module": "@jupyter-widgets/controls",
            "_model_module_version": "1.5.0",
            "_model_name": "LabelModel",
            "_view_count": null,
            "_view_module": "@jupyter-widgets/controls",
            "_view_module_version": "1.5.0",
            "_view_name": "LabelView",
            "description": "",
            "description_tooltip": null,
            "layout": "IPY_MODEL_dac07eb983aa42c088b0826d2c3b3dc4",
            "placeholder": "​",
            "style": "IPY_MODEL_d33167cc581e485b8bd7e408ad0345ee",
            "value": "0.009 MB of 0.009 MB uploaded (0.000 MB deduped)\r"
          }
        },
        "f082dd29b25e4684acd4c360651b51c1": {
          "model_module": "@jupyter-widgets/controls",
          "model_name": "FloatProgressModel",
          "model_module_version": "1.5.0",
          "state": {
            "_dom_classes": [],
            "_model_module": "@jupyter-widgets/controls",
            "_model_module_version": "1.5.0",
            "_model_name": "FloatProgressModel",
            "_view_count": null,
            "_view_module": "@jupyter-widgets/controls",
            "_view_module_version": "1.5.0",
            "_view_name": "ProgressView",
            "bar_style": "",
            "description": "",
            "description_tooltip": null,
            "layout": "IPY_MODEL_9489ca9e127e4b779ae605799564e12c",
            "max": 1,
            "min": 0,
            "orientation": "horizontal",
            "style": "IPY_MODEL_7e50d6a04a264af68e57e914afacc831",
            "value": 1
          }
        },
        "2d206c3171ed40418c222b2c30df0ab4": {
          "model_module": "@jupyter-widgets/base",
          "model_name": "LayoutModel",
          "model_module_version": "1.2.0",
          "state": {
            "_model_module": "@jupyter-widgets/base",
            "_model_module_version": "1.2.0",
            "_model_name": "LayoutModel",
            "_view_count": null,
            "_view_module": "@jupyter-widgets/base",
            "_view_module_version": "1.2.0",
            "_view_name": "LayoutView",
            "align_content": null,
            "align_items": null,
            "align_self": null,
            "border": null,
            "bottom": null,
            "display": null,
            "flex": null,
            "flex_flow": null,
            "grid_area": null,
            "grid_auto_columns": null,
            "grid_auto_flow": null,
            "grid_auto_rows": null,
            "grid_column": null,
            "grid_gap": null,
            "grid_row": null,
            "grid_template_areas": null,
            "grid_template_columns": null,
            "grid_template_rows": null,
            "height": null,
            "justify_content": null,
            "justify_items": null,
            "left": null,
            "margin": null,
            "max_height": null,
            "max_width": null,
            "min_height": null,
            "min_width": null,
            "object_fit": null,
            "object_position": null,
            "order": null,
            "overflow": null,
            "overflow_x": null,
            "overflow_y": null,
            "padding": null,
            "right": null,
            "top": null,
            "visibility": null,
            "width": null
          }
        },
        "dac07eb983aa42c088b0826d2c3b3dc4": {
          "model_module": "@jupyter-widgets/base",
          "model_name": "LayoutModel",
          "model_module_version": "1.2.0",
          "state": {
            "_model_module": "@jupyter-widgets/base",
            "_model_module_version": "1.2.0",
            "_model_name": "LayoutModel",
            "_view_count": null,
            "_view_module": "@jupyter-widgets/base",
            "_view_module_version": "1.2.0",
            "_view_name": "LayoutView",
            "align_content": null,
            "align_items": null,
            "align_self": null,
            "border": null,
            "bottom": null,
            "display": null,
            "flex": null,
            "flex_flow": null,
            "grid_area": null,
            "grid_auto_columns": null,
            "grid_auto_flow": null,
            "grid_auto_rows": null,
            "grid_column": null,
            "grid_gap": null,
            "grid_row": null,
            "grid_template_areas": null,
            "grid_template_columns": null,
            "grid_template_rows": null,
            "height": null,
            "justify_content": null,
            "justify_items": null,
            "left": null,
            "margin": null,
            "max_height": null,
            "max_width": null,
            "min_height": null,
            "min_width": null,
            "object_fit": null,
            "object_position": null,
            "order": null,
            "overflow": null,
            "overflow_x": null,
            "overflow_y": null,
            "padding": null,
            "right": null,
            "top": null,
            "visibility": null,
            "width": null
          }
        },
        "d33167cc581e485b8bd7e408ad0345ee": {
          "model_module": "@jupyter-widgets/controls",
          "model_name": "DescriptionStyleModel",
          "model_module_version": "1.5.0",
          "state": {
            "_model_module": "@jupyter-widgets/controls",
            "_model_module_version": "1.5.0",
            "_model_name": "DescriptionStyleModel",
            "_view_count": null,
            "_view_module": "@jupyter-widgets/base",
            "_view_module_version": "1.2.0",
            "_view_name": "StyleView",
            "description_width": ""
          }
        },
        "9489ca9e127e4b779ae605799564e12c": {
          "model_module": "@jupyter-widgets/base",
          "model_name": "LayoutModel",
          "model_module_version": "1.2.0",
          "state": {
            "_model_module": "@jupyter-widgets/base",
            "_model_module_version": "1.2.0",
            "_model_name": "LayoutModel",
            "_view_count": null,
            "_view_module": "@jupyter-widgets/base",
            "_view_module_version": "1.2.0",
            "_view_name": "LayoutView",
            "align_content": null,
            "align_items": null,
            "align_self": null,
            "border": null,
            "bottom": null,
            "display": null,
            "flex": null,
            "flex_flow": null,
            "grid_area": null,
            "grid_auto_columns": null,
            "grid_auto_flow": null,
            "grid_auto_rows": null,
            "grid_column": null,
            "grid_gap": null,
            "grid_row": null,
            "grid_template_areas": null,
            "grid_template_columns": null,
            "grid_template_rows": null,
            "height": null,
            "justify_content": null,
            "justify_items": null,
            "left": null,
            "margin": null,
            "max_height": null,
            "max_width": null,
            "min_height": null,
            "min_width": null,
            "object_fit": null,
            "object_position": null,
            "order": null,
            "overflow": null,
            "overflow_x": null,
            "overflow_y": null,
            "padding": null,
            "right": null,
            "top": null,
            "visibility": null,
            "width": null
          }
        },
        "7e50d6a04a264af68e57e914afacc831": {
          "model_module": "@jupyter-widgets/controls",
          "model_name": "ProgressStyleModel",
          "model_module_version": "1.5.0",
          "state": {
            "_model_module": "@jupyter-widgets/controls",
            "_model_module_version": "1.5.0",
            "_model_name": "ProgressStyleModel",
            "_view_count": null,
            "_view_module": "@jupyter-widgets/base",
            "_view_module_version": "1.2.0",
            "_view_name": "StyleView",
            "bar_color": null,
            "description_width": ""
          }
        },
        "4df0a60b5efb4f019ce3d8d4372a3020": {
          "model_module": "@jupyter-widgets/controls",
          "model_name": "VBoxModel",
          "model_module_version": "1.5.0",
          "state": {
            "_dom_classes": [],
            "_model_module": "@jupyter-widgets/controls",
            "_model_module_version": "1.5.0",
            "_model_name": "VBoxModel",
            "_view_count": null,
            "_view_module": "@jupyter-widgets/controls",
            "_view_module_version": "1.5.0",
            "_view_name": "VBoxView",
            "box_style": "",
            "children": [
              "IPY_MODEL_cb61c35832e4498db2f9140e8ad79f91",
              "IPY_MODEL_b3aa66bac7ee45d8b71a9d8c5df9c879"
            ],
            "layout": "IPY_MODEL_f794de24d9c64b73ab50ba1e527e8cdc"
          }
        },
        "cb61c35832e4498db2f9140e8ad79f91": {
          "model_module": "@jupyter-widgets/controls",
          "model_name": "LabelModel",
          "model_module_version": "1.5.0",
          "state": {
            "_dom_classes": [],
            "_model_module": "@jupyter-widgets/controls",
            "_model_module_version": "1.5.0",
            "_model_name": "LabelModel",
            "_view_count": null,
            "_view_module": "@jupyter-widgets/controls",
            "_view_module_version": "1.5.0",
            "_view_name": "LabelView",
            "description": "",
            "description_tooltip": null,
            "layout": "IPY_MODEL_ad862e1032a44b3abad08195958421b6",
            "placeholder": "​",
            "style": "IPY_MODEL_1c1f96c63128443bbca9cb60faf2f61e",
            "value": "0.009 MB of 0.009 MB uploaded (0.000 MB deduped)\r"
          }
        },
        "b3aa66bac7ee45d8b71a9d8c5df9c879": {
          "model_module": "@jupyter-widgets/controls",
          "model_name": "FloatProgressModel",
          "model_module_version": "1.5.0",
          "state": {
            "_dom_classes": [],
            "_model_module": "@jupyter-widgets/controls",
            "_model_module_version": "1.5.0",
            "_model_name": "FloatProgressModel",
            "_view_count": null,
            "_view_module": "@jupyter-widgets/controls",
            "_view_module_version": "1.5.0",
            "_view_name": "ProgressView",
            "bar_style": "",
            "description": "",
            "description_tooltip": null,
            "layout": "IPY_MODEL_42b905244e2a4671a32196e35fb41f01",
            "max": 1,
            "min": 0,
            "orientation": "horizontal",
            "style": "IPY_MODEL_a1e59b5c900b45af9bcefc5de2517dbb",
            "value": 1
          }
        },
        "f794de24d9c64b73ab50ba1e527e8cdc": {
          "model_module": "@jupyter-widgets/base",
          "model_name": "LayoutModel",
          "model_module_version": "1.2.0",
          "state": {
            "_model_module": "@jupyter-widgets/base",
            "_model_module_version": "1.2.0",
            "_model_name": "LayoutModel",
            "_view_count": null,
            "_view_module": "@jupyter-widgets/base",
            "_view_module_version": "1.2.0",
            "_view_name": "LayoutView",
            "align_content": null,
            "align_items": null,
            "align_self": null,
            "border": null,
            "bottom": null,
            "display": null,
            "flex": null,
            "flex_flow": null,
            "grid_area": null,
            "grid_auto_columns": null,
            "grid_auto_flow": null,
            "grid_auto_rows": null,
            "grid_column": null,
            "grid_gap": null,
            "grid_row": null,
            "grid_template_areas": null,
            "grid_template_columns": null,
            "grid_template_rows": null,
            "height": null,
            "justify_content": null,
            "justify_items": null,
            "left": null,
            "margin": null,
            "max_height": null,
            "max_width": null,
            "min_height": null,
            "min_width": null,
            "object_fit": null,
            "object_position": null,
            "order": null,
            "overflow": null,
            "overflow_x": null,
            "overflow_y": null,
            "padding": null,
            "right": null,
            "top": null,
            "visibility": null,
            "width": null
          }
        },
        "ad862e1032a44b3abad08195958421b6": {
          "model_module": "@jupyter-widgets/base",
          "model_name": "LayoutModel",
          "model_module_version": "1.2.0",
          "state": {
            "_model_module": "@jupyter-widgets/base",
            "_model_module_version": "1.2.0",
            "_model_name": "LayoutModel",
            "_view_count": null,
            "_view_module": "@jupyter-widgets/base",
            "_view_module_version": "1.2.0",
            "_view_name": "LayoutView",
            "align_content": null,
            "align_items": null,
            "align_self": null,
            "border": null,
            "bottom": null,
            "display": null,
            "flex": null,
            "flex_flow": null,
            "grid_area": null,
            "grid_auto_columns": null,
            "grid_auto_flow": null,
            "grid_auto_rows": null,
            "grid_column": null,
            "grid_gap": null,
            "grid_row": null,
            "grid_template_areas": null,
            "grid_template_columns": null,
            "grid_template_rows": null,
            "height": null,
            "justify_content": null,
            "justify_items": null,
            "left": null,
            "margin": null,
            "max_height": null,
            "max_width": null,
            "min_height": null,
            "min_width": null,
            "object_fit": null,
            "object_position": null,
            "order": null,
            "overflow": null,
            "overflow_x": null,
            "overflow_y": null,
            "padding": null,
            "right": null,
            "top": null,
            "visibility": null,
            "width": null
          }
        },
        "1c1f96c63128443bbca9cb60faf2f61e": {
          "model_module": "@jupyter-widgets/controls",
          "model_name": "DescriptionStyleModel",
          "model_module_version": "1.5.0",
          "state": {
            "_model_module": "@jupyter-widgets/controls",
            "_model_module_version": "1.5.0",
            "_model_name": "DescriptionStyleModel",
            "_view_count": null,
            "_view_module": "@jupyter-widgets/base",
            "_view_module_version": "1.2.0",
            "_view_name": "StyleView",
            "description_width": ""
          }
        },
        "42b905244e2a4671a32196e35fb41f01": {
          "model_module": "@jupyter-widgets/base",
          "model_name": "LayoutModel",
          "model_module_version": "1.2.0",
          "state": {
            "_model_module": "@jupyter-widgets/base",
            "_model_module_version": "1.2.0",
            "_model_name": "LayoutModel",
            "_view_count": null,
            "_view_module": "@jupyter-widgets/base",
            "_view_module_version": "1.2.0",
            "_view_name": "LayoutView",
            "align_content": null,
            "align_items": null,
            "align_self": null,
            "border": null,
            "bottom": null,
            "display": null,
            "flex": null,
            "flex_flow": null,
            "grid_area": null,
            "grid_auto_columns": null,
            "grid_auto_flow": null,
            "grid_auto_rows": null,
            "grid_column": null,
            "grid_gap": null,
            "grid_row": null,
            "grid_template_areas": null,
            "grid_template_columns": null,
            "grid_template_rows": null,
            "height": null,
            "justify_content": null,
            "justify_items": null,
            "left": null,
            "margin": null,
            "max_height": null,
            "max_width": null,
            "min_height": null,
            "min_width": null,
            "object_fit": null,
            "object_position": null,
            "order": null,
            "overflow": null,
            "overflow_x": null,
            "overflow_y": null,
            "padding": null,
            "right": null,
            "top": null,
            "visibility": null,
            "width": null
          }
        },
        "a1e59b5c900b45af9bcefc5de2517dbb": {
          "model_module": "@jupyter-widgets/controls",
          "model_name": "ProgressStyleModel",
          "model_module_version": "1.5.0",
          "state": {
            "_model_module": "@jupyter-widgets/controls",
            "_model_module_version": "1.5.0",
            "_model_name": "ProgressStyleModel",
            "_view_count": null,
            "_view_module": "@jupyter-widgets/base",
            "_view_module_version": "1.2.0",
            "_view_name": "StyleView",
            "bar_color": null,
            "description_width": ""
          }
        },
        "6f2e8282c95c41cd8038fc086f843fdf": {
          "model_module": "@jupyter-widgets/controls",
          "model_name": "VBoxModel",
          "model_module_version": "1.5.0",
          "state": {
            "_dom_classes": [],
            "_model_module": "@jupyter-widgets/controls",
            "_model_module_version": "1.5.0",
            "_model_name": "VBoxModel",
            "_view_count": null,
            "_view_module": "@jupyter-widgets/controls",
            "_view_module_version": "1.5.0",
            "_view_name": "VBoxView",
            "box_style": "",
            "children": [
              "IPY_MODEL_3b567112521c4f02b45ff595472e077e",
              "IPY_MODEL_df9e993a24614cb29b455bd3b320462c"
            ],
            "layout": "IPY_MODEL_1476de21887a40d2bee2c39d6dbb96e0"
          }
        },
        "3b567112521c4f02b45ff595472e077e": {
          "model_module": "@jupyter-widgets/controls",
          "model_name": "LabelModel",
          "model_module_version": "1.5.0",
          "state": {
            "_dom_classes": [],
            "_model_module": "@jupyter-widgets/controls",
            "_model_module_version": "1.5.0",
            "_model_name": "LabelModel",
            "_view_count": null,
            "_view_module": "@jupyter-widgets/controls",
            "_view_module_version": "1.5.0",
            "_view_name": "LabelView",
            "description": "",
            "description_tooltip": null,
            "layout": "IPY_MODEL_647a03393d0a44f59d3c5862e09eb05b",
            "placeholder": "​",
            "style": "IPY_MODEL_d4c6da1c8e4747d5900ec60c7f4360a4",
            "value": "0.009 MB of 0.009 MB uploaded (0.000 MB deduped)\r"
          }
        },
        "df9e993a24614cb29b455bd3b320462c": {
          "model_module": "@jupyter-widgets/controls",
          "model_name": "FloatProgressModel",
          "model_module_version": "1.5.0",
          "state": {
            "_dom_classes": [],
            "_model_module": "@jupyter-widgets/controls",
            "_model_module_version": "1.5.0",
            "_model_name": "FloatProgressModel",
            "_view_count": null,
            "_view_module": "@jupyter-widgets/controls",
            "_view_module_version": "1.5.0",
            "_view_name": "ProgressView",
            "bar_style": "",
            "description": "",
            "description_tooltip": null,
            "layout": "IPY_MODEL_ede6041be7a74b58abd37557001d61b6",
            "max": 1,
            "min": 0,
            "orientation": "horizontal",
            "style": "IPY_MODEL_2eab6e56cf3c4e74988d01988f6e3dad",
            "value": 1
          }
        },
        "1476de21887a40d2bee2c39d6dbb96e0": {
          "model_module": "@jupyter-widgets/base",
          "model_name": "LayoutModel",
          "model_module_version": "1.2.0",
          "state": {
            "_model_module": "@jupyter-widgets/base",
            "_model_module_version": "1.2.0",
            "_model_name": "LayoutModel",
            "_view_count": null,
            "_view_module": "@jupyter-widgets/base",
            "_view_module_version": "1.2.0",
            "_view_name": "LayoutView",
            "align_content": null,
            "align_items": null,
            "align_self": null,
            "border": null,
            "bottom": null,
            "display": null,
            "flex": null,
            "flex_flow": null,
            "grid_area": null,
            "grid_auto_columns": null,
            "grid_auto_flow": null,
            "grid_auto_rows": null,
            "grid_column": null,
            "grid_gap": null,
            "grid_row": null,
            "grid_template_areas": null,
            "grid_template_columns": null,
            "grid_template_rows": null,
            "height": null,
            "justify_content": null,
            "justify_items": null,
            "left": null,
            "margin": null,
            "max_height": null,
            "max_width": null,
            "min_height": null,
            "min_width": null,
            "object_fit": null,
            "object_position": null,
            "order": null,
            "overflow": null,
            "overflow_x": null,
            "overflow_y": null,
            "padding": null,
            "right": null,
            "top": null,
            "visibility": null,
            "width": null
          }
        },
        "647a03393d0a44f59d3c5862e09eb05b": {
          "model_module": "@jupyter-widgets/base",
          "model_name": "LayoutModel",
          "model_module_version": "1.2.0",
          "state": {
            "_model_module": "@jupyter-widgets/base",
            "_model_module_version": "1.2.0",
            "_model_name": "LayoutModel",
            "_view_count": null,
            "_view_module": "@jupyter-widgets/base",
            "_view_module_version": "1.2.0",
            "_view_name": "LayoutView",
            "align_content": null,
            "align_items": null,
            "align_self": null,
            "border": null,
            "bottom": null,
            "display": null,
            "flex": null,
            "flex_flow": null,
            "grid_area": null,
            "grid_auto_columns": null,
            "grid_auto_flow": null,
            "grid_auto_rows": null,
            "grid_column": null,
            "grid_gap": null,
            "grid_row": null,
            "grid_template_areas": null,
            "grid_template_columns": null,
            "grid_template_rows": null,
            "height": null,
            "justify_content": null,
            "justify_items": null,
            "left": null,
            "margin": null,
            "max_height": null,
            "max_width": null,
            "min_height": null,
            "min_width": null,
            "object_fit": null,
            "object_position": null,
            "order": null,
            "overflow": null,
            "overflow_x": null,
            "overflow_y": null,
            "padding": null,
            "right": null,
            "top": null,
            "visibility": null,
            "width": null
          }
        },
        "d4c6da1c8e4747d5900ec60c7f4360a4": {
          "model_module": "@jupyter-widgets/controls",
          "model_name": "DescriptionStyleModel",
          "model_module_version": "1.5.0",
          "state": {
            "_model_module": "@jupyter-widgets/controls",
            "_model_module_version": "1.5.0",
            "_model_name": "DescriptionStyleModel",
            "_view_count": null,
            "_view_module": "@jupyter-widgets/base",
            "_view_module_version": "1.2.0",
            "_view_name": "StyleView",
            "description_width": ""
          }
        },
        "ede6041be7a74b58abd37557001d61b6": {
          "model_module": "@jupyter-widgets/base",
          "model_name": "LayoutModel",
          "model_module_version": "1.2.0",
          "state": {
            "_model_module": "@jupyter-widgets/base",
            "_model_module_version": "1.2.0",
            "_model_name": "LayoutModel",
            "_view_count": null,
            "_view_module": "@jupyter-widgets/base",
            "_view_module_version": "1.2.0",
            "_view_name": "LayoutView",
            "align_content": null,
            "align_items": null,
            "align_self": null,
            "border": null,
            "bottom": null,
            "display": null,
            "flex": null,
            "flex_flow": null,
            "grid_area": null,
            "grid_auto_columns": null,
            "grid_auto_flow": null,
            "grid_auto_rows": null,
            "grid_column": null,
            "grid_gap": null,
            "grid_row": null,
            "grid_template_areas": null,
            "grid_template_columns": null,
            "grid_template_rows": null,
            "height": null,
            "justify_content": null,
            "justify_items": null,
            "left": null,
            "margin": null,
            "max_height": null,
            "max_width": null,
            "min_height": null,
            "min_width": null,
            "object_fit": null,
            "object_position": null,
            "order": null,
            "overflow": null,
            "overflow_x": null,
            "overflow_y": null,
            "padding": null,
            "right": null,
            "top": null,
            "visibility": null,
            "width": null
          }
        },
        "2eab6e56cf3c4e74988d01988f6e3dad": {
          "model_module": "@jupyter-widgets/controls",
          "model_name": "ProgressStyleModel",
          "model_module_version": "1.5.0",
          "state": {
            "_model_module": "@jupyter-widgets/controls",
            "_model_module_version": "1.5.0",
            "_model_name": "ProgressStyleModel",
            "_view_count": null,
            "_view_module": "@jupyter-widgets/base",
            "_view_module_version": "1.2.0",
            "_view_name": "StyleView",
            "bar_color": null,
            "description_width": ""
          }
        },
        "365368d9243c4ec2906c2da3386c8659": {
          "model_module": "@jupyter-widgets/controls",
          "model_name": "VBoxModel",
          "model_module_version": "1.5.0",
          "state": {
            "_dom_classes": [],
            "_model_module": "@jupyter-widgets/controls",
            "_model_module_version": "1.5.0",
            "_model_name": "VBoxModel",
            "_view_count": null,
            "_view_module": "@jupyter-widgets/controls",
            "_view_module_version": "1.5.0",
            "_view_name": "VBoxView",
            "box_style": "",
            "children": [
              "IPY_MODEL_5b7420c02d5444719d20fa318a634f51",
              "IPY_MODEL_db37c398befd4e44a98187e45f1b1d09"
            ],
            "layout": "IPY_MODEL_71d56d163c1e41cda55edfbbc62f7eee"
          }
        },
        "5b7420c02d5444719d20fa318a634f51": {
          "model_module": "@jupyter-widgets/controls",
          "model_name": "LabelModel",
          "model_module_version": "1.5.0",
          "state": {
            "_dom_classes": [],
            "_model_module": "@jupyter-widgets/controls",
            "_model_module_version": "1.5.0",
            "_model_name": "LabelModel",
            "_view_count": null,
            "_view_module": "@jupyter-widgets/controls",
            "_view_module_version": "1.5.0",
            "_view_name": "LabelView",
            "description": "",
            "description_tooltip": null,
            "layout": "IPY_MODEL_2c5773394ff04f28817da737c68cac04",
            "placeholder": "​",
            "style": "IPY_MODEL_667ad1d7e4aa4f7ba59b41100a1b02fb",
            "value": "0.009 MB of 0.009 MB uploaded (0.000 MB deduped)\r"
          }
        },
        "db37c398befd4e44a98187e45f1b1d09": {
          "model_module": "@jupyter-widgets/controls",
          "model_name": "FloatProgressModel",
          "model_module_version": "1.5.0",
          "state": {
            "_dom_classes": [],
            "_model_module": "@jupyter-widgets/controls",
            "_model_module_version": "1.5.0",
            "_model_name": "FloatProgressModel",
            "_view_count": null,
            "_view_module": "@jupyter-widgets/controls",
            "_view_module_version": "1.5.0",
            "_view_name": "ProgressView",
            "bar_style": "",
            "description": "",
            "description_tooltip": null,
            "layout": "IPY_MODEL_78d425b4c7b346229b2b8396fc782aa1",
            "max": 1,
            "min": 0,
            "orientation": "horizontal",
            "style": "IPY_MODEL_afb1b858935948699c8eb9fe514ed3ec",
            "value": 1
          }
        },
        "71d56d163c1e41cda55edfbbc62f7eee": {
          "model_module": "@jupyter-widgets/base",
          "model_name": "LayoutModel",
          "model_module_version": "1.2.0",
          "state": {
            "_model_module": "@jupyter-widgets/base",
            "_model_module_version": "1.2.0",
            "_model_name": "LayoutModel",
            "_view_count": null,
            "_view_module": "@jupyter-widgets/base",
            "_view_module_version": "1.2.0",
            "_view_name": "LayoutView",
            "align_content": null,
            "align_items": null,
            "align_self": null,
            "border": null,
            "bottom": null,
            "display": null,
            "flex": null,
            "flex_flow": null,
            "grid_area": null,
            "grid_auto_columns": null,
            "grid_auto_flow": null,
            "grid_auto_rows": null,
            "grid_column": null,
            "grid_gap": null,
            "grid_row": null,
            "grid_template_areas": null,
            "grid_template_columns": null,
            "grid_template_rows": null,
            "height": null,
            "justify_content": null,
            "justify_items": null,
            "left": null,
            "margin": null,
            "max_height": null,
            "max_width": null,
            "min_height": null,
            "min_width": null,
            "object_fit": null,
            "object_position": null,
            "order": null,
            "overflow": null,
            "overflow_x": null,
            "overflow_y": null,
            "padding": null,
            "right": null,
            "top": null,
            "visibility": null,
            "width": null
          }
        },
        "2c5773394ff04f28817da737c68cac04": {
          "model_module": "@jupyter-widgets/base",
          "model_name": "LayoutModel",
          "model_module_version": "1.2.0",
          "state": {
            "_model_module": "@jupyter-widgets/base",
            "_model_module_version": "1.2.0",
            "_model_name": "LayoutModel",
            "_view_count": null,
            "_view_module": "@jupyter-widgets/base",
            "_view_module_version": "1.2.0",
            "_view_name": "LayoutView",
            "align_content": null,
            "align_items": null,
            "align_self": null,
            "border": null,
            "bottom": null,
            "display": null,
            "flex": null,
            "flex_flow": null,
            "grid_area": null,
            "grid_auto_columns": null,
            "grid_auto_flow": null,
            "grid_auto_rows": null,
            "grid_column": null,
            "grid_gap": null,
            "grid_row": null,
            "grid_template_areas": null,
            "grid_template_columns": null,
            "grid_template_rows": null,
            "height": null,
            "justify_content": null,
            "justify_items": null,
            "left": null,
            "margin": null,
            "max_height": null,
            "max_width": null,
            "min_height": null,
            "min_width": null,
            "object_fit": null,
            "object_position": null,
            "order": null,
            "overflow": null,
            "overflow_x": null,
            "overflow_y": null,
            "padding": null,
            "right": null,
            "top": null,
            "visibility": null,
            "width": null
          }
        },
        "667ad1d7e4aa4f7ba59b41100a1b02fb": {
          "model_module": "@jupyter-widgets/controls",
          "model_name": "DescriptionStyleModel",
          "model_module_version": "1.5.0",
          "state": {
            "_model_module": "@jupyter-widgets/controls",
            "_model_module_version": "1.5.0",
            "_model_name": "DescriptionStyleModel",
            "_view_count": null,
            "_view_module": "@jupyter-widgets/base",
            "_view_module_version": "1.2.0",
            "_view_name": "StyleView",
            "description_width": ""
          }
        },
        "78d425b4c7b346229b2b8396fc782aa1": {
          "model_module": "@jupyter-widgets/base",
          "model_name": "LayoutModel",
          "model_module_version": "1.2.0",
          "state": {
            "_model_module": "@jupyter-widgets/base",
            "_model_module_version": "1.2.0",
            "_model_name": "LayoutModel",
            "_view_count": null,
            "_view_module": "@jupyter-widgets/base",
            "_view_module_version": "1.2.0",
            "_view_name": "LayoutView",
            "align_content": null,
            "align_items": null,
            "align_self": null,
            "border": null,
            "bottom": null,
            "display": null,
            "flex": null,
            "flex_flow": null,
            "grid_area": null,
            "grid_auto_columns": null,
            "grid_auto_flow": null,
            "grid_auto_rows": null,
            "grid_column": null,
            "grid_gap": null,
            "grid_row": null,
            "grid_template_areas": null,
            "grid_template_columns": null,
            "grid_template_rows": null,
            "height": null,
            "justify_content": null,
            "justify_items": null,
            "left": null,
            "margin": null,
            "max_height": null,
            "max_width": null,
            "min_height": null,
            "min_width": null,
            "object_fit": null,
            "object_position": null,
            "order": null,
            "overflow": null,
            "overflow_x": null,
            "overflow_y": null,
            "padding": null,
            "right": null,
            "top": null,
            "visibility": null,
            "width": null
          }
        },
        "afb1b858935948699c8eb9fe514ed3ec": {
          "model_module": "@jupyter-widgets/controls",
          "model_name": "ProgressStyleModel",
          "model_module_version": "1.5.0",
          "state": {
            "_model_module": "@jupyter-widgets/controls",
            "_model_module_version": "1.5.0",
            "_model_name": "ProgressStyleModel",
            "_view_count": null,
            "_view_module": "@jupyter-widgets/base",
            "_view_module_version": "1.2.0",
            "_view_name": "StyleView",
            "bar_color": null,
            "description_width": ""
          }
        },
        "e18dfeb4fe984b13be39d4b7aaac9799": {
          "model_module": "@jupyter-widgets/controls",
          "model_name": "VBoxModel",
          "model_module_version": "1.5.0",
          "state": {
            "_dom_classes": [],
            "_model_module": "@jupyter-widgets/controls",
            "_model_module_version": "1.5.0",
            "_model_name": "VBoxModel",
            "_view_count": null,
            "_view_module": "@jupyter-widgets/controls",
            "_view_module_version": "1.5.0",
            "_view_name": "VBoxView",
            "box_style": "",
            "children": [
              "IPY_MODEL_eee92a38de724b808686d69646b4b94d",
              "IPY_MODEL_411b417dbcc54044bb909f0717984f7d"
            ],
            "layout": "IPY_MODEL_254a2af5228e4398926610b923c3bad6"
          }
        },
        "eee92a38de724b808686d69646b4b94d": {
          "model_module": "@jupyter-widgets/controls",
          "model_name": "LabelModel",
          "model_module_version": "1.5.0",
          "state": {
            "_dom_classes": [],
            "_model_module": "@jupyter-widgets/controls",
            "_model_module_version": "1.5.0",
            "_model_name": "LabelModel",
            "_view_count": null,
            "_view_module": "@jupyter-widgets/controls",
            "_view_module_version": "1.5.0",
            "_view_name": "LabelView",
            "description": "",
            "description_tooltip": null,
            "layout": "IPY_MODEL_b99087bda3634802a58821fa01eb45c4",
            "placeholder": "​",
            "style": "IPY_MODEL_4e4ce05a9807477cab65692abe36ec75",
            "value": "0.009 MB of 0.009 MB uploaded (0.000 MB deduped)\r"
          }
        },
        "411b417dbcc54044bb909f0717984f7d": {
          "model_module": "@jupyter-widgets/controls",
          "model_name": "FloatProgressModel",
          "model_module_version": "1.5.0",
          "state": {
            "_dom_classes": [],
            "_model_module": "@jupyter-widgets/controls",
            "_model_module_version": "1.5.0",
            "_model_name": "FloatProgressModel",
            "_view_count": null,
            "_view_module": "@jupyter-widgets/controls",
            "_view_module_version": "1.5.0",
            "_view_name": "ProgressView",
            "bar_style": "",
            "description": "",
            "description_tooltip": null,
            "layout": "IPY_MODEL_813f62dd7fa5439785b40fbff502037b",
            "max": 1,
            "min": 0,
            "orientation": "horizontal",
            "style": "IPY_MODEL_60c557a5ad5d495f9019f71ef1b5e63d",
            "value": 1
          }
        },
        "254a2af5228e4398926610b923c3bad6": {
          "model_module": "@jupyter-widgets/base",
          "model_name": "LayoutModel",
          "model_module_version": "1.2.0",
          "state": {
            "_model_module": "@jupyter-widgets/base",
            "_model_module_version": "1.2.0",
            "_model_name": "LayoutModel",
            "_view_count": null,
            "_view_module": "@jupyter-widgets/base",
            "_view_module_version": "1.2.0",
            "_view_name": "LayoutView",
            "align_content": null,
            "align_items": null,
            "align_self": null,
            "border": null,
            "bottom": null,
            "display": null,
            "flex": null,
            "flex_flow": null,
            "grid_area": null,
            "grid_auto_columns": null,
            "grid_auto_flow": null,
            "grid_auto_rows": null,
            "grid_column": null,
            "grid_gap": null,
            "grid_row": null,
            "grid_template_areas": null,
            "grid_template_columns": null,
            "grid_template_rows": null,
            "height": null,
            "justify_content": null,
            "justify_items": null,
            "left": null,
            "margin": null,
            "max_height": null,
            "max_width": null,
            "min_height": null,
            "min_width": null,
            "object_fit": null,
            "object_position": null,
            "order": null,
            "overflow": null,
            "overflow_x": null,
            "overflow_y": null,
            "padding": null,
            "right": null,
            "top": null,
            "visibility": null,
            "width": null
          }
        },
        "b99087bda3634802a58821fa01eb45c4": {
          "model_module": "@jupyter-widgets/base",
          "model_name": "LayoutModel",
          "model_module_version": "1.2.0",
          "state": {
            "_model_module": "@jupyter-widgets/base",
            "_model_module_version": "1.2.0",
            "_model_name": "LayoutModel",
            "_view_count": null,
            "_view_module": "@jupyter-widgets/base",
            "_view_module_version": "1.2.0",
            "_view_name": "LayoutView",
            "align_content": null,
            "align_items": null,
            "align_self": null,
            "border": null,
            "bottom": null,
            "display": null,
            "flex": null,
            "flex_flow": null,
            "grid_area": null,
            "grid_auto_columns": null,
            "grid_auto_flow": null,
            "grid_auto_rows": null,
            "grid_column": null,
            "grid_gap": null,
            "grid_row": null,
            "grid_template_areas": null,
            "grid_template_columns": null,
            "grid_template_rows": null,
            "height": null,
            "justify_content": null,
            "justify_items": null,
            "left": null,
            "margin": null,
            "max_height": null,
            "max_width": null,
            "min_height": null,
            "min_width": null,
            "object_fit": null,
            "object_position": null,
            "order": null,
            "overflow": null,
            "overflow_x": null,
            "overflow_y": null,
            "padding": null,
            "right": null,
            "top": null,
            "visibility": null,
            "width": null
          }
        },
        "4e4ce05a9807477cab65692abe36ec75": {
          "model_module": "@jupyter-widgets/controls",
          "model_name": "DescriptionStyleModel",
          "model_module_version": "1.5.0",
          "state": {
            "_model_module": "@jupyter-widgets/controls",
            "_model_module_version": "1.5.0",
            "_model_name": "DescriptionStyleModel",
            "_view_count": null,
            "_view_module": "@jupyter-widgets/base",
            "_view_module_version": "1.2.0",
            "_view_name": "StyleView",
            "description_width": ""
          }
        },
        "813f62dd7fa5439785b40fbff502037b": {
          "model_module": "@jupyter-widgets/base",
          "model_name": "LayoutModel",
          "model_module_version": "1.2.0",
          "state": {
            "_model_module": "@jupyter-widgets/base",
            "_model_module_version": "1.2.0",
            "_model_name": "LayoutModel",
            "_view_count": null,
            "_view_module": "@jupyter-widgets/base",
            "_view_module_version": "1.2.0",
            "_view_name": "LayoutView",
            "align_content": null,
            "align_items": null,
            "align_self": null,
            "border": null,
            "bottom": null,
            "display": null,
            "flex": null,
            "flex_flow": null,
            "grid_area": null,
            "grid_auto_columns": null,
            "grid_auto_flow": null,
            "grid_auto_rows": null,
            "grid_column": null,
            "grid_gap": null,
            "grid_row": null,
            "grid_template_areas": null,
            "grid_template_columns": null,
            "grid_template_rows": null,
            "height": null,
            "justify_content": null,
            "justify_items": null,
            "left": null,
            "margin": null,
            "max_height": null,
            "max_width": null,
            "min_height": null,
            "min_width": null,
            "object_fit": null,
            "object_position": null,
            "order": null,
            "overflow": null,
            "overflow_x": null,
            "overflow_y": null,
            "padding": null,
            "right": null,
            "top": null,
            "visibility": null,
            "width": null
          }
        },
        "60c557a5ad5d495f9019f71ef1b5e63d": {
          "model_module": "@jupyter-widgets/controls",
          "model_name": "ProgressStyleModel",
          "model_module_version": "1.5.0",
          "state": {
            "_model_module": "@jupyter-widgets/controls",
            "_model_module_version": "1.5.0",
            "_model_name": "ProgressStyleModel",
            "_view_count": null,
            "_view_module": "@jupyter-widgets/base",
            "_view_module_version": "1.2.0",
            "_view_name": "StyleView",
            "bar_color": null,
            "description_width": ""
          }
        },
        "6a3df05fc0a04e5b91934c39c686fd8e": {
          "model_module": "@jupyter-widgets/controls",
          "model_name": "VBoxModel",
          "model_module_version": "1.5.0",
          "state": {
            "_dom_classes": [],
            "_model_module": "@jupyter-widgets/controls",
            "_model_module_version": "1.5.0",
            "_model_name": "VBoxModel",
            "_view_count": null,
            "_view_module": "@jupyter-widgets/controls",
            "_view_module_version": "1.5.0",
            "_view_name": "VBoxView",
            "box_style": "",
            "children": [
              "IPY_MODEL_4eca29a6bb7a43c1a4a856d72ccd5699",
              "IPY_MODEL_f8bd073a0c0c46d4a6a9489d222954e1"
            ],
            "layout": "IPY_MODEL_6e3b8e06a6d44f568c23587818b4a897"
          }
        },
        "4eca29a6bb7a43c1a4a856d72ccd5699": {
          "model_module": "@jupyter-widgets/controls",
          "model_name": "LabelModel",
          "model_module_version": "1.5.0",
          "state": {
            "_dom_classes": [],
            "_model_module": "@jupyter-widgets/controls",
            "_model_module_version": "1.5.0",
            "_model_name": "LabelModel",
            "_view_count": null,
            "_view_module": "@jupyter-widgets/controls",
            "_view_module_version": "1.5.0",
            "_view_name": "LabelView",
            "description": "",
            "description_tooltip": null,
            "layout": "IPY_MODEL_09fdfc4ec1764a7db744c03202543947",
            "placeholder": "​",
            "style": "IPY_MODEL_c042ae354a0c4824952368b456eebc4f",
            "value": "0.009 MB of 0.009 MB uploaded (0.000 MB deduped)\r"
          }
        },
        "f8bd073a0c0c46d4a6a9489d222954e1": {
          "model_module": "@jupyter-widgets/controls",
          "model_name": "FloatProgressModel",
          "model_module_version": "1.5.0",
          "state": {
            "_dom_classes": [],
            "_model_module": "@jupyter-widgets/controls",
            "_model_module_version": "1.5.0",
            "_model_name": "FloatProgressModel",
            "_view_count": null,
            "_view_module": "@jupyter-widgets/controls",
            "_view_module_version": "1.5.0",
            "_view_name": "ProgressView",
            "bar_style": "",
            "description": "",
            "description_tooltip": null,
            "layout": "IPY_MODEL_ea5a0f35d03546d088a812ea9b7c0eb3",
            "max": 1,
            "min": 0,
            "orientation": "horizontal",
            "style": "IPY_MODEL_5a64fc169d45425f9b5d8a09b8cb1811",
            "value": 1
          }
        },
        "6e3b8e06a6d44f568c23587818b4a897": {
          "model_module": "@jupyter-widgets/base",
          "model_name": "LayoutModel",
          "model_module_version": "1.2.0",
          "state": {
            "_model_module": "@jupyter-widgets/base",
            "_model_module_version": "1.2.0",
            "_model_name": "LayoutModel",
            "_view_count": null,
            "_view_module": "@jupyter-widgets/base",
            "_view_module_version": "1.2.0",
            "_view_name": "LayoutView",
            "align_content": null,
            "align_items": null,
            "align_self": null,
            "border": null,
            "bottom": null,
            "display": null,
            "flex": null,
            "flex_flow": null,
            "grid_area": null,
            "grid_auto_columns": null,
            "grid_auto_flow": null,
            "grid_auto_rows": null,
            "grid_column": null,
            "grid_gap": null,
            "grid_row": null,
            "grid_template_areas": null,
            "grid_template_columns": null,
            "grid_template_rows": null,
            "height": null,
            "justify_content": null,
            "justify_items": null,
            "left": null,
            "margin": null,
            "max_height": null,
            "max_width": null,
            "min_height": null,
            "min_width": null,
            "object_fit": null,
            "object_position": null,
            "order": null,
            "overflow": null,
            "overflow_x": null,
            "overflow_y": null,
            "padding": null,
            "right": null,
            "top": null,
            "visibility": null,
            "width": null
          }
        },
        "09fdfc4ec1764a7db744c03202543947": {
          "model_module": "@jupyter-widgets/base",
          "model_name": "LayoutModel",
          "model_module_version": "1.2.0",
          "state": {
            "_model_module": "@jupyter-widgets/base",
            "_model_module_version": "1.2.0",
            "_model_name": "LayoutModel",
            "_view_count": null,
            "_view_module": "@jupyter-widgets/base",
            "_view_module_version": "1.2.0",
            "_view_name": "LayoutView",
            "align_content": null,
            "align_items": null,
            "align_self": null,
            "border": null,
            "bottom": null,
            "display": null,
            "flex": null,
            "flex_flow": null,
            "grid_area": null,
            "grid_auto_columns": null,
            "grid_auto_flow": null,
            "grid_auto_rows": null,
            "grid_column": null,
            "grid_gap": null,
            "grid_row": null,
            "grid_template_areas": null,
            "grid_template_columns": null,
            "grid_template_rows": null,
            "height": null,
            "justify_content": null,
            "justify_items": null,
            "left": null,
            "margin": null,
            "max_height": null,
            "max_width": null,
            "min_height": null,
            "min_width": null,
            "object_fit": null,
            "object_position": null,
            "order": null,
            "overflow": null,
            "overflow_x": null,
            "overflow_y": null,
            "padding": null,
            "right": null,
            "top": null,
            "visibility": null,
            "width": null
          }
        },
        "c042ae354a0c4824952368b456eebc4f": {
          "model_module": "@jupyter-widgets/controls",
          "model_name": "DescriptionStyleModel",
          "model_module_version": "1.5.0",
          "state": {
            "_model_module": "@jupyter-widgets/controls",
            "_model_module_version": "1.5.0",
            "_model_name": "DescriptionStyleModel",
            "_view_count": null,
            "_view_module": "@jupyter-widgets/base",
            "_view_module_version": "1.2.0",
            "_view_name": "StyleView",
            "description_width": ""
          }
        },
        "ea5a0f35d03546d088a812ea9b7c0eb3": {
          "model_module": "@jupyter-widgets/base",
          "model_name": "LayoutModel",
          "model_module_version": "1.2.0",
          "state": {
            "_model_module": "@jupyter-widgets/base",
            "_model_module_version": "1.2.0",
            "_model_name": "LayoutModel",
            "_view_count": null,
            "_view_module": "@jupyter-widgets/base",
            "_view_module_version": "1.2.0",
            "_view_name": "LayoutView",
            "align_content": null,
            "align_items": null,
            "align_self": null,
            "border": null,
            "bottom": null,
            "display": null,
            "flex": null,
            "flex_flow": null,
            "grid_area": null,
            "grid_auto_columns": null,
            "grid_auto_flow": null,
            "grid_auto_rows": null,
            "grid_column": null,
            "grid_gap": null,
            "grid_row": null,
            "grid_template_areas": null,
            "grid_template_columns": null,
            "grid_template_rows": null,
            "height": null,
            "justify_content": null,
            "justify_items": null,
            "left": null,
            "margin": null,
            "max_height": null,
            "max_width": null,
            "min_height": null,
            "min_width": null,
            "object_fit": null,
            "object_position": null,
            "order": null,
            "overflow": null,
            "overflow_x": null,
            "overflow_y": null,
            "padding": null,
            "right": null,
            "top": null,
            "visibility": null,
            "width": null
          }
        },
        "5a64fc169d45425f9b5d8a09b8cb1811": {
          "model_module": "@jupyter-widgets/controls",
          "model_name": "ProgressStyleModel",
          "model_module_version": "1.5.0",
          "state": {
            "_model_module": "@jupyter-widgets/controls",
            "_model_module_version": "1.5.0",
            "_model_name": "ProgressStyleModel",
            "_view_count": null,
            "_view_module": "@jupyter-widgets/base",
            "_view_module_version": "1.2.0",
            "_view_name": "StyleView",
            "bar_color": null,
            "description_width": ""
          }
        },
        "47a2bda3312548909b8554c985eb74ec": {
          "model_module": "@jupyter-widgets/controls",
          "model_name": "VBoxModel",
          "model_module_version": "1.5.0",
          "state": {
            "_dom_classes": [],
            "_model_module": "@jupyter-widgets/controls",
            "_model_module_version": "1.5.0",
            "_model_name": "VBoxModel",
            "_view_count": null,
            "_view_module": "@jupyter-widgets/controls",
            "_view_module_version": "1.5.0",
            "_view_name": "VBoxView",
            "box_style": "",
            "children": [
              "IPY_MODEL_0f714e6843744fbfac4624f3804b5934",
              "IPY_MODEL_c4297a3418044117a512b689542d8f5c"
            ],
            "layout": "IPY_MODEL_ca12aaa16aab41a9b44cc7f79ddb8416"
          }
        },
        "0f714e6843744fbfac4624f3804b5934": {
          "model_module": "@jupyter-widgets/controls",
          "model_name": "LabelModel",
          "model_module_version": "1.5.0",
          "state": {
            "_dom_classes": [],
            "_model_module": "@jupyter-widgets/controls",
            "_model_module_version": "1.5.0",
            "_model_name": "LabelModel",
            "_view_count": null,
            "_view_module": "@jupyter-widgets/controls",
            "_view_module_version": "1.5.0",
            "_view_name": "LabelView",
            "description": "",
            "description_tooltip": null,
            "layout": "IPY_MODEL_c7482a9ded624aabbe56443205b23f93",
            "placeholder": "​",
            "style": "IPY_MODEL_40c9397916124a6a9e53398705e04926",
            "value": "0.009 MB of 0.009 MB uploaded (0.000 MB deduped)\r"
          }
        },
        "c4297a3418044117a512b689542d8f5c": {
          "model_module": "@jupyter-widgets/controls",
          "model_name": "FloatProgressModel",
          "model_module_version": "1.5.0",
          "state": {
            "_dom_classes": [],
            "_model_module": "@jupyter-widgets/controls",
            "_model_module_version": "1.5.0",
            "_model_name": "FloatProgressModel",
            "_view_count": null,
            "_view_module": "@jupyter-widgets/controls",
            "_view_module_version": "1.5.0",
            "_view_name": "ProgressView",
            "bar_style": "",
            "description": "",
            "description_tooltip": null,
            "layout": "IPY_MODEL_882ad67bd32c499294211dfa7807f89b",
            "max": 1,
            "min": 0,
            "orientation": "horizontal",
            "style": "IPY_MODEL_0159c33e5d594dd8ac9660e28156087e",
            "value": 1
          }
        },
        "ca12aaa16aab41a9b44cc7f79ddb8416": {
          "model_module": "@jupyter-widgets/base",
          "model_name": "LayoutModel",
          "model_module_version": "1.2.0",
          "state": {
            "_model_module": "@jupyter-widgets/base",
            "_model_module_version": "1.2.0",
            "_model_name": "LayoutModel",
            "_view_count": null,
            "_view_module": "@jupyter-widgets/base",
            "_view_module_version": "1.2.0",
            "_view_name": "LayoutView",
            "align_content": null,
            "align_items": null,
            "align_self": null,
            "border": null,
            "bottom": null,
            "display": null,
            "flex": null,
            "flex_flow": null,
            "grid_area": null,
            "grid_auto_columns": null,
            "grid_auto_flow": null,
            "grid_auto_rows": null,
            "grid_column": null,
            "grid_gap": null,
            "grid_row": null,
            "grid_template_areas": null,
            "grid_template_columns": null,
            "grid_template_rows": null,
            "height": null,
            "justify_content": null,
            "justify_items": null,
            "left": null,
            "margin": null,
            "max_height": null,
            "max_width": null,
            "min_height": null,
            "min_width": null,
            "object_fit": null,
            "object_position": null,
            "order": null,
            "overflow": null,
            "overflow_x": null,
            "overflow_y": null,
            "padding": null,
            "right": null,
            "top": null,
            "visibility": null,
            "width": null
          }
        },
        "c7482a9ded624aabbe56443205b23f93": {
          "model_module": "@jupyter-widgets/base",
          "model_name": "LayoutModel",
          "model_module_version": "1.2.0",
          "state": {
            "_model_module": "@jupyter-widgets/base",
            "_model_module_version": "1.2.0",
            "_model_name": "LayoutModel",
            "_view_count": null,
            "_view_module": "@jupyter-widgets/base",
            "_view_module_version": "1.2.0",
            "_view_name": "LayoutView",
            "align_content": null,
            "align_items": null,
            "align_self": null,
            "border": null,
            "bottom": null,
            "display": null,
            "flex": null,
            "flex_flow": null,
            "grid_area": null,
            "grid_auto_columns": null,
            "grid_auto_flow": null,
            "grid_auto_rows": null,
            "grid_column": null,
            "grid_gap": null,
            "grid_row": null,
            "grid_template_areas": null,
            "grid_template_columns": null,
            "grid_template_rows": null,
            "height": null,
            "justify_content": null,
            "justify_items": null,
            "left": null,
            "margin": null,
            "max_height": null,
            "max_width": null,
            "min_height": null,
            "min_width": null,
            "object_fit": null,
            "object_position": null,
            "order": null,
            "overflow": null,
            "overflow_x": null,
            "overflow_y": null,
            "padding": null,
            "right": null,
            "top": null,
            "visibility": null,
            "width": null
          }
        },
        "40c9397916124a6a9e53398705e04926": {
          "model_module": "@jupyter-widgets/controls",
          "model_name": "DescriptionStyleModel",
          "model_module_version": "1.5.0",
          "state": {
            "_model_module": "@jupyter-widgets/controls",
            "_model_module_version": "1.5.0",
            "_model_name": "DescriptionStyleModel",
            "_view_count": null,
            "_view_module": "@jupyter-widgets/base",
            "_view_module_version": "1.2.0",
            "_view_name": "StyleView",
            "description_width": ""
          }
        },
        "882ad67bd32c499294211dfa7807f89b": {
          "model_module": "@jupyter-widgets/base",
          "model_name": "LayoutModel",
          "model_module_version": "1.2.0",
          "state": {
            "_model_module": "@jupyter-widgets/base",
            "_model_module_version": "1.2.0",
            "_model_name": "LayoutModel",
            "_view_count": null,
            "_view_module": "@jupyter-widgets/base",
            "_view_module_version": "1.2.0",
            "_view_name": "LayoutView",
            "align_content": null,
            "align_items": null,
            "align_self": null,
            "border": null,
            "bottom": null,
            "display": null,
            "flex": null,
            "flex_flow": null,
            "grid_area": null,
            "grid_auto_columns": null,
            "grid_auto_flow": null,
            "grid_auto_rows": null,
            "grid_column": null,
            "grid_gap": null,
            "grid_row": null,
            "grid_template_areas": null,
            "grid_template_columns": null,
            "grid_template_rows": null,
            "height": null,
            "justify_content": null,
            "justify_items": null,
            "left": null,
            "margin": null,
            "max_height": null,
            "max_width": null,
            "min_height": null,
            "min_width": null,
            "object_fit": null,
            "object_position": null,
            "order": null,
            "overflow": null,
            "overflow_x": null,
            "overflow_y": null,
            "padding": null,
            "right": null,
            "top": null,
            "visibility": null,
            "width": null
          }
        },
        "0159c33e5d594dd8ac9660e28156087e": {
          "model_module": "@jupyter-widgets/controls",
          "model_name": "ProgressStyleModel",
          "model_module_version": "1.5.0",
          "state": {
            "_model_module": "@jupyter-widgets/controls",
            "_model_module_version": "1.5.0",
            "_model_name": "ProgressStyleModel",
            "_view_count": null,
            "_view_module": "@jupyter-widgets/base",
            "_view_module_version": "1.2.0",
            "_view_name": "StyleView",
            "bar_color": null,
            "description_width": ""
          }
        },
        "2604022f24ce449d94fb704c70112e27": {
          "model_module": "@jupyter-widgets/controls",
          "model_name": "VBoxModel",
          "model_module_version": "1.5.0",
          "state": {
            "_dom_classes": [],
            "_model_module": "@jupyter-widgets/controls",
            "_model_module_version": "1.5.0",
            "_model_name": "VBoxModel",
            "_view_count": null,
            "_view_module": "@jupyter-widgets/controls",
            "_view_module_version": "1.5.0",
            "_view_name": "VBoxView",
            "box_style": "",
            "children": [
              "IPY_MODEL_39553ca60d8c48aeaecb5f607ac9aea0",
              "IPY_MODEL_27cf1fa21d1246a0bec9508d3636614a"
            ],
            "layout": "IPY_MODEL_a040a8e0096f47c5a5d9b6991cf2393a"
          }
        },
        "39553ca60d8c48aeaecb5f607ac9aea0": {
          "model_module": "@jupyter-widgets/controls",
          "model_name": "LabelModel",
          "model_module_version": "1.5.0",
          "state": {
            "_dom_classes": [],
            "_model_module": "@jupyter-widgets/controls",
            "_model_module_version": "1.5.0",
            "_model_name": "LabelModel",
            "_view_count": null,
            "_view_module": "@jupyter-widgets/controls",
            "_view_module_version": "1.5.0",
            "_view_name": "LabelView",
            "description": "",
            "description_tooltip": null,
            "layout": "IPY_MODEL_5eaf8a2f51904be4b22537a7e1110fc8",
            "placeholder": "​",
            "style": "IPY_MODEL_8ea8110d3824400995bd6d5027a55ee0",
            "value": "0.009 MB of 0.009 MB uploaded (0.000 MB deduped)\r"
          }
        },
        "27cf1fa21d1246a0bec9508d3636614a": {
          "model_module": "@jupyter-widgets/controls",
          "model_name": "FloatProgressModel",
          "model_module_version": "1.5.0",
          "state": {
            "_dom_classes": [],
            "_model_module": "@jupyter-widgets/controls",
            "_model_module_version": "1.5.0",
            "_model_name": "FloatProgressModel",
            "_view_count": null,
            "_view_module": "@jupyter-widgets/controls",
            "_view_module_version": "1.5.0",
            "_view_name": "ProgressView",
            "bar_style": "",
            "description": "",
            "description_tooltip": null,
            "layout": "IPY_MODEL_6c8e7a8d742640c38cee9235d1be36c1",
            "max": 1,
            "min": 0,
            "orientation": "horizontal",
            "style": "IPY_MODEL_659879563b724b3b963f299f3cf34c1e",
            "value": 1
          }
        },
        "a040a8e0096f47c5a5d9b6991cf2393a": {
          "model_module": "@jupyter-widgets/base",
          "model_name": "LayoutModel",
          "model_module_version": "1.2.0",
          "state": {
            "_model_module": "@jupyter-widgets/base",
            "_model_module_version": "1.2.0",
            "_model_name": "LayoutModel",
            "_view_count": null,
            "_view_module": "@jupyter-widgets/base",
            "_view_module_version": "1.2.0",
            "_view_name": "LayoutView",
            "align_content": null,
            "align_items": null,
            "align_self": null,
            "border": null,
            "bottom": null,
            "display": null,
            "flex": null,
            "flex_flow": null,
            "grid_area": null,
            "grid_auto_columns": null,
            "grid_auto_flow": null,
            "grid_auto_rows": null,
            "grid_column": null,
            "grid_gap": null,
            "grid_row": null,
            "grid_template_areas": null,
            "grid_template_columns": null,
            "grid_template_rows": null,
            "height": null,
            "justify_content": null,
            "justify_items": null,
            "left": null,
            "margin": null,
            "max_height": null,
            "max_width": null,
            "min_height": null,
            "min_width": null,
            "object_fit": null,
            "object_position": null,
            "order": null,
            "overflow": null,
            "overflow_x": null,
            "overflow_y": null,
            "padding": null,
            "right": null,
            "top": null,
            "visibility": null,
            "width": null
          }
        },
        "5eaf8a2f51904be4b22537a7e1110fc8": {
          "model_module": "@jupyter-widgets/base",
          "model_name": "LayoutModel",
          "model_module_version": "1.2.0",
          "state": {
            "_model_module": "@jupyter-widgets/base",
            "_model_module_version": "1.2.0",
            "_model_name": "LayoutModel",
            "_view_count": null,
            "_view_module": "@jupyter-widgets/base",
            "_view_module_version": "1.2.0",
            "_view_name": "LayoutView",
            "align_content": null,
            "align_items": null,
            "align_self": null,
            "border": null,
            "bottom": null,
            "display": null,
            "flex": null,
            "flex_flow": null,
            "grid_area": null,
            "grid_auto_columns": null,
            "grid_auto_flow": null,
            "grid_auto_rows": null,
            "grid_column": null,
            "grid_gap": null,
            "grid_row": null,
            "grid_template_areas": null,
            "grid_template_columns": null,
            "grid_template_rows": null,
            "height": null,
            "justify_content": null,
            "justify_items": null,
            "left": null,
            "margin": null,
            "max_height": null,
            "max_width": null,
            "min_height": null,
            "min_width": null,
            "object_fit": null,
            "object_position": null,
            "order": null,
            "overflow": null,
            "overflow_x": null,
            "overflow_y": null,
            "padding": null,
            "right": null,
            "top": null,
            "visibility": null,
            "width": null
          }
        },
        "8ea8110d3824400995bd6d5027a55ee0": {
          "model_module": "@jupyter-widgets/controls",
          "model_name": "DescriptionStyleModel",
          "model_module_version": "1.5.0",
          "state": {
            "_model_module": "@jupyter-widgets/controls",
            "_model_module_version": "1.5.0",
            "_model_name": "DescriptionStyleModel",
            "_view_count": null,
            "_view_module": "@jupyter-widgets/base",
            "_view_module_version": "1.2.0",
            "_view_name": "StyleView",
            "description_width": ""
          }
        },
        "6c8e7a8d742640c38cee9235d1be36c1": {
          "model_module": "@jupyter-widgets/base",
          "model_name": "LayoutModel",
          "model_module_version": "1.2.0",
          "state": {
            "_model_module": "@jupyter-widgets/base",
            "_model_module_version": "1.2.0",
            "_model_name": "LayoutModel",
            "_view_count": null,
            "_view_module": "@jupyter-widgets/base",
            "_view_module_version": "1.2.0",
            "_view_name": "LayoutView",
            "align_content": null,
            "align_items": null,
            "align_self": null,
            "border": null,
            "bottom": null,
            "display": null,
            "flex": null,
            "flex_flow": null,
            "grid_area": null,
            "grid_auto_columns": null,
            "grid_auto_flow": null,
            "grid_auto_rows": null,
            "grid_column": null,
            "grid_gap": null,
            "grid_row": null,
            "grid_template_areas": null,
            "grid_template_columns": null,
            "grid_template_rows": null,
            "height": null,
            "justify_content": null,
            "justify_items": null,
            "left": null,
            "margin": null,
            "max_height": null,
            "max_width": null,
            "min_height": null,
            "min_width": null,
            "object_fit": null,
            "object_position": null,
            "order": null,
            "overflow": null,
            "overflow_x": null,
            "overflow_y": null,
            "padding": null,
            "right": null,
            "top": null,
            "visibility": null,
            "width": null
          }
        },
        "659879563b724b3b963f299f3cf34c1e": {
          "model_module": "@jupyter-widgets/controls",
          "model_name": "ProgressStyleModel",
          "model_module_version": "1.5.0",
          "state": {
            "_model_module": "@jupyter-widgets/controls",
            "_model_module_version": "1.5.0",
            "_model_name": "ProgressStyleModel",
            "_view_count": null,
            "_view_module": "@jupyter-widgets/base",
            "_view_module_version": "1.2.0",
            "_view_name": "StyleView",
            "bar_color": null,
            "description_width": ""
          }
        },
        "f721ed3233df44f19718f3899dde0550": {
          "model_module": "@jupyter-widgets/controls",
          "model_name": "VBoxModel",
          "model_module_version": "1.5.0",
          "state": {
            "_dom_classes": [],
            "_model_module": "@jupyter-widgets/controls",
            "_model_module_version": "1.5.0",
            "_model_name": "VBoxModel",
            "_view_count": null,
            "_view_module": "@jupyter-widgets/controls",
            "_view_module_version": "1.5.0",
            "_view_name": "VBoxView",
            "box_style": "",
            "children": [
              "IPY_MODEL_6afae3bade7e4ebd8a8562ab209e7289",
              "IPY_MODEL_998439e8ed4a4779b087256fa222d6f9"
            ],
            "layout": "IPY_MODEL_78f6eea96289494596e77ef655a01c8c"
          }
        },
        "6afae3bade7e4ebd8a8562ab209e7289": {
          "model_module": "@jupyter-widgets/controls",
          "model_name": "LabelModel",
          "model_module_version": "1.5.0",
          "state": {
            "_dom_classes": [],
            "_model_module": "@jupyter-widgets/controls",
            "_model_module_version": "1.5.0",
            "_model_name": "LabelModel",
            "_view_count": null,
            "_view_module": "@jupyter-widgets/controls",
            "_view_module_version": "1.5.0",
            "_view_name": "LabelView",
            "description": "",
            "description_tooltip": null,
            "layout": "IPY_MODEL_81ff4d08acec4935b6fbf3519d5094d9",
            "placeholder": "​",
            "style": "IPY_MODEL_6537e1838380432b8a8e1f69cddf8c82",
            "value": "0.009 MB of 0.009 MB uploaded (0.000 MB deduped)\r"
          }
        },
        "998439e8ed4a4779b087256fa222d6f9": {
          "model_module": "@jupyter-widgets/controls",
          "model_name": "FloatProgressModel",
          "model_module_version": "1.5.0",
          "state": {
            "_dom_classes": [],
            "_model_module": "@jupyter-widgets/controls",
            "_model_module_version": "1.5.0",
            "_model_name": "FloatProgressModel",
            "_view_count": null,
            "_view_module": "@jupyter-widgets/controls",
            "_view_module_version": "1.5.0",
            "_view_name": "ProgressView",
            "bar_style": "",
            "description": "",
            "description_tooltip": null,
            "layout": "IPY_MODEL_85e82756628c4663915b0460d7d3035c",
            "max": 1,
            "min": 0,
            "orientation": "horizontal",
            "style": "IPY_MODEL_9ecd92f78b8b40538cb241e9257389dc",
            "value": 1
          }
        },
        "78f6eea96289494596e77ef655a01c8c": {
          "model_module": "@jupyter-widgets/base",
          "model_name": "LayoutModel",
          "model_module_version": "1.2.0",
          "state": {
            "_model_module": "@jupyter-widgets/base",
            "_model_module_version": "1.2.0",
            "_model_name": "LayoutModel",
            "_view_count": null,
            "_view_module": "@jupyter-widgets/base",
            "_view_module_version": "1.2.0",
            "_view_name": "LayoutView",
            "align_content": null,
            "align_items": null,
            "align_self": null,
            "border": null,
            "bottom": null,
            "display": null,
            "flex": null,
            "flex_flow": null,
            "grid_area": null,
            "grid_auto_columns": null,
            "grid_auto_flow": null,
            "grid_auto_rows": null,
            "grid_column": null,
            "grid_gap": null,
            "grid_row": null,
            "grid_template_areas": null,
            "grid_template_columns": null,
            "grid_template_rows": null,
            "height": null,
            "justify_content": null,
            "justify_items": null,
            "left": null,
            "margin": null,
            "max_height": null,
            "max_width": null,
            "min_height": null,
            "min_width": null,
            "object_fit": null,
            "object_position": null,
            "order": null,
            "overflow": null,
            "overflow_x": null,
            "overflow_y": null,
            "padding": null,
            "right": null,
            "top": null,
            "visibility": null,
            "width": null
          }
        },
        "81ff4d08acec4935b6fbf3519d5094d9": {
          "model_module": "@jupyter-widgets/base",
          "model_name": "LayoutModel",
          "model_module_version": "1.2.0",
          "state": {
            "_model_module": "@jupyter-widgets/base",
            "_model_module_version": "1.2.0",
            "_model_name": "LayoutModel",
            "_view_count": null,
            "_view_module": "@jupyter-widgets/base",
            "_view_module_version": "1.2.0",
            "_view_name": "LayoutView",
            "align_content": null,
            "align_items": null,
            "align_self": null,
            "border": null,
            "bottom": null,
            "display": null,
            "flex": null,
            "flex_flow": null,
            "grid_area": null,
            "grid_auto_columns": null,
            "grid_auto_flow": null,
            "grid_auto_rows": null,
            "grid_column": null,
            "grid_gap": null,
            "grid_row": null,
            "grid_template_areas": null,
            "grid_template_columns": null,
            "grid_template_rows": null,
            "height": null,
            "justify_content": null,
            "justify_items": null,
            "left": null,
            "margin": null,
            "max_height": null,
            "max_width": null,
            "min_height": null,
            "min_width": null,
            "object_fit": null,
            "object_position": null,
            "order": null,
            "overflow": null,
            "overflow_x": null,
            "overflow_y": null,
            "padding": null,
            "right": null,
            "top": null,
            "visibility": null,
            "width": null
          }
        },
        "6537e1838380432b8a8e1f69cddf8c82": {
          "model_module": "@jupyter-widgets/controls",
          "model_name": "DescriptionStyleModel",
          "model_module_version": "1.5.0",
          "state": {
            "_model_module": "@jupyter-widgets/controls",
            "_model_module_version": "1.5.0",
            "_model_name": "DescriptionStyleModel",
            "_view_count": null,
            "_view_module": "@jupyter-widgets/base",
            "_view_module_version": "1.2.0",
            "_view_name": "StyleView",
            "description_width": ""
          }
        },
        "85e82756628c4663915b0460d7d3035c": {
          "model_module": "@jupyter-widgets/base",
          "model_name": "LayoutModel",
          "model_module_version": "1.2.0",
          "state": {
            "_model_module": "@jupyter-widgets/base",
            "_model_module_version": "1.2.0",
            "_model_name": "LayoutModel",
            "_view_count": null,
            "_view_module": "@jupyter-widgets/base",
            "_view_module_version": "1.2.0",
            "_view_name": "LayoutView",
            "align_content": null,
            "align_items": null,
            "align_self": null,
            "border": null,
            "bottom": null,
            "display": null,
            "flex": null,
            "flex_flow": null,
            "grid_area": null,
            "grid_auto_columns": null,
            "grid_auto_flow": null,
            "grid_auto_rows": null,
            "grid_column": null,
            "grid_gap": null,
            "grid_row": null,
            "grid_template_areas": null,
            "grid_template_columns": null,
            "grid_template_rows": null,
            "height": null,
            "justify_content": null,
            "justify_items": null,
            "left": null,
            "margin": null,
            "max_height": null,
            "max_width": null,
            "min_height": null,
            "min_width": null,
            "object_fit": null,
            "object_position": null,
            "order": null,
            "overflow": null,
            "overflow_x": null,
            "overflow_y": null,
            "padding": null,
            "right": null,
            "top": null,
            "visibility": null,
            "width": null
          }
        },
        "9ecd92f78b8b40538cb241e9257389dc": {
          "model_module": "@jupyter-widgets/controls",
          "model_name": "ProgressStyleModel",
          "model_module_version": "1.5.0",
          "state": {
            "_model_module": "@jupyter-widgets/controls",
            "_model_module_version": "1.5.0",
            "_model_name": "ProgressStyleModel",
            "_view_count": null,
            "_view_module": "@jupyter-widgets/base",
            "_view_module_version": "1.2.0",
            "_view_name": "StyleView",
            "bar_color": null,
            "description_width": ""
          }
        },
        "c68ca25eae354e7da80b0b759d6c5b0e": {
          "model_module": "@jupyter-widgets/controls",
          "model_name": "VBoxModel",
          "model_module_version": "1.5.0",
          "state": {
            "_dom_classes": [],
            "_model_module": "@jupyter-widgets/controls",
            "_model_module_version": "1.5.0",
            "_model_name": "VBoxModel",
            "_view_count": null,
            "_view_module": "@jupyter-widgets/controls",
            "_view_module_version": "1.5.0",
            "_view_name": "VBoxView",
            "box_style": "",
            "children": [
              "IPY_MODEL_7497d48d2e5e45e3ae1266bcbcf4d2ea",
              "IPY_MODEL_19c6616b79ee4a508f8a0559840369a4"
            ],
            "layout": "IPY_MODEL_c956f21e8cd64db6b8d2928e893692e9"
          }
        },
        "7497d48d2e5e45e3ae1266bcbcf4d2ea": {
          "model_module": "@jupyter-widgets/controls",
          "model_name": "LabelModel",
          "model_module_version": "1.5.0",
          "state": {
            "_dom_classes": [],
            "_model_module": "@jupyter-widgets/controls",
            "_model_module_version": "1.5.0",
            "_model_name": "LabelModel",
            "_view_count": null,
            "_view_module": "@jupyter-widgets/controls",
            "_view_module_version": "1.5.0",
            "_view_name": "LabelView",
            "description": "",
            "description_tooltip": null,
            "layout": "IPY_MODEL_0c6369045fe84b59925316af29b22257",
            "placeholder": "​",
            "style": "IPY_MODEL_82afa810836249c0bee79c50bfa3058c",
            "value": "0.009 MB of 0.009 MB uploaded (0.000 MB deduped)\r"
          }
        },
        "19c6616b79ee4a508f8a0559840369a4": {
          "model_module": "@jupyter-widgets/controls",
          "model_name": "FloatProgressModel",
          "model_module_version": "1.5.0",
          "state": {
            "_dom_classes": [],
            "_model_module": "@jupyter-widgets/controls",
            "_model_module_version": "1.5.0",
            "_model_name": "FloatProgressModel",
            "_view_count": null,
            "_view_module": "@jupyter-widgets/controls",
            "_view_module_version": "1.5.0",
            "_view_name": "ProgressView",
            "bar_style": "",
            "description": "",
            "description_tooltip": null,
            "layout": "IPY_MODEL_04646bccc8cd40628d319331b1fe5428",
            "max": 1,
            "min": 0,
            "orientation": "horizontal",
            "style": "IPY_MODEL_13014b8696c944cab3a09b6505f6fe82",
            "value": 1
          }
        },
        "c956f21e8cd64db6b8d2928e893692e9": {
          "model_module": "@jupyter-widgets/base",
          "model_name": "LayoutModel",
          "model_module_version": "1.2.0",
          "state": {
            "_model_module": "@jupyter-widgets/base",
            "_model_module_version": "1.2.0",
            "_model_name": "LayoutModel",
            "_view_count": null,
            "_view_module": "@jupyter-widgets/base",
            "_view_module_version": "1.2.0",
            "_view_name": "LayoutView",
            "align_content": null,
            "align_items": null,
            "align_self": null,
            "border": null,
            "bottom": null,
            "display": null,
            "flex": null,
            "flex_flow": null,
            "grid_area": null,
            "grid_auto_columns": null,
            "grid_auto_flow": null,
            "grid_auto_rows": null,
            "grid_column": null,
            "grid_gap": null,
            "grid_row": null,
            "grid_template_areas": null,
            "grid_template_columns": null,
            "grid_template_rows": null,
            "height": null,
            "justify_content": null,
            "justify_items": null,
            "left": null,
            "margin": null,
            "max_height": null,
            "max_width": null,
            "min_height": null,
            "min_width": null,
            "object_fit": null,
            "object_position": null,
            "order": null,
            "overflow": null,
            "overflow_x": null,
            "overflow_y": null,
            "padding": null,
            "right": null,
            "top": null,
            "visibility": null,
            "width": null
          }
        },
        "0c6369045fe84b59925316af29b22257": {
          "model_module": "@jupyter-widgets/base",
          "model_name": "LayoutModel",
          "model_module_version": "1.2.0",
          "state": {
            "_model_module": "@jupyter-widgets/base",
            "_model_module_version": "1.2.0",
            "_model_name": "LayoutModel",
            "_view_count": null,
            "_view_module": "@jupyter-widgets/base",
            "_view_module_version": "1.2.0",
            "_view_name": "LayoutView",
            "align_content": null,
            "align_items": null,
            "align_self": null,
            "border": null,
            "bottom": null,
            "display": null,
            "flex": null,
            "flex_flow": null,
            "grid_area": null,
            "grid_auto_columns": null,
            "grid_auto_flow": null,
            "grid_auto_rows": null,
            "grid_column": null,
            "grid_gap": null,
            "grid_row": null,
            "grid_template_areas": null,
            "grid_template_columns": null,
            "grid_template_rows": null,
            "height": null,
            "justify_content": null,
            "justify_items": null,
            "left": null,
            "margin": null,
            "max_height": null,
            "max_width": null,
            "min_height": null,
            "min_width": null,
            "object_fit": null,
            "object_position": null,
            "order": null,
            "overflow": null,
            "overflow_x": null,
            "overflow_y": null,
            "padding": null,
            "right": null,
            "top": null,
            "visibility": null,
            "width": null
          }
        },
        "82afa810836249c0bee79c50bfa3058c": {
          "model_module": "@jupyter-widgets/controls",
          "model_name": "DescriptionStyleModel",
          "model_module_version": "1.5.0",
          "state": {
            "_model_module": "@jupyter-widgets/controls",
            "_model_module_version": "1.5.0",
            "_model_name": "DescriptionStyleModel",
            "_view_count": null,
            "_view_module": "@jupyter-widgets/base",
            "_view_module_version": "1.2.0",
            "_view_name": "StyleView",
            "description_width": ""
          }
        },
        "04646bccc8cd40628d319331b1fe5428": {
          "model_module": "@jupyter-widgets/base",
          "model_name": "LayoutModel",
          "model_module_version": "1.2.0",
          "state": {
            "_model_module": "@jupyter-widgets/base",
            "_model_module_version": "1.2.0",
            "_model_name": "LayoutModel",
            "_view_count": null,
            "_view_module": "@jupyter-widgets/base",
            "_view_module_version": "1.2.0",
            "_view_name": "LayoutView",
            "align_content": null,
            "align_items": null,
            "align_self": null,
            "border": null,
            "bottom": null,
            "display": null,
            "flex": null,
            "flex_flow": null,
            "grid_area": null,
            "grid_auto_columns": null,
            "grid_auto_flow": null,
            "grid_auto_rows": null,
            "grid_column": null,
            "grid_gap": null,
            "grid_row": null,
            "grid_template_areas": null,
            "grid_template_columns": null,
            "grid_template_rows": null,
            "height": null,
            "justify_content": null,
            "justify_items": null,
            "left": null,
            "margin": null,
            "max_height": null,
            "max_width": null,
            "min_height": null,
            "min_width": null,
            "object_fit": null,
            "object_position": null,
            "order": null,
            "overflow": null,
            "overflow_x": null,
            "overflow_y": null,
            "padding": null,
            "right": null,
            "top": null,
            "visibility": null,
            "width": null
          }
        },
        "13014b8696c944cab3a09b6505f6fe82": {
          "model_module": "@jupyter-widgets/controls",
          "model_name": "ProgressStyleModel",
          "model_module_version": "1.5.0",
          "state": {
            "_model_module": "@jupyter-widgets/controls",
            "_model_module_version": "1.5.0",
            "_model_name": "ProgressStyleModel",
            "_view_count": null,
            "_view_module": "@jupyter-widgets/base",
            "_view_module_version": "1.2.0",
            "_view_name": "StyleView",
            "bar_color": null,
            "description_width": ""
          }
        },
        "eec3580b1e8c4948827d30e0d21c4265": {
          "model_module": "@jupyter-widgets/controls",
          "model_name": "VBoxModel",
          "model_module_version": "1.5.0",
          "state": {
            "_dom_classes": [],
            "_model_module": "@jupyter-widgets/controls",
            "_model_module_version": "1.5.0",
            "_model_name": "VBoxModel",
            "_view_count": null,
            "_view_module": "@jupyter-widgets/controls",
            "_view_module_version": "1.5.0",
            "_view_name": "VBoxView",
            "box_style": "",
            "children": [
              "IPY_MODEL_e2acfe885a664b6ea86bfaf336ddffb6",
              "IPY_MODEL_dc5ac3bc97954d26ae29789ad1f4b7ae"
            ],
            "layout": "IPY_MODEL_ba0fce18f0ba4876ba4812a9fba52114"
          }
        },
        "e2acfe885a664b6ea86bfaf336ddffb6": {
          "model_module": "@jupyter-widgets/controls",
          "model_name": "LabelModel",
          "model_module_version": "1.5.0",
          "state": {
            "_dom_classes": [],
            "_model_module": "@jupyter-widgets/controls",
            "_model_module_version": "1.5.0",
            "_model_name": "LabelModel",
            "_view_count": null,
            "_view_module": "@jupyter-widgets/controls",
            "_view_module_version": "1.5.0",
            "_view_name": "LabelView",
            "description": "",
            "description_tooltip": null,
            "layout": "IPY_MODEL_dc996b163bb845249fca85268c554c70",
            "placeholder": "​",
            "style": "IPY_MODEL_a13b2d0786374a8ca29e25f356a30c5f",
            "value": "0.009 MB of 0.009 MB uploaded (0.000 MB deduped)\r"
          }
        },
        "dc5ac3bc97954d26ae29789ad1f4b7ae": {
          "model_module": "@jupyter-widgets/controls",
          "model_name": "FloatProgressModel",
          "model_module_version": "1.5.0",
          "state": {
            "_dom_classes": [],
            "_model_module": "@jupyter-widgets/controls",
            "_model_module_version": "1.5.0",
            "_model_name": "FloatProgressModel",
            "_view_count": null,
            "_view_module": "@jupyter-widgets/controls",
            "_view_module_version": "1.5.0",
            "_view_name": "ProgressView",
            "bar_style": "",
            "description": "",
            "description_tooltip": null,
            "layout": "IPY_MODEL_726014ffc735418c8f8505438e5be097",
            "max": 1,
            "min": 0,
            "orientation": "horizontal",
            "style": "IPY_MODEL_0a927644869f46679ca0803ad57a968b",
            "value": 1
          }
        },
        "ba0fce18f0ba4876ba4812a9fba52114": {
          "model_module": "@jupyter-widgets/base",
          "model_name": "LayoutModel",
          "model_module_version": "1.2.0",
          "state": {
            "_model_module": "@jupyter-widgets/base",
            "_model_module_version": "1.2.0",
            "_model_name": "LayoutModel",
            "_view_count": null,
            "_view_module": "@jupyter-widgets/base",
            "_view_module_version": "1.2.0",
            "_view_name": "LayoutView",
            "align_content": null,
            "align_items": null,
            "align_self": null,
            "border": null,
            "bottom": null,
            "display": null,
            "flex": null,
            "flex_flow": null,
            "grid_area": null,
            "grid_auto_columns": null,
            "grid_auto_flow": null,
            "grid_auto_rows": null,
            "grid_column": null,
            "grid_gap": null,
            "grid_row": null,
            "grid_template_areas": null,
            "grid_template_columns": null,
            "grid_template_rows": null,
            "height": null,
            "justify_content": null,
            "justify_items": null,
            "left": null,
            "margin": null,
            "max_height": null,
            "max_width": null,
            "min_height": null,
            "min_width": null,
            "object_fit": null,
            "object_position": null,
            "order": null,
            "overflow": null,
            "overflow_x": null,
            "overflow_y": null,
            "padding": null,
            "right": null,
            "top": null,
            "visibility": null,
            "width": null
          }
        },
        "dc996b163bb845249fca85268c554c70": {
          "model_module": "@jupyter-widgets/base",
          "model_name": "LayoutModel",
          "model_module_version": "1.2.0",
          "state": {
            "_model_module": "@jupyter-widgets/base",
            "_model_module_version": "1.2.0",
            "_model_name": "LayoutModel",
            "_view_count": null,
            "_view_module": "@jupyter-widgets/base",
            "_view_module_version": "1.2.0",
            "_view_name": "LayoutView",
            "align_content": null,
            "align_items": null,
            "align_self": null,
            "border": null,
            "bottom": null,
            "display": null,
            "flex": null,
            "flex_flow": null,
            "grid_area": null,
            "grid_auto_columns": null,
            "grid_auto_flow": null,
            "grid_auto_rows": null,
            "grid_column": null,
            "grid_gap": null,
            "grid_row": null,
            "grid_template_areas": null,
            "grid_template_columns": null,
            "grid_template_rows": null,
            "height": null,
            "justify_content": null,
            "justify_items": null,
            "left": null,
            "margin": null,
            "max_height": null,
            "max_width": null,
            "min_height": null,
            "min_width": null,
            "object_fit": null,
            "object_position": null,
            "order": null,
            "overflow": null,
            "overflow_x": null,
            "overflow_y": null,
            "padding": null,
            "right": null,
            "top": null,
            "visibility": null,
            "width": null
          }
        },
        "a13b2d0786374a8ca29e25f356a30c5f": {
          "model_module": "@jupyter-widgets/controls",
          "model_name": "DescriptionStyleModel",
          "model_module_version": "1.5.0",
          "state": {
            "_model_module": "@jupyter-widgets/controls",
            "_model_module_version": "1.5.0",
            "_model_name": "DescriptionStyleModel",
            "_view_count": null,
            "_view_module": "@jupyter-widgets/base",
            "_view_module_version": "1.2.0",
            "_view_name": "StyleView",
            "description_width": ""
          }
        },
        "726014ffc735418c8f8505438e5be097": {
          "model_module": "@jupyter-widgets/base",
          "model_name": "LayoutModel",
          "model_module_version": "1.2.0",
          "state": {
            "_model_module": "@jupyter-widgets/base",
            "_model_module_version": "1.2.0",
            "_model_name": "LayoutModel",
            "_view_count": null,
            "_view_module": "@jupyter-widgets/base",
            "_view_module_version": "1.2.0",
            "_view_name": "LayoutView",
            "align_content": null,
            "align_items": null,
            "align_self": null,
            "border": null,
            "bottom": null,
            "display": null,
            "flex": null,
            "flex_flow": null,
            "grid_area": null,
            "grid_auto_columns": null,
            "grid_auto_flow": null,
            "grid_auto_rows": null,
            "grid_column": null,
            "grid_gap": null,
            "grid_row": null,
            "grid_template_areas": null,
            "grid_template_columns": null,
            "grid_template_rows": null,
            "height": null,
            "justify_content": null,
            "justify_items": null,
            "left": null,
            "margin": null,
            "max_height": null,
            "max_width": null,
            "min_height": null,
            "min_width": null,
            "object_fit": null,
            "object_position": null,
            "order": null,
            "overflow": null,
            "overflow_x": null,
            "overflow_y": null,
            "padding": null,
            "right": null,
            "top": null,
            "visibility": null,
            "width": null
          }
        },
        "0a927644869f46679ca0803ad57a968b": {
          "model_module": "@jupyter-widgets/controls",
          "model_name": "ProgressStyleModel",
          "model_module_version": "1.5.0",
          "state": {
            "_model_module": "@jupyter-widgets/controls",
            "_model_module_version": "1.5.0",
            "_model_name": "ProgressStyleModel",
            "_view_count": null,
            "_view_module": "@jupyter-widgets/base",
            "_view_module_version": "1.2.0",
            "_view_name": "StyleView",
            "bar_color": null,
            "description_width": ""
          }
        },
        "60f5d2042c504b3895e5a69306ba4397": {
          "model_module": "@jupyter-widgets/controls",
          "model_name": "VBoxModel",
          "model_module_version": "1.5.0",
          "state": {
            "_dom_classes": [],
            "_model_module": "@jupyter-widgets/controls",
            "_model_module_version": "1.5.0",
            "_model_name": "VBoxModel",
            "_view_count": null,
            "_view_module": "@jupyter-widgets/controls",
            "_view_module_version": "1.5.0",
            "_view_name": "VBoxView",
            "box_style": "",
            "children": [
              "IPY_MODEL_6709729bfb064e9f9aa80e4a3b321c30",
              "IPY_MODEL_8af17597333747b9baa028b6a5016ba5"
            ],
            "layout": "IPY_MODEL_331625c5a5d646b39c154648abc3f223"
          }
        },
        "6709729bfb064e9f9aa80e4a3b321c30": {
          "model_module": "@jupyter-widgets/controls",
          "model_name": "LabelModel",
          "model_module_version": "1.5.0",
          "state": {
            "_dom_classes": [],
            "_model_module": "@jupyter-widgets/controls",
            "_model_module_version": "1.5.0",
            "_model_name": "LabelModel",
            "_view_count": null,
            "_view_module": "@jupyter-widgets/controls",
            "_view_module_version": "1.5.0",
            "_view_name": "LabelView",
            "description": "",
            "description_tooltip": null,
            "layout": "IPY_MODEL_7dfa5828ec0845b3839b49c5a31ca50a",
            "placeholder": "​",
            "style": "IPY_MODEL_767e426233f64a49b9d1c30c88405ed4",
            "value": "0.009 MB of 0.009 MB uploaded (0.000 MB deduped)\r"
          }
        },
        "8af17597333747b9baa028b6a5016ba5": {
          "model_module": "@jupyter-widgets/controls",
          "model_name": "FloatProgressModel",
          "model_module_version": "1.5.0",
          "state": {
            "_dom_classes": [],
            "_model_module": "@jupyter-widgets/controls",
            "_model_module_version": "1.5.0",
            "_model_name": "FloatProgressModel",
            "_view_count": null,
            "_view_module": "@jupyter-widgets/controls",
            "_view_module_version": "1.5.0",
            "_view_name": "ProgressView",
            "bar_style": "",
            "description": "",
            "description_tooltip": null,
            "layout": "IPY_MODEL_5feb42bb118342b4b647b08bf6a4fcbb",
            "max": 1,
            "min": 0,
            "orientation": "horizontal",
            "style": "IPY_MODEL_92f768dd1947474cb5c9a094b9312668",
            "value": 1
          }
        },
        "331625c5a5d646b39c154648abc3f223": {
          "model_module": "@jupyter-widgets/base",
          "model_name": "LayoutModel",
          "model_module_version": "1.2.0",
          "state": {
            "_model_module": "@jupyter-widgets/base",
            "_model_module_version": "1.2.0",
            "_model_name": "LayoutModel",
            "_view_count": null,
            "_view_module": "@jupyter-widgets/base",
            "_view_module_version": "1.2.0",
            "_view_name": "LayoutView",
            "align_content": null,
            "align_items": null,
            "align_self": null,
            "border": null,
            "bottom": null,
            "display": null,
            "flex": null,
            "flex_flow": null,
            "grid_area": null,
            "grid_auto_columns": null,
            "grid_auto_flow": null,
            "grid_auto_rows": null,
            "grid_column": null,
            "grid_gap": null,
            "grid_row": null,
            "grid_template_areas": null,
            "grid_template_columns": null,
            "grid_template_rows": null,
            "height": null,
            "justify_content": null,
            "justify_items": null,
            "left": null,
            "margin": null,
            "max_height": null,
            "max_width": null,
            "min_height": null,
            "min_width": null,
            "object_fit": null,
            "object_position": null,
            "order": null,
            "overflow": null,
            "overflow_x": null,
            "overflow_y": null,
            "padding": null,
            "right": null,
            "top": null,
            "visibility": null,
            "width": null
          }
        },
        "7dfa5828ec0845b3839b49c5a31ca50a": {
          "model_module": "@jupyter-widgets/base",
          "model_name": "LayoutModel",
          "model_module_version": "1.2.0",
          "state": {
            "_model_module": "@jupyter-widgets/base",
            "_model_module_version": "1.2.0",
            "_model_name": "LayoutModel",
            "_view_count": null,
            "_view_module": "@jupyter-widgets/base",
            "_view_module_version": "1.2.0",
            "_view_name": "LayoutView",
            "align_content": null,
            "align_items": null,
            "align_self": null,
            "border": null,
            "bottom": null,
            "display": null,
            "flex": null,
            "flex_flow": null,
            "grid_area": null,
            "grid_auto_columns": null,
            "grid_auto_flow": null,
            "grid_auto_rows": null,
            "grid_column": null,
            "grid_gap": null,
            "grid_row": null,
            "grid_template_areas": null,
            "grid_template_columns": null,
            "grid_template_rows": null,
            "height": null,
            "justify_content": null,
            "justify_items": null,
            "left": null,
            "margin": null,
            "max_height": null,
            "max_width": null,
            "min_height": null,
            "min_width": null,
            "object_fit": null,
            "object_position": null,
            "order": null,
            "overflow": null,
            "overflow_x": null,
            "overflow_y": null,
            "padding": null,
            "right": null,
            "top": null,
            "visibility": null,
            "width": null
          }
        },
        "767e426233f64a49b9d1c30c88405ed4": {
          "model_module": "@jupyter-widgets/controls",
          "model_name": "DescriptionStyleModel",
          "model_module_version": "1.5.0",
          "state": {
            "_model_module": "@jupyter-widgets/controls",
            "_model_module_version": "1.5.0",
            "_model_name": "DescriptionStyleModel",
            "_view_count": null,
            "_view_module": "@jupyter-widgets/base",
            "_view_module_version": "1.2.0",
            "_view_name": "StyleView",
            "description_width": ""
          }
        },
        "5feb42bb118342b4b647b08bf6a4fcbb": {
          "model_module": "@jupyter-widgets/base",
          "model_name": "LayoutModel",
          "model_module_version": "1.2.0",
          "state": {
            "_model_module": "@jupyter-widgets/base",
            "_model_module_version": "1.2.0",
            "_model_name": "LayoutModel",
            "_view_count": null,
            "_view_module": "@jupyter-widgets/base",
            "_view_module_version": "1.2.0",
            "_view_name": "LayoutView",
            "align_content": null,
            "align_items": null,
            "align_self": null,
            "border": null,
            "bottom": null,
            "display": null,
            "flex": null,
            "flex_flow": null,
            "grid_area": null,
            "grid_auto_columns": null,
            "grid_auto_flow": null,
            "grid_auto_rows": null,
            "grid_column": null,
            "grid_gap": null,
            "grid_row": null,
            "grid_template_areas": null,
            "grid_template_columns": null,
            "grid_template_rows": null,
            "height": null,
            "justify_content": null,
            "justify_items": null,
            "left": null,
            "margin": null,
            "max_height": null,
            "max_width": null,
            "min_height": null,
            "min_width": null,
            "object_fit": null,
            "object_position": null,
            "order": null,
            "overflow": null,
            "overflow_x": null,
            "overflow_y": null,
            "padding": null,
            "right": null,
            "top": null,
            "visibility": null,
            "width": null
          }
        },
        "92f768dd1947474cb5c9a094b9312668": {
          "model_module": "@jupyter-widgets/controls",
          "model_name": "ProgressStyleModel",
          "model_module_version": "1.5.0",
          "state": {
            "_model_module": "@jupyter-widgets/controls",
            "_model_module_version": "1.5.0",
            "_model_name": "ProgressStyleModel",
            "_view_count": null,
            "_view_module": "@jupyter-widgets/base",
            "_view_module_version": "1.2.0",
            "_view_name": "StyleView",
            "bar_color": null,
            "description_width": ""
          }
        },
        "dc88e02c76a4465bb5dccb4610f5c4af": {
          "model_module": "@jupyter-widgets/controls",
          "model_name": "VBoxModel",
          "model_module_version": "1.5.0",
          "state": {
            "_dom_classes": [],
            "_model_module": "@jupyter-widgets/controls",
            "_model_module_version": "1.5.0",
            "_model_name": "VBoxModel",
            "_view_count": null,
            "_view_module": "@jupyter-widgets/controls",
            "_view_module_version": "1.5.0",
            "_view_name": "VBoxView",
            "box_style": "",
            "children": [
              "IPY_MODEL_79d33391952f4c5b8537d9677cdad1bb",
              "IPY_MODEL_5d06aae88b2f4c3b9d8a40e8457c1940"
            ],
            "layout": "IPY_MODEL_aa4bf838a5574c22a76e4384c13f75d0"
          }
        },
        "79d33391952f4c5b8537d9677cdad1bb": {
          "model_module": "@jupyter-widgets/controls",
          "model_name": "LabelModel",
          "model_module_version": "1.5.0",
          "state": {
            "_dom_classes": [],
            "_model_module": "@jupyter-widgets/controls",
            "_model_module_version": "1.5.0",
            "_model_name": "LabelModel",
            "_view_count": null,
            "_view_module": "@jupyter-widgets/controls",
            "_view_module_version": "1.5.0",
            "_view_name": "LabelView",
            "description": "",
            "description_tooltip": null,
            "layout": "IPY_MODEL_f0180afdecba4e05876021ab75d97ccf",
            "placeholder": "​",
            "style": "IPY_MODEL_df5c2eb11f134d9fac39075a351a3a50",
            "value": "0.009 MB of 0.009 MB uploaded (0.000 MB deduped)\r"
          }
        },
        "5d06aae88b2f4c3b9d8a40e8457c1940": {
          "model_module": "@jupyter-widgets/controls",
          "model_name": "FloatProgressModel",
          "model_module_version": "1.5.0",
          "state": {
            "_dom_classes": [],
            "_model_module": "@jupyter-widgets/controls",
            "_model_module_version": "1.5.0",
            "_model_name": "FloatProgressModel",
            "_view_count": null,
            "_view_module": "@jupyter-widgets/controls",
            "_view_module_version": "1.5.0",
            "_view_name": "ProgressView",
            "bar_style": "",
            "description": "",
            "description_tooltip": null,
            "layout": "IPY_MODEL_15f79f7d22084f0d89128dd25289ace7",
            "max": 1,
            "min": 0,
            "orientation": "horizontal",
            "style": "IPY_MODEL_525a46e955224211871ad49a39b0287f",
            "value": 1
          }
        },
        "aa4bf838a5574c22a76e4384c13f75d0": {
          "model_module": "@jupyter-widgets/base",
          "model_name": "LayoutModel",
          "model_module_version": "1.2.0",
          "state": {
            "_model_module": "@jupyter-widgets/base",
            "_model_module_version": "1.2.0",
            "_model_name": "LayoutModel",
            "_view_count": null,
            "_view_module": "@jupyter-widgets/base",
            "_view_module_version": "1.2.0",
            "_view_name": "LayoutView",
            "align_content": null,
            "align_items": null,
            "align_self": null,
            "border": null,
            "bottom": null,
            "display": null,
            "flex": null,
            "flex_flow": null,
            "grid_area": null,
            "grid_auto_columns": null,
            "grid_auto_flow": null,
            "grid_auto_rows": null,
            "grid_column": null,
            "grid_gap": null,
            "grid_row": null,
            "grid_template_areas": null,
            "grid_template_columns": null,
            "grid_template_rows": null,
            "height": null,
            "justify_content": null,
            "justify_items": null,
            "left": null,
            "margin": null,
            "max_height": null,
            "max_width": null,
            "min_height": null,
            "min_width": null,
            "object_fit": null,
            "object_position": null,
            "order": null,
            "overflow": null,
            "overflow_x": null,
            "overflow_y": null,
            "padding": null,
            "right": null,
            "top": null,
            "visibility": null,
            "width": null
          }
        },
        "f0180afdecba4e05876021ab75d97ccf": {
          "model_module": "@jupyter-widgets/base",
          "model_name": "LayoutModel",
          "model_module_version": "1.2.0",
          "state": {
            "_model_module": "@jupyter-widgets/base",
            "_model_module_version": "1.2.0",
            "_model_name": "LayoutModel",
            "_view_count": null,
            "_view_module": "@jupyter-widgets/base",
            "_view_module_version": "1.2.0",
            "_view_name": "LayoutView",
            "align_content": null,
            "align_items": null,
            "align_self": null,
            "border": null,
            "bottom": null,
            "display": null,
            "flex": null,
            "flex_flow": null,
            "grid_area": null,
            "grid_auto_columns": null,
            "grid_auto_flow": null,
            "grid_auto_rows": null,
            "grid_column": null,
            "grid_gap": null,
            "grid_row": null,
            "grid_template_areas": null,
            "grid_template_columns": null,
            "grid_template_rows": null,
            "height": null,
            "justify_content": null,
            "justify_items": null,
            "left": null,
            "margin": null,
            "max_height": null,
            "max_width": null,
            "min_height": null,
            "min_width": null,
            "object_fit": null,
            "object_position": null,
            "order": null,
            "overflow": null,
            "overflow_x": null,
            "overflow_y": null,
            "padding": null,
            "right": null,
            "top": null,
            "visibility": null,
            "width": null
          }
        },
        "df5c2eb11f134d9fac39075a351a3a50": {
          "model_module": "@jupyter-widgets/controls",
          "model_name": "DescriptionStyleModel",
          "model_module_version": "1.5.0",
          "state": {
            "_model_module": "@jupyter-widgets/controls",
            "_model_module_version": "1.5.0",
            "_model_name": "DescriptionStyleModel",
            "_view_count": null,
            "_view_module": "@jupyter-widgets/base",
            "_view_module_version": "1.2.0",
            "_view_name": "StyleView",
            "description_width": ""
          }
        },
        "15f79f7d22084f0d89128dd25289ace7": {
          "model_module": "@jupyter-widgets/base",
          "model_name": "LayoutModel",
          "model_module_version": "1.2.0",
          "state": {
            "_model_module": "@jupyter-widgets/base",
            "_model_module_version": "1.2.0",
            "_model_name": "LayoutModel",
            "_view_count": null,
            "_view_module": "@jupyter-widgets/base",
            "_view_module_version": "1.2.0",
            "_view_name": "LayoutView",
            "align_content": null,
            "align_items": null,
            "align_self": null,
            "border": null,
            "bottom": null,
            "display": null,
            "flex": null,
            "flex_flow": null,
            "grid_area": null,
            "grid_auto_columns": null,
            "grid_auto_flow": null,
            "grid_auto_rows": null,
            "grid_column": null,
            "grid_gap": null,
            "grid_row": null,
            "grid_template_areas": null,
            "grid_template_columns": null,
            "grid_template_rows": null,
            "height": null,
            "justify_content": null,
            "justify_items": null,
            "left": null,
            "margin": null,
            "max_height": null,
            "max_width": null,
            "min_height": null,
            "min_width": null,
            "object_fit": null,
            "object_position": null,
            "order": null,
            "overflow": null,
            "overflow_x": null,
            "overflow_y": null,
            "padding": null,
            "right": null,
            "top": null,
            "visibility": null,
            "width": null
          }
        },
        "525a46e955224211871ad49a39b0287f": {
          "model_module": "@jupyter-widgets/controls",
          "model_name": "ProgressStyleModel",
          "model_module_version": "1.5.0",
          "state": {
            "_model_module": "@jupyter-widgets/controls",
            "_model_module_version": "1.5.0",
            "_model_name": "ProgressStyleModel",
            "_view_count": null,
            "_view_module": "@jupyter-widgets/base",
            "_view_module_version": "1.2.0",
            "_view_name": "StyleView",
            "bar_color": null,
            "description_width": ""
          }
        },
        "3e77759be1d84ad3ac502665b278fed2": {
          "model_module": "@jupyter-widgets/controls",
          "model_name": "VBoxModel",
          "model_module_version": "1.5.0",
          "state": {
            "_dom_classes": [],
            "_model_module": "@jupyter-widgets/controls",
            "_model_module_version": "1.5.0",
            "_model_name": "VBoxModel",
            "_view_count": null,
            "_view_module": "@jupyter-widgets/controls",
            "_view_module_version": "1.5.0",
            "_view_name": "VBoxView",
            "box_style": "",
            "children": [
              "IPY_MODEL_061df5a4550c4c7c813ee7b7d381c928",
              "IPY_MODEL_486f0690254e4c42817497670b099b6b"
            ],
            "layout": "IPY_MODEL_70b94574193b4f5f9bfd5a84d89e1368"
          }
        },
        "061df5a4550c4c7c813ee7b7d381c928": {
          "model_module": "@jupyter-widgets/controls",
          "model_name": "LabelModel",
          "model_module_version": "1.5.0",
          "state": {
            "_dom_classes": [],
            "_model_module": "@jupyter-widgets/controls",
            "_model_module_version": "1.5.0",
            "_model_name": "LabelModel",
            "_view_count": null,
            "_view_module": "@jupyter-widgets/controls",
            "_view_module_version": "1.5.0",
            "_view_name": "LabelView",
            "description": "",
            "description_tooltip": null,
            "layout": "IPY_MODEL_e30466e0cd4e4974bd368012cf16cc5e",
            "placeholder": "​",
            "style": "IPY_MODEL_1358b961b41247daa3cc30315c6e8359",
            "value": "0.009 MB of 0.009 MB uploaded (0.000 MB deduped)\r"
          }
        },
        "486f0690254e4c42817497670b099b6b": {
          "model_module": "@jupyter-widgets/controls",
          "model_name": "FloatProgressModel",
          "model_module_version": "1.5.0",
          "state": {
            "_dom_classes": [],
            "_model_module": "@jupyter-widgets/controls",
            "_model_module_version": "1.5.0",
            "_model_name": "FloatProgressModel",
            "_view_count": null,
            "_view_module": "@jupyter-widgets/controls",
            "_view_module_version": "1.5.0",
            "_view_name": "ProgressView",
            "bar_style": "",
            "description": "",
            "description_tooltip": null,
            "layout": "IPY_MODEL_705a84ad9bb2464ba3885bc9a622357e",
            "max": 1,
            "min": 0,
            "orientation": "horizontal",
            "style": "IPY_MODEL_2dc14d036e2140b19e74de05a3b90771",
            "value": 1
          }
        },
        "70b94574193b4f5f9bfd5a84d89e1368": {
          "model_module": "@jupyter-widgets/base",
          "model_name": "LayoutModel",
          "model_module_version": "1.2.0",
          "state": {
            "_model_module": "@jupyter-widgets/base",
            "_model_module_version": "1.2.0",
            "_model_name": "LayoutModel",
            "_view_count": null,
            "_view_module": "@jupyter-widgets/base",
            "_view_module_version": "1.2.0",
            "_view_name": "LayoutView",
            "align_content": null,
            "align_items": null,
            "align_self": null,
            "border": null,
            "bottom": null,
            "display": null,
            "flex": null,
            "flex_flow": null,
            "grid_area": null,
            "grid_auto_columns": null,
            "grid_auto_flow": null,
            "grid_auto_rows": null,
            "grid_column": null,
            "grid_gap": null,
            "grid_row": null,
            "grid_template_areas": null,
            "grid_template_columns": null,
            "grid_template_rows": null,
            "height": null,
            "justify_content": null,
            "justify_items": null,
            "left": null,
            "margin": null,
            "max_height": null,
            "max_width": null,
            "min_height": null,
            "min_width": null,
            "object_fit": null,
            "object_position": null,
            "order": null,
            "overflow": null,
            "overflow_x": null,
            "overflow_y": null,
            "padding": null,
            "right": null,
            "top": null,
            "visibility": null,
            "width": null
          }
        },
        "e30466e0cd4e4974bd368012cf16cc5e": {
          "model_module": "@jupyter-widgets/base",
          "model_name": "LayoutModel",
          "model_module_version": "1.2.0",
          "state": {
            "_model_module": "@jupyter-widgets/base",
            "_model_module_version": "1.2.0",
            "_model_name": "LayoutModel",
            "_view_count": null,
            "_view_module": "@jupyter-widgets/base",
            "_view_module_version": "1.2.0",
            "_view_name": "LayoutView",
            "align_content": null,
            "align_items": null,
            "align_self": null,
            "border": null,
            "bottom": null,
            "display": null,
            "flex": null,
            "flex_flow": null,
            "grid_area": null,
            "grid_auto_columns": null,
            "grid_auto_flow": null,
            "grid_auto_rows": null,
            "grid_column": null,
            "grid_gap": null,
            "grid_row": null,
            "grid_template_areas": null,
            "grid_template_columns": null,
            "grid_template_rows": null,
            "height": null,
            "justify_content": null,
            "justify_items": null,
            "left": null,
            "margin": null,
            "max_height": null,
            "max_width": null,
            "min_height": null,
            "min_width": null,
            "object_fit": null,
            "object_position": null,
            "order": null,
            "overflow": null,
            "overflow_x": null,
            "overflow_y": null,
            "padding": null,
            "right": null,
            "top": null,
            "visibility": null,
            "width": null
          }
        },
        "1358b961b41247daa3cc30315c6e8359": {
          "model_module": "@jupyter-widgets/controls",
          "model_name": "DescriptionStyleModel",
          "model_module_version": "1.5.0",
          "state": {
            "_model_module": "@jupyter-widgets/controls",
            "_model_module_version": "1.5.0",
            "_model_name": "DescriptionStyleModel",
            "_view_count": null,
            "_view_module": "@jupyter-widgets/base",
            "_view_module_version": "1.2.0",
            "_view_name": "StyleView",
            "description_width": ""
          }
        },
        "705a84ad9bb2464ba3885bc9a622357e": {
          "model_module": "@jupyter-widgets/base",
          "model_name": "LayoutModel",
          "model_module_version": "1.2.0",
          "state": {
            "_model_module": "@jupyter-widgets/base",
            "_model_module_version": "1.2.0",
            "_model_name": "LayoutModel",
            "_view_count": null,
            "_view_module": "@jupyter-widgets/base",
            "_view_module_version": "1.2.0",
            "_view_name": "LayoutView",
            "align_content": null,
            "align_items": null,
            "align_self": null,
            "border": null,
            "bottom": null,
            "display": null,
            "flex": null,
            "flex_flow": null,
            "grid_area": null,
            "grid_auto_columns": null,
            "grid_auto_flow": null,
            "grid_auto_rows": null,
            "grid_column": null,
            "grid_gap": null,
            "grid_row": null,
            "grid_template_areas": null,
            "grid_template_columns": null,
            "grid_template_rows": null,
            "height": null,
            "justify_content": null,
            "justify_items": null,
            "left": null,
            "margin": null,
            "max_height": null,
            "max_width": null,
            "min_height": null,
            "min_width": null,
            "object_fit": null,
            "object_position": null,
            "order": null,
            "overflow": null,
            "overflow_x": null,
            "overflow_y": null,
            "padding": null,
            "right": null,
            "top": null,
            "visibility": null,
            "width": null
          }
        },
        "2dc14d036e2140b19e74de05a3b90771": {
          "model_module": "@jupyter-widgets/controls",
          "model_name": "ProgressStyleModel",
          "model_module_version": "1.5.0",
          "state": {
            "_model_module": "@jupyter-widgets/controls",
            "_model_module_version": "1.5.0",
            "_model_name": "ProgressStyleModel",
            "_view_count": null,
            "_view_module": "@jupyter-widgets/base",
            "_view_module_version": "1.2.0",
            "_view_name": "StyleView",
            "bar_color": null,
            "description_width": ""
          }
        },
        "ae5319e92b3643c5afec55a8c218d936": {
          "model_module": "@jupyter-widgets/controls",
          "model_name": "VBoxModel",
          "model_module_version": "1.5.0",
          "state": {
            "_dom_classes": [],
            "_model_module": "@jupyter-widgets/controls",
            "_model_module_version": "1.5.0",
            "_model_name": "VBoxModel",
            "_view_count": null,
            "_view_module": "@jupyter-widgets/controls",
            "_view_module_version": "1.5.0",
            "_view_name": "VBoxView",
            "box_style": "",
            "children": [
              "IPY_MODEL_f8f2370776db41fdac7167698cc13ba8",
              "IPY_MODEL_f077a9ee6135439bb61ee052d13c6f7a"
            ],
            "layout": "IPY_MODEL_8f6fb7eb5419434198828c88b7805880"
          }
        },
        "f8f2370776db41fdac7167698cc13ba8": {
          "model_module": "@jupyter-widgets/controls",
          "model_name": "LabelModel",
          "model_module_version": "1.5.0",
          "state": {
            "_dom_classes": [],
            "_model_module": "@jupyter-widgets/controls",
            "_model_module_version": "1.5.0",
            "_model_name": "LabelModel",
            "_view_count": null,
            "_view_module": "@jupyter-widgets/controls",
            "_view_module_version": "1.5.0",
            "_view_name": "LabelView",
            "description": "",
            "description_tooltip": null,
            "layout": "IPY_MODEL_16cfca4f6733402d9ae5427c3fae94b5",
            "placeholder": "​",
            "style": "IPY_MODEL_502877f1cfa142fab2cebd42000f343f",
            "value": "0.009 MB of 0.009 MB uploaded (0.000 MB deduped)\r"
          }
        },
        "f077a9ee6135439bb61ee052d13c6f7a": {
          "model_module": "@jupyter-widgets/controls",
          "model_name": "FloatProgressModel",
          "model_module_version": "1.5.0",
          "state": {
            "_dom_classes": [],
            "_model_module": "@jupyter-widgets/controls",
            "_model_module_version": "1.5.0",
            "_model_name": "FloatProgressModel",
            "_view_count": null,
            "_view_module": "@jupyter-widgets/controls",
            "_view_module_version": "1.5.0",
            "_view_name": "ProgressView",
            "bar_style": "",
            "description": "",
            "description_tooltip": null,
            "layout": "IPY_MODEL_bea82558e03f47d89f37988ef006779f",
            "max": 1,
            "min": 0,
            "orientation": "horizontal",
            "style": "IPY_MODEL_510dc2b5c06b4db7a09e8d675657b418",
            "value": 1
          }
        },
        "8f6fb7eb5419434198828c88b7805880": {
          "model_module": "@jupyter-widgets/base",
          "model_name": "LayoutModel",
          "model_module_version": "1.2.0",
          "state": {
            "_model_module": "@jupyter-widgets/base",
            "_model_module_version": "1.2.0",
            "_model_name": "LayoutModel",
            "_view_count": null,
            "_view_module": "@jupyter-widgets/base",
            "_view_module_version": "1.2.0",
            "_view_name": "LayoutView",
            "align_content": null,
            "align_items": null,
            "align_self": null,
            "border": null,
            "bottom": null,
            "display": null,
            "flex": null,
            "flex_flow": null,
            "grid_area": null,
            "grid_auto_columns": null,
            "grid_auto_flow": null,
            "grid_auto_rows": null,
            "grid_column": null,
            "grid_gap": null,
            "grid_row": null,
            "grid_template_areas": null,
            "grid_template_columns": null,
            "grid_template_rows": null,
            "height": null,
            "justify_content": null,
            "justify_items": null,
            "left": null,
            "margin": null,
            "max_height": null,
            "max_width": null,
            "min_height": null,
            "min_width": null,
            "object_fit": null,
            "object_position": null,
            "order": null,
            "overflow": null,
            "overflow_x": null,
            "overflow_y": null,
            "padding": null,
            "right": null,
            "top": null,
            "visibility": null,
            "width": null
          }
        },
        "16cfca4f6733402d9ae5427c3fae94b5": {
          "model_module": "@jupyter-widgets/base",
          "model_name": "LayoutModel",
          "model_module_version": "1.2.0",
          "state": {
            "_model_module": "@jupyter-widgets/base",
            "_model_module_version": "1.2.0",
            "_model_name": "LayoutModel",
            "_view_count": null,
            "_view_module": "@jupyter-widgets/base",
            "_view_module_version": "1.2.0",
            "_view_name": "LayoutView",
            "align_content": null,
            "align_items": null,
            "align_self": null,
            "border": null,
            "bottom": null,
            "display": null,
            "flex": null,
            "flex_flow": null,
            "grid_area": null,
            "grid_auto_columns": null,
            "grid_auto_flow": null,
            "grid_auto_rows": null,
            "grid_column": null,
            "grid_gap": null,
            "grid_row": null,
            "grid_template_areas": null,
            "grid_template_columns": null,
            "grid_template_rows": null,
            "height": null,
            "justify_content": null,
            "justify_items": null,
            "left": null,
            "margin": null,
            "max_height": null,
            "max_width": null,
            "min_height": null,
            "min_width": null,
            "object_fit": null,
            "object_position": null,
            "order": null,
            "overflow": null,
            "overflow_x": null,
            "overflow_y": null,
            "padding": null,
            "right": null,
            "top": null,
            "visibility": null,
            "width": null
          }
        },
        "502877f1cfa142fab2cebd42000f343f": {
          "model_module": "@jupyter-widgets/controls",
          "model_name": "DescriptionStyleModel",
          "model_module_version": "1.5.0",
          "state": {
            "_model_module": "@jupyter-widgets/controls",
            "_model_module_version": "1.5.0",
            "_model_name": "DescriptionStyleModel",
            "_view_count": null,
            "_view_module": "@jupyter-widgets/base",
            "_view_module_version": "1.2.0",
            "_view_name": "StyleView",
            "description_width": ""
          }
        },
        "bea82558e03f47d89f37988ef006779f": {
          "model_module": "@jupyter-widgets/base",
          "model_name": "LayoutModel",
          "model_module_version": "1.2.0",
          "state": {
            "_model_module": "@jupyter-widgets/base",
            "_model_module_version": "1.2.0",
            "_model_name": "LayoutModel",
            "_view_count": null,
            "_view_module": "@jupyter-widgets/base",
            "_view_module_version": "1.2.0",
            "_view_name": "LayoutView",
            "align_content": null,
            "align_items": null,
            "align_self": null,
            "border": null,
            "bottom": null,
            "display": null,
            "flex": null,
            "flex_flow": null,
            "grid_area": null,
            "grid_auto_columns": null,
            "grid_auto_flow": null,
            "grid_auto_rows": null,
            "grid_column": null,
            "grid_gap": null,
            "grid_row": null,
            "grid_template_areas": null,
            "grid_template_columns": null,
            "grid_template_rows": null,
            "height": null,
            "justify_content": null,
            "justify_items": null,
            "left": null,
            "margin": null,
            "max_height": null,
            "max_width": null,
            "min_height": null,
            "min_width": null,
            "object_fit": null,
            "object_position": null,
            "order": null,
            "overflow": null,
            "overflow_x": null,
            "overflow_y": null,
            "padding": null,
            "right": null,
            "top": null,
            "visibility": null,
            "width": null
          }
        },
        "510dc2b5c06b4db7a09e8d675657b418": {
          "model_module": "@jupyter-widgets/controls",
          "model_name": "ProgressStyleModel",
          "model_module_version": "1.5.0",
          "state": {
            "_model_module": "@jupyter-widgets/controls",
            "_model_module_version": "1.5.0",
            "_model_name": "ProgressStyleModel",
            "_view_count": null,
            "_view_module": "@jupyter-widgets/base",
            "_view_module_version": "1.2.0",
            "_view_name": "StyleView",
            "bar_color": null,
            "description_width": ""
          }
        },
        "c61a734ce915467ebc25e10738201d78": {
          "model_module": "@jupyter-widgets/controls",
          "model_name": "VBoxModel",
          "model_module_version": "1.5.0",
          "state": {
            "_dom_classes": [],
            "_model_module": "@jupyter-widgets/controls",
            "_model_module_version": "1.5.0",
            "_model_name": "VBoxModel",
            "_view_count": null,
            "_view_module": "@jupyter-widgets/controls",
            "_view_module_version": "1.5.0",
            "_view_name": "VBoxView",
            "box_style": "",
            "children": [
              "IPY_MODEL_99829c8dfef04de3a1dc959c66ddae1e",
              "IPY_MODEL_a257a5fc9b9b494ea4c4a37bc2c07d57"
            ],
            "layout": "IPY_MODEL_c7643dc7dd4a4815bac990eefb0cd4fb"
          }
        },
        "99829c8dfef04de3a1dc959c66ddae1e": {
          "model_module": "@jupyter-widgets/controls",
          "model_name": "LabelModel",
          "model_module_version": "1.5.0",
          "state": {
            "_dom_classes": [],
            "_model_module": "@jupyter-widgets/controls",
            "_model_module_version": "1.5.0",
            "_model_name": "LabelModel",
            "_view_count": null,
            "_view_module": "@jupyter-widgets/controls",
            "_view_module_version": "1.5.0",
            "_view_name": "LabelView",
            "description": "",
            "description_tooltip": null,
            "layout": "IPY_MODEL_de0b53ad51ac4d899df7adab41f8ecc9",
            "placeholder": "​",
            "style": "IPY_MODEL_6c18e57272074da49731d82b372efb7c",
            "value": "0.009 MB of 0.009 MB uploaded (0.000 MB deduped)\r"
          }
        },
        "a257a5fc9b9b494ea4c4a37bc2c07d57": {
          "model_module": "@jupyter-widgets/controls",
          "model_name": "FloatProgressModel",
          "model_module_version": "1.5.0",
          "state": {
            "_dom_classes": [],
            "_model_module": "@jupyter-widgets/controls",
            "_model_module_version": "1.5.0",
            "_model_name": "FloatProgressModel",
            "_view_count": null,
            "_view_module": "@jupyter-widgets/controls",
            "_view_module_version": "1.5.0",
            "_view_name": "ProgressView",
            "bar_style": "",
            "description": "",
            "description_tooltip": null,
            "layout": "IPY_MODEL_31d9accfbbcb4d3591b9ff8b7124ee51",
            "max": 1,
            "min": 0,
            "orientation": "horizontal",
            "style": "IPY_MODEL_a0ac30d2124a48a7a59564ffe0468bbb",
            "value": 1
          }
        },
        "c7643dc7dd4a4815bac990eefb0cd4fb": {
          "model_module": "@jupyter-widgets/base",
          "model_name": "LayoutModel",
          "model_module_version": "1.2.0",
          "state": {
            "_model_module": "@jupyter-widgets/base",
            "_model_module_version": "1.2.0",
            "_model_name": "LayoutModel",
            "_view_count": null,
            "_view_module": "@jupyter-widgets/base",
            "_view_module_version": "1.2.0",
            "_view_name": "LayoutView",
            "align_content": null,
            "align_items": null,
            "align_self": null,
            "border": null,
            "bottom": null,
            "display": null,
            "flex": null,
            "flex_flow": null,
            "grid_area": null,
            "grid_auto_columns": null,
            "grid_auto_flow": null,
            "grid_auto_rows": null,
            "grid_column": null,
            "grid_gap": null,
            "grid_row": null,
            "grid_template_areas": null,
            "grid_template_columns": null,
            "grid_template_rows": null,
            "height": null,
            "justify_content": null,
            "justify_items": null,
            "left": null,
            "margin": null,
            "max_height": null,
            "max_width": null,
            "min_height": null,
            "min_width": null,
            "object_fit": null,
            "object_position": null,
            "order": null,
            "overflow": null,
            "overflow_x": null,
            "overflow_y": null,
            "padding": null,
            "right": null,
            "top": null,
            "visibility": null,
            "width": null
          }
        },
        "de0b53ad51ac4d899df7adab41f8ecc9": {
          "model_module": "@jupyter-widgets/base",
          "model_name": "LayoutModel",
          "model_module_version": "1.2.0",
          "state": {
            "_model_module": "@jupyter-widgets/base",
            "_model_module_version": "1.2.0",
            "_model_name": "LayoutModel",
            "_view_count": null,
            "_view_module": "@jupyter-widgets/base",
            "_view_module_version": "1.2.0",
            "_view_name": "LayoutView",
            "align_content": null,
            "align_items": null,
            "align_self": null,
            "border": null,
            "bottom": null,
            "display": null,
            "flex": null,
            "flex_flow": null,
            "grid_area": null,
            "grid_auto_columns": null,
            "grid_auto_flow": null,
            "grid_auto_rows": null,
            "grid_column": null,
            "grid_gap": null,
            "grid_row": null,
            "grid_template_areas": null,
            "grid_template_columns": null,
            "grid_template_rows": null,
            "height": null,
            "justify_content": null,
            "justify_items": null,
            "left": null,
            "margin": null,
            "max_height": null,
            "max_width": null,
            "min_height": null,
            "min_width": null,
            "object_fit": null,
            "object_position": null,
            "order": null,
            "overflow": null,
            "overflow_x": null,
            "overflow_y": null,
            "padding": null,
            "right": null,
            "top": null,
            "visibility": null,
            "width": null
          }
        },
        "6c18e57272074da49731d82b372efb7c": {
          "model_module": "@jupyter-widgets/controls",
          "model_name": "DescriptionStyleModel",
          "model_module_version": "1.5.0",
          "state": {
            "_model_module": "@jupyter-widgets/controls",
            "_model_module_version": "1.5.0",
            "_model_name": "DescriptionStyleModel",
            "_view_count": null,
            "_view_module": "@jupyter-widgets/base",
            "_view_module_version": "1.2.0",
            "_view_name": "StyleView",
            "description_width": ""
          }
        },
        "31d9accfbbcb4d3591b9ff8b7124ee51": {
          "model_module": "@jupyter-widgets/base",
          "model_name": "LayoutModel",
          "model_module_version": "1.2.0",
          "state": {
            "_model_module": "@jupyter-widgets/base",
            "_model_module_version": "1.2.0",
            "_model_name": "LayoutModel",
            "_view_count": null,
            "_view_module": "@jupyter-widgets/base",
            "_view_module_version": "1.2.0",
            "_view_name": "LayoutView",
            "align_content": null,
            "align_items": null,
            "align_self": null,
            "border": null,
            "bottom": null,
            "display": null,
            "flex": null,
            "flex_flow": null,
            "grid_area": null,
            "grid_auto_columns": null,
            "grid_auto_flow": null,
            "grid_auto_rows": null,
            "grid_column": null,
            "grid_gap": null,
            "grid_row": null,
            "grid_template_areas": null,
            "grid_template_columns": null,
            "grid_template_rows": null,
            "height": null,
            "justify_content": null,
            "justify_items": null,
            "left": null,
            "margin": null,
            "max_height": null,
            "max_width": null,
            "min_height": null,
            "min_width": null,
            "object_fit": null,
            "object_position": null,
            "order": null,
            "overflow": null,
            "overflow_x": null,
            "overflow_y": null,
            "padding": null,
            "right": null,
            "top": null,
            "visibility": null,
            "width": null
          }
        },
        "a0ac30d2124a48a7a59564ffe0468bbb": {
          "model_module": "@jupyter-widgets/controls",
          "model_name": "ProgressStyleModel",
          "model_module_version": "1.5.0",
          "state": {
            "_model_module": "@jupyter-widgets/controls",
            "_model_module_version": "1.5.0",
            "_model_name": "ProgressStyleModel",
            "_view_count": null,
            "_view_module": "@jupyter-widgets/base",
            "_view_module_version": "1.2.0",
            "_view_name": "StyleView",
            "bar_color": null,
            "description_width": ""
          }
        },
        "850da9d544ae4d71ada50d3c618bd6a9": {
          "model_module": "@jupyter-widgets/controls",
          "model_name": "VBoxModel",
          "model_module_version": "1.5.0",
          "state": {
            "_dom_classes": [],
            "_model_module": "@jupyter-widgets/controls",
            "_model_module_version": "1.5.0",
            "_model_name": "VBoxModel",
            "_view_count": null,
            "_view_module": "@jupyter-widgets/controls",
            "_view_module_version": "1.5.0",
            "_view_name": "VBoxView",
            "box_style": "",
            "children": [
              "IPY_MODEL_326fd86f835d412eb23e83d822129f02",
              "IPY_MODEL_e57559fe92914ec1bf5dfc205ead211a"
            ],
            "layout": "IPY_MODEL_6172d779b6c24731bf312192201406bc"
          }
        },
        "326fd86f835d412eb23e83d822129f02": {
          "model_module": "@jupyter-widgets/controls",
          "model_name": "LabelModel",
          "model_module_version": "1.5.0",
          "state": {
            "_dom_classes": [],
            "_model_module": "@jupyter-widgets/controls",
            "_model_module_version": "1.5.0",
            "_model_name": "LabelModel",
            "_view_count": null,
            "_view_module": "@jupyter-widgets/controls",
            "_view_module_version": "1.5.0",
            "_view_name": "LabelView",
            "description": "",
            "description_tooltip": null,
            "layout": "IPY_MODEL_60964b6f058843fdb77bb396c4856d6c",
            "placeholder": "​",
            "style": "IPY_MODEL_d7ab3fc2529d486d9affe86c5f0d1de0",
            "value": "0.009 MB of 0.009 MB uploaded (0.000 MB deduped)\r"
          }
        },
        "e57559fe92914ec1bf5dfc205ead211a": {
          "model_module": "@jupyter-widgets/controls",
          "model_name": "FloatProgressModel",
          "model_module_version": "1.5.0",
          "state": {
            "_dom_classes": [],
            "_model_module": "@jupyter-widgets/controls",
            "_model_module_version": "1.5.0",
            "_model_name": "FloatProgressModel",
            "_view_count": null,
            "_view_module": "@jupyter-widgets/controls",
            "_view_module_version": "1.5.0",
            "_view_name": "ProgressView",
            "bar_style": "",
            "description": "",
            "description_tooltip": null,
            "layout": "IPY_MODEL_009a9fec16604cebac2b03033be7de40",
            "max": 1,
            "min": 0,
            "orientation": "horizontal",
            "style": "IPY_MODEL_5c41d2312aa54846b8735c8e622c235e",
            "value": 1
          }
        },
        "6172d779b6c24731bf312192201406bc": {
          "model_module": "@jupyter-widgets/base",
          "model_name": "LayoutModel",
          "model_module_version": "1.2.0",
          "state": {
            "_model_module": "@jupyter-widgets/base",
            "_model_module_version": "1.2.0",
            "_model_name": "LayoutModel",
            "_view_count": null,
            "_view_module": "@jupyter-widgets/base",
            "_view_module_version": "1.2.0",
            "_view_name": "LayoutView",
            "align_content": null,
            "align_items": null,
            "align_self": null,
            "border": null,
            "bottom": null,
            "display": null,
            "flex": null,
            "flex_flow": null,
            "grid_area": null,
            "grid_auto_columns": null,
            "grid_auto_flow": null,
            "grid_auto_rows": null,
            "grid_column": null,
            "grid_gap": null,
            "grid_row": null,
            "grid_template_areas": null,
            "grid_template_columns": null,
            "grid_template_rows": null,
            "height": null,
            "justify_content": null,
            "justify_items": null,
            "left": null,
            "margin": null,
            "max_height": null,
            "max_width": null,
            "min_height": null,
            "min_width": null,
            "object_fit": null,
            "object_position": null,
            "order": null,
            "overflow": null,
            "overflow_x": null,
            "overflow_y": null,
            "padding": null,
            "right": null,
            "top": null,
            "visibility": null,
            "width": null
          }
        },
        "60964b6f058843fdb77bb396c4856d6c": {
          "model_module": "@jupyter-widgets/base",
          "model_name": "LayoutModel",
          "model_module_version": "1.2.0",
          "state": {
            "_model_module": "@jupyter-widgets/base",
            "_model_module_version": "1.2.0",
            "_model_name": "LayoutModel",
            "_view_count": null,
            "_view_module": "@jupyter-widgets/base",
            "_view_module_version": "1.2.0",
            "_view_name": "LayoutView",
            "align_content": null,
            "align_items": null,
            "align_self": null,
            "border": null,
            "bottom": null,
            "display": null,
            "flex": null,
            "flex_flow": null,
            "grid_area": null,
            "grid_auto_columns": null,
            "grid_auto_flow": null,
            "grid_auto_rows": null,
            "grid_column": null,
            "grid_gap": null,
            "grid_row": null,
            "grid_template_areas": null,
            "grid_template_columns": null,
            "grid_template_rows": null,
            "height": null,
            "justify_content": null,
            "justify_items": null,
            "left": null,
            "margin": null,
            "max_height": null,
            "max_width": null,
            "min_height": null,
            "min_width": null,
            "object_fit": null,
            "object_position": null,
            "order": null,
            "overflow": null,
            "overflow_x": null,
            "overflow_y": null,
            "padding": null,
            "right": null,
            "top": null,
            "visibility": null,
            "width": null
          }
        },
        "d7ab3fc2529d486d9affe86c5f0d1de0": {
          "model_module": "@jupyter-widgets/controls",
          "model_name": "DescriptionStyleModel",
          "model_module_version": "1.5.0",
          "state": {
            "_model_module": "@jupyter-widgets/controls",
            "_model_module_version": "1.5.0",
            "_model_name": "DescriptionStyleModel",
            "_view_count": null,
            "_view_module": "@jupyter-widgets/base",
            "_view_module_version": "1.2.0",
            "_view_name": "StyleView",
            "description_width": ""
          }
        },
        "009a9fec16604cebac2b03033be7de40": {
          "model_module": "@jupyter-widgets/base",
          "model_name": "LayoutModel",
          "model_module_version": "1.2.0",
          "state": {
            "_model_module": "@jupyter-widgets/base",
            "_model_module_version": "1.2.0",
            "_model_name": "LayoutModel",
            "_view_count": null,
            "_view_module": "@jupyter-widgets/base",
            "_view_module_version": "1.2.0",
            "_view_name": "LayoutView",
            "align_content": null,
            "align_items": null,
            "align_self": null,
            "border": null,
            "bottom": null,
            "display": null,
            "flex": null,
            "flex_flow": null,
            "grid_area": null,
            "grid_auto_columns": null,
            "grid_auto_flow": null,
            "grid_auto_rows": null,
            "grid_column": null,
            "grid_gap": null,
            "grid_row": null,
            "grid_template_areas": null,
            "grid_template_columns": null,
            "grid_template_rows": null,
            "height": null,
            "justify_content": null,
            "justify_items": null,
            "left": null,
            "margin": null,
            "max_height": null,
            "max_width": null,
            "min_height": null,
            "min_width": null,
            "object_fit": null,
            "object_position": null,
            "order": null,
            "overflow": null,
            "overflow_x": null,
            "overflow_y": null,
            "padding": null,
            "right": null,
            "top": null,
            "visibility": null,
            "width": null
          }
        },
        "5c41d2312aa54846b8735c8e622c235e": {
          "model_module": "@jupyter-widgets/controls",
          "model_name": "ProgressStyleModel",
          "model_module_version": "1.5.0",
          "state": {
            "_model_module": "@jupyter-widgets/controls",
            "_model_module_version": "1.5.0",
            "_model_name": "ProgressStyleModel",
            "_view_count": null,
            "_view_module": "@jupyter-widgets/base",
            "_view_module_version": "1.2.0",
            "_view_name": "StyleView",
            "bar_color": null,
            "description_width": ""
          }
        },
        "c7a2fdf65b354c0b99ead220bd7dc769": {
          "model_module": "@jupyter-widgets/controls",
          "model_name": "VBoxModel",
          "model_module_version": "1.5.0",
          "state": {
            "_dom_classes": [],
            "_model_module": "@jupyter-widgets/controls",
            "_model_module_version": "1.5.0",
            "_model_name": "VBoxModel",
            "_view_count": null,
            "_view_module": "@jupyter-widgets/controls",
            "_view_module_version": "1.5.0",
            "_view_name": "VBoxView",
            "box_style": "",
            "children": [
              "IPY_MODEL_e7c494d346fd467b97868b304f42259a",
              "IPY_MODEL_5daa3f27259346e3919bd2924507137d"
            ],
            "layout": "IPY_MODEL_373dcb1e3d1d44239c3b9929bb993574"
          }
        },
        "e7c494d346fd467b97868b304f42259a": {
          "model_module": "@jupyter-widgets/controls",
          "model_name": "LabelModel",
          "model_module_version": "1.5.0",
          "state": {
            "_dom_classes": [],
            "_model_module": "@jupyter-widgets/controls",
            "_model_module_version": "1.5.0",
            "_model_name": "LabelModel",
            "_view_count": null,
            "_view_module": "@jupyter-widgets/controls",
            "_view_module_version": "1.5.0",
            "_view_name": "LabelView",
            "description": "",
            "description_tooltip": null,
            "layout": "IPY_MODEL_9d1a19624be04096be011c13fe158200",
            "placeholder": "​",
            "style": "IPY_MODEL_9a548a47a69848cfbd4810d353ec4a33",
            "value": "0.009 MB of 0.009 MB uploaded (0.000 MB deduped)\r"
          }
        },
        "5daa3f27259346e3919bd2924507137d": {
          "model_module": "@jupyter-widgets/controls",
          "model_name": "FloatProgressModel",
          "model_module_version": "1.5.0",
          "state": {
            "_dom_classes": [],
            "_model_module": "@jupyter-widgets/controls",
            "_model_module_version": "1.5.0",
            "_model_name": "FloatProgressModel",
            "_view_count": null,
            "_view_module": "@jupyter-widgets/controls",
            "_view_module_version": "1.5.0",
            "_view_name": "ProgressView",
            "bar_style": "",
            "description": "",
            "description_tooltip": null,
            "layout": "IPY_MODEL_7ca09788dd304c05866d2bdad1f8298a",
            "max": 1,
            "min": 0,
            "orientation": "horizontal",
            "style": "IPY_MODEL_c5d0e3f6ac9341e884c9223ea58779d5",
            "value": 1
          }
        },
        "373dcb1e3d1d44239c3b9929bb993574": {
          "model_module": "@jupyter-widgets/base",
          "model_name": "LayoutModel",
          "model_module_version": "1.2.0",
          "state": {
            "_model_module": "@jupyter-widgets/base",
            "_model_module_version": "1.2.0",
            "_model_name": "LayoutModel",
            "_view_count": null,
            "_view_module": "@jupyter-widgets/base",
            "_view_module_version": "1.2.0",
            "_view_name": "LayoutView",
            "align_content": null,
            "align_items": null,
            "align_self": null,
            "border": null,
            "bottom": null,
            "display": null,
            "flex": null,
            "flex_flow": null,
            "grid_area": null,
            "grid_auto_columns": null,
            "grid_auto_flow": null,
            "grid_auto_rows": null,
            "grid_column": null,
            "grid_gap": null,
            "grid_row": null,
            "grid_template_areas": null,
            "grid_template_columns": null,
            "grid_template_rows": null,
            "height": null,
            "justify_content": null,
            "justify_items": null,
            "left": null,
            "margin": null,
            "max_height": null,
            "max_width": null,
            "min_height": null,
            "min_width": null,
            "object_fit": null,
            "object_position": null,
            "order": null,
            "overflow": null,
            "overflow_x": null,
            "overflow_y": null,
            "padding": null,
            "right": null,
            "top": null,
            "visibility": null,
            "width": null
          }
        },
        "9d1a19624be04096be011c13fe158200": {
          "model_module": "@jupyter-widgets/base",
          "model_name": "LayoutModel",
          "model_module_version": "1.2.0",
          "state": {
            "_model_module": "@jupyter-widgets/base",
            "_model_module_version": "1.2.0",
            "_model_name": "LayoutModel",
            "_view_count": null,
            "_view_module": "@jupyter-widgets/base",
            "_view_module_version": "1.2.0",
            "_view_name": "LayoutView",
            "align_content": null,
            "align_items": null,
            "align_self": null,
            "border": null,
            "bottom": null,
            "display": null,
            "flex": null,
            "flex_flow": null,
            "grid_area": null,
            "grid_auto_columns": null,
            "grid_auto_flow": null,
            "grid_auto_rows": null,
            "grid_column": null,
            "grid_gap": null,
            "grid_row": null,
            "grid_template_areas": null,
            "grid_template_columns": null,
            "grid_template_rows": null,
            "height": null,
            "justify_content": null,
            "justify_items": null,
            "left": null,
            "margin": null,
            "max_height": null,
            "max_width": null,
            "min_height": null,
            "min_width": null,
            "object_fit": null,
            "object_position": null,
            "order": null,
            "overflow": null,
            "overflow_x": null,
            "overflow_y": null,
            "padding": null,
            "right": null,
            "top": null,
            "visibility": null,
            "width": null
          }
        },
        "9a548a47a69848cfbd4810d353ec4a33": {
          "model_module": "@jupyter-widgets/controls",
          "model_name": "DescriptionStyleModel",
          "model_module_version": "1.5.0",
          "state": {
            "_model_module": "@jupyter-widgets/controls",
            "_model_module_version": "1.5.0",
            "_model_name": "DescriptionStyleModel",
            "_view_count": null,
            "_view_module": "@jupyter-widgets/base",
            "_view_module_version": "1.2.0",
            "_view_name": "StyleView",
            "description_width": ""
          }
        },
        "7ca09788dd304c05866d2bdad1f8298a": {
          "model_module": "@jupyter-widgets/base",
          "model_name": "LayoutModel",
          "model_module_version": "1.2.0",
          "state": {
            "_model_module": "@jupyter-widgets/base",
            "_model_module_version": "1.2.0",
            "_model_name": "LayoutModel",
            "_view_count": null,
            "_view_module": "@jupyter-widgets/base",
            "_view_module_version": "1.2.0",
            "_view_name": "LayoutView",
            "align_content": null,
            "align_items": null,
            "align_self": null,
            "border": null,
            "bottom": null,
            "display": null,
            "flex": null,
            "flex_flow": null,
            "grid_area": null,
            "grid_auto_columns": null,
            "grid_auto_flow": null,
            "grid_auto_rows": null,
            "grid_column": null,
            "grid_gap": null,
            "grid_row": null,
            "grid_template_areas": null,
            "grid_template_columns": null,
            "grid_template_rows": null,
            "height": null,
            "justify_content": null,
            "justify_items": null,
            "left": null,
            "margin": null,
            "max_height": null,
            "max_width": null,
            "min_height": null,
            "min_width": null,
            "object_fit": null,
            "object_position": null,
            "order": null,
            "overflow": null,
            "overflow_x": null,
            "overflow_y": null,
            "padding": null,
            "right": null,
            "top": null,
            "visibility": null,
            "width": null
          }
        },
        "c5d0e3f6ac9341e884c9223ea58779d5": {
          "model_module": "@jupyter-widgets/controls",
          "model_name": "ProgressStyleModel",
          "model_module_version": "1.5.0",
          "state": {
            "_model_module": "@jupyter-widgets/controls",
            "_model_module_version": "1.5.0",
            "_model_name": "ProgressStyleModel",
            "_view_count": null,
            "_view_module": "@jupyter-widgets/base",
            "_view_module_version": "1.2.0",
            "_view_name": "StyleView",
            "bar_color": null,
            "description_width": ""
          }
        },
        "6eaef6ae64474b48af86b20c7eae7dea": {
          "model_module": "@jupyter-widgets/controls",
          "model_name": "VBoxModel",
          "model_module_version": "1.5.0",
          "state": {
            "_dom_classes": [],
            "_model_module": "@jupyter-widgets/controls",
            "_model_module_version": "1.5.0",
            "_model_name": "VBoxModel",
            "_view_count": null,
            "_view_module": "@jupyter-widgets/controls",
            "_view_module_version": "1.5.0",
            "_view_name": "VBoxView",
            "box_style": "",
            "children": [
              "IPY_MODEL_9ce0ab1515ef4247962a97cfa34c4446",
              "IPY_MODEL_7d57ff4545584b74b5b831a6f42fc755"
            ],
            "layout": "IPY_MODEL_8a75e3c786c541f4b5eabd323af2d22f"
          }
        },
        "9ce0ab1515ef4247962a97cfa34c4446": {
          "model_module": "@jupyter-widgets/controls",
          "model_name": "LabelModel",
          "model_module_version": "1.5.0",
          "state": {
            "_dom_classes": [],
            "_model_module": "@jupyter-widgets/controls",
            "_model_module_version": "1.5.0",
            "_model_name": "LabelModel",
            "_view_count": null,
            "_view_module": "@jupyter-widgets/controls",
            "_view_module_version": "1.5.0",
            "_view_name": "LabelView",
            "description": "",
            "description_tooltip": null,
            "layout": "IPY_MODEL_e1903acc1704417b9f45d83bd73f6457",
            "placeholder": "​",
            "style": "IPY_MODEL_f77bd9364fe849e0b9f3c73eb34f30db",
            "value": "0.009 MB of 0.009 MB uploaded (0.000 MB deduped)\r"
          }
        },
        "7d57ff4545584b74b5b831a6f42fc755": {
          "model_module": "@jupyter-widgets/controls",
          "model_name": "FloatProgressModel",
          "model_module_version": "1.5.0",
          "state": {
            "_dom_classes": [],
            "_model_module": "@jupyter-widgets/controls",
            "_model_module_version": "1.5.0",
            "_model_name": "FloatProgressModel",
            "_view_count": null,
            "_view_module": "@jupyter-widgets/controls",
            "_view_module_version": "1.5.0",
            "_view_name": "ProgressView",
            "bar_style": "",
            "description": "",
            "description_tooltip": null,
            "layout": "IPY_MODEL_bd760aa722c34ae69698db24ea4b8355",
            "max": 1,
            "min": 0,
            "orientation": "horizontal",
            "style": "IPY_MODEL_12017570fefd40f88d2d302f6dc5929e",
            "value": 1
          }
        },
        "8a75e3c786c541f4b5eabd323af2d22f": {
          "model_module": "@jupyter-widgets/base",
          "model_name": "LayoutModel",
          "model_module_version": "1.2.0",
          "state": {
            "_model_module": "@jupyter-widgets/base",
            "_model_module_version": "1.2.0",
            "_model_name": "LayoutModel",
            "_view_count": null,
            "_view_module": "@jupyter-widgets/base",
            "_view_module_version": "1.2.0",
            "_view_name": "LayoutView",
            "align_content": null,
            "align_items": null,
            "align_self": null,
            "border": null,
            "bottom": null,
            "display": null,
            "flex": null,
            "flex_flow": null,
            "grid_area": null,
            "grid_auto_columns": null,
            "grid_auto_flow": null,
            "grid_auto_rows": null,
            "grid_column": null,
            "grid_gap": null,
            "grid_row": null,
            "grid_template_areas": null,
            "grid_template_columns": null,
            "grid_template_rows": null,
            "height": null,
            "justify_content": null,
            "justify_items": null,
            "left": null,
            "margin": null,
            "max_height": null,
            "max_width": null,
            "min_height": null,
            "min_width": null,
            "object_fit": null,
            "object_position": null,
            "order": null,
            "overflow": null,
            "overflow_x": null,
            "overflow_y": null,
            "padding": null,
            "right": null,
            "top": null,
            "visibility": null,
            "width": null
          }
        },
        "e1903acc1704417b9f45d83bd73f6457": {
          "model_module": "@jupyter-widgets/base",
          "model_name": "LayoutModel",
          "model_module_version": "1.2.0",
          "state": {
            "_model_module": "@jupyter-widgets/base",
            "_model_module_version": "1.2.0",
            "_model_name": "LayoutModel",
            "_view_count": null,
            "_view_module": "@jupyter-widgets/base",
            "_view_module_version": "1.2.0",
            "_view_name": "LayoutView",
            "align_content": null,
            "align_items": null,
            "align_self": null,
            "border": null,
            "bottom": null,
            "display": null,
            "flex": null,
            "flex_flow": null,
            "grid_area": null,
            "grid_auto_columns": null,
            "grid_auto_flow": null,
            "grid_auto_rows": null,
            "grid_column": null,
            "grid_gap": null,
            "grid_row": null,
            "grid_template_areas": null,
            "grid_template_columns": null,
            "grid_template_rows": null,
            "height": null,
            "justify_content": null,
            "justify_items": null,
            "left": null,
            "margin": null,
            "max_height": null,
            "max_width": null,
            "min_height": null,
            "min_width": null,
            "object_fit": null,
            "object_position": null,
            "order": null,
            "overflow": null,
            "overflow_x": null,
            "overflow_y": null,
            "padding": null,
            "right": null,
            "top": null,
            "visibility": null,
            "width": null
          }
        },
        "f77bd9364fe849e0b9f3c73eb34f30db": {
          "model_module": "@jupyter-widgets/controls",
          "model_name": "DescriptionStyleModel",
          "model_module_version": "1.5.0",
          "state": {
            "_model_module": "@jupyter-widgets/controls",
            "_model_module_version": "1.5.0",
            "_model_name": "DescriptionStyleModel",
            "_view_count": null,
            "_view_module": "@jupyter-widgets/base",
            "_view_module_version": "1.2.0",
            "_view_name": "StyleView",
            "description_width": ""
          }
        },
        "bd760aa722c34ae69698db24ea4b8355": {
          "model_module": "@jupyter-widgets/base",
          "model_name": "LayoutModel",
          "model_module_version": "1.2.0",
          "state": {
            "_model_module": "@jupyter-widgets/base",
            "_model_module_version": "1.2.0",
            "_model_name": "LayoutModel",
            "_view_count": null,
            "_view_module": "@jupyter-widgets/base",
            "_view_module_version": "1.2.0",
            "_view_name": "LayoutView",
            "align_content": null,
            "align_items": null,
            "align_self": null,
            "border": null,
            "bottom": null,
            "display": null,
            "flex": null,
            "flex_flow": null,
            "grid_area": null,
            "grid_auto_columns": null,
            "grid_auto_flow": null,
            "grid_auto_rows": null,
            "grid_column": null,
            "grid_gap": null,
            "grid_row": null,
            "grid_template_areas": null,
            "grid_template_columns": null,
            "grid_template_rows": null,
            "height": null,
            "justify_content": null,
            "justify_items": null,
            "left": null,
            "margin": null,
            "max_height": null,
            "max_width": null,
            "min_height": null,
            "min_width": null,
            "object_fit": null,
            "object_position": null,
            "order": null,
            "overflow": null,
            "overflow_x": null,
            "overflow_y": null,
            "padding": null,
            "right": null,
            "top": null,
            "visibility": null,
            "width": null
          }
        },
        "12017570fefd40f88d2d302f6dc5929e": {
          "model_module": "@jupyter-widgets/controls",
          "model_name": "ProgressStyleModel",
          "model_module_version": "1.5.0",
          "state": {
            "_model_module": "@jupyter-widgets/controls",
            "_model_module_version": "1.5.0",
            "_model_name": "ProgressStyleModel",
            "_view_count": null,
            "_view_module": "@jupyter-widgets/base",
            "_view_module_version": "1.2.0",
            "_view_name": "StyleView",
            "bar_color": null,
            "description_width": ""
          }
        },
        "4c727d5346e54701a83edb4ceaf9925b": {
          "model_module": "@jupyter-widgets/controls",
          "model_name": "VBoxModel",
          "model_module_version": "1.5.0",
          "state": {
            "_dom_classes": [],
            "_model_module": "@jupyter-widgets/controls",
            "_model_module_version": "1.5.0",
            "_model_name": "VBoxModel",
            "_view_count": null,
            "_view_module": "@jupyter-widgets/controls",
            "_view_module_version": "1.5.0",
            "_view_name": "VBoxView",
            "box_style": "",
            "children": [
              "IPY_MODEL_1a81fb4ea99542d08be48050f13b96cd",
              "IPY_MODEL_7ab0fc53b915417d8d67d8d84b0c832d"
            ],
            "layout": "IPY_MODEL_b238432a59d94ad3b19a3e1909ee1417"
          }
        },
        "1a81fb4ea99542d08be48050f13b96cd": {
          "model_module": "@jupyter-widgets/controls",
          "model_name": "LabelModel",
          "model_module_version": "1.5.0",
          "state": {
            "_dom_classes": [],
            "_model_module": "@jupyter-widgets/controls",
            "_model_module_version": "1.5.0",
            "_model_name": "LabelModel",
            "_view_count": null,
            "_view_module": "@jupyter-widgets/controls",
            "_view_module_version": "1.5.0",
            "_view_name": "LabelView",
            "description": "",
            "description_tooltip": null,
            "layout": "IPY_MODEL_d3f2d93658f4437cb5f40f2f60c09341",
            "placeholder": "​",
            "style": "IPY_MODEL_d386df47e6254af7badc3df9d488d196",
            "value": "0.009 MB of 0.009 MB uploaded (0.000 MB deduped)\r"
          }
        },
        "7ab0fc53b915417d8d67d8d84b0c832d": {
          "model_module": "@jupyter-widgets/controls",
          "model_name": "FloatProgressModel",
          "model_module_version": "1.5.0",
          "state": {
            "_dom_classes": [],
            "_model_module": "@jupyter-widgets/controls",
            "_model_module_version": "1.5.0",
            "_model_name": "FloatProgressModel",
            "_view_count": null,
            "_view_module": "@jupyter-widgets/controls",
            "_view_module_version": "1.5.0",
            "_view_name": "ProgressView",
            "bar_style": "",
            "description": "",
            "description_tooltip": null,
            "layout": "IPY_MODEL_491858de33c74bd391ffb8fc9f9815d3",
            "max": 1,
            "min": 0,
            "orientation": "horizontal",
            "style": "IPY_MODEL_4df7798b7fd040789f6133784d061b9d",
            "value": 1
          }
        },
        "b238432a59d94ad3b19a3e1909ee1417": {
          "model_module": "@jupyter-widgets/base",
          "model_name": "LayoutModel",
          "model_module_version": "1.2.0",
          "state": {
            "_model_module": "@jupyter-widgets/base",
            "_model_module_version": "1.2.0",
            "_model_name": "LayoutModel",
            "_view_count": null,
            "_view_module": "@jupyter-widgets/base",
            "_view_module_version": "1.2.0",
            "_view_name": "LayoutView",
            "align_content": null,
            "align_items": null,
            "align_self": null,
            "border": null,
            "bottom": null,
            "display": null,
            "flex": null,
            "flex_flow": null,
            "grid_area": null,
            "grid_auto_columns": null,
            "grid_auto_flow": null,
            "grid_auto_rows": null,
            "grid_column": null,
            "grid_gap": null,
            "grid_row": null,
            "grid_template_areas": null,
            "grid_template_columns": null,
            "grid_template_rows": null,
            "height": null,
            "justify_content": null,
            "justify_items": null,
            "left": null,
            "margin": null,
            "max_height": null,
            "max_width": null,
            "min_height": null,
            "min_width": null,
            "object_fit": null,
            "object_position": null,
            "order": null,
            "overflow": null,
            "overflow_x": null,
            "overflow_y": null,
            "padding": null,
            "right": null,
            "top": null,
            "visibility": null,
            "width": null
          }
        },
        "d3f2d93658f4437cb5f40f2f60c09341": {
          "model_module": "@jupyter-widgets/base",
          "model_name": "LayoutModel",
          "model_module_version": "1.2.0",
          "state": {
            "_model_module": "@jupyter-widgets/base",
            "_model_module_version": "1.2.0",
            "_model_name": "LayoutModel",
            "_view_count": null,
            "_view_module": "@jupyter-widgets/base",
            "_view_module_version": "1.2.0",
            "_view_name": "LayoutView",
            "align_content": null,
            "align_items": null,
            "align_self": null,
            "border": null,
            "bottom": null,
            "display": null,
            "flex": null,
            "flex_flow": null,
            "grid_area": null,
            "grid_auto_columns": null,
            "grid_auto_flow": null,
            "grid_auto_rows": null,
            "grid_column": null,
            "grid_gap": null,
            "grid_row": null,
            "grid_template_areas": null,
            "grid_template_columns": null,
            "grid_template_rows": null,
            "height": null,
            "justify_content": null,
            "justify_items": null,
            "left": null,
            "margin": null,
            "max_height": null,
            "max_width": null,
            "min_height": null,
            "min_width": null,
            "object_fit": null,
            "object_position": null,
            "order": null,
            "overflow": null,
            "overflow_x": null,
            "overflow_y": null,
            "padding": null,
            "right": null,
            "top": null,
            "visibility": null,
            "width": null
          }
        },
        "d386df47e6254af7badc3df9d488d196": {
          "model_module": "@jupyter-widgets/controls",
          "model_name": "DescriptionStyleModel",
          "model_module_version": "1.5.0",
          "state": {
            "_model_module": "@jupyter-widgets/controls",
            "_model_module_version": "1.5.0",
            "_model_name": "DescriptionStyleModel",
            "_view_count": null,
            "_view_module": "@jupyter-widgets/base",
            "_view_module_version": "1.2.0",
            "_view_name": "StyleView",
            "description_width": ""
          }
        },
        "491858de33c74bd391ffb8fc9f9815d3": {
          "model_module": "@jupyter-widgets/base",
          "model_name": "LayoutModel",
          "model_module_version": "1.2.0",
          "state": {
            "_model_module": "@jupyter-widgets/base",
            "_model_module_version": "1.2.0",
            "_model_name": "LayoutModel",
            "_view_count": null,
            "_view_module": "@jupyter-widgets/base",
            "_view_module_version": "1.2.0",
            "_view_name": "LayoutView",
            "align_content": null,
            "align_items": null,
            "align_self": null,
            "border": null,
            "bottom": null,
            "display": null,
            "flex": null,
            "flex_flow": null,
            "grid_area": null,
            "grid_auto_columns": null,
            "grid_auto_flow": null,
            "grid_auto_rows": null,
            "grid_column": null,
            "grid_gap": null,
            "grid_row": null,
            "grid_template_areas": null,
            "grid_template_columns": null,
            "grid_template_rows": null,
            "height": null,
            "justify_content": null,
            "justify_items": null,
            "left": null,
            "margin": null,
            "max_height": null,
            "max_width": null,
            "min_height": null,
            "min_width": null,
            "object_fit": null,
            "object_position": null,
            "order": null,
            "overflow": null,
            "overflow_x": null,
            "overflow_y": null,
            "padding": null,
            "right": null,
            "top": null,
            "visibility": null,
            "width": null
          }
        },
        "4df7798b7fd040789f6133784d061b9d": {
          "model_module": "@jupyter-widgets/controls",
          "model_name": "ProgressStyleModel",
          "model_module_version": "1.5.0",
          "state": {
            "_model_module": "@jupyter-widgets/controls",
            "_model_module_version": "1.5.0",
            "_model_name": "ProgressStyleModel",
            "_view_count": null,
            "_view_module": "@jupyter-widgets/base",
            "_view_module_version": "1.2.0",
            "_view_name": "StyleView",
            "bar_color": null,
            "description_width": ""
          }
        },
        "64753317cf3a45e996a363b9c7ab9e40": {
          "model_module": "@jupyter-widgets/controls",
          "model_name": "VBoxModel",
          "model_module_version": "1.5.0",
          "state": {
            "_dom_classes": [],
            "_model_module": "@jupyter-widgets/controls",
            "_model_module_version": "1.5.0",
            "_model_name": "VBoxModel",
            "_view_count": null,
            "_view_module": "@jupyter-widgets/controls",
            "_view_module_version": "1.5.0",
            "_view_name": "VBoxView",
            "box_style": "",
            "children": [
              "IPY_MODEL_83856ae7f38846faa8356758da53f861",
              "IPY_MODEL_fe0014ddfd2447c4abc296c3386d9309"
            ],
            "layout": "IPY_MODEL_d6136b12f1534899874eafbb9ef46813"
          }
        },
        "83856ae7f38846faa8356758da53f861": {
          "model_module": "@jupyter-widgets/controls",
          "model_name": "LabelModel",
          "model_module_version": "1.5.0",
          "state": {
            "_dom_classes": [],
            "_model_module": "@jupyter-widgets/controls",
            "_model_module_version": "1.5.0",
            "_model_name": "LabelModel",
            "_view_count": null,
            "_view_module": "@jupyter-widgets/controls",
            "_view_module_version": "1.5.0",
            "_view_name": "LabelView",
            "description": "",
            "description_tooltip": null,
            "layout": "IPY_MODEL_4619be5d818841c5a39d4c10de89b180",
            "placeholder": "​",
            "style": "IPY_MODEL_5d9dc1ad94184b7db19e95456543da6e",
            "value": "0.009 MB of 0.009 MB uploaded (0.000 MB deduped)\r"
          }
        },
        "fe0014ddfd2447c4abc296c3386d9309": {
          "model_module": "@jupyter-widgets/controls",
          "model_name": "FloatProgressModel",
          "model_module_version": "1.5.0",
          "state": {
            "_dom_classes": [],
            "_model_module": "@jupyter-widgets/controls",
            "_model_module_version": "1.5.0",
            "_model_name": "FloatProgressModel",
            "_view_count": null,
            "_view_module": "@jupyter-widgets/controls",
            "_view_module_version": "1.5.0",
            "_view_name": "ProgressView",
            "bar_style": "",
            "description": "",
            "description_tooltip": null,
            "layout": "IPY_MODEL_2df3e07795c64619a51bc69eb6daeec5",
            "max": 1,
            "min": 0,
            "orientation": "horizontal",
            "style": "IPY_MODEL_21d764cbcc1545c18574535d9d32f9e4",
            "value": 1
          }
        },
        "d6136b12f1534899874eafbb9ef46813": {
          "model_module": "@jupyter-widgets/base",
          "model_name": "LayoutModel",
          "model_module_version": "1.2.0",
          "state": {
            "_model_module": "@jupyter-widgets/base",
            "_model_module_version": "1.2.0",
            "_model_name": "LayoutModel",
            "_view_count": null,
            "_view_module": "@jupyter-widgets/base",
            "_view_module_version": "1.2.0",
            "_view_name": "LayoutView",
            "align_content": null,
            "align_items": null,
            "align_self": null,
            "border": null,
            "bottom": null,
            "display": null,
            "flex": null,
            "flex_flow": null,
            "grid_area": null,
            "grid_auto_columns": null,
            "grid_auto_flow": null,
            "grid_auto_rows": null,
            "grid_column": null,
            "grid_gap": null,
            "grid_row": null,
            "grid_template_areas": null,
            "grid_template_columns": null,
            "grid_template_rows": null,
            "height": null,
            "justify_content": null,
            "justify_items": null,
            "left": null,
            "margin": null,
            "max_height": null,
            "max_width": null,
            "min_height": null,
            "min_width": null,
            "object_fit": null,
            "object_position": null,
            "order": null,
            "overflow": null,
            "overflow_x": null,
            "overflow_y": null,
            "padding": null,
            "right": null,
            "top": null,
            "visibility": null,
            "width": null
          }
        },
        "4619be5d818841c5a39d4c10de89b180": {
          "model_module": "@jupyter-widgets/base",
          "model_name": "LayoutModel",
          "model_module_version": "1.2.0",
          "state": {
            "_model_module": "@jupyter-widgets/base",
            "_model_module_version": "1.2.0",
            "_model_name": "LayoutModel",
            "_view_count": null,
            "_view_module": "@jupyter-widgets/base",
            "_view_module_version": "1.2.0",
            "_view_name": "LayoutView",
            "align_content": null,
            "align_items": null,
            "align_self": null,
            "border": null,
            "bottom": null,
            "display": null,
            "flex": null,
            "flex_flow": null,
            "grid_area": null,
            "grid_auto_columns": null,
            "grid_auto_flow": null,
            "grid_auto_rows": null,
            "grid_column": null,
            "grid_gap": null,
            "grid_row": null,
            "grid_template_areas": null,
            "grid_template_columns": null,
            "grid_template_rows": null,
            "height": null,
            "justify_content": null,
            "justify_items": null,
            "left": null,
            "margin": null,
            "max_height": null,
            "max_width": null,
            "min_height": null,
            "min_width": null,
            "object_fit": null,
            "object_position": null,
            "order": null,
            "overflow": null,
            "overflow_x": null,
            "overflow_y": null,
            "padding": null,
            "right": null,
            "top": null,
            "visibility": null,
            "width": null
          }
        },
        "5d9dc1ad94184b7db19e95456543da6e": {
          "model_module": "@jupyter-widgets/controls",
          "model_name": "DescriptionStyleModel",
          "model_module_version": "1.5.0",
          "state": {
            "_model_module": "@jupyter-widgets/controls",
            "_model_module_version": "1.5.0",
            "_model_name": "DescriptionStyleModel",
            "_view_count": null,
            "_view_module": "@jupyter-widgets/base",
            "_view_module_version": "1.2.0",
            "_view_name": "StyleView",
            "description_width": ""
          }
        },
        "2df3e07795c64619a51bc69eb6daeec5": {
          "model_module": "@jupyter-widgets/base",
          "model_name": "LayoutModel",
          "model_module_version": "1.2.0",
          "state": {
            "_model_module": "@jupyter-widgets/base",
            "_model_module_version": "1.2.0",
            "_model_name": "LayoutModel",
            "_view_count": null,
            "_view_module": "@jupyter-widgets/base",
            "_view_module_version": "1.2.0",
            "_view_name": "LayoutView",
            "align_content": null,
            "align_items": null,
            "align_self": null,
            "border": null,
            "bottom": null,
            "display": null,
            "flex": null,
            "flex_flow": null,
            "grid_area": null,
            "grid_auto_columns": null,
            "grid_auto_flow": null,
            "grid_auto_rows": null,
            "grid_column": null,
            "grid_gap": null,
            "grid_row": null,
            "grid_template_areas": null,
            "grid_template_columns": null,
            "grid_template_rows": null,
            "height": null,
            "justify_content": null,
            "justify_items": null,
            "left": null,
            "margin": null,
            "max_height": null,
            "max_width": null,
            "min_height": null,
            "min_width": null,
            "object_fit": null,
            "object_position": null,
            "order": null,
            "overflow": null,
            "overflow_x": null,
            "overflow_y": null,
            "padding": null,
            "right": null,
            "top": null,
            "visibility": null,
            "width": null
          }
        },
        "21d764cbcc1545c18574535d9d32f9e4": {
          "model_module": "@jupyter-widgets/controls",
          "model_name": "ProgressStyleModel",
          "model_module_version": "1.5.0",
          "state": {
            "_model_module": "@jupyter-widgets/controls",
            "_model_module_version": "1.5.0",
            "_model_name": "ProgressStyleModel",
            "_view_count": null,
            "_view_module": "@jupyter-widgets/base",
            "_view_module_version": "1.2.0",
            "_view_name": "StyleView",
            "bar_color": null,
            "description_width": ""
          }
        },
        "d46eaf2348254405b4cad7b77af74e86": {
          "model_module": "@jupyter-widgets/controls",
          "model_name": "VBoxModel",
          "model_module_version": "1.5.0",
          "state": {
            "_dom_classes": [],
            "_model_module": "@jupyter-widgets/controls",
            "_model_module_version": "1.5.0",
            "_model_name": "VBoxModel",
            "_view_count": null,
            "_view_module": "@jupyter-widgets/controls",
            "_view_module_version": "1.5.0",
            "_view_name": "VBoxView",
            "box_style": "",
            "children": [
              "IPY_MODEL_b73e432b955148799692c0815eeb1743",
              "IPY_MODEL_488f7a2ac0c34fcbb881c90292a3107c"
            ],
            "layout": "IPY_MODEL_35ef53ac1d4642db80da1da64b10b56c"
          }
        },
        "b73e432b955148799692c0815eeb1743": {
          "model_module": "@jupyter-widgets/controls",
          "model_name": "LabelModel",
          "model_module_version": "1.5.0",
          "state": {
            "_dom_classes": [],
            "_model_module": "@jupyter-widgets/controls",
            "_model_module_version": "1.5.0",
            "_model_name": "LabelModel",
            "_view_count": null,
            "_view_module": "@jupyter-widgets/controls",
            "_view_module_version": "1.5.0",
            "_view_name": "LabelView",
            "description": "",
            "description_tooltip": null,
            "layout": "IPY_MODEL_6dfb76f056a94564a1ebe7086af2ad76",
            "placeholder": "​",
            "style": "IPY_MODEL_dd3697af6df0437d9858734102ec5983",
            "value": "0.009 MB of 0.009 MB uploaded (0.000 MB deduped)\r"
          }
        },
        "488f7a2ac0c34fcbb881c90292a3107c": {
          "model_module": "@jupyter-widgets/controls",
          "model_name": "FloatProgressModel",
          "model_module_version": "1.5.0",
          "state": {
            "_dom_classes": [],
            "_model_module": "@jupyter-widgets/controls",
            "_model_module_version": "1.5.0",
            "_model_name": "FloatProgressModel",
            "_view_count": null,
            "_view_module": "@jupyter-widgets/controls",
            "_view_module_version": "1.5.0",
            "_view_name": "ProgressView",
            "bar_style": "",
            "description": "",
            "description_tooltip": null,
            "layout": "IPY_MODEL_eea15340ffcd4d3ea666e3f078250a25",
            "max": 1,
            "min": 0,
            "orientation": "horizontal",
            "style": "IPY_MODEL_a8d1657c6a7344bf8e8fda00689a792b",
            "value": 1
          }
        },
        "35ef53ac1d4642db80da1da64b10b56c": {
          "model_module": "@jupyter-widgets/base",
          "model_name": "LayoutModel",
          "model_module_version": "1.2.0",
          "state": {
            "_model_module": "@jupyter-widgets/base",
            "_model_module_version": "1.2.0",
            "_model_name": "LayoutModel",
            "_view_count": null,
            "_view_module": "@jupyter-widgets/base",
            "_view_module_version": "1.2.0",
            "_view_name": "LayoutView",
            "align_content": null,
            "align_items": null,
            "align_self": null,
            "border": null,
            "bottom": null,
            "display": null,
            "flex": null,
            "flex_flow": null,
            "grid_area": null,
            "grid_auto_columns": null,
            "grid_auto_flow": null,
            "grid_auto_rows": null,
            "grid_column": null,
            "grid_gap": null,
            "grid_row": null,
            "grid_template_areas": null,
            "grid_template_columns": null,
            "grid_template_rows": null,
            "height": null,
            "justify_content": null,
            "justify_items": null,
            "left": null,
            "margin": null,
            "max_height": null,
            "max_width": null,
            "min_height": null,
            "min_width": null,
            "object_fit": null,
            "object_position": null,
            "order": null,
            "overflow": null,
            "overflow_x": null,
            "overflow_y": null,
            "padding": null,
            "right": null,
            "top": null,
            "visibility": null,
            "width": null
          }
        },
        "6dfb76f056a94564a1ebe7086af2ad76": {
          "model_module": "@jupyter-widgets/base",
          "model_name": "LayoutModel",
          "model_module_version": "1.2.0",
          "state": {
            "_model_module": "@jupyter-widgets/base",
            "_model_module_version": "1.2.0",
            "_model_name": "LayoutModel",
            "_view_count": null,
            "_view_module": "@jupyter-widgets/base",
            "_view_module_version": "1.2.0",
            "_view_name": "LayoutView",
            "align_content": null,
            "align_items": null,
            "align_self": null,
            "border": null,
            "bottom": null,
            "display": null,
            "flex": null,
            "flex_flow": null,
            "grid_area": null,
            "grid_auto_columns": null,
            "grid_auto_flow": null,
            "grid_auto_rows": null,
            "grid_column": null,
            "grid_gap": null,
            "grid_row": null,
            "grid_template_areas": null,
            "grid_template_columns": null,
            "grid_template_rows": null,
            "height": null,
            "justify_content": null,
            "justify_items": null,
            "left": null,
            "margin": null,
            "max_height": null,
            "max_width": null,
            "min_height": null,
            "min_width": null,
            "object_fit": null,
            "object_position": null,
            "order": null,
            "overflow": null,
            "overflow_x": null,
            "overflow_y": null,
            "padding": null,
            "right": null,
            "top": null,
            "visibility": null,
            "width": null
          }
        },
        "dd3697af6df0437d9858734102ec5983": {
          "model_module": "@jupyter-widgets/controls",
          "model_name": "DescriptionStyleModel",
          "model_module_version": "1.5.0",
          "state": {
            "_model_module": "@jupyter-widgets/controls",
            "_model_module_version": "1.5.0",
            "_model_name": "DescriptionStyleModel",
            "_view_count": null,
            "_view_module": "@jupyter-widgets/base",
            "_view_module_version": "1.2.0",
            "_view_name": "StyleView",
            "description_width": ""
          }
        },
        "eea15340ffcd4d3ea666e3f078250a25": {
          "model_module": "@jupyter-widgets/base",
          "model_name": "LayoutModel",
          "model_module_version": "1.2.0",
          "state": {
            "_model_module": "@jupyter-widgets/base",
            "_model_module_version": "1.2.0",
            "_model_name": "LayoutModel",
            "_view_count": null,
            "_view_module": "@jupyter-widgets/base",
            "_view_module_version": "1.2.0",
            "_view_name": "LayoutView",
            "align_content": null,
            "align_items": null,
            "align_self": null,
            "border": null,
            "bottom": null,
            "display": null,
            "flex": null,
            "flex_flow": null,
            "grid_area": null,
            "grid_auto_columns": null,
            "grid_auto_flow": null,
            "grid_auto_rows": null,
            "grid_column": null,
            "grid_gap": null,
            "grid_row": null,
            "grid_template_areas": null,
            "grid_template_columns": null,
            "grid_template_rows": null,
            "height": null,
            "justify_content": null,
            "justify_items": null,
            "left": null,
            "margin": null,
            "max_height": null,
            "max_width": null,
            "min_height": null,
            "min_width": null,
            "object_fit": null,
            "object_position": null,
            "order": null,
            "overflow": null,
            "overflow_x": null,
            "overflow_y": null,
            "padding": null,
            "right": null,
            "top": null,
            "visibility": null,
            "width": null
          }
        },
        "a8d1657c6a7344bf8e8fda00689a792b": {
          "model_module": "@jupyter-widgets/controls",
          "model_name": "ProgressStyleModel",
          "model_module_version": "1.5.0",
          "state": {
            "_model_module": "@jupyter-widgets/controls",
            "_model_module_version": "1.5.0",
            "_model_name": "ProgressStyleModel",
            "_view_count": null,
            "_view_module": "@jupyter-widgets/base",
            "_view_module_version": "1.2.0",
            "_view_name": "StyleView",
            "bar_color": null,
            "description_width": ""
          }
        },
        "9664f2305cb14e2b9cff0ba4fdbc34f9": {
          "model_module": "@jupyter-widgets/controls",
          "model_name": "VBoxModel",
          "model_module_version": "1.5.0",
          "state": {
            "_dom_classes": [],
            "_model_module": "@jupyter-widgets/controls",
            "_model_module_version": "1.5.0",
            "_model_name": "VBoxModel",
            "_view_count": null,
            "_view_module": "@jupyter-widgets/controls",
            "_view_module_version": "1.5.0",
            "_view_name": "VBoxView",
            "box_style": "",
            "children": [
              "IPY_MODEL_6a02d426e35d4ea9818fef414ab5265b",
              "IPY_MODEL_ab550c03b4d742079d8f69d5017bb8c4"
            ],
            "layout": "IPY_MODEL_98f09900964f4113a3767a4cb6c9e817"
          }
        },
        "6a02d426e35d4ea9818fef414ab5265b": {
          "model_module": "@jupyter-widgets/controls",
          "model_name": "LabelModel",
          "model_module_version": "1.5.0",
          "state": {
            "_dom_classes": [],
            "_model_module": "@jupyter-widgets/controls",
            "_model_module_version": "1.5.0",
            "_model_name": "LabelModel",
            "_view_count": null,
            "_view_module": "@jupyter-widgets/controls",
            "_view_module_version": "1.5.0",
            "_view_name": "LabelView",
            "description": "",
            "description_tooltip": null,
            "layout": "IPY_MODEL_8fd151eb0f3b48ca83ac9f81ceaa0a6d",
            "placeholder": "​",
            "style": "IPY_MODEL_0f62c4279e9f4cb5b5503c2e6ec74272",
            "value": "0.009 MB of 0.009 MB uploaded (0.000 MB deduped)\r"
          }
        },
        "ab550c03b4d742079d8f69d5017bb8c4": {
          "model_module": "@jupyter-widgets/controls",
          "model_name": "FloatProgressModel",
          "model_module_version": "1.5.0",
          "state": {
            "_dom_classes": [],
            "_model_module": "@jupyter-widgets/controls",
            "_model_module_version": "1.5.0",
            "_model_name": "FloatProgressModel",
            "_view_count": null,
            "_view_module": "@jupyter-widgets/controls",
            "_view_module_version": "1.5.0",
            "_view_name": "ProgressView",
            "bar_style": "",
            "description": "",
            "description_tooltip": null,
            "layout": "IPY_MODEL_5eb8fd49fe5b43c8a1219c6cec7cbb16",
            "max": 1,
            "min": 0,
            "orientation": "horizontal",
            "style": "IPY_MODEL_b4ef258e9da0459b92338a6eb402ff67",
            "value": 1
          }
        },
        "98f09900964f4113a3767a4cb6c9e817": {
          "model_module": "@jupyter-widgets/base",
          "model_name": "LayoutModel",
          "model_module_version": "1.2.0",
          "state": {
            "_model_module": "@jupyter-widgets/base",
            "_model_module_version": "1.2.0",
            "_model_name": "LayoutModel",
            "_view_count": null,
            "_view_module": "@jupyter-widgets/base",
            "_view_module_version": "1.2.0",
            "_view_name": "LayoutView",
            "align_content": null,
            "align_items": null,
            "align_self": null,
            "border": null,
            "bottom": null,
            "display": null,
            "flex": null,
            "flex_flow": null,
            "grid_area": null,
            "grid_auto_columns": null,
            "grid_auto_flow": null,
            "grid_auto_rows": null,
            "grid_column": null,
            "grid_gap": null,
            "grid_row": null,
            "grid_template_areas": null,
            "grid_template_columns": null,
            "grid_template_rows": null,
            "height": null,
            "justify_content": null,
            "justify_items": null,
            "left": null,
            "margin": null,
            "max_height": null,
            "max_width": null,
            "min_height": null,
            "min_width": null,
            "object_fit": null,
            "object_position": null,
            "order": null,
            "overflow": null,
            "overflow_x": null,
            "overflow_y": null,
            "padding": null,
            "right": null,
            "top": null,
            "visibility": null,
            "width": null
          }
        },
        "8fd151eb0f3b48ca83ac9f81ceaa0a6d": {
          "model_module": "@jupyter-widgets/base",
          "model_name": "LayoutModel",
          "model_module_version": "1.2.0",
          "state": {
            "_model_module": "@jupyter-widgets/base",
            "_model_module_version": "1.2.0",
            "_model_name": "LayoutModel",
            "_view_count": null,
            "_view_module": "@jupyter-widgets/base",
            "_view_module_version": "1.2.0",
            "_view_name": "LayoutView",
            "align_content": null,
            "align_items": null,
            "align_self": null,
            "border": null,
            "bottom": null,
            "display": null,
            "flex": null,
            "flex_flow": null,
            "grid_area": null,
            "grid_auto_columns": null,
            "grid_auto_flow": null,
            "grid_auto_rows": null,
            "grid_column": null,
            "grid_gap": null,
            "grid_row": null,
            "grid_template_areas": null,
            "grid_template_columns": null,
            "grid_template_rows": null,
            "height": null,
            "justify_content": null,
            "justify_items": null,
            "left": null,
            "margin": null,
            "max_height": null,
            "max_width": null,
            "min_height": null,
            "min_width": null,
            "object_fit": null,
            "object_position": null,
            "order": null,
            "overflow": null,
            "overflow_x": null,
            "overflow_y": null,
            "padding": null,
            "right": null,
            "top": null,
            "visibility": null,
            "width": null
          }
        },
        "0f62c4279e9f4cb5b5503c2e6ec74272": {
          "model_module": "@jupyter-widgets/controls",
          "model_name": "DescriptionStyleModel",
          "model_module_version": "1.5.0",
          "state": {
            "_model_module": "@jupyter-widgets/controls",
            "_model_module_version": "1.5.0",
            "_model_name": "DescriptionStyleModel",
            "_view_count": null,
            "_view_module": "@jupyter-widgets/base",
            "_view_module_version": "1.2.0",
            "_view_name": "StyleView",
            "description_width": ""
          }
        },
        "5eb8fd49fe5b43c8a1219c6cec7cbb16": {
          "model_module": "@jupyter-widgets/base",
          "model_name": "LayoutModel",
          "model_module_version": "1.2.0",
          "state": {
            "_model_module": "@jupyter-widgets/base",
            "_model_module_version": "1.2.0",
            "_model_name": "LayoutModel",
            "_view_count": null,
            "_view_module": "@jupyter-widgets/base",
            "_view_module_version": "1.2.0",
            "_view_name": "LayoutView",
            "align_content": null,
            "align_items": null,
            "align_self": null,
            "border": null,
            "bottom": null,
            "display": null,
            "flex": null,
            "flex_flow": null,
            "grid_area": null,
            "grid_auto_columns": null,
            "grid_auto_flow": null,
            "grid_auto_rows": null,
            "grid_column": null,
            "grid_gap": null,
            "grid_row": null,
            "grid_template_areas": null,
            "grid_template_columns": null,
            "grid_template_rows": null,
            "height": null,
            "justify_content": null,
            "justify_items": null,
            "left": null,
            "margin": null,
            "max_height": null,
            "max_width": null,
            "min_height": null,
            "min_width": null,
            "object_fit": null,
            "object_position": null,
            "order": null,
            "overflow": null,
            "overflow_x": null,
            "overflow_y": null,
            "padding": null,
            "right": null,
            "top": null,
            "visibility": null,
            "width": null
          }
        },
        "b4ef258e9da0459b92338a6eb402ff67": {
          "model_module": "@jupyter-widgets/controls",
          "model_name": "ProgressStyleModel",
          "model_module_version": "1.5.0",
          "state": {
            "_model_module": "@jupyter-widgets/controls",
            "_model_module_version": "1.5.0",
            "_model_name": "ProgressStyleModel",
            "_view_count": null,
            "_view_module": "@jupyter-widgets/base",
            "_view_module_version": "1.2.0",
            "_view_name": "StyleView",
            "bar_color": null,
            "description_width": ""
          }
        },
        "8ab6c349bba94ad2a1e7b63ceeecd23a": {
          "model_module": "@jupyter-widgets/controls",
          "model_name": "VBoxModel",
          "model_module_version": "1.5.0",
          "state": {
            "_dom_classes": [],
            "_model_module": "@jupyter-widgets/controls",
            "_model_module_version": "1.5.0",
            "_model_name": "VBoxModel",
            "_view_count": null,
            "_view_module": "@jupyter-widgets/controls",
            "_view_module_version": "1.5.0",
            "_view_name": "VBoxView",
            "box_style": "",
            "children": [
              "IPY_MODEL_e2d441e10b9b4f548c3cf9dbd4bf9763",
              "IPY_MODEL_b4d64c1f10fa48518f23d232ff8cc309"
            ],
            "layout": "IPY_MODEL_f472309ba7c248c48fc91246dd587313"
          }
        },
        "e2d441e10b9b4f548c3cf9dbd4bf9763": {
          "model_module": "@jupyter-widgets/controls",
          "model_name": "LabelModel",
          "model_module_version": "1.5.0",
          "state": {
            "_dom_classes": [],
            "_model_module": "@jupyter-widgets/controls",
            "_model_module_version": "1.5.0",
            "_model_name": "LabelModel",
            "_view_count": null,
            "_view_module": "@jupyter-widgets/controls",
            "_view_module_version": "1.5.0",
            "_view_name": "LabelView",
            "description": "",
            "description_tooltip": null,
            "layout": "IPY_MODEL_b27f30e258a7458cb8724e9bdb303308",
            "placeholder": "​",
            "style": "IPY_MODEL_8f1c6191bdc3403586f019f4451b61df",
            "value": "0.009 MB of 0.009 MB uploaded (0.000 MB deduped)\r"
          }
        },
        "b4d64c1f10fa48518f23d232ff8cc309": {
          "model_module": "@jupyter-widgets/controls",
          "model_name": "FloatProgressModel",
          "model_module_version": "1.5.0",
          "state": {
            "_dom_classes": [],
            "_model_module": "@jupyter-widgets/controls",
            "_model_module_version": "1.5.0",
            "_model_name": "FloatProgressModel",
            "_view_count": null,
            "_view_module": "@jupyter-widgets/controls",
            "_view_module_version": "1.5.0",
            "_view_name": "ProgressView",
            "bar_style": "",
            "description": "",
            "description_tooltip": null,
            "layout": "IPY_MODEL_60351c19258d49aca61b2ae884eba68a",
            "max": 1,
            "min": 0,
            "orientation": "horizontal",
            "style": "IPY_MODEL_7326b3af59ae42d5a7bead238b8406b0",
            "value": 1
          }
        },
        "f472309ba7c248c48fc91246dd587313": {
          "model_module": "@jupyter-widgets/base",
          "model_name": "LayoutModel",
          "model_module_version": "1.2.0",
          "state": {
            "_model_module": "@jupyter-widgets/base",
            "_model_module_version": "1.2.0",
            "_model_name": "LayoutModel",
            "_view_count": null,
            "_view_module": "@jupyter-widgets/base",
            "_view_module_version": "1.2.0",
            "_view_name": "LayoutView",
            "align_content": null,
            "align_items": null,
            "align_self": null,
            "border": null,
            "bottom": null,
            "display": null,
            "flex": null,
            "flex_flow": null,
            "grid_area": null,
            "grid_auto_columns": null,
            "grid_auto_flow": null,
            "grid_auto_rows": null,
            "grid_column": null,
            "grid_gap": null,
            "grid_row": null,
            "grid_template_areas": null,
            "grid_template_columns": null,
            "grid_template_rows": null,
            "height": null,
            "justify_content": null,
            "justify_items": null,
            "left": null,
            "margin": null,
            "max_height": null,
            "max_width": null,
            "min_height": null,
            "min_width": null,
            "object_fit": null,
            "object_position": null,
            "order": null,
            "overflow": null,
            "overflow_x": null,
            "overflow_y": null,
            "padding": null,
            "right": null,
            "top": null,
            "visibility": null,
            "width": null
          }
        },
        "b27f30e258a7458cb8724e9bdb303308": {
          "model_module": "@jupyter-widgets/base",
          "model_name": "LayoutModel",
          "model_module_version": "1.2.0",
          "state": {
            "_model_module": "@jupyter-widgets/base",
            "_model_module_version": "1.2.0",
            "_model_name": "LayoutModel",
            "_view_count": null,
            "_view_module": "@jupyter-widgets/base",
            "_view_module_version": "1.2.0",
            "_view_name": "LayoutView",
            "align_content": null,
            "align_items": null,
            "align_self": null,
            "border": null,
            "bottom": null,
            "display": null,
            "flex": null,
            "flex_flow": null,
            "grid_area": null,
            "grid_auto_columns": null,
            "grid_auto_flow": null,
            "grid_auto_rows": null,
            "grid_column": null,
            "grid_gap": null,
            "grid_row": null,
            "grid_template_areas": null,
            "grid_template_columns": null,
            "grid_template_rows": null,
            "height": null,
            "justify_content": null,
            "justify_items": null,
            "left": null,
            "margin": null,
            "max_height": null,
            "max_width": null,
            "min_height": null,
            "min_width": null,
            "object_fit": null,
            "object_position": null,
            "order": null,
            "overflow": null,
            "overflow_x": null,
            "overflow_y": null,
            "padding": null,
            "right": null,
            "top": null,
            "visibility": null,
            "width": null
          }
        },
        "8f1c6191bdc3403586f019f4451b61df": {
          "model_module": "@jupyter-widgets/controls",
          "model_name": "DescriptionStyleModel",
          "model_module_version": "1.5.0",
          "state": {
            "_model_module": "@jupyter-widgets/controls",
            "_model_module_version": "1.5.0",
            "_model_name": "DescriptionStyleModel",
            "_view_count": null,
            "_view_module": "@jupyter-widgets/base",
            "_view_module_version": "1.2.0",
            "_view_name": "StyleView",
            "description_width": ""
          }
        },
        "60351c19258d49aca61b2ae884eba68a": {
          "model_module": "@jupyter-widgets/base",
          "model_name": "LayoutModel",
          "model_module_version": "1.2.0",
          "state": {
            "_model_module": "@jupyter-widgets/base",
            "_model_module_version": "1.2.0",
            "_model_name": "LayoutModel",
            "_view_count": null,
            "_view_module": "@jupyter-widgets/base",
            "_view_module_version": "1.2.0",
            "_view_name": "LayoutView",
            "align_content": null,
            "align_items": null,
            "align_self": null,
            "border": null,
            "bottom": null,
            "display": null,
            "flex": null,
            "flex_flow": null,
            "grid_area": null,
            "grid_auto_columns": null,
            "grid_auto_flow": null,
            "grid_auto_rows": null,
            "grid_column": null,
            "grid_gap": null,
            "grid_row": null,
            "grid_template_areas": null,
            "grid_template_columns": null,
            "grid_template_rows": null,
            "height": null,
            "justify_content": null,
            "justify_items": null,
            "left": null,
            "margin": null,
            "max_height": null,
            "max_width": null,
            "min_height": null,
            "min_width": null,
            "object_fit": null,
            "object_position": null,
            "order": null,
            "overflow": null,
            "overflow_x": null,
            "overflow_y": null,
            "padding": null,
            "right": null,
            "top": null,
            "visibility": null,
            "width": null
          }
        },
        "7326b3af59ae42d5a7bead238b8406b0": {
          "model_module": "@jupyter-widgets/controls",
          "model_name": "ProgressStyleModel",
          "model_module_version": "1.5.0",
          "state": {
            "_model_module": "@jupyter-widgets/controls",
            "_model_module_version": "1.5.0",
            "_model_name": "ProgressStyleModel",
            "_view_count": null,
            "_view_module": "@jupyter-widgets/base",
            "_view_module_version": "1.2.0",
            "_view_name": "StyleView",
            "bar_color": null,
            "description_width": ""
          }
        }
      }
    }
  },
  "cells": [
    {
      "cell_type": "markdown",
      "metadata": {
        "id": "view-in-github",
        "colab_type": "text"
      },
      "source": [
        "<a href=\"https://colab.research.google.com/github/HegdeSiddesh/cs6910_Assignment2/blob/main/Part%20B/Part_B.ipynb\" target=\"_parent\"><img src=\"https://colab.research.google.com/assets/colab-badge.svg\" alt=\"Open In Colab\"/></a>"
      ]
    },
    {
      "cell_type": "markdown",
      "source": [
        "#CS6910 Assignment 2 Part B: \n",
        "The goal of this part is as follows:        \n",
        "     \n",
        "- Finetune a pre-trained model just as you would do in many real world applications              \n"
      ],
      "metadata": {
        "id": "ii9v582ADjTj"
      }
    },
    {
      "cell_type": "markdown",
      "source": [
        "### Import required packages"
      ],
      "metadata": {
        "id": "w9orOezcSkAH"
      }
    },
    {
      "cell_type": "code",
      "execution_count": null,
      "metadata": {
        "id": "ZijUCAyFx5_s",
        "colab": {
          "base_uri": "https://localhost:8080/"
        },
        "outputId": "7afe7c5a-dcc5-4837-db24-f2bec6f42f17"
      },
      "outputs": [
        {
          "output_type": "stream",
          "name": "stdout",
          "text": [
            "Collecting wandb\n",
            "  Downloading wandb-0.12.11-py2.py3-none-any.whl (1.7 MB)\n",
            "\u001b[K     |████████████████████████████████| 1.7 MB 4.3 MB/s \n",
            "\u001b[?25hRequirement already satisfied: promise<3,>=2.0 in /usr/local/lib/python3.7/dist-packages (from wandb) (2.3)\n",
            "Requirement already satisfied: protobuf>=3.12.0 in /usr/local/lib/python3.7/dist-packages (from wandb) (3.17.3)\n",
            "Requirement already satisfied: six>=1.13.0 in /usr/local/lib/python3.7/dist-packages (from wandb) (1.15.0)\n",
            "Collecting yaspin>=1.0.0\n",
            "  Downloading yaspin-2.1.0-py3-none-any.whl (18 kB)\n",
            "Collecting sentry-sdk>=1.0.0\n",
            "  Downloading sentry_sdk-1.5.8-py2.py3-none-any.whl (144 kB)\n",
            "\u001b[K     |████████████████████████████████| 144 kB 73.0 MB/s \n",
            "\u001b[?25hCollecting setproctitle\n",
            "  Downloading setproctitle-1.2.2-cp37-cp37m-manylinux1_x86_64.whl (36 kB)\n",
            "Collecting pathtools\n",
            "  Downloading pathtools-0.1.2.tar.gz (11 kB)\n",
            "Collecting shortuuid>=0.5.0\n",
            "  Downloading shortuuid-1.0.8-py3-none-any.whl (9.5 kB)\n",
            "Requirement already satisfied: python-dateutil>=2.6.1 in /usr/local/lib/python3.7/dist-packages (from wandb) (2.8.2)\n",
            "Collecting GitPython>=1.0.0\n",
            "  Downloading GitPython-3.1.27-py3-none-any.whl (181 kB)\n",
            "\u001b[K     |████████████████████████████████| 181 kB 54.5 MB/s \n",
            "\u001b[?25hRequirement already satisfied: requests<3,>=2.0.0 in /usr/local/lib/python3.7/dist-packages (from wandb) (2.23.0)\n",
            "Requirement already satisfied: psutil>=5.0.0 in /usr/local/lib/python3.7/dist-packages (from wandb) (5.4.8)\n",
            "Collecting docker-pycreds>=0.4.0\n",
            "  Downloading docker_pycreds-0.4.0-py2.py3-none-any.whl (9.0 kB)\n",
            "Requirement already satisfied: Click!=8.0.0,>=7.0 in /usr/local/lib/python3.7/dist-packages (from wandb) (7.1.2)\n",
            "Requirement already satisfied: PyYAML in /usr/local/lib/python3.7/dist-packages (from wandb) (3.13)\n",
            "Collecting gitdb<5,>=4.0.1\n",
            "  Downloading gitdb-4.0.9-py3-none-any.whl (63 kB)\n",
            "\u001b[K     |████████████████████████████████| 63 kB 2.1 MB/s \n",
            "\u001b[?25hRequirement already satisfied: typing-extensions>=3.7.4.3 in /usr/local/lib/python3.7/dist-packages (from GitPython>=1.0.0->wandb) (3.10.0.2)\n",
            "Collecting smmap<6,>=3.0.1\n",
            "  Downloading smmap-5.0.0-py3-none-any.whl (24 kB)\n",
            "Requirement already satisfied: idna<3,>=2.5 in /usr/local/lib/python3.7/dist-packages (from requests<3,>=2.0.0->wandb) (2.10)\n",
            "Requirement already satisfied: chardet<4,>=3.0.2 in /usr/local/lib/python3.7/dist-packages (from requests<3,>=2.0.0->wandb) (3.0.4)\n",
            "Requirement already satisfied: certifi>=2017.4.17 in /usr/local/lib/python3.7/dist-packages (from requests<3,>=2.0.0->wandb) (2021.10.8)\n",
            "Requirement already satisfied: urllib3!=1.25.0,!=1.25.1,<1.26,>=1.21.1 in /usr/local/lib/python3.7/dist-packages (from requests<3,>=2.0.0->wandb) (1.24.3)\n",
            "Requirement already satisfied: termcolor<2.0.0,>=1.1.0 in /usr/local/lib/python3.7/dist-packages (from yaspin>=1.0.0->wandb) (1.1.0)\n",
            "Building wheels for collected packages: pathtools\n",
            "  Building wheel for pathtools (setup.py) ... \u001b[?25l\u001b[?25hdone\n",
            "  Created wheel for pathtools: filename=pathtools-0.1.2-py3-none-any.whl size=8806 sha256=9951be3c831e2f33753c0b337d0dc10cf00b12235bd71c289b2fab561b8bbade\n",
            "  Stored in directory: /root/.cache/pip/wheels/3e/31/09/fa59cef12cdcfecc627b3d24273699f390e71828921b2cbba2\n",
            "Successfully built pathtools\n",
            "Installing collected packages: smmap, gitdb, yaspin, shortuuid, setproctitle, sentry-sdk, pathtools, GitPython, docker-pycreds, wandb\n",
            "Successfully installed GitPython-3.1.27 docker-pycreds-0.4.0 gitdb-4.0.9 pathtools-0.1.2 sentry-sdk-1.5.8 setproctitle-1.2.2 shortuuid-1.0.8 smmap-5.0.0 wandb-0.12.11 yaspin-2.1.0\n"
          ]
        }
      ],
      "source": [
        "import matplotlib.pyplot as plt \n",
        "import pandas as pd\n",
        "import numpy as np\n",
        "import math\n",
        "from keras.layers import Conv2D , MaxPool2D , Flatten , Dropout, Dense, Activation, BatchNormalization, GlobalAveragePooling2D\n",
        "\n",
        "import random\n",
        "np.random.seed(137) # To ensure that the random number generated are the same for every iteration\n",
        "import warnings\n",
        "#warnings.filterwarnings(\"ignore\")\n",
        "!pip install --upgrade wandb\n",
        "import wandb\n",
        "import tensorflow as tf\n",
        "from tensorflow import keras\n",
        "from keras import datasets, layers, models\n",
        "from keras.models import Sequential\n",
        "from keras_preprocessing.image import ImageDataGenerator\n",
        "import os\n",
        "from keras.datasets import fashion_mnist\n",
        "from keras.layers.convolutional import Conv2D\n",
        "from keras.layers import Dense, Flatten, InputLayer\n",
        "from keras.layers.convolutional import MaxPooling2D\n",
        "from keras.layers import Activation\n",
        "from wandb.keras import WandbCallback\n",
        "from google.colab.patches import cv2_imshow\n",
        "from keras.callbacks import EarlyStopping\n",
        "tf.random.set_seed(137)"
      ]
    },
    {
      "cell_type": "code",
      "execution_count": null,
      "metadata": {
        "id": "wDIk96MJvcIw",
        "colab": {
          "base_uri": "https://localhost:8080/"
        },
        "outputId": "7b3caaeb-a30b-4859-e729-286f92bfaa92"
      },
      "outputs": [
        {
          "output_type": "execute_result",
          "data": {
            "text/plain": [
              "True"
            ]
          },
          "metadata": {},
          "execution_count": 14
        }
      ],
      "source": [
        "wandb.login()"
      ]
    },
    {
      "cell_type": "code",
      "source": [
        "#Download and unzip the iNaturalist dataset\n",
        "!wget https://storage.googleapis.com/wandb_datasets/nature_12K.zip\n",
        "!unzip -q /content/nature_12K.zip"
      ],
      "metadata": {
        "id": "uE9tJ8y82FAg",
        "colab": {
          "base_uri": "https://localhost:8080/"
        },
        "outputId": "e85204b4-80f5-4ef8-ecb4-202332099cd6"
      },
      "execution_count": null,
      "outputs": [
        {
          "output_type": "stream",
          "name": "stdout",
          "text": [
            "--2022-04-01 09:56:43--  https://storage.googleapis.com/wandb_datasets/nature_12K.zip\n",
            "Resolving storage.googleapis.com (storage.googleapis.com)... 64.233.189.128, 108.177.97.128, 108.177.125.128, ...\n",
            "Connecting to storage.googleapis.com (storage.googleapis.com)|64.233.189.128|:443... connected.\n",
            "HTTP request sent, awaiting response... 200 OK\n",
            "Length: 3816687935 (3.6G) [application/zip]\n",
            "Saving to: ‘nature_12K.zip’\n",
            "\n",
            "nature_12K.zip      100%[===================>]   3.55G   202MB/s    in 17s     \n",
            "\n",
            "2022-04-01 09:57:00 (220 MB/s) - ‘nature_12K.zip’ saved [3816687935/3816687935]\n",
            "\n"
          ]
        }
      ]
    },
    {
      "cell_type": "code",
      "source": [
        "wandb.init(project=\"Assignment_2\", entity=\"hithesh-sidhesh\", name=\"Part_B\")"
      ],
      "metadata": {
        "id": "JapS9yHc8lzz",
        "colab": {
          "base_uri": "https://localhost:8080/",
          "height": 146
        },
        "outputId": "0f0a28d8-fa21-4043-e861-33c9d33778d1"
      },
      "execution_count": null,
      "outputs": [
        {
          "output_type": "stream",
          "name": "stderr",
          "text": [
            "\u001b[34m\u001b[1mwandb\u001b[0m: \u001b[33mWARNING\u001b[0m Ignored wandb.init() arg project when running a sweep.\n",
            "\u001b[34m\u001b[1mwandb\u001b[0m: \u001b[33mWARNING\u001b[0m Ignored wandb.init() arg entity when running a sweep.\n"
          ]
        },
        {
          "output_type": "display_data",
          "data": {
            "text/plain": [
              "<IPython.core.display.HTML object>"
            ],
            "text/html": [
              "Tracking run with wandb version 0.12.11"
            ]
          },
          "metadata": {}
        },
        {
          "output_type": "display_data",
          "data": {
            "text/plain": [
              "<IPython.core.display.HTML object>"
            ],
            "text/html": [
              "Run data is saved locally in <code>/content/inaturalist_12K/train/Amphibia/wandb/run-20220401_015348-l95bx1by</code>"
            ]
          },
          "metadata": {}
        },
        {
          "output_type": "display_data",
          "data": {
            "text/plain": [
              "<IPython.core.display.HTML object>"
            ],
            "text/html": [
              "Syncing run <strong><a href=\"https://wandb.ai/hithesh-sidhesh/Assignment_2/runs/l95bx1by\" target=\"_blank\">Part_B</a></strong> to <a href=\"https://wandb.ai/hithesh-sidhesh/Assignment_2\" target=\"_blank\">Weights & Biases</a> (<a href=\"https://wandb.me/run\" target=\"_blank\">docs</a>)<br/>Sweep page:  <a href=\"https://wandb.ai/hithesh-sidhesh/Assignment_2/sweeps/zm216czw\" target=\"_blank\">https://wandb.ai/hithesh-sidhesh/Assignment_2/sweeps/zm216czw</a>"
            ]
          },
          "metadata": {}
        },
        {
          "output_type": "execute_result",
          "data": {
            "text/html": [
              "<button onClick=\"this.nextSibling.style.display='block';this.style.display='none';\">Display W&B run</button><iframe src=\"https://wandb.ai/hithesh-sidhesh/Assignment_2/runs/l95bx1by?jupyter=true\" style=\"border:none;width:100%;height:420px;display:none;\"></iframe>"
            ],
            "text/plain": [
              "<wandb.sdk.wandb_run.Run at 0x7f44a8df9250>"
            ]
          },
          "metadata": {},
          "execution_count": 15
        }
      ]
    },
    {
      "cell_type": "markdown",
      "source": [
        "###Create functions for creating models using pretrained models"
      ],
      "metadata": {
        "id": "dK-Ug_K4MwMP"
      }
    },
    {
      "cell_type": "code",
      "source": [
        "class ConfigValues():\n",
        "    \"\"\"\n",
        "    Class to hold the parameters needed to create a model using the pretrained models.\n",
        "\n",
        "    Attributes:\n",
        "        layers_unfreeze:Number of layers from end of pretrained model to be used while training (default 20)\n",
        "        model:The pretrained model to be used (default \"InceptionResNetV2\")\n",
        "        dense_layers:Neurons in the dense layer(default [128])\n",
        "        epochs:Number of epochs to tun the model (default 10)\n",
        "        batch_size: Batch size (default 256)\n",
        "        augment_data:Augment data or not (default 'no')\n",
        "        dropout: Dropout rate (default 0.2)\n",
        "    \"\"\"\n",
        "    def __init__(self, augment_data='no', batch_size=256, dense_layers=[128], dropout=0.2, epochs=10, layers_unfreeze=20, model=\"InceptionResNetV2\"):\n",
        "      self.augment_data = augment_data\n",
        "      self.batch_size = batch_size\n",
        "      self.dense_layers = dense_layers\n",
        "      self.dropout = dropout\n",
        "      self.epochs = epochs\n",
        "      self.layers_unfreeze = layers_unfreeze\n",
        "      self.model = model\n"
      ],
      "metadata": {
        "id": "9GsIdpZt_YnB"
      },
      "execution_count": null,
      "outputs": []
    },
    {
      "cell_type": "code",
      "source": [
        "def generateData(augment_data_str='no', batch_size = 64):\n",
        "  \"\"\"\n",
        "  Function to generate the train and validation dataset based on user parameters\n",
        "\n",
        "  Attributes:\n",
        "      augment_data_str: Augment data or not (default 'no')\n",
        "      batch_size: Batch size (default 64)\n",
        "  \"\"\"\n",
        "\n",
        "  if augment_data_str =='no':\n",
        "    print(\"Not augmenting data\")\n",
        "    augment_data = False\n",
        "  else:\n",
        "    print(\"Augmenting data\")\n",
        "    augment_data = True\n",
        "\n",
        "  #Generate the train and validation data\n",
        "  #Validation split is 10% of train data\n",
        "  train_datagen = tf.keras.preprocessing.image.ImageDataGenerator(rescale=1/255,validation_split=0.1)\n",
        "  IMG_SIZE = (256,256)\n",
        "\n",
        "  if augment_data==True:  \n",
        "    train_datagen = tf.keras.preprocessing.image.ImageDataGenerator(rescale=1/255,rotation_range=90, shear_range=0.2, height_shift_range=0.2,\n",
        "                                          width_shift_range=0.2,\n",
        "                                          horizontal_flip=True,\n",
        "                                          zoom_range=0.2,validation_split=0.1)\n",
        "\n",
        "  else:\n",
        "    train_datagen = tf.keras.preprocessing.image.ImageDataGenerator(rescale=1/255,validation_split=0.1)\n",
        "\n",
        "\n",
        "  train_gen = train_datagen.flow_from_directory(\n",
        "          '/content/inaturalist_12K/train',\n",
        "          target_size=IMG_SIZE,\n",
        "          subset = 'training',\n",
        "              batch_size=batch_size,\n",
        "              class_mode='categorical',\n",
        "              shuffle = True,\n",
        "          seed = 137)\n",
        "  print('TRAINING')\n",
        "  print('Number of samples', train_gen.samples)\n",
        "  print('Names of classes', train_gen.class_indices)\n",
        "  print('Number of classes', len(train_gen.class_indices))\n",
        "  print('Number of samples per class', int(train_gen.samples / len(train_gen.class_indices) ))\n",
        "\n",
        "  validation_gen = train_datagen.flow_from_directory(\n",
        "          '/content/inaturalist_12K/train',\n",
        "          target_size=IMG_SIZE,\n",
        "              subset = 'validation',\n",
        "              batch_size=batch_size,\n",
        "              class_mode='categorical',\n",
        "              shuffle = False,\n",
        "          seed = 137)\n",
        "  print('VALIDATION')\n",
        "  print('Number of samples', validation_gen.samples)\n",
        "  print('Names of classes', validation_gen.class_indices)\n",
        "  print('Number of classes', len(validation_gen.class_indices))\n",
        "  print('Number of samples per class', int(validation_gen.samples / len(validation_gen.class_indices) ))\n",
        "\n",
        "\n",
        "\n",
        "  train_generator = tf.data.Dataset.from_generator(\n",
        "    lambda: train_gen,\n",
        "    output_types = (tf.float32, tf.float32)\n",
        "    ,output_shapes = ([None, 256, 256, 3], [None, 10]),\n",
        "  )\n",
        "  train_generator = train_generator.repeat()\n",
        "  train_generator = train_generator.prefetch(buffer_size=tf.data.experimental.AUTOTUNE)\n",
        "\n",
        "  validation_generator = tf.data.Dataset.from_generator(\n",
        "      lambda: validation_gen,\n",
        "      output_types = (tf.float32, tf.float32)\n",
        "      ,output_shapes = ([None, 256, 256, 3], [None, 10]),\n",
        "  )\n",
        "  validation_generator = validation_generator.repeat()\n",
        "  validation_generator = validation_generator.prefetch(buffer_size=tf.data.experimental.AUTOTUNE)\n",
        "\n",
        "  return train_gen, train_generator, validation_gen, validation_generator\n"
      ],
      "metadata": {
        "id": "7tH8ooAlpwGN"
      },
      "execution_count": null,
      "outputs": []
    },
    {
      "cell_type": "code",
      "source": [
        "def executePretrainedModel(parameters, log = False):\n",
        "  \"\"\"\n",
        "  Function to create and execute the model based on user parameters\n",
        "\n",
        "  Attributes:\n",
        "      parameters: Object holding the parameter values\n",
        "      log : Log metrics onto wandb or not (default False)\n",
        "  \"\"\"\n",
        "  IMG_SIZE = (256,256)\n",
        "  IMG_SHAPE = IMG_SIZE + (3,)\n",
        "\n",
        "  train_gen, train_generator, validation_gen, validation_generator = generateData(parameters.augment_data, parameters.batch_size )\n",
        "\n",
        "  #######################################################Set the model (pretrained + custom)##########################################################################\n",
        "\n",
        "  input_ = tf.keras.Input(shape = IMG_SHAPE)\n",
        "\n",
        "  # add a pretrained model without the top dense layer\n",
        "  if parameters.model == 'ResNet50':\n",
        "    pretrained_model = tf.keras.applications.ResNet50(include_top = False, weights='imagenet',input_tensor = input_)\n",
        "  elif parameters.model == 'InceptionV3':\n",
        "    pretrained_model = tf.keras.applications.InceptionV3(include_top = False, weights='imagenet',input_tensor = input_)\n",
        "  elif parameters.model == 'InceptionResNetV2':\n",
        "    pretrained_model = tf.keras.applications.InceptionResNetV2(include_top = False, weights='imagenet',input_tensor = input_)\n",
        "  elif parameters.model == 'Xception':\n",
        "    pretrained_model = tf.keras.applications.Xception(include_top = False, weights='imagenet',input_tensor = input_)\n",
        "  elif parameters.model == 'MobileNetV2':\n",
        "    pretrained_model = tf.keras.applications.MobileNetV2(include_top = False, weights='imagenet',input_tensor = input_)\n",
        "\n",
        "  #freeze all layers\n",
        "  for layer in pretrained_model.layers:\n",
        "      layer.trainable=False \n",
        "\n",
        "  #Make last \"x\" layer trainable from pretrained model\n",
        "  if parameters.layers_unfreeze is not None:   \n",
        "    print(\"Training last \",parameters.layers_unfreeze,\" layers\")\n",
        "    for layer in pretrained_model.layers[-parameters.layers_unfreeze:]:\n",
        "      layer.trainable=True\n",
        "\n",
        "  model = tf.keras.models.Sequential()\n",
        "  #Add pretrained model\n",
        "  model.add(pretrained_model)\n",
        "\n",
        "  #Add layers to flatten above outputs\n",
        "  model.add(GlobalAveragePooling2D())\n",
        "  #Add dropout\n",
        "  model.add(Dropout(parameters.dropout)) \n",
        "\n",
        "  #Add the dense layers as passed by user\n",
        "  for i in parameters.dense_layers:\n",
        "    model.add(Dense(i, activation='relu'))#add a dense layer\n",
        "    model.add(Dropout(parameters.dropout)) # For dropout\n",
        "  model.add(Dense(10, activation=\"softmax\"))#softmax layer\n",
        "\n",
        "  model.summary()\n",
        "\n",
        "  ###########################################################################################################################\n",
        "\n",
        "  model.compile(optimizer=tf.keras.optimizers.Adam(learning_rate=0.0001), loss = 'categorical_crossentropy', metrics = ['accuracy'])\n",
        "\n",
        "  #Early stopping added to the model\n",
        "  earlyStopping = EarlyStopping(monitor='val_loss', patience=10, verbose=0, mode='min')\n",
        "\n",
        "\n",
        "  #number of epochs for pre training \n",
        "  hist = model.fit(train_generator,\n",
        "              epochs=parameters.epochs,\n",
        "              batch_size=parameters.batch_size,\n",
        "              steps_per_epoch = train_gen.samples//train_gen.batch_size,\n",
        "              validation_data= validation_generator,\n",
        "              validation_steps= validation_gen.samples//validation_gen.batch_size,\n",
        "              callbacks=[earlyStopping]\n",
        "              )\n",
        "  \n",
        "  val_acc=max(hist.history['val_accuracy'])\n",
        "  train_acc=max(hist.history['accuracy'])\n",
        "  val_loss=max(hist.history['val_loss'])\n",
        "  train_loss=max(hist.history['loss']) \n",
        "\n",
        "  log_values = {'Training_loss':train_loss, 'Validation_loss':val_loss, 'Training_accuracy':train_acc, 'Validation_accuracy':val_acc}\n",
        "\n",
        "  #Log metrics onto wandb if required\n",
        "  if log==True:\n",
        "    wandb.log(log_values)\n",
        "    wandb.log({\"accuracy\": val_acc})\n",
        "\n",
        "  print(log_values)\n",
        "\n",
        "\n",
        "  return model\n"
      ],
      "metadata": {
        "id": "s65vBMQ2_X_X"
      },
      "execution_count": null,
      "outputs": []
    },
    {
      "cell_type": "markdown",
      "source": [
        "##Implementing Sweeps\n",
        "\n",
        "The hyperparameters choosen for the sweeps are as follows:\n",
        "\n",
        "- Model (model) : ['Xception', 'ResNet50', 'InceptionV3', 'InceptionresNetV2', 'MobileNetV2'] \n",
        "- Number of neurons in Dense Layers (dense_layers): [[256], [128], [64]]\n",
        "- Epochs (epochs) : [5, 10]\n",
        "- Batch Size (batch_size) : [64, 128, 256]\n",
        "- Augment data (augment_data) : ['yes', 'no']\n",
        "- Dropout value (dropout) : [0.2, 0.3, 0.4]\n",
        "- Batch Normalization (batch_normalization) : ['yes', 'no']\n",
        "- Layers to be trained in the pretrained model (layers_unfreeze) : [0, 20, 30]\n"
      ],
      "metadata": {
        "id": "EZgACbAU_eFR"
      }
    },
    {
      "cell_type": "markdown",
      "source": [
        "1. Sweep for Xception model"
      ],
      "metadata": {
        "id": "6CuxmL80ue4J"
      }
    },
    {
      "cell_type": "code",
      "source": [
        "sweep_config = {\n",
        "    'method': 'bayes',\n",
        "    'metric': {\n",
        "      'name': 'val_accuracy',\n",
        "      'goal': 'maximize'   \n",
        "    },\n",
        "    'parameters': {\n",
        "        'model':{\n",
        "            'values':['Xception']\n",
        "        },\n",
        "        'dense_layers': {\n",
        "            'values': [[256], [128], [64]]\n",
        "        },\n",
        "        'layers_unfreeze':{\n",
        "            'values': [None, 20, 30]       \n",
        "        },\n",
        "        'dropout': {\n",
        "            'values':[0, 0.2, 0.3]\n",
        "        },\n",
        "        'augment_data': {\n",
        "            'values': ['yes', 'no']\n",
        "        },\n",
        "        'batch_size' : {\n",
        "            'values' : [128, 64, 256]\n",
        "        },\n",
        "        'epochs' : {\n",
        "            'values' : [5,10]\n",
        "        }\n",
        "\n",
        "    }\n",
        "}"
      ],
      "metadata": {
        "id": "kgFj3h7p_iUS"
      },
      "execution_count": null,
      "outputs": []
    },
    {
      "cell_type": "code",
      "source": [
        "sweep_id = wandb.sweep(sweep_config,project=\"Assignment_2\", entity=\"hithesh-sidhesh\" )"
      ],
      "metadata": {
        "colab": {
          "base_uri": "https://localhost:8080/"
        },
        "outputId": "b4b00856-f75c-4689-8264-e7f027d99293",
        "id": "-KPL23Uk_iUT"
      },
      "execution_count": null,
      "outputs": [
        {
          "output_type": "stream",
          "name": "stdout",
          "text": [
            "Create sweep with ID: zm216czw\n",
            "Sweep URL: https://wandb.ai/hithesh-sidhesh/Assignment_2/sweeps/zm216czw\n"
          ]
        }
      ]
    },
    {
      "cell_type": "code",
      "source": [
        "#Reference link for transfer learning using a pre-trained model :- https://developer.ridgerun.com/wiki/index.php?title=Keras_with_MobilenetV2_for_Deep_Learning\n",
        "#                                                                  https://keras.io/guides/transfer_learning/ \n",
        "def train():\n",
        "\n",
        "  config_defaults = {\n",
        "        'model': 'InceptionResNetV2',\n",
        "        'dense_layers':[128] ,\n",
        "        'layers_unfreeze':20 ,\n",
        "        'augment_data' : 'no',\n",
        "        'dropout' : 0.2,\n",
        "        'batch_size' : 32,\n",
        "        'epochs' : 10\n",
        "  }\n",
        "    \n",
        "  with wandb.init(project='Assignment_2',config = sweep_config, name=\"Part B\"):\n",
        "    config = wandb.init().config\n",
        "\n",
        "    #Setting custom run name \n",
        "    wandb.run.name = 'model_'+config.model + '_dense_layers_' + str(config.dense_layers) +  '_layers_unfreeze_' + str(config.layers_unfreeze) +'_augment_data_' + config.augment_data + '_dropout_' + str(config.dropout) + '_epochs_' + str(config.epochs) + '_batch_size_' + str(config.batch_size) \n",
        "    \n",
        "    model = executePretrainedModel(config, log = True)\n",
        "    \n"
      ],
      "metadata": {
        "id": "Vj_PQ5RL_iUT"
      },
      "execution_count": null,
      "outputs": []
    },
    {
      "cell_type": "code",
      "source": [
        "#################################\n",
        "# Setting up wandb sweeps\n",
        "#################################\n",
        "wandb.agent(sweep_id, train, count = 15)\n"
      ],
      "metadata": {
        "id": "6QTM5MtP_iUU",
        "colab": {
          "base_uri": "https://localhost:8080/",
          "height": 1000,
          "referenced_widgets": [
            "800fe5bc06074554abb44c9a55e7fef3",
            "606cfb5c882b4ccbb13f8358e624addb",
            "95631d8077d14073b150dcc338b1ccc3",
            "51b542a6fc4c4f90a160fe607e9a707f",
            "fbeb712c6273424b89d0b24f6a3aeeb6",
            "5ccf0f0da96d4bf895e2cc4700ce9446",
            "266e8a2e36aa4e87908668a930f41056",
            "086859619d1249dca12b418fd18ac540",
            "bcbf592ec2184dbabd8bd228ad4bec9d",
            "29465094ee7544d1a6f66f6e06ceb293",
            "eba3c9a99e21419f967540c4a9425616",
            "13d3f8585e02484d98496b28612030d8",
            "e5b01066322a4877ad12bcc68c9bc6b6",
            "7af86158f5904120a103609628ac7fca",
            "c08526c543ad45d18343e752094cbaaa",
            "ae0a7c79c92545cd9312e03da44cdfac",
            "83d903b513124b54993b7f51f21438b3",
            "183f2d4effb540399b79045b9707cc93",
            "1f741fa0444b49bd88c542b106afc05f",
            "1d2d5e4cb1434108b656e7c688a33d95",
            "730f09090a414487b63435ee769dbce8",
            "a382696eb1164e42b970d20ade599f99",
            "f88ba2dac0ce4061b53288da702c92a6",
            "df8800dca46e40e9845bba40e3ae508a",
            "ecb6503f10c248d7922bf456b19d3f8d",
            "eadc2af3baba438f84bc1041ebe797df",
            "b24606aa6cd444ffaf8a699e2fe91c8e",
            "277858db1c804480bef383ff6a0b7a06",
            "9fd712b38e1942c5b869351f9ec573cb",
            "056de56d86d94d8f90794530597370dd",
            "ff41047c0d52409c9857ae8a5697a005",
            "a464dabf31854181a81d8e0e56e27193",
            "7ec99793fea644808ff03618f1c69ccc",
            "23f75c1c960d4a2d9f52c56cc021f24e",
            "cf524527e0fe47289cc40b047eacd6c5",
            "15b843b3c3a043fc988a111840a23693",
            "9d8038a9ea1243d3b5b91d0f19ddbf8c",
            "4191174e5ecc423ba5508422cd9f3c23",
            "54dc2bd236614fabbbcb4267ab38c7ae",
            "f90590ec73bf4cd3bdd40afd6481600c",
            "e19c71bbae0c4e7aa36fc4baf96ba17e",
            "27d12254987c4a8cb24d97e8100e338e",
            "c92e2efe22e841baa6945584ab6da74c",
            "bbd0ae4a3bdf428283d74434043f84d6",
            "657b9ab6c83a40e6bddce4a622028d57",
            "8adcb0362e5c4cb2bd6aa60498d0c71f",
            "0177816e16364f15affc9300553a2074",
            "98e3f8c2b75043538e0ffaad8ba8e4fa",
            "ccbc0a395fe845cf96d26edb4796557d",
            "c3d3d57c52a2490f852bc039805617d8",
            "1a3075087c634568a6cc5871510f8c7b",
            "c144536e13ec4c7fadbfa06c7b7b3981",
            "ebef688a40754a238f0dac2c9a7b69f3",
            "32372d7e0f9d4240871a7703283a5dd3",
            "c5b10e6d39974985bf854be55c4374b5",
            "1795052b1dfd4693a5a96701327975bf",
            "725d90919a7c4498bda168acd1e78ca1",
            "efa0502e4e5c4f3684a47587d986b3c8",
            "f78ec602e3c347ddb808586bd28d7709",
            "8816bb6e61444ad1ac2c6bd2afde6b94",
            "ecbe3d4388a64109bef4cc25a2184e69",
            "d60bfec8e0dd45128aa82628a3bfd1db",
            "fd81c0f71c824414a97ab3304ea86c42",
            "90f20797d4284f9b9673e9ed7d20ec53",
            "d3e7851ac74e4fab8c85a33b1a136bf3",
            "46084ecd604540a0857aacdfb67d3485",
            "45c66779801d48818e456df3b20d7bbb",
            "97866330d3934fe983ef3ae26b946da1",
            "7cf302b4198f43ce97c529313e1eac0e",
            "182d5dd871f040a88ee4f3d46664fd27",
            "24c4a4d1310d4bfab19313d104f13476",
            "0a1bd74204524322a0b3d9c28be544dc",
            "9b45837280e04f2c9a9759f970ad38a5",
            "564df4fb2c0a469c8042ef8bf5f3f575",
            "5e90e45073dd48ebb3dc681d0fbccad0",
            "117fb856430e40e8b7d445d71ddc8f3f",
            "21d72a0930f445dc94ec89ba617144ec",
            "1f325f7f988340408567b15a9fa1733d",
            "79c9b0ea1ff24e6c906b476c9813a406",
            "b6bfed89855742d998cd4ce582653465",
            "eb1417596320417a9f2ee8ad24110a52",
            "ae2cf158c479468e969bae14772d6b23",
            "51255bd8ecfa4791b9a700d1d223a73a",
            "b942a57c30e64a958d884385a82c5d4d",
            "915d62033b63407db36ef606e13cf995",
            "656cf5bc15b94acc877585643ab34711",
            "6b10785b7ea243b889e29d51f5160da8",
            "3ef6e329294b4feaaaf8d3182cb3738c",
            "8d400d8ea941474fa7668f4de5bd844b",
            "23102f7a23ae41a0b9aba8d5c54c0429",
            "f082dd29b25e4684acd4c360651b51c1",
            "2d206c3171ed40418c222b2c30df0ab4",
            "dac07eb983aa42c088b0826d2c3b3dc4",
            "d33167cc581e485b8bd7e408ad0345ee",
            "9489ca9e127e4b779ae605799564e12c",
            "7e50d6a04a264af68e57e914afacc831",
            "4df0a60b5efb4f019ce3d8d4372a3020",
            "cb61c35832e4498db2f9140e8ad79f91",
            "b3aa66bac7ee45d8b71a9d8c5df9c879",
            "f794de24d9c64b73ab50ba1e527e8cdc",
            "ad862e1032a44b3abad08195958421b6",
            "1c1f96c63128443bbca9cb60faf2f61e",
            "42b905244e2a4671a32196e35fb41f01",
            "a1e59b5c900b45af9bcefc5de2517dbb",
            "6f2e8282c95c41cd8038fc086f843fdf",
            "3b567112521c4f02b45ff595472e077e",
            "df9e993a24614cb29b455bd3b320462c",
            "1476de21887a40d2bee2c39d6dbb96e0",
            "647a03393d0a44f59d3c5862e09eb05b",
            "d4c6da1c8e4747d5900ec60c7f4360a4",
            "ede6041be7a74b58abd37557001d61b6",
            "2eab6e56cf3c4e74988d01988f6e3dad",
            "365368d9243c4ec2906c2da3386c8659",
            "5b7420c02d5444719d20fa318a634f51",
            "db37c398befd4e44a98187e45f1b1d09",
            "71d56d163c1e41cda55edfbbc62f7eee",
            "2c5773394ff04f28817da737c68cac04",
            "667ad1d7e4aa4f7ba59b41100a1b02fb",
            "78d425b4c7b346229b2b8396fc782aa1",
            "afb1b858935948699c8eb9fe514ed3ec"
          ]
        },
        "outputId": "0e37d0ab-cdbe-46d6-d454-0a57434c787e"
      },
      "execution_count": null,
      "outputs": [
        {
          "output_type": "stream",
          "name": "stderr",
          "text": [
            "\u001b[34m\u001b[1mwandb\u001b[0m: \u001b[33mWARNING\u001b[0m Calling wandb.login() after wandb.init() has no effect.\n",
            "\u001b[34m\u001b[1mwandb\u001b[0m: Agent Starting Run: q7is9hg5 with config:\n",
            "\u001b[34m\u001b[1mwandb\u001b[0m: \taugment_data: no\n",
            "\u001b[34m\u001b[1mwandb\u001b[0m: \tbatch_size: 256\n",
            "\u001b[34m\u001b[1mwandb\u001b[0m: \tdense_layers: [64]\n",
            "\u001b[34m\u001b[1mwandb\u001b[0m: \tdropout: 0\n",
            "\u001b[34m\u001b[1mwandb\u001b[0m: \tepochs: 5\n",
            "\u001b[34m\u001b[1mwandb\u001b[0m: \tlayers_unfreeze: 20\n",
            "\u001b[34m\u001b[1mwandb\u001b[0m: \tmodel: Xception\n",
            "\u001b[34m\u001b[1mwandb\u001b[0m: \u001b[33mWARNING\u001b[0m Ignored wandb.init() arg project when running a sweep.\n"
          ]
        },
        {
          "output_type": "display_data",
          "data": {
            "text/plain": [
              "<IPython.core.display.HTML object>"
            ],
            "text/html": [
              "Tracking run with wandb version 0.12.11"
            ]
          },
          "metadata": {}
        },
        {
          "output_type": "display_data",
          "data": {
            "text/plain": [
              "<IPython.core.display.HTML object>"
            ],
            "text/html": [
              "Run data is saved locally in <code>/content/inaturalist_12K/train/Amphibia/wandb/run-20220331_184426-q7is9hg5</code>"
            ]
          },
          "metadata": {}
        },
        {
          "output_type": "display_data",
          "data": {
            "text/plain": [
              "<IPython.core.display.HTML object>"
            ],
            "text/html": [
              "Syncing run <strong><a href=\"https://wandb.ai/hithesh-sidhesh/Assignment_2/runs/q7is9hg5\" target=\"_blank\">Part B</a></strong> to <a href=\"https://wandb.ai/hithesh-sidhesh/Assignment_2\" target=\"_blank\">Weights & Biases</a> (<a href=\"https://wandb.me/run\" target=\"_blank\">docs</a>)<br/>Sweep page:  <a href=\"https://wandb.ai/hithesh-sidhesh/Assignment_2/sweeps/zm216czw\" target=\"_blank\">https://wandb.ai/hithesh-sidhesh/Assignment_2/sweeps/zm216czw</a>"
            ]
          },
          "metadata": {}
        },
        {
          "output_type": "display_data",
          "data": {
            "text/plain": [
              "<IPython.core.display.HTML object>"
            ],
            "text/html": [
              "Finishing last run (ID:q7is9hg5) before initializing another..."
            ]
          },
          "metadata": {}
        },
        {
          "output_type": "stream",
          "name": "stdout",
          "text": [
            "\n"
          ]
        },
        {
          "output_type": "display_data",
          "data": {
            "text/plain": [
              "<IPython.core.display.HTML object>"
            ],
            "text/html": [
              "Waiting for W&B process to finish... <strong style=\"color:green\">(success).</strong>"
            ]
          },
          "metadata": {}
        },
        {
          "output_type": "display_data",
          "data": {
            "text/plain": [
              "VBox(children=(Label(value='0.001 MB of 0.001 MB uploaded (0.000 MB deduped)\\r'), FloatProgress(value=1.0, max…"
            ],
            "application/vnd.jupyter.widget-view+json": {
              "version_major": 2,
              "version_minor": 0,
              "model_id": "800fe5bc06074554abb44c9a55e7fef3"
            }
          },
          "metadata": {}
        },
        {
          "output_type": "display_data",
          "data": {
            "text/plain": [
              "<IPython.core.display.HTML object>"
            ],
            "text/html": [
              "Synced <strong style=\"color:#cdcd00\">Part B</strong>: <a href=\"https://wandb.ai/hithesh-sidhesh/Assignment_2/runs/q7is9hg5\" target=\"_blank\">https://wandb.ai/hithesh-sidhesh/Assignment_2/runs/q7is9hg5</a><br/>Synced 4 W&B file(s), 0 media file(s), 0 artifact file(s) and 0 other file(s)"
            ]
          },
          "metadata": {}
        },
        {
          "output_type": "display_data",
          "data": {
            "text/plain": [
              "<IPython.core.display.HTML object>"
            ],
            "text/html": [
              "Find logs at: <code>./wandb/run-20220331_184426-q7is9hg5/logs</code>"
            ]
          },
          "metadata": {}
        },
        {
          "output_type": "display_data",
          "data": {
            "text/plain": [
              "<IPython.core.display.HTML object>"
            ],
            "text/html": [
              "Successfully finished last run (ID:q7is9hg5). Initializing new run:<br/>"
            ]
          },
          "metadata": {}
        },
        {
          "output_type": "display_data",
          "data": {
            "text/plain": [
              "<IPython.core.display.HTML object>"
            ],
            "text/html": [
              "Tracking run with wandb version 0.12.11"
            ]
          },
          "metadata": {}
        },
        {
          "output_type": "display_data",
          "data": {
            "text/plain": [
              "<IPython.core.display.HTML object>"
            ],
            "text/html": [
              "Run data is saved locally in <code>/content/inaturalist_12K/train/Amphibia/wandb/run-20220331_184434-q7is9hg5</code>"
            ]
          },
          "metadata": {}
        },
        {
          "output_type": "display_data",
          "data": {
            "text/plain": [
              "<IPython.core.display.HTML object>"
            ],
            "text/html": [
              "Syncing run <strong><a href=\"https://wandb.ai/hithesh-sidhesh/Assignment_2/runs/q7is9hg5\" target=\"_blank\">Part B</a></strong> to <a href=\"https://wandb.ai/hithesh-sidhesh/Assignment_2\" target=\"_blank\">Weights & Biases</a> (<a href=\"https://wandb.me/run\" target=\"_blank\">docs</a>)<br/>Sweep page:  <a href=\"https://wandb.ai/hithesh-sidhesh/Assignment_2/sweeps/zm216czw\" target=\"_blank\">https://wandb.ai/hithesh-sidhesh/Assignment_2/sweeps/zm216czw</a>"
            ]
          },
          "metadata": {}
        },
        {
          "output_type": "stream",
          "name": "stdout",
          "text": [
            "Not augmenting data\n",
            "Found 9000 images belonging to 10 classes.\n",
            "TRAINING\n",
            "Number of samples 9000\n",
            "Names of classes {'Amphibia': 0, 'Animalia': 1, 'Arachnida': 2, 'Aves': 3, 'Fungi': 4, 'Insecta': 5, 'Mammalia': 6, 'Mollusca': 7, 'Plantae': 8, 'Reptilia': 9}\n",
            "Number of classes 10\n",
            "Number of samples per class 900\n",
            "Found 999 images belonging to 10 classes.\n",
            "VALIDATION\n",
            "Number of samples 999\n",
            "Names of classes {'Amphibia': 0, 'Animalia': 1, 'Arachnida': 2, 'Aves': 3, 'Fungi': 4, 'Insecta': 5, 'Mammalia': 6, 'Mollusca': 7, 'Plantae': 8, 'Reptilia': 9}\n",
            "Number of classes 10\n",
            "Number of samples per class 99\n",
            "Training last  20  layers\n",
            "Model: \"sequential\"\n",
            "_________________________________________________________________\n",
            " Layer (type)                Output Shape              Param #   \n",
            "=================================================================\n",
            " xception (Functional)       (None, 8, 8, 2048)        20861480  \n",
            "                                                                 \n",
            " global_average_pooling2d (G  (None, 2048)             0         \n",
            " lobalAveragePooling2D)                                          \n",
            "                                                                 \n",
            " dropout (Dropout)           (None, 2048)              0         \n",
            "                                                                 \n",
            " dense (Dense)               (None, 64)                131136    \n",
            "                                                                 \n",
            " dropout_1 (Dropout)         (None, 64)                0         \n",
            "                                                                 \n",
            " dense_1 (Dense)             (None, 10)                650       \n",
            "                                                                 \n",
            "=================================================================\n",
            "Total params: 20,993,266\n",
            "Trainable params: 7,458,162\n",
            "Non-trainable params: 13,535,104\n",
            "_________________________________________________________________\n",
            "Epoch 1/5\n",
            "35/35 [==============================] - 136s 4s/step - loss: 1.5530 - accuracy: 0.5804 - val_loss: 0.8015 - val_accuracy: 0.7552\n",
            "Epoch 2/5\n",
            "35/35 [==============================] - 116s 3s/step - loss: 0.7236 - accuracy: 0.7770 - val_loss: 0.6844 - val_accuracy: 0.7786\n",
            "Epoch 3/5\n",
            "35/35 [==============================] - 110s 3s/step - loss: 0.5384 - accuracy: 0.8302 - val_loss: 0.6901 - val_accuracy: 0.7826\n",
            "Epoch 4/5\n",
            "35/35 [==============================] - 107s 3s/step - loss: 0.4131 - accuracy: 0.8727 - val_loss: 0.6711 - val_accuracy: 0.8021\n",
            "Epoch 5/5\n",
            "35/35 [==============================] - 107s 3s/step - loss: 0.3150 - accuracy: 0.9095 - val_loss: 0.6852 - val_accuracy: 0.7982\n",
            "{'Training_loss': 1.5529624223709106, 'Validation_loss': 0.80153489112854, 'Training_accuracy': 0.9095379710197449, 'Validation_accuracy': 0.8020833134651184, '_timestamp': 1648752870, '_runtime': 590}\n",
            "Found 2000 images belonging to 10 classes.\n",
            "7/7 - 22s - loss: 0.6902 - accuracy: 0.8002 - 22s/epoch - 3s/step\n",
            "Test accuracy : 0.8002232313156128\n"
          ]
        },
        {
          "output_type": "stream",
          "name": "stderr",
          "text": [
            "\u001b[34m\u001b[1mwandb\u001b[0m: Agent Starting Run: wzdpmujz with config:\n",
            "\u001b[34m\u001b[1mwandb\u001b[0m: \taugment_data: yes\n",
            "\u001b[34m\u001b[1mwandb\u001b[0m: \tbatch_size: 256\n",
            "\u001b[34m\u001b[1mwandb\u001b[0m: \tdense_layers: [64]\n",
            "\u001b[34m\u001b[1mwandb\u001b[0m: \tdropout: 0.3\n",
            "\u001b[34m\u001b[1mwandb\u001b[0m: \tepochs: 5\n",
            "\u001b[34m\u001b[1mwandb\u001b[0m: \tlayers_unfreeze: 30\n",
            "\u001b[34m\u001b[1mwandb\u001b[0m: \tmodel: Xception\n",
            "\u001b[34m\u001b[1mwandb\u001b[0m: \u001b[33mWARNING\u001b[0m Ignored wandb.init() arg project when running a sweep.\n"
          ]
        },
        {
          "output_type": "display_data",
          "data": {
            "text/plain": [
              "<IPython.core.display.HTML object>"
            ],
            "text/html": [
              "Tracking run with wandb version 0.12.11"
            ]
          },
          "metadata": {}
        },
        {
          "output_type": "display_data",
          "data": {
            "text/plain": [
              "<IPython.core.display.HTML object>"
            ],
            "text/html": [
              "Run data is saved locally in <code>/content/inaturalist_12K/train/Amphibia/wandb/run-20220331_185500-wzdpmujz</code>"
            ]
          },
          "metadata": {}
        },
        {
          "output_type": "display_data",
          "data": {
            "text/plain": [
              "<IPython.core.display.HTML object>"
            ],
            "text/html": [
              "Syncing run <strong><a href=\"https://wandb.ai/hithesh-sidhesh/Assignment_2/runs/wzdpmujz\" target=\"_blank\">Part B</a></strong> to <a href=\"https://wandb.ai/hithesh-sidhesh/Assignment_2\" target=\"_blank\">Weights & Biases</a> (<a href=\"https://wandb.me/run\" target=\"_blank\">docs</a>)<br/>Sweep page:  <a href=\"https://wandb.ai/hithesh-sidhesh/Assignment_2/sweeps/zm216czw\" target=\"_blank\">https://wandb.ai/hithesh-sidhesh/Assignment_2/sweeps/zm216czw</a>"
            ]
          },
          "metadata": {}
        },
        {
          "output_type": "display_data",
          "data": {
            "text/plain": [
              "<IPython.core.display.HTML object>"
            ],
            "text/html": [
              "Finishing last run (ID:wzdpmujz) before initializing another..."
            ]
          },
          "metadata": {}
        },
        {
          "output_type": "stream",
          "name": "stdout",
          "text": [
            "\n"
          ]
        },
        {
          "output_type": "display_data",
          "data": {
            "text/plain": [
              "<IPython.core.display.HTML object>"
            ],
            "text/html": [
              "Waiting for W&B process to finish... <strong style=\"color:green\">(success).</strong>"
            ]
          },
          "metadata": {}
        },
        {
          "output_type": "display_data",
          "data": {
            "text/plain": [
              "VBox(children=(Label(value='0.001 MB of 0.001 MB uploaded (0.000 MB deduped)\\r'), FloatProgress(value=1.0, max…"
            ],
            "application/vnd.jupyter.widget-view+json": {
              "version_major": 2,
              "version_minor": 0,
              "model_id": "bcbf592ec2184dbabd8bd228ad4bec9d"
            }
          },
          "metadata": {}
        },
        {
          "output_type": "display_data",
          "data": {
            "text/plain": [
              "<IPython.core.display.HTML object>"
            ],
            "text/html": [
              "Synced <strong style=\"color:#cdcd00\">Part B</strong>: <a href=\"https://wandb.ai/hithesh-sidhesh/Assignment_2/runs/wzdpmujz\" target=\"_blank\">https://wandb.ai/hithesh-sidhesh/Assignment_2/runs/wzdpmujz</a><br/>Synced 4 W&B file(s), 0 media file(s), 0 artifact file(s) and 0 other file(s)"
            ]
          },
          "metadata": {}
        },
        {
          "output_type": "display_data",
          "data": {
            "text/plain": [
              "<IPython.core.display.HTML object>"
            ],
            "text/html": [
              "Find logs at: <code>./wandb/run-20220331_185500-wzdpmujz/logs</code>"
            ]
          },
          "metadata": {}
        },
        {
          "output_type": "display_data",
          "data": {
            "text/plain": [
              "<IPython.core.display.HTML object>"
            ],
            "text/html": [
              "Successfully finished last run (ID:wzdpmujz). Initializing new run:<br/>"
            ]
          },
          "metadata": {}
        },
        {
          "output_type": "display_data",
          "data": {
            "text/plain": [
              "<IPython.core.display.HTML object>"
            ],
            "text/html": [
              "Tracking run with wandb version 0.12.11"
            ]
          },
          "metadata": {}
        },
        {
          "output_type": "display_data",
          "data": {
            "text/plain": [
              "<IPython.core.display.HTML object>"
            ],
            "text/html": [
              "Run data is saved locally in <code>/content/inaturalist_12K/train/Amphibia/wandb/run-20220331_185508-wzdpmujz</code>"
            ]
          },
          "metadata": {}
        },
        {
          "output_type": "display_data",
          "data": {
            "text/plain": [
              "<IPython.core.display.HTML object>"
            ],
            "text/html": [
              "Syncing run <strong><a href=\"https://wandb.ai/hithesh-sidhesh/Assignment_2/runs/wzdpmujz\" target=\"_blank\">Part B</a></strong> to <a href=\"https://wandb.ai/hithesh-sidhesh/Assignment_2\" target=\"_blank\">Weights & Biases</a> (<a href=\"https://wandb.me/run\" target=\"_blank\">docs</a>)<br/>Sweep page:  <a href=\"https://wandb.ai/hithesh-sidhesh/Assignment_2/sweeps/zm216czw\" target=\"_blank\">https://wandb.ai/hithesh-sidhesh/Assignment_2/sweeps/zm216czw</a>"
            ]
          },
          "metadata": {}
        },
        {
          "output_type": "stream",
          "name": "stdout",
          "text": [
            "Augmenting data\n",
            "Found 9000 images belonging to 10 classes.\n",
            "TRAINING\n",
            "Number of samples 9000\n",
            "Names of classes {'Amphibia': 0, 'Animalia': 1, 'Arachnida': 2, 'Aves': 3, 'Fungi': 4, 'Insecta': 5, 'Mammalia': 6, 'Mollusca': 7, 'Plantae': 8, 'Reptilia': 9}\n",
            "Number of classes 10\n",
            "Number of samples per class 900\n",
            "Found 999 images belonging to 10 classes.\n",
            "VALIDATION\n",
            "Number of samples 999\n",
            "Names of classes {'Amphibia': 0, 'Animalia': 1, 'Arachnida': 2, 'Aves': 3, 'Fungi': 4, 'Insecta': 5, 'Mammalia': 6, 'Mollusca': 7, 'Plantae': 8, 'Reptilia': 9}\n",
            "Number of classes 10\n",
            "Number of samples per class 99\n",
            "Training last  30  layers\n",
            "Model: \"sequential\"\n",
            "_________________________________________________________________\n",
            " Layer (type)                Output Shape              Param #   \n",
            "=================================================================\n",
            " xception (Functional)       (None, 8, 8, 2048)        20861480  \n",
            "                                                                 \n",
            " global_average_pooling2d (G  (None, 2048)             0         \n",
            " lobalAveragePooling2D)                                          \n",
            "                                                                 \n",
            " dropout (Dropout)           (None, 2048)              0         \n",
            "                                                                 \n",
            " dense (Dense)               (None, 64)                131136    \n",
            "                                                                 \n",
            " dropout_1 (Dropout)         (None, 64)                0         \n",
            "                                                                 \n",
            " dense_1 (Dense)             (None, 10)                650       \n",
            "                                                                 \n",
            "=================================================================\n",
            "Total params: 20,993,266\n",
            "Trainable params: 9,072,138\n",
            "Non-trainable params: 11,921,128\n",
            "_________________________________________________________________\n",
            "Epoch 1/5\n",
            "35/35 [==============================] - 264s 7s/step - loss: 1.9790 - accuracy: 0.3453 - val_loss: 1.2330 - val_accuracy: 0.6849\n",
            "Epoch 2/5\n",
            "35/35 [==============================] - 244s 7s/step - loss: 1.2030 - accuracy: 0.6228 - val_loss: 0.9357 - val_accuracy: 0.6823\n",
            "Epoch 3/5\n",
            "35/35 [==============================] - 229s 7s/step - loss: 0.9811 - accuracy: 0.6788 - val_loss: 0.8889 - val_accuracy: 0.7070\n",
            "Epoch 4/5\n",
            "35/35 [==============================] - 223s 7s/step - loss: 0.8988 - accuracy: 0.7081 - val_loss: 0.8600 - val_accuracy: 0.7357\n",
            "Epoch 5/5\n",
            "35/35 [==============================] - 223s 7s/step - loss: 0.8145 - accuracy: 0.7379 - val_loss: 0.8286 - val_accuracy: 0.7292\n",
            "{'Training_loss': 1.9790091514587402, 'Validation_loss': 1.2330069541931152, 'Training_accuracy': 0.7378774285316467, 'Validation_accuracy': 0.7356770634651184, '_timestamp': 1648754106, '_runtime': 1193}\n",
            "Found 2000 images belonging to 10 classes.\n",
            "7/7 - 22s - loss: 0.6318 - accuracy: 0.8153 - 22s/epoch - 3s/step\n",
            "Test accuracy : 0.8152901530265808\n"
          ]
        },
        {
          "output_type": "stream",
          "name": "stderr",
          "text": [
            "\u001b[34m\u001b[1mwandb\u001b[0m: Agent Starting Run: 0f0shubq with config:\n",
            "\u001b[34m\u001b[1mwandb\u001b[0m: \taugment_data: no\n",
            "\u001b[34m\u001b[1mwandb\u001b[0m: \tbatch_size: 128\n",
            "\u001b[34m\u001b[1mwandb\u001b[0m: \tdense_layers: [256]\n",
            "\u001b[34m\u001b[1mwandb\u001b[0m: \tdropout: 0.3\n",
            "\u001b[34m\u001b[1mwandb\u001b[0m: \tepochs: 10\n",
            "\u001b[34m\u001b[1mwandb\u001b[0m: \tlayers_unfreeze: None\n",
            "\u001b[34m\u001b[1mwandb\u001b[0m: \tmodel: Xception\n",
            "\u001b[34m\u001b[1mwandb\u001b[0m: \u001b[33mWARNING\u001b[0m Ignored wandb.init() arg project when running a sweep.\n"
          ]
        },
        {
          "output_type": "display_data",
          "data": {
            "text/plain": [
              "<IPython.core.display.HTML object>"
            ],
            "text/html": [
              "Tracking run with wandb version 0.12.11"
            ]
          },
          "metadata": {}
        },
        {
          "output_type": "display_data",
          "data": {
            "text/plain": [
              "<IPython.core.display.HTML object>"
            ],
            "text/html": [
              "Run data is saved locally in <code>/content/inaturalist_12K/train/Amphibia/wandb/run-20220331_191538-0f0shubq</code>"
            ]
          },
          "metadata": {}
        },
        {
          "output_type": "display_data",
          "data": {
            "text/plain": [
              "<IPython.core.display.HTML object>"
            ],
            "text/html": [
              "Syncing run <strong><a href=\"https://wandb.ai/hithesh-sidhesh/Assignment_2/runs/0f0shubq\" target=\"_blank\">Part B</a></strong> to <a href=\"https://wandb.ai/hithesh-sidhesh/Assignment_2\" target=\"_blank\">Weights & Biases</a> (<a href=\"https://wandb.me/run\" target=\"_blank\">docs</a>)<br/>Sweep page:  <a href=\"https://wandb.ai/hithesh-sidhesh/Assignment_2/sweeps/zm216czw\" target=\"_blank\">https://wandb.ai/hithesh-sidhesh/Assignment_2/sweeps/zm216czw</a>"
            ]
          },
          "metadata": {}
        },
        {
          "output_type": "display_data",
          "data": {
            "text/plain": [
              "<IPython.core.display.HTML object>"
            ],
            "text/html": [
              "Finishing last run (ID:0f0shubq) before initializing another..."
            ]
          },
          "metadata": {}
        },
        {
          "output_type": "stream",
          "name": "stdout",
          "text": [
            "\n"
          ]
        },
        {
          "output_type": "display_data",
          "data": {
            "text/plain": [
              "<IPython.core.display.HTML object>"
            ],
            "text/html": [
              "Waiting for W&B process to finish... <strong style=\"color:green\">(success).</strong>"
            ]
          },
          "metadata": {}
        },
        {
          "output_type": "display_data",
          "data": {
            "text/plain": [
              "VBox(children=(Label(value='0.001 MB of 0.001 MB uploaded (0.000 MB deduped)\\r'), FloatProgress(value=1.0, max…"
            ],
            "application/vnd.jupyter.widget-view+json": {
              "version_major": 2,
              "version_minor": 0,
              "model_id": "83d903b513124b54993b7f51f21438b3"
            }
          },
          "metadata": {}
        },
        {
          "output_type": "display_data",
          "data": {
            "text/plain": [
              "<IPython.core.display.HTML object>"
            ],
            "text/html": [
              "Synced <strong style=\"color:#cdcd00\">Part B</strong>: <a href=\"https://wandb.ai/hithesh-sidhesh/Assignment_2/runs/0f0shubq\" target=\"_blank\">https://wandb.ai/hithesh-sidhesh/Assignment_2/runs/0f0shubq</a><br/>Synced 4 W&B file(s), 0 media file(s), 0 artifact file(s) and 0 other file(s)"
            ]
          },
          "metadata": {}
        },
        {
          "output_type": "display_data",
          "data": {
            "text/plain": [
              "<IPython.core.display.HTML object>"
            ],
            "text/html": [
              "Find logs at: <code>./wandb/run-20220331_191538-0f0shubq/logs</code>"
            ]
          },
          "metadata": {}
        },
        {
          "output_type": "display_data",
          "data": {
            "text/plain": [
              "<IPython.core.display.HTML object>"
            ],
            "text/html": [
              "Successfully finished last run (ID:0f0shubq). Initializing new run:<br/>"
            ]
          },
          "metadata": {}
        },
        {
          "output_type": "display_data",
          "data": {
            "text/plain": [
              "<IPython.core.display.HTML object>"
            ],
            "text/html": [
              "Tracking run with wandb version 0.12.11"
            ]
          },
          "metadata": {}
        },
        {
          "output_type": "display_data",
          "data": {
            "text/plain": [
              "<IPython.core.display.HTML object>"
            ],
            "text/html": [
              "Run data is saved locally in <code>/content/inaturalist_12K/train/Amphibia/wandb/run-20220331_191547-0f0shubq</code>"
            ]
          },
          "metadata": {}
        },
        {
          "output_type": "display_data",
          "data": {
            "text/plain": [
              "<IPython.core.display.HTML object>"
            ],
            "text/html": [
              "Syncing run <strong><a href=\"https://wandb.ai/hithesh-sidhesh/Assignment_2/runs/0f0shubq\" target=\"_blank\">Part B</a></strong> to <a href=\"https://wandb.ai/hithesh-sidhesh/Assignment_2\" target=\"_blank\">Weights & Biases</a> (<a href=\"https://wandb.me/run\" target=\"_blank\">docs</a>)<br/>Sweep page:  <a href=\"https://wandb.ai/hithesh-sidhesh/Assignment_2/sweeps/zm216czw\" target=\"_blank\">https://wandb.ai/hithesh-sidhesh/Assignment_2/sweeps/zm216czw</a>"
            ]
          },
          "metadata": {}
        },
        {
          "output_type": "stream",
          "name": "stdout",
          "text": [
            "Not augmenting data\n",
            "Found 9000 images belonging to 10 classes.\n",
            "TRAINING\n",
            "Number of samples 9000\n",
            "Names of classes {'Amphibia': 0, 'Animalia': 1, 'Arachnida': 2, 'Aves': 3, 'Fungi': 4, 'Insecta': 5, 'Mammalia': 6, 'Mollusca': 7, 'Plantae': 8, 'Reptilia': 9}\n",
            "Number of classes 10\n",
            "Number of samples per class 900\n",
            "Found 999 images belonging to 10 classes.\n",
            "VALIDATION\n",
            "Number of samples 999\n",
            "Names of classes {'Amphibia': 0, 'Animalia': 1, 'Arachnida': 2, 'Aves': 3, 'Fungi': 4, 'Insecta': 5, 'Mammalia': 6, 'Mollusca': 7, 'Plantae': 8, 'Reptilia': 9}\n",
            "Number of classes 10\n",
            "Number of samples per class 99\n",
            "Model: \"sequential\"\n",
            "_________________________________________________________________\n",
            " Layer (type)                Output Shape              Param #   \n",
            "=================================================================\n",
            " xception (Functional)       (None, 8, 8, 2048)        20861480  \n",
            "                                                                 \n",
            " global_average_pooling2d (G  (None, 2048)             0         \n",
            " lobalAveragePooling2D)                                          \n",
            "                                                                 \n",
            " dropout (Dropout)           (None, 2048)              0         \n",
            "                                                                 \n",
            " dense (Dense)               (None, 256)               524544    \n",
            "                                                                 \n",
            " dropout_1 (Dropout)         (None, 256)               0         \n",
            "                                                                 \n",
            " dense_1 (Dense)             (None, 10)                2570      \n",
            "                                                                 \n",
            "=================================================================\n",
            "Total params: 21,388,594\n",
            "Trainable params: 527,114\n",
            "Non-trainable params: 20,861,480\n",
            "_________________________________________________________________\n",
            "Epoch 1/10\n",
            "70/70 [==============================] - 127s 2s/step - loss: 1.8678 - accuracy: 0.4026 - val_loss: 1.2246 - val_accuracy: 0.7143\n",
            "Epoch 2/10\n",
            "70/70 [==============================] - 119s 2s/step - loss: 1.1234 - accuracy: 0.6750 - val_loss: 0.8614 - val_accuracy: 0.7478\n",
            "Epoch 3/10\n",
            "70/70 [==============================] - 117s 2s/step - loss: 0.9178 - accuracy: 0.7236 - val_loss: 0.7705 - val_accuracy: 0.7712\n",
            "Epoch 4/10\n",
            "70/70 [==============================] - 110s 2s/step - loss: 0.8432 - accuracy: 0.7386 - val_loss: 0.7349 - val_accuracy: 0.7734\n",
            "Epoch 5/10\n",
            "70/70 [==============================] - 109s 2s/step - loss: 0.7922 - accuracy: 0.7533 - val_loss: 0.7150 - val_accuracy: 0.7812\n",
            "Epoch 6/10\n",
            "70/70 [==============================] - 109s 2s/step - loss: 0.7727 - accuracy: 0.7535 - val_loss: 0.6993 - val_accuracy: 0.7812\n",
            "Epoch 7/10\n",
            "70/70 [==============================] - 110s 2s/step - loss: 0.7328 - accuracy: 0.7666 - val_loss: 0.6949 - val_accuracy: 0.7846\n",
            "Epoch 8/10\n",
            "70/70 [==============================] - 110s 2s/step - loss: 0.7168 - accuracy: 0.7720 - val_loss: 0.6773 - val_accuracy: 0.7857\n",
            "Epoch 9/10\n",
            "70/70 [==============================] - 110s 2s/step - loss: 0.7026 - accuracy: 0.7784 - val_loss: 0.6817 - val_accuracy: 0.7846\n",
            "Epoch 10/10\n",
            "70/70 [==============================] - 109s 2s/step - loss: 0.6840 - accuracy: 0.7807 - val_loss: 0.6542 - val_accuracy: 0.7913\n",
            "{'Training_loss': 1.8678257465362549, 'Validation_loss': 1.2245551347732544, 'Training_accuracy': 0.7806582450866699, 'Validation_accuracy': 0.7912946343421936, '_timestamp': 1648755292, '_runtime': 1140}\n",
            "Found 2000 images belonging to 10 classes.\n",
            "15/15 - 24s - loss: 0.6580 - accuracy: 0.7901 - 24s/epoch - 2s/step\n",
            "Test accuracy : 0.7901041507720947\n"
          ]
        },
        {
          "output_type": "stream",
          "name": "stderr",
          "text": [
            "\u001b[34m\u001b[1mwandb\u001b[0m: Agent Starting Run: oobvjiy8 with config:\n",
            "\u001b[34m\u001b[1mwandb\u001b[0m: \taugment_data: no\n",
            "\u001b[34m\u001b[1mwandb\u001b[0m: \tbatch_size: 256\n",
            "\u001b[34m\u001b[1mwandb\u001b[0m: \tdense_layers: [256]\n",
            "\u001b[34m\u001b[1mwandb\u001b[0m: \tdropout: 0\n",
            "\u001b[34m\u001b[1mwandb\u001b[0m: \tepochs: 10\n",
            "\u001b[34m\u001b[1mwandb\u001b[0m: \tlayers_unfreeze: 30\n",
            "\u001b[34m\u001b[1mwandb\u001b[0m: \tmodel: Xception\n",
            "\u001b[34m\u001b[1mwandb\u001b[0m: \u001b[33mWARNING\u001b[0m Ignored wandb.init() arg project when running a sweep.\n"
          ]
        },
        {
          "output_type": "display_data",
          "data": {
            "text/plain": [
              "<IPython.core.display.HTML object>"
            ],
            "text/html": [
              "Tracking run with wandb version 0.12.11"
            ]
          },
          "metadata": {}
        },
        {
          "output_type": "display_data",
          "data": {
            "text/plain": [
              "<IPython.core.display.HTML object>"
            ],
            "text/html": [
              "Run data is saved locally in <code>/content/inaturalist_12K/train/Amphibia/wandb/run-20220331_193526-oobvjiy8</code>"
            ]
          },
          "metadata": {}
        },
        {
          "output_type": "display_data",
          "data": {
            "text/plain": [
              "<IPython.core.display.HTML object>"
            ],
            "text/html": [
              "Syncing run <strong><a href=\"https://wandb.ai/hithesh-sidhesh/Assignment_2/runs/oobvjiy8\" target=\"_blank\">Part B</a></strong> to <a href=\"https://wandb.ai/hithesh-sidhesh/Assignment_2\" target=\"_blank\">Weights & Biases</a> (<a href=\"https://wandb.me/run\" target=\"_blank\">docs</a>)<br/>Sweep page:  <a href=\"https://wandb.ai/hithesh-sidhesh/Assignment_2/sweeps/zm216czw\" target=\"_blank\">https://wandb.ai/hithesh-sidhesh/Assignment_2/sweeps/zm216czw</a>"
            ]
          },
          "metadata": {}
        },
        {
          "output_type": "display_data",
          "data": {
            "text/plain": [
              "<IPython.core.display.HTML object>"
            ],
            "text/html": [
              "Finishing last run (ID:oobvjiy8) before initializing another..."
            ]
          },
          "metadata": {}
        },
        {
          "output_type": "stream",
          "name": "stdout",
          "text": [
            "\n"
          ]
        },
        {
          "output_type": "display_data",
          "data": {
            "text/plain": [
              "<IPython.core.display.HTML object>"
            ],
            "text/html": [
              "Waiting for W&B process to finish... <strong style=\"color:green\">(success).</strong>"
            ]
          },
          "metadata": {}
        },
        {
          "output_type": "display_data",
          "data": {
            "text/plain": [
              "VBox(children=(Label(value='0.001 MB of 0.001 MB uploaded (0.000 MB deduped)\\r'), FloatProgress(value=1.0, max…"
            ],
            "application/vnd.jupyter.widget-view+json": {
              "version_major": 2,
              "version_minor": 0,
              "model_id": "ecb6503f10c248d7922bf456b19d3f8d"
            }
          },
          "metadata": {}
        },
        {
          "output_type": "display_data",
          "data": {
            "text/plain": [
              "<IPython.core.display.HTML object>"
            ],
            "text/html": [
              "Synced <strong style=\"color:#cdcd00\">Part B</strong>: <a href=\"https://wandb.ai/hithesh-sidhesh/Assignment_2/runs/oobvjiy8\" target=\"_blank\">https://wandb.ai/hithesh-sidhesh/Assignment_2/runs/oobvjiy8</a><br/>Synced 4 W&B file(s), 0 media file(s), 0 artifact file(s) and 0 other file(s)"
            ]
          },
          "metadata": {}
        },
        {
          "output_type": "display_data",
          "data": {
            "text/plain": [
              "<IPython.core.display.HTML object>"
            ],
            "text/html": [
              "Find logs at: <code>./wandb/run-20220331_193526-oobvjiy8/logs</code>"
            ]
          },
          "metadata": {}
        },
        {
          "output_type": "display_data",
          "data": {
            "text/plain": [
              "<IPython.core.display.HTML object>"
            ],
            "text/html": [
              "Successfully finished last run (ID:oobvjiy8). Initializing new run:<br/>"
            ]
          },
          "metadata": {}
        },
        {
          "output_type": "display_data",
          "data": {
            "text/plain": [
              "<IPython.core.display.HTML object>"
            ],
            "text/html": [
              "Tracking run with wandb version 0.12.11"
            ]
          },
          "metadata": {}
        },
        {
          "output_type": "display_data",
          "data": {
            "text/plain": [
              "<IPython.core.display.HTML object>"
            ],
            "text/html": [
              "Run data is saved locally in <code>/content/inaturalist_12K/train/Amphibia/wandb/run-20220331_193536-oobvjiy8</code>"
            ]
          },
          "metadata": {}
        },
        {
          "output_type": "display_data",
          "data": {
            "text/plain": [
              "<IPython.core.display.HTML object>"
            ],
            "text/html": [
              "Syncing run <strong><a href=\"https://wandb.ai/hithesh-sidhesh/Assignment_2/runs/oobvjiy8\" target=\"_blank\">Part B</a></strong> to <a href=\"https://wandb.ai/hithesh-sidhesh/Assignment_2\" target=\"_blank\">Weights & Biases</a> (<a href=\"https://wandb.me/run\" target=\"_blank\">docs</a>)<br/>Sweep page:  <a href=\"https://wandb.ai/hithesh-sidhesh/Assignment_2/sweeps/zm216czw\" target=\"_blank\">https://wandb.ai/hithesh-sidhesh/Assignment_2/sweeps/zm216czw</a>"
            ]
          },
          "metadata": {}
        },
        {
          "output_type": "stream",
          "name": "stdout",
          "text": [
            "Not augmenting data\n",
            "Found 9000 images belonging to 10 classes.\n",
            "TRAINING\n",
            "Number of samples 9000\n",
            "Names of classes {'Amphibia': 0, 'Animalia': 1, 'Arachnida': 2, 'Aves': 3, 'Fungi': 4, 'Insecta': 5, 'Mammalia': 6, 'Mollusca': 7, 'Plantae': 8, 'Reptilia': 9}\n",
            "Number of classes 10\n",
            "Number of samples per class 900\n",
            "Found 999 images belonging to 10 classes.\n",
            "VALIDATION\n",
            "Number of samples 999\n",
            "Names of classes {'Amphibia': 0, 'Animalia': 1, 'Arachnida': 2, 'Aves': 3, 'Fungi': 4, 'Insecta': 5, 'Mammalia': 6, 'Mollusca': 7, 'Plantae': 8, 'Reptilia': 9}\n",
            "Number of classes 10\n",
            "Number of samples per class 99\n",
            "Training last  30  layers\n",
            "Model: \"sequential\"\n",
            "_________________________________________________________________\n",
            " Layer (type)                Output Shape              Param #   \n",
            "=================================================================\n",
            " xception (Functional)       (None, 8, 8, 2048)        20861480  \n",
            "                                                                 \n",
            " global_average_pooling2d (G  (None, 2048)             0         \n",
            " lobalAveragePooling2D)                                          \n",
            "                                                                 \n",
            " dropout (Dropout)           (None, 2048)              0         \n",
            "                                                                 \n",
            " dense (Dense)               (None, 256)               524544    \n",
            "                                                                 \n",
            " dropout_1 (Dropout)         (None, 256)               0         \n",
            "                                                                 \n",
            " dense_1 (Dense)             (None, 10)                2570      \n",
            "                                                                 \n",
            "=================================================================\n",
            "Total params: 21,388,594\n",
            "Trainable params: 9,467,466\n",
            "Non-trainable params: 11,921,128\n",
            "_________________________________________________________________\n",
            "Epoch 1/10\n",
            "35/35 [==============================] - 128s 4s/step - loss: 1.4332 - accuracy: 0.6021 - val_loss: 0.7480 - val_accuracy: 0.7565\n",
            "Epoch 2/10\n",
            "35/35 [==============================] - 118s 3s/step - loss: 0.6382 - accuracy: 0.7932 - val_loss: 0.7057 - val_accuracy: 0.7799\n",
            "Epoch 3/10\n",
            "35/35 [==============================] - 118s 3s/step - loss: 0.4441 - accuracy: 0.8594 - val_loss: 0.7238 - val_accuracy: 0.7773\n",
            "Epoch 4/10\n",
            "35/35 [==============================] - 108s 3s/step - loss: 0.3021 - accuracy: 0.9083 - val_loss: 0.7051 - val_accuracy: 0.7878\n",
            "Epoch 5/10\n",
            "35/35 [==============================] - 100s 3s/step - loss: 0.1947 - accuracy: 0.9484 - val_loss: 0.6856 - val_accuracy: 0.8073\n",
            "Epoch 6/10\n",
            "35/35 [==============================] - 107s 3s/step - loss: 0.1256 - accuracy: 0.9698 - val_loss: 0.7264 - val_accuracy: 0.7982\n",
            "Epoch 7/10\n",
            "35/35 [==============================] - 114s 3s/step - loss: 0.0690 - accuracy: 0.9887 - val_loss: 0.7138 - val_accuracy: 0.8164\n",
            "Epoch 8/10\n",
            "35/35 [==============================] - 100s 3s/step - loss: 0.0470 - accuracy: 0.9928 - val_loss: 0.7033 - val_accuracy: 0.8190\n",
            "Epoch 9/10\n",
            "35/35 [==============================] - 108s 3s/step - loss: 0.0270 - accuracy: 0.9967 - val_loss: 0.7167 - val_accuracy: 0.8216\n",
            "Epoch 10/10\n",
            "35/35 [==============================] - 108s 3s/step - loss: 0.0146 - accuracy: 0.9997 - val_loss: 0.7196 - val_accuracy: 0.8229\n",
            "{'Training_loss': 1.4331600666046143, 'Validation_loss': 0.7480230927467346, 'Training_accuracy': 0.9996569156646729, 'Validation_accuracy': 0.8229166865348816, '_timestamp': 1648756463, '_runtime': 1122}\n",
            "Found 2000 images belonging to 10 classes.\n",
            "7/7 - 22s - loss: 0.7613 - accuracy: 0.8203 - 22s/epoch - 3s/step\n",
            "Test accuracy : 0.8203125\n"
          ]
        },
        {
          "output_type": "stream",
          "name": "stderr",
          "text": [
            "\u001b[34m\u001b[1mwandb\u001b[0m: Sweep Agent: Waiting for job.\n",
            "\u001b[34m\u001b[1mwandb\u001b[0m: Job received.\n",
            "\u001b[34m\u001b[1mwandb\u001b[0m: Agent Starting Run: pbube948 with config:\n",
            "\u001b[34m\u001b[1mwandb\u001b[0m: \taugment_data: no\n",
            "\u001b[34m\u001b[1mwandb\u001b[0m: \tbatch_size: 256\n",
            "\u001b[34m\u001b[1mwandb\u001b[0m: \tdense_layers: [256]\n",
            "\u001b[34m\u001b[1mwandb\u001b[0m: \tdropout: 0.3\n",
            "\u001b[34m\u001b[1mwandb\u001b[0m: \tepochs: 5\n",
            "\u001b[34m\u001b[1mwandb\u001b[0m: \tlayers_unfreeze: 30\n",
            "\u001b[34m\u001b[1mwandb\u001b[0m: \tmodel: Xception\n",
            "\u001b[34m\u001b[1mwandb\u001b[0m: \u001b[33mWARNING\u001b[0m Ignored wandb.init() arg project when running a sweep.\n"
          ]
        },
        {
          "output_type": "display_data",
          "data": {
            "text/plain": [
              "<IPython.core.display.HTML object>"
            ],
            "text/html": [
              "Tracking run with wandb version 0.12.11"
            ]
          },
          "metadata": {}
        },
        {
          "output_type": "display_data",
          "data": {
            "text/plain": [
              "<IPython.core.display.HTML object>"
            ],
            "text/html": [
              "Run data is saved locally in <code>/content/inaturalist_12K/train/Amphibia/wandb/run-20220331_195513-pbube948</code>"
            ]
          },
          "metadata": {}
        },
        {
          "output_type": "display_data",
          "data": {
            "text/plain": [
              "<IPython.core.display.HTML object>"
            ],
            "text/html": [
              "Syncing run <strong><a href=\"https://wandb.ai/hithesh-sidhesh/Assignment_2/runs/pbube948\" target=\"_blank\">Part B</a></strong> to <a href=\"https://wandb.ai/hithesh-sidhesh/Assignment_2\" target=\"_blank\">Weights & Biases</a> (<a href=\"https://wandb.me/run\" target=\"_blank\">docs</a>)<br/>Sweep page:  <a href=\"https://wandb.ai/hithesh-sidhesh/Assignment_2/sweeps/zm216czw\" target=\"_blank\">https://wandb.ai/hithesh-sidhesh/Assignment_2/sweeps/zm216czw</a>"
            ]
          },
          "metadata": {}
        },
        {
          "output_type": "display_data",
          "data": {
            "text/plain": [
              "<IPython.core.display.HTML object>"
            ],
            "text/html": [
              "Finishing last run (ID:pbube948) before initializing another..."
            ]
          },
          "metadata": {}
        },
        {
          "output_type": "stream",
          "name": "stdout",
          "text": [
            "\n"
          ]
        },
        {
          "output_type": "display_data",
          "data": {
            "text/plain": [
              "<IPython.core.display.HTML object>"
            ],
            "text/html": [
              "Waiting for W&B process to finish... <strong style=\"color:green\">(success).</strong>"
            ]
          },
          "metadata": {}
        },
        {
          "output_type": "display_data",
          "data": {
            "text/plain": [
              "VBox(children=(Label(value='0.001 MB of 0.001 MB uploaded (0.000 MB deduped)\\r'), FloatProgress(value=1.0, max…"
            ],
            "application/vnd.jupyter.widget-view+json": {
              "version_major": 2,
              "version_minor": 0,
              "model_id": "7ec99793fea644808ff03618f1c69ccc"
            }
          },
          "metadata": {}
        },
        {
          "output_type": "display_data",
          "data": {
            "text/plain": [
              "<IPython.core.display.HTML object>"
            ],
            "text/html": [
              "Synced <strong style=\"color:#cdcd00\">Part B</strong>: <a href=\"https://wandb.ai/hithesh-sidhesh/Assignment_2/runs/pbube948\" target=\"_blank\">https://wandb.ai/hithesh-sidhesh/Assignment_2/runs/pbube948</a><br/>Synced 4 W&B file(s), 0 media file(s), 0 artifact file(s) and 0 other file(s)"
            ]
          },
          "metadata": {}
        },
        {
          "output_type": "display_data",
          "data": {
            "text/plain": [
              "<IPython.core.display.HTML object>"
            ],
            "text/html": [
              "Find logs at: <code>./wandb/run-20220331_195513-pbube948/logs</code>"
            ]
          },
          "metadata": {}
        },
        {
          "output_type": "display_data",
          "data": {
            "text/plain": [
              "<IPython.core.display.HTML object>"
            ],
            "text/html": [
              "Successfully finished last run (ID:pbube948). Initializing new run:<br/>"
            ]
          },
          "metadata": {}
        },
        {
          "output_type": "display_data",
          "data": {
            "text/plain": [
              "<IPython.core.display.HTML object>"
            ],
            "text/html": [
              "Tracking run with wandb version 0.12.11"
            ]
          },
          "metadata": {}
        },
        {
          "output_type": "display_data",
          "data": {
            "text/plain": [
              "<IPython.core.display.HTML object>"
            ],
            "text/html": [
              "Run data is saved locally in <code>/content/inaturalist_12K/train/Amphibia/wandb/run-20220331_195522-pbube948</code>"
            ]
          },
          "metadata": {}
        },
        {
          "output_type": "display_data",
          "data": {
            "text/plain": [
              "<IPython.core.display.HTML object>"
            ],
            "text/html": [
              "Syncing run <strong><a href=\"https://wandb.ai/hithesh-sidhesh/Assignment_2/runs/pbube948\" target=\"_blank\">Part B</a></strong> to <a href=\"https://wandb.ai/hithesh-sidhesh/Assignment_2\" target=\"_blank\">Weights & Biases</a> (<a href=\"https://wandb.me/run\" target=\"_blank\">docs</a>)<br/>Sweep page:  <a href=\"https://wandb.ai/hithesh-sidhesh/Assignment_2/sweeps/zm216czw\" target=\"_blank\">https://wandb.ai/hithesh-sidhesh/Assignment_2/sweeps/zm216czw</a>"
            ]
          },
          "metadata": {}
        },
        {
          "output_type": "stream",
          "name": "stdout",
          "text": [
            "Not augmenting data\n",
            "Found 9000 images belonging to 10 classes.\n",
            "TRAINING\n",
            "Number of samples 9000\n",
            "Names of classes {'Amphibia': 0, 'Animalia': 1, 'Arachnida': 2, 'Aves': 3, 'Fungi': 4, 'Insecta': 5, 'Mammalia': 6, 'Mollusca': 7, 'Plantae': 8, 'Reptilia': 9}\n",
            "Number of classes 10\n",
            "Number of samples per class 900\n",
            "Found 999 images belonging to 10 classes.\n",
            "VALIDATION\n",
            "Number of samples 999\n",
            "Names of classes {'Amphibia': 0, 'Animalia': 1, 'Arachnida': 2, 'Aves': 3, 'Fungi': 4, 'Insecta': 5, 'Mammalia': 6, 'Mollusca': 7, 'Plantae': 8, 'Reptilia': 9}\n",
            "Number of classes 10\n",
            "Number of samples per class 99\n",
            "Training last  30  layers\n",
            "Model: \"sequential\"\n",
            "_________________________________________________________________\n",
            " Layer (type)                Output Shape              Param #   \n",
            "=================================================================\n",
            " xception (Functional)       (None, 8, 8, 2048)        20861480  \n",
            "                                                                 \n",
            " global_average_pooling2d (G  (None, 2048)             0         \n",
            " lobalAveragePooling2D)                                          \n",
            "                                                                 \n",
            " dropout (Dropout)           (None, 2048)              0         \n",
            "                                                                 \n",
            " dense (Dense)               (None, 256)               524544    \n",
            "                                                                 \n",
            " dropout_1 (Dropout)         (None, 256)               0         \n",
            "                                                                 \n",
            " dense_1 (Dense)             (None, 10)                2570      \n",
            "                                                                 \n",
            "=================================================================\n",
            "Total params: 21,388,594\n",
            "Trainable params: 9,467,466\n",
            "Non-trainable params: 11,921,128\n",
            "_________________________________________________________________\n",
            "Epoch 1/5\n",
            "35/35 [==============================] - 129s 4s/step - loss: 1.6630 - accuracy: 0.4997 - val_loss: 0.7924 - val_accuracy: 0.7396\n",
            "Epoch 2/5\n",
            "35/35 [==============================] - 118s 3s/step - loss: 0.7750 - accuracy: 0.7522 - val_loss: 0.7327 - val_accuracy: 0.7747\n",
            "Epoch 3/5\n",
            "35/35 [==============================] - 111s 3s/step - loss: 0.5662 - accuracy: 0.8179 - val_loss: 0.7581 - val_accuracy: 0.7734\n",
            "Epoch 4/5\n",
            "35/35 [==============================] - 107s 3s/step - loss: 0.4336 - accuracy: 0.8614 - val_loss: 0.7223 - val_accuracy: 0.8047\n",
            "Epoch 5/5\n",
            "35/35 [==============================] - 108s 3s/step - loss: 0.3215 - accuracy: 0.8973 - val_loss: 0.7722 - val_accuracy: 0.8034\n",
            "{'Training_loss': 1.6630120277404785, 'Validation_loss': 0.7923741936683655, 'Training_accuracy': 0.8973010182380676, 'Validation_accuracy': 0.8046875, '_timestamp': 1648757113, '_runtime': 585}\n",
            "Found 2000 images belonging to 10 classes.\n",
            "7/7 - 22s - loss: 0.7481 - accuracy: 0.8041 - 22s/epoch - 3s/step\n",
            "Test accuracy : 0.8041294813156128\n"
          ]
        },
        {
          "output_type": "stream",
          "name": "stderr",
          "text": [
            "\u001b[34m\u001b[1mwandb\u001b[0m: Sweep Agent: Waiting for job.\n",
            "\u001b[34m\u001b[1mwandb\u001b[0m: Job received.\n",
            "\u001b[34m\u001b[1mwandb\u001b[0m: Agent Starting Run: n1zkgm1k with config:\n",
            "\u001b[34m\u001b[1mwandb\u001b[0m: \taugment_data: yes\n",
            "\u001b[34m\u001b[1mwandb\u001b[0m: \tbatch_size: 256\n",
            "\u001b[34m\u001b[1mwandb\u001b[0m: \tdense_layers: [256]\n",
            "\u001b[34m\u001b[1mwandb\u001b[0m: \tdropout: 0.3\n",
            "\u001b[34m\u001b[1mwandb\u001b[0m: \tepochs: 10\n",
            "\u001b[34m\u001b[1mwandb\u001b[0m: \tlayers_unfreeze: 30\n",
            "\u001b[34m\u001b[1mwandb\u001b[0m: \tmodel: Xception\n",
            "\u001b[34m\u001b[1mwandb\u001b[0m: \u001b[33mWARNING\u001b[0m Ignored wandb.init() arg project when running a sweep.\n"
          ]
        },
        {
          "output_type": "display_data",
          "data": {
            "text/plain": [
              "<IPython.core.display.HTML object>"
            ],
            "text/html": [
              "Tracking run with wandb version 0.12.11"
            ]
          },
          "metadata": {}
        },
        {
          "output_type": "display_data",
          "data": {
            "text/plain": [
              "<IPython.core.display.HTML object>"
            ],
            "text/html": [
              "Run data is saved locally in <code>/content/inaturalist_12K/train/Amphibia/wandb/run-20220331_200553-n1zkgm1k</code>"
            ]
          },
          "metadata": {}
        },
        {
          "output_type": "display_data",
          "data": {
            "text/plain": [
              "<IPython.core.display.HTML object>"
            ],
            "text/html": [
              "Syncing run <strong><a href=\"https://wandb.ai/hithesh-sidhesh/Assignment_2/runs/n1zkgm1k\" target=\"_blank\">Part B</a></strong> to <a href=\"https://wandb.ai/hithesh-sidhesh/Assignment_2\" target=\"_blank\">Weights & Biases</a> (<a href=\"https://wandb.me/run\" target=\"_blank\">docs</a>)<br/>Sweep page:  <a href=\"https://wandb.ai/hithesh-sidhesh/Assignment_2/sweeps/zm216czw\" target=\"_blank\">https://wandb.ai/hithesh-sidhesh/Assignment_2/sweeps/zm216czw</a>"
            ]
          },
          "metadata": {}
        },
        {
          "output_type": "display_data",
          "data": {
            "text/plain": [
              "<IPython.core.display.HTML object>"
            ],
            "text/html": [
              "Finishing last run (ID:n1zkgm1k) before initializing another..."
            ]
          },
          "metadata": {}
        },
        {
          "output_type": "stream",
          "name": "stdout",
          "text": [
            "\n"
          ]
        },
        {
          "output_type": "display_data",
          "data": {
            "text/plain": [
              "<IPython.core.display.HTML object>"
            ],
            "text/html": [
              "Waiting for W&B process to finish... <strong style=\"color:green\">(success).</strong>"
            ]
          },
          "metadata": {}
        },
        {
          "output_type": "display_data",
          "data": {
            "text/plain": [
              "VBox(children=(Label(value='0.001 MB of 0.001 MB uploaded (0.000 MB deduped)\\r'), FloatProgress(value=1.0, max…"
            ],
            "application/vnd.jupyter.widget-view+json": {
              "version_major": 2,
              "version_minor": 0,
              "model_id": "e19c71bbae0c4e7aa36fc4baf96ba17e"
            }
          },
          "metadata": {}
        },
        {
          "output_type": "display_data",
          "data": {
            "text/plain": [
              "<IPython.core.display.HTML object>"
            ],
            "text/html": [
              "Synced <strong style=\"color:#cdcd00\">Part B</strong>: <a href=\"https://wandb.ai/hithesh-sidhesh/Assignment_2/runs/n1zkgm1k\" target=\"_blank\">https://wandb.ai/hithesh-sidhesh/Assignment_2/runs/n1zkgm1k</a><br/>Synced 4 W&B file(s), 0 media file(s), 0 artifact file(s) and 0 other file(s)"
            ]
          },
          "metadata": {}
        },
        {
          "output_type": "display_data",
          "data": {
            "text/plain": [
              "<IPython.core.display.HTML object>"
            ],
            "text/html": [
              "Find logs at: <code>./wandb/run-20220331_200553-n1zkgm1k/logs</code>"
            ]
          },
          "metadata": {}
        },
        {
          "output_type": "display_data",
          "data": {
            "text/plain": [
              "<IPython.core.display.HTML object>"
            ],
            "text/html": [
              "Successfully finished last run (ID:n1zkgm1k). Initializing new run:<br/>"
            ]
          },
          "metadata": {}
        },
        {
          "output_type": "display_data",
          "data": {
            "text/plain": [
              "<IPython.core.display.HTML object>"
            ],
            "text/html": [
              "Tracking run with wandb version 0.12.11"
            ]
          },
          "metadata": {}
        },
        {
          "output_type": "display_data",
          "data": {
            "text/plain": [
              "<IPython.core.display.HTML object>"
            ],
            "text/html": [
              "Run data is saved locally in <code>/content/inaturalist_12K/train/Amphibia/wandb/run-20220331_200602-n1zkgm1k</code>"
            ]
          },
          "metadata": {}
        },
        {
          "output_type": "display_data",
          "data": {
            "text/plain": [
              "<IPython.core.display.HTML object>"
            ],
            "text/html": [
              "Syncing run <strong><a href=\"https://wandb.ai/hithesh-sidhesh/Assignment_2/runs/n1zkgm1k\" target=\"_blank\">Part B</a></strong> to <a href=\"https://wandb.ai/hithesh-sidhesh/Assignment_2\" target=\"_blank\">Weights & Biases</a> (<a href=\"https://wandb.me/run\" target=\"_blank\">docs</a>)<br/>Sweep page:  <a href=\"https://wandb.ai/hithesh-sidhesh/Assignment_2/sweeps/zm216czw\" target=\"_blank\">https://wandb.ai/hithesh-sidhesh/Assignment_2/sweeps/zm216czw</a>"
            ]
          },
          "metadata": {}
        },
        {
          "output_type": "stream",
          "name": "stdout",
          "text": [
            "Augmenting data\n",
            "Found 9000 images belonging to 10 classes.\n",
            "TRAINING\n",
            "Number of samples 9000\n",
            "Names of classes {'Amphibia': 0, 'Animalia': 1, 'Arachnida': 2, 'Aves': 3, 'Fungi': 4, 'Insecta': 5, 'Mammalia': 6, 'Mollusca': 7, 'Plantae': 8, 'Reptilia': 9}\n",
            "Number of classes 10\n",
            "Number of samples per class 900\n",
            "Found 999 images belonging to 10 classes.\n",
            "VALIDATION\n",
            "Number of samples 999\n",
            "Names of classes {'Amphibia': 0, 'Animalia': 1, 'Arachnida': 2, 'Aves': 3, 'Fungi': 4, 'Insecta': 5, 'Mammalia': 6, 'Mollusca': 7, 'Plantae': 8, 'Reptilia': 9}\n",
            "Number of classes 10\n",
            "Number of samples per class 99\n",
            "Training last  30  layers\n",
            "Model: \"sequential\"\n",
            "_________________________________________________________________\n",
            " Layer (type)                Output Shape              Param #   \n",
            "=================================================================\n",
            " xception (Functional)       (None, 8, 8, 2048)        20861480  \n",
            "                                                                 \n",
            " global_average_pooling2d (G  (None, 2048)             0         \n",
            " lobalAveragePooling2D)                                          \n",
            "                                                                 \n",
            " dropout (Dropout)           (None, 2048)              0         \n",
            "                                                                 \n",
            " dense (Dense)               (None, 256)               524544    \n",
            "                                                                 \n",
            " dropout_1 (Dropout)         (None, 256)               0         \n",
            "                                                                 \n",
            " dense_1 (Dense)             (None, 10)                2570      \n",
            "                                                                 \n",
            "=================================================================\n",
            "Total params: 21,388,594\n",
            "Trainable params: 9,467,466\n",
            "Non-trainable params: 11,921,128\n",
            "_________________________________________________________________\n",
            "Epoch 1/10\n",
            "35/35 [==============================] - 259s 7s/step - loss: 1.8689 - accuracy: 0.3977 - val_loss: 1.1043 - val_accuracy: 0.6628\n",
            "Epoch 2/10\n",
            "35/35 [==============================] - 243s 7s/step - loss: 1.0525 - accuracy: 0.6594 - val_loss: 0.9149 - val_accuracy: 0.6914\n",
            "Epoch 3/10\n",
            "35/35 [==============================] - 230s 7s/step - loss: 0.8804 - accuracy: 0.7039 - val_loss: 0.9487 - val_accuracy: 0.6797\n",
            "Epoch 4/10\n",
            "35/35 [==============================] - 223s 7s/step - loss: 0.8123 - accuracy: 0.7276 - val_loss: 0.8753 - val_accuracy: 0.7344\n",
            "Epoch 5/10\n",
            "35/35 [==============================] - 224s 7s/step - loss: 0.7405 - accuracy: 0.7506 - val_loss: 0.8124 - val_accuracy: 0.7474\n",
            "Epoch 6/10\n",
            "35/35 [==============================] - 223s 7s/step - loss: 0.6957 - accuracy: 0.7698 - val_loss: 0.8136 - val_accuracy: 0.7331\n",
            "Epoch 7/10\n",
            "35/35 [==============================] - 224s 7s/step - loss: 0.6436 - accuracy: 0.7810 - val_loss: 0.8167 - val_accuracy: 0.7409\n",
            "Epoch 8/10\n",
            "35/35 [==============================] - 225s 7s/step - loss: 0.6238 - accuracy: 0.7915 - val_loss: 0.8012 - val_accuracy: 0.7682\n",
            "Epoch 9/10\n",
            "35/35 [==============================] - 226s 7s/step - loss: 0.5786 - accuracy: 0.8012 - val_loss: 0.7743 - val_accuracy: 0.7474\n",
            "Epoch 10/10\n",
            "35/35 [==============================] - 224s 7s/step - loss: 0.5591 - accuracy: 0.8151 - val_loss: 0.7244 - val_accuracy: 0.7591\n",
            "{'Training_loss': 1.8689162731170654, 'Validation_loss': 1.1043130159378052, 'Training_accuracy': 0.8150731921195984, 'Validation_accuracy': 0.7682291865348816, '_timestamp': 1648759484, '_runtime': 2317}\n",
            "Found 2000 images belonging to 10 classes.\n",
            "7/7 - 23s - loss: 0.6387 - accuracy: 0.8086 - 23s/epoch - 3s/step\n",
            "Test accuracy : 0.80859375\n"
          ]
        },
        {
          "output_type": "stream",
          "name": "stderr",
          "text": [
            "\u001b[34m\u001b[1mwandb\u001b[0m: Agent Starting Run: px73i34g with config:\n",
            "\u001b[34m\u001b[1mwandb\u001b[0m: \taugment_data: no\n",
            "\u001b[34m\u001b[1mwandb\u001b[0m: \tbatch_size: 64\n",
            "\u001b[34m\u001b[1mwandb\u001b[0m: \tdense_layers: [128]\n",
            "\u001b[34m\u001b[1mwandb\u001b[0m: \tdropout: 0.3\n",
            "\u001b[34m\u001b[1mwandb\u001b[0m: \tepochs: 5\n",
            "\u001b[34m\u001b[1mwandb\u001b[0m: \tlayers_unfreeze: 30\n",
            "\u001b[34m\u001b[1mwandb\u001b[0m: \tmodel: Xception\n",
            "\u001b[34m\u001b[1mwandb\u001b[0m: \u001b[33mWARNING\u001b[0m Ignored wandb.init() arg project when running a sweep.\n"
          ]
        },
        {
          "output_type": "display_data",
          "data": {
            "text/plain": [
              "<IPython.core.display.HTML object>"
            ],
            "text/html": [
              "Tracking run with wandb version 0.12.11"
            ]
          },
          "metadata": {}
        },
        {
          "output_type": "display_data",
          "data": {
            "text/plain": [
              "<IPython.core.display.HTML object>"
            ],
            "text/html": [
              "Run data is saved locally in <code>/content/inaturalist_12K/train/Amphibia/wandb/run-20220331_204517-px73i34g</code>"
            ]
          },
          "metadata": {}
        },
        {
          "output_type": "display_data",
          "data": {
            "text/plain": [
              "<IPython.core.display.HTML object>"
            ],
            "text/html": [
              "Syncing run <strong><a href=\"https://wandb.ai/hithesh-sidhesh/Assignment_2/runs/px73i34g\" target=\"_blank\">Part B</a></strong> to <a href=\"https://wandb.ai/hithesh-sidhesh/Assignment_2\" target=\"_blank\">Weights & Biases</a> (<a href=\"https://wandb.me/run\" target=\"_blank\">docs</a>)<br/>Sweep page:  <a href=\"https://wandb.ai/hithesh-sidhesh/Assignment_2/sweeps/zm216czw\" target=\"_blank\">https://wandb.ai/hithesh-sidhesh/Assignment_2/sweeps/zm216czw</a>"
            ]
          },
          "metadata": {}
        },
        {
          "output_type": "display_data",
          "data": {
            "text/plain": [
              "<IPython.core.display.HTML object>"
            ],
            "text/html": [
              "Finishing last run (ID:px73i34g) before initializing another..."
            ]
          },
          "metadata": {}
        },
        {
          "output_type": "stream",
          "name": "stdout",
          "text": [
            "\n"
          ]
        },
        {
          "output_type": "display_data",
          "data": {
            "text/plain": [
              "<IPython.core.display.HTML object>"
            ],
            "text/html": [
              "Waiting for W&B process to finish... <strong style=\"color:green\">(success).</strong>"
            ]
          },
          "metadata": {}
        },
        {
          "output_type": "display_data",
          "data": {
            "text/plain": [
              "VBox(children=(Label(value='0.001 MB of 0.001 MB uploaded (0.000 MB deduped)\\r'), FloatProgress(value=1.0, max…"
            ],
            "application/vnd.jupyter.widget-view+json": {
              "version_major": 2,
              "version_minor": 0,
              "model_id": "ccbc0a395fe845cf96d26edb4796557d"
            }
          },
          "metadata": {}
        },
        {
          "output_type": "display_data",
          "data": {
            "text/plain": [
              "<IPython.core.display.HTML object>"
            ],
            "text/html": [
              "Synced <strong style=\"color:#cdcd00\">Part B</strong>: <a href=\"https://wandb.ai/hithesh-sidhesh/Assignment_2/runs/px73i34g\" target=\"_blank\">https://wandb.ai/hithesh-sidhesh/Assignment_2/runs/px73i34g</a><br/>Synced 4 W&B file(s), 0 media file(s), 0 artifact file(s) and 0 other file(s)"
            ]
          },
          "metadata": {}
        },
        {
          "output_type": "display_data",
          "data": {
            "text/plain": [
              "<IPython.core.display.HTML object>"
            ],
            "text/html": [
              "Find logs at: <code>./wandb/run-20220331_204517-px73i34g/logs</code>"
            ]
          },
          "metadata": {}
        },
        {
          "output_type": "display_data",
          "data": {
            "text/plain": [
              "<IPython.core.display.HTML object>"
            ],
            "text/html": [
              "Successfully finished last run (ID:px73i34g). Initializing new run:<br/>"
            ]
          },
          "metadata": {}
        },
        {
          "output_type": "display_data",
          "data": {
            "text/plain": [
              "<IPython.core.display.HTML object>"
            ],
            "text/html": [
              "Tracking run with wandb version 0.12.11"
            ]
          },
          "metadata": {}
        },
        {
          "output_type": "display_data",
          "data": {
            "text/plain": [
              "<IPython.core.display.HTML object>"
            ],
            "text/html": [
              "Run data is saved locally in <code>/content/inaturalist_12K/train/Amphibia/wandb/run-20220331_204526-px73i34g</code>"
            ]
          },
          "metadata": {}
        },
        {
          "output_type": "display_data",
          "data": {
            "text/plain": [
              "<IPython.core.display.HTML object>"
            ],
            "text/html": [
              "Syncing run <strong><a href=\"https://wandb.ai/hithesh-sidhesh/Assignment_2/runs/px73i34g\" target=\"_blank\">Part B</a></strong> to <a href=\"https://wandb.ai/hithesh-sidhesh/Assignment_2\" target=\"_blank\">Weights & Biases</a> (<a href=\"https://wandb.me/run\" target=\"_blank\">docs</a>)<br/>Sweep page:  <a href=\"https://wandb.ai/hithesh-sidhesh/Assignment_2/sweeps/zm216czw\" target=\"_blank\">https://wandb.ai/hithesh-sidhesh/Assignment_2/sweeps/zm216czw</a>"
            ]
          },
          "metadata": {}
        },
        {
          "output_type": "stream",
          "name": "stdout",
          "text": [
            "Not augmenting data\n",
            "Found 9000 images belonging to 10 classes.\n",
            "TRAINING\n",
            "Number of samples 9000\n",
            "Names of classes {'Amphibia': 0, 'Animalia': 1, 'Arachnida': 2, 'Aves': 3, 'Fungi': 4, 'Insecta': 5, 'Mammalia': 6, 'Mollusca': 7, 'Plantae': 8, 'Reptilia': 9}\n",
            "Number of classes 10\n",
            "Number of samples per class 900\n",
            "Found 999 images belonging to 10 classes.\n",
            "VALIDATION\n",
            "Number of samples 999\n",
            "Names of classes {'Amphibia': 0, 'Animalia': 1, 'Arachnida': 2, 'Aves': 3, 'Fungi': 4, 'Insecta': 5, 'Mammalia': 6, 'Mollusca': 7, 'Plantae': 8, 'Reptilia': 9}\n",
            "Number of classes 10\n",
            "Number of samples per class 99\n",
            "Training last  30  layers\n",
            "Model: \"sequential\"\n",
            "_________________________________________________________________\n",
            " Layer (type)                Output Shape              Param #   \n",
            "=================================================================\n",
            " xception (Functional)       (None, 8, 8, 2048)        20861480  \n",
            "                                                                 \n",
            " global_average_pooling2d (G  (None, 2048)             0         \n",
            " lobalAveragePooling2D)                                          \n",
            "                                                                 \n",
            " dropout (Dropout)           (None, 2048)              0         \n",
            "                                                                 \n",
            " dense (Dense)               (None, 128)               262272    \n",
            "                                                                 \n",
            " dropout_1 (Dropout)         (None, 128)               0         \n",
            "                                                                 \n",
            " dense_1 (Dense)             (None, 10)                1290      \n",
            "                                                                 \n",
            "=================================================================\n",
            "Total params: 21,125,042\n",
            "Trainable params: 9,203,914\n",
            "Non-trainable params: 11,921,128\n",
            "_________________________________________________________________\n",
            "Epoch 1/5\n",
            "140/140 [==============================] - 129s 892ms/step - loss: 1.2741 - accuracy: 0.5990 - val_loss: 0.7375 - val_accuracy: 0.7812\n",
            "Epoch 2/5\n",
            "140/140 [==============================] - 122s 878ms/step - loss: 0.6131 - accuracy: 0.8024 - val_loss: 0.6519 - val_accuracy: 0.8042\n",
            "Epoch 3/5\n",
            "140/140 [==============================] - 120s 865ms/step - loss: 0.3915 - accuracy: 0.8752 - val_loss: 0.6272 - val_accuracy: 0.8125\n",
            "Epoch 4/5\n",
            "140/140 [==============================] - 118s 848ms/step - loss: 0.2386 - accuracy: 0.9276 - val_loss: 0.6069 - val_accuracy: 0.8198\n",
            "Epoch 5/5\n",
            "140/140 [==============================] - 112s 805ms/step - loss: 0.1395 - accuracy: 0.9603 - val_loss: 0.6988 - val_accuracy: 0.8177\n",
            "{'Training_loss': 1.2741323709487915, 'Validation_loss': 0.7375214099884033, 'Training_accuracy': 0.960273027420044, 'Validation_accuracy': 0.8197916746139526, '_timestamp': 1648760144, '_runtime': 613}\n",
            "Found 2000 images belonging to 10 classes.\n",
            "31/31 - 25s - loss: 0.6968 - accuracy: 0.8135 - 25s/epoch - 791ms/step\n",
            "Test accuracy : 0.8135080933570862\n"
          ]
        },
        {
          "output_type": "stream",
          "name": "stderr",
          "text": [
            "\u001b[34m\u001b[1mwandb\u001b[0m: Agent Starting Run: 1df2ytj8 with config:\n",
            "\u001b[34m\u001b[1mwandb\u001b[0m: \taugment_data: no\n",
            "\u001b[34m\u001b[1mwandb\u001b[0m: \tbatch_size: 128\n",
            "\u001b[34m\u001b[1mwandb\u001b[0m: \tdense_layers: [64]\n",
            "\u001b[34m\u001b[1mwandb\u001b[0m: \tdropout: 0\n",
            "\u001b[34m\u001b[1mwandb\u001b[0m: \tepochs: 5\n",
            "\u001b[34m\u001b[1mwandb\u001b[0m: \tlayers_unfreeze: 20\n",
            "\u001b[34m\u001b[1mwandb\u001b[0m: \tmodel: Xception\n",
            "\u001b[34m\u001b[1mwandb\u001b[0m: \u001b[33mWARNING\u001b[0m Ignored wandb.init() arg project when running a sweep.\n"
          ]
        },
        {
          "output_type": "display_data",
          "data": {
            "text/plain": [
              "<IPython.core.display.HTML object>"
            ],
            "text/html": [
              "Tracking run with wandb version 0.12.11"
            ]
          },
          "metadata": {}
        },
        {
          "output_type": "display_data",
          "data": {
            "text/plain": [
              "<IPython.core.display.HTML object>"
            ],
            "text/html": [
              "Run data is saved locally in <code>/content/inaturalist_12K/train/Amphibia/wandb/run-20220331_205635-1df2ytj8</code>"
            ]
          },
          "metadata": {}
        },
        {
          "output_type": "display_data",
          "data": {
            "text/plain": [
              "<IPython.core.display.HTML object>"
            ],
            "text/html": [
              "Syncing run <strong><a href=\"https://wandb.ai/hithesh-sidhesh/Assignment_2/runs/1df2ytj8\" target=\"_blank\">Part B</a></strong> to <a href=\"https://wandb.ai/hithesh-sidhesh/Assignment_2\" target=\"_blank\">Weights & Biases</a> (<a href=\"https://wandb.me/run\" target=\"_blank\">docs</a>)<br/>Sweep page:  <a href=\"https://wandb.ai/hithesh-sidhesh/Assignment_2/sweeps/zm216czw\" target=\"_blank\">https://wandb.ai/hithesh-sidhesh/Assignment_2/sweeps/zm216czw</a>"
            ]
          },
          "metadata": {}
        },
        {
          "output_type": "display_data",
          "data": {
            "text/plain": [
              "<IPython.core.display.HTML object>"
            ],
            "text/html": [
              "Finishing last run (ID:1df2ytj8) before initializing another..."
            ]
          },
          "metadata": {}
        },
        {
          "output_type": "stream",
          "name": "stdout",
          "text": [
            "\n"
          ]
        },
        {
          "output_type": "display_data",
          "data": {
            "text/plain": [
              "<IPython.core.display.HTML object>"
            ],
            "text/html": [
              "Waiting for W&B process to finish... <strong style=\"color:green\">(success).</strong>"
            ]
          },
          "metadata": {}
        },
        {
          "output_type": "display_data",
          "data": {
            "text/plain": [
              "VBox(children=(Label(value='0.001 MB of 0.001 MB uploaded (0.000 MB deduped)\\r'), FloatProgress(value=1.0, max…"
            ],
            "application/vnd.jupyter.widget-view+json": {
              "version_major": 2,
              "version_minor": 0,
              "model_id": "725d90919a7c4498bda168acd1e78ca1"
            }
          },
          "metadata": {}
        },
        {
          "output_type": "display_data",
          "data": {
            "text/plain": [
              "<IPython.core.display.HTML object>"
            ],
            "text/html": [
              "Synced <strong style=\"color:#cdcd00\">Part B</strong>: <a href=\"https://wandb.ai/hithesh-sidhesh/Assignment_2/runs/1df2ytj8\" target=\"_blank\">https://wandb.ai/hithesh-sidhesh/Assignment_2/runs/1df2ytj8</a><br/>Synced 4 W&B file(s), 0 media file(s), 0 artifact file(s) and 0 other file(s)"
            ]
          },
          "metadata": {}
        },
        {
          "output_type": "display_data",
          "data": {
            "text/plain": [
              "<IPython.core.display.HTML object>"
            ],
            "text/html": [
              "Find logs at: <code>./wandb/run-20220331_205635-1df2ytj8/logs</code>"
            ]
          },
          "metadata": {}
        },
        {
          "output_type": "display_data",
          "data": {
            "text/plain": [
              "<IPython.core.display.HTML object>"
            ],
            "text/html": [
              "Successfully finished last run (ID:1df2ytj8). Initializing new run:<br/>"
            ]
          },
          "metadata": {}
        },
        {
          "output_type": "display_data",
          "data": {
            "text/plain": [
              "<IPython.core.display.HTML object>"
            ],
            "text/html": [
              "Tracking run with wandb version 0.12.11"
            ]
          },
          "metadata": {}
        },
        {
          "output_type": "display_data",
          "data": {
            "text/plain": [
              "<IPython.core.display.HTML object>"
            ],
            "text/html": [
              "Run data is saved locally in <code>/content/inaturalist_12K/train/Amphibia/wandb/run-20220331_205643-1df2ytj8</code>"
            ]
          },
          "metadata": {}
        },
        {
          "output_type": "display_data",
          "data": {
            "text/plain": [
              "<IPython.core.display.HTML object>"
            ],
            "text/html": [
              "Syncing run <strong><a href=\"https://wandb.ai/hithesh-sidhesh/Assignment_2/runs/1df2ytj8\" target=\"_blank\">Part B</a></strong> to <a href=\"https://wandb.ai/hithesh-sidhesh/Assignment_2\" target=\"_blank\">Weights & Biases</a> (<a href=\"https://wandb.me/run\" target=\"_blank\">docs</a>)<br/>Sweep page:  <a href=\"https://wandb.ai/hithesh-sidhesh/Assignment_2/sweeps/zm216czw\" target=\"_blank\">https://wandb.ai/hithesh-sidhesh/Assignment_2/sweeps/zm216czw</a>"
            ]
          },
          "metadata": {}
        },
        {
          "output_type": "stream",
          "name": "stdout",
          "text": [
            "Not augmenting data\n",
            "Found 9000 images belonging to 10 classes.\n",
            "TRAINING\n",
            "Number of samples 9000\n",
            "Names of classes {'Amphibia': 0, 'Animalia': 1, 'Arachnida': 2, 'Aves': 3, 'Fungi': 4, 'Insecta': 5, 'Mammalia': 6, 'Mollusca': 7, 'Plantae': 8, 'Reptilia': 9}\n",
            "Number of classes 10\n",
            "Number of samples per class 900\n",
            "Found 999 images belonging to 10 classes.\n",
            "VALIDATION\n",
            "Number of samples 999\n",
            "Names of classes {'Amphibia': 0, 'Animalia': 1, 'Arachnida': 2, 'Aves': 3, 'Fungi': 4, 'Insecta': 5, 'Mammalia': 6, 'Mollusca': 7, 'Plantae': 8, 'Reptilia': 9}\n",
            "Number of classes 10\n",
            "Number of samples per class 99\n",
            "Training last  20  layers\n",
            "Model: \"sequential\"\n",
            "_________________________________________________________________\n",
            " Layer (type)                Output Shape              Param #   \n",
            "=================================================================\n",
            " xception (Functional)       (None, 8, 8, 2048)        20861480  \n",
            "                                                                 \n",
            " global_average_pooling2d (G  (None, 2048)             0         \n",
            " lobalAveragePooling2D)                                          \n",
            "                                                                 \n",
            " dropout (Dropout)           (None, 2048)              0         \n",
            "                                                                 \n",
            " dense (Dense)               (None, 64)                131136    \n",
            "                                                                 \n",
            " dropout_1 (Dropout)         (None, 64)                0         \n",
            "                                                                 \n",
            " dense_1 (Dense)             (None, 10)                650       \n",
            "                                                                 \n",
            "=================================================================\n",
            "Total params: 20,993,266\n",
            "Trainable params: 7,458,162\n",
            "Non-trainable params: 13,535,104\n",
            "_________________________________________________________________\n",
            "Epoch 1/5\n",
            "70/70 [==============================] - 128s 2s/step - loss: 1.2943 - accuracy: 0.6395 - val_loss: 0.6928 - val_accuracy: 0.7891\n",
            "Epoch 2/5\n",
            "70/70 [==============================] - 120s 2s/step - loss: 0.5999 - accuracy: 0.8112 - val_loss: 0.6300 - val_accuracy: 0.8002\n",
            "Epoch 3/5\n",
            "70/70 [==============================] - 117s 2s/step - loss: 0.4196 - accuracy: 0.8680 - val_loss: 0.6212 - val_accuracy: 0.8036\n",
            "Epoch 4/5\n",
            "70/70 [==============================] - 111s 2s/step - loss: 0.2908 - accuracy: 0.9135 - val_loss: 0.5960 - val_accuracy: 0.8237\n",
            "Epoch 5/5\n",
            "70/70 [==============================] - 109s 2s/step - loss: 0.1840 - accuracy: 0.9533 - val_loss: 0.6255 - val_accuracy: 0.8170\n",
            "{'Training_loss': 1.294296383857727, 'Validation_loss': 0.6927789449691772, 'Training_accuracy': 0.9533363580703735, 'Validation_accuracy': 0.8236607313156128, '_timestamp': 1648760805, '_runtime': 597}\n",
            "Found 2000 images belonging to 10 classes.\n",
            "15/15 - 24s - loss: 0.6446 - accuracy: 0.8094 - 24s/epoch - 2s/step\n",
            "Test accuracy : 0.809374988079071\n"
          ]
        },
        {
          "output_type": "stream",
          "name": "stderr",
          "text": [
            "\u001b[34m\u001b[1mwandb\u001b[0m: Agent Starting Run: dqil4z43 with config:\n",
            "\u001b[34m\u001b[1mwandb\u001b[0m: \taugment_data: yes\n",
            "\u001b[34m\u001b[1mwandb\u001b[0m: \tbatch_size: 128\n",
            "\u001b[34m\u001b[1mwandb\u001b[0m: \tdense_layers: [256]\n",
            "\u001b[34m\u001b[1mwandb\u001b[0m: \tdropout: 0.3\n",
            "\u001b[34m\u001b[1mwandb\u001b[0m: \tepochs: 10\n",
            "\u001b[34m\u001b[1mwandb\u001b[0m: \tlayers_unfreeze: 30\n",
            "\u001b[34m\u001b[1mwandb\u001b[0m: \tmodel: Xception\n",
            "\u001b[34m\u001b[1mwandb\u001b[0m: \u001b[33mWARNING\u001b[0m Ignored wandb.init() arg project when running a sweep.\n"
          ]
        },
        {
          "output_type": "display_data",
          "data": {
            "text/plain": [
              "<IPython.core.display.HTML object>"
            ],
            "text/html": [
              "Tracking run with wandb version 0.12.11"
            ]
          },
          "metadata": {}
        },
        {
          "output_type": "display_data",
          "data": {
            "text/plain": [
              "<IPython.core.display.HTML object>"
            ],
            "text/html": [
              "Run data is saved locally in <code>/content/inaturalist_12K/train/Amphibia/wandb/run-20220331_210717-dqil4z43</code>"
            ]
          },
          "metadata": {}
        },
        {
          "output_type": "display_data",
          "data": {
            "text/plain": [
              "<IPython.core.display.HTML object>"
            ],
            "text/html": [
              "Syncing run <strong><a href=\"https://wandb.ai/hithesh-sidhesh/Assignment_2/runs/dqil4z43\" target=\"_blank\">Part B</a></strong> to <a href=\"https://wandb.ai/hithesh-sidhesh/Assignment_2\" target=\"_blank\">Weights & Biases</a> (<a href=\"https://wandb.me/run\" target=\"_blank\">docs</a>)<br/>Sweep page:  <a href=\"https://wandb.ai/hithesh-sidhesh/Assignment_2/sweeps/zm216czw\" target=\"_blank\">https://wandb.ai/hithesh-sidhesh/Assignment_2/sweeps/zm216czw</a>"
            ]
          },
          "metadata": {}
        },
        {
          "output_type": "display_data",
          "data": {
            "text/plain": [
              "<IPython.core.display.HTML object>"
            ],
            "text/html": [
              "Finishing last run (ID:dqil4z43) before initializing another..."
            ]
          },
          "metadata": {}
        },
        {
          "output_type": "stream",
          "name": "stdout",
          "text": [
            "\n"
          ]
        },
        {
          "output_type": "display_data",
          "data": {
            "text/plain": [
              "<IPython.core.display.HTML object>"
            ],
            "text/html": [
              "Waiting for W&B process to finish... <strong style=\"color:green\">(success).</strong>"
            ]
          },
          "metadata": {}
        },
        {
          "output_type": "display_data",
          "data": {
            "text/plain": [
              "VBox(children=(Label(value='0.001 MB of 0.001 MB uploaded (0.000 MB deduped)\\r'), FloatProgress(value=1.0, max…"
            ],
            "application/vnd.jupyter.widget-view+json": {
              "version_major": 2,
              "version_minor": 0,
              "model_id": "d3e7851ac74e4fab8c85a33b1a136bf3"
            }
          },
          "metadata": {}
        },
        {
          "output_type": "display_data",
          "data": {
            "text/plain": [
              "<IPython.core.display.HTML object>"
            ],
            "text/html": [
              "Synced <strong style=\"color:#cdcd00\">Part B</strong>: <a href=\"https://wandb.ai/hithesh-sidhesh/Assignment_2/runs/dqil4z43\" target=\"_blank\">https://wandb.ai/hithesh-sidhesh/Assignment_2/runs/dqil4z43</a><br/>Synced 4 W&B file(s), 0 media file(s), 0 artifact file(s) and 0 other file(s)"
            ]
          },
          "metadata": {}
        },
        {
          "output_type": "display_data",
          "data": {
            "text/plain": [
              "<IPython.core.display.HTML object>"
            ],
            "text/html": [
              "Find logs at: <code>./wandb/run-20220331_210717-dqil4z43/logs</code>"
            ]
          },
          "metadata": {}
        },
        {
          "output_type": "display_data",
          "data": {
            "text/plain": [
              "<IPython.core.display.HTML object>"
            ],
            "text/html": [
              "Successfully finished last run (ID:dqil4z43). Initializing new run:<br/>"
            ]
          },
          "metadata": {}
        },
        {
          "output_type": "display_data",
          "data": {
            "text/plain": [
              "<IPython.core.display.HTML object>"
            ],
            "text/html": [
              "Tracking run with wandb version 0.12.11"
            ]
          },
          "metadata": {}
        },
        {
          "output_type": "display_data",
          "data": {
            "text/plain": [
              "<IPython.core.display.HTML object>"
            ],
            "text/html": [
              "Run data is saved locally in <code>/content/inaturalist_12K/train/Amphibia/wandb/run-20220331_210726-dqil4z43</code>"
            ]
          },
          "metadata": {}
        },
        {
          "output_type": "display_data",
          "data": {
            "text/plain": [
              "<IPython.core.display.HTML object>"
            ],
            "text/html": [
              "Syncing run <strong><a href=\"https://wandb.ai/hithesh-sidhesh/Assignment_2/runs/dqil4z43\" target=\"_blank\">Part B</a></strong> to <a href=\"https://wandb.ai/hithesh-sidhesh/Assignment_2\" target=\"_blank\">Weights & Biases</a> (<a href=\"https://wandb.me/run\" target=\"_blank\">docs</a>)<br/>Sweep page:  <a href=\"https://wandb.ai/hithesh-sidhesh/Assignment_2/sweeps/zm216czw\" target=\"_blank\">https://wandb.ai/hithesh-sidhesh/Assignment_2/sweeps/zm216czw</a>"
            ]
          },
          "metadata": {}
        },
        {
          "output_type": "stream",
          "name": "stdout",
          "text": [
            "Augmenting data\n",
            "Found 9000 images belonging to 10 classes.\n",
            "TRAINING\n",
            "Number of samples 9000\n",
            "Names of classes {'Amphibia': 0, 'Animalia': 1, 'Arachnida': 2, 'Aves': 3, 'Fungi': 4, 'Insecta': 5, 'Mammalia': 6, 'Mollusca': 7, 'Plantae': 8, 'Reptilia': 9}\n",
            "Number of classes 10\n",
            "Number of samples per class 900\n",
            "Found 999 images belonging to 10 classes.\n",
            "VALIDATION\n",
            "Number of samples 999\n",
            "Names of classes {'Amphibia': 0, 'Animalia': 1, 'Arachnida': 2, 'Aves': 3, 'Fungi': 4, 'Insecta': 5, 'Mammalia': 6, 'Mollusca': 7, 'Plantae': 8, 'Reptilia': 9}\n",
            "Number of classes 10\n",
            "Number of samples per class 99\n",
            "Training last  30  layers\n",
            "Model: \"sequential\"\n",
            "_________________________________________________________________\n",
            " Layer (type)                Output Shape              Param #   \n",
            "=================================================================\n",
            " xception (Functional)       (None, 8, 8, 2048)        20861480  \n",
            "                                                                 \n",
            " global_average_pooling2d (G  (None, 2048)             0         \n",
            " lobalAveragePooling2D)                                          \n",
            "                                                                 \n",
            " dropout (Dropout)           (None, 2048)              0         \n",
            "                                                                 \n",
            " dense (Dense)               (None, 256)               524544    \n",
            "                                                                 \n",
            " dropout_1 (Dropout)         (None, 256)               0         \n",
            "                                                                 \n",
            " dense_1 (Dense)             (None, 10)                2570      \n",
            "                                                                 \n",
            "=================================================================\n",
            "Total params: 21,388,594\n",
            "Trainable params: 9,467,466\n",
            "Non-trainable params: 11,921,128\n",
            "_________________________________________________________________\n",
            "Epoch 1/10\n",
            "70/70 [==============================] - 260s 4s/step - loss: 1.5885 - accuracy: 0.4923 - val_loss: 0.9240 - val_accuracy: 0.6875\n",
            "Epoch 2/10\n",
            "70/70 [==============================] - 250s 4s/step - loss: 0.9210 - accuracy: 0.6976 - val_loss: 0.8072 - val_accuracy: 0.7433\n",
            "Epoch 3/10\n",
            "70/70 [==============================] - 243s 4s/step - loss: 0.7986 - accuracy: 0.7365 - val_loss: 0.8044 - val_accuracy: 0.7467\n",
            "Epoch 4/10\n",
            "70/70 [==============================] - 230s 3s/step - loss: 0.7287 - accuracy: 0.7556 - val_loss: 0.7757 - val_accuracy: 0.7444\n",
            "Epoch 5/10\n",
            "70/70 [==============================] - 228s 3s/step - loss: 0.6617 - accuracy: 0.7796 - val_loss: 0.6863 - val_accuracy: 0.7812\n",
            "Epoch 6/10\n",
            "70/70 [==============================] - 228s 3s/step - loss: 0.6095 - accuracy: 0.7993 - val_loss: 0.7308 - val_accuracy: 0.7746\n",
            "Epoch 7/10\n",
            "70/70 [==============================] - 227s 3s/step - loss: 0.5631 - accuracy: 0.8082 - val_loss: 0.7142 - val_accuracy: 0.7656\n",
            "Epoch 8/10\n",
            "70/70 [==============================] - 226s 3s/step - loss: 0.5159 - accuracy: 0.8303 - val_loss: 0.6959 - val_accuracy: 0.7757\n",
            "Epoch 9/10\n",
            "70/70 [==============================] - 225s 3s/step - loss: 0.5020 - accuracy: 0.8305 - val_loss: 0.6824 - val_accuracy: 0.7779\n",
            "Epoch 10/10\n",
            "70/70 [==============================] - 227s 3s/step - loss: 0.4574 - accuracy: 0.8463 - val_loss: 0.7058 - val_accuracy: 0.7879\n",
            "{'Training_loss': 1.5885037183761597, 'Validation_loss': 0.9239774942398071, 'Training_accuracy': 0.8462578654289246, 'Validation_accuracy': 0.7879464030265808, '_timestamp': 1648763205, '_runtime': 2354}\n",
            "Found 2000 images belonging to 10 classes.\n",
            "15/15 - 24s - loss: 0.6463 - accuracy: 0.8120 - 24s/epoch - 2s/step\n",
            "Test accuracy : 0.8119791746139526\n"
          ]
        },
        {
          "output_type": "stream",
          "name": "stderr",
          "text": [
            "\u001b[34m\u001b[1mwandb\u001b[0m: Agent Starting Run: e5zlhzsb with config:\n",
            "\u001b[34m\u001b[1mwandb\u001b[0m: \taugment_data: yes\n",
            "\u001b[34m\u001b[1mwandb\u001b[0m: \tbatch_size: 64\n",
            "\u001b[34m\u001b[1mwandb\u001b[0m: \tdense_layers: [128]\n",
            "\u001b[34m\u001b[1mwandb\u001b[0m: \tdropout: 0\n",
            "\u001b[34m\u001b[1mwandb\u001b[0m: \tepochs: 5\n",
            "\u001b[34m\u001b[1mwandb\u001b[0m: \tlayers_unfreeze: 30\n",
            "\u001b[34m\u001b[1mwandb\u001b[0m: \tmodel: Xception\n",
            "\u001b[34m\u001b[1mwandb\u001b[0m: \u001b[33mWARNING\u001b[0m Ignored wandb.init() arg project when running a sweep.\n"
          ]
        },
        {
          "output_type": "display_data",
          "data": {
            "text/plain": [
              "<IPython.core.display.HTML object>"
            ],
            "text/html": [
              "Tracking run with wandb version 0.12.11"
            ]
          },
          "metadata": {}
        },
        {
          "output_type": "display_data",
          "data": {
            "text/plain": [
              "<IPython.core.display.HTML object>"
            ],
            "text/html": [
              "Run data is saved locally in <code>/content/inaturalist_12K/train/Amphibia/wandb/run-20220331_214717-e5zlhzsb</code>"
            ]
          },
          "metadata": {}
        },
        {
          "output_type": "display_data",
          "data": {
            "text/plain": [
              "<IPython.core.display.HTML object>"
            ],
            "text/html": [
              "Syncing run <strong><a href=\"https://wandb.ai/hithesh-sidhesh/Assignment_2/runs/e5zlhzsb\" target=\"_blank\">Part B</a></strong> to <a href=\"https://wandb.ai/hithesh-sidhesh/Assignment_2\" target=\"_blank\">Weights & Biases</a> (<a href=\"https://wandb.me/run\" target=\"_blank\">docs</a>)<br/>Sweep page:  <a href=\"https://wandb.ai/hithesh-sidhesh/Assignment_2/sweeps/zm216czw\" target=\"_blank\">https://wandb.ai/hithesh-sidhesh/Assignment_2/sweeps/zm216czw</a>"
            ]
          },
          "metadata": {}
        },
        {
          "output_type": "display_data",
          "data": {
            "text/plain": [
              "<IPython.core.display.HTML object>"
            ],
            "text/html": [
              "Finishing last run (ID:e5zlhzsb) before initializing another..."
            ]
          },
          "metadata": {}
        },
        {
          "output_type": "stream",
          "name": "stdout",
          "text": [
            "\n"
          ]
        },
        {
          "output_type": "display_data",
          "data": {
            "text/plain": [
              "<IPython.core.display.HTML object>"
            ],
            "text/html": [
              "Waiting for W&B process to finish... <strong style=\"color:green\">(success).</strong>"
            ]
          },
          "metadata": {}
        },
        {
          "output_type": "display_data",
          "data": {
            "text/plain": [
              "VBox(children=(Label(value='0.001 MB of 0.001 MB uploaded (0.000 MB deduped)\\r'), FloatProgress(value=1.0, max…"
            ],
            "application/vnd.jupyter.widget-view+json": {
              "version_major": 2,
              "version_minor": 0,
              "model_id": "9b45837280e04f2c9a9759f970ad38a5"
            }
          },
          "metadata": {}
        },
        {
          "output_type": "display_data",
          "data": {
            "text/plain": [
              "<IPython.core.display.HTML object>"
            ],
            "text/html": [
              "Synced <strong style=\"color:#cdcd00\">Part B</strong>: <a href=\"https://wandb.ai/hithesh-sidhesh/Assignment_2/runs/e5zlhzsb\" target=\"_blank\">https://wandb.ai/hithesh-sidhesh/Assignment_2/runs/e5zlhzsb</a><br/>Synced 4 W&B file(s), 0 media file(s), 0 artifact file(s) and 0 other file(s)"
            ]
          },
          "metadata": {}
        },
        {
          "output_type": "display_data",
          "data": {
            "text/plain": [
              "<IPython.core.display.HTML object>"
            ],
            "text/html": [
              "Find logs at: <code>./wandb/run-20220331_214717-e5zlhzsb/logs</code>"
            ]
          },
          "metadata": {}
        },
        {
          "output_type": "display_data",
          "data": {
            "text/plain": [
              "<IPython.core.display.HTML object>"
            ],
            "text/html": [
              "Successfully finished last run (ID:e5zlhzsb). Initializing new run:<br/>"
            ]
          },
          "metadata": {}
        },
        {
          "output_type": "display_data",
          "data": {
            "text/plain": [
              "<IPython.core.display.HTML object>"
            ],
            "text/html": [
              "Tracking run with wandb version 0.12.11"
            ]
          },
          "metadata": {}
        },
        {
          "output_type": "display_data",
          "data": {
            "text/plain": [
              "<IPython.core.display.HTML object>"
            ],
            "text/html": [
              "Run data is saved locally in <code>/content/inaturalist_12K/train/Amphibia/wandb/run-20220331_214726-e5zlhzsb</code>"
            ]
          },
          "metadata": {}
        },
        {
          "output_type": "display_data",
          "data": {
            "text/plain": [
              "<IPython.core.display.HTML object>"
            ],
            "text/html": [
              "Syncing run <strong><a href=\"https://wandb.ai/hithesh-sidhesh/Assignment_2/runs/e5zlhzsb\" target=\"_blank\">Part B</a></strong> to <a href=\"https://wandb.ai/hithesh-sidhesh/Assignment_2\" target=\"_blank\">Weights & Biases</a> (<a href=\"https://wandb.me/run\" target=\"_blank\">docs</a>)<br/>Sweep page:  <a href=\"https://wandb.ai/hithesh-sidhesh/Assignment_2/sweeps/zm216czw\" target=\"_blank\">https://wandb.ai/hithesh-sidhesh/Assignment_2/sweeps/zm216czw</a>"
            ]
          },
          "metadata": {}
        },
        {
          "output_type": "stream",
          "name": "stdout",
          "text": [
            "Augmenting data\n",
            "Found 9000 images belonging to 10 classes.\n",
            "TRAINING\n",
            "Number of samples 9000\n",
            "Names of classes {'Amphibia': 0, 'Animalia': 1, 'Arachnida': 2, 'Aves': 3, 'Fungi': 4, 'Insecta': 5, 'Mammalia': 6, 'Mollusca': 7, 'Plantae': 8, 'Reptilia': 9}\n",
            "Number of classes 10\n",
            "Number of samples per class 900\n",
            "Found 999 images belonging to 10 classes.\n",
            "VALIDATION\n",
            "Number of samples 999\n",
            "Names of classes {'Amphibia': 0, 'Animalia': 1, 'Arachnida': 2, 'Aves': 3, 'Fungi': 4, 'Insecta': 5, 'Mammalia': 6, 'Mollusca': 7, 'Plantae': 8, 'Reptilia': 9}\n",
            "Number of classes 10\n",
            "Number of samples per class 99\n",
            "Training last  30  layers\n",
            "Model: \"sequential\"\n",
            "_________________________________________________________________\n",
            " Layer (type)                Output Shape              Param #   \n",
            "=================================================================\n",
            " xception (Functional)       (None, 8, 8, 2048)        20861480  \n",
            "                                                                 \n",
            " global_average_pooling2d (G  (None, 2048)             0         \n",
            " lobalAveragePooling2D)                                          \n",
            "                                                                 \n",
            " dropout (Dropout)           (None, 2048)              0         \n",
            "                                                                 \n",
            " dense (Dense)               (None, 128)               262272    \n",
            "                                                                 \n",
            " dropout_1 (Dropout)         (None, 128)               0         \n",
            "                                                                 \n",
            " dense_1 (Dense)             (None, 10)                1290      \n",
            "                                                                 \n",
            "=================================================================\n",
            "Total params: 21,125,042\n",
            "Trainable params: 9,203,914\n",
            "Non-trainable params: 11,921,128\n",
            "_________________________________________________________________\n",
            "Epoch 1/5\n",
            "140/140 [==============================] - 261s 2s/step - loss: 1.2307 - accuracy: 0.6127 - val_loss: 0.8940 - val_accuracy: 0.7063\n",
            "Epoch 2/5\n",
            "140/140 [==============================] - 253s 2s/step - loss: 0.7907 - accuracy: 0.7349 - val_loss: 0.8249 - val_accuracy: 0.7302\n",
            "Epoch 3/5\n",
            "140/140 [==============================] - 250s 2s/step - loss: 0.6776 - accuracy: 0.7736 - val_loss: 0.7410 - val_accuracy: 0.7510\n",
            "Epoch 4/5\n",
            "140/140 [==============================] - 244s 2s/step - loss: 0.6019 - accuracy: 0.7941 - val_loss: 0.6642 - val_accuracy: 0.7646\n",
            "Epoch 5/5\n",
            "140/140 [==============================] - 232s 2s/step - loss: 0.5291 - accuracy: 0.8211 - val_loss: 0.6944 - val_accuracy: 0.7750\n",
            "{'Training_loss': 1.2306568622589111, 'Validation_loss': 0.8940345048904419, 'Training_accuracy': 0.8210608959197998, 'Validation_accuracy': 0.7749999761581421, '_timestamp': 1648764503, '_runtime': 1252}\n",
            "Found 2000 images belonging to 10 classes.\n",
            "31/31 - 25s - loss: 0.5861 - accuracy: 0.8070 - 25s/epoch - 799ms/step\n",
            "Test accuracy : 0.8069556355476379\n"
          ]
        },
        {
          "output_type": "stream",
          "name": "stderr",
          "text": [
            "\u001b[34m\u001b[1mwandb\u001b[0m: Sweep Agent: Waiting for job.\n",
            "\u001b[34m\u001b[1mwandb\u001b[0m: Job received.\n",
            "\u001b[34m\u001b[1mwandb\u001b[0m: Agent Starting Run: z41vtrc5 with config:\n",
            "\u001b[34m\u001b[1mwandb\u001b[0m: \taugment_data: no\n",
            "\u001b[34m\u001b[1mwandb\u001b[0m: \tbatch_size: 64\n",
            "\u001b[34m\u001b[1mwandb\u001b[0m: \tdense_layers: [64]\n",
            "\u001b[34m\u001b[1mwandb\u001b[0m: \tdropout: 0\n",
            "\u001b[34m\u001b[1mwandb\u001b[0m: \tepochs: 10\n",
            "\u001b[34m\u001b[1mwandb\u001b[0m: \tlayers_unfreeze: None\n",
            "\u001b[34m\u001b[1mwandb\u001b[0m: \tmodel: Xception\n",
            "\u001b[34m\u001b[1mwandb\u001b[0m: \u001b[33mWARNING\u001b[0m Ignored wandb.init() arg project when running a sweep.\n"
          ]
        },
        {
          "output_type": "display_data",
          "data": {
            "text/plain": [
              "<IPython.core.display.HTML object>"
            ],
            "text/html": [
              "Tracking run with wandb version 0.12.11"
            ]
          },
          "metadata": {}
        },
        {
          "output_type": "display_data",
          "data": {
            "text/plain": [
              "<IPython.core.display.HTML object>"
            ],
            "text/html": [
              "Run data is saved locally in <code>/content/inaturalist_12K/train/Amphibia/wandb/run-20220331_220914-z41vtrc5</code>"
            ]
          },
          "metadata": {}
        },
        {
          "output_type": "display_data",
          "data": {
            "text/plain": [
              "<IPython.core.display.HTML object>"
            ],
            "text/html": [
              "Syncing run <strong><a href=\"https://wandb.ai/hithesh-sidhesh/Assignment_2/runs/z41vtrc5\" target=\"_blank\">Part B</a></strong> to <a href=\"https://wandb.ai/hithesh-sidhesh/Assignment_2\" target=\"_blank\">Weights & Biases</a> (<a href=\"https://wandb.me/run\" target=\"_blank\">docs</a>)<br/>Sweep page:  <a href=\"https://wandb.ai/hithesh-sidhesh/Assignment_2/sweeps/zm216czw\" target=\"_blank\">https://wandb.ai/hithesh-sidhesh/Assignment_2/sweeps/zm216czw</a>"
            ]
          },
          "metadata": {}
        },
        {
          "output_type": "display_data",
          "data": {
            "text/plain": [
              "<IPython.core.display.HTML object>"
            ],
            "text/html": [
              "Finishing last run (ID:z41vtrc5) before initializing another..."
            ]
          },
          "metadata": {}
        },
        {
          "output_type": "stream",
          "name": "stdout",
          "text": [
            "\n"
          ]
        },
        {
          "output_type": "display_data",
          "data": {
            "text/plain": [
              "<IPython.core.display.HTML object>"
            ],
            "text/html": [
              "Waiting for W&B process to finish... <strong style=\"color:green\">(success).</strong>"
            ]
          },
          "metadata": {}
        },
        {
          "output_type": "display_data",
          "data": {
            "text/plain": [
              "VBox(children=(Label(value='0.001 MB of 0.001 MB uploaded (0.000 MB deduped)\\r'), FloatProgress(value=1.0, max…"
            ],
            "application/vnd.jupyter.widget-view+json": {
              "version_major": 2,
              "version_minor": 0,
              "model_id": "eb1417596320417a9f2ee8ad24110a52"
            }
          },
          "metadata": {}
        },
        {
          "output_type": "display_data",
          "data": {
            "text/plain": [
              "<IPython.core.display.HTML object>"
            ],
            "text/html": [
              "Synced <strong style=\"color:#cdcd00\">Part B</strong>: <a href=\"https://wandb.ai/hithesh-sidhesh/Assignment_2/runs/z41vtrc5\" target=\"_blank\">https://wandb.ai/hithesh-sidhesh/Assignment_2/runs/z41vtrc5</a><br/>Synced 4 W&B file(s), 0 media file(s), 0 artifact file(s) and 0 other file(s)"
            ]
          },
          "metadata": {}
        },
        {
          "output_type": "display_data",
          "data": {
            "text/plain": [
              "<IPython.core.display.HTML object>"
            ],
            "text/html": [
              "Find logs at: <code>./wandb/run-20220331_220914-z41vtrc5/logs</code>"
            ]
          },
          "metadata": {}
        },
        {
          "output_type": "display_data",
          "data": {
            "text/plain": [
              "<IPython.core.display.HTML object>"
            ],
            "text/html": [
              "Successfully finished last run (ID:z41vtrc5). Initializing new run:<br/>"
            ]
          },
          "metadata": {}
        },
        {
          "output_type": "display_data",
          "data": {
            "text/plain": [
              "<IPython.core.display.HTML object>"
            ],
            "text/html": [
              "Tracking run with wandb version 0.12.11"
            ]
          },
          "metadata": {}
        },
        {
          "output_type": "display_data",
          "data": {
            "text/plain": [
              "<IPython.core.display.HTML object>"
            ],
            "text/html": [
              "Run data is saved locally in <code>/content/inaturalist_12K/train/Amphibia/wandb/run-20220331_220923-z41vtrc5</code>"
            ]
          },
          "metadata": {}
        },
        {
          "output_type": "display_data",
          "data": {
            "text/plain": [
              "<IPython.core.display.HTML object>"
            ],
            "text/html": [
              "Syncing run <strong><a href=\"https://wandb.ai/hithesh-sidhesh/Assignment_2/runs/z41vtrc5\" target=\"_blank\">Part B</a></strong> to <a href=\"https://wandb.ai/hithesh-sidhesh/Assignment_2\" target=\"_blank\">Weights & Biases</a> (<a href=\"https://wandb.me/run\" target=\"_blank\">docs</a>)<br/>Sweep page:  <a href=\"https://wandb.ai/hithesh-sidhesh/Assignment_2/sweeps/zm216czw\" target=\"_blank\">https://wandb.ai/hithesh-sidhesh/Assignment_2/sweeps/zm216czw</a>"
            ]
          },
          "metadata": {}
        },
        {
          "output_type": "stream",
          "name": "stdout",
          "text": [
            "Not augmenting data\n",
            "Found 9000 images belonging to 10 classes.\n",
            "TRAINING\n",
            "Number of samples 9000\n",
            "Names of classes {'Amphibia': 0, 'Animalia': 1, 'Arachnida': 2, 'Aves': 3, 'Fungi': 4, 'Insecta': 5, 'Mammalia': 6, 'Mollusca': 7, 'Plantae': 8, 'Reptilia': 9}\n",
            "Number of classes 10\n",
            "Number of samples per class 900\n",
            "Found 999 images belonging to 10 classes.\n",
            "VALIDATION\n",
            "Number of samples 999\n",
            "Names of classes {'Amphibia': 0, 'Animalia': 1, 'Arachnida': 2, 'Aves': 3, 'Fungi': 4, 'Insecta': 5, 'Mammalia': 6, 'Mollusca': 7, 'Plantae': 8, 'Reptilia': 9}\n",
            "Number of classes 10\n",
            "Number of samples per class 99\n",
            "Model: \"sequential\"\n",
            "_________________________________________________________________\n",
            " Layer (type)                Output Shape              Param #   \n",
            "=================================================================\n",
            " xception (Functional)       (None, 8, 8, 2048)        20861480  \n",
            "                                                                 \n",
            " global_average_pooling2d (G  (None, 2048)             0         \n",
            " lobalAveragePooling2D)                                          \n",
            "                                                                 \n",
            " dropout (Dropout)           (None, 2048)              0         \n",
            "                                                                 \n",
            " dense (Dense)               (None, 64)                131136    \n",
            "                                                                 \n",
            " dropout_1 (Dropout)         (None, 64)                0         \n",
            "                                                                 \n",
            " dense_1 (Dense)             (None, 10)                650       \n",
            "                                                                 \n",
            "=================================================================\n",
            "Total params: 20,993,266\n",
            "Trainable params: 131,786\n",
            "Non-trainable params: 20,861,480\n",
            "_________________________________________________________________\n",
            "Epoch 1/10\n",
            "140/140 [==============================] - 129s 900ms/step - loss: 1.6272 - accuracy: 0.5518 - val_loss: 1.0861 - val_accuracy: 0.7333\n",
            "Epoch 2/10\n",
            "140/140 [==============================] - 123s 883ms/step - loss: 0.9356 - accuracy: 0.7332 - val_loss: 0.8421 - val_accuracy: 0.7563\n",
            "Epoch 3/10\n",
            "140/140 [==============================] - 119s 855ms/step - loss: 0.7929 - accuracy: 0.7590 - val_loss: 0.7702 - val_accuracy: 0.7646\n",
            "Epoch 4/10\n",
            "140/140 [==============================] - 116s 835ms/step - loss: 0.7310 - accuracy: 0.7720 - val_loss: 0.7293 - val_accuracy: 0.7719\n",
            "Epoch 5/10\n",
            "140/140 [==============================] - 110s 792ms/step - loss: 0.6913 - accuracy: 0.7806 - val_loss: 0.7147 - val_accuracy: 0.7656\n",
            "Epoch 6/10\n",
            "140/140 [==============================] - 110s 790ms/step - loss: 0.6586 - accuracy: 0.7907 - val_loss: 0.6940 - val_accuracy: 0.7781\n",
            "Epoch 7/10\n",
            "140/140 [==============================] - 110s 789ms/step - loss: 0.6459 - accuracy: 0.7920 - val_loss: 0.6795 - val_accuracy: 0.7792\n",
            "Epoch 8/10\n",
            "140/140 [==============================] - 110s 787ms/step - loss: 0.6188 - accuracy: 0.8016 - val_loss: 0.6744 - val_accuracy: 0.7760\n",
            "Epoch 9/10\n",
            "140/140 [==============================] - 110s 788ms/step - loss: 0.6040 - accuracy: 0.8046 - val_loss: 0.6731 - val_accuracy: 0.7823\n",
            "Epoch 10/10\n",
            "140/140 [==============================] - 110s 793ms/step - loss: 0.5842 - accuracy: 0.8103 - val_loss: 0.6629 - val_accuracy: 0.7875\n",
            "{'Training_loss': 1.627238154411316, 'Validation_loss': 1.0860844850540161, 'Training_accuracy': 0.8103178143501282, 'Validation_accuracy': 0.7875000238418579, '_timestamp': 1648765745, '_runtime': 1176}\n",
            "Found 2000 images belonging to 10 classes.\n",
            "31/31 - 25s - loss: 0.6600 - accuracy: 0.7828 - 25s/epoch - 797ms/step\n",
            "Test accuracy : 0.7827621102333069\n"
          ]
        },
        {
          "output_type": "stream",
          "name": "stderr",
          "text": [
            "\u001b[34m\u001b[1mwandb\u001b[0m: Agent Starting Run: ek6wx28t with config:\n",
            "\u001b[34m\u001b[1mwandb\u001b[0m: \taugment_data: no\n",
            "\u001b[34m\u001b[1mwandb\u001b[0m: \tbatch_size: 128\n",
            "\u001b[34m\u001b[1mwandb\u001b[0m: \tdense_layers: [128]\n",
            "\u001b[34m\u001b[1mwandb\u001b[0m: \tdropout: 0\n",
            "\u001b[34m\u001b[1mwandb\u001b[0m: \tepochs: 10\n",
            "\u001b[34m\u001b[1mwandb\u001b[0m: \tlayers_unfreeze: None\n",
            "\u001b[34m\u001b[1mwandb\u001b[0m: \tmodel: Xception\n",
            "\u001b[34m\u001b[1mwandb\u001b[0m: \u001b[33mWARNING\u001b[0m Ignored wandb.init() arg project when running a sweep.\n"
          ]
        },
        {
          "output_type": "display_data",
          "data": {
            "text/plain": [
              "<IPython.core.display.HTML object>"
            ],
            "text/html": [
              "Tracking run with wandb version 0.12.11"
            ]
          },
          "metadata": {}
        },
        {
          "output_type": "display_data",
          "data": {
            "text/plain": [
              "<IPython.core.display.HTML object>"
            ],
            "text/html": [
              "Run data is saved locally in <code>/content/inaturalist_12K/train/Amphibia/wandb/run-20220331_222940-ek6wx28t</code>"
            ]
          },
          "metadata": {}
        },
        {
          "output_type": "display_data",
          "data": {
            "text/plain": [
              "<IPython.core.display.HTML object>"
            ],
            "text/html": [
              "Syncing run <strong><a href=\"https://wandb.ai/hithesh-sidhesh/Assignment_2/runs/ek6wx28t\" target=\"_blank\">Part B</a></strong> to <a href=\"https://wandb.ai/hithesh-sidhesh/Assignment_2\" target=\"_blank\">Weights & Biases</a> (<a href=\"https://wandb.me/run\" target=\"_blank\">docs</a>)<br/>Sweep page:  <a href=\"https://wandb.ai/hithesh-sidhesh/Assignment_2/sweeps/zm216czw\" target=\"_blank\">https://wandb.ai/hithesh-sidhesh/Assignment_2/sweeps/zm216czw</a>"
            ]
          },
          "metadata": {}
        },
        {
          "output_type": "display_data",
          "data": {
            "text/plain": [
              "<IPython.core.display.HTML object>"
            ],
            "text/html": [
              "Finishing last run (ID:ek6wx28t) before initializing another..."
            ]
          },
          "metadata": {}
        },
        {
          "output_type": "stream",
          "name": "stdout",
          "text": [
            "\n"
          ]
        },
        {
          "output_type": "display_data",
          "data": {
            "text/plain": [
              "<IPython.core.display.HTML object>"
            ],
            "text/html": [
              "Waiting for W&B process to finish... <strong style=\"color:green\">(success).</strong>"
            ]
          },
          "metadata": {}
        },
        {
          "output_type": "display_data",
          "data": {
            "text/plain": [
              "VBox(children=(Label(value='0.001 MB of 0.001 MB uploaded (0.000 MB deduped)\\r'), FloatProgress(value=1.0, max…"
            ],
            "application/vnd.jupyter.widget-view+json": {
              "version_major": 2,
              "version_minor": 0,
              "model_id": "8d400d8ea941474fa7668f4de5bd844b"
            }
          },
          "metadata": {}
        },
        {
          "output_type": "display_data",
          "data": {
            "text/plain": [
              "<IPython.core.display.HTML object>"
            ],
            "text/html": [
              "Synced <strong style=\"color:#cdcd00\">Part B</strong>: <a href=\"https://wandb.ai/hithesh-sidhesh/Assignment_2/runs/ek6wx28t\" target=\"_blank\">https://wandb.ai/hithesh-sidhesh/Assignment_2/runs/ek6wx28t</a><br/>Synced 4 W&B file(s), 0 media file(s), 0 artifact file(s) and 0 other file(s)"
            ]
          },
          "metadata": {}
        },
        {
          "output_type": "display_data",
          "data": {
            "text/plain": [
              "<IPython.core.display.HTML object>"
            ],
            "text/html": [
              "Find logs at: <code>./wandb/run-20220331_222940-ek6wx28t/logs</code>"
            ]
          },
          "metadata": {}
        },
        {
          "output_type": "display_data",
          "data": {
            "text/plain": [
              "<IPython.core.display.HTML object>"
            ],
            "text/html": [
              "Successfully finished last run (ID:ek6wx28t). Initializing new run:<br/>"
            ]
          },
          "metadata": {}
        },
        {
          "output_type": "display_data",
          "data": {
            "text/plain": [
              "<IPython.core.display.HTML object>"
            ],
            "text/html": [
              "Tracking run with wandb version 0.12.11"
            ]
          },
          "metadata": {}
        },
        {
          "output_type": "display_data",
          "data": {
            "text/plain": [
              "<IPython.core.display.HTML object>"
            ],
            "text/html": [
              "Run data is saved locally in <code>/content/inaturalist_12K/train/Amphibia/wandb/run-20220331_222949-ek6wx28t</code>"
            ]
          },
          "metadata": {}
        },
        {
          "output_type": "display_data",
          "data": {
            "text/plain": [
              "<IPython.core.display.HTML object>"
            ],
            "text/html": [
              "Syncing run <strong><a href=\"https://wandb.ai/hithesh-sidhesh/Assignment_2/runs/ek6wx28t\" target=\"_blank\">Part B</a></strong> to <a href=\"https://wandb.ai/hithesh-sidhesh/Assignment_2\" target=\"_blank\">Weights & Biases</a> (<a href=\"https://wandb.me/run\" target=\"_blank\">docs</a>)<br/>Sweep page:  <a href=\"https://wandb.ai/hithesh-sidhesh/Assignment_2/sweeps/zm216czw\" target=\"_blank\">https://wandb.ai/hithesh-sidhesh/Assignment_2/sweeps/zm216czw</a>"
            ]
          },
          "metadata": {}
        },
        {
          "output_type": "stream",
          "name": "stdout",
          "text": [
            "Not augmenting data\n",
            "Found 9000 images belonging to 10 classes.\n",
            "TRAINING\n",
            "Number of samples 9000\n",
            "Names of classes {'Amphibia': 0, 'Animalia': 1, 'Arachnida': 2, 'Aves': 3, 'Fungi': 4, 'Insecta': 5, 'Mammalia': 6, 'Mollusca': 7, 'Plantae': 8, 'Reptilia': 9}\n",
            "Number of classes 10\n",
            "Number of samples per class 900\n",
            "Found 999 images belonging to 10 classes.\n",
            "VALIDATION\n",
            "Number of samples 999\n",
            "Names of classes {'Amphibia': 0, 'Animalia': 1, 'Arachnida': 2, 'Aves': 3, 'Fungi': 4, 'Insecta': 5, 'Mammalia': 6, 'Mollusca': 7, 'Plantae': 8, 'Reptilia': 9}\n",
            "Number of classes 10\n",
            "Number of samples per class 99\n",
            "Model: \"sequential\"\n",
            "_________________________________________________________________\n",
            " Layer (type)                Output Shape              Param #   \n",
            "=================================================================\n",
            " xception (Functional)       (None, 8, 8, 2048)        20861480  \n",
            "                                                                 \n",
            " global_average_pooling2d (G  (None, 2048)             0         \n",
            " lobalAveragePooling2D)                                          \n",
            "                                                                 \n",
            " dropout (Dropout)           (None, 2048)              0         \n",
            "                                                                 \n",
            " dense (Dense)               (None, 128)               262272    \n",
            "                                                                 \n",
            " dropout_1 (Dropout)         (None, 128)               0         \n",
            "                                                                 \n",
            " dense_1 (Dense)             (None, 10)                1290      \n",
            "                                                                 \n",
            "=================================================================\n",
            "Total params: 21,125,042\n",
            "Trainable params: 263,562\n",
            "Non-trainable params: 20,861,480\n",
            "_________________________________________________________________\n",
            "Epoch 1/10\n",
            "70/70 [==============================] - 129s 2s/step - loss: 1.7489 - accuracy: 0.5104 - val_loss: 1.1902 - val_accuracy: 0.7165\n",
            "Epoch 2/10\n",
            "70/70 [==============================] - 122s 2s/step - loss: 1.0056 - accuracy: 0.7303 - val_loss: 0.8719 - val_accuracy: 0.7478\n",
            "Epoch 3/10\n",
            "70/70 [==============================] - 118s 2s/step - loss: 0.8170 - accuracy: 0.7600 - val_loss: 0.7739 - val_accuracy: 0.7667\n",
            "Epoch 4/10\n",
            "70/70 [==============================] - 113s 2s/step - loss: 0.7490 - accuracy: 0.7679 - val_loss: 0.7437 - val_accuracy: 0.7667\n",
            "Epoch 5/10\n",
            "70/70 [==============================] - 111s 2s/step - loss: 0.6982 - accuracy: 0.7828 - val_loss: 0.7237 - val_accuracy: 0.7690\n",
            "Epoch 6/10\n",
            "70/70 [==============================] - 111s 2s/step - loss: 0.6723 - accuracy: 0.7875 - val_loss: 0.7020 - val_accuracy: 0.7801\n",
            "Epoch 7/10\n",
            "70/70 [==============================] - 110s 2s/step - loss: 0.6488 - accuracy: 0.7925 - val_loss: 0.7053 - val_accuracy: 0.7746\n",
            "Epoch 8/10\n",
            "70/70 [==============================] - 111s 2s/step - loss: 0.6217 - accuracy: 0.7998 - val_loss: 0.6774 - val_accuracy: 0.7835\n",
            "Epoch 9/10\n",
            "70/70 [==============================] - 111s 2s/step - loss: 0.6048 - accuracy: 0.8079 - val_loss: 0.6739 - val_accuracy: 0.7857\n",
            "Epoch 10/10\n",
            "70/70 [==============================] - 111s 2s/step - loss: 0.5883 - accuracy: 0.8108 - val_loss: 0.6528 - val_accuracy: 0.7924\n",
            "{'Training_loss': 1.7489463090896606, 'Validation_loss': 1.19023597240448, 'Training_accuracy': 0.8107529282569885, 'Validation_accuracy': 0.7924107313156128, '_timestamp': 1648766952, '_runtime': 1158}\n",
            "Found 2000 images belonging to 10 classes.\n",
            "15/15 - 24s - loss: 0.6612 - accuracy: 0.7891 - 24s/epoch - 2s/step\n",
            "Test accuracy : 0.7890625\n"
          ]
        },
        {
          "output_type": "stream",
          "name": "stderr",
          "text": [
            "\u001b[34m\u001b[1mwandb\u001b[0m: Agent Starting Run: b4c2on12 with config:\n",
            "\u001b[34m\u001b[1mwandb\u001b[0m: \taugment_data: no\n",
            "\u001b[34m\u001b[1mwandb\u001b[0m: \tbatch_size: 256\n",
            "\u001b[34m\u001b[1mwandb\u001b[0m: \tdense_layers: [256]\n",
            "\u001b[34m\u001b[1mwandb\u001b[0m: \tdropout: 0.2\n",
            "\u001b[34m\u001b[1mwandb\u001b[0m: \tepochs: 10\n",
            "\u001b[34m\u001b[1mwandb\u001b[0m: \tlayers_unfreeze: None\n",
            "\u001b[34m\u001b[1mwandb\u001b[0m: \tmodel: Xception\n",
            "\u001b[34m\u001b[1mwandb\u001b[0m: \u001b[33mWARNING\u001b[0m Ignored wandb.init() arg project when running a sweep.\n"
          ]
        },
        {
          "output_type": "display_data",
          "data": {
            "text/plain": [
              "<IPython.core.display.HTML object>"
            ],
            "text/html": [
              "Tracking run with wandb version 0.12.11"
            ]
          },
          "metadata": {}
        },
        {
          "output_type": "display_data",
          "data": {
            "text/plain": [
              "<IPython.core.display.HTML object>"
            ],
            "text/html": [
              "Run data is saved locally in <code>/content/inaturalist_12K/train/Amphibia/wandb/run-20220331_224948-b4c2on12</code>"
            ]
          },
          "metadata": {}
        },
        {
          "output_type": "display_data",
          "data": {
            "text/plain": [
              "<IPython.core.display.HTML object>"
            ],
            "text/html": [
              "Syncing run <strong><a href=\"https://wandb.ai/hithesh-sidhesh/Assignment_2/runs/b4c2on12\" target=\"_blank\">Part B</a></strong> to <a href=\"https://wandb.ai/hithesh-sidhesh/Assignment_2\" target=\"_blank\">Weights & Biases</a> (<a href=\"https://wandb.me/run\" target=\"_blank\">docs</a>)<br/>Sweep page:  <a href=\"https://wandb.ai/hithesh-sidhesh/Assignment_2/sweeps/zm216czw\" target=\"_blank\">https://wandb.ai/hithesh-sidhesh/Assignment_2/sweeps/zm216czw</a>"
            ]
          },
          "metadata": {}
        },
        {
          "output_type": "display_data",
          "data": {
            "text/plain": [
              "<IPython.core.display.HTML object>"
            ],
            "text/html": [
              "Finishing last run (ID:b4c2on12) before initializing another..."
            ]
          },
          "metadata": {}
        },
        {
          "output_type": "stream",
          "name": "stdout",
          "text": [
            "\n"
          ]
        },
        {
          "output_type": "display_data",
          "data": {
            "text/plain": [
              "<IPython.core.display.HTML object>"
            ],
            "text/html": [
              "Waiting for W&B process to finish... <strong style=\"color:green\">(success).</strong>"
            ]
          },
          "metadata": {}
        },
        {
          "output_type": "display_data",
          "data": {
            "text/plain": [
              "VBox(children=(Label(value='0.001 MB of 0.001 MB uploaded (0.000 MB deduped)\\r'), FloatProgress(value=1.0, max…"
            ],
            "application/vnd.jupyter.widget-view+json": {
              "version_major": 2,
              "version_minor": 0,
              "model_id": "4df0a60b5efb4f019ce3d8d4372a3020"
            }
          },
          "metadata": {}
        },
        {
          "output_type": "display_data",
          "data": {
            "text/plain": [
              "<IPython.core.display.HTML object>"
            ],
            "text/html": [
              "Synced <strong style=\"color:#cdcd00\">Part B</strong>: <a href=\"https://wandb.ai/hithesh-sidhesh/Assignment_2/runs/b4c2on12\" target=\"_blank\">https://wandb.ai/hithesh-sidhesh/Assignment_2/runs/b4c2on12</a><br/>Synced 4 W&B file(s), 0 media file(s), 0 artifact file(s) and 0 other file(s)"
            ]
          },
          "metadata": {}
        },
        {
          "output_type": "display_data",
          "data": {
            "text/plain": [
              "<IPython.core.display.HTML object>"
            ],
            "text/html": [
              "Find logs at: <code>./wandb/run-20220331_224948-b4c2on12/logs</code>"
            ]
          },
          "metadata": {}
        },
        {
          "output_type": "display_data",
          "data": {
            "text/plain": [
              "<IPython.core.display.HTML object>"
            ],
            "text/html": [
              "Successfully finished last run (ID:b4c2on12). Initializing new run:<br/>"
            ]
          },
          "metadata": {}
        },
        {
          "output_type": "display_data",
          "data": {
            "text/plain": [
              "<IPython.core.display.HTML object>"
            ],
            "text/html": [
              "Tracking run with wandb version 0.12.11"
            ]
          },
          "metadata": {}
        },
        {
          "output_type": "display_data",
          "data": {
            "text/plain": [
              "<IPython.core.display.HTML object>"
            ],
            "text/html": [
              "Run data is saved locally in <code>/content/inaturalist_12K/train/Amphibia/wandb/run-20220331_224957-b4c2on12</code>"
            ]
          },
          "metadata": {}
        },
        {
          "output_type": "display_data",
          "data": {
            "text/plain": [
              "<IPython.core.display.HTML object>"
            ],
            "text/html": [
              "Syncing run <strong><a href=\"https://wandb.ai/hithesh-sidhesh/Assignment_2/runs/b4c2on12\" target=\"_blank\">Part B</a></strong> to <a href=\"https://wandb.ai/hithesh-sidhesh/Assignment_2\" target=\"_blank\">Weights & Biases</a> (<a href=\"https://wandb.me/run\" target=\"_blank\">docs</a>)<br/>Sweep page:  <a href=\"https://wandb.ai/hithesh-sidhesh/Assignment_2/sweeps/zm216czw\" target=\"_blank\">https://wandb.ai/hithesh-sidhesh/Assignment_2/sweeps/zm216czw</a>"
            ]
          },
          "metadata": {}
        },
        {
          "output_type": "stream",
          "name": "stdout",
          "text": [
            "Not augmenting data\n",
            "Found 9000 images belonging to 10 classes.\n",
            "TRAINING\n",
            "Number of samples 9000\n",
            "Names of classes {'Amphibia': 0, 'Animalia': 1, 'Arachnida': 2, 'Aves': 3, 'Fungi': 4, 'Insecta': 5, 'Mammalia': 6, 'Mollusca': 7, 'Plantae': 8, 'Reptilia': 9}\n",
            "Number of classes 10\n",
            "Number of samples per class 900\n",
            "Found 999 images belonging to 10 classes.\n",
            "VALIDATION\n",
            "Number of samples 999\n",
            "Names of classes {'Amphibia': 0, 'Animalia': 1, 'Arachnida': 2, 'Aves': 3, 'Fungi': 4, 'Insecta': 5, 'Mammalia': 6, 'Mollusca': 7, 'Plantae': 8, 'Reptilia': 9}\n",
            "Number of classes 10\n",
            "Number of samples per class 99\n",
            "Model: \"sequential\"\n",
            "_________________________________________________________________\n",
            " Layer (type)                Output Shape              Param #   \n",
            "=================================================================\n",
            " xception (Functional)       (None, 8, 8, 2048)        20861480  \n",
            "                                                                 \n",
            " global_average_pooling2d (G  (None, 2048)             0         \n",
            " lobalAveragePooling2D)                                          \n",
            "                                                                 \n",
            " dropout (Dropout)           (None, 2048)              0         \n",
            "                                                                 \n",
            " dense (Dense)               (None, 256)               524544    \n",
            "                                                                 \n",
            " dropout_1 (Dropout)         (None, 256)               0         \n",
            "                                                                 \n",
            " dense_1 (Dense)             (None, 10)                2570      \n",
            "                                                                 \n",
            "=================================================================\n",
            "Total params: 21,388,594\n",
            "Trainable params: 527,114\n",
            "Non-trainable params: 20,861,480\n",
            "_________________________________________________________________\n",
            "Epoch 1/10\n",
            "35/35 [==============================] - 128s 4s/step - loss: 1.9790 - accuracy: 0.3647 - val_loss: 1.4959 - val_accuracy: 0.6732\n",
            "Epoch 2/10\n",
            "35/35 [==============================] - 118s 3s/step - loss: 1.2884 - accuracy: 0.6625 - val_loss: 1.0067 - val_accuracy: 0.7266\n",
            "Epoch 3/10\n",
            "35/35 [==============================] - 119s 3s/step - loss: 0.9880 - accuracy: 0.7109 - val_loss: 0.8495 - val_accuracy: 0.7435\n",
            "Epoch 4/10\n",
            "35/35 [==============================] - 109s 3s/step - loss: 0.8753 - accuracy: 0.7339 - val_loss: 0.7700 - val_accuracy: 0.7669\n",
            "Epoch 5/10\n",
            "35/35 [==============================] - 102s 3s/step - loss: 0.8102 - accuracy: 0.7508 - val_loss: 0.7398 - val_accuracy: 0.7708\n",
            "Epoch 6/10\n",
            "35/35 [==============================] - 116s 3s/step - loss: 0.7758 - accuracy: 0.7507 - val_loss: 0.7171 - val_accuracy: 0.7669\n",
            "Epoch 7/10\n",
            "35/35 [==============================] - 101s 3s/step - loss: 0.7546 - accuracy: 0.7626 - val_loss: 0.7032 - val_accuracy: 0.7773\n",
            "Epoch 8/10\n",
            "35/35 [==============================] - 110s 3s/step - loss: 0.7258 - accuracy: 0.7680 - val_loss: 0.6805 - val_accuracy: 0.7773\n",
            "Epoch 9/10\n",
            "35/35 [==============================] - 116s 3s/step - loss: 0.7109 - accuracy: 0.7725 - val_loss: 0.6736 - val_accuracy: 0.7852\n",
            "Epoch 10/10\n",
            "35/35 [==============================] - 102s 3s/step - loss: 0.6950 - accuracy: 0.7806 - val_loss: 0.6732 - val_accuracy: 0.7826\n",
            "{'Training_loss': 1.9789941310882568, 'Validation_loss': 1.495895266532898, 'Training_accuracy': 0.7806496024131775, 'Validation_accuracy': 0.78515625, '_timestamp': 1648768136, '_runtime': 1134}\n",
            "Found 2000 images belonging to 10 classes.\n",
            "7/7 - 23s - loss: 0.6669 - accuracy: 0.7902 - 23s/epoch - 3s/step\n",
            "Test accuracy : 0.7901785969734192\n"
          ]
        },
        {
          "output_type": "stream",
          "name": "stderr",
          "text": [
            "\u001b[34m\u001b[1mwandb\u001b[0m: Agent Starting Run: pcsjdeae with config:\n",
            "\u001b[34m\u001b[1mwandb\u001b[0m: \taugment_data: yes\n",
            "\u001b[34m\u001b[1mwandb\u001b[0m: \tbatch_size: 256\n",
            "\u001b[34m\u001b[1mwandb\u001b[0m: \tdense_layers: [128]\n",
            "\u001b[34m\u001b[1mwandb\u001b[0m: \tdropout: 0.3\n",
            "\u001b[34m\u001b[1mwandb\u001b[0m: \tepochs: 10\n",
            "\u001b[34m\u001b[1mwandb\u001b[0m: \tlayers_unfreeze: None\n",
            "\u001b[34m\u001b[1mwandb\u001b[0m: \tmodel: Xception\n",
            "\u001b[34m\u001b[1mwandb\u001b[0m: \u001b[33mWARNING\u001b[0m Ignored wandb.init() arg project when running a sweep.\n"
          ]
        },
        {
          "output_type": "display_data",
          "data": {
            "text/plain": [
              "<IPython.core.display.HTML object>"
            ],
            "text/html": [
              "Tracking run with wandb version 0.12.11"
            ]
          },
          "metadata": {}
        },
        {
          "output_type": "display_data",
          "data": {
            "text/plain": [
              "<IPython.core.display.HTML object>"
            ],
            "text/html": [
              "Run data is saved locally in <code>/content/inaturalist_12K/train/Amphibia/wandb/run-20220331_230946-pcsjdeae</code>"
            ]
          },
          "metadata": {}
        },
        {
          "output_type": "display_data",
          "data": {
            "text/plain": [
              "<IPython.core.display.HTML object>"
            ],
            "text/html": [
              "Syncing run <strong><a href=\"https://wandb.ai/hithesh-sidhesh/Assignment_2/runs/pcsjdeae\" target=\"_blank\">Part B</a></strong> to <a href=\"https://wandb.ai/hithesh-sidhesh/Assignment_2\" target=\"_blank\">Weights & Biases</a> (<a href=\"https://wandb.me/run\" target=\"_blank\">docs</a>)<br/>Sweep page:  <a href=\"https://wandb.ai/hithesh-sidhesh/Assignment_2/sweeps/zm216czw\" target=\"_blank\">https://wandb.ai/hithesh-sidhesh/Assignment_2/sweeps/zm216czw</a>"
            ]
          },
          "metadata": {}
        },
        {
          "output_type": "display_data",
          "data": {
            "text/plain": [
              "<IPython.core.display.HTML object>"
            ],
            "text/html": [
              "Finishing last run (ID:pcsjdeae) before initializing another..."
            ]
          },
          "metadata": {}
        },
        {
          "output_type": "stream",
          "name": "stdout",
          "text": [
            "\n"
          ]
        },
        {
          "output_type": "display_data",
          "data": {
            "text/plain": [
              "<IPython.core.display.HTML object>"
            ],
            "text/html": [
              "Waiting for W&B process to finish... <strong style=\"color:green\">(success).</strong>"
            ]
          },
          "metadata": {}
        },
        {
          "output_type": "display_data",
          "data": {
            "text/plain": [
              "VBox(children=(Label(value='0.001 MB of 0.001 MB uploaded (0.000 MB deduped)\\r'), FloatProgress(value=1.0, max…"
            ],
            "application/vnd.jupyter.widget-view+json": {
              "version_major": 2,
              "version_minor": 0,
              "model_id": "6f2e8282c95c41cd8038fc086f843fdf"
            }
          },
          "metadata": {}
        },
        {
          "output_type": "display_data",
          "data": {
            "text/plain": [
              "<IPython.core.display.HTML object>"
            ],
            "text/html": [
              "Synced <strong style=\"color:#cdcd00\">Part B</strong>: <a href=\"https://wandb.ai/hithesh-sidhesh/Assignment_2/runs/pcsjdeae\" target=\"_blank\">https://wandb.ai/hithesh-sidhesh/Assignment_2/runs/pcsjdeae</a><br/>Synced 4 W&B file(s), 0 media file(s), 0 artifact file(s) and 0 other file(s)"
            ]
          },
          "metadata": {}
        },
        {
          "output_type": "display_data",
          "data": {
            "text/plain": [
              "<IPython.core.display.HTML object>"
            ],
            "text/html": [
              "Find logs at: <code>./wandb/run-20220331_230946-pcsjdeae/logs</code>"
            ]
          },
          "metadata": {}
        },
        {
          "output_type": "display_data",
          "data": {
            "text/plain": [
              "<IPython.core.display.HTML object>"
            ],
            "text/html": [
              "Successfully finished last run (ID:pcsjdeae). Initializing new run:<br/>"
            ]
          },
          "metadata": {}
        },
        {
          "output_type": "display_data",
          "data": {
            "text/plain": [
              "<IPython.core.display.HTML object>"
            ],
            "text/html": [
              "Tracking run with wandb version 0.12.11"
            ]
          },
          "metadata": {}
        },
        {
          "output_type": "display_data",
          "data": {
            "text/plain": [
              "<IPython.core.display.HTML object>"
            ],
            "text/html": [
              "Run data is saved locally in <code>/content/inaturalist_12K/train/Amphibia/wandb/run-20220331_230955-pcsjdeae</code>"
            ]
          },
          "metadata": {}
        },
        {
          "output_type": "display_data",
          "data": {
            "text/plain": [
              "<IPython.core.display.HTML object>"
            ],
            "text/html": [
              "Syncing run <strong><a href=\"https://wandb.ai/hithesh-sidhesh/Assignment_2/runs/pcsjdeae\" target=\"_blank\">Part B</a></strong> to <a href=\"https://wandb.ai/hithesh-sidhesh/Assignment_2\" target=\"_blank\">Weights & Biases</a> (<a href=\"https://wandb.me/run\" target=\"_blank\">docs</a>)<br/>Sweep page:  <a href=\"https://wandb.ai/hithesh-sidhesh/Assignment_2/sweeps/zm216czw\" target=\"_blank\">https://wandb.ai/hithesh-sidhesh/Assignment_2/sweeps/zm216czw</a>"
            ]
          },
          "metadata": {}
        },
        {
          "output_type": "stream",
          "name": "stdout",
          "text": [
            "Augmenting data\n",
            "Found 9000 images belonging to 10 classes.\n",
            "TRAINING\n",
            "Number of samples 9000\n",
            "Names of classes {'Amphibia': 0, 'Animalia': 1, 'Arachnida': 2, 'Aves': 3, 'Fungi': 4, 'Insecta': 5, 'Mammalia': 6, 'Mollusca': 7, 'Plantae': 8, 'Reptilia': 9}\n",
            "Number of classes 10\n",
            "Number of samples per class 900\n",
            "Found 999 images belonging to 10 classes.\n",
            "VALIDATION\n",
            "Number of samples 999\n",
            "Names of classes {'Amphibia': 0, 'Animalia': 1, 'Arachnida': 2, 'Aves': 3, 'Fungi': 4, 'Insecta': 5, 'Mammalia': 6, 'Mollusca': 7, 'Plantae': 8, 'Reptilia': 9}\n",
            "Number of classes 10\n",
            "Number of samples per class 99\n",
            "Model: \"sequential\"\n",
            "_________________________________________________________________\n",
            " Layer (type)                Output Shape              Param #   \n",
            "=================================================================\n",
            " xception (Functional)       (None, 8, 8, 2048)        20861480  \n",
            "                                                                 \n",
            " global_average_pooling2d (G  (None, 2048)             0         \n",
            " lobalAveragePooling2D)                                          \n",
            "                                                                 \n",
            " dropout (Dropout)           (None, 2048)              0         \n",
            "                                                                 \n",
            " dense (Dense)               (None, 128)               262272    \n",
            "                                                                 \n",
            " dropout_1 (Dropout)         (None, 128)               0         \n",
            "                                                                 \n",
            " dense_1 (Dense)             (None, 10)                1290      \n",
            "                                                                 \n",
            "=================================================================\n",
            "Total params: 21,125,042\n",
            "Trainable params: 263,562\n",
            "Non-trainable params: 20,861,480\n",
            "_________________________________________________________________\n",
            "Epoch 1/10\n",
            "35/35 [==============================] - 262s 7s/step - loss: 2.2269 - accuracy: 0.1945 - val_loss: 1.9651 - val_accuracy: 0.4518\n",
            "Epoch 2/10\n",
            "35/35 [==============================] - 246s 7s/step - loss: 1.8818 - accuracy: 0.4024 - val_loss: 1.5846 - val_accuracy: 0.5898\n",
            "Epoch 3/10\n",
            "35/35 [==============================] - 232s 7s/step - loss: 1.5804 - accuracy: 0.5108 - val_loss: 1.3252 - val_accuracy: 0.5951\n",
            "Epoch 4/10\n",
            "35/35 [==============================] - 227s 7s/step - loss: 1.4108 - accuracy: 0.5574 - val_loss: 1.1596 - val_accuracy: 0.6576\n",
            "Epoch 5/10\n",
            "35/35 [==============================] - 240s 7s/step - loss: 1.3048 - accuracy: 0.5956 - val_loss: 1.0905 - val_accuracy: 0.6771\n",
            "Epoch 6/10\n",
            "35/35 [==============================] - 211s 6s/step - loss: 1.2398 - accuracy: 0.6049 - val_loss: 1.0402 - val_accuracy: 0.6758\n",
            "Epoch 7/10\n",
            "35/35 [==============================] - 222s 7s/step - loss: 1.1983 - accuracy: 0.6161 - val_loss: 1.0708 - val_accuracy: 0.6562\n",
            "Epoch 8/10\n",
            "35/35 [==============================] - 220s 6s/step - loss: 1.1556 - accuracy: 0.6299 - val_loss: 0.9978 - val_accuracy: 0.6901\n",
            "Epoch 9/10\n",
            "35/35 [==============================] - 217s 6s/step - loss: 1.1178 - accuracy: 0.6378 - val_loss: 0.9853 - val_accuracy: 0.6914\n",
            "Epoch 10/10\n",
            "35/35 [==============================] - 233s 7s/step - loss: 1.1239 - accuracy: 0.6367 - val_loss: 0.9557 - val_accuracy: 0.6823\n",
            "{'Training_loss': 2.2269070148468018, 'Validation_loss': 1.965071678161621, 'Training_accuracy': 0.6378087997436523, 'Validation_accuracy': 0.69140625, '_timestamp': 1648770527, '_runtime': 2327}\n",
            "Found 2000 images belonging to 10 classes.\n",
            "7/7 - 22s - loss: 0.7540 - accuracy: 0.7679 - 22s/epoch - 3s/step\n",
            "Test accuracy : 0.7678571343421936\n"
          ]
        },
        {
          "output_type": "stream",
          "name": "stderr",
          "text": [
            "\u001b[34m\u001b[1mwandb\u001b[0m: Sweep Agent: Waiting for job.\n",
            "\u001b[34m\u001b[1mwandb\u001b[0m: Job received.\n",
            "\u001b[34m\u001b[1mwandb\u001b[0m: Agent Starting Run: l95bx1by with config:\n",
            "\u001b[34m\u001b[1mwandb\u001b[0m: \taugment_data: yes\n",
            "\u001b[34m\u001b[1mwandb\u001b[0m: \tbatch_size: 256\n",
            "\u001b[34m\u001b[1mwandb\u001b[0m: \tdense_layers: [64]\n",
            "\u001b[34m\u001b[1mwandb\u001b[0m: \tdropout: 0\n",
            "\u001b[34m\u001b[1mwandb\u001b[0m: \tepochs: 5\n",
            "\u001b[34m\u001b[1mwandb\u001b[0m: \tlayers_unfreeze: 30\n",
            "\u001b[34m\u001b[1mwandb\u001b[0m: \tmodel: Xception\n",
            "\u001b[34m\u001b[1mwandb\u001b[0m: \u001b[33mWARNING\u001b[0m Ignored wandb.init() arg project when running a sweep.\n"
          ]
        },
        {
          "output_type": "display_data",
          "data": {
            "text/plain": [
              "<IPython.core.display.HTML object>"
            ],
            "text/html": [
              "Tracking run with wandb version 0.12.11"
            ]
          },
          "metadata": {}
        },
        {
          "output_type": "display_data",
          "data": {
            "text/plain": [
              "<IPython.core.display.HTML object>"
            ],
            "text/html": [
              "Run data is saved locally in <code>/content/inaturalist_12K/train/Amphibia/wandb/run-20220331_234926-l95bx1by</code>"
            ]
          },
          "metadata": {}
        },
        {
          "output_type": "display_data",
          "data": {
            "text/plain": [
              "<IPython.core.display.HTML object>"
            ],
            "text/html": [
              "Syncing run <strong><a href=\"https://wandb.ai/hithesh-sidhesh/Assignment_2/runs/l95bx1by\" target=\"_blank\">Part B</a></strong> to <a href=\"https://wandb.ai/hithesh-sidhesh/Assignment_2\" target=\"_blank\">Weights & Biases</a> (<a href=\"https://wandb.me/run\" target=\"_blank\">docs</a>)<br/>Sweep page:  <a href=\"https://wandb.ai/hithesh-sidhesh/Assignment_2/sweeps/zm216czw\" target=\"_blank\">https://wandb.ai/hithesh-sidhesh/Assignment_2/sweeps/zm216czw</a>"
            ]
          },
          "metadata": {}
        },
        {
          "output_type": "display_data",
          "data": {
            "text/plain": [
              "<IPython.core.display.HTML object>"
            ],
            "text/html": [
              "Finishing last run (ID:l95bx1by) before initializing another..."
            ]
          },
          "metadata": {}
        },
        {
          "output_type": "stream",
          "name": "stdout",
          "text": [
            "\n"
          ]
        },
        {
          "output_type": "display_data",
          "data": {
            "text/plain": [
              "<IPython.core.display.HTML object>"
            ],
            "text/html": [
              "Waiting for W&B process to finish... <strong style=\"color:green\">(success).</strong>"
            ]
          },
          "metadata": {}
        },
        {
          "output_type": "display_data",
          "data": {
            "text/plain": [
              "VBox(children=(Label(value='0.001 MB of 0.001 MB uploaded (0.000 MB deduped)\\r'), FloatProgress(value=1.0, max…"
            ],
            "application/vnd.jupyter.widget-view+json": {
              "version_major": 2,
              "version_minor": 0,
              "model_id": "365368d9243c4ec2906c2da3386c8659"
            }
          },
          "metadata": {}
        },
        {
          "output_type": "display_data",
          "data": {
            "text/plain": [
              "<IPython.core.display.HTML object>"
            ],
            "text/html": [
              "Synced <strong style=\"color:#cdcd00\">Part B</strong>: <a href=\"https://wandb.ai/hithesh-sidhesh/Assignment_2/runs/l95bx1by\" target=\"_blank\">https://wandb.ai/hithesh-sidhesh/Assignment_2/runs/l95bx1by</a><br/>Synced 4 W&B file(s), 0 media file(s), 0 artifact file(s) and 0 other file(s)"
            ]
          },
          "metadata": {}
        },
        {
          "output_type": "display_data",
          "data": {
            "text/plain": [
              "<IPython.core.display.HTML object>"
            ],
            "text/html": [
              "Find logs at: <code>./wandb/run-20220331_234926-l95bx1by/logs</code>"
            ]
          },
          "metadata": {}
        },
        {
          "output_type": "display_data",
          "data": {
            "text/plain": [
              "<IPython.core.display.HTML object>"
            ],
            "text/html": [
              "Successfully finished last run (ID:l95bx1by). Initializing new run:<br/>"
            ]
          },
          "metadata": {}
        },
        {
          "output_type": "display_data",
          "data": {
            "text/plain": [
              "<IPython.core.display.HTML object>"
            ],
            "text/html": [
              "Tracking run with wandb version 0.12.11"
            ]
          },
          "metadata": {}
        },
        {
          "output_type": "display_data",
          "data": {
            "text/plain": [
              "<IPython.core.display.HTML object>"
            ],
            "text/html": [
              "Run data is saved locally in <code>/content/inaturalist_12K/train/Amphibia/wandb/run-20220331_234935-l95bx1by</code>"
            ]
          },
          "metadata": {}
        },
        {
          "output_type": "display_data",
          "data": {
            "text/plain": [
              "<IPython.core.display.HTML object>"
            ],
            "text/html": [
              "Syncing run <strong><a href=\"https://wandb.ai/hithesh-sidhesh/Assignment_2/runs/l95bx1by\" target=\"_blank\">Part B</a></strong> to <a href=\"https://wandb.ai/hithesh-sidhesh/Assignment_2\" target=\"_blank\">Weights & Biases</a> (<a href=\"https://wandb.me/run\" target=\"_blank\">docs</a>)<br/>Sweep page:  <a href=\"https://wandb.ai/hithesh-sidhesh/Assignment_2/sweeps/zm216czw\" target=\"_blank\">https://wandb.ai/hithesh-sidhesh/Assignment_2/sweeps/zm216czw</a>"
            ]
          },
          "metadata": {}
        },
        {
          "output_type": "stream",
          "name": "stdout",
          "text": [
            "Augmenting data\n",
            "Found 9000 images belonging to 10 classes.\n",
            "TRAINING\n",
            "Number of samples 9000\n",
            "Names of classes {'Amphibia': 0, 'Animalia': 1, 'Arachnida': 2, 'Aves': 3, 'Fungi': 4, 'Insecta': 5, 'Mammalia': 6, 'Mollusca': 7, 'Plantae': 8, 'Reptilia': 9}\n",
            "Number of classes 10\n",
            "Number of samples per class 900\n",
            "Found 999 images belonging to 10 classes.\n",
            "VALIDATION\n",
            "Number of samples 999\n",
            "Names of classes {'Amphibia': 0, 'Animalia': 1, 'Arachnida': 2, 'Aves': 3, 'Fungi': 4, 'Insecta': 5, 'Mammalia': 6, 'Mollusca': 7, 'Plantae': 8, 'Reptilia': 9}\n",
            "Number of classes 10\n",
            "Number of samples per class 99\n",
            "Training last  30  layers\n",
            "Model: \"sequential\"\n",
            "_________________________________________________________________\n",
            " Layer (type)                Output Shape              Param #   \n",
            "=================================================================\n",
            " xception (Functional)       (None, 8, 8, 2048)        20861480  \n",
            "                                                                 \n",
            " global_average_pooling2d (G  (None, 2048)             0         \n",
            " lobalAveragePooling2D)                                          \n",
            "                                                                 \n",
            " dropout (Dropout)           (None, 2048)              0         \n",
            "                                                                 \n",
            " dense (Dense)               (None, 64)                131136    \n",
            "                                                                 \n",
            " dropout_1 (Dropout)         (None, 64)                0         \n",
            "                                                                 \n",
            " dense_1 (Dense)             (None, 10)                650       \n",
            "                                                                 \n",
            "=================================================================\n",
            "Total params: 20,993,266\n",
            "Trainable params: 9,072,138\n",
            "Non-trainable params: 11,921,128\n",
            "_________________________________________________________________\n",
            "Epoch 1/5\n",
            "35/35 [==============================] - 255s 7s/step - loss: 1.7485 - accuracy: 0.4777 - val_loss: 1.0662 - val_accuracy: 0.6536\n",
            "Epoch 2/5\n",
            "35/35 [==============================] - 236s 7s/step - loss: 0.9677 - accuracy: 0.6942 - val_loss: 0.8854 - val_accuracy: 0.7083\n",
            "Epoch 3/5\n",
            "35/35 [==============================] - 223s 7s/step - loss: 0.8105 - accuracy: 0.7334 - val_loss: 0.8920 - val_accuracy: 0.6966\n",
            "Epoch 4/5\n",
            "35/35 [==============================] - 216s 6s/step - loss: 0.7269 - accuracy: 0.7564 - val_loss: 0.8288 - val_accuracy: 0.7279\n",
            "Epoch 5/5\n",
            "35/35 [==============================] - 217s 6s/step - loss: 0.6554 - accuracy: 0.7829 - val_loss: 0.8191 - val_accuracy: 0.7474\n",
            "{'Training_loss': 1.7485461235046387, 'Validation_loss': 1.0661758184432983, 'Training_accuracy': 0.7829368710517883, 'Validation_accuracy': 0.7473958134651184, '_timestamp': 1648771737, '_runtime': 1157}\n",
            "Found 2000 images belonging to 10 classes.\n",
            "7/7 - 22s - loss: 0.6173 - accuracy: 0.8136 - 22s/epoch - 3s/step\n",
            "Test accuracy : 0.8136160969734192\n"
          ]
        }
      ]
    },
    {
      "cell_type": "markdown",
      "source": [
        "2. Sweep for InceptionV3 model\n",
        "\n"
      ],
      "metadata": {
        "id": "vEuhdSNzuprJ"
      }
    },
    {
      "cell_type": "code",
      "source": [
        "sweep_config = {\n",
        "    'method': 'bayes',\n",
        "    'metric': {\n",
        "      'name': 'val_accuracy',\n",
        "      'goal': 'maximize'   \n",
        "    },\n",
        "    'parameters': {\n",
        "        'model':{\n",
        "            'values':['InceptionV3']\n",
        "        },\n",
        "        'dense_layers': {\n",
        "            'values': [[256], [128], [64]]\n",
        "        },\n",
        "        'layers_unfreeze':{\n",
        "            'values': [None, 20, 30]       \n",
        "        },\n",
        "        'dropout': {\n",
        "            'values':[0, 0.2, 0.3]\n",
        "        },\n",
        "        'augment_data': {\n",
        "            'values': ['yes', 'no']\n",
        "        },\n",
        "        'batch_size' : {\n",
        "            'values' : [128, 64, 256]\n",
        "        },\n",
        "        'epochs' : {\n",
        "            'values' : [5,10]\n",
        "        }\n",
        "\n",
        "    }\n",
        "}"
      ],
      "metadata": {
        "id": "KQYVbtY-R8Q1"
      },
      "execution_count": null,
      "outputs": []
    },
    {
      "cell_type": "code",
      "source": [
        "sweep_id = wandb.sweep(sweep_config,project=\"Assignment_2\", entity=\"hithesh-sidhesh\" )"
      ],
      "metadata": {
        "colab": {
          "base_uri": "https://localhost:8080/"
        },
        "outputId": "85488fd5-0056-41be-b06c-bd58d0b6cc9f",
        "id": "S0keABQhR8Q3"
      },
      "execution_count": null,
      "outputs": [
        {
          "output_type": "stream",
          "name": "stdout",
          "text": [
            "Create sweep with ID: 1m08gyq0\n",
            "Sweep URL: https://wandb.ai/hithesh-sidhesh/Assignment_2/sweeps/1m08gyq0\n"
          ]
        }
      ]
    },
    {
      "cell_type": "code",
      "source": [
        "#################################\n",
        "# Setting up wandb sweeps\n",
        "#################################\n",
        "wandb.agent(sweep_id, train, count = 15)\n"
      ],
      "metadata": {
        "colab": {
          "base_uri": "https://localhost:8080/",
          "height": 1000,
          "referenced_widgets": [
            "e18dfeb4fe984b13be39d4b7aaac9799",
            "eee92a38de724b808686d69646b4b94d",
            "411b417dbcc54044bb909f0717984f7d",
            "254a2af5228e4398926610b923c3bad6",
            "b99087bda3634802a58821fa01eb45c4",
            "4e4ce05a9807477cab65692abe36ec75",
            "813f62dd7fa5439785b40fbff502037b",
            "60c557a5ad5d495f9019f71ef1b5e63d",
            "6a3df05fc0a04e5b91934c39c686fd8e",
            "4eca29a6bb7a43c1a4a856d72ccd5699",
            "f8bd073a0c0c46d4a6a9489d222954e1",
            "6e3b8e06a6d44f568c23587818b4a897",
            "09fdfc4ec1764a7db744c03202543947",
            "c042ae354a0c4824952368b456eebc4f",
            "ea5a0f35d03546d088a812ea9b7c0eb3",
            "5a64fc169d45425f9b5d8a09b8cb1811",
            "47a2bda3312548909b8554c985eb74ec",
            "0f714e6843744fbfac4624f3804b5934",
            "c4297a3418044117a512b689542d8f5c",
            "ca12aaa16aab41a9b44cc7f79ddb8416",
            "c7482a9ded624aabbe56443205b23f93",
            "40c9397916124a6a9e53398705e04926",
            "882ad67bd32c499294211dfa7807f89b",
            "0159c33e5d594dd8ac9660e28156087e",
            "2604022f24ce449d94fb704c70112e27",
            "39553ca60d8c48aeaecb5f607ac9aea0",
            "27cf1fa21d1246a0bec9508d3636614a",
            "a040a8e0096f47c5a5d9b6991cf2393a",
            "5eaf8a2f51904be4b22537a7e1110fc8",
            "8ea8110d3824400995bd6d5027a55ee0",
            "6c8e7a8d742640c38cee9235d1be36c1",
            "659879563b724b3b963f299f3cf34c1e",
            "f721ed3233df44f19718f3899dde0550",
            "6afae3bade7e4ebd8a8562ab209e7289",
            "998439e8ed4a4779b087256fa222d6f9",
            "78f6eea96289494596e77ef655a01c8c",
            "81ff4d08acec4935b6fbf3519d5094d9",
            "6537e1838380432b8a8e1f69cddf8c82",
            "85e82756628c4663915b0460d7d3035c",
            "9ecd92f78b8b40538cb241e9257389dc"
          ]
        },
        "outputId": "ea977b33-fdd2-4146-c6b0-564f6e00946a",
        "id": "s1WmZgDuR8Q5"
      },
      "execution_count": null,
      "outputs": [
        {
          "output_type": "stream",
          "name": "stderr",
          "text": [
            "\u001b[34m\u001b[1mwandb\u001b[0m: Agent Starting Run: llj5ch8w with config:\n",
            "\u001b[34m\u001b[1mwandb\u001b[0m: \taugment_data: no\n",
            "\u001b[34m\u001b[1mwandb\u001b[0m: \tbatch_size: 128\n",
            "\u001b[34m\u001b[1mwandb\u001b[0m: \tdense_layers: [64]\n",
            "\u001b[34m\u001b[1mwandb\u001b[0m: \tdropout: 0.3\n",
            "\u001b[34m\u001b[1mwandb\u001b[0m: \tepochs: 5\n",
            "\u001b[34m\u001b[1mwandb\u001b[0m: \tlayers_unfreeze: 20\n",
            "\u001b[34m\u001b[1mwandb\u001b[0m: \tmodel: InceptionV3\n",
            "\u001b[34m\u001b[1mwandb\u001b[0m: \u001b[33mWARNING\u001b[0m Ignored wandb.init() arg project when running a sweep.\n"
          ]
        },
        {
          "output_type": "display_data",
          "data": {
            "text/plain": [
              "<IPython.core.display.HTML object>"
            ],
            "text/html": [
              "Tracking run with wandb version 0.12.11"
            ]
          },
          "metadata": {}
        },
        {
          "output_type": "display_data",
          "data": {
            "text/plain": [
              "<IPython.core.display.HTML object>"
            ],
            "text/html": [
              "Run data is saved locally in <code>/content/inaturalist_12K/train/Amphibia/wandb/run-20220401_074753-llj5ch8w</code>"
            ]
          },
          "metadata": {}
        },
        {
          "output_type": "display_data",
          "data": {
            "text/plain": [
              "<IPython.core.display.HTML object>"
            ],
            "text/html": [
              "Syncing run <strong><a href=\"https://wandb.ai/hithesh-sidhesh/Assignment_2/runs/llj5ch8w\" target=\"_blank\">Part B</a></strong> to <a href=\"https://wandb.ai/hithesh-sidhesh/Assignment_2\" target=\"_blank\">Weights & Biases</a> (<a href=\"https://wandb.me/run\" target=\"_blank\">docs</a>)<br/>Sweep page:  <a href=\"https://wandb.ai/hithesh-sidhesh/Assignment_2/sweeps/5a6m5gze\" target=\"_blank\">https://wandb.ai/hithesh-sidhesh/Assignment_2/sweeps/5a6m5gze</a>"
            ]
          },
          "metadata": {}
        },
        {
          "output_type": "display_data",
          "data": {
            "text/plain": [
              "<IPython.core.display.HTML object>"
            ],
            "text/html": [
              "Finishing last run (ID:llj5ch8w) before initializing another..."
            ]
          },
          "metadata": {}
        },
        {
          "output_type": "stream",
          "name": "stdout",
          "text": [
            "\n"
          ]
        },
        {
          "output_type": "display_data",
          "data": {
            "text/plain": [
              "<IPython.core.display.HTML object>"
            ],
            "text/html": [
              "Waiting for W&B process to finish... <strong style=\"color:green\">(success).</strong>"
            ]
          },
          "metadata": {}
        },
        {
          "output_type": "display_data",
          "data": {
            "text/plain": [
              "VBox(children=(Label(value='0.001 MB of 0.001 MB uploaded (0.000 MB deduped)\\r'), FloatProgress(value=1.0, max…"
            ],
            "application/vnd.jupyter.widget-view+json": {
              "version_major": 2,
              "version_minor": 0,
              "model_id": "e18dfeb4fe984b13be39d4b7aaac9799"
            }
          },
          "metadata": {}
        },
        {
          "output_type": "display_data",
          "data": {
            "text/plain": [
              "<IPython.core.display.HTML object>"
            ],
            "text/html": [
              "Synced <strong style=\"color:#cdcd00\">Part B</strong>: <a href=\"https://wandb.ai/hithesh-sidhesh/Assignment_2/runs/llj5ch8w\" target=\"_blank\">https://wandb.ai/hithesh-sidhesh/Assignment_2/runs/llj5ch8w</a><br/>Synced 4 W&B file(s), 0 media file(s), 0 artifact file(s) and 0 other file(s)"
            ]
          },
          "metadata": {}
        },
        {
          "output_type": "display_data",
          "data": {
            "text/plain": [
              "<IPython.core.display.HTML object>"
            ],
            "text/html": [
              "Find logs at: <code>./wandb/run-20220401_074753-llj5ch8w/logs</code>"
            ]
          },
          "metadata": {}
        },
        {
          "output_type": "display_data",
          "data": {
            "text/plain": [
              "<IPython.core.display.HTML object>"
            ],
            "text/html": [
              "Successfully finished last run (ID:llj5ch8w). Initializing new run:<br/>"
            ]
          },
          "metadata": {}
        },
        {
          "output_type": "display_data",
          "data": {
            "text/plain": [
              "<IPython.core.display.HTML object>"
            ],
            "text/html": [
              "Tracking run with wandb version 0.12.11"
            ]
          },
          "metadata": {}
        },
        {
          "output_type": "display_data",
          "data": {
            "text/plain": [
              "<IPython.core.display.HTML object>"
            ],
            "text/html": [
              "Run data is saved locally in <code>/content/inaturalist_12K/train/Amphibia/wandb/run-20220401_074801-llj5ch8w</code>"
            ]
          },
          "metadata": {}
        },
        {
          "output_type": "display_data",
          "data": {
            "text/plain": [
              "<IPython.core.display.HTML object>"
            ],
            "text/html": [
              "Syncing run <strong><a href=\"https://wandb.ai/hithesh-sidhesh/Assignment_2/runs/llj5ch8w\" target=\"_blank\">Part B</a></strong> to <a href=\"https://wandb.ai/hithesh-sidhesh/Assignment_2\" target=\"_blank\">Weights & Biases</a> (<a href=\"https://wandb.me/run\" target=\"_blank\">docs</a>)<br/>Sweep page:  <a href=\"https://wandb.ai/hithesh-sidhesh/Assignment_2/sweeps/5a6m5gze\" target=\"_blank\">https://wandb.ai/hithesh-sidhesh/Assignment_2/sweeps/5a6m5gze</a>"
            ]
          },
          "metadata": {}
        },
        {
          "output_type": "stream",
          "name": "stdout",
          "text": [
            "Not augmenting data\n",
            "Found 9000 images belonging to 10 classes.\n",
            "TRAINING\n",
            "Number of samples 9000\n",
            "Names of classes {'Amphibia': 0, 'Animalia': 1, 'Arachnida': 2, 'Aves': 3, 'Fungi': 4, 'Insecta': 5, 'Mammalia': 6, 'Mollusca': 7, 'Plantae': 8, 'Reptilia': 9}\n",
            "Number of classes 10\n",
            "Number of samples per class 900\n",
            "Found 999 images belonging to 10 classes.\n",
            "VALIDATION\n",
            "Number of samples 999\n",
            "Names of classes {'Amphibia': 0, 'Animalia': 1, 'Arachnida': 2, 'Aves': 3, 'Fungi': 4, 'Insecta': 5, 'Mammalia': 6, 'Mollusca': 7, 'Plantae': 8, 'Reptilia': 9}\n",
            "Number of classes 10\n",
            "Number of samples per class 99\n",
            "Downloading data from https://storage.googleapis.com/tensorflow/keras-applications/inception_v3/inception_v3_weights_tf_dim_ordering_tf_kernels_notop.h5\n",
            "87916544/87910968 [==============================] - 1s 0us/step\n",
            "87924736/87910968 [==============================] - 1s 0us/step\n",
            "Training last  20  layers\n",
            "Model: \"sequential\"\n",
            "_________________________________________________________________\n",
            " Layer (type)                Output Shape              Param #   \n",
            "=================================================================\n",
            " inception_v3 (Functional)   (None, 6, 6, 2048)        21802784  \n",
            "                                                                 \n",
            " global_average_pooling2d (G  (None, 2048)             0         \n",
            " lobalAveragePooling2D)                                          \n",
            "                                                                 \n",
            " dropout (Dropout)           (None, 2048)              0         \n",
            "                                                                 \n",
            " dense (Dense)               (None, 64)                131136    \n",
            "                                                                 \n",
            " dropout_1 (Dropout)         (None, 64)                0         \n",
            "                                                                 \n",
            " dense_1 (Dense)             (None, 10)                650       \n",
            "                                                                 \n",
            "=================================================================\n",
            "Total params: 21,934,570\n",
            "Trainable params: 2,067,146\n",
            "Non-trainable params: 19,867,424\n",
            "_________________________________________________________________\n",
            "Epoch 1/5\n",
            "70/70 [==============================] - 125s 2s/step - loss: 1.4346 - accuracy: 0.5441 - val_loss: 0.7806 - val_accuracy: 0.7589\n",
            "Epoch 2/5\n",
            "70/70 [==============================] - 114s 2s/step - loss: 0.8610 - accuracy: 0.7346 - val_loss: 0.6972 - val_accuracy: 0.7790\n",
            "Epoch 3/5\n",
            "70/70 [==============================] - 119s 2s/step - loss: 0.7376 - accuracy: 0.7660 - val_loss: 0.6743 - val_accuracy: 0.7824\n",
            "Epoch 4/5\n",
            "70/70 [==============================] - 106s 2s/step - loss: 0.6665 - accuracy: 0.7885 - val_loss: 0.6589 - val_accuracy: 0.7824\n",
            "Epoch 5/5\n",
            "70/70 [==============================] - 104s 2s/step - loss: 0.6052 - accuracy: 0.8040 - val_loss: 0.6406 - val_accuracy: 0.7946\n",
            "{'Training_loss': 1.4345940351486206, 'Validation_loss': 0.7806367874145508, 'Training_accuracy': 0.8039900660514832, 'Validation_accuracy': 0.7946428656578064, '_timestamp': 1648799868, '_runtime': 582}\n",
            "Found 2000 images belonging to 10 classes.\n",
            "15/15 - 23s - loss: 0.6197 - accuracy: 0.7990 - 23s/epoch - 2s/step\n",
            "Test accuracy : 0.7989583611488342\n"
          ]
        },
        {
          "output_type": "stream",
          "name": "stderr",
          "text": [
            "\u001b[34m\u001b[1mwandb\u001b[0m: Sweep Agent: Waiting for job.\n",
            "\u001b[34m\u001b[1mwandb\u001b[0m: Job received.\n",
            "\u001b[34m\u001b[1mwandb\u001b[0m: Agent Starting Run: scfokqza with config:\n",
            "\u001b[34m\u001b[1mwandb\u001b[0m: \taugment_data: yes\n",
            "\u001b[34m\u001b[1mwandb\u001b[0m: \tbatch_size: 64\n",
            "\u001b[34m\u001b[1mwandb\u001b[0m: \tdense_layers: [64]\n",
            "\u001b[34m\u001b[1mwandb\u001b[0m: \tdropout: 0.2\n",
            "\u001b[34m\u001b[1mwandb\u001b[0m: \tepochs: 5\n",
            "\u001b[34m\u001b[1mwandb\u001b[0m: \tlayers_unfreeze: 30\n",
            "\u001b[34m\u001b[1mwandb\u001b[0m: \tmodel: InceptionV3\n",
            "\u001b[34m\u001b[1mwandb\u001b[0m: \u001b[33mWARNING\u001b[0m Ignored wandb.init() arg project when running a sweep.\n"
          ]
        },
        {
          "output_type": "display_data",
          "data": {
            "text/plain": [
              "<IPython.core.display.HTML object>"
            ],
            "text/html": [
              "Tracking run with wandb version 0.12.11"
            ]
          },
          "metadata": {}
        },
        {
          "output_type": "display_data",
          "data": {
            "text/plain": [
              "<IPython.core.display.HTML object>"
            ],
            "text/html": [
              "Run data is saved locally in <code>/content/inaturalist_12K/train/Amphibia/wandb/run-20220401_075827-scfokqza</code>"
            ]
          },
          "metadata": {}
        },
        {
          "output_type": "display_data",
          "data": {
            "text/plain": [
              "<IPython.core.display.HTML object>"
            ],
            "text/html": [
              "Syncing run <strong><a href=\"https://wandb.ai/hithesh-sidhesh/Assignment_2/runs/scfokqza\" target=\"_blank\">Part B</a></strong> to <a href=\"https://wandb.ai/hithesh-sidhesh/Assignment_2\" target=\"_blank\">Weights & Biases</a> (<a href=\"https://wandb.me/run\" target=\"_blank\">docs</a>)<br/>Sweep page:  <a href=\"https://wandb.ai/hithesh-sidhesh/Assignment_2/sweeps/5a6m5gze\" target=\"_blank\">https://wandb.ai/hithesh-sidhesh/Assignment_2/sweeps/5a6m5gze</a>"
            ]
          },
          "metadata": {}
        },
        {
          "output_type": "display_data",
          "data": {
            "text/plain": [
              "<IPython.core.display.HTML object>"
            ],
            "text/html": [
              "Finishing last run (ID:scfokqza) before initializing another..."
            ]
          },
          "metadata": {}
        },
        {
          "output_type": "stream",
          "name": "stdout",
          "text": [
            "\n"
          ]
        },
        {
          "output_type": "display_data",
          "data": {
            "text/plain": [
              "<IPython.core.display.HTML object>"
            ],
            "text/html": [
              "Waiting for W&B process to finish... <strong style=\"color:green\">(success).</strong>"
            ]
          },
          "metadata": {}
        },
        {
          "output_type": "display_data",
          "data": {
            "text/plain": [
              "VBox(children=(Label(value='0.001 MB of 0.001 MB uploaded (0.000 MB deduped)\\r'), FloatProgress(value=1.0, max…"
            ],
            "application/vnd.jupyter.widget-view+json": {
              "version_major": 2,
              "version_minor": 0,
              "model_id": "6a3df05fc0a04e5b91934c39c686fd8e"
            }
          },
          "metadata": {}
        },
        {
          "output_type": "display_data",
          "data": {
            "text/plain": [
              "<IPython.core.display.HTML object>"
            ],
            "text/html": [
              "Synced <strong style=\"color:#cdcd00\">Part B</strong>: <a href=\"https://wandb.ai/hithesh-sidhesh/Assignment_2/runs/scfokqza\" target=\"_blank\">https://wandb.ai/hithesh-sidhesh/Assignment_2/runs/scfokqza</a><br/>Synced 4 W&B file(s), 0 media file(s), 0 artifact file(s) and 0 other file(s)"
            ]
          },
          "metadata": {}
        },
        {
          "output_type": "display_data",
          "data": {
            "text/plain": [
              "<IPython.core.display.HTML object>"
            ],
            "text/html": [
              "Find logs at: <code>./wandb/run-20220401_075827-scfokqza/logs</code>"
            ]
          },
          "metadata": {}
        },
        {
          "output_type": "display_data",
          "data": {
            "text/plain": [
              "<IPython.core.display.HTML object>"
            ],
            "text/html": [
              "Successfully finished last run (ID:scfokqza). Initializing new run:<br/>"
            ]
          },
          "metadata": {}
        },
        {
          "output_type": "display_data",
          "data": {
            "text/plain": [
              "<IPython.core.display.HTML object>"
            ],
            "text/html": [
              "Tracking run with wandb version 0.12.11"
            ]
          },
          "metadata": {}
        },
        {
          "output_type": "display_data",
          "data": {
            "text/plain": [
              "<IPython.core.display.HTML object>"
            ],
            "text/html": [
              "Run data is saved locally in <code>/content/inaturalist_12K/train/Amphibia/wandb/run-20220401_075836-scfokqza</code>"
            ]
          },
          "metadata": {}
        },
        {
          "output_type": "display_data",
          "data": {
            "text/plain": [
              "<IPython.core.display.HTML object>"
            ],
            "text/html": [
              "Syncing run <strong><a href=\"https://wandb.ai/hithesh-sidhesh/Assignment_2/runs/scfokqza\" target=\"_blank\">Part B</a></strong> to <a href=\"https://wandb.ai/hithesh-sidhesh/Assignment_2\" target=\"_blank\">Weights & Biases</a> (<a href=\"https://wandb.me/run\" target=\"_blank\">docs</a>)<br/>Sweep page:  <a href=\"https://wandb.ai/hithesh-sidhesh/Assignment_2/sweeps/5a6m5gze\" target=\"_blank\">https://wandb.ai/hithesh-sidhesh/Assignment_2/sweeps/5a6m5gze</a>"
            ]
          },
          "metadata": {}
        },
        {
          "output_type": "stream",
          "name": "stdout",
          "text": [
            "Augmenting data\n",
            "Found 9000 images belonging to 10 classes.\n",
            "TRAINING\n",
            "Number of samples 9000\n",
            "Names of classes {'Amphibia': 0, 'Animalia': 1, 'Arachnida': 2, 'Aves': 3, 'Fungi': 4, 'Insecta': 5, 'Mammalia': 6, 'Mollusca': 7, 'Plantae': 8, 'Reptilia': 9}\n",
            "Number of classes 10\n",
            "Number of samples per class 900\n",
            "Found 999 images belonging to 10 classes.\n",
            "VALIDATION\n",
            "Number of samples 999\n",
            "Names of classes {'Amphibia': 0, 'Animalia': 1, 'Arachnida': 2, 'Aves': 3, 'Fungi': 4, 'Insecta': 5, 'Mammalia': 6, 'Mollusca': 7, 'Plantae': 8, 'Reptilia': 9}\n",
            "Number of classes 10\n",
            "Number of samples per class 99\n",
            "Training last  30  layers\n",
            "Model: \"sequential\"\n",
            "_________________________________________________________________\n",
            " Layer (type)                Output Shape              Param #   \n",
            "=================================================================\n",
            " inception_v3 (Functional)   (None, 6, 6, 2048)        21802784  \n",
            "                                                                 \n",
            " global_average_pooling2d (G  (None, 2048)             0         \n",
            " lobalAveragePooling2D)                                          \n",
            "                                                                 \n",
            " dropout (Dropout)           (None, 2048)              0         \n",
            "                                                                 \n",
            " dense (Dense)               (None, 64)                131136    \n",
            "                                                                 \n",
            " dropout_1 (Dropout)         (None, 64)                0         \n",
            "                                                                 \n",
            " dense_1 (Dense)             (None, 10)                650       \n",
            "                                                                 \n",
            "=================================================================\n",
            "Total params: 21,934,570\n",
            "Trainable params: 5,287,818\n",
            "Non-trainable params: 16,646,752\n",
            "_________________________________________________________________\n",
            "Epoch 1/5\n",
            "140/140 [==============================] - 252s 2s/step - loss: 1.2981 - accuracy: 0.5808 - val_loss: 0.9413 - val_accuracy: 0.7125\n",
            "Epoch 2/5\n",
            "140/140 [==============================] - 244s 2s/step - loss: 0.9238 - accuracy: 0.7003 - val_loss: 0.8418 - val_accuracy: 0.7260\n",
            "Epoch 3/5\n",
            "140/140 [==============================] - 242s 2s/step - loss: 0.8421 - accuracy: 0.7274 - val_loss: 0.8103 - val_accuracy: 0.7333\n",
            "Epoch 4/5\n",
            "140/140 [==============================] - 236s 2s/step - loss: 0.7768 - accuracy: 0.7432 - val_loss: 0.7572 - val_accuracy: 0.7510\n",
            "Epoch 5/5\n",
            "140/140 [==============================] - 219s 2s/step - loss: 0.7254 - accuracy: 0.7632 - val_loss: 0.7999 - val_accuracy: 0.7250\n",
            "{'Training_loss': 1.2981176376342773, 'Validation_loss': 0.9413411021232605, 'Training_accuracy': 0.7632049918174744, 'Validation_accuracy': 0.7510416507720947, '_timestamp': 1648801127, '_runtime': 1206}\n",
            "Found 2000 images belonging to 10 classes.\n",
            "31/31 - 23s - loss: 0.6125 - accuracy: 0.7944 - 23s/epoch - 728ms/step\n",
            "Test accuracy : 0.7943548560142517\n"
          ]
        },
        {
          "output_type": "stream",
          "name": "stderr",
          "text": [
            "\u001b[34m\u001b[1mwandb\u001b[0m: Agent Starting Run: gixz486v with config:\n",
            "\u001b[34m\u001b[1mwandb\u001b[0m: \taugment_data: no\n",
            "\u001b[34m\u001b[1mwandb\u001b[0m: \tbatch_size: 128\n",
            "\u001b[34m\u001b[1mwandb\u001b[0m: \tdense_layers: [256]\n",
            "\u001b[34m\u001b[1mwandb\u001b[0m: \tdropout: 0\n",
            "\u001b[34m\u001b[1mwandb\u001b[0m: \tepochs: 5\n",
            "\u001b[34m\u001b[1mwandb\u001b[0m: \tlayers_unfreeze: 30\n",
            "\u001b[34m\u001b[1mwandb\u001b[0m: \tmodel: InceptionV3\n",
            "\u001b[34m\u001b[1mwandb\u001b[0m: \u001b[33mWARNING\u001b[0m Ignored wandb.init() arg project when running a sweep.\n"
          ]
        },
        {
          "output_type": "display_data",
          "data": {
            "text/plain": [
              "<IPython.core.display.HTML object>"
            ],
            "text/html": [
              "Tracking run with wandb version 0.12.11"
            ]
          },
          "metadata": {}
        },
        {
          "output_type": "display_data",
          "data": {
            "text/plain": [
              "<IPython.core.display.HTML object>"
            ],
            "text/html": [
              "Run data is saved locally in <code>/content/inaturalist_12K/train/Amphibia/wandb/run-20220401_081916-gixz486v</code>"
            ]
          },
          "metadata": {}
        },
        {
          "output_type": "display_data",
          "data": {
            "text/plain": [
              "<IPython.core.display.HTML object>"
            ],
            "text/html": [
              "Syncing run <strong><a href=\"https://wandb.ai/hithesh-sidhesh/Assignment_2/runs/gixz486v\" target=\"_blank\">Part B</a></strong> to <a href=\"https://wandb.ai/hithesh-sidhesh/Assignment_2\" target=\"_blank\">Weights & Biases</a> (<a href=\"https://wandb.me/run\" target=\"_blank\">docs</a>)<br/>Sweep page:  <a href=\"https://wandb.ai/hithesh-sidhesh/Assignment_2/sweeps/5a6m5gze\" target=\"_blank\">https://wandb.ai/hithesh-sidhesh/Assignment_2/sweeps/5a6m5gze</a>"
            ]
          },
          "metadata": {}
        },
        {
          "output_type": "display_data",
          "data": {
            "text/plain": [
              "<IPython.core.display.HTML object>"
            ],
            "text/html": [
              "Finishing last run (ID:gixz486v) before initializing another..."
            ]
          },
          "metadata": {}
        },
        {
          "output_type": "stream",
          "name": "stdout",
          "text": [
            "\n"
          ]
        },
        {
          "output_type": "display_data",
          "data": {
            "text/plain": [
              "<IPython.core.display.HTML object>"
            ],
            "text/html": [
              "Waiting for W&B process to finish... <strong style=\"color:green\">(success).</strong>"
            ]
          },
          "metadata": {}
        },
        {
          "output_type": "display_data",
          "data": {
            "text/plain": [
              "VBox(children=(Label(value='0.001 MB of 0.001 MB uploaded (0.000 MB deduped)\\r'), FloatProgress(value=1.0, max…"
            ],
            "application/vnd.jupyter.widget-view+json": {
              "version_major": 2,
              "version_minor": 0,
              "model_id": "47a2bda3312548909b8554c985eb74ec"
            }
          },
          "metadata": {}
        },
        {
          "output_type": "display_data",
          "data": {
            "text/plain": [
              "<IPython.core.display.HTML object>"
            ],
            "text/html": [
              "Synced <strong style=\"color:#cdcd00\">Part B</strong>: <a href=\"https://wandb.ai/hithesh-sidhesh/Assignment_2/runs/gixz486v\" target=\"_blank\">https://wandb.ai/hithesh-sidhesh/Assignment_2/runs/gixz486v</a><br/>Synced 4 W&B file(s), 0 media file(s), 0 artifact file(s) and 0 other file(s)"
            ]
          },
          "metadata": {}
        },
        {
          "output_type": "display_data",
          "data": {
            "text/plain": [
              "<IPython.core.display.HTML object>"
            ],
            "text/html": [
              "Find logs at: <code>./wandb/run-20220401_081916-gixz486v/logs</code>"
            ]
          },
          "metadata": {}
        },
        {
          "output_type": "display_data",
          "data": {
            "text/plain": [
              "<IPython.core.display.HTML object>"
            ],
            "text/html": [
              "Successfully finished last run (ID:gixz486v). Initializing new run:<br/>"
            ]
          },
          "metadata": {}
        },
        {
          "output_type": "display_data",
          "data": {
            "text/plain": [
              "<IPython.core.display.HTML object>"
            ],
            "text/html": [
              "Tracking run with wandb version 0.12.11"
            ]
          },
          "metadata": {}
        },
        {
          "output_type": "display_data",
          "data": {
            "text/plain": [
              "<IPython.core.display.HTML object>"
            ],
            "text/html": [
              "Run data is saved locally in <code>/content/inaturalist_12K/train/Amphibia/wandb/run-20220401_081925-gixz486v</code>"
            ]
          },
          "metadata": {}
        },
        {
          "output_type": "display_data",
          "data": {
            "text/plain": [
              "<IPython.core.display.HTML object>"
            ],
            "text/html": [
              "Syncing run <strong><a href=\"https://wandb.ai/hithesh-sidhesh/Assignment_2/runs/gixz486v\" target=\"_blank\">Part B</a></strong> to <a href=\"https://wandb.ai/hithesh-sidhesh/Assignment_2\" target=\"_blank\">Weights & Biases</a> (<a href=\"https://wandb.me/run\" target=\"_blank\">docs</a>)<br/>Sweep page:  <a href=\"https://wandb.ai/hithesh-sidhesh/Assignment_2/sweeps/5a6m5gze\" target=\"_blank\">https://wandb.ai/hithesh-sidhesh/Assignment_2/sweeps/5a6m5gze</a>"
            ]
          },
          "metadata": {}
        },
        {
          "output_type": "stream",
          "name": "stdout",
          "text": [
            "Not augmenting data\n",
            "Found 9000 images belonging to 10 classes.\n",
            "TRAINING\n",
            "Number of samples 9000\n",
            "Names of classes {'Amphibia': 0, 'Animalia': 1, 'Arachnida': 2, 'Aves': 3, 'Fungi': 4, 'Insecta': 5, 'Mammalia': 6, 'Mollusca': 7, 'Plantae': 8, 'Reptilia': 9}\n",
            "Number of classes 10\n",
            "Number of samples per class 900\n",
            "Found 999 images belonging to 10 classes.\n",
            "VALIDATION\n",
            "Number of samples 999\n",
            "Names of classes {'Amphibia': 0, 'Animalia': 1, 'Arachnida': 2, 'Aves': 3, 'Fungi': 4, 'Insecta': 5, 'Mammalia': 6, 'Mollusca': 7, 'Plantae': 8, 'Reptilia': 9}\n",
            "Number of classes 10\n",
            "Number of samples per class 99\n",
            "Training last  30  layers\n",
            "Model: \"sequential\"\n",
            "_________________________________________________________________\n",
            " Layer (type)                Output Shape              Param #   \n",
            "=================================================================\n",
            " inception_v3 (Functional)   (None, 6, 6, 2048)        21802784  \n",
            "                                                                 \n",
            " global_average_pooling2d (G  (None, 2048)             0         \n",
            " lobalAveragePooling2D)                                          \n",
            "                                                                 \n",
            " dropout (Dropout)           (None, 2048)              0         \n",
            "                                                                 \n",
            " dense (Dense)               (None, 256)               524544    \n",
            "                                                                 \n",
            " dropout_1 (Dropout)         (None, 256)               0         \n",
            "                                                                 \n",
            " dense_1 (Dense)             (None, 10)                2570      \n",
            "                                                                 \n",
            "=================================================================\n",
            "Total params: 22,329,898\n",
            "Trainable params: 5,683,146\n",
            "Non-trainable params: 16,646,752\n",
            "_________________________________________________________________\n",
            "Epoch 1/5\n",
            "70/70 [==============================] - 123s 2s/step - loss: 0.9590 - accuracy: 0.7094 - val_loss: 0.6920 - val_accuracy: 0.7812\n",
            "Epoch 2/5\n",
            "70/70 [==============================] - 114s 2s/step - loss: 0.4792 - accuracy: 0.8482 - val_loss: 0.6600 - val_accuracy: 0.7757\n",
            "Epoch 3/5\n",
            "70/70 [==============================] - 118s 2s/step - loss: 0.3057 - accuracy: 0.9108 - val_loss: 0.6063 - val_accuracy: 0.7980\n",
            "Epoch 4/5\n",
            "70/70 [==============================] - 105s 2s/step - loss: 0.1788 - accuracy: 0.9590 - val_loss: 0.6295 - val_accuracy: 0.7980\n",
            "Epoch 5/5\n",
            "70/70 [==============================] - 104s 2s/step - loss: 0.0978 - accuracy: 0.9843 - val_loss: 0.6484 - val_accuracy: 0.8047\n",
            "{'Training_loss': 0.9589667320251465, 'Validation_loss': 0.6920069456100464, 'Training_accuracy': 0.9843327403068542, 'Validation_accuracy': 0.8046875, '_timestamp': 1648801747, '_runtime': 577}\n",
            "Found 2000 images belonging to 10 classes.\n",
            "15/15 - 22s - loss: 0.6422 - accuracy: 0.8062 - 22s/epoch - 1s/step\n",
            "Test accuracy : 0.8062499761581421\n"
          ]
        },
        {
          "output_type": "stream",
          "name": "stderr",
          "text": [
            "\u001b[34m\u001b[1mwandb\u001b[0m: Agent Starting Run: tcs3qgtv with config:\n",
            "\u001b[34m\u001b[1mwandb\u001b[0m: \taugment_data: yes\n",
            "\u001b[34m\u001b[1mwandb\u001b[0m: \tbatch_size: 128\n",
            "\u001b[34m\u001b[1mwandb\u001b[0m: \tdense_layers: [64]\n",
            "\u001b[34m\u001b[1mwandb\u001b[0m: \tdropout: 0.2\n",
            "\u001b[34m\u001b[1mwandb\u001b[0m: \tepochs: 5\n",
            "\u001b[34m\u001b[1mwandb\u001b[0m: \tlayers_unfreeze: 20\n",
            "\u001b[34m\u001b[1mwandb\u001b[0m: \tmodel: InceptionV3\n",
            "\u001b[34m\u001b[1mwandb\u001b[0m: \u001b[33mWARNING\u001b[0m Ignored wandb.init() arg project when running a sweep.\n"
          ]
        },
        {
          "output_type": "display_data",
          "data": {
            "text/plain": [
              "<IPython.core.display.HTML object>"
            ],
            "text/html": [
              "Tracking run with wandb version 0.12.11"
            ]
          },
          "metadata": {}
        },
        {
          "output_type": "display_data",
          "data": {
            "text/plain": [
              "<IPython.core.display.HTML object>"
            ],
            "text/html": [
              "Run data is saved locally in <code>/content/inaturalist_12K/train/Amphibia/wandb/run-20220401_082959-tcs3qgtv</code>"
            ]
          },
          "metadata": {}
        },
        {
          "output_type": "display_data",
          "data": {
            "text/plain": [
              "<IPython.core.display.HTML object>"
            ],
            "text/html": [
              "Syncing run <strong><a href=\"https://wandb.ai/hithesh-sidhesh/Assignment_2/runs/tcs3qgtv\" target=\"_blank\">Part B</a></strong> to <a href=\"https://wandb.ai/hithesh-sidhesh/Assignment_2\" target=\"_blank\">Weights & Biases</a> (<a href=\"https://wandb.me/run\" target=\"_blank\">docs</a>)<br/>Sweep page:  <a href=\"https://wandb.ai/hithesh-sidhesh/Assignment_2/sweeps/5a6m5gze\" target=\"_blank\">https://wandb.ai/hithesh-sidhesh/Assignment_2/sweeps/5a6m5gze</a>"
            ]
          },
          "metadata": {}
        },
        {
          "output_type": "display_data",
          "data": {
            "text/plain": [
              "<IPython.core.display.HTML object>"
            ],
            "text/html": [
              "Finishing last run (ID:tcs3qgtv) before initializing another..."
            ]
          },
          "metadata": {}
        },
        {
          "output_type": "stream",
          "name": "stdout",
          "text": [
            "\n"
          ]
        },
        {
          "output_type": "display_data",
          "data": {
            "text/plain": [
              "<IPython.core.display.HTML object>"
            ],
            "text/html": [
              "Waiting for W&B process to finish... <strong style=\"color:green\">(success).</strong>"
            ]
          },
          "metadata": {}
        },
        {
          "output_type": "display_data",
          "data": {
            "text/plain": [
              "VBox(children=(Label(value='0.001 MB of 0.001 MB uploaded (0.000 MB deduped)\\r'), FloatProgress(value=1.0, max…"
            ],
            "application/vnd.jupyter.widget-view+json": {
              "version_major": 2,
              "version_minor": 0,
              "model_id": "2604022f24ce449d94fb704c70112e27"
            }
          },
          "metadata": {}
        },
        {
          "output_type": "display_data",
          "data": {
            "text/plain": [
              "<IPython.core.display.HTML object>"
            ],
            "text/html": [
              "Synced <strong style=\"color:#cdcd00\">Part B</strong>: <a href=\"https://wandb.ai/hithesh-sidhesh/Assignment_2/runs/tcs3qgtv\" target=\"_blank\">https://wandb.ai/hithesh-sidhesh/Assignment_2/runs/tcs3qgtv</a><br/>Synced 4 W&B file(s), 0 media file(s), 0 artifact file(s) and 0 other file(s)"
            ]
          },
          "metadata": {}
        },
        {
          "output_type": "display_data",
          "data": {
            "text/plain": [
              "<IPython.core.display.HTML object>"
            ],
            "text/html": [
              "Find logs at: <code>./wandb/run-20220401_082959-tcs3qgtv/logs</code>"
            ]
          },
          "metadata": {}
        },
        {
          "output_type": "display_data",
          "data": {
            "text/plain": [
              "<IPython.core.display.HTML object>"
            ],
            "text/html": [
              "Successfully finished last run (ID:tcs3qgtv). Initializing new run:<br/>"
            ]
          },
          "metadata": {}
        },
        {
          "output_type": "display_data",
          "data": {
            "text/plain": [
              "<IPython.core.display.HTML object>"
            ],
            "text/html": [
              "Tracking run with wandb version 0.12.11"
            ]
          },
          "metadata": {}
        },
        {
          "output_type": "display_data",
          "data": {
            "text/plain": [
              "<IPython.core.display.HTML object>"
            ],
            "text/html": [
              "Run data is saved locally in <code>/content/inaturalist_12K/train/Amphibia/wandb/run-20220401_083008-tcs3qgtv</code>"
            ]
          },
          "metadata": {}
        },
        {
          "output_type": "display_data",
          "data": {
            "text/plain": [
              "<IPython.core.display.HTML object>"
            ],
            "text/html": [
              "Syncing run <strong><a href=\"https://wandb.ai/hithesh-sidhesh/Assignment_2/runs/tcs3qgtv\" target=\"_blank\">Part B</a></strong> to <a href=\"https://wandb.ai/hithesh-sidhesh/Assignment_2\" target=\"_blank\">Weights & Biases</a> (<a href=\"https://wandb.me/run\" target=\"_blank\">docs</a>)<br/>Sweep page:  <a href=\"https://wandb.ai/hithesh-sidhesh/Assignment_2/sweeps/5a6m5gze\" target=\"_blank\">https://wandb.ai/hithesh-sidhesh/Assignment_2/sweeps/5a6m5gze</a>"
            ]
          },
          "metadata": {}
        },
        {
          "output_type": "stream",
          "name": "stdout",
          "text": [
            "Augmenting data\n",
            "Found 9000 images belonging to 10 classes.\n",
            "TRAINING\n",
            "Number of samples 9000\n",
            "Names of classes {'Amphibia': 0, 'Animalia': 1, 'Arachnida': 2, 'Aves': 3, 'Fungi': 4, 'Insecta': 5, 'Mammalia': 6, 'Mollusca': 7, 'Plantae': 8, 'Reptilia': 9}\n",
            "Number of classes 10\n",
            "Number of samples per class 900\n",
            "Found 999 images belonging to 10 classes.\n",
            "VALIDATION\n",
            "Number of samples 999\n",
            "Names of classes {'Amphibia': 0, 'Animalia': 1, 'Arachnida': 2, 'Aves': 3, 'Fungi': 4, 'Insecta': 5, 'Mammalia': 6, 'Mollusca': 7, 'Plantae': 8, 'Reptilia': 9}\n",
            "Number of classes 10\n",
            "Number of samples per class 99\n",
            "Training last  20  layers\n",
            "Model: \"sequential\"\n",
            "_________________________________________________________________\n",
            " Layer (type)                Output Shape              Param #   \n",
            "=================================================================\n",
            " inception_v3 (Functional)   (None, 6, 6, 2048)        21802784  \n",
            "                                                                 \n",
            " global_average_pooling2d (G  (None, 2048)             0         \n",
            " lobalAveragePooling2D)                                          \n",
            "                                                                 \n",
            " dropout (Dropout)           (None, 2048)              0         \n",
            "                                                                 \n",
            " dense (Dense)               (None, 64)                131136    \n",
            "                                                                 \n",
            " dropout_1 (Dropout)         (None, 64)                0         \n",
            "                                                                 \n",
            " dense_1 (Dense)             (None, 10)                650       \n",
            "                                                                 \n",
            "=================================================================\n",
            "Total params: 21,934,570\n",
            "Trainable params: 2,067,146\n",
            "Non-trainable params: 19,867,424\n",
            "_________________________________________________________________\n",
            "Epoch 1/5\n",
            "70/70 [==============================] - 248s 3s/step - loss: 1.5198 - accuracy: 0.5121 - val_loss: 0.9670 - val_accuracy: 0.6964\n",
            "Epoch 2/5\n",
            "70/70 [==============================] - 234s 3s/step - loss: 1.0434 - accuracy: 0.6655 - val_loss: 0.9099 - val_accuracy: 0.7009\n",
            "Epoch 3/5\n",
            "70/70 [==============================] - 244s 4s/step - loss: 0.9674 - accuracy: 0.6882 - val_loss: 0.8705 - val_accuracy: 0.7254\n",
            "Epoch 4/5\n",
            "70/70 [==============================] - 219s 3s/step - loss: 0.9130 - accuracy: 0.7021 - val_loss: 0.8447 - val_accuracy: 0.7400\n",
            "Epoch 5/5\n",
            "70/70 [==============================] - 231s 3s/step - loss: 0.8695 - accuracy: 0.7191 - val_loss: 0.8310 - val_accuracy: 0.7467\n",
            "{'Training_loss': 1.5197672843933105, 'Validation_loss': 0.9669716954231262, 'Training_accuracy': 0.7191163301467896, 'Validation_accuracy': 0.7466517686843872, '_timestamp': 1648803003, '_runtime': 1190}\n",
            "Found 2000 images belonging to 10 classes.\n",
            "15/15 - 22s - loss: 0.6258 - accuracy: 0.7917 - 22s/epoch - 1s/step\n",
            "Test accuracy : 0.7916666865348816\n"
          ]
        },
        {
          "output_type": "stream",
          "name": "stderr",
          "text": [
            "\u001b[34m\u001b[1mwandb\u001b[0m: Agent Starting Run: 160uipp6 with config:\n",
            "\u001b[34m\u001b[1mwandb\u001b[0m: \taugment_data: no\n",
            "\u001b[34m\u001b[1mwandb\u001b[0m: \tbatch_size: 64\n",
            "\u001b[34m\u001b[1mwandb\u001b[0m: \tdense_layers: [128]\n",
            "\u001b[34m\u001b[1mwandb\u001b[0m: \tdropout: 0\n",
            "\u001b[34m\u001b[1mwandb\u001b[0m: \tepochs: 5\n",
            "\u001b[34m\u001b[1mwandb\u001b[0m: \tlayers_unfreeze: 20\n",
            "\u001b[34m\u001b[1mwandb\u001b[0m: \tmodel: InceptionV3\n",
            "\u001b[34m\u001b[1mwandb\u001b[0m: \u001b[33mWARNING\u001b[0m Ignored wandb.init() arg project when running a sweep.\n"
          ]
        },
        {
          "output_type": "display_data",
          "data": {
            "text/plain": [
              "<IPython.core.display.HTML object>"
            ],
            "text/html": [
              "Tracking run with wandb version 0.12.11"
            ]
          },
          "metadata": {}
        },
        {
          "output_type": "display_data",
          "data": {
            "text/plain": [
              "<IPython.core.display.HTML object>"
            ],
            "text/html": [
              "Run data is saved locally in <code>/content/inaturalist_12K/train/Amphibia/wandb/run-20220401_085034-160uipp6</code>"
            ]
          },
          "metadata": {}
        },
        {
          "output_type": "display_data",
          "data": {
            "text/plain": [
              "<IPython.core.display.HTML object>"
            ],
            "text/html": [
              "Syncing run <strong><a href=\"https://wandb.ai/hithesh-sidhesh/Assignment_2/runs/160uipp6\" target=\"_blank\">Part B</a></strong> to <a href=\"https://wandb.ai/hithesh-sidhesh/Assignment_2\" target=\"_blank\">Weights & Biases</a> (<a href=\"https://wandb.me/run\" target=\"_blank\">docs</a>)<br/>Sweep page:  <a href=\"https://wandb.ai/hithesh-sidhesh/Assignment_2/sweeps/5a6m5gze\" target=\"_blank\">https://wandb.ai/hithesh-sidhesh/Assignment_2/sweeps/5a6m5gze</a>"
            ]
          },
          "metadata": {}
        },
        {
          "output_type": "display_data",
          "data": {
            "text/plain": [
              "<IPython.core.display.HTML object>"
            ],
            "text/html": [
              "Finishing last run (ID:160uipp6) before initializing another..."
            ]
          },
          "metadata": {}
        },
        {
          "output_type": "stream",
          "name": "stdout",
          "text": [
            "\n"
          ]
        },
        {
          "output_type": "display_data",
          "data": {
            "text/plain": [
              "<IPython.core.display.HTML object>"
            ],
            "text/html": [
              "Waiting for W&B process to finish... <strong style=\"color:green\">(success).</strong>"
            ]
          },
          "metadata": {}
        },
        {
          "output_type": "display_data",
          "data": {
            "text/plain": [
              "VBox(children=(Label(value='0.001 MB of 0.001 MB uploaded (0.000 MB deduped)\\r'), FloatProgress(value=1.0, max…"
            ],
            "application/vnd.jupyter.widget-view+json": {
              "version_major": 2,
              "version_minor": 0,
              "model_id": "f721ed3233df44f19718f3899dde0550"
            }
          },
          "metadata": {}
        },
        {
          "output_type": "display_data",
          "data": {
            "text/plain": [
              "<IPython.core.display.HTML object>"
            ],
            "text/html": [
              "Synced <strong style=\"color:#cdcd00\">Part B</strong>: <a href=\"https://wandb.ai/hithesh-sidhesh/Assignment_2/runs/160uipp6\" target=\"_blank\">https://wandb.ai/hithesh-sidhesh/Assignment_2/runs/160uipp6</a><br/>Synced 4 W&B file(s), 0 media file(s), 0 artifact file(s) and 0 other file(s)"
            ]
          },
          "metadata": {}
        },
        {
          "output_type": "display_data",
          "data": {
            "text/plain": [
              "<IPython.core.display.HTML object>"
            ],
            "text/html": [
              "Find logs at: <code>./wandb/run-20220401_085034-160uipp6/logs</code>"
            ]
          },
          "metadata": {}
        },
        {
          "output_type": "display_data",
          "data": {
            "text/plain": [
              "<IPython.core.display.HTML object>"
            ],
            "text/html": [
              "Successfully finished last run (ID:160uipp6). Initializing new run:<br/>"
            ]
          },
          "metadata": {}
        },
        {
          "output_type": "display_data",
          "data": {
            "text/plain": [
              "<IPython.core.display.HTML object>"
            ],
            "text/html": [
              "Tracking run with wandb version 0.12.11"
            ]
          },
          "metadata": {}
        },
        {
          "output_type": "display_data",
          "data": {
            "text/plain": [
              "<IPython.core.display.HTML object>"
            ],
            "text/html": [
              "Run data is saved locally in <code>/content/inaturalist_12K/train/Amphibia/wandb/run-20220401_085043-160uipp6</code>"
            ]
          },
          "metadata": {}
        },
        {
          "output_type": "display_data",
          "data": {
            "text/plain": [
              "<IPython.core.display.HTML object>"
            ],
            "text/html": [
              "Syncing run <strong><a href=\"https://wandb.ai/hithesh-sidhesh/Assignment_2/runs/160uipp6\" target=\"_blank\">Part B</a></strong> to <a href=\"https://wandb.ai/hithesh-sidhesh/Assignment_2\" target=\"_blank\">Weights & Biases</a> (<a href=\"https://wandb.me/run\" target=\"_blank\">docs</a>)<br/>Sweep page:  <a href=\"https://wandb.ai/hithesh-sidhesh/Assignment_2/sweeps/5a6m5gze\" target=\"_blank\">https://wandb.ai/hithesh-sidhesh/Assignment_2/sweeps/5a6m5gze</a>"
            ]
          },
          "metadata": {}
        },
        {
          "output_type": "stream",
          "name": "stdout",
          "text": [
            "Not augmenting data\n",
            "Found 9000 images belonging to 10 classes.\n",
            "TRAINING\n",
            "Number of samples 9000\n",
            "Names of classes {'Amphibia': 0, 'Animalia': 1, 'Arachnida': 2, 'Aves': 3, 'Fungi': 4, 'Insecta': 5, 'Mammalia': 6, 'Mollusca': 7, 'Plantae': 8, 'Reptilia': 9}\n",
            "Number of classes 10\n",
            "Number of samples per class 900\n",
            "Found 999 images belonging to 10 classes.\n",
            "VALIDATION\n",
            "Number of samples 999\n",
            "Names of classes {'Amphibia': 0, 'Animalia': 1, 'Arachnida': 2, 'Aves': 3, 'Fungi': 4, 'Insecta': 5, 'Mammalia': 6, 'Mollusca': 7, 'Plantae': 8, 'Reptilia': 9}\n",
            "Number of classes 10\n",
            "Number of samples per class 99\n",
            "Training last  20  layers\n",
            "Model: \"sequential\"\n",
            "_________________________________________________________________\n",
            " Layer (type)                Output Shape              Param #   \n",
            "=================================================================\n",
            " inception_v3 (Functional)   (None, 6, 6, 2048)        21802784  \n",
            "                                                                 \n",
            " global_average_pooling2d (G  (None, 2048)             0         \n",
            " lobalAveragePooling2D)                                          \n",
            "                                                                 \n",
            " dropout (Dropout)           (None, 2048)              0         \n",
            "                                                                 \n",
            " dense (Dense)               (None, 128)               262272    \n",
            "                                                                 \n",
            " dropout_1 (Dropout)         (None, 128)               0         \n",
            "                                                                 \n",
            " dense_1 (Dense)             (None, 10)                1290      \n",
            "                                                                 \n",
            "=================================================================\n",
            "Total params: 22,066,346\n",
            "Trainable params: 2,198,922\n",
            "Non-trainable params: 19,867,424\n",
            "_________________________________________________________________\n",
            "Epoch 1/5\n",
            " 13/140 [=>............................] - ETA: 1:36 - loss: 1.9906 - accuracy: 0.3786"
          ]
        },
        {
          "output_type": "stream",
          "name": "stderr",
          "text": [
            "\u001b[34m\u001b[1mwandb\u001b[0m: Ctrl + C detected. Stopping sweep.\n"
          ]
        }
      ]
    },
    {
      "cell_type": "markdown",
      "source": [
        "3. Sweep for InceptionResNetV2 model\n",
        "\n"
      ],
      "metadata": {
        "id": "K5_j0iPtuxYT"
      }
    },
    {
      "cell_type": "code",
      "source": [
        "sweep_config = {\n",
        "    'method': 'bayes',\n",
        "    'metric': {\n",
        "      'name': 'val_accuracy',\n",
        "      'goal': 'maximize'   \n",
        "    },\n",
        "    'parameters': {\n",
        "        'model':{\n",
        "            'values':['InceptionResNetV2']\n",
        "        },\n",
        "        'dense_layers': {\n",
        "            'values': [[256], [128], [64]]\n",
        "        },\n",
        "        'layers_unfreeze':{\n",
        "            'values': [None, 20, 30]       \n",
        "        },\n",
        "        'dropout': {\n",
        "            'values':[0, 0.2, 0.3]\n",
        "        },\n",
        "        'augment_data': {\n",
        "            'values': ['yes', 'no']\n",
        "        },\n",
        "        'batch_size' : {\n",
        "            'values' : [128, 64, 256]\n",
        "        },\n",
        "        'epochs' : {\n",
        "            'values' : [5,10]\n",
        "        }\n",
        "\n",
        "    }\n",
        "}"
      ],
      "metadata": {
        "id": "OdlDFCR0R-SH"
      },
      "execution_count": null,
      "outputs": []
    },
    {
      "cell_type": "code",
      "source": [
        "sweep_id = wandb.sweep(sweep_config,project=\"Assignment_2\", entity=\"hithesh-sidhesh\" )"
      ],
      "metadata": {
        "colab": {
          "base_uri": "https://localhost:8080/"
        },
        "outputId": "85488fd5-0056-41be-b06c-bd58d0b6cc9f",
        "id": "XIhJM308R-SI"
      },
      "execution_count": null,
      "outputs": [
        {
          "output_type": "stream",
          "name": "stdout",
          "text": [
            "Create sweep with ID: 1m08gyq0\n",
            "Sweep URL: https://wandb.ai/hithesh-sidhesh/Assignment_2/sweeps/1m08gyq0\n"
          ]
        }
      ]
    },
    {
      "cell_type": "code",
      "source": [
        "#################################\n",
        "# Setting up wandb sweeps\n",
        "#################################\n",
        "wandb.agent(sweep_id, train, count = 15)\n"
      ],
      "metadata": {
        "id": "R3hROy0QR-SL"
      },
      "execution_count": null,
      "outputs": []
    },
    {
      "cell_type": "markdown",
      "source": [
        "4. Sweep for MobileNetV2 model\n",
        "\n"
      ],
      "metadata": {
        "id": "j4dYFQ9Qu4ME"
      }
    },
    {
      "cell_type": "code",
      "source": [
        "sweep_config = {\n",
        "    'method': 'bayes',\n",
        "    'metric': {\n",
        "      'name': 'val_accuracy',\n",
        "      'goal': 'maximize'   \n",
        "    },\n",
        "    'parameters': {\n",
        "        'model':{\n",
        "            'values':['MobileNetV2']\n",
        "        },\n",
        "        'dense_layers': {\n",
        "            'values': [[256], [128], [64]]\n",
        "        },\n",
        "        'layers_unfreeze':{\n",
        "            'values': [None, 20, 30]       \n",
        "        },\n",
        "        'dropout': {\n",
        "            'values':[0, 0.2, 0.3]\n",
        "        },\n",
        "        'augment_data': {\n",
        "            'values': ['yes', 'no']\n",
        "        },\n",
        "        'batch_size' : {\n",
        "            'values' : [128, 64, 256]\n",
        "        },\n",
        "        'epochs' : {\n",
        "            'values' : [5,10]\n",
        "        }\n",
        "\n",
        "    }\n",
        "}"
      ],
      "metadata": {
        "id": "A3SqLOP7R_fj"
      },
      "execution_count": null,
      "outputs": []
    },
    {
      "cell_type": "code",
      "source": [
        "sweep_id = wandb.sweep(sweep_config,project=\"Assignment_2\", entity=\"hithesh-sidhesh\" )"
      ],
      "metadata": {
        "colab": {
          "base_uri": "https://localhost:8080/"
        },
        "outputId": "4ca0208e-38ae-4ba0-c705-6559df8e53c8",
        "id": "uCE3aB_MR_fl"
      },
      "execution_count": null,
      "outputs": [
        {
          "output_type": "stream",
          "name": "stdout",
          "text": [
            "Create sweep with ID: o2lidw9q\n",
            "Sweep URL: https://wandb.ai/hithesh-sidhesh/Assignment_2/sweeps/o2lidw9q\n"
          ]
        }
      ]
    },
    {
      "cell_type": "code",
      "source": [
        "#################################\n",
        "# Setting up wandb sweeps\n",
        "#################################\n",
        "wandb.agent(sweep_id, train, count = 15)\n"
      ],
      "metadata": {
        "colab": {
          "base_uri": "https://localhost:8080/",
          "height": 1000,
          "referenced_widgets": [
            "c68ca25eae354e7da80b0b759d6c5b0e",
            "7497d48d2e5e45e3ae1266bcbcf4d2ea",
            "19c6616b79ee4a508f8a0559840369a4",
            "c956f21e8cd64db6b8d2928e893692e9",
            "0c6369045fe84b59925316af29b22257",
            "82afa810836249c0bee79c50bfa3058c",
            "04646bccc8cd40628d319331b1fe5428",
            "13014b8696c944cab3a09b6505f6fe82",
            "eec3580b1e8c4948827d30e0d21c4265",
            "e2acfe885a664b6ea86bfaf336ddffb6",
            "dc5ac3bc97954d26ae29789ad1f4b7ae",
            "ba0fce18f0ba4876ba4812a9fba52114",
            "dc996b163bb845249fca85268c554c70",
            "a13b2d0786374a8ca29e25f356a30c5f",
            "726014ffc735418c8f8505438e5be097",
            "0a927644869f46679ca0803ad57a968b",
            "60f5d2042c504b3895e5a69306ba4397",
            "6709729bfb064e9f9aa80e4a3b321c30",
            "8af17597333747b9baa028b6a5016ba5",
            "331625c5a5d646b39c154648abc3f223",
            "7dfa5828ec0845b3839b49c5a31ca50a",
            "767e426233f64a49b9d1c30c88405ed4",
            "5feb42bb118342b4b647b08bf6a4fcbb",
            "92f768dd1947474cb5c9a094b9312668",
            "dc88e02c76a4465bb5dccb4610f5c4af",
            "79d33391952f4c5b8537d9677cdad1bb",
            "5d06aae88b2f4c3b9d8a40e8457c1940",
            "aa4bf838a5574c22a76e4384c13f75d0",
            "f0180afdecba4e05876021ab75d97ccf",
            "df5c2eb11f134d9fac39075a351a3a50",
            "15f79f7d22084f0d89128dd25289ace7",
            "525a46e955224211871ad49a39b0287f",
            "3e77759be1d84ad3ac502665b278fed2",
            "061df5a4550c4c7c813ee7b7d381c928",
            "486f0690254e4c42817497670b099b6b",
            "70b94574193b4f5f9bfd5a84d89e1368",
            "e30466e0cd4e4974bd368012cf16cc5e",
            "1358b961b41247daa3cc30315c6e8359",
            "705a84ad9bb2464ba3885bc9a622357e",
            "2dc14d036e2140b19e74de05a3b90771",
            "ae5319e92b3643c5afec55a8c218d936",
            "f8f2370776db41fdac7167698cc13ba8",
            "f077a9ee6135439bb61ee052d13c6f7a",
            "8f6fb7eb5419434198828c88b7805880",
            "16cfca4f6733402d9ae5427c3fae94b5",
            "502877f1cfa142fab2cebd42000f343f",
            "bea82558e03f47d89f37988ef006779f",
            "510dc2b5c06b4db7a09e8d675657b418",
            "c61a734ce915467ebc25e10738201d78",
            "99829c8dfef04de3a1dc959c66ddae1e",
            "a257a5fc9b9b494ea4c4a37bc2c07d57",
            "c7643dc7dd4a4815bac990eefb0cd4fb",
            "de0b53ad51ac4d899df7adab41f8ecc9",
            "6c18e57272074da49731d82b372efb7c",
            "31d9accfbbcb4d3591b9ff8b7124ee51",
            "a0ac30d2124a48a7a59564ffe0468bbb",
            "850da9d544ae4d71ada50d3c618bd6a9",
            "326fd86f835d412eb23e83d822129f02",
            "e57559fe92914ec1bf5dfc205ead211a",
            "6172d779b6c24731bf312192201406bc",
            "60964b6f058843fdb77bb396c4856d6c",
            "d7ab3fc2529d486d9affe86c5f0d1de0",
            "009a9fec16604cebac2b03033be7de40",
            "5c41d2312aa54846b8735c8e622c235e",
            "c7a2fdf65b354c0b99ead220bd7dc769",
            "e7c494d346fd467b97868b304f42259a",
            "5daa3f27259346e3919bd2924507137d",
            "373dcb1e3d1d44239c3b9929bb993574",
            "9d1a19624be04096be011c13fe158200",
            "9a548a47a69848cfbd4810d353ec4a33",
            "7ca09788dd304c05866d2bdad1f8298a",
            "c5d0e3f6ac9341e884c9223ea58779d5",
            "6eaef6ae64474b48af86b20c7eae7dea",
            "9ce0ab1515ef4247962a97cfa34c4446",
            "7d57ff4545584b74b5b831a6f42fc755",
            "8a75e3c786c541f4b5eabd323af2d22f",
            "e1903acc1704417b9f45d83bd73f6457",
            "f77bd9364fe849e0b9f3c73eb34f30db",
            "bd760aa722c34ae69698db24ea4b8355",
            "12017570fefd40f88d2d302f6dc5929e",
            "4c727d5346e54701a83edb4ceaf9925b",
            "1a81fb4ea99542d08be48050f13b96cd",
            "7ab0fc53b915417d8d67d8d84b0c832d",
            "b238432a59d94ad3b19a3e1909ee1417",
            "d3f2d93658f4437cb5f40f2f60c09341",
            "d386df47e6254af7badc3df9d488d196",
            "491858de33c74bd391ffb8fc9f9815d3",
            "4df7798b7fd040789f6133784d061b9d",
            "64753317cf3a45e996a363b9c7ab9e40",
            "83856ae7f38846faa8356758da53f861",
            "fe0014ddfd2447c4abc296c3386d9309",
            "d6136b12f1534899874eafbb9ef46813",
            "4619be5d818841c5a39d4c10de89b180",
            "5d9dc1ad94184b7db19e95456543da6e",
            "2df3e07795c64619a51bc69eb6daeec5",
            "21d764cbcc1545c18574535d9d32f9e4",
            "d46eaf2348254405b4cad7b77af74e86",
            "b73e432b955148799692c0815eeb1743",
            "488f7a2ac0c34fcbb881c90292a3107c",
            "35ef53ac1d4642db80da1da64b10b56c",
            "6dfb76f056a94564a1ebe7086af2ad76",
            "dd3697af6df0437d9858734102ec5983",
            "eea15340ffcd4d3ea666e3f078250a25",
            "a8d1657c6a7344bf8e8fda00689a792b",
            "9664f2305cb14e2b9cff0ba4fdbc34f9",
            "6a02d426e35d4ea9818fef414ab5265b",
            "ab550c03b4d742079d8f69d5017bb8c4",
            "98f09900964f4113a3767a4cb6c9e817",
            "8fd151eb0f3b48ca83ac9f81ceaa0a6d",
            "0f62c4279e9f4cb5b5503c2e6ec74272",
            "5eb8fd49fe5b43c8a1219c6cec7cbb16",
            "b4ef258e9da0459b92338a6eb402ff67",
            "8ab6c349bba94ad2a1e7b63ceeecd23a",
            "e2d441e10b9b4f548c3cf9dbd4bf9763",
            "b4d64c1f10fa48518f23d232ff8cc309",
            "f472309ba7c248c48fc91246dd587313",
            "b27f30e258a7458cb8724e9bdb303308",
            "8f1c6191bdc3403586f019f4451b61df",
            "60351c19258d49aca61b2ae884eba68a",
            "7326b3af59ae42d5a7bead238b8406b0"
          ]
        },
        "outputId": "fd0d7b99-5f13-42b4-f8ba-da23ec3b1f73",
        "id": "FF5IWtmCR_fn"
      },
      "execution_count": null,
      "outputs": [
        {
          "metadata": {
            "tags": null
          },
          "name": "stderr",
          "output_type": "stream",
          "text": [
            "\u001b[34m\u001b[1mwandb\u001b[0m: \u001b[33mWARNING\u001b[0m Calling wandb.login() after wandb.init() has no effect.\n",
            "\u001b[34m\u001b[1mwandb\u001b[0m: Agent Starting Run: 3a5jyvwe with config:\n",
            "\u001b[34m\u001b[1mwandb\u001b[0m: \taugment_data: no\n",
            "\u001b[34m\u001b[1mwandb\u001b[0m: \tbatch_size: 64\n",
            "\u001b[34m\u001b[1mwandb\u001b[0m: \tdense_layers: [256]\n",
            "\u001b[34m\u001b[1mwandb\u001b[0m: \tdropout: 0\n",
            "\u001b[34m\u001b[1mwandb\u001b[0m: \tepochs: 10\n",
            "\u001b[34m\u001b[1mwandb\u001b[0m: \tlayers_unfreeze: 30\n",
            "\u001b[34m\u001b[1mwandb\u001b[0m: \tmodel: MobileNetV2\n",
            "\u001b[34m\u001b[1mwandb\u001b[0m: \u001b[33mWARNING\u001b[0m Ignored wandb.init() arg project when running a sweep.\n"
          ]
        },
        {
          "data": {
            "text/html": [
              "Tracking run with wandb version 0.12.11"
            ],
            "text/plain": [
              "<IPython.core.display.HTML object>"
            ]
          },
          "metadata": {},
          "output_type": "display_data"
        },
        {
          "data": {
            "text/html": [
              "Run data is saved locally in <code>/content/inaturalist_12K/train/Amphibia/wandb/run-20220401_015537-3a5jyvwe</code>"
            ],
            "text/plain": [
              "<IPython.core.display.HTML object>"
            ]
          },
          "metadata": {},
          "output_type": "display_data"
        },
        {
          "data": {
            "text/html": [
              "Syncing run <strong><a href=\"https://wandb.ai/hithesh-sidhesh/Assignment_2/runs/3a5jyvwe\" target=\"_blank\">Part B</a></strong> to <a href=\"https://wandb.ai/hithesh-sidhesh/Assignment_2\" target=\"_blank\">Weights & Biases</a> (<a href=\"https://wandb.me/run\" target=\"_blank\">docs</a>)<br/>Sweep page:  <a href=\"https://wandb.ai/hithesh-sidhesh/Assignment_2/sweeps/o2lidw9q\" target=\"_blank\">https://wandb.ai/hithesh-sidhesh/Assignment_2/sweeps/o2lidw9q</a>"
            ],
            "text/plain": [
              "<IPython.core.display.HTML object>"
            ]
          },
          "metadata": {},
          "output_type": "display_data"
        },
        {
          "data": {
            "text/html": [
              "Finishing last run (ID:3a5jyvwe) before initializing another..."
            ],
            "text/plain": [
              "<IPython.core.display.HTML object>"
            ]
          },
          "metadata": {},
          "output_type": "display_data"
        },
        {
          "metadata": {
            "tags": null
          },
          "name": "stdout",
          "output_type": "stream",
          "text": [
            "\n"
          ]
        },
        {
          "data": {
            "text/html": [
              "Waiting for W&B process to finish... <strong style=\"color:green\">(success).</strong>"
            ],
            "text/plain": [
              "<IPython.core.display.HTML object>"
            ]
          },
          "metadata": {},
          "output_type": "display_data"
        },
        {
          "data": {
            "application/vnd.jupyter.widget-view+json": {
              "model_id": "c68ca25eae354e7da80b0b759d6c5b0e",
              "version_major": 2,
              "version_minor": 0
            },
            "text/plain": [
              "VBox(children=(Label(value='0.001 MB of 0.001 MB uploaded (0.000 MB deduped)\\r'), FloatProgress(value=1.0, max…"
            ]
          },
          "metadata": {},
          "output_type": "display_data"
        },
        {
          "data": {
            "text/html": [
              "Synced <strong style=\"color:#cdcd00\">Part B</strong>: <a href=\"https://wandb.ai/hithesh-sidhesh/Assignment_2/runs/3a5jyvwe\" target=\"_blank\">https://wandb.ai/hithesh-sidhesh/Assignment_2/runs/3a5jyvwe</a><br/>Synced 4 W&B file(s), 0 media file(s), 0 artifact file(s) and 0 other file(s)"
            ],
            "text/plain": [
              "<IPython.core.display.HTML object>"
            ]
          },
          "metadata": {},
          "output_type": "display_data"
        },
        {
          "data": {
            "text/html": [
              "Find logs at: <code>./wandb/run-20220401_015537-3a5jyvwe/logs</code>"
            ],
            "text/plain": [
              "<IPython.core.display.HTML object>"
            ]
          },
          "metadata": {},
          "output_type": "display_data"
        },
        {
          "data": {
            "text/html": [
              "Successfully finished last run (ID:3a5jyvwe). Initializing new run:<br/>"
            ],
            "text/plain": [
              "<IPython.core.display.HTML object>"
            ]
          },
          "metadata": {},
          "output_type": "display_data"
        },
        {
          "data": {
            "text/html": [
              "Tracking run with wandb version 0.12.11"
            ],
            "text/plain": [
              "<IPython.core.display.HTML object>"
            ]
          },
          "metadata": {},
          "output_type": "display_data"
        },
        {
          "data": {
            "text/html": [
              "Run data is saved locally in <code>/content/inaturalist_12K/train/Amphibia/wandb/run-20220401_015546-3a5jyvwe</code>"
            ],
            "text/plain": [
              "<IPython.core.display.HTML object>"
            ]
          },
          "metadata": {},
          "output_type": "display_data"
        },
        {
          "data": {
            "text/html": [
              "Syncing run <strong><a href=\"https://wandb.ai/hithesh-sidhesh/Assignment_2/runs/3a5jyvwe\" target=\"_blank\">Part B</a></strong> to <a href=\"https://wandb.ai/hithesh-sidhesh/Assignment_2\" target=\"_blank\">Weights & Biases</a> (<a href=\"https://wandb.me/run\" target=\"_blank\">docs</a>)<br/>Sweep page:  <a href=\"https://wandb.ai/hithesh-sidhesh/Assignment_2/sweeps/o2lidw9q\" target=\"_blank\">https://wandb.ai/hithesh-sidhesh/Assignment_2/sweeps/o2lidw9q</a>"
            ],
            "text/plain": [
              "<IPython.core.display.HTML object>"
            ]
          },
          "metadata": {},
          "output_type": "display_data"
        },
        {
          "metadata": {
            "tags": null
          },
          "name": "stdout",
          "output_type": "stream",
          "text": [
            "Not augmenting data\n",
            "Found 9000 images belonging to 10 classes.\n",
            "TRAINING\n",
            "Number of samples 9000\n",
            "Names of classes {'Amphibia': 0, 'Animalia': 1, 'Arachnida': 2, 'Aves': 3, 'Fungi': 4, 'Insecta': 5, 'Mammalia': 6, 'Mollusca': 7, 'Plantae': 8, 'Reptilia': 9}\n",
            "Number of classes 10\n",
            "Number of samples per class 900\n",
            "Found 999 images belonging to 10 classes.\n",
            "VALIDATION\n",
            "Number of samples 999\n",
            "Names of classes {'Amphibia': 0, 'Animalia': 1, 'Arachnida': 2, 'Aves': 3, 'Fungi': 4, 'Insecta': 5, 'Mammalia': 6, 'Mollusca': 7, 'Plantae': 8, 'Reptilia': 9}\n",
            "Number of classes 10\n",
            "Number of samples per class 99\n",
            "WARNING:tensorflow:`input_shape` is undefined or non-square, or `rows` is not in [96, 128, 160, 192, 224]. Weights for input shape (224, 224) will be loaded as the default.\n",
            "Downloading data from https://storage.googleapis.com/tensorflow/keras-applications/mobilenet_v2/mobilenet_v2_weights_tf_dim_ordering_tf_kernels_1.0_224_no_top.h5\n",
            "9412608/9406464 [==============================] - 0s 0us/step\n",
            "9420800/9406464 [==============================] - 0s 0us/step\n",
            "Training last  30  layers\n",
            "Model: \"sequential\"\n",
            "_________________________________________________________________\n",
            " Layer (type)                Output Shape              Param #   \n",
            "=================================================================\n",
            " mobilenetv2_1.00_224 (Funct  (None, 8, 8, 1280)       2257984   \n",
            " ional)                                                          \n",
            "                                                                 \n",
            " global_average_pooling2d (G  (None, 1280)             0         \n",
            " lobalAveragePooling2D)                                          \n",
            "                                                                 \n",
            " dropout (Dropout)           (None, 1280)              0         \n",
            "                                                                 \n",
            " dense (Dense)               (None, 256)               327936    \n",
            "                                                                 \n",
            " dropout_1 (Dropout)         (None, 256)               0         \n",
            "                                                                 \n",
            " dense_1 (Dense)             (None, 10)                2570      \n",
            "                                                                 \n",
            "=================================================================\n",
            "Total params: 2,588,490\n",
            "Trainable params: 1,856,906\n",
            "Non-trainable params: 731,584\n",
            "_________________________________________________________________\n",
            "Epoch 1/10\n",
            "140/140 [==============================] - 122s 848ms/step - loss: 1.1409 - accuracy: 0.6314 - val_loss: 0.9248 - val_accuracy: 0.6865\n",
            "Epoch 2/10\n",
            "140/140 [==============================] - 116s 832ms/step - loss: 0.5450 - accuracy: 0.8217 - val_loss: 0.8838 - val_accuracy: 0.6938\n",
            "Epoch 3/10\n",
            "140/140 [==============================] - 115s 824ms/step - loss: 0.3121 - accuracy: 0.9105 - val_loss: 0.9098 - val_accuracy: 0.7000\n",
            "Epoch 4/10\n",
            "140/140 [==============================] - 112s 802ms/step - loss: 0.1692 - accuracy: 0.9586 - val_loss: 0.9072 - val_accuracy: 0.7042\n",
            "Epoch 5/10\n",
            "140/140 [==============================] - 106s 761ms/step - loss: 0.0851 - accuracy: 0.9858 - val_loss: 0.9555 - val_accuracy: 0.7188\n",
            "Epoch 6/10\n",
            "140/140 [==============================] - 114s 817ms/step - loss: 0.0425 - accuracy: 0.9945 - val_loss: 0.9716 - val_accuracy: 0.7323\n",
            "Epoch 7/10\n",
            "140/140 [==============================] - 96s 692ms/step - loss: 0.0253 - accuracy: 0.9983 - val_loss: 0.9407 - val_accuracy: 0.7500\n",
            "Epoch 8/10\n",
            "140/140 [==============================] - 103s 741ms/step - loss: 0.0154 - accuracy: 0.9992 - val_loss: 0.9511 - val_accuracy: 0.7510\n",
            "Epoch 9/10\n",
            "140/140 [==============================] - 105s 753ms/step - loss: 0.0127 - accuracy: 0.9990 - val_loss: 0.9769 - val_accuracy: 0.7510\n",
            "Epoch 10/10\n",
            "140/140 [==============================] - 103s 740ms/step - loss: 0.0119 - accuracy: 0.9984 - val_loss: 1.0426 - val_accuracy: 0.7396\n",
            "{'Training_loss': 1.1408571004867554, 'Validation_loss': 1.0425513982772827, 'Training_accuracy': 0.9992166757583618, 'Validation_accuracy': 0.7510416507720947, '_timestamp': 1648779253, '_runtime': 1102}\n",
            "Found 2000 images belonging to 10 classes.\n",
            "31/31 - 23s - loss: 1.1354 - accuracy: 0.7440 - 23s/epoch - 728ms/step\n",
            "Test accuracy : 0.7439516186714172\n"
          ]
        },
        {
          "metadata": {
            "tags": null
          },
          "name": "stderr",
          "output_type": "stream",
          "text": [
            "\u001b[34m\u001b[1mwandb\u001b[0m: Agent Starting Run: ws9er9n0 with config:\n",
            "\u001b[34m\u001b[1mwandb\u001b[0m: \taugment_data: yes\n",
            "\u001b[34m\u001b[1mwandb\u001b[0m: \tbatch_size: 64\n",
            "\u001b[34m\u001b[1mwandb\u001b[0m: \tdense_layers: [128]\n",
            "\u001b[34m\u001b[1mwandb\u001b[0m: \tdropout: 0\n",
            "\u001b[34m\u001b[1mwandb\u001b[0m: \tepochs: 5\n",
            "\u001b[34m\u001b[1mwandb\u001b[0m: \tlayers_unfreeze: 20\n",
            "\u001b[34m\u001b[1mwandb\u001b[0m: \tmodel: MobileNetV2\n",
            "\u001b[34m\u001b[1mwandb\u001b[0m: \u001b[33mWARNING\u001b[0m Ignored wandb.init() arg project when running a sweep.\n"
          ]
        },
        {
          "data": {
            "text/html": [
              "Tracking run with wandb version 0.12.11"
            ],
            "text/plain": [
              "<IPython.core.display.HTML object>"
            ]
          },
          "metadata": {},
          "output_type": "display_data"
        },
        {
          "data": {
            "text/html": [
              "Run data is saved locally in <code>/content/inaturalist_12K/train/Amphibia/wandb/run-20220401_021443-ws9er9n0</code>"
            ],
            "text/plain": [
              "<IPython.core.display.HTML object>"
            ]
          },
          "metadata": {},
          "output_type": "display_data"
        },
        {
          "data": {
            "text/html": [
              "Syncing run <strong><a href=\"https://wandb.ai/hithesh-sidhesh/Assignment_2/runs/ws9er9n0\" target=\"_blank\">Part B</a></strong> to <a href=\"https://wandb.ai/hithesh-sidhesh/Assignment_2\" target=\"_blank\">Weights & Biases</a> (<a href=\"https://wandb.me/run\" target=\"_blank\">docs</a>)<br/>Sweep page:  <a href=\"https://wandb.ai/hithesh-sidhesh/Assignment_2/sweeps/o2lidw9q\" target=\"_blank\">https://wandb.ai/hithesh-sidhesh/Assignment_2/sweeps/o2lidw9q</a>"
            ],
            "text/plain": [
              "<IPython.core.display.HTML object>"
            ]
          },
          "metadata": {},
          "output_type": "display_data"
        },
        {
          "data": {
            "text/html": [
              "Finishing last run (ID:ws9er9n0) before initializing another..."
            ],
            "text/plain": [
              "<IPython.core.display.HTML object>"
            ]
          },
          "metadata": {},
          "output_type": "display_data"
        },
        {
          "metadata": {
            "tags": null
          },
          "name": "stdout",
          "output_type": "stream",
          "text": [
            "\n"
          ]
        },
        {
          "data": {
            "text/html": [
              "Waiting for W&B process to finish... <strong style=\"color:green\">(success).</strong>"
            ],
            "text/plain": [
              "<IPython.core.display.HTML object>"
            ]
          },
          "metadata": {},
          "output_type": "display_data"
        },
        {
          "data": {
            "application/vnd.jupyter.widget-view+json": {
              "model_id": "eec3580b1e8c4948827d30e0d21c4265",
              "version_major": 2,
              "version_minor": 0
            },
            "text/plain": [
              "VBox(children=(Label(value='0.001 MB of 0.001 MB uploaded (0.000 MB deduped)\\r'), FloatProgress(value=1.0, max…"
            ]
          },
          "metadata": {},
          "output_type": "display_data"
        },
        {
          "data": {
            "text/html": [
              "Synced <strong style=\"color:#cdcd00\">Part B</strong>: <a href=\"https://wandb.ai/hithesh-sidhesh/Assignment_2/runs/ws9er9n0\" target=\"_blank\">https://wandb.ai/hithesh-sidhesh/Assignment_2/runs/ws9er9n0</a><br/>Synced 4 W&B file(s), 0 media file(s), 0 artifact file(s) and 0 other file(s)"
            ],
            "text/plain": [
              "<IPython.core.display.HTML object>"
            ]
          },
          "metadata": {},
          "output_type": "display_data"
        },
        {
          "data": {
            "text/html": [
              "Find logs at: <code>./wandb/run-20220401_021443-ws9er9n0/logs</code>"
            ],
            "text/plain": [
              "<IPython.core.display.HTML object>"
            ]
          },
          "metadata": {},
          "output_type": "display_data"
        },
        {
          "data": {
            "text/html": [
              "Successfully finished last run (ID:ws9er9n0). Initializing new run:<br/>"
            ],
            "text/plain": [
              "<IPython.core.display.HTML object>"
            ]
          },
          "metadata": {},
          "output_type": "display_data"
        },
        {
          "data": {
            "text/html": [
              "Tracking run with wandb version 0.12.11"
            ],
            "text/plain": [
              "<IPython.core.display.HTML object>"
            ]
          },
          "metadata": {},
          "output_type": "display_data"
        },
        {
          "data": {
            "text/html": [
              "Run data is saved locally in <code>/content/inaturalist_12K/train/Amphibia/wandb/run-20220401_021452-ws9er9n0</code>"
            ],
            "text/plain": [
              "<IPython.core.display.HTML object>"
            ]
          },
          "metadata": {},
          "output_type": "display_data"
        },
        {
          "data": {
            "text/html": [
              "Syncing run <strong><a href=\"https://wandb.ai/hithesh-sidhesh/Assignment_2/runs/ws9er9n0\" target=\"_blank\">Part B</a></strong> to <a href=\"https://wandb.ai/hithesh-sidhesh/Assignment_2\" target=\"_blank\">Weights & Biases</a> (<a href=\"https://wandb.me/run\" target=\"_blank\">docs</a>)<br/>Sweep page:  <a href=\"https://wandb.ai/hithesh-sidhesh/Assignment_2/sweeps/o2lidw9q\" target=\"_blank\">https://wandb.ai/hithesh-sidhesh/Assignment_2/sweeps/o2lidw9q</a>"
            ],
            "text/plain": [
              "<IPython.core.display.HTML object>"
            ]
          },
          "metadata": {},
          "output_type": "display_data"
        },
        {
          "metadata": {
            "tags": null
          },
          "name": "stdout",
          "output_type": "stream",
          "text": [
            "Augmenting data\n",
            "Found 9000 images belonging to 10 classes.\n",
            "TRAINING\n",
            "Number of samples 9000\n",
            "Names of classes {'Amphibia': 0, 'Animalia': 1, 'Arachnida': 2, 'Aves': 3, 'Fungi': 4, 'Insecta': 5, 'Mammalia': 6, 'Mollusca': 7, 'Plantae': 8, 'Reptilia': 9}\n",
            "Number of classes 10\n",
            "Number of samples per class 900\n",
            "Found 999 images belonging to 10 classes.\n",
            "VALIDATION\n",
            "Number of samples 999\n",
            "Names of classes {'Amphibia': 0, 'Animalia': 1, 'Arachnida': 2, 'Aves': 3, 'Fungi': 4, 'Insecta': 5, 'Mammalia': 6, 'Mollusca': 7, 'Plantae': 8, 'Reptilia': 9}\n",
            "Number of classes 10\n",
            "Number of samples per class 99\n",
            "WARNING:tensorflow:`input_shape` is undefined or non-square, or `rows` is not in [96, 128, 160, 192, 224]. Weights for input shape (224, 224) will be loaded as the default.\n",
            "Training last  20  layers\n",
            "Model: \"sequential\"\n",
            "_________________________________________________________________\n",
            " Layer (type)                Output Shape              Param #   \n",
            "=================================================================\n",
            " mobilenetv2_1.00_224 (Funct  (None, 8, 8, 1280)       2257984   \n",
            " ional)                                                          \n",
            "                                                                 \n",
            " global_average_pooling2d (G  (None, 1280)             0         \n",
            " lobalAveragePooling2D)                                          \n",
            "                                                                 \n",
            " dropout (Dropout)           (None, 1280)              0         \n",
            "                                                                 \n",
            " dense (Dense)               (None, 128)               163968    \n",
            "                                                                 \n",
            " dropout_1 (Dropout)         (None, 128)               0         \n",
            "                                                                 \n",
            " dense_1 (Dense)             (None, 10)                1290      \n",
            "                                                                 \n",
            "=================================================================\n",
            "Total params: 2,423,242\n",
            "Trainable params: 1,371,338\n",
            "Non-trainable params: 1,051,904\n",
            "_________________________________________________________________\n",
            "Epoch 1/5\n",
            "140/140 [==============================] - 243s 2s/step - loss: 1.3839 - accuracy: 0.5453 - val_loss: 1.0018 - val_accuracy: 0.6635\n",
            "Epoch 2/5\n",
            "140/140 [==============================] - 235s 2s/step - loss: 0.9426 - accuracy: 0.6827 - val_loss: 0.9607 - val_accuracy: 0.6812\n",
            "Epoch 3/5\n",
            "140/140 [==============================] - 232s 2s/step - loss: 0.8266 - accuracy: 0.7190 - val_loss: 0.9586 - val_accuracy: 0.6896\n",
            "Epoch 4/5\n",
            "140/140 [==============================] - 227s 2s/step - loss: 0.7666 - accuracy: 0.7425 - val_loss: 0.9248 - val_accuracy: 0.6865\n",
            "Epoch 5/5\n",
            "140/140 [==============================] - 215s 2s/step - loss: 0.6963 - accuracy: 0.7630 - val_loss: 0.9238 - val_accuracy: 0.6844\n",
            "{'Training_loss': 1.3839038610458374, 'Validation_loss': 1.0017621517181396, 'Training_accuracy': 0.7629811763763428, 'Validation_accuracy': 0.6895833611488342, '_timestamp': 1648780462, '_runtime': 1165}\n",
            "Found 2000 images belonging to 10 classes.\n",
            "31/31 - 23s - loss: 0.8763 - accuracy: 0.7278 - 23s/epoch - 738ms/step\n",
            "Test accuracy : 0.7278226017951965\n"
          ]
        },
        {
          "metadata": {
            "tags": null
          },
          "name": "stderr",
          "output_type": "stream",
          "text": [
            "\u001b[34m\u001b[1mwandb\u001b[0m: Sweep Agent: Waiting for job.\n",
            "\u001b[34m\u001b[1mwandb\u001b[0m: Job received.\n",
            "\u001b[34m\u001b[1mwandb\u001b[0m: Agent Starting Run: 52f4rbtc with config:\n",
            "\u001b[34m\u001b[1mwandb\u001b[0m: \taugment_data: yes\n",
            "\u001b[34m\u001b[1mwandb\u001b[0m: \tbatch_size: 128\n",
            "\u001b[34m\u001b[1mwandb\u001b[0m: \tdense_layers: [64]\n",
            "\u001b[34m\u001b[1mwandb\u001b[0m: \tdropout: 0.3\n",
            "\u001b[34m\u001b[1mwandb\u001b[0m: \tepochs: 10\n",
            "\u001b[34m\u001b[1mwandb\u001b[0m: \tlayers_unfreeze: None\n",
            "\u001b[34m\u001b[1mwandb\u001b[0m: \tmodel: MobileNetV2\n",
            "\u001b[34m\u001b[1mwandb\u001b[0m: \u001b[33mWARNING\u001b[0m Ignored wandb.init() arg project when running a sweep.\n"
          ]
        },
        {
          "data": {
            "text/html": [
              "Tracking run with wandb version 0.12.11"
            ],
            "text/plain": [
              "<IPython.core.display.HTML object>"
            ]
          },
          "metadata": {},
          "output_type": "display_data"
        },
        {
          "data": {
            "text/html": [
              "Run data is saved locally in <code>/content/inaturalist_12K/train/Amphibia/wandb/run-20220401_023520-52f4rbtc</code>"
            ],
            "text/plain": [
              "<IPython.core.display.HTML object>"
            ]
          },
          "metadata": {},
          "output_type": "display_data"
        },
        {
          "data": {
            "text/html": [
              "Syncing run <strong><a href=\"https://wandb.ai/hithesh-sidhesh/Assignment_2/runs/52f4rbtc\" target=\"_blank\">Part B</a></strong> to <a href=\"https://wandb.ai/hithesh-sidhesh/Assignment_2\" target=\"_blank\">Weights & Biases</a> (<a href=\"https://wandb.me/run\" target=\"_blank\">docs</a>)<br/>Sweep page:  <a href=\"https://wandb.ai/hithesh-sidhesh/Assignment_2/sweeps/o2lidw9q\" target=\"_blank\">https://wandb.ai/hithesh-sidhesh/Assignment_2/sweeps/o2lidw9q</a>"
            ],
            "text/plain": [
              "<IPython.core.display.HTML object>"
            ]
          },
          "metadata": {},
          "output_type": "display_data"
        },
        {
          "data": {
            "text/html": [
              "Finishing last run (ID:52f4rbtc) before initializing another..."
            ],
            "text/plain": [
              "<IPython.core.display.HTML object>"
            ]
          },
          "metadata": {},
          "output_type": "display_data"
        },
        {
          "metadata": {
            "tags": null
          },
          "name": "stdout",
          "output_type": "stream",
          "text": [
            "\n"
          ]
        },
        {
          "data": {
            "text/html": [
              "Waiting for W&B process to finish... <strong style=\"color:green\">(success).</strong>"
            ],
            "text/plain": [
              "<IPython.core.display.HTML object>"
            ]
          },
          "metadata": {},
          "output_type": "display_data"
        },
        {
          "data": {
            "application/vnd.jupyter.widget-view+json": {
              "model_id": "60f5d2042c504b3895e5a69306ba4397",
              "version_major": 2,
              "version_minor": 0
            },
            "text/plain": [
              "VBox(children=(Label(value='0.001 MB of 0.001 MB uploaded (0.000 MB deduped)\\r'), FloatProgress(value=1.0, max…"
            ]
          },
          "metadata": {},
          "output_type": "display_data"
        },
        {
          "data": {
            "text/html": [
              "Synced <strong style=\"color:#cdcd00\">Part B</strong>: <a href=\"https://wandb.ai/hithesh-sidhesh/Assignment_2/runs/52f4rbtc\" target=\"_blank\">https://wandb.ai/hithesh-sidhesh/Assignment_2/runs/52f4rbtc</a><br/>Synced 4 W&B file(s), 0 media file(s), 0 artifact file(s) and 0 other file(s)"
            ],
            "text/plain": [
              "<IPython.core.display.HTML object>"
            ]
          },
          "metadata": {},
          "output_type": "display_data"
        },
        {
          "data": {
            "text/html": [
              "Find logs at: <code>./wandb/run-20220401_023520-52f4rbtc/logs</code>"
            ],
            "text/plain": [
              "<IPython.core.display.HTML object>"
            ]
          },
          "metadata": {},
          "output_type": "display_data"
        },
        {
          "data": {
            "text/html": [
              "Successfully finished last run (ID:52f4rbtc). Initializing new run:<br/>"
            ],
            "text/plain": [
              "<IPython.core.display.HTML object>"
            ]
          },
          "metadata": {},
          "output_type": "display_data"
        },
        {
          "data": {
            "text/html": [
              "Tracking run with wandb version 0.12.11"
            ],
            "text/plain": [
              "<IPython.core.display.HTML object>"
            ]
          },
          "metadata": {},
          "output_type": "display_data"
        },
        {
          "data": {
            "text/html": [
              "Run data is saved locally in <code>/content/inaturalist_12K/train/Amphibia/wandb/run-20220401_023529-52f4rbtc</code>"
            ],
            "text/plain": [
              "<IPython.core.display.HTML object>"
            ]
          },
          "metadata": {},
          "output_type": "display_data"
        },
        {
          "data": {
            "text/html": [
              "Syncing run <strong><a href=\"https://wandb.ai/hithesh-sidhesh/Assignment_2/runs/52f4rbtc\" target=\"_blank\">Part B</a></strong> to <a href=\"https://wandb.ai/hithesh-sidhesh/Assignment_2\" target=\"_blank\">Weights & Biases</a> (<a href=\"https://wandb.me/run\" target=\"_blank\">docs</a>)<br/>Sweep page:  <a href=\"https://wandb.ai/hithesh-sidhesh/Assignment_2/sweeps/o2lidw9q\" target=\"_blank\">https://wandb.ai/hithesh-sidhesh/Assignment_2/sweeps/o2lidw9q</a>"
            ],
            "text/plain": [
              "<IPython.core.display.HTML object>"
            ]
          },
          "metadata": {},
          "output_type": "display_data"
        },
        {
          "metadata": {
            "tags": null
          },
          "name": "stdout",
          "output_type": "stream",
          "text": [
            "Augmenting data\n",
            "Found 9000 images belonging to 10 classes.\n",
            "TRAINING\n",
            "Number of samples 9000\n",
            "Names of classes {'Amphibia': 0, 'Animalia': 1, 'Arachnida': 2, 'Aves': 3, 'Fungi': 4, 'Insecta': 5, 'Mammalia': 6, 'Mollusca': 7, 'Plantae': 8, 'Reptilia': 9}\n",
            "Number of classes 10\n",
            "Number of samples per class 900\n",
            "Found 999 images belonging to 10 classes.\n",
            "VALIDATION\n",
            "Number of samples 999\n",
            "Names of classes {'Amphibia': 0, 'Animalia': 1, 'Arachnida': 2, 'Aves': 3, 'Fungi': 4, 'Insecta': 5, 'Mammalia': 6, 'Mollusca': 7, 'Plantae': 8, 'Reptilia': 9}\n",
            "Number of classes 10\n",
            "Number of samples per class 99\n",
            "WARNING:tensorflow:`input_shape` is undefined or non-square, or `rows` is not in [96, 128, 160, 192, 224]. Weights for input shape (224, 224) will be loaded as the default.\n",
            "Model: \"sequential\"\n",
            "_________________________________________________________________\n",
            " Layer (type)                Output Shape              Param #   \n",
            "=================================================================\n",
            " mobilenetv2_1.00_224 (Funct  (None, 8, 8, 1280)       2257984   \n",
            " ional)                                                          \n",
            "                                                                 \n",
            " global_average_pooling2d (G  (None, 1280)             0         \n",
            " lobalAveragePooling2D)                                          \n",
            "                                                                 \n",
            " dropout (Dropout)           (None, 1280)              0         \n",
            "                                                                 \n",
            " dense (Dense)               (None, 64)                81984     \n",
            "                                                                 \n",
            " dropout_1 (Dropout)         (None, 64)                0         \n",
            "                                                                 \n",
            " dense_1 (Dense)             (None, 10)                650       \n",
            "                                                                 \n",
            "=================================================================\n",
            "Total params: 2,340,618\n",
            "Trainable params: 82,634\n",
            "Non-trainable params: 2,257,984\n",
            "_________________________________________________________________\n",
            "Epoch 1/10\n",
            "70/70 [==============================] - 241s 3s/step - loss: 2.4093 - accuracy: 0.1465 - val_loss: 2.0788 - val_accuracy: 0.3080\n",
            "Epoch 2/10\n",
            "70/70 [==============================] - 231s 3s/step - loss: 2.1369 - accuracy: 0.2319 - val_loss: 1.9195 - val_accuracy: 0.4208\n",
            "Epoch 3/10\n",
            "70/70 [==============================] - 226s 3s/step - loss: 1.9822 - accuracy: 0.3123 - val_loss: 1.7073 - val_accuracy: 0.4944\n",
            "Epoch 4/10\n",
            "70/70 [==============================] - 214s 3s/step - loss: 1.8385 - accuracy: 0.3753 - val_loss: 1.5308 - val_accuracy: 0.5536\n",
            "Epoch 5/10\n",
            "70/70 [==============================] - 212s 3s/step - loss: 1.7069 - accuracy: 0.4246 - val_loss: 1.4063 - val_accuracy: 0.5871\n",
            "Epoch 6/10\n",
            "70/70 [==============================] - 229s 3s/step - loss: 1.6271 - accuracy: 0.4591 - val_loss: 1.3130 - val_accuracy: 0.6217\n",
            "Epoch 7/10\n",
            "70/70 [==============================] - 197s 3s/step - loss: 1.5808 - accuracy: 0.4767 - val_loss: 1.2625 - val_accuracy: 0.6194\n",
            "Epoch 8/10\n",
            "70/70 [==============================] - 212s 3s/step - loss: 1.5119 - accuracy: 0.4971 - val_loss: 1.2094 - val_accuracy: 0.6161\n",
            "Epoch 9/10\n",
            "70/70 [==============================] - 212s 3s/step - loss: 1.4688 - accuracy: 0.5172 - val_loss: 1.2044 - val_accuracy: 0.6205\n",
            "Epoch 10/10\n",
            "70/70 [==============================] - 214s 3s/step - loss: 1.4452 - accuracy: 0.5169 - val_loss: 1.1445 - val_accuracy: 0.6596\n",
            "{'Training_loss': 2.4092631340026855, 'Validation_loss': 2.078845500946045, 'Training_accuracy': 0.5172452926635742, 'Validation_accuracy': 0.6595982313156128, '_timestamp': 1648782733, '_runtime': 2199}\n",
            "Found 2000 images belonging to 10 classes.\n",
            "15/15 - 22s - loss: 1.0323 - accuracy: 0.6906 - 22s/epoch - 1s/step\n",
            "Test accuracy : 0.690625011920929\n"
          ]
        },
        {
          "metadata": {
            "tags": null
          },
          "name": "stderr",
          "output_type": "stream",
          "text": [
            "\u001b[34m\u001b[1mwandb\u001b[0m: Agent Starting Run: lbg8ebox with config:\n",
            "\u001b[34m\u001b[1mwandb\u001b[0m: \taugment_data: yes\n",
            "\u001b[34m\u001b[1mwandb\u001b[0m: \tbatch_size: 128\n",
            "\u001b[34m\u001b[1mwandb\u001b[0m: \tdense_layers: [64]\n",
            "\u001b[34m\u001b[1mwandb\u001b[0m: \tdropout: 0.3\n",
            "\u001b[34m\u001b[1mwandb\u001b[0m: \tepochs: 10\n",
            "\u001b[34m\u001b[1mwandb\u001b[0m: \tlayers_unfreeze: 30\n",
            "\u001b[34m\u001b[1mwandb\u001b[0m: \tmodel: MobileNetV2\n",
            "\u001b[34m\u001b[1mwandb\u001b[0m: \u001b[33mWARNING\u001b[0m Ignored wandb.init() arg project when running a sweep.\n"
          ]
        },
        {
          "data": {
            "text/html": [
              "Tracking run with wandb version 0.12.11"
            ],
            "text/plain": [
              "<IPython.core.display.HTML object>"
            ]
          },
          "metadata": {},
          "output_type": "display_data"
        },
        {
          "data": {
            "text/html": [
              "Run data is saved locally in <code>/content/inaturalist_12K/train/Amphibia/wandb/run-20220401_031243-lbg8ebox</code>"
            ],
            "text/plain": [
              "<IPython.core.display.HTML object>"
            ]
          },
          "metadata": {},
          "output_type": "display_data"
        },
        {
          "data": {
            "text/html": [
              "Syncing run <strong><a href=\"https://wandb.ai/hithesh-sidhesh/Assignment_2/runs/lbg8ebox\" target=\"_blank\">Part B</a></strong> to <a href=\"https://wandb.ai/hithesh-sidhesh/Assignment_2\" target=\"_blank\">Weights & Biases</a> (<a href=\"https://wandb.me/run\" target=\"_blank\">docs</a>)<br/>Sweep page:  <a href=\"https://wandb.ai/hithesh-sidhesh/Assignment_2/sweeps/o2lidw9q\" target=\"_blank\">https://wandb.ai/hithesh-sidhesh/Assignment_2/sweeps/o2lidw9q</a>"
            ],
            "text/plain": [
              "<IPython.core.display.HTML object>"
            ]
          },
          "metadata": {},
          "output_type": "display_data"
        },
        {
          "data": {
            "text/html": [
              "Finishing last run (ID:lbg8ebox) before initializing another..."
            ],
            "text/plain": [
              "<IPython.core.display.HTML object>"
            ]
          },
          "metadata": {},
          "output_type": "display_data"
        },
        {
          "metadata": {
            "tags": null
          },
          "name": "stdout",
          "output_type": "stream",
          "text": [
            "\n"
          ]
        },
        {
          "data": {
            "text/html": [
              "Waiting for W&B process to finish... <strong style=\"color:green\">(success).</strong>"
            ],
            "text/plain": [
              "<IPython.core.display.HTML object>"
            ]
          },
          "metadata": {},
          "output_type": "display_data"
        },
        {
          "data": {
            "application/vnd.jupyter.widget-view+json": {
              "model_id": "dc88e02c76a4465bb5dccb4610f5c4af",
              "version_major": 2,
              "version_minor": 0
            },
            "text/plain": [
              "VBox(children=(Label(value='0.001 MB of 0.001 MB uploaded (0.000 MB deduped)\\r'), FloatProgress(value=1.0, max…"
            ]
          },
          "metadata": {},
          "output_type": "display_data"
        },
        {
          "data": {
            "text/html": [
              "Synced <strong style=\"color:#cdcd00\">Part B</strong>: <a href=\"https://wandb.ai/hithesh-sidhesh/Assignment_2/runs/lbg8ebox\" target=\"_blank\">https://wandb.ai/hithesh-sidhesh/Assignment_2/runs/lbg8ebox</a><br/>Synced 4 W&B file(s), 0 media file(s), 0 artifact file(s) and 0 other file(s)"
            ],
            "text/plain": [
              "<IPython.core.display.HTML object>"
            ]
          },
          "metadata": {},
          "output_type": "display_data"
        },
        {
          "data": {
            "text/html": [
              "Find logs at: <code>./wandb/run-20220401_031243-lbg8ebox/logs</code>"
            ],
            "text/plain": [
              "<IPython.core.display.HTML object>"
            ]
          },
          "metadata": {},
          "output_type": "display_data"
        },
        {
          "data": {
            "text/html": [
              "Successfully finished last run (ID:lbg8ebox). Initializing new run:<br/>"
            ],
            "text/plain": [
              "<IPython.core.display.HTML object>"
            ]
          },
          "metadata": {},
          "output_type": "display_data"
        },
        {
          "data": {
            "text/html": [
              "Tracking run with wandb version 0.12.11"
            ],
            "text/plain": [
              "<IPython.core.display.HTML object>"
            ]
          },
          "metadata": {},
          "output_type": "display_data"
        },
        {
          "data": {
            "text/html": [
              "Run data is saved locally in <code>/content/inaturalist_12K/train/Amphibia/wandb/run-20220401_031252-lbg8ebox</code>"
            ],
            "text/plain": [
              "<IPython.core.display.HTML object>"
            ]
          },
          "metadata": {},
          "output_type": "display_data"
        },
        {
          "data": {
            "text/html": [
              "Syncing run <strong><a href=\"https://wandb.ai/hithesh-sidhesh/Assignment_2/runs/lbg8ebox\" target=\"_blank\">Part B</a></strong> to <a href=\"https://wandb.ai/hithesh-sidhesh/Assignment_2\" target=\"_blank\">Weights & Biases</a> (<a href=\"https://wandb.me/run\" target=\"_blank\">docs</a>)<br/>Sweep page:  <a href=\"https://wandb.ai/hithesh-sidhesh/Assignment_2/sweeps/o2lidw9q\" target=\"_blank\">https://wandb.ai/hithesh-sidhesh/Assignment_2/sweeps/o2lidw9q</a>"
            ],
            "text/plain": [
              "<IPython.core.display.HTML object>"
            ]
          },
          "metadata": {},
          "output_type": "display_data"
        },
        {
          "metadata": {
            "tags": null
          },
          "name": "stdout",
          "output_type": "stream",
          "text": [
            "Augmenting data\n",
            "Found 9000 images belonging to 10 classes.\n",
            "TRAINING\n",
            "Number of samples 9000\n",
            "Names of classes {'Amphibia': 0, 'Animalia': 1, 'Arachnida': 2, 'Aves': 3, 'Fungi': 4, 'Insecta': 5, 'Mammalia': 6, 'Mollusca': 7, 'Plantae': 8, 'Reptilia': 9}\n",
            "Number of classes 10\n",
            "Number of samples per class 900\n",
            "Found 999 images belonging to 10 classes.\n",
            "VALIDATION\n",
            "Number of samples 999\n",
            "Names of classes {'Amphibia': 0, 'Animalia': 1, 'Arachnida': 2, 'Aves': 3, 'Fungi': 4, 'Insecta': 5, 'Mammalia': 6, 'Mollusca': 7, 'Plantae': 8, 'Reptilia': 9}\n",
            "Number of classes 10\n",
            "Number of samples per class 99\n",
            "WARNING:tensorflow:`input_shape` is undefined or non-square, or `rows` is not in [96, 128, 160, 192, 224]. Weights for input shape (224, 224) will be loaded as the default.\n",
            "Training last  30  layers\n",
            "Model: \"sequential\"\n",
            "_________________________________________________________________\n",
            " Layer (type)                Output Shape              Param #   \n",
            "=================================================================\n",
            " mobilenetv2_1.00_224 (Funct  (None, 8, 8, 1280)       2257984   \n",
            " ional)                                                          \n",
            "                                                                 \n",
            " global_average_pooling2d (G  (None, 1280)             0         \n",
            " lobalAveragePooling2D)                                          \n",
            "                                                                 \n",
            " dropout (Dropout)           (None, 1280)              0         \n",
            "                                                                 \n",
            " dense (Dense)               (None, 64)                81984     \n",
            "                                                                 \n",
            " dropout_1 (Dropout)         (None, 64)                0         \n",
            "                                                                 \n",
            " dense_1 (Dense)             (None, 10)                650       \n",
            "                                                                 \n",
            "=================================================================\n",
            "Total params: 2,340,618\n",
            "Trainable params: 1,609,034\n",
            "Non-trainable params: 731,584\n",
            "_________________________________________________________________\n",
            "Epoch 1/10\n",
            "70/70 [==============================] - 243s 3s/step - loss: 1.9664 - accuracy: 0.3304 - val_loss: 1.4354 - val_accuracy: 0.5335\n",
            "Epoch 2/10\n",
            "70/70 [==============================] - 230s 3s/step - loss: 1.3240 - accuracy: 0.5626 - val_loss: 1.2072 - val_accuracy: 0.6161\n",
            "Epoch 3/10\n",
            "70/70 [==============================] - 222s 3s/step - loss: 1.1293 - accuracy: 0.6300 - val_loss: 1.1696 - val_accuracy: 0.6261\n",
            "Epoch 4/10\n",
            "70/70 [==============================] - 227s 3s/step - loss: 1.0181 - accuracy: 0.6667 - val_loss: 1.1297 - val_accuracy: 0.6462\n",
            "Epoch 5/10\n",
            "70/70 [==============================] - 194s 3s/step - loss: 0.9559 - accuracy: 0.6885 - val_loss: 1.1364 - val_accuracy: 0.6562\n",
            "Epoch 6/10\n",
            "70/70 [==============================] - 211s 3s/step - loss: 0.9041 - accuracy: 0.7080 - val_loss: 1.0346 - val_accuracy: 0.6741\n",
            "Epoch 7/10\n",
            "70/70 [==============================] - 211s 3s/step - loss: 0.8415 - accuracy: 0.7249 - val_loss: 1.0061 - val_accuracy: 0.6886\n",
            "Epoch 8/10\n",
            "70/70 [==============================] - 228s 3s/step - loss: 0.7966 - accuracy: 0.7430 - val_loss: 1.0565 - val_accuracy: 0.6875\n",
            "Epoch 9/10\n",
            "70/70 [==============================] - 196s 3s/step - loss: 0.7543 - accuracy: 0.7551 - val_loss: 1.0084 - val_accuracy: 0.6964\n",
            "Epoch 10/10\n",
            "70/70 [==============================] - 210s 3s/step - loss: 0.7193 - accuracy: 0.7663 - val_loss: 0.9151 - val_accuracy: 0.7176\n",
            "{'Training_loss': 1.9663829803466797, 'Validation_loss': 1.435403823852539, 'Training_accuracy': 0.7663435339927673, 'Validation_accuracy': 0.7176339030265808, '_timestamp': 1648784959, '_runtime': 2182}\n",
            "Found 2000 images belonging to 10 classes.\n",
            "15/15 - 22s - loss: 0.9343 - accuracy: 0.7432 - 22s/epoch - 1s/step\n",
            "Test accuracy : 0.7432291507720947\n"
          ]
        },
        {
          "metadata": {
            "tags": null
          },
          "name": "stderr",
          "output_type": "stream",
          "text": [
            "\u001b[34m\u001b[1mwandb\u001b[0m: Agent Starting Run: 5ruyi404 with config:\n",
            "\u001b[34m\u001b[1mwandb\u001b[0m: \taugment_data: no\n",
            "\u001b[34m\u001b[1mwandb\u001b[0m: \tbatch_size: 256\n",
            "\u001b[34m\u001b[1mwandb\u001b[0m: \tdense_layers: [64]\n",
            "\u001b[34m\u001b[1mwandb\u001b[0m: \tdropout: 0\n",
            "\u001b[34m\u001b[1mwandb\u001b[0m: \tepochs: 5\n",
            "\u001b[34m\u001b[1mwandb\u001b[0m: \tlayers_unfreeze: None\n",
            "\u001b[34m\u001b[1mwandb\u001b[0m: \tmodel: MobileNetV2\n",
            "\u001b[34m\u001b[1mwandb\u001b[0m: \u001b[33mWARNING\u001b[0m Ignored wandb.init() arg project when running a sweep.\n"
          ]
        },
        {
          "data": {
            "text/html": [
              "Tracking run with wandb version 0.12.11"
            ],
            "text/plain": [
              "<IPython.core.display.HTML object>"
            ]
          },
          "metadata": {},
          "output_type": "display_data"
        },
        {
          "data": {
            "text/html": [
              "Run data is saved locally in <code>/content/inaturalist_12K/train/Amphibia/wandb/run-20220401_034948-5ruyi404</code>"
            ],
            "text/plain": [
              "<IPython.core.display.HTML object>"
            ]
          },
          "metadata": {},
          "output_type": "display_data"
        },
        {
          "data": {
            "text/html": [
              "Syncing run <strong><a href=\"https://wandb.ai/hithesh-sidhesh/Assignment_2/runs/5ruyi404\" target=\"_blank\">Part B</a></strong> to <a href=\"https://wandb.ai/hithesh-sidhesh/Assignment_2\" target=\"_blank\">Weights & Biases</a> (<a href=\"https://wandb.me/run\" target=\"_blank\">docs</a>)<br/>Sweep page:  <a href=\"https://wandb.ai/hithesh-sidhesh/Assignment_2/sweeps/o2lidw9q\" target=\"_blank\">https://wandb.ai/hithesh-sidhesh/Assignment_2/sweeps/o2lidw9q</a>"
            ],
            "text/plain": [
              "<IPython.core.display.HTML object>"
            ]
          },
          "metadata": {},
          "output_type": "display_data"
        },
        {
          "data": {
            "text/html": [
              "Finishing last run (ID:5ruyi404) before initializing another..."
            ],
            "text/plain": [
              "<IPython.core.display.HTML object>"
            ]
          },
          "metadata": {},
          "output_type": "display_data"
        },
        {
          "metadata": {
            "tags": null
          },
          "name": "stdout",
          "output_type": "stream",
          "text": [
            "\n"
          ]
        },
        {
          "data": {
            "text/html": [
              "Waiting for W&B process to finish... <strong style=\"color:green\">(success).</strong>"
            ],
            "text/plain": [
              "<IPython.core.display.HTML object>"
            ]
          },
          "metadata": {},
          "output_type": "display_data"
        },
        {
          "data": {
            "application/vnd.jupyter.widget-view+json": {
              "model_id": "3e77759be1d84ad3ac502665b278fed2",
              "version_major": 2,
              "version_minor": 0
            },
            "text/plain": [
              "VBox(children=(Label(value='0.001 MB of 0.001 MB uploaded (0.000 MB deduped)\\r'), FloatProgress(value=1.0, max…"
            ]
          },
          "metadata": {},
          "output_type": "display_data"
        },
        {
          "data": {
            "text/html": [
              "Synced <strong style=\"color:#cdcd00\">Part B</strong>: <a href=\"https://wandb.ai/hithesh-sidhesh/Assignment_2/runs/5ruyi404\" target=\"_blank\">https://wandb.ai/hithesh-sidhesh/Assignment_2/runs/5ruyi404</a><br/>Synced 4 W&B file(s), 0 media file(s), 0 artifact file(s) and 0 other file(s)"
            ],
            "text/plain": [
              "<IPython.core.display.HTML object>"
            ]
          },
          "metadata": {},
          "output_type": "display_data"
        },
        {
          "data": {
            "text/html": [
              "Find logs at: <code>./wandb/run-20220401_034948-5ruyi404/logs</code>"
            ],
            "text/plain": [
              "<IPython.core.display.HTML object>"
            ]
          },
          "metadata": {},
          "output_type": "display_data"
        },
        {
          "data": {
            "text/html": [
              "Successfully finished last run (ID:5ruyi404). Initializing new run:<br/>"
            ],
            "text/plain": [
              "<IPython.core.display.HTML object>"
            ]
          },
          "metadata": {},
          "output_type": "display_data"
        },
        {
          "data": {
            "text/html": [
              "Tracking run with wandb version 0.12.11"
            ],
            "text/plain": [
              "<IPython.core.display.HTML object>"
            ]
          },
          "metadata": {},
          "output_type": "display_data"
        },
        {
          "data": {
            "text/html": [
              "Run data is saved locally in <code>/content/inaturalist_12K/train/Amphibia/wandb/run-20220401_034957-5ruyi404</code>"
            ],
            "text/plain": [
              "<IPython.core.display.HTML object>"
            ]
          },
          "metadata": {},
          "output_type": "display_data"
        },
        {
          "data": {
            "text/html": [
              "Syncing run <strong><a href=\"https://wandb.ai/hithesh-sidhesh/Assignment_2/runs/5ruyi404\" target=\"_blank\">Part B</a></strong> to <a href=\"https://wandb.ai/hithesh-sidhesh/Assignment_2\" target=\"_blank\">Weights & Biases</a> (<a href=\"https://wandb.me/run\" target=\"_blank\">docs</a>)<br/>Sweep page:  <a href=\"https://wandb.ai/hithesh-sidhesh/Assignment_2/sweeps/o2lidw9q\" target=\"_blank\">https://wandb.ai/hithesh-sidhesh/Assignment_2/sweeps/o2lidw9q</a>"
            ],
            "text/plain": [
              "<IPython.core.display.HTML object>"
            ]
          },
          "metadata": {},
          "output_type": "display_data"
        },
        {
          "metadata": {
            "tags": null
          },
          "name": "stdout",
          "output_type": "stream",
          "text": [
            "Not augmenting data\n",
            "Found 9000 images belonging to 10 classes.\n",
            "TRAINING\n",
            "Number of samples 9000\n",
            "Names of classes {'Amphibia': 0, 'Animalia': 1, 'Arachnida': 2, 'Aves': 3, 'Fungi': 4, 'Insecta': 5, 'Mammalia': 6, 'Mollusca': 7, 'Plantae': 8, 'Reptilia': 9}\n",
            "Number of classes 10\n",
            "Number of samples per class 900\n",
            "Found 999 images belonging to 10 classes.\n",
            "VALIDATION\n",
            "Number of samples 999\n",
            "Names of classes {'Amphibia': 0, 'Animalia': 1, 'Arachnida': 2, 'Aves': 3, 'Fungi': 4, 'Insecta': 5, 'Mammalia': 6, 'Mollusca': 7, 'Plantae': 8, 'Reptilia': 9}\n",
            "Number of classes 10\n",
            "Number of samples per class 99\n",
            "WARNING:tensorflow:`input_shape` is undefined or non-square, or `rows` is not in [96, 128, 160, 192, 224]. Weights for input shape (224, 224) will be loaded as the default.\n",
            "Model: \"sequential\"\n",
            "_________________________________________________________________\n",
            " Layer (type)                Output Shape              Param #   \n",
            "=================================================================\n",
            " mobilenetv2_1.00_224 (Funct  (None, 8, 8, 1280)       2257984   \n",
            " ional)                                                          \n",
            "                                                                 \n",
            " global_average_pooling2d (G  (None, 1280)             0         \n",
            " lobalAveragePooling2D)                                          \n",
            "                                                                 \n",
            " dropout (Dropout)           (None, 1280)              0         \n",
            "                                                                 \n",
            " dense (Dense)               (None, 64)                81984     \n",
            "                                                                 \n",
            " dropout_1 (Dropout)         (None, 64)                0         \n",
            "                                                                 \n",
            " dense_1 (Dense)             (None, 10)                650       \n",
            "                                                                 \n",
            "=================================================================\n",
            "Total params: 2,340,618\n",
            "Trainable params: 82,634\n",
            "Non-trainable params: 2,257,984\n",
            "_________________________________________________________________\n",
            "Epoch 1/5\n",
            "35/35 [==============================] - 117s 3s/step - loss: 2.2239 - accuracy: 0.2109 - val_loss: 2.0653 - val_accuracy: 0.3203\n",
            "Epoch 2/5\n",
            "35/35 [==============================] - 108s 3s/step - loss: 1.7982 - accuracy: 0.4353 - val_loss: 1.6590 - val_accuracy: 0.5078\n",
            "Epoch 3/5\n",
            "35/35 [==============================] - 102s 3s/step - loss: 1.4416 - accuracy: 0.5711 - val_loss: 1.3483 - val_accuracy: 0.5794\n",
            "Epoch 4/5\n",
            "35/35 [==============================] - 100s 3s/step - loss: 1.2226 - accuracy: 0.6323 - val_loss: 1.1647 - val_accuracy: 0.6458\n",
            "Epoch 5/5\n",
            "35/35 [==============================] - 100s 3s/step - loss: 1.0756 - accuracy: 0.6743 - val_loss: 1.0606 - val_accuracy: 0.6641\n",
            "{'Training_loss': 2.223909616470337, 'Validation_loss': 2.0652952194213867, 'Training_accuracy': 0.6742909550666809, 'Validation_accuracy': 0.6640625, '_timestamp': 1648785540, '_runtime': 538}\n",
            "Found 2000 images belonging to 10 classes.\n",
            "7/7 - 21s - loss: 1.0334 - accuracy: 0.6802 - 21s/epoch - 3s/step\n",
            "Test accuracy : 0.6802455186843872\n"
          ]
        },
        {
          "metadata": {
            "tags": null
          },
          "name": "stderr",
          "output_type": "stream",
          "text": [
            "\u001b[34m\u001b[1mwandb\u001b[0m: Agent Starting Run: y2lkxg9i with config:\n",
            "\u001b[34m\u001b[1mwandb\u001b[0m: \taugment_data: no\n",
            "\u001b[34m\u001b[1mwandb\u001b[0m: \tbatch_size: 256\n",
            "\u001b[34m\u001b[1mwandb\u001b[0m: \tdense_layers: [256]\n",
            "\u001b[34m\u001b[1mwandb\u001b[0m: \tdropout: 0\n",
            "\u001b[34m\u001b[1mwandb\u001b[0m: \tepochs: 10\n",
            "\u001b[34m\u001b[1mwandb\u001b[0m: \tlayers_unfreeze: 30\n",
            "\u001b[34m\u001b[1mwandb\u001b[0m: \tmodel: MobileNetV2\n",
            "\u001b[34m\u001b[1mwandb\u001b[0m: \u001b[33mWARNING\u001b[0m Ignored wandb.init() arg project when running a sweep.\n"
          ]
        },
        {
          "data": {
            "text/html": [
              "Tracking run with wandb version 0.12.11"
            ],
            "text/plain": [
              "<IPython.core.display.HTML object>"
            ]
          },
          "metadata": {},
          "output_type": "display_data"
        },
        {
          "data": {
            "text/html": [
              "Run data is saved locally in <code>/content/inaturalist_12K/train/Amphibia/wandb/run-20220401_035933-y2lkxg9i</code>"
            ],
            "text/plain": [
              "<IPython.core.display.HTML object>"
            ]
          },
          "metadata": {},
          "output_type": "display_data"
        },
        {
          "data": {
            "text/html": [
              "Syncing run <strong><a href=\"https://wandb.ai/hithesh-sidhesh/Assignment_2/runs/y2lkxg9i\" target=\"_blank\">Part B</a></strong> to <a href=\"https://wandb.ai/hithesh-sidhesh/Assignment_2\" target=\"_blank\">Weights & Biases</a> (<a href=\"https://wandb.me/run\" target=\"_blank\">docs</a>)<br/>Sweep page:  <a href=\"https://wandb.ai/hithesh-sidhesh/Assignment_2/sweeps/o2lidw9q\" target=\"_blank\">https://wandb.ai/hithesh-sidhesh/Assignment_2/sweeps/o2lidw9q</a>"
            ],
            "text/plain": [
              "<IPython.core.display.HTML object>"
            ]
          },
          "metadata": {},
          "output_type": "display_data"
        },
        {
          "data": {
            "text/html": [
              "Finishing last run (ID:y2lkxg9i) before initializing another..."
            ],
            "text/plain": [
              "<IPython.core.display.HTML object>"
            ]
          },
          "metadata": {},
          "output_type": "display_data"
        },
        {
          "metadata": {
            "tags": null
          },
          "name": "stdout",
          "output_type": "stream",
          "text": [
            "\n"
          ]
        },
        {
          "data": {
            "text/html": [
              "Waiting for W&B process to finish... <strong style=\"color:green\">(success).</strong>"
            ],
            "text/plain": [
              "<IPython.core.display.HTML object>"
            ]
          },
          "metadata": {},
          "output_type": "display_data"
        },
        {
          "data": {
            "application/vnd.jupyter.widget-view+json": {
              "model_id": "ae5319e92b3643c5afec55a8c218d936",
              "version_major": 2,
              "version_minor": 0
            },
            "text/plain": [
              "VBox(children=(Label(value='0.001 MB of 0.001 MB uploaded (0.000 MB deduped)\\r'), FloatProgress(value=1.0, max…"
            ]
          },
          "metadata": {},
          "output_type": "display_data"
        },
        {
          "data": {
            "text/html": [
              "Synced <strong style=\"color:#cdcd00\">Part B</strong>: <a href=\"https://wandb.ai/hithesh-sidhesh/Assignment_2/runs/y2lkxg9i\" target=\"_blank\">https://wandb.ai/hithesh-sidhesh/Assignment_2/runs/y2lkxg9i</a><br/>Synced 4 W&B file(s), 0 media file(s), 0 artifact file(s) and 0 other file(s)"
            ],
            "text/plain": [
              "<IPython.core.display.HTML object>"
            ]
          },
          "metadata": {},
          "output_type": "display_data"
        },
        {
          "data": {
            "text/html": [
              "Find logs at: <code>./wandb/run-20220401_035933-y2lkxg9i/logs</code>"
            ],
            "text/plain": [
              "<IPython.core.display.HTML object>"
            ]
          },
          "metadata": {},
          "output_type": "display_data"
        },
        {
          "data": {
            "text/html": [
              "Successfully finished last run (ID:y2lkxg9i). Initializing new run:<br/>"
            ],
            "text/plain": [
              "<IPython.core.display.HTML object>"
            ]
          },
          "metadata": {},
          "output_type": "display_data"
        },
        {
          "data": {
            "text/html": [
              "Tracking run with wandb version 0.12.11"
            ],
            "text/plain": [
              "<IPython.core.display.HTML object>"
            ]
          },
          "metadata": {},
          "output_type": "display_data"
        },
        {
          "data": {
            "text/html": [
              "Run data is saved locally in <code>/content/inaturalist_12K/train/Amphibia/wandb/run-20220401_035941-y2lkxg9i</code>"
            ],
            "text/plain": [
              "<IPython.core.display.HTML object>"
            ]
          },
          "metadata": {},
          "output_type": "display_data"
        },
        {
          "data": {
            "text/html": [
              "Syncing run <strong><a href=\"https://wandb.ai/hithesh-sidhesh/Assignment_2/runs/y2lkxg9i\" target=\"_blank\">Part B</a></strong> to <a href=\"https://wandb.ai/hithesh-sidhesh/Assignment_2\" target=\"_blank\">Weights & Biases</a> (<a href=\"https://wandb.me/run\" target=\"_blank\">docs</a>)<br/>Sweep page:  <a href=\"https://wandb.ai/hithesh-sidhesh/Assignment_2/sweeps/o2lidw9q\" target=\"_blank\">https://wandb.ai/hithesh-sidhesh/Assignment_2/sweeps/o2lidw9q</a>"
            ],
            "text/plain": [
              "<IPython.core.display.HTML object>"
            ]
          },
          "metadata": {},
          "output_type": "display_data"
        },
        {
          "metadata": {
            "tags": null
          },
          "name": "stdout",
          "output_type": "stream",
          "text": [
            "Not augmenting data\n",
            "Found 9000 images belonging to 10 classes.\n",
            "TRAINING\n",
            "Number of samples 9000\n",
            "Names of classes {'Amphibia': 0, 'Animalia': 1, 'Arachnida': 2, 'Aves': 3, 'Fungi': 4, 'Insecta': 5, 'Mammalia': 6, 'Mollusca': 7, 'Plantae': 8, 'Reptilia': 9}\n",
            "Number of classes 10\n",
            "Number of samples per class 900\n",
            "Found 999 images belonging to 10 classes.\n",
            "VALIDATION\n",
            "Number of samples 999\n",
            "Names of classes {'Amphibia': 0, 'Animalia': 1, 'Arachnida': 2, 'Aves': 3, 'Fungi': 4, 'Insecta': 5, 'Mammalia': 6, 'Mollusca': 7, 'Plantae': 8, 'Reptilia': 9}\n",
            "Number of classes 10\n",
            "Number of samples per class 99\n",
            "WARNING:tensorflow:`input_shape` is undefined or non-square, or `rows` is not in [96, 128, 160, 192, 224]. Weights for input shape (224, 224) will be loaded as the default.\n",
            "Training last  30  layers\n",
            "Model: \"sequential\"\n",
            "_________________________________________________________________\n",
            " Layer (type)                Output Shape              Param #   \n",
            "=================================================================\n",
            " mobilenetv2_1.00_224 (Funct  (None, 8, 8, 1280)       2257984   \n",
            " ional)                                                          \n",
            "                                                                 \n",
            " global_average_pooling2d (G  (None, 1280)             0         \n",
            " lobalAveragePooling2D)                                          \n",
            "                                                                 \n",
            " dropout (Dropout)           (None, 1280)              0         \n",
            "                                                                 \n",
            " dense (Dense)               (None, 256)               327936    \n",
            "                                                                 \n",
            " dropout_1 (Dropout)         (None, 256)               0         \n",
            "                                                                 \n",
            " dense_1 (Dense)             (None, 10)                2570      \n",
            "                                                                 \n",
            "=================================================================\n",
            "Total params: 2,588,490\n",
            "Trainable params: 1,856,906\n",
            "Non-trainable params: 731,584\n",
            "_________________________________________________________________\n",
            "Epoch 1/10\n",
            "35/35 [==============================] - 122s 3s/step - loss: 1.4944 - accuracy: 0.5213 - val_loss: 0.9309 - val_accuracy: 0.6888\n",
            "Epoch 2/10\n",
            "35/35 [==============================] - 108s 3s/step - loss: 0.7015 - accuracy: 0.7769 - val_loss: 0.7511 - val_accuracy: 0.7461\n",
            "Epoch 3/10\n",
            "35/35 [==============================] - 102s 3s/step - loss: 0.4965 - accuracy: 0.8473 - val_loss: 0.7469 - val_accuracy: 0.7435\n",
            "Epoch 4/10\n",
            "35/35 [==============================] - 99s 3s/step - loss: 0.3468 - accuracy: 0.9044 - val_loss: 0.7296 - val_accuracy: 0.7617\n",
            "Epoch 5/10\n",
            "35/35 [==============================] - 100s 3s/step - loss: 0.2401 - accuracy: 0.9436 - val_loss: 0.7229 - val_accuracy: 0.7630\n",
            "Epoch 6/10\n",
            "35/35 [==============================] - 100s 3s/step - loss: 0.1626 - accuracy: 0.9710 - val_loss: 0.7198 - val_accuracy: 0.7578\n",
            "Epoch 7/10\n",
            "35/35 [==============================] - 99s 3s/step - loss: 0.1029 - accuracy: 0.9874 - val_loss: 0.7414 - val_accuracy: 0.7565\n",
            "Epoch 8/10\n",
            "35/35 [==============================] - 99s 3s/step - loss: 0.0773 - accuracy: 0.9909 - val_loss: 0.7336 - val_accuracy: 0.7591\n",
            "Epoch 9/10\n",
            "35/35 [==============================] - 99s 3s/step - loss: 0.0479 - accuracy: 0.9974 - val_loss: 0.7575 - val_accuracy: 0.7604\n",
            "Epoch 10/10\n",
            "35/35 [==============================] - 99s 3s/step - loss: 0.0324 - accuracy: 0.9990 - val_loss: 0.7945 - val_accuracy: 0.7656\n",
            "{'Training_loss': 1.494446039199829, 'Validation_loss': 0.9308691024780273, 'Training_accuracy': 0.9989707469940186, 'Validation_accuracy': 0.765625, '_timestamp': 1648786628, '_runtime': 1042}\n",
            "Found 2000 images belonging to 10 classes.\n",
            "7/7 - 21s - loss: 0.9853 - accuracy: 0.7310 - 21s/epoch - 3s/step\n",
            "Test accuracy : 0.7310267686843872\n"
          ]
        },
        {
          "metadata": {
            "tags": null
          },
          "name": "stderr",
          "output_type": "stream",
          "text": [
            "\u001b[34m\u001b[1mwandb\u001b[0m: Agent Starting Run: ovx0cj6w with config:\n",
            "\u001b[34m\u001b[1mwandb\u001b[0m: \taugment_data: no\n",
            "\u001b[34m\u001b[1mwandb\u001b[0m: \tbatch_size: 64\n",
            "\u001b[34m\u001b[1mwandb\u001b[0m: \tdense_layers: [128]\n",
            "\u001b[34m\u001b[1mwandb\u001b[0m: \tdropout: 0.2\n",
            "\u001b[34m\u001b[1mwandb\u001b[0m: \tepochs: 10\n",
            "\u001b[34m\u001b[1mwandb\u001b[0m: \tlayers_unfreeze: 20\n",
            "\u001b[34m\u001b[1mwandb\u001b[0m: \tmodel: MobileNetV2\n",
            "\u001b[34m\u001b[1mwandb\u001b[0m: \u001b[33mWARNING\u001b[0m Ignored wandb.init() arg project when running a sweep.\n"
          ]
        },
        {
          "data": {
            "text/html": [
              "Tracking run with wandb version 0.12.11"
            ],
            "text/plain": [
              "<IPython.core.display.HTML object>"
            ]
          },
          "metadata": {},
          "output_type": "display_data"
        },
        {
          "data": {
            "text/html": [
              "Run data is saved locally in <code>/content/inaturalist_12K/train/Amphibia/wandb/run-20220401_041740-ovx0cj6w</code>"
            ],
            "text/plain": [
              "<IPython.core.display.HTML object>"
            ]
          },
          "metadata": {},
          "output_type": "display_data"
        },
        {
          "data": {
            "text/html": [
              "Syncing run <strong><a href=\"https://wandb.ai/hithesh-sidhesh/Assignment_2/runs/ovx0cj6w\" target=\"_blank\">Part B</a></strong> to <a href=\"https://wandb.ai/hithesh-sidhesh/Assignment_2\" target=\"_blank\">Weights & Biases</a> (<a href=\"https://wandb.me/run\" target=\"_blank\">docs</a>)<br/>Sweep page:  <a href=\"https://wandb.ai/hithesh-sidhesh/Assignment_2/sweeps/o2lidw9q\" target=\"_blank\">https://wandb.ai/hithesh-sidhesh/Assignment_2/sweeps/o2lidw9q</a>"
            ],
            "text/plain": [
              "<IPython.core.display.HTML object>"
            ]
          },
          "metadata": {},
          "output_type": "display_data"
        },
        {
          "data": {
            "text/html": [
              "Finishing last run (ID:ovx0cj6w) before initializing another..."
            ],
            "text/plain": [
              "<IPython.core.display.HTML object>"
            ]
          },
          "metadata": {},
          "output_type": "display_data"
        },
        {
          "metadata": {
            "tags": null
          },
          "name": "stdout",
          "output_type": "stream",
          "text": [
            "\n"
          ]
        },
        {
          "data": {
            "text/html": [
              "Waiting for W&B process to finish... <strong style=\"color:green\">(success).</strong>"
            ],
            "text/plain": [
              "<IPython.core.display.HTML object>"
            ]
          },
          "metadata": {},
          "output_type": "display_data"
        },
        {
          "data": {
            "application/vnd.jupyter.widget-view+json": {
              "model_id": "c61a734ce915467ebc25e10738201d78",
              "version_major": 2,
              "version_minor": 0
            },
            "text/plain": [
              "VBox(children=(Label(value='0.001 MB of 0.001 MB uploaded (0.000 MB deduped)\\r'), FloatProgress(value=1.0, max…"
            ]
          },
          "metadata": {},
          "output_type": "display_data"
        },
        {
          "data": {
            "text/html": [
              "Synced <strong style=\"color:#cdcd00\">Part B</strong>: <a href=\"https://wandb.ai/hithesh-sidhesh/Assignment_2/runs/ovx0cj6w\" target=\"_blank\">https://wandb.ai/hithesh-sidhesh/Assignment_2/runs/ovx0cj6w</a><br/>Synced 4 W&B file(s), 0 media file(s), 0 artifact file(s) and 0 other file(s)"
            ],
            "text/plain": [
              "<IPython.core.display.HTML object>"
            ]
          },
          "metadata": {},
          "output_type": "display_data"
        },
        {
          "data": {
            "text/html": [
              "Find logs at: <code>./wandb/run-20220401_041740-ovx0cj6w/logs</code>"
            ],
            "text/plain": [
              "<IPython.core.display.HTML object>"
            ]
          },
          "metadata": {},
          "output_type": "display_data"
        },
        {
          "data": {
            "text/html": [
              "Successfully finished last run (ID:ovx0cj6w). Initializing new run:<br/>"
            ],
            "text/plain": [
              "<IPython.core.display.HTML object>"
            ]
          },
          "metadata": {},
          "output_type": "display_data"
        },
        {
          "data": {
            "text/html": [
              "Tracking run with wandb version 0.12.11"
            ],
            "text/plain": [
              "<IPython.core.display.HTML object>"
            ]
          },
          "metadata": {},
          "output_type": "display_data"
        },
        {
          "data": {
            "text/html": [
              "Run data is saved locally in <code>/content/inaturalist_12K/train/Amphibia/wandb/run-20220401_041748-ovx0cj6w</code>"
            ],
            "text/plain": [
              "<IPython.core.display.HTML object>"
            ]
          },
          "metadata": {},
          "output_type": "display_data"
        },
        {
          "data": {
            "text/html": [
              "Syncing run <strong><a href=\"https://wandb.ai/hithesh-sidhesh/Assignment_2/runs/ovx0cj6w\" target=\"_blank\">Part B</a></strong> to <a href=\"https://wandb.ai/hithesh-sidhesh/Assignment_2\" target=\"_blank\">Weights & Biases</a> (<a href=\"https://wandb.me/run\" target=\"_blank\">docs</a>)<br/>Sweep page:  <a href=\"https://wandb.ai/hithesh-sidhesh/Assignment_2/sweeps/o2lidw9q\" target=\"_blank\">https://wandb.ai/hithesh-sidhesh/Assignment_2/sweeps/o2lidw9q</a>"
            ],
            "text/plain": [
              "<IPython.core.display.HTML object>"
            ]
          },
          "metadata": {},
          "output_type": "display_data"
        },
        {
          "metadata": {
            "tags": null
          },
          "name": "stdout",
          "output_type": "stream",
          "text": [
            "Not augmenting data\n",
            "Found 9000 images belonging to 10 classes.\n",
            "TRAINING\n",
            "Number of samples 9000\n",
            "Names of classes {'Amphibia': 0, 'Animalia': 1, 'Arachnida': 2, 'Aves': 3, 'Fungi': 4, 'Insecta': 5, 'Mammalia': 6, 'Mollusca': 7, 'Plantae': 8, 'Reptilia': 9}\n",
            "Number of classes 10\n",
            "Number of samples per class 900\n",
            "Found 999 images belonging to 10 classes.\n",
            "VALIDATION\n",
            "Number of samples 999\n",
            "Names of classes {'Amphibia': 0, 'Animalia': 1, 'Arachnida': 2, 'Aves': 3, 'Fungi': 4, 'Insecta': 5, 'Mammalia': 6, 'Mollusca': 7, 'Plantae': 8, 'Reptilia': 9}\n",
            "Number of classes 10\n",
            "Number of samples per class 99\n",
            "WARNING:tensorflow:`input_shape` is undefined or non-square, or `rows` is not in [96, 128, 160, 192, 224]. Weights for input shape (224, 224) will be loaded as the default.\n",
            "Training last  20  layers\n",
            "Model: \"sequential\"\n",
            "_________________________________________________________________\n",
            " Layer (type)                Output Shape              Param #   \n",
            "=================================================================\n",
            " mobilenetv2_1.00_224 (Funct  (None, 8, 8, 1280)       2257984   \n",
            " ional)                                                          \n",
            "                                                                 \n",
            " global_average_pooling2d (G  (None, 1280)             0         \n",
            " lobalAveragePooling2D)                                          \n",
            "                                                                 \n",
            " dropout (Dropout)           (None, 1280)              0         \n",
            "                                                                 \n",
            " dense (Dense)               (None, 128)               163968    \n",
            "                                                                 \n",
            " dropout_1 (Dropout)         (None, 128)               0         \n",
            "                                                                 \n",
            " dense_1 (Dense)             (None, 10)                1290      \n",
            "                                                                 \n",
            "=================================================================\n",
            "Total params: 2,423,242\n",
            "Trainable params: 1,371,338\n",
            "Non-trainable params: 1,051,904\n",
            "_________________________________________________________________\n",
            "Epoch 1/10\n",
            "140/140 [==============================] - 121s 838ms/step - loss: 1.3645 - accuracy: 0.5530 - val_loss: 0.8555 - val_accuracy: 0.7188\n",
            "Epoch 2/10\n",
            "140/140 [==============================] - 114s 817ms/step - loss: 0.7773 - accuracy: 0.7474 - val_loss: 0.7615 - val_accuracy: 0.7427\n",
            "Epoch 3/10\n",
            "140/140 [==============================] - 110s 792ms/step - loss: 0.5819 - accuracy: 0.8138 - val_loss: 0.7690 - val_accuracy: 0.7521\n",
            "Epoch 4/10\n",
            "140/140 [==============================] - 109s 782ms/step - loss: 0.4765 - accuracy: 0.8427 - val_loss: 0.7473 - val_accuracy: 0.7531\n",
            "Epoch 5/10\n",
            "140/140 [==============================] - 103s 739ms/step - loss: 0.3558 - accuracy: 0.8834 - val_loss: 0.7883 - val_accuracy: 0.7458\n",
            "Epoch 6/10\n",
            "140/140 [==============================] - 103s 738ms/step - loss: 0.2569 - accuracy: 0.9194 - val_loss: 0.7634 - val_accuracy: 0.7542\n",
            "Epoch 7/10\n",
            "140/140 [==============================] - 103s 738ms/step - loss: 0.1845 - accuracy: 0.9445 - val_loss: 0.8214 - val_accuracy: 0.7510\n",
            "Epoch 8/10\n",
            "140/140 [==============================] - 103s 739ms/step - loss: 0.1342 - accuracy: 0.9623 - val_loss: 0.8927 - val_accuracy: 0.7458\n",
            "Epoch 9/10\n",
            "140/140 [==============================] - 103s 737ms/step - loss: 0.0988 - accuracy: 0.9740 - val_loss: 0.9160 - val_accuracy: 0.7479\n",
            "Epoch 10/10\n",
            "140/140 [==============================] - 102s 734ms/step - loss: 0.0768 - accuracy: 0.9781 - val_loss: 0.9665 - val_accuracy: 0.7500\n",
            "{'Training_loss': 1.3644596338272095, 'Validation_loss': 0.9664586782455444, 'Training_accuracy': 0.9780662655830383, 'Validation_accuracy': 0.7541666626930237, '_timestamp': 1648787753, '_runtime': 1080}\n",
            "Found 2000 images belonging to 10 classes.\n",
            "31/31 - 23s - loss: 1.0517 - accuracy: 0.7359 - 23s/epoch - 728ms/step\n",
            "Test accuracy : 0.7358871102333069\n"
          ]
        },
        {
          "metadata": {
            "tags": null
          },
          "name": "stderr",
          "output_type": "stream",
          "text": [
            "\u001b[34m\u001b[1mwandb\u001b[0m: Sweep Agent: Waiting for job.\n",
            "\u001b[34m\u001b[1mwandb\u001b[0m: Job received.\n",
            "\u001b[34m\u001b[1mwandb\u001b[0m: Agent Starting Run: 1x38z22f with config:\n",
            "\u001b[34m\u001b[1mwandb\u001b[0m: \taugment_data: no\n",
            "\u001b[34m\u001b[1mwandb\u001b[0m: \tbatch_size: 64\n",
            "\u001b[34m\u001b[1mwandb\u001b[0m: \tdense_layers: [128]\n",
            "\u001b[34m\u001b[1mwandb\u001b[0m: \tdropout: 0.2\n",
            "\u001b[34m\u001b[1mwandb\u001b[0m: \tepochs: 5\n",
            "\u001b[34m\u001b[1mwandb\u001b[0m: \tlayers_unfreeze: None\n",
            "\u001b[34m\u001b[1mwandb\u001b[0m: \tmodel: MobileNetV2\n",
            "\u001b[34m\u001b[1mwandb\u001b[0m: \u001b[33mWARNING\u001b[0m Ignored wandb.init() arg project when running a sweep.\n"
          ]
        },
        {
          "data": {
            "text/html": [
              "Tracking run with wandb version 0.12.11"
            ],
            "text/plain": [
              "<IPython.core.display.HTML object>"
            ]
          },
          "metadata": {},
          "output_type": "display_data"
        },
        {
          "data": {
            "text/html": [
              "Run data is saved locally in <code>/content/inaturalist_12K/train/Amphibia/wandb/run-20220401_043721-1x38z22f</code>"
            ],
            "text/plain": [
              "<IPython.core.display.HTML object>"
            ]
          },
          "metadata": {},
          "output_type": "display_data"
        },
        {
          "data": {
            "text/html": [
              "Syncing run <strong><a href=\"https://wandb.ai/hithesh-sidhesh/Assignment_2/runs/1x38z22f\" target=\"_blank\">Part B</a></strong> to <a href=\"https://wandb.ai/hithesh-sidhesh/Assignment_2\" target=\"_blank\">Weights & Biases</a> (<a href=\"https://wandb.me/run\" target=\"_blank\">docs</a>)<br/>Sweep page:  <a href=\"https://wandb.ai/hithesh-sidhesh/Assignment_2/sweeps/o2lidw9q\" target=\"_blank\">https://wandb.ai/hithesh-sidhesh/Assignment_2/sweeps/o2lidw9q</a>"
            ],
            "text/plain": [
              "<IPython.core.display.HTML object>"
            ]
          },
          "metadata": {},
          "output_type": "display_data"
        },
        {
          "data": {
            "text/html": [
              "Finishing last run (ID:1x38z22f) before initializing another..."
            ],
            "text/plain": [
              "<IPython.core.display.HTML object>"
            ]
          },
          "metadata": {},
          "output_type": "display_data"
        },
        {
          "metadata": {
            "tags": null
          },
          "name": "stdout",
          "output_type": "stream",
          "text": [
            "\n"
          ]
        },
        {
          "data": {
            "text/html": [
              "Waiting for W&B process to finish... <strong style=\"color:green\">(success).</strong>"
            ],
            "text/plain": [
              "<IPython.core.display.HTML object>"
            ]
          },
          "metadata": {},
          "output_type": "display_data"
        },
        {
          "data": {
            "application/vnd.jupyter.widget-view+json": {
              "model_id": "850da9d544ae4d71ada50d3c618bd6a9",
              "version_major": 2,
              "version_minor": 0
            },
            "text/plain": [
              "VBox(children=(Label(value='0.001 MB of 0.001 MB uploaded (0.000 MB deduped)\\r'), FloatProgress(value=1.0, max…"
            ]
          },
          "metadata": {},
          "output_type": "display_data"
        },
        {
          "data": {
            "text/html": [
              "Synced <strong style=\"color:#cdcd00\">Part B</strong>: <a href=\"https://wandb.ai/hithesh-sidhesh/Assignment_2/runs/1x38z22f\" target=\"_blank\">https://wandb.ai/hithesh-sidhesh/Assignment_2/runs/1x38z22f</a><br/>Synced 4 W&B file(s), 0 media file(s), 0 artifact file(s) and 0 other file(s)"
            ],
            "text/plain": [
              "<IPython.core.display.HTML object>"
            ]
          },
          "metadata": {},
          "output_type": "display_data"
        },
        {
          "data": {
            "text/html": [
              "Find logs at: <code>./wandb/run-20220401_043721-1x38z22f/logs</code>"
            ],
            "text/plain": [
              "<IPython.core.display.HTML object>"
            ]
          },
          "metadata": {},
          "output_type": "display_data"
        },
        {
          "data": {
            "text/html": [
              "Successfully finished last run (ID:1x38z22f). Initializing new run:<br/>"
            ],
            "text/plain": [
              "<IPython.core.display.HTML object>"
            ]
          },
          "metadata": {},
          "output_type": "display_data"
        },
        {
          "data": {
            "text/html": [
              "Tracking run with wandb version 0.12.11"
            ],
            "text/plain": [
              "<IPython.core.display.HTML object>"
            ]
          },
          "metadata": {},
          "output_type": "display_data"
        },
        {
          "data": {
            "text/html": [
              "Run data is saved locally in <code>/content/inaturalist_12K/train/Amphibia/wandb/run-20220401_043730-1x38z22f</code>"
            ],
            "text/plain": [
              "<IPython.core.display.HTML object>"
            ]
          },
          "metadata": {},
          "output_type": "display_data"
        },
        {
          "data": {
            "text/html": [
              "Syncing run <strong><a href=\"https://wandb.ai/hithesh-sidhesh/Assignment_2/runs/1x38z22f\" target=\"_blank\">Part B</a></strong> to <a href=\"https://wandb.ai/hithesh-sidhesh/Assignment_2\" target=\"_blank\">Weights & Biases</a> (<a href=\"https://wandb.me/run\" target=\"_blank\">docs</a>)<br/>Sweep page:  <a href=\"https://wandb.ai/hithesh-sidhesh/Assignment_2/sweeps/o2lidw9q\" target=\"_blank\">https://wandb.ai/hithesh-sidhesh/Assignment_2/sweeps/o2lidw9q</a>"
            ],
            "text/plain": [
              "<IPython.core.display.HTML object>"
            ]
          },
          "metadata": {},
          "output_type": "display_data"
        },
        {
          "metadata": {
            "tags": null
          },
          "name": "stdout",
          "output_type": "stream",
          "text": [
            "Not augmenting data\n",
            "Found 9000 images belonging to 10 classes.\n",
            "TRAINING\n",
            "Number of samples 9000\n",
            "Names of classes {'Amphibia': 0, 'Animalia': 1, 'Arachnida': 2, 'Aves': 3, 'Fungi': 4, 'Insecta': 5, 'Mammalia': 6, 'Mollusca': 7, 'Plantae': 8, 'Reptilia': 9}\n",
            "Number of classes 10\n",
            "Number of samples per class 900\n",
            "Found 999 images belonging to 10 classes.\n",
            "VALIDATION\n",
            "Number of samples 999\n",
            "Names of classes {'Amphibia': 0, 'Animalia': 1, 'Arachnida': 2, 'Aves': 3, 'Fungi': 4, 'Insecta': 5, 'Mammalia': 6, 'Mollusca': 7, 'Plantae': 8, 'Reptilia': 9}\n",
            "Number of classes 10\n",
            "Number of samples per class 99\n",
            "WARNING:tensorflow:`input_shape` is undefined or non-square, or `rows` is not in [96, 128, 160, 192, 224]. Weights for input shape (224, 224) will be loaded as the default.\n",
            "Model: \"sequential\"\n",
            "_________________________________________________________________\n",
            " Layer (type)                Output Shape              Param #   \n",
            "=================================================================\n",
            " mobilenetv2_1.00_224 (Funct  (None, 8, 8, 1280)       2257984   \n",
            " ional)                                                          \n",
            "                                                                 \n",
            " global_average_pooling2d (G  (None, 1280)             0         \n",
            " lobalAveragePooling2D)                                          \n",
            "                                                                 \n",
            " dropout (Dropout)           (None, 1280)              0         \n",
            "                                                                 \n",
            " dense (Dense)               (None, 128)               163968    \n",
            "                                                                 \n",
            " dropout_1 (Dropout)         (None, 128)               0         \n",
            "                                                                 \n",
            " dense_1 (Dense)             (None, 10)                1290      \n",
            "                                                                 \n",
            "=================================================================\n",
            "Total params: 2,423,242\n",
            "Trainable params: 165,258\n",
            "Non-trainable params: 2,257,984\n",
            "_________________________________________________________________\n",
            "Epoch 1/5\n",
            "140/140 [==============================] - 120s 832ms/step - loss: 1.9616 - accuracy: 0.3384 - val_loss: 1.3292 - val_accuracy: 0.6385\n",
            "Epoch 2/5\n",
            "140/140 [==============================] - 113s 812ms/step - loss: 1.3371 - accuracy: 0.5820 - val_loss: 1.0177 - val_accuracy: 0.7156\n",
            "Epoch 3/5\n",
            "140/140 [==============================] - 111s 800ms/step - loss: 1.1196 - accuracy: 0.6492 - val_loss: 0.9065 - val_accuracy: 0.7417\n",
            "Epoch 4/5\n",
            "140/140 [==============================] - 108s 778ms/step - loss: 1.0208 - accuracy: 0.6779 - val_loss: 0.8416 - val_accuracy: 0.7510\n",
            "Epoch 5/5\n",
            "140/140 [==============================] - 103s 737ms/step - loss: 0.9498 - accuracy: 0.6965 - val_loss: 0.8201 - val_accuracy: 0.7521\n",
            "{'Training_loss': 1.9616293907165527, 'Validation_loss': 1.3292051553726196, 'Training_accuracy': 0.696508526802063, 'Validation_accuracy': 0.7520833611488342, '_timestamp': 1648788422, '_runtime': 567}\n",
            "Found 2000 images belonging to 10 classes.\n",
            "31/31 - 23s - loss: 0.8198 - accuracy: 0.7379 - 23s/epoch - 729ms/step\n",
            "Test accuracy : 0.7379032373428345\n"
          ]
        },
        {
          "metadata": {
            "tags": null
          },
          "name": "stderr",
          "output_type": "stream",
          "text": [
            "\u001b[34m\u001b[1mwandb\u001b[0m: Agent Starting Run: g3cp5z4s with config:\n",
            "\u001b[34m\u001b[1mwandb\u001b[0m: \taugment_data: yes\n",
            "\u001b[34m\u001b[1mwandb\u001b[0m: \tbatch_size: 256\n",
            "\u001b[34m\u001b[1mwandb\u001b[0m: \tdense_layers: [64]\n",
            "\u001b[34m\u001b[1mwandb\u001b[0m: \tdropout: 0\n",
            "\u001b[34m\u001b[1mwandb\u001b[0m: \tepochs: 10\n",
            "\u001b[34m\u001b[1mwandb\u001b[0m: \tlayers_unfreeze: 20\n",
            "\u001b[34m\u001b[1mwandb\u001b[0m: \tmodel: MobileNetV2\n",
            "\u001b[34m\u001b[1mwandb\u001b[0m: \u001b[33mWARNING\u001b[0m Ignored wandb.init() arg project when running a sweep.\n"
          ]
        },
        {
          "data": {
            "text/html": [
              "Tracking run with wandb version 0.12.11"
            ],
            "text/plain": [
              "<IPython.core.display.HTML object>"
            ]
          },
          "metadata": {},
          "output_type": "display_data"
        },
        {
          "data": {
            "text/html": [
              "Run data is saved locally in <code>/content/inaturalist_12K/train/Amphibia/wandb/run-20220401_044751-g3cp5z4s</code>"
            ],
            "text/plain": [
              "<IPython.core.display.HTML object>"
            ]
          },
          "metadata": {},
          "output_type": "display_data"
        },
        {
          "data": {
            "text/html": [
              "Syncing run <strong><a href=\"https://wandb.ai/hithesh-sidhesh/Assignment_2/runs/g3cp5z4s\" target=\"_blank\">Part B</a></strong> to <a href=\"https://wandb.ai/hithesh-sidhesh/Assignment_2\" target=\"_blank\">Weights & Biases</a> (<a href=\"https://wandb.me/run\" target=\"_blank\">docs</a>)<br/>Sweep page:  <a href=\"https://wandb.ai/hithesh-sidhesh/Assignment_2/sweeps/o2lidw9q\" target=\"_blank\">https://wandb.ai/hithesh-sidhesh/Assignment_2/sweeps/o2lidw9q</a>"
            ],
            "text/plain": [
              "<IPython.core.display.HTML object>"
            ]
          },
          "metadata": {},
          "output_type": "display_data"
        },
        {
          "data": {
            "text/html": [
              "Finishing last run (ID:g3cp5z4s) before initializing another..."
            ],
            "text/plain": [
              "<IPython.core.display.HTML object>"
            ]
          },
          "metadata": {},
          "output_type": "display_data"
        },
        {
          "metadata": {
            "tags": null
          },
          "name": "stdout",
          "output_type": "stream",
          "text": [
            "\n"
          ]
        },
        {
          "data": {
            "text/html": [
              "Waiting for W&B process to finish... <strong style=\"color:green\">(success).</strong>"
            ],
            "text/plain": [
              "<IPython.core.display.HTML object>"
            ]
          },
          "metadata": {},
          "output_type": "display_data"
        },
        {
          "data": {
            "application/vnd.jupyter.widget-view+json": {
              "model_id": "c7a2fdf65b354c0b99ead220bd7dc769",
              "version_major": 2,
              "version_minor": 0
            },
            "text/plain": [
              "VBox(children=(Label(value='0.001 MB of 0.001 MB uploaded (0.000 MB deduped)\\r'), FloatProgress(value=1.0, max…"
            ]
          },
          "metadata": {},
          "output_type": "display_data"
        },
        {
          "data": {
            "text/html": [
              "Synced <strong style=\"color:#cdcd00\">Part B</strong>: <a href=\"https://wandb.ai/hithesh-sidhesh/Assignment_2/runs/g3cp5z4s\" target=\"_blank\">https://wandb.ai/hithesh-sidhesh/Assignment_2/runs/g3cp5z4s</a><br/>Synced 4 W&B file(s), 0 media file(s), 0 artifact file(s) and 0 other file(s)"
            ],
            "text/plain": [
              "<IPython.core.display.HTML object>"
            ]
          },
          "metadata": {},
          "output_type": "display_data"
        },
        {
          "data": {
            "text/html": [
              "Find logs at: <code>./wandb/run-20220401_044751-g3cp5z4s/logs</code>"
            ],
            "text/plain": [
              "<IPython.core.display.HTML object>"
            ]
          },
          "metadata": {},
          "output_type": "display_data"
        },
        {
          "data": {
            "text/html": [
              "Successfully finished last run (ID:g3cp5z4s). Initializing new run:<br/>"
            ],
            "text/plain": [
              "<IPython.core.display.HTML object>"
            ]
          },
          "metadata": {},
          "output_type": "display_data"
        },
        {
          "data": {
            "text/html": [
              "Tracking run with wandb version 0.12.11"
            ],
            "text/plain": [
              "<IPython.core.display.HTML object>"
            ]
          },
          "metadata": {},
          "output_type": "display_data"
        },
        {
          "data": {
            "text/html": [
              "Run data is saved locally in <code>/content/inaturalist_12K/train/Amphibia/wandb/run-20220401_044800-g3cp5z4s</code>"
            ],
            "text/plain": [
              "<IPython.core.display.HTML object>"
            ]
          },
          "metadata": {},
          "output_type": "display_data"
        },
        {
          "data": {
            "text/html": [
              "Syncing run <strong><a href=\"https://wandb.ai/hithesh-sidhesh/Assignment_2/runs/g3cp5z4s\" target=\"_blank\">Part B</a></strong> to <a href=\"https://wandb.ai/hithesh-sidhesh/Assignment_2\" target=\"_blank\">Weights & Biases</a> (<a href=\"https://wandb.me/run\" target=\"_blank\">docs</a>)<br/>Sweep page:  <a href=\"https://wandb.ai/hithesh-sidhesh/Assignment_2/sweeps/o2lidw9q\" target=\"_blank\">https://wandb.ai/hithesh-sidhesh/Assignment_2/sweeps/o2lidw9q</a>"
            ],
            "text/plain": [
              "<IPython.core.display.HTML object>"
            ]
          },
          "metadata": {},
          "output_type": "display_data"
        },
        {
          "metadata": {
            "tags": null
          },
          "name": "stdout",
          "output_type": "stream",
          "text": [
            "Augmenting data\n",
            "Found 9000 images belonging to 10 classes.\n",
            "TRAINING\n",
            "Number of samples 9000\n",
            "Names of classes {'Amphibia': 0, 'Animalia': 1, 'Arachnida': 2, 'Aves': 3, 'Fungi': 4, 'Insecta': 5, 'Mammalia': 6, 'Mollusca': 7, 'Plantae': 8, 'Reptilia': 9}\n",
            "Number of classes 10\n",
            "Number of samples per class 900\n",
            "Found 999 images belonging to 10 classes.\n",
            "VALIDATION\n",
            "Number of samples 999\n",
            "Names of classes {'Amphibia': 0, 'Animalia': 1, 'Arachnida': 2, 'Aves': 3, 'Fungi': 4, 'Insecta': 5, 'Mammalia': 6, 'Mollusca': 7, 'Plantae': 8, 'Reptilia': 9}\n",
            "Number of classes 10\n",
            "Number of samples per class 99\n",
            "WARNING:tensorflow:`input_shape` is undefined or non-square, or `rows` is not in [96, 128, 160, 192, 224]. Weights for input shape (224, 224) will be loaded as the default.\n",
            "Training last  20  layers\n",
            "Model: \"sequential\"\n",
            "_________________________________________________________________\n",
            " Layer (type)                Output Shape              Param #   \n",
            "=================================================================\n",
            " mobilenetv2_1.00_224 (Funct  (None, 8, 8, 1280)       2257984   \n",
            " ional)                                                          \n",
            "                                                                 \n",
            " global_average_pooling2d (G  (None, 1280)             0         \n",
            " lobalAveragePooling2D)                                          \n",
            "                                                                 \n",
            " dropout (Dropout)           (None, 1280)              0         \n",
            "                                                                 \n",
            " dense (Dense)               (None, 64)                81984     \n",
            "                                                                 \n",
            " dropout_1 (Dropout)         (None, 64)                0         \n",
            "                                                                 \n",
            " dense_1 (Dense)             (None, 10)                650       \n",
            "                                                                 \n",
            "=================================================================\n",
            "Total params: 2,340,618\n",
            "Trainable params: 1,288,714\n",
            "Non-trainable params: 1,051,904\n",
            "_________________________________________________________________\n",
            "Epoch 1/10\n",
            "35/35 [==============================] - 245s 7s/step - loss: 1.7615 - accuracy: 0.4234 - val_loss: 1.4568 - val_accuracy: 0.5065\n",
            "Epoch 2/10\n",
            "35/35 [==============================] - 230s 7s/step - loss: 1.1083 - accuracy: 0.6363 - val_loss: 1.1764 - val_accuracy: 0.6029\n",
            "Epoch 3/10\n",
            "35/35 [==============================] - 218s 6s/step - loss: 0.9450 - accuracy: 0.6896 - val_loss: 1.0880 - val_accuracy: 0.6354\n",
            "Epoch 4/10\n",
            "35/35 [==============================] - 211s 6s/step - loss: 0.8685 - accuracy: 0.7073 - val_loss: 1.0756 - val_accuracy: 0.6302\n",
            "Epoch 5/10\n",
            "35/35 [==============================] - 210s 6s/step - loss: 0.8031 - accuracy: 0.7341 - val_loss: 1.1198 - val_accuracy: 0.6172\n",
            "Epoch 6/10\n",
            "35/35 [==============================] - 209s 6s/step - loss: 0.7634 - accuracy: 0.7401 - val_loss: 1.0971 - val_accuracy: 0.6237\n",
            "Epoch 7/10\n",
            "35/35 [==============================] - 210s 6s/step - loss: 0.7159 - accuracy: 0.7533 - val_loss: 1.1359 - val_accuracy: 0.6328\n",
            "Epoch 8/10\n",
            "35/35 [==============================] - 210s 6s/step - loss: 0.6878 - accuracy: 0.7698 - val_loss: 1.0745 - val_accuracy: 0.6628\n",
            "Epoch 9/10\n",
            "35/35 [==============================] - 210s 6s/step - loss: 0.6418 - accuracy: 0.7861 - val_loss: 1.1342 - val_accuracy: 0.6354\n",
            "Epoch 10/10\n",
            "35/35 [==============================] - 209s 6s/step - loss: 0.6458 - accuracy: 0.7795 - val_loss: 1.1083 - val_accuracy: 0.6380\n",
            "{'Training_loss': 1.7614585161209106, 'Validation_loss': 1.4567736387252808, 'Training_accuracy': 0.7861390709877014, 'Validation_accuracy': 0.6627604365348816, '_timestamp': 1648790657, '_runtime': 2172}\n",
            "Found 2000 images belonging to 10 classes.\n",
            "7/7 - 21s - loss: 0.9696 - accuracy: 0.7137 - 21s/epoch - 3s/step\n",
            "Test accuracy : 0.7137276530265808\n"
          ]
        },
        {
          "metadata": {
            "tags": null
          },
          "name": "stderr",
          "output_type": "stream",
          "text": [
            "\u001b[34m\u001b[1mwandb\u001b[0m: Sweep Agent: Waiting for job.\n",
            "\u001b[34m\u001b[1mwandb\u001b[0m: Job received.\n",
            "\u001b[34m\u001b[1mwandb\u001b[0m: Agent Starting Run: dt8m8x0a with config:\n",
            "\u001b[34m\u001b[1mwandb\u001b[0m: \taugment_data: no\n",
            "\u001b[34m\u001b[1mwandb\u001b[0m: \tbatch_size: 256\n",
            "\u001b[34m\u001b[1mwandb\u001b[0m: \tdense_layers: [256]\n",
            "\u001b[34m\u001b[1mwandb\u001b[0m: \tdropout: 0.2\n",
            "\u001b[34m\u001b[1mwandb\u001b[0m: \tepochs: 10\n",
            "\u001b[34m\u001b[1mwandb\u001b[0m: \tlayers_unfreeze: None\n",
            "\u001b[34m\u001b[1mwandb\u001b[0m: \tmodel: MobileNetV2\n",
            "\u001b[34m\u001b[1mwandb\u001b[0m: \u001b[33mWARNING\u001b[0m Ignored wandb.init() arg project when running a sweep.\n"
          ]
        },
        {
          "data": {
            "text/html": [
              "Tracking run with wandb version 0.12.11"
            ],
            "text/plain": [
              "<IPython.core.display.HTML object>"
            ]
          },
          "metadata": {},
          "output_type": "display_data"
        },
        {
          "data": {
            "text/html": [
              "Run data is saved locally in <code>/content/inaturalist_12K/train/Amphibia/wandb/run-20220401_052500-dt8m8x0a</code>"
            ],
            "text/plain": [
              "<IPython.core.display.HTML object>"
            ]
          },
          "metadata": {},
          "output_type": "display_data"
        },
        {
          "data": {
            "text/html": [
              "Syncing run <strong><a href=\"https://wandb.ai/hithesh-sidhesh/Assignment_2/runs/dt8m8x0a\" target=\"_blank\">Part B</a></strong> to <a href=\"https://wandb.ai/hithesh-sidhesh/Assignment_2\" target=\"_blank\">Weights & Biases</a> (<a href=\"https://wandb.me/run\" target=\"_blank\">docs</a>)<br/>Sweep page:  <a href=\"https://wandb.ai/hithesh-sidhesh/Assignment_2/sweeps/o2lidw9q\" target=\"_blank\">https://wandb.ai/hithesh-sidhesh/Assignment_2/sweeps/o2lidw9q</a>"
            ],
            "text/plain": [
              "<IPython.core.display.HTML object>"
            ]
          },
          "metadata": {},
          "output_type": "display_data"
        },
        {
          "data": {
            "text/html": [
              "Finishing last run (ID:dt8m8x0a) before initializing another..."
            ],
            "text/plain": [
              "<IPython.core.display.HTML object>"
            ]
          },
          "metadata": {},
          "output_type": "display_data"
        },
        {
          "metadata": {
            "tags": null
          },
          "name": "stdout",
          "output_type": "stream",
          "text": [
            "\n"
          ]
        },
        {
          "data": {
            "text/html": [
              "Waiting for W&B process to finish... <strong style=\"color:green\">(success).</strong>"
            ],
            "text/plain": [
              "<IPython.core.display.HTML object>"
            ]
          },
          "metadata": {},
          "output_type": "display_data"
        },
        {
          "data": {
            "application/vnd.jupyter.widget-view+json": {
              "model_id": "6eaef6ae64474b48af86b20c7eae7dea",
              "version_major": 2,
              "version_minor": 0
            },
            "text/plain": [
              "VBox(children=(Label(value='0.001 MB of 0.001 MB uploaded (0.000 MB deduped)\\r'), FloatProgress(value=1.0, max…"
            ]
          },
          "metadata": {},
          "output_type": "display_data"
        },
        {
          "data": {
            "text/html": [
              "Synced <strong style=\"color:#cdcd00\">Part B</strong>: <a href=\"https://wandb.ai/hithesh-sidhesh/Assignment_2/runs/dt8m8x0a\" target=\"_blank\">https://wandb.ai/hithesh-sidhesh/Assignment_2/runs/dt8m8x0a</a><br/>Synced 4 W&B file(s), 0 media file(s), 0 artifact file(s) and 0 other file(s)"
            ],
            "text/plain": [
              "<IPython.core.display.HTML object>"
            ]
          },
          "metadata": {},
          "output_type": "display_data"
        },
        {
          "data": {
            "text/html": [
              "Find logs at: <code>./wandb/run-20220401_052500-dt8m8x0a/logs</code>"
            ],
            "text/plain": [
              "<IPython.core.display.HTML object>"
            ]
          },
          "metadata": {},
          "output_type": "display_data"
        },
        {
          "data": {
            "text/html": [
              "Successfully finished last run (ID:dt8m8x0a). Initializing new run:<br/>"
            ],
            "text/plain": [
              "<IPython.core.display.HTML object>"
            ]
          },
          "metadata": {},
          "output_type": "display_data"
        },
        {
          "data": {
            "text/html": [
              "Tracking run with wandb version 0.12.11"
            ],
            "text/plain": [
              "<IPython.core.display.HTML object>"
            ]
          },
          "metadata": {},
          "output_type": "display_data"
        },
        {
          "data": {
            "text/html": [
              "Run data is saved locally in <code>/content/inaturalist_12K/train/Amphibia/wandb/run-20220401_052509-dt8m8x0a</code>"
            ],
            "text/plain": [
              "<IPython.core.display.HTML object>"
            ]
          },
          "metadata": {},
          "output_type": "display_data"
        },
        {
          "data": {
            "text/html": [
              "Syncing run <strong><a href=\"https://wandb.ai/hithesh-sidhesh/Assignment_2/runs/dt8m8x0a\" target=\"_blank\">Part B</a></strong> to <a href=\"https://wandb.ai/hithesh-sidhesh/Assignment_2\" target=\"_blank\">Weights & Biases</a> (<a href=\"https://wandb.me/run\" target=\"_blank\">docs</a>)<br/>Sweep page:  <a href=\"https://wandb.ai/hithesh-sidhesh/Assignment_2/sweeps/o2lidw9q\" target=\"_blank\">https://wandb.ai/hithesh-sidhesh/Assignment_2/sweeps/o2lidw9q</a>"
            ],
            "text/plain": [
              "<IPython.core.display.HTML object>"
            ]
          },
          "metadata": {},
          "output_type": "display_data"
        },
        {
          "metadata": {
            "tags": null
          },
          "name": "stdout",
          "output_type": "stream",
          "text": [
            "Not augmenting data\n",
            "Found 9000 images belonging to 10 classes.\n",
            "TRAINING\n",
            "Number of samples 9000\n",
            "Names of classes {'Amphibia': 0, 'Animalia': 1, 'Arachnida': 2, 'Aves': 3, 'Fungi': 4, 'Insecta': 5, 'Mammalia': 6, 'Mollusca': 7, 'Plantae': 8, 'Reptilia': 9}\n",
            "Number of classes 10\n",
            "Number of samples per class 900\n",
            "Found 999 images belonging to 10 classes.\n",
            "VALIDATION\n",
            "Number of samples 999\n",
            "Names of classes {'Amphibia': 0, 'Animalia': 1, 'Arachnida': 2, 'Aves': 3, 'Fungi': 4, 'Insecta': 5, 'Mammalia': 6, 'Mollusca': 7, 'Plantae': 8, 'Reptilia': 9}\n",
            "Number of classes 10\n",
            "Number of samples per class 99\n",
            "WARNING:tensorflow:`input_shape` is undefined or non-square, or `rows` is not in [96, 128, 160, 192, 224]. Weights for input shape (224, 224) will be loaded as the default.\n",
            "Model: \"sequential\"\n",
            "_________________________________________________________________\n",
            " Layer (type)                Output Shape              Param #   \n",
            "=================================================================\n",
            " mobilenetv2_1.00_224 (Funct  (None, 8, 8, 1280)       2257984   \n",
            " ional)                                                          \n",
            "                                                                 \n",
            " global_average_pooling2d (G  (None, 1280)             0         \n",
            " lobalAveragePooling2D)                                          \n",
            "                                                                 \n",
            " dropout (Dropout)           (None, 1280)              0         \n",
            "                                                                 \n",
            " dense (Dense)               (None, 256)               327936    \n",
            "                                                                 \n",
            " dropout_1 (Dropout)         (None, 256)               0         \n",
            "                                                                 \n",
            " dense_1 (Dense)             (None, 10)                2570      \n",
            "                                                                 \n",
            "=================================================================\n",
            "Total params: 2,588,490\n",
            "Trainable params: 330,506\n",
            "Non-trainable params: 2,257,984\n",
            "_________________________________________________________________\n",
            "Epoch 1/10\n",
            "35/35 [==============================] - 118s 3s/step - loss: 2.2205 - accuracy: 0.2283 - val_loss: 1.6943 - val_accuracy: 0.5195\n",
            "Epoch 2/10\n",
            "35/35 [==============================] - 108s 3s/step - loss: 1.5975 - accuracy: 0.4970 - val_loss: 1.2679 - val_accuracy: 0.6458\n",
            "Epoch 3/10\n",
            "35/35 [==============================] - 102s 3s/step - loss: 1.3004 - accuracy: 0.5968 - val_loss: 1.0566 - val_accuracy: 0.7057\n",
            "Epoch 4/10\n",
            "35/35 [==============================] - 100s 3s/step - loss: 1.1540 - accuracy: 0.6395 - val_loss: 0.9490 - val_accuracy: 0.7279\n",
            "Epoch 5/10\n",
            "35/35 [==============================] - 100s 3s/step - loss: 1.0559 - accuracy: 0.6731 - val_loss: 0.8831 - val_accuracy: 0.7409\n",
            "Epoch 6/10\n",
            "35/35 [==============================] - 100s 3s/step - loss: 1.0042 - accuracy: 0.6830 - val_loss: 0.8357 - val_accuracy: 0.7552\n",
            "Epoch 7/10\n",
            "35/35 [==============================] - 99s 3s/step - loss: 0.9528 - accuracy: 0.6958 - val_loss: 0.8193 - val_accuracy: 0.7513\n",
            "Epoch 8/10\n",
            "35/35 [==============================] - 99s 3s/step - loss: 0.9200 - accuracy: 0.7086 - val_loss: 0.7908 - val_accuracy: 0.7565\n",
            "Epoch 9/10\n",
            "35/35 [==============================] - 100s 3s/step - loss: 0.8915 - accuracy: 0.7127 - val_loss: 0.7914 - val_accuracy: 0.7513\n",
            "Epoch 10/10\n",
            "35/35 [==============================] - 99s 3s/step - loss: 0.8711 - accuracy: 0.7188 - val_loss: 0.7912 - val_accuracy: 0.7552\n",
            "{'Training_loss': 2.2204530239105225, 'Validation_loss': 1.694323182106018, 'Training_accuracy': 0.7187786102294922, 'Validation_accuracy': 0.7565104365348816, '_timestamp': 1648791752, '_runtime': 1039}\n",
            "Found 2000 images belonging to 10 classes.\n",
            "7/7 - 20s - loss: 0.8056 - accuracy: 0.7349 - 20s/epoch - 3s/step\n",
            "Test accuracy : 0.7349330186843872\n"
          ]
        },
        {
          "metadata": {
            "tags": null
          },
          "name": "stderr",
          "output_type": "stream",
          "text": [
            "\u001b[34m\u001b[1mwandb\u001b[0m: Agent Starting Run: 5jyrxav9 with config:\n",
            "\u001b[34m\u001b[1mwandb\u001b[0m: \taugment_data: no\n",
            "\u001b[34m\u001b[1mwandb\u001b[0m: \tbatch_size: 128\n",
            "\u001b[34m\u001b[1mwandb\u001b[0m: \tdense_layers: [64]\n",
            "\u001b[34m\u001b[1mwandb\u001b[0m: \tdropout: 0.3\n",
            "\u001b[34m\u001b[1mwandb\u001b[0m: \tepochs: 10\n",
            "\u001b[34m\u001b[1mwandb\u001b[0m: \tlayers_unfreeze: 30\n",
            "\u001b[34m\u001b[1mwandb\u001b[0m: \tmodel: MobileNetV2\n",
            "\u001b[34m\u001b[1mwandb\u001b[0m: \u001b[33mWARNING\u001b[0m Ignored wandb.init() arg project when running a sweep.\n"
          ]
        },
        {
          "data": {
            "text/html": [
              "Tracking run with wandb version 0.12.11"
            ],
            "text/plain": [
              "<IPython.core.display.HTML object>"
            ]
          },
          "metadata": {},
          "output_type": "display_data"
        },
        {
          "data": {
            "text/html": [
              "Run data is saved locally in <code>/content/inaturalist_12K/train/Amphibia/wandb/run-20220401_054301-5jyrxav9</code>"
            ],
            "text/plain": [
              "<IPython.core.display.HTML object>"
            ]
          },
          "metadata": {},
          "output_type": "display_data"
        },
        {
          "data": {
            "text/html": [
              "Syncing run <strong><a href=\"https://wandb.ai/hithesh-sidhesh/Assignment_2/runs/5jyrxav9\" target=\"_blank\">Part B</a></strong> to <a href=\"https://wandb.ai/hithesh-sidhesh/Assignment_2\" target=\"_blank\">Weights & Biases</a> (<a href=\"https://wandb.me/run\" target=\"_blank\">docs</a>)<br/>Sweep page:  <a href=\"https://wandb.ai/hithesh-sidhesh/Assignment_2/sweeps/o2lidw9q\" target=\"_blank\">https://wandb.ai/hithesh-sidhesh/Assignment_2/sweeps/o2lidw9q</a>"
            ],
            "text/plain": [
              "<IPython.core.display.HTML object>"
            ]
          },
          "metadata": {},
          "output_type": "display_data"
        },
        {
          "data": {
            "text/html": [
              "Finishing last run (ID:5jyrxav9) before initializing another..."
            ],
            "text/plain": [
              "<IPython.core.display.HTML object>"
            ]
          },
          "metadata": {},
          "output_type": "display_data"
        },
        {
          "metadata": {
            "tags": null
          },
          "name": "stdout",
          "output_type": "stream",
          "text": [
            "\n"
          ]
        },
        {
          "data": {
            "text/html": [
              "Waiting for W&B process to finish... <strong style=\"color:green\">(success).</strong>"
            ],
            "text/plain": [
              "<IPython.core.display.HTML object>"
            ]
          },
          "metadata": {},
          "output_type": "display_data"
        },
        {
          "data": {
            "application/vnd.jupyter.widget-view+json": {
              "model_id": "4c727d5346e54701a83edb4ceaf9925b",
              "version_major": 2,
              "version_minor": 0
            },
            "text/plain": [
              "VBox(children=(Label(value='0.001 MB of 0.001 MB uploaded (0.000 MB deduped)\\r'), FloatProgress(value=1.0, max…"
            ]
          },
          "metadata": {},
          "output_type": "display_data"
        },
        {
          "data": {
            "text/html": [
              "Synced <strong style=\"color:#cdcd00\">Part B</strong>: <a href=\"https://wandb.ai/hithesh-sidhesh/Assignment_2/runs/5jyrxav9\" target=\"_blank\">https://wandb.ai/hithesh-sidhesh/Assignment_2/runs/5jyrxav9</a><br/>Synced 4 W&B file(s), 0 media file(s), 0 artifact file(s) and 0 other file(s)"
            ],
            "text/plain": [
              "<IPython.core.display.HTML object>"
            ]
          },
          "metadata": {},
          "output_type": "display_data"
        },
        {
          "data": {
            "text/html": [
              "Find logs at: <code>./wandb/run-20220401_054301-5jyrxav9/logs</code>"
            ],
            "text/plain": [
              "<IPython.core.display.HTML object>"
            ]
          },
          "metadata": {},
          "output_type": "display_data"
        },
        {
          "data": {
            "text/html": [
              "Successfully finished last run (ID:5jyrxav9). Initializing new run:<br/>"
            ],
            "text/plain": [
              "<IPython.core.display.HTML object>"
            ]
          },
          "metadata": {},
          "output_type": "display_data"
        },
        {
          "data": {
            "text/html": [
              "Tracking run with wandb version 0.12.11"
            ],
            "text/plain": [
              "<IPython.core.display.HTML object>"
            ]
          },
          "metadata": {},
          "output_type": "display_data"
        },
        {
          "data": {
            "text/html": [
              "Run data is saved locally in <code>/content/inaturalist_12K/train/Amphibia/wandb/run-20220401_054310-5jyrxav9</code>"
            ],
            "text/plain": [
              "<IPython.core.display.HTML object>"
            ]
          },
          "metadata": {},
          "output_type": "display_data"
        },
        {
          "data": {
            "text/html": [
              "Syncing run <strong><a href=\"https://wandb.ai/hithesh-sidhesh/Assignment_2/runs/5jyrxav9\" target=\"_blank\">Part B</a></strong> to <a href=\"https://wandb.ai/hithesh-sidhesh/Assignment_2\" target=\"_blank\">Weights & Biases</a> (<a href=\"https://wandb.me/run\" target=\"_blank\">docs</a>)<br/>Sweep page:  <a href=\"https://wandb.ai/hithesh-sidhesh/Assignment_2/sweeps/o2lidw9q\" target=\"_blank\">https://wandb.ai/hithesh-sidhesh/Assignment_2/sweeps/o2lidw9q</a>"
            ],
            "text/plain": [
              "<IPython.core.display.HTML object>"
            ]
          },
          "metadata": {},
          "output_type": "display_data"
        },
        {
          "output_type": "stream",
          "name": "stdout",
          "text": [
            "Not augmenting data\n",
            "Found 9000 images belonging to 10 classes.\n",
            "TRAINING\n",
            "Number of samples 9000\n",
            "Names of classes {'Amphibia': 0, 'Animalia': 1, 'Arachnida': 2, 'Aves': 3, 'Fungi': 4, 'Insecta': 5, 'Mammalia': 6, 'Mollusca': 7, 'Plantae': 8, 'Reptilia': 9}\n",
            "Number of classes 10\n",
            "Number of samples per class 900\n",
            "Found 999 images belonging to 10 classes.\n",
            "VALIDATION\n",
            "Number of samples 999\n",
            "Names of classes {'Amphibia': 0, 'Animalia': 1, 'Arachnida': 2, 'Aves': 3, 'Fungi': 4, 'Insecta': 5, 'Mammalia': 6, 'Mollusca': 7, 'Plantae': 8, 'Reptilia': 9}\n",
            "Number of classes 10\n",
            "Number of samples per class 99\n",
            "WARNING:tensorflow:`input_shape` is undefined or non-square, or `rows` is not in [96, 128, 160, 192, 224]. Weights for input shape (224, 224) will be loaded as the default.\n",
            "Training last  30  layers\n",
            "Model: \"sequential\"\n",
            "_________________________________________________________________\n",
            " Layer (type)                Output Shape              Param #   \n",
            "=================================================================\n",
            " mobilenetv2_1.00_224 (Funct  (None, 8, 8, 1280)       2257984   \n",
            " ional)                                                          \n",
            "                                                                 \n",
            " global_average_pooling2d (G  (None, 1280)             0         \n",
            " lobalAveragePooling2D)                                          \n",
            "                                                                 \n",
            " dropout (Dropout)           (None, 1280)              0         \n",
            "                                                                 \n",
            " dense (Dense)               (None, 64)                81984     \n",
            "                                                                 \n",
            " dropout_1 (Dropout)         (None, 64)                0         \n",
            "                                                                 \n",
            " dense_1 (Dense)             (None, 10)                650       \n",
            "                                                                 \n",
            "=================================================================\n",
            "Total params: 2,340,618\n",
            "Trainable params: 1,609,034\n",
            "Non-trainable params: 731,584\n",
            "_________________________________________________________________\n",
            "Epoch 1/10\n",
            "70/70 [==============================] - 119s 2s/step - loss: 1.7474 - accuracy: 0.4137 - val_loss: 1.0565 - val_accuracy: 0.6708\n",
            "Epoch 2/10\n",
            "70/70 [==============================] - 111s 2s/step - loss: 0.9827 - accuracy: 0.6828 - val_loss: 0.9107 - val_accuracy: 0.7210\n",
            "Epoch 3/10\n",
            "70/70 [==============================] - 109s 2s/step - loss: 0.7717 - accuracy: 0.7476 - val_loss: 0.8539 - val_accuracy: 0.7388\n",
            "Epoch 4/10\n",
            "70/70 [==============================] - 103s 1s/step - loss: 0.6140 - accuracy: 0.8041 - val_loss: 0.8510 - val_accuracy: 0.7355\n",
            "Epoch 5/10\n",
            "70/70 [==============================] - 102s 1s/step - loss: 0.4978 - accuracy: 0.8377 - val_loss: 0.9618 - val_accuracy: 0.7154\n",
            "Epoch 6/10\n",
            "70/70 [==============================] - 101s 1s/step - loss: 0.3916 - accuracy: 0.8755 - val_loss: 0.9654 - val_accuracy: 0.7221\n",
            "Epoch 7/10\n",
            "70/70 [==============================] - 101s 1s/step - loss: 0.3068 - accuracy: 0.9060 - val_loss: 1.0538 - val_accuracy: 0.7188\n",
            "Epoch 8/10\n",
            "70/70 [==============================] - 101s 1s/step - loss: 0.2343 - accuracy: 0.9291 - val_loss: 1.0411 - val_accuracy: 0.7121\n",
            "Epoch 9/10\n",
            "70/70 [==============================] - 110s 2s/step - loss: 0.1724 - accuracy: 0.9486 - val_loss: 1.1565 - val_accuracy: 0.7254\n",
            "Epoch 10/10\n",
            "70/70 [==============================] - 93s 1s/step - loss: 0.1360 - accuracy: 0.9615 - val_loss: 1.1092 - val_accuracy: 0.7333\n",
            "{'Training_loss': 1.7473617792129517, 'Validation_loss': 1.1565124988555908, 'Training_accuracy': 0.9614517688751221, 'Validation_accuracy': 0.7388392686843872, '_timestamp': 1648792858, '_runtime': 1063}\n",
            "Found 2000 images belonging to 10 classes.\n",
            "15/15 - 22s - loss: 1.2286 - accuracy: 0.7260 - 22s/epoch - 1s/step\n",
            "Test accuracy : 0.7260416746139526\n"
          ]
        },
        {
          "output_type": "stream",
          "name": "stderr",
          "text": [
            "\u001b[34m\u001b[1mwandb\u001b[0m: Agent Starting Run: fl55gb72 with config:\n",
            "\u001b[34m\u001b[1mwandb\u001b[0m: \taugment_data: no\n",
            "\u001b[34m\u001b[1mwandb\u001b[0m: \tbatch_size: 256\n",
            "\u001b[34m\u001b[1mwandb\u001b[0m: \tdense_layers: [128]\n",
            "\u001b[34m\u001b[1mwandb\u001b[0m: \tdropout: 0\n",
            "\u001b[34m\u001b[1mwandb\u001b[0m: \tepochs: 10\n",
            "\u001b[34m\u001b[1mwandb\u001b[0m: \tlayers_unfreeze: 30\n",
            "\u001b[34m\u001b[1mwandb\u001b[0m: \tmodel: MobileNetV2\n",
            "\u001b[34m\u001b[1mwandb\u001b[0m: \u001b[33mWARNING\u001b[0m Ignored wandb.init() arg project when running a sweep.\n"
          ]
        },
        {
          "output_type": "display_data",
          "data": {
            "text/plain": [
              "<IPython.core.display.HTML object>"
            ],
            "text/html": [
              "Tracking run with wandb version 0.12.11"
            ]
          },
          "metadata": {}
        },
        {
          "output_type": "display_data",
          "data": {
            "text/plain": [
              "<IPython.core.display.HTML object>"
            ],
            "text/html": [
              "Run data is saved locally in <code>/content/inaturalist_12K/train/Amphibia/wandb/run-20220401_060128-fl55gb72</code>"
            ]
          },
          "metadata": {}
        },
        {
          "output_type": "display_data",
          "data": {
            "text/plain": [
              "<IPython.core.display.HTML object>"
            ],
            "text/html": [
              "Syncing run <strong><a href=\"https://wandb.ai/hithesh-sidhesh/Assignment_2/runs/fl55gb72\" target=\"_blank\">Part B</a></strong> to <a href=\"https://wandb.ai/hithesh-sidhesh/Assignment_2\" target=\"_blank\">Weights & Biases</a> (<a href=\"https://wandb.me/run\" target=\"_blank\">docs</a>)<br/>Sweep page:  <a href=\"https://wandb.ai/hithesh-sidhesh/Assignment_2/sweeps/o2lidw9q\" target=\"_blank\">https://wandb.ai/hithesh-sidhesh/Assignment_2/sweeps/o2lidw9q</a>"
            ]
          },
          "metadata": {}
        },
        {
          "output_type": "display_data",
          "data": {
            "text/plain": [
              "<IPython.core.display.HTML object>"
            ],
            "text/html": [
              "Finishing last run (ID:fl55gb72) before initializing another..."
            ]
          },
          "metadata": {}
        },
        {
          "output_type": "stream",
          "name": "stdout",
          "text": [
            "\n"
          ]
        },
        {
          "output_type": "display_data",
          "data": {
            "text/plain": [
              "<IPython.core.display.HTML object>"
            ],
            "text/html": [
              "Waiting for W&B process to finish... <strong style=\"color:green\">(success).</strong>"
            ]
          },
          "metadata": {}
        },
        {
          "output_type": "display_data",
          "data": {
            "text/plain": [
              "VBox(children=(Label(value='0.001 MB of 0.001 MB uploaded (0.000 MB deduped)\\r'), FloatProgress(value=1.0, max…"
            ],
            "application/vnd.jupyter.widget-view+json": {
              "version_major": 2,
              "version_minor": 0,
              "model_id": "64753317cf3a45e996a363b9c7ab9e40"
            }
          },
          "metadata": {}
        },
        {
          "output_type": "display_data",
          "data": {
            "text/plain": [
              "<IPython.core.display.HTML object>"
            ],
            "text/html": [
              "Synced <strong style=\"color:#cdcd00\">Part B</strong>: <a href=\"https://wandb.ai/hithesh-sidhesh/Assignment_2/runs/fl55gb72\" target=\"_blank\">https://wandb.ai/hithesh-sidhesh/Assignment_2/runs/fl55gb72</a><br/>Synced 4 W&B file(s), 0 media file(s), 0 artifact file(s) and 0 other file(s)"
            ]
          },
          "metadata": {}
        },
        {
          "output_type": "display_data",
          "data": {
            "text/plain": [
              "<IPython.core.display.HTML object>"
            ],
            "text/html": [
              "Find logs at: <code>./wandb/run-20220401_060128-fl55gb72/logs</code>"
            ]
          },
          "metadata": {}
        },
        {
          "output_type": "display_data",
          "data": {
            "text/plain": [
              "<IPython.core.display.HTML object>"
            ],
            "text/html": [
              "Successfully finished last run (ID:fl55gb72). Initializing new run:<br/>"
            ]
          },
          "metadata": {}
        },
        {
          "output_type": "display_data",
          "data": {
            "text/plain": [
              "<IPython.core.display.HTML object>"
            ],
            "text/html": [
              "Tracking run with wandb version 0.12.11"
            ]
          },
          "metadata": {}
        },
        {
          "output_type": "display_data",
          "data": {
            "text/plain": [
              "<IPython.core.display.HTML object>"
            ],
            "text/html": [
              "Run data is saved locally in <code>/content/inaturalist_12K/train/Amphibia/wandb/run-20220401_060137-fl55gb72</code>"
            ]
          },
          "metadata": {}
        },
        {
          "output_type": "display_data",
          "data": {
            "text/plain": [
              "<IPython.core.display.HTML object>"
            ],
            "text/html": [
              "Syncing run <strong><a href=\"https://wandb.ai/hithesh-sidhesh/Assignment_2/runs/fl55gb72\" target=\"_blank\">Part B</a></strong> to <a href=\"https://wandb.ai/hithesh-sidhesh/Assignment_2\" target=\"_blank\">Weights & Biases</a> (<a href=\"https://wandb.me/run\" target=\"_blank\">docs</a>)<br/>Sweep page:  <a href=\"https://wandb.ai/hithesh-sidhesh/Assignment_2/sweeps/o2lidw9q\" target=\"_blank\">https://wandb.ai/hithesh-sidhesh/Assignment_2/sweeps/o2lidw9q</a>"
            ]
          },
          "metadata": {}
        },
        {
          "output_type": "stream",
          "name": "stdout",
          "text": [
            "Not augmenting data\n",
            "Found 9000 images belonging to 10 classes.\n",
            "TRAINING\n",
            "Number of samples 9000\n",
            "Names of classes {'Amphibia': 0, 'Animalia': 1, 'Arachnida': 2, 'Aves': 3, 'Fungi': 4, 'Insecta': 5, 'Mammalia': 6, 'Mollusca': 7, 'Plantae': 8, 'Reptilia': 9}\n",
            "Number of classes 10\n",
            "Number of samples per class 900\n",
            "Found 999 images belonging to 10 classes.\n",
            "VALIDATION\n",
            "Number of samples 999\n",
            "Names of classes {'Amphibia': 0, 'Animalia': 1, 'Arachnida': 2, 'Aves': 3, 'Fungi': 4, 'Insecta': 5, 'Mammalia': 6, 'Mollusca': 7, 'Plantae': 8, 'Reptilia': 9}\n",
            "Number of classes 10\n",
            "Number of samples per class 99\n",
            "WARNING:tensorflow:`input_shape` is undefined or non-square, or `rows` is not in [96, 128, 160, 192, 224]. Weights for input shape (224, 224) will be loaded as the default.\n",
            "Training last  30  layers\n",
            "Model: \"sequential\"\n",
            "_________________________________________________________________\n",
            " Layer (type)                Output Shape              Param #   \n",
            "=================================================================\n",
            " mobilenetv2_1.00_224 (Funct  (None, 8, 8, 1280)       2257984   \n",
            " ional)                                                          \n",
            "                                                                 \n",
            " global_average_pooling2d (G  (None, 1280)             0         \n",
            " lobalAveragePooling2D)                                          \n",
            "                                                                 \n",
            " dropout (Dropout)           (None, 1280)              0         \n",
            "                                                                 \n",
            " dense (Dense)               (None, 128)               163968    \n",
            "                                                                 \n",
            " dropout_1 (Dropout)         (None, 128)               0         \n",
            "                                                                 \n",
            " dense_1 (Dense)             (None, 10)                1290      \n",
            "                                                                 \n",
            "=================================================================\n",
            "Total params: 2,423,242\n",
            "Trainable params: 1,691,658\n",
            "Non-trainable params: 731,584\n",
            "_________________________________________________________________\n",
            "Epoch 1/10\n",
            "35/35 [==============================] - 120s 3s/step - loss: 1.5357 - accuracy: 0.5074 - val_loss: 0.9799 - val_accuracy: 0.6732\n",
            "Epoch 2/10\n",
            "35/35 [==============================] - 108s 3s/step - loss: 0.7331 - accuracy: 0.7668 - val_loss: 0.8109 - val_accuracy: 0.7096\n",
            "Epoch 3/10\n",
            "35/35 [==============================] - 103s 3s/step - loss: 0.5185 - accuracy: 0.8394 - val_loss: 0.8256 - val_accuracy: 0.7122\n",
            "Epoch 4/10\n",
            "35/35 [==============================] - 100s 3s/step - loss: 0.3685 - accuracy: 0.8980 - val_loss: 0.8324 - val_accuracy: 0.7279\n",
            "Epoch 5/10\n",
            "35/35 [==============================] - 100s 3s/step - loss: 0.2590 - accuracy: 0.9358 - val_loss: 0.8712 - val_accuracy: 0.7188\n",
            "Epoch 6/10\n",
            "35/35 [==============================] - 101s 3s/step - loss: 0.1828 - accuracy: 0.9641 - val_loss: 0.9143 - val_accuracy: 0.7161\n",
            "Epoch 7/10\n",
            "35/35 [==============================] - 100s 3s/step - loss: 0.1169 - accuracy: 0.9841 - val_loss: 0.9161 - val_accuracy: 0.7227\n",
            "Epoch 8/10\n",
            "35/35 [==============================] - 99s 3s/step - loss: 0.0857 - accuracy: 0.9902 - val_loss: 0.9583 - val_accuracy: 0.7201\n",
            "Epoch 9/10\n",
            "35/35 [==============================] - 100s 3s/step - loss: 0.0571 - accuracy: 0.9961 - val_loss: 0.9991 - val_accuracy: 0.7148\n",
            "Epoch 10/10\n",
            "35/35 [==============================] - 103s 3s/step - loss: 0.0383 - accuracy: 0.9989 - val_loss: 1.0563 - val_accuracy: 0.7122\n",
            "{'Training_loss': 1.5357348918914795, 'Validation_loss': 1.0563174486160278, 'Training_accuracy': 0.9988563656806946, 'Validation_accuracy': 0.7278645634651184, '_timestamp': 1648793952, '_runtime': 1049}\n",
            "Found 2000 images belonging to 10 classes.\n",
            "7/7 - 21s - loss: 1.1874 - accuracy: 0.6903 - 21s/epoch - 3s/step\n",
            "Test accuracy : 0.6902901530265808\n"
          ]
        },
        {
          "output_type": "stream",
          "name": "stderr",
          "text": [
            "\u001b[34m\u001b[1mwandb\u001b[0m: Agent Starting Run: ooaxdzga with config:\n",
            "\u001b[34m\u001b[1mwandb\u001b[0m: \taugment_data: yes\n",
            "\u001b[34m\u001b[1mwandb\u001b[0m: \tbatch_size: 256\n",
            "\u001b[34m\u001b[1mwandb\u001b[0m: \tdense_layers: [64]\n",
            "\u001b[34m\u001b[1mwandb\u001b[0m: \tdropout: 0\n",
            "\u001b[34m\u001b[1mwandb\u001b[0m: \tepochs: 10\n",
            "\u001b[34m\u001b[1mwandb\u001b[0m: \tlayers_unfreeze: None\n",
            "\u001b[34m\u001b[1mwandb\u001b[0m: \tmodel: MobileNetV2\n",
            "\u001b[34m\u001b[1mwandb\u001b[0m: \u001b[33mWARNING\u001b[0m Ignored wandb.init() arg project when running a sweep.\n"
          ]
        },
        {
          "output_type": "display_data",
          "data": {
            "text/plain": [
              "<IPython.core.display.HTML object>"
            ],
            "text/html": [
              "Tracking run with wandb version 0.12.11"
            ]
          },
          "metadata": {}
        },
        {
          "output_type": "display_data",
          "data": {
            "text/plain": [
              "<IPython.core.display.HTML object>"
            ],
            "text/html": [
              "Run data is saved locally in <code>/content/inaturalist_12K/train/Amphibia/wandb/run-20220401_061959-ooaxdzga</code>"
            ]
          },
          "metadata": {}
        },
        {
          "output_type": "display_data",
          "data": {
            "text/plain": [
              "<IPython.core.display.HTML object>"
            ],
            "text/html": [
              "Syncing run <strong><a href=\"https://wandb.ai/hithesh-sidhesh/Assignment_2/runs/ooaxdzga\" target=\"_blank\">Part B</a></strong> to <a href=\"https://wandb.ai/hithesh-sidhesh/Assignment_2\" target=\"_blank\">Weights & Biases</a> (<a href=\"https://wandb.me/run\" target=\"_blank\">docs</a>)<br/>Sweep page:  <a href=\"https://wandb.ai/hithesh-sidhesh/Assignment_2/sweeps/o2lidw9q\" target=\"_blank\">https://wandb.ai/hithesh-sidhesh/Assignment_2/sweeps/o2lidw9q</a>"
            ]
          },
          "metadata": {}
        },
        {
          "output_type": "display_data",
          "data": {
            "text/plain": [
              "<IPython.core.display.HTML object>"
            ],
            "text/html": [
              "Finishing last run (ID:ooaxdzga) before initializing another..."
            ]
          },
          "metadata": {}
        },
        {
          "output_type": "stream",
          "name": "stdout",
          "text": [
            "\n"
          ]
        },
        {
          "output_type": "display_data",
          "data": {
            "text/plain": [
              "<IPython.core.display.HTML object>"
            ],
            "text/html": [
              "Waiting for W&B process to finish... <strong style=\"color:green\">(success).</strong>"
            ]
          },
          "metadata": {}
        },
        {
          "output_type": "display_data",
          "data": {
            "text/plain": [
              "VBox(children=(Label(value='0.001 MB of 0.001 MB uploaded (0.000 MB deduped)\\r'), FloatProgress(value=1.0, max…"
            ],
            "application/vnd.jupyter.widget-view+json": {
              "version_major": 2,
              "version_minor": 0,
              "model_id": "d46eaf2348254405b4cad7b77af74e86"
            }
          },
          "metadata": {}
        },
        {
          "output_type": "display_data",
          "data": {
            "text/plain": [
              "<IPython.core.display.HTML object>"
            ],
            "text/html": [
              "Synced <strong style=\"color:#cdcd00\">Part B</strong>: <a href=\"https://wandb.ai/hithesh-sidhesh/Assignment_2/runs/ooaxdzga\" target=\"_blank\">https://wandb.ai/hithesh-sidhesh/Assignment_2/runs/ooaxdzga</a><br/>Synced 4 W&B file(s), 0 media file(s), 0 artifact file(s) and 0 other file(s)"
            ]
          },
          "metadata": {}
        },
        {
          "output_type": "display_data",
          "data": {
            "text/plain": [
              "<IPython.core.display.HTML object>"
            ],
            "text/html": [
              "Find logs at: <code>./wandb/run-20220401_061959-ooaxdzga/logs</code>"
            ]
          },
          "metadata": {}
        },
        {
          "output_type": "display_data",
          "data": {
            "text/plain": [
              "<IPython.core.display.HTML object>"
            ],
            "text/html": [
              "Successfully finished last run (ID:ooaxdzga). Initializing new run:<br/>"
            ]
          },
          "metadata": {}
        },
        {
          "output_type": "display_data",
          "data": {
            "text/plain": [
              "<IPython.core.display.HTML object>"
            ],
            "text/html": [
              "Tracking run with wandb version 0.12.11"
            ]
          },
          "metadata": {}
        },
        {
          "output_type": "display_data",
          "data": {
            "text/plain": [
              "<IPython.core.display.HTML object>"
            ],
            "text/html": [
              "Run data is saved locally in <code>/content/inaturalist_12K/train/Amphibia/wandb/run-20220401_062008-ooaxdzga</code>"
            ]
          },
          "metadata": {}
        },
        {
          "output_type": "display_data",
          "data": {
            "text/plain": [
              "<IPython.core.display.HTML object>"
            ],
            "text/html": [
              "Syncing run <strong><a href=\"https://wandb.ai/hithesh-sidhesh/Assignment_2/runs/ooaxdzga\" target=\"_blank\">Part B</a></strong> to <a href=\"https://wandb.ai/hithesh-sidhesh/Assignment_2\" target=\"_blank\">Weights & Biases</a> (<a href=\"https://wandb.me/run\" target=\"_blank\">docs</a>)<br/>Sweep page:  <a href=\"https://wandb.ai/hithesh-sidhesh/Assignment_2/sweeps/o2lidw9q\" target=\"_blank\">https://wandb.ai/hithesh-sidhesh/Assignment_2/sweeps/o2lidw9q</a>"
            ]
          },
          "metadata": {}
        },
        {
          "output_type": "stream",
          "name": "stdout",
          "text": [
            "Augmenting data\n",
            "Found 9000 images belonging to 10 classes.\n",
            "TRAINING\n",
            "Number of samples 9000\n",
            "Names of classes {'Amphibia': 0, 'Animalia': 1, 'Arachnida': 2, 'Aves': 3, 'Fungi': 4, 'Insecta': 5, 'Mammalia': 6, 'Mollusca': 7, 'Plantae': 8, 'Reptilia': 9}\n",
            "Number of classes 10\n",
            "Number of samples per class 900\n",
            "Found 999 images belonging to 10 classes.\n",
            "VALIDATION\n",
            "Number of samples 999\n",
            "Names of classes {'Amphibia': 0, 'Animalia': 1, 'Arachnida': 2, 'Aves': 3, 'Fungi': 4, 'Insecta': 5, 'Mammalia': 6, 'Mollusca': 7, 'Plantae': 8, 'Reptilia': 9}\n",
            "Number of classes 10\n",
            "Number of samples per class 99\n",
            "WARNING:tensorflow:`input_shape` is undefined or non-square, or `rows` is not in [96, 128, 160, 192, 224]. Weights for input shape (224, 224) will be loaded as the default.\n",
            "Model: \"sequential\"\n",
            "_________________________________________________________________\n",
            " Layer (type)                Output Shape              Param #   \n",
            "=================================================================\n",
            " mobilenetv2_1.00_224 (Funct  (None, 8, 8, 1280)       2257984   \n",
            " ional)                                                          \n",
            "                                                                 \n",
            " global_average_pooling2d (G  (None, 1280)             0         \n",
            " lobalAveragePooling2D)                                          \n",
            "                                                                 \n",
            " dropout (Dropout)           (None, 1280)              0         \n",
            "                                                                 \n",
            " dense (Dense)               (None, 64)                81984     \n",
            "                                                                 \n",
            " dropout_1 (Dropout)         (None, 64)                0         \n",
            "                                                                 \n",
            " dense_1 (Dense)             (None, 10)                650       \n",
            "                                                                 \n",
            "=================================================================\n",
            "Total params: 2,340,618\n",
            "Trainable params: 82,634\n",
            "Non-trainable params: 2,257,984\n",
            "_________________________________________________________________\n",
            "Epoch 1/10\n",
            "35/35 [==============================] - 244s 7s/step - loss: 2.2940 - accuracy: 0.1704 - val_loss: 2.1407 - val_accuracy: 0.2370\n",
            "Epoch 2/10\n",
            "35/35 [==============================] - 232s 7s/step - loss: 1.9948 - accuracy: 0.3299 - val_loss: 1.8888 - val_accuracy: 0.3763\n",
            "Epoch 3/10\n",
            "35/35 [==============================] - 219s 6s/step - loss: 1.7503 - accuracy: 0.4410 - val_loss: 1.6693 - val_accuracy: 0.4583\n",
            "Epoch 4/10\n",
            "35/35 [==============================] - 213s 6s/step - loss: 1.5619 - accuracy: 0.5061 - val_loss: 1.4921 - val_accuracy: 0.5221\n",
            "Epoch 5/10\n",
            "35/35 [==============================] - 212s 6s/step - loss: 1.4163 - accuracy: 0.5473 - val_loss: 1.3838 - val_accuracy: 0.5625\n",
            "Epoch 6/10\n",
            "35/35 [==============================] - 212s 6s/step - loss: 1.3458 - accuracy: 0.5722 - val_loss: 1.3022 - val_accuracy: 0.5964\n",
            "Epoch 7/10\n",
            "35/35 [==============================] - 212s 6s/step - loss: 1.2727 - accuracy: 0.5875 - val_loss: 1.2640 - val_accuracy: 0.5768\n",
            "Epoch 8/10\n",
            "35/35 [==============================] - 212s 6s/step - loss: 1.2219 - accuracy: 0.6048 - val_loss: 1.1380 - val_accuracy: 0.6458\n",
            "Epoch 9/10\n",
            "35/35 [==============================] - 212s 6s/step - loss: 1.1835 - accuracy: 0.6171 - val_loss: 1.1535 - val_accuracy: 0.6081\n",
            "Epoch 10/10\n",
            "35/35 [==============================] - 212s 6s/step - loss: 1.1715 - accuracy: 0.6241 - val_loss: 1.1273 - val_accuracy: 0.6302\n",
            "{'Training_loss': 2.293991804122925, 'Validation_loss': 2.140653371810913, 'Training_accuracy': 0.6240850687026978, 'Validation_accuracy': 0.6458333134651184, '_timestamp': 1648796209, '_runtime': 2196}\n",
            "Found 2000 images belonging to 10 classes.\n",
            "7/7 - 21s - loss: 0.9546 - accuracy: 0.7059 - 21s/epoch - 3s/step\n",
            "Test accuracy : 0.7059151530265808\n"
          ]
        },
        {
          "output_type": "stream",
          "name": "stderr",
          "text": [
            "\u001b[34m\u001b[1mwandb\u001b[0m: Agent Starting Run: 35gdokng with config:\n",
            "\u001b[34m\u001b[1mwandb\u001b[0m: \taugment_data: no\n",
            "\u001b[34m\u001b[1mwandb\u001b[0m: \tbatch_size: 256\n",
            "\u001b[34m\u001b[1mwandb\u001b[0m: \tdense_layers: [64]\n",
            "\u001b[34m\u001b[1mwandb\u001b[0m: \tdropout: 0\n",
            "\u001b[34m\u001b[1mwandb\u001b[0m: \tepochs: 5\n",
            "\u001b[34m\u001b[1mwandb\u001b[0m: \tlayers_unfreeze: 30\n",
            "\u001b[34m\u001b[1mwandb\u001b[0m: \tmodel: MobileNetV2\n",
            "\u001b[34m\u001b[1mwandb\u001b[0m: \u001b[33mWARNING\u001b[0m Ignored wandb.init() arg project when running a sweep.\n"
          ]
        },
        {
          "output_type": "display_data",
          "data": {
            "text/plain": [
              "<IPython.core.display.HTML object>"
            ],
            "text/html": [
              "Tracking run with wandb version 0.12.11"
            ]
          },
          "metadata": {}
        },
        {
          "output_type": "display_data",
          "data": {
            "text/plain": [
              "<IPython.core.display.HTML object>"
            ],
            "text/html": [
              "Run data is saved locally in <code>/content/inaturalist_12K/train/Amphibia/wandb/run-20220401_065738-35gdokng</code>"
            ]
          },
          "metadata": {}
        },
        {
          "output_type": "display_data",
          "data": {
            "text/plain": [
              "<IPython.core.display.HTML object>"
            ],
            "text/html": [
              "Syncing run <strong><a href=\"https://wandb.ai/hithesh-sidhesh/Assignment_2/runs/35gdokng\" target=\"_blank\">Part B</a></strong> to <a href=\"https://wandb.ai/hithesh-sidhesh/Assignment_2\" target=\"_blank\">Weights & Biases</a> (<a href=\"https://wandb.me/run\" target=\"_blank\">docs</a>)<br/>Sweep page:  <a href=\"https://wandb.ai/hithesh-sidhesh/Assignment_2/sweeps/o2lidw9q\" target=\"_blank\">https://wandb.ai/hithesh-sidhesh/Assignment_2/sweeps/o2lidw9q</a>"
            ]
          },
          "metadata": {}
        },
        {
          "output_type": "display_data",
          "data": {
            "text/plain": [
              "<IPython.core.display.HTML object>"
            ],
            "text/html": [
              "Finishing last run (ID:35gdokng) before initializing another..."
            ]
          },
          "metadata": {}
        },
        {
          "output_type": "stream",
          "name": "stdout",
          "text": [
            "\n"
          ]
        },
        {
          "output_type": "display_data",
          "data": {
            "text/plain": [
              "<IPython.core.display.HTML object>"
            ],
            "text/html": [
              "Waiting for W&B process to finish... <strong style=\"color:green\">(success).</strong>"
            ]
          },
          "metadata": {}
        },
        {
          "output_type": "display_data",
          "data": {
            "text/plain": [
              "VBox(children=(Label(value='0.001 MB of 0.001 MB uploaded (0.000 MB deduped)\\r'), FloatProgress(value=1.0, max…"
            ],
            "application/vnd.jupyter.widget-view+json": {
              "version_major": 2,
              "version_minor": 0,
              "model_id": "9664f2305cb14e2b9cff0ba4fdbc34f9"
            }
          },
          "metadata": {}
        },
        {
          "output_type": "display_data",
          "data": {
            "text/plain": [
              "<IPython.core.display.HTML object>"
            ],
            "text/html": [
              "Synced <strong style=\"color:#cdcd00\">Part B</strong>: <a href=\"https://wandb.ai/hithesh-sidhesh/Assignment_2/runs/35gdokng\" target=\"_blank\">https://wandb.ai/hithesh-sidhesh/Assignment_2/runs/35gdokng</a><br/>Synced 4 W&B file(s), 0 media file(s), 0 artifact file(s) and 0 other file(s)"
            ]
          },
          "metadata": {}
        },
        {
          "output_type": "display_data",
          "data": {
            "text/plain": [
              "<IPython.core.display.HTML object>"
            ],
            "text/html": [
              "Find logs at: <code>./wandb/run-20220401_065738-35gdokng/logs</code>"
            ]
          },
          "metadata": {}
        },
        {
          "output_type": "display_data",
          "data": {
            "text/plain": [
              "<IPython.core.display.HTML object>"
            ],
            "text/html": [
              "Successfully finished last run (ID:35gdokng). Initializing new run:<br/>"
            ]
          },
          "metadata": {}
        },
        {
          "output_type": "display_data",
          "data": {
            "text/plain": [
              "<IPython.core.display.HTML object>"
            ],
            "text/html": [
              "Tracking run with wandb version 0.12.11"
            ]
          },
          "metadata": {}
        },
        {
          "output_type": "display_data",
          "data": {
            "text/plain": [
              "<IPython.core.display.HTML object>"
            ],
            "text/html": [
              "Run data is saved locally in <code>/content/inaturalist_12K/train/Amphibia/wandb/run-20220401_065747-35gdokng</code>"
            ]
          },
          "metadata": {}
        },
        {
          "output_type": "display_data",
          "data": {
            "text/plain": [
              "<IPython.core.display.HTML object>"
            ],
            "text/html": [
              "Syncing run <strong><a href=\"https://wandb.ai/hithesh-sidhesh/Assignment_2/runs/35gdokng\" target=\"_blank\">Part B</a></strong> to <a href=\"https://wandb.ai/hithesh-sidhesh/Assignment_2\" target=\"_blank\">Weights & Biases</a> (<a href=\"https://wandb.me/run\" target=\"_blank\">docs</a>)<br/>Sweep page:  <a href=\"https://wandb.ai/hithesh-sidhesh/Assignment_2/sweeps/o2lidw9q\" target=\"_blank\">https://wandb.ai/hithesh-sidhesh/Assignment_2/sweeps/o2lidw9q</a>"
            ]
          },
          "metadata": {}
        },
        {
          "output_type": "stream",
          "name": "stdout",
          "text": [
            "Not augmenting data\n",
            "Found 9000 images belonging to 10 classes.\n",
            "TRAINING\n",
            "Number of samples 9000\n",
            "Names of classes {'Amphibia': 0, 'Animalia': 1, 'Arachnida': 2, 'Aves': 3, 'Fungi': 4, 'Insecta': 5, 'Mammalia': 6, 'Mollusca': 7, 'Plantae': 8, 'Reptilia': 9}\n",
            "Number of classes 10\n",
            "Number of samples per class 900\n",
            "Found 999 images belonging to 10 classes.\n",
            "VALIDATION\n",
            "Number of samples 999\n",
            "Names of classes {'Amphibia': 0, 'Animalia': 1, 'Arachnida': 2, 'Aves': 3, 'Fungi': 4, 'Insecta': 5, 'Mammalia': 6, 'Mollusca': 7, 'Plantae': 8, 'Reptilia': 9}\n",
            "Number of classes 10\n",
            "Number of samples per class 99\n",
            "WARNING:tensorflow:`input_shape` is undefined or non-square, or `rows` is not in [96, 128, 160, 192, 224]. Weights for input shape (224, 224) will be loaded as the default.\n",
            "Training last  30  layers\n",
            "Model: \"sequential\"\n",
            "_________________________________________________________________\n",
            " Layer (type)                Output Shape              Param #   \n",
            "=================================================================\n",
            " mobilenetv2_1.00_224 (Funct  (None, 8, 8, 1280)       2257984   \n",
            " ional)                                                          \n",
            "                                                                 \n",
            " global_average_pooling2d (G  (None, 1280)             0         \n",
            " lobalAveragePooling2D)                                          \n",
            "                                                                 \n",
            " dropout (Dropout)           (None, 1280)              0         \n",
            "                                                                 \n",
            " dense (Dense)               (None, 64)                81984     \n",
            "                                                                 \n",
            " dropout_1 (Dropout)         (None, 64)                0         \n",
            "                                                                 \n",
            " dense_1 (Dense)             (None, 10)                650       \n",
            "                                                                 \n",
            "=================================================================\n",
            "Total params: 2,340,618\n",
            "Trainable params: 1,609,034\n",
            "Non-trainable params: 731,584\n",
            "_________________________________________________________________\n",
            "Epoch 1/5\n",
            "35/35 [==============================] - 121s 3s/step - loss: 1.5996 - accuracy: 0.4962 - val_loss: 1.0730 - val_accuracy: 0.6615\n",
            "Epoch 2/5\n",
            "35/35 [==============================] - 110s 3s/step - loss: 0.7654 - accuracy: 0.7599 - val_loss: 0.8344 - val_accuracy: 0.7174\n",
            "Epoch 3/5\n",
            "35/35 [==============================] - 104s 3s/step - loss: 0.5391 - accuracy: 0.8350 - val_loss: 0.7946 - val_accuracy: 0.7305\n",
            "Epoch 4/5\n",
            "35/35 [==============================] - 101s 3s/step - loss: 0.3855 - accuracy: 0.8925 - val_loss: 0.7715 - val_accuracy: 0.7396\n",
            "Epoch 5/5\n",
            "35/35 [==============================] - 102s 3s/step - loss: 0.2744 - accuracy: 0.9338 - val_loss: 0.7680 - val_accuracy: 0.7292\n",
            "{'Training_loss': 1.5996006727218628, 'Validation_loss': 1.0729655027389526, 'Training_accuracy': 0.9337831735610962, 'Validation_accuracy': 0.7395833134651184, '_timestamp': 1648796822, '_runtime': 550}\n",
            "Found 2000 images belonging to 10 classes.\n",
            "7/7 - 21s - loss: 0.8361 - accuracy: 0.7349 - 21s/epoch - 3s/step\n",
            "Test accuracy : 0.7349330186843872\n"
          ]
        },
        {
          "output_type": "stream",
          "name": "stderr",
          "text": [
            "\u001b[34m\u001b[1mwandb\u001b[0m: Agent Starting Run: 2rjer3y4 with config:\n",
            "\u001b[34m\u001b[1mwandb\u001b[0m: \taugment_data: yes\n",
            "\u001b[34m\u001b[1mwandb\u001b[0m: \tbatch_size: 256\n",
            "\u001b[34m\u001b[1mwandb\u001b[0m: \tdense_layers: [128]\n",
            "\u001b[34m\u001b[1mwandb\u001b[0m: \tdropout: 0.3\n",
            "\u001b[34m\u001b[1mwandb\u001b[0m: \tepochs: 10\n",
            "\u001b[34m\u001b[1mwandb\u001b[0m: \tlayers_unfreeze: None\n",
            "\u001b[34m\u001b[1mwandb\u001b[0m: \tmodel: MobileNetV2\n",
            "\u001b[34m\u001b[1mwandb\u001b[0m: \u001b[33mWARNING\u001b[0m Ignored wandb.init() arg project when running a sweep.\n"
          ]
        },
        {
          "output_type": "display_data",
          "data": {
            "text/plain": [
              "<IPython.core.display.HTML object>"
            ],
            "text/html": [
              "Tracking run with wandb version 0.12.11"
            ]
          },
          "metadata": {}
        },
        {
          "output_type": "display_data",
          "data": {
            "text/plain": [
              "<IPython.core.display.HTML object>"
            ],
            "text/html": [
              "Run data is saved locally in <code>/content/inaturalist_12K/train/Amphibia/wandb/run-20220401_070751-2rjer3y4</code>"
            ]
          },
          "metadata": {}
        },
        {
          "output_type": "display_data",
          "data": {
            "text/plain": [
              "<IPython.core.display.HTML object>"
            ],
            "text/html": [
              "Syncing run <strong><a href=\"https://wandb.ai/hithesh-sidhesh/Assignment_2/runs/2rjer3y4\" target=\"_blank\">Part B</a></strong> to <a href=\"https://wandb.ai/hithesh-sidhesh/Assignment_2\" target=\"_blank\">Weights & Biases</a> (<a href=\"https://wandb.me/run\" target=\"_blank\">docs</a>)<br/>Sweep page:  <a href=\"https://wandb.ai/hithesh-sidhesh/Assignment_2/sweeps/o2lidw9q\" target=\"_blank\">https://wandb.ai/hithesh-sidhesh/Assignment_2/sweeps/o2lidw9q</a>"
            ]
          },
          "metadata": {}
        },
        {
          "output_type": "display_data",
          "data": {
            "text/plain": [
              "<IPython.core.display.HTML object>"
            ],
            "text/html": [
              "Finishing last run (ID:2rjer3y4) before initializing another..."
            ]
          },
          "metadata": {}
        },
        {
          "output_type": "stream",
          "name": "stdout",
          "text": [
            "\n"
          ]
        },
        {
          "output_type": "display_data",
          "data": {
            "text/plain": [
              "<IPython.core.display.HTML object>"
            ],
            "text/html": [
              "Waiting for W&B process to finish... <strong style=\"color:green\">(success).</strong>"
            ]
          },
          "metadata": {}
        },
        {
          "output_type": "display_data",
          "data": {
            "text/plain": [
              "VBox(children=(Label(value='0.001 MB of 0.001 MB uploaded (0.000 MB deduped)\\r'), FloatProgress(value=1.0, max…"
            ],
            "application/vnd.jupyter.widget-view+json": {
              "version_major": 2,
              "version_minor": 0,
              "model_id": "8ab6c349bba94ad2a1e7b63ceeecd23a"
            }
          },
          "metadata": {}
        },
        {
          "output_type": "display_data",
          "data": {
            "text/plain": [
              "<IPython.core.display.HTML object>"
            ],
            "text/html": [
              "Synced <strong style=\"color:#cdcd00\">Part B</strong>: <a href=\"https://wandb.ai/hithesh-sidhesh/Assignment_2/runs/2rjer3y4\" target=\"_blank\">https://wandb.ai/hithesh-sidhesh/Assignment_2/runs/2rjer3y4</a><br/>Synced 4 W&B file(s), 0 media file(s), 0 artifact file(s) and 0 other file(s)"
            ]
          },
          "metadata": {}
        },
        {
          "output_type": "display_data",
          "data": {
            "text/plain": [
              "<IPython.core.display.HTML object>"
            ],
            "text/html": [
              "Find logs at: <code>./wandb/run-20220401_070751-2rjer3y4/logs</code>"
            ]
          },
          "metadata": {}
        },
        {
          "output_type": "display_data",
          "data": {
            "text/plain": [
              "<IPython.core.display.HTML object>"
            ],
            "text/html": [
              "Successfully finished last run (ID:2rjer3y4). Initializing new run:<br/>"
            ]
          },
          "metadata": {}
        },
        {
          "output_type": "display_data",
          "data": {
            "text/plain": [
              "<IPython.core.display.HTML object>"
            ],
            "text/html": [
              "Tracking run with wandb version 0.12.11"
            ]
          },
          "metadata": {}
        },
        {
          "output_type": "display_data",
          "data": {
            "text/plain": [
              "<IPython.core.display.HTML object>"
            ],
            "text/html": [
              "Run data is saved locally in <code>/content/inaturalist_12K/train/Amphibia/wandb/run-20220401_070800-2rjer3y4</code>"
            ]
          },
          "metadata": {}
        },
        {
          "output_type": "display_data",
          "data": {
            "text/plain": [
              "<IPython.core.display.HTML object>"
            ],
            "text/html": [
              "Syncing run <strong><a href=\"https://wandb.ai/hithesh-sidhesh/Assignment_2/runs/2rjer3y4\" target=\"_blank\">Part B</a></strong> to <a href=\"https://wandb.ai/hithesh-sidhesh/Assignment_2\" target=\"_blank\">Weights & Biases</a> (<a href=\"https://wandb.me/run\" target=\"_blank\">docs</a>)<br/>Sweep page:  <a href=\"https://wandb.ai/hithesh-sidhesh/Assignment_2/sweeps/o2lidw9q\" target=\"_blank\">https://wandb.ai/hithesh-sidhesh/Assignment_2/sweeps/o2lidw9q</a>"
            ]
          },
          "metadata": {}
        },
        {
          "output_type": "stream",
          "name": "stdout",
          "text": [
            "Augmenting data\n",
            "Found 9000 images belonging to 10 classes.\n",
            "TRAINING\n",
            "Number of samples 9000\n",
            "Names of classes {'Amphibia': 0, 'Animalia': 1, 'Arachnida': 2, 'Aves': 3, 'Fungi': 4, 'Insecta': 5, 'Mammalia': 6, 'Mollusca': 7, 'Plantae': 8, 'Reptilia': 9}\n",
            "Number of classes 10\n",
            "Number of samples per class 900\n",
            "Found 999 images belonging to 10 classes.\n",
            "VALIDATION\n",
            "Number of samples 999\n",
            "Names of classes {'Amphibia': 0, 'Animalia': 1, 'Arachnida': 2, 'Aves': 3, 'Fungi': 4, 'Insecta': 5, 'Mammalia': 6, 'Mollusca': 7, 'Plantae': 8, 'Reptilia': 9}\n",
            "Number of classes 10\n",
            "Number of samples per class 99\n",
            "WARNING:tensorflow:`input_shape` is undefined or non-square, or `rows` is not in [96, 128, 160, 192, 224]. Weights for input shape (224, 224) will be loaded as the default.\n",
            "Model: \"sequential\"\n",
            "_________________________________________________________________\n",
            " Layer (type)                Output Shape              Param #   \n",
            "=================================================================\n",
            " mobilenetv2_1.00_224 (Funct  (None, 8, 8, 1280)       2257984   \n",
            " ional)                                                          \n",
            "                                                                 \n",
            " global_average_pooling2d (G  (None, 1280)             0         \n",
            " lobalAveragePooling2D)                                          \n",
            "                                                                 \n",
            " dropout (Dropout)           (None, 1280)              0         \n",
            "                                                                 \n",
            " dense (Dense)               (None, 128)               163968    \n",
            "                                                                 \n",
            " dropout_1 (Dropout)         (None, 128)               0         \n",
            "                                                                 \n",
            " dense_1 (Dense)             (None, 10)                1290      \n",
            "                                                                 \n",
            "=================================================================\n",
            "Total params: 2,423,242\n",
            "Trainable params: 165,258\n",
            "Non-trainable params: 2,257,984\n",
            "_________________________________________________________________\n",
            "Epoch 1/10\n",
            "35/35 [==============================] - 247s 7s/step - loss: 2.6020 - accuracy: 0.1308 - val_loss: 2.1531 - val_accuracy: 0.2044\n",
            "Epoch 2/10\n",
            "35/35 [==============================] - 230s 7s/step - loss: 2.1853 - accuracy: 0.2234 - val_loss: 1.9449 - val_accuracy: 0.3698\n",
            "Epoch 3/10\n",
            "35/35 [==============================] - 217s 6s/step - loss: 1.9809 - accuracy: 0.3055 - val_loss: 1.7496 - val_accuracy: 0.4844\n",
            "Epoch 4/10\n",
            "35/35 [==============================] - 212s 6s/step - loss: 1.8392 - accuracy: 0.3760 - val_loss: 1.5914 - val_accuracy: 0.5286\n",
            "Epoch 5/10\n",
            "35/35 [==============================] - 212s 6s/step - loss: 1.7123 - accuracy: 0.4227 - val_loss: 1.4703 - val_accuracy: 0.5495\n",
            "Epoch 6/10\n",
            "35/35 [==============================] - 212s 6s/step - loss: 1.6337 - accuracy: 0.4514 - val_loss: 1.3861 - val_accuracy: 0.5729\n",
            "Epoch 7/10\n",
            "35/35 [==============================] - 212s 6s/step - loss: 1.5633 - accuracy: 0.4794 - val_loss: 1.3311 - val_accuracy: 0.6003\n",
            "Epoch 8/10\n",
            "35/35 [==============================] - 212s 6s/step - loss: 1.4985 - accuracy: 0.4989 - val_loss: 1.2561 - val_accuracy: 0.5977\n",
            "Epoch 9/10\n",
            "35/35 [==============================] - 212s 6s/step - loss: 1.4537 - accuracy: 0.5178 - val_loss: 1.2455 - val_accuracy: 0.6224\n",
            "Epoch 10/10\n",
            "35/35 [==============================] - 212s 6s/step - loss: 1.4344 - accuracy: 0.5288 - val_loss: 1.1932 - val_accuracy: 0.6250\n",
            "{'Training_loss': 2.601971387863159, 'Validation_loss': 2.153136730194092, 'Training_accuracy': 0.528819739818573, 'Validation_accuracy': 0.625, '_timestamp': 1648799075, '_runtime': 2190}\n",
            "Found 2000 images belonging to 10 classes.\n",
            "7/7 - 21s - loss: 1.0087 - accuracy: 0.7098 - 21s/epoch - 3s/step\n",
            "Test accuracy : 0.7098214030265808\n"
          ]
        }
      ]
    },
    {
      "cell_type": "markdown",
      "source": [
        "5. Sweep for ResNet50 model\n",
        "\n"
      ],
      "metadata": {
        "id": "7MDMDoQTu-7K"
      }
    },
    {
      "cell_type": "code",
      "source": [
        "sweep_config = {\n",
        "    'method': 'bayes',\n",
        "    'metric': {\n",
        "      'name': 'val_accuracy',\n",
        "      'goal': 'maximize'   \n",
        "    },\n",
        "    'parameters': {\n",
        "        'model':{\n",
        "            'values':['ResNet50']\n",
        "        },\n",
        "        'dense_layers': {\n",
        "            'values': [[256], [128], [64]]\n",
        "        },\n",
        "        'layers_unfreeze':{\n",
        "            'values': [None, 20, 30]       \n",
        "        },\n",
        "        'dropout': {\n",
        "            'values':[0, 0.2, 0.3]\n",
        "        },\n",
        "        'augment_data': {\n",
        "            'values': ['yes', 'no']\n",
        "        },\n",
        "        'batch_size' : {\n",
        "            'values' : [128, 64, 256]\n",
        "        },\n",
        "        'epochs' : {\n",
        "            'values' : [5,10]\n",
        "        }\n",
        "\n",
        "    }\n",
        "}"
      ],
      "metadata": {
        "id": "llror-WZSA0w"
      },
      "execution_count": null,
      "outputs": []
    },
    {
      "cell_type": "code",
      "source": [
        "sweep_id = wandb.sweep(sweep_config,project=\"Assignment_2\", entity=\"hithesh-sidhesh\" )"
      ],
      "metadata": {
        "colab": {
          "base_uri": "https://localhost:8080/"
        },
        "outputId": "85488fd5-0056-41be-b06c-bd58d0b6cc9f",
        "id": "aBZWu3IISA0x"
      },
      "execution_count": null,
      "outputs": [
        {
          "output_type": "stream",
          "name": "stdout",
          "text": [
            "Create sweep with ID: 1m08gyq0\n",
            "Sweep URL: https://wandb.ai/hithesh-sidhesh/Assignment_2/sweeps/1m08gyq0\n"
          ]
        }
      ]
    },
    {
      "cell_type": "code",
      "source": [
        "#################################\n",
        "# Setting up wandb sweeps\n",
        "#################################\n",
        "wandb.agent(sweep_id, train, count = 15)\n"
      ],
      "metadata": {
        "id": "nAByeYdQSA0y"
      },
      "execution_count": null,
      "outputs": []
    },
    {
      "cell_type": "markdown",
      "source": [
        "##Best Model after Transfer learning\n",
        "\n",
        "The hyperparameters of the best model are as follows:\n",
        "\n",
        "- augment_data: no\n",
        "- batch_size: 256\n",
        "- dense_layers: [128]\n",
        "- dropout: 0.2\n",
        "- epochs: 5\n",
        "- layers_unfreeze: 20\n",
        "- model: InceptionResNetV2"
      ],
      "metadata": {
        "id": "jcWGhJu9hamc"
      }
    },
    {
      "cell_type": "code",
      "source": [
        "parameters = ConfigValues(augment_data='no', batch_size=256, dense_layers=[128], dropout=0.2, epochs=5, layers_unfreeze=20, model=\"InceptionResNetV2\")"
      ],
      "metadata": {
        "id": "iPJTOrzIo1vB"
      },
      "execution_count": null,
      "outputs": []
    },
    {
      "cell_type": "code",
      "source": [
        "model = executePretrainedModel(parameters, log = False)"
      ],
      "metadata": {
        "colab": {
          "base_uri": "https://localhost:8080/"
        },
        "outputId": "2745e796-24cb-4caf-939e-f6855923ec96",
        "id": "XCpXw0Sqot__"
      },
      "execution_count": null,
      "outputs": [
        {
          "output_type": "stream",
          "name": "stdout",
          "text": [
            "Not augmenting data\n",
            "Found 9000 images belonging to 10 classes.\n",
            "TRAINING\n",
            "Number of samples 9000\n",
            "Names of classes {'Amphibia': 0, 'Animalia': 1, 'Arachnida': 2, 'Aves': 3, 'Fungi': 4, 'Insecta': 5, 'Mammalia': 6, 'Mollusca': 7, 'Plantae': 8, 'Reptilia': 9}\n",
            "Number of classes 10\n",
            "Number of samples per class 900\n",
            "Found 999 images belonging to 10 classes.\n",
            "VALIDATION\n",
            "Number of samples 999\n",
            "Names of classes {'Amphibia': 0, 'Animalia': 1, 'Arachnida': 2, 'Aves': 3, 'Fungi': 4, 'Insecta': 5, 'Mammalia': 6, 'Mollusca': 7, 'Plantae': 8, 'Reptilia': 9}\n",
            "Number of classes 10\n",
            "Number of samples per class 99\n",
            "Training last  20  layers\n",
            "Model: \"sequential_3\"\n",
            "_________________________________________________________________\n",
            " Layer (type)                Output Shape              Param #   \n",
            "=================================================================\n",
            " inception_resnet_v2 (Functi  (None, 6, 6, 1536)       54336736  \n",
            " onal)                                                           \n",
            "                                                                 \n",
            " global_average_pooling2d_3   (None, 1536)             0         \n",
            " (GlobalAveragePooling2D)                                        \n",
            "                                                                 \n",
            " dropout_6 (Dropout)         (None, 1536)              0         \n",
            "                                                                 \n",
            " dense_6 (Dense)             (None, 128)               196736    \n",
            "                                                                 \n",
            " dropout_7 (Dropout)         (None, 128)               0         \n",
            "                                                                 \n",
            " dense_7 (Dense)             (None, 10)                1290      \n",
            "                                                                 \n",
            "=================================================================\n",
            "Total params: 54,534,762\n",
            "Trainable params: 5,429,002\n",
            "Non-trainable params: 49,105,760\n",
            "_________________________________________________________________\n",
            "Epoch 1/5\n",
            "35/35 [==============================] - 117s 3s/step - loss: 1.3405 - accuracy: 0.6052 - val_loss: 0.6674 - val_accuracy: 0.7969\n",
            "Epoch 2/5\n",
            "35/35 [==============================] - 98s 3s/step - loss: 0.6668 - accuracy: 0.7932 - val_loss: 0.6042 - val_accuracy: 0.8164\n",
            "Epoch 3/5\n",
            "35/35 [==============================] - 93s 3s/step - loss: 0.5375 - accuracy: 0.8286 - val_loss: 0.5887 - val_accuracy: 0.8138\n",
            "Epoch 4/5\n",
            "35/35 [==============================] - 90s 3s/step - loss: 0.4471 - accuracy: 0.8554 - val_loss: 0.5822 - val_accuracy: 0.8177\n",
            "Epoch 5/5\n",
            "35/35 [==============================] - 91s 3s/step - loss: 0.3559 - accuracy: 0.8854 - val_loss: 0.5786 - val_accuracy: 0.8255\n",
            "{'Training_loss': 1.3405486345291138, 'Validation_loss': 0.6674044728279114, 'Training_accuracy': 0.8854071497917175, 'Validation_accuracy': 0.8255208134651184}\n"
          ]
        }
      ]
    },
    {
      "cell_type": "code",
      "source": [
        "  test_datagen = tf.keras.preprocessing.image.ImageDataGenerator(rescale=1./255)\n",
        "  test_gen = test_datagen.flow_from_directory(\n",
        "          '/content/inaturalist_12K/val',\n",
        "          target_size=(256,256),\n",
        "              batch_size=parameters.batch_size,\n",
        "              class_mode='categorical',\n",
        "              shuffle = False,\n",
        "          seed = 137)\n",
        "  test_generator = tf.data.Dataset.from_generator(\n",
        "      lambda: test_gen,\n",
        "      output_types = (tf.float32, tf.float32)\n",
        "      ,output_shapes = ([None, 256, 256, 3], [None, 10]),\n",
        "  )\n",
        "  test_generator = test_generator.repeat()\n",
        "  test_generator = test_generator.prefetch(buffer_size=tf.data.experimental.AUTOTUNE)\n",
        "\n",
        "  test_loss, test_acc = model.evaluate(test_generator, steps=test_gen.samples//test_gen.batch_size, verbose=2)\n",
        "  print('Test accuracy :', test_acc)"
      ],
      "metadata": {
        "colab": {
          "base_uri": "https://localhost:8080/"
        },
        "outputId": "d266c8c1-3ac1-4e6d-8102-774c92f12214",
        "id": "UhQe3wKxouAB"
      },
      "execution_count": null,
      "outputs": [
        {
          "output_type": "stream",
          "name": "stdout",
          "text": [
            "Found 2000 images belonging to 10 classes.\n",
            "7/7 - 19s - loss: 0.5480 - accuracy: 0.8298 - 19s/epoch - 3s/step\n",
            "Test accuracy : 0.8297991156578064\n"
          ]
        }
      ]
    },
    {
      "cell_type": "markdown",
      "source": [
        "##Results from Best model:\n",
        "\n",
        "###Accuracy score:\n",
        "- Training Accuracy: 88.54%\n",
        "- Validation Accuracy: 82.55%\n",
        "- Test Accuracy: 82.97%\n",
        "\n",
        "###Loss values:\n",
        "- Training Loss: 0.3559\n",
        "- Validation Loss: 0.5786\n",
        "- Test Loss: 0.5480"
      ],
      "metadata": {
        "id": "ye_MkRtySMPf"
      }
    },
    {
      "cell_type": "markdown",
      "source": [
        "##Save model"
      ],
      "metadata": {
        "id": "RreRKYawwChm"
      }
    },
    {
      "cell_type": "code",
      "source": [
        "from google.colab import drive\n",
        "drive.mount('/content/drive')\n",
        "\n",
        "\n",
        "from keras.models import load_model\n",
        "from google.colab import files\n",
        "MODEL_PATH = '/content/best_model_pretrained.h5'\n",
        "\n",
        "#model.save(MODEL_PATH)\n",
        "# Load Model\n",
        "model = load_model(MODEL_PATH)\n"
      ],
      "metadata": {
        "id": "hSon8V77_Y4A",
        "colab": {
          "base_uri": "https://localhost:8080/"
        },
        "outputId": "16dbaba2-d8b2-4954-ce08-438189d232b0"
      },
      "execution_count": null,
      "outputs": [
        {
          "output_type": "stream",
          "name": "stdout",
          "text": [
            "Mounted at /content/drive\n"
          ]
        }
      ]
    }
  ]
}