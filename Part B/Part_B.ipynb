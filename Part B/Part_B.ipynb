{
  "nbformat": 4,
  "nbformat_minor": 0,
  "metadata": {
    "colab": {
      "name": "Part-B.ipynb",
      "provenance": [],
      "collapsed_sections": [],
      "machine_shape": "hm",
      "include_colab_link": true
    },
    "kernelspec": {
      "name": "python3",
      "display_name": "Python 3"
    },
    "language_info": {
      "name": "python"
    },
    "widgets": {
      "application/vnd.jupyter.widget-state+json": {
        "09bd632c86a746508abb62ee426a6c49": {
          "model_module": "@jupyter-widgets/controls",
          "model_name": "VBoxModel",
          "model_module_version": "1.5.0",
          "state": {
            "_dom_classes": [],
            "_model_module": "@jupyter-widgets/controls",
            "_model_module_version": "1.5.0",
            "_model_name": "VBoxModel",
            "_view_count": null,
            "_view_module": "@jupyter-widgets/controls",
            "_view_module_version": "1.5.0",
            "_view_name": "VBoxView",
            "box_style": "",
            "children": [
              "IPY_MODEL_c8cfa0e5129840f78276c7ff5844fadc",
              "IPY_MODEL_f1abc30b5ce54e709a64a0691858010f"
            ],
            "layout": "IPY_MODEL_1515575fcf92458c9426efd7300c0c4f"
          }
        },
        "c8cfa0e5129840f78276c7ff5844fadc": {
          "model_module": "@jupyter-widgets/controls",
          "model_name": "LabelModel",
          "model_module_version": "1.5.0",
          "state": {
            "_dom_classes": [],
            "_model_module": "@jupyter-widgets/controls",
            "_model_module_version": "1.5.0",
            "_model_name": "LabelModel",
            "_view_count": null,
            "_view_module": "@jupyter-widgets/controls",
            "_view_module_version": "1.5.0",
            "_view_name": "LabelView",
            "description": "",
            "description_tooltip": null,
            "layout": "IPY_MODEL_3a742dabe23743318fa82fb926b5f1f9",
            "placeholder": "​",
            "style": "IPY_MODEL_d07a0bd50ede4c52bcd51cc3596a19fc",
            "value": "0.009 MB of 0.009 MB uploaded (0.000 MB deduped)\r"
          }
        },
        "f1abc30b5ce54e709a64a0691858010f": {
          "model_module": "@jupyter-widgets/controls",
          "model_name": "FloatProgressModel",
          "model_module_version": "1.5.0",
          "state": {
            "_dom_classes": [],
            "_model_module": "@jupyter-widgets/controls",
            "_model_module_version": "1.5.0",
            "_model_name": "FloatProgressModel",
            "_view_count": null,
            "_view_module": "@jupyter-widgets/controls",
            "_view_module_version": "1.5.0",
            "_view_name": "ProgressView",
            "bar_style": "",
            "description": "",
            "description_tooltip": null,
            "layout": "IPY_MODEL_eb9bd98c3a4840b8929a077274692cd5",
            "max": 1,
            "min": 0,
            "orientation": "horizontal",
            "style": "IPY_MODEL_04d2ba58887e4a8d988c3610eb60d210",
            "value": 1
          }
        },
        "1515575fcf92458c9426efd7300c0c4f": {
          "model_module": "@jupyter-widgets/base",
          "model_name": "LayoutModel",
          "model_module_version": "1.2.0",
          "state": {
            "_model_module": "@jupyter-widgets/base",
            "_model_module_version": "1.2.0",
            "_model_name": "LayoutModel",
            "_view_count": null,
            "_view_module": "@jupyter-widgets/base",
            "_view_module_version": "1.2.0",
            "_view_name": "LayoutView",
            "align_content": null,
            "align_items": null,
            "align_self": null,
            "border": null,
            "bottom": null,
            "display": null,
            "flex": null,
            "flex_flow": null,
            "grid_area": null,
            "grid_auto_columns": null,
            "grid_auto_flow": null,
            "grid_auto_rows": null,
            "grid_column": null,
            "grid_gap": null,
            "grid_row": null,
            "grid_template_areas": null,
            "grid_template_columns": null,
            "grid_template_rows": null,
            "height": null,
            "justify_content": null,
            "justify_items": null,
            "left": null,
            "margin": null,
            "max_height": null,
            "max_width": null,
            "min_height": null,
            "min_width": null,
            "object_fit": null,
            "object_position": null,
            "order": null,
            "overflow": null,
            "overflow_x": null,
            "overflow_y": null,
            "padding": null,
            "right": null,
            "top": null,
            "visibility": null,
            "width": null
          }
        },
        "3a742dabe23743318fa82fb926b5f1f9": {
          "model_module": "@jupyter-widgets/base",
          "model_name": "LayoutModel",
          "model_module_version": "1.2.0",
          "state": {
            "_model_module": "@jupyter-widgets/base",
            "_model_module_version": "1.2.0",
            "_model_name": "LayoutModel",
            "_view_count": null,
            "_view_module": "@jupyter-widgets/base",
            "_view_module_version": "1.2.0",
            "_view_name": "LayoutView",
            "align_content": null,
            "align_items": null,
            "align_self": null,
            "border": null,
            "bottom": null,
            "display": null,
            "flex": null,
            "flex_flow": null,
            "grid_area": null,
            "grid_auto_columns": null,
            "grid_auto_flow": null,
            "grid_auto_rows": null,
            "grid_column": null,
            "grid_gap": null,
            "grid_row": null,
            "grid_template_areas": null,
            "grid_template_columns": null,
            "grid_template_rows": null,
            "height": null,
            "justify_content": null,
            "justify_items": null,
            "left": null,
            "margin": null,
            "max_height": null,
            "max_width": null,
            "min_height": null,
            "min_width": null,
            "object_fit": null,
            "object_position": null,
            "order": null,
            "overflow": null,
            "overflow_x": null,
            "overflow_y": null,
            "padding": null,
            "right": null,
            "top": null,
            "visibility": null,
            "width": null
          }
        },
        "d07a0bd50ede4c52bcd51cc3596a19fc": {
          "model_module": "@jupyter-widgets/controls",
          "model_name": "DescriptionStyleModel",
          "model_module_version": "1.5.0",
          "state": {
            "_model_module": "@jupyter-widgets/controls",
            "_model_module_version": "1.5.0",
            "_model_name": "DescriptionStyleModel",
            "_view_count": null,
            "_view_module": "@jupyter-widgets/base",
            "_view_module_version": "1.2.0",
            "_view_name": "StyleView",
            "description_width": ""
          }
        },
        "eb9bd98c3a4840b8929a077274692cd5": {
          "model_module": "@jupyter-widgets/base",
          "model_name": "LayoutModel",
          "model_module_version": "1.2.0",
          "state": {
            "_model_module": "@jupyter-widgets/base",
            "_model_module_version": "1.2.0",
            "_model_name": "LayoutModel",
            "_view_count": null,
            "_view_module": "@jupyter-widgets/base",
            "_view_module_version": "1.2.0",
            "_view_name": "LayoutView",
            "align_content": null,
            "align_items": null,
            "align_self": null,
            "border": null,
            "bottom": null,
            "display": null,
            "flex": null,
            "flex_flow": null,
            "grid_area": null,
            "grid_auto_columns": null,
            "grid_auto_flow": null,
            "grid_auto_rows": null,
            "grid_column": null,
            "grid_gap": null,
            "grid_row": null,
            "grid_template_areas": null,
            "grid_template_columns": null,
            "grid_template_rows": null,
            "height": null,
            "justify_content": null,
            "justify_items": null,
            "left": null,
            "margin": null,
            "max_height": null,
            "max_width": null,
            "min_height": null,
            "min_width": null,
            "object_fit": null,
            "object_position": null,
            "order": null,
            "overflow": null,
            "overflow_x": null,
            "overflow_y": null,
            "padding": null,
            "right": null,
            "top": null,
            "visibility": null,
            "width": null
          }
        },
        "04d2ba58887e4a8d988c3610eb60d210": {
          "model_module": "@jupyter-widgets/controls",
          "model_name": "ProgressStyleModel",
          "model_module_version": "1.5.0",
          "state": {
            "_model_module": "@jupyter-widgets/controls",
            "_model_module_version": "1.5.0",
            "_model_name": "ProgressStyleModel",
            "_view_count": null,
            "_view_module": "@jupyter-widgets/base",
            "_view_module_version": "1.2.0",
            "_view_name": "StyleView",
            "bar_color": null,
            "description_width": ""
          }
        },
        "32f0b227c6134ccb81578ca3f18a50e1": {
          "model_module": "@jupyter-widgets/controls",
          "model_name": "VBoxModel",
          "model_module_version": "1.5.0",
          "state": {
            "_dom_classes": [],
            "_model_module": "@jupyter-widgets/controls",
            "_model_module_version": "1.5.0",
            "_model_name": "VBoxModel",
            "_view_count": null,
            "_view_module": "@jupyter-widgets/controls",
            "_view_module_version": "1.5.0",
            "_view_name": "VBoxView",
            "box_style": "",
            "children": [
              "IPY_MODEL_4c6f80aa80084c679fa840ec5329f408",
              "IPY_MODEL_28059690d98b43e29f234f3cb8fa7719"
            ],
            "layout": "IPY_MODEL_36787e70bbdc45cead00307828653a2d"
          }
        },
        "4c6f80aa80084c679fa840ec5329f408": {
          "model_module": "@jupyter-widgets/controls",
          "model_name": "LabelModel",
          "model_module_version": "1.5.0",
          "state": {
            "_dom_classes": [],
            "_model_module": "@jupyter-widgets/controls",
            "_model_module_version": "1.5.0",
            "_model_name": "LabelModel",
            "_view_count": null,
            "_view_module": "@jupyter-widgets/controls",
            "_view_module_version": "1.5.0",
            "_view_name": "LabelView",
            "description": "",
            "description_tooltip": null,
            "layout": "IPY_MODEL_4c7407cabe7949c19db8358561d43b4a",
            "placeholder": "​",
            "style": "IPY_MODEL_857025c01e204d93959245709028920b",
            "value": "20.614 MB of 20.614 MB uploaded (0.000 MB deduped)\r"
          }
        },
        "28059690d98b43e29f234f3cb8fa7719": {
          "model_module": "@jupyter-widgets/controls",
          "model_name": "FloatProgressModel",
          "model_module_version": "1.5.0",
          "state": {
            "_dom_classes": [],
            "_model_module": "@jupyter-widgets/controls",
            "_model_module_version": "1.5.0",
            "_model_name": "FloatProgressModel",
            "_view_count": null,
            "_view_module": "@jupyter-widgets/controls",
            "_view_module_version": "1.5.0",
            "_view_name": "ProgressView",
            "bar_style": "",
            "description": "",
            "description_tooltip": null,
            "layout": "IPY_MODEL_15bd4f8573134444a71c9177536e0912",
            "max": 1,
            "min": 0,
            "orientation": "horizontal",
            "style": "IPY_MODEL_bf73bfc52e5a494fb47e1c51de9271f8",
            "value": 1
          }
        },
        "36787e70bbdc45cead00307828653a2d": {
          "model_module": "@jupyter-widgets/base",
          "model_name": "LayoutModel",
          "model_module_version": "1.2.0",
          "state": {
            "_model_module": "@jupyter-widgets/base",
            "_model_module_version": "1.2.0",
            "_model_name": "LayoutModel",
            "_view_count": null,
            "_view_module": "@jupyter-widgets/base",
            "_view_module_version": "1.2.0",
            "_view_name": "LayoutView",
            "align_content": null,
            "align_items": null,
            "align_self": null,
            "border": null,
            "bottom": null,
            "display": null,
            "flex": null,
            "flex_flow": null,
            "grid_area": null,
            "grid_auto_columns": null,
            "grid_auto_flow": null,
            "grid_auto_rows": null,
            "grid_column": null,
            "grid_gap": null,
            "grid_row": null,
            "grid_template_areas": null,
            "grid_template_columns": null,
            "grid_template_rows": null,
            "height": null,
            "justify_content": null,
            "justify_items": null,
            "left": null,
            "margin": null,
            "max_height": null,
            "max_width": null,
            "min_height": null,
            "min_width": null,
            "object_fit": null,
            "object_position": null,
            "order": null,
            "overflow": null,
            "overflow_x": null,
            "overflow_y": null,
            "padding": null,
            "right": null,
            "top": null,
            "visibility": null,
            "width": null
          }
        },
        "4c7407cabe7949c19db8358561d43b4a": {
          "model_module": "@jupyter-widgets/base",
          "model_name": "LayoutModel",
          "model_module_version": "1.2.0",
          "state": {
            "_model_module": "@jupyter-widgets/base",
            "_model_module_version": "1.2.0",
            "_model_name": "LayoutModel",
            "_view_count": null,
            "_view_module": "@jupyter-widgets/base",
            "_view_module_version": "1.2.0",
            "_view_name": "LayoutView",
            "align_content": null,
            "align_items": null,
            "align_self": null,
            "border": null,
            "bottom": null,
            "display": null,
            "flex": null,
            "flex_flow": null,
            "grid_area": null,
            "grid_auto_columns": null,
            "grid_auto_flow": null,
            "grid_auto_rows": null,
            "grid_column": null,
            "grid_gap": null,
            "grid_row": null,
            "grid_template_areas": null,
            "grid_template_columns": null,
            "grid_template_rows": null,
            "height": null,
            "justify_content": null,
            "justify_items": null,
            "left": null,
            "margin": null,
            "max_height": null,
            "max_width": null,
            "min_height": null,
            "min_width": null,
            "object_fit": null,
            "object_position": null,
            "order": null,
            "overflow": null,
            "overflow_x": null,
            "overflow_y": null,
            "padding": null,
            "right": null,
            "top": null,
            "visibility": null,
            "width": null
          }
        },
        "857025c01e204d93959245709028920b": {
          "model_module": "@jupyter-widgets/controls",
          "model_name": "DescriptionStyleModel",
          "model_module_version": "1.5.0",
          "state": {
            "_model_module": "@jupyter-widgets/controls",
            "_model_module_version": "1.5.0",
            "_model_name": "DescriptionStyleModel",
            "_view_count": null,
            "_view_module": "@jupyter-widgets/base",
            "_view_module_version": "1.2.0",
            "_view_name": "StyleView",
            "description_width": ""
          }
        },
        "15bd4f8573134444a71c9177536e0912": {
          "model_module": "@jupyter-widgets/base",
          "model_name": "LayoutModel",
          "model_module_version": "1.2.0",
          "state": {
            "_model_module": "@jupyter-widgets/base",
            "_model_module_version": "1.2.0",
            "_model_name": "LayoutModel",
            "_view_count": null,
            "_view_module": "@jupyter-widgets/base",
            "_view_module_version": "1.2.0",
            "_view_name": "LayoutView",
            "align_content": null,
            "align_items": null,
            "align_self": null,
            "border": null,
            "bottom": null,
            "display": null,
            "flex": null,
            "flex_flow": null,
            "grid_area": null,
            "grid_auto_columns": null,
            "grid_auto_flow": null,
            "grid_auto_rows": null,
            "grid_column": null,
            "grid_gap": null,
            "grid_row": null,
            "grid_template_areas": null,
            "grid_template_columns": null,
            "grid_template_rows": null,
            "height": null,
            "justify_content": null,
            "justify_items": null,
            "left": null,
            "margin": null,
            "max_height": null,
            "max_width": null,
            "min_height": null,
            "min_width": null,
            "object_fit": null,
            "object_position": null,
            "order": null,
            "overflow": null,
            "overflow_x": null,
            "overflow_y": null,
            "padding": null,
            "right": null,
            "top": null,
            "visibility": null,
            "width": null
          }
        },
        "bf73bfc52e5a494fb47e1c51de9271f8": {
          "model_module": "@jupyter-widgets/controls",
          "model_name": "ProgressStyleModel",
          "model_module_version": "1.5.0",
          "state": {
            "_model_module": "@jupyter-widgets/controls",
            "_model_module_version": "1.5.0",
            "_model_name": "ProgressStyleModel",
            "_view_count": null,
            "_view_module": "@jupyter-widgets/base",
            "_view_module_version": "1.2.0",
            "_view_name": "StyleView",
            "bar_color": null,
            "description_width": ""
          }
        },
        "20332718a96748378c11c5370d5fe938": {
          "model_module": "@jupyter-widgets/controls",
          "model_name": "VBoxModel",
          "model_module_version": "1.5.0",
          "state": {
            "_dom_classes": [],
            "_model_module": "@jupyter-widgets/controls",
            "_model_module_version": "1.5.0",
            "_model_name": "VBoxModel",
            "_view_count": null,
            "_view_module": "@jupyter-widgets/controls",
            "_view_module_version": "1.5.0",
            "_view_name": "VBoxView",
            "box_style": "",
            "children": [
              "IPY_MODEL_a9bdbfc8d10741f8aaf622b44be29a53",
              "IPY_MODEL_423220ed8ca84e6b9c6959a1f0e836c2"
            ],
            "layout": "IPY_MODEL_0590592db87b4261bba22e69c82f40b6"
          }
        },
        "a9bdbfc8d10741f8aaf622b44be29a53": {
          "model_module": "@jupyter-widgets/controls",
          "model_name": "LabelModel",
          "model_module_version": "1.5.0",
          "state": {
            "_dom_classes": [],
            "_model_module": "@jupyter-widgets/controls",
            "_model_module_version": "1.5.0",
            "_model_name": "LabelModel",
            "_view_count": null,
            "_view_module": "@jupyter-widgets/controls",
            "_view_module_version": "1.5.0",
            "_view_name": "LabelView",
            "description": "",
            "description_tooltip": null,
            "layout": "IPY_MODEL_d366ad07b1f142bca63ca014a8ef60d0",
            "placeholder": "​",
            "style": "IPY_MODEL_31e7587640bc40d7b1b0b7ea8343788a",
            "value": "0.009 MB of 0.009 MB uploaded (0.000 MB deduped)\r"
          }
        },
        "423220ed8ca84e6b9c6959a1f0e836c2": {
          "model_module": "@jupyter-widgets/controls",
          "model_name": "FloatProgressModel",
          "model_module_version": "1.5.0",
          "state": {
            "_dom_classes": [],
            "_model_module": "@jupyter-widgets/controls",
            "_model_module_version": "1.5.0",
            "_model_name": "FloatProgressModel",
            "_view_count": null,
            "_view_module": "@jupyter-widgets/controls",
            "_view_module_version": "1.5.0",
            "_view_name": "ProgressView",
            "bar_style": "",
            "description": "",
            "description_tooltip": null,
            "layout": "IPY_MODEL_e3897d13079c4c629b08e8b9c78d2bbb",
            "max": 1,
            "min": 0,
            "orientation": "horizontal",
            "style": "IPY_MODEL_a274fc2ebcc1439398029c2c855f1e0d",
            "value": 1
          }
        },
        "0590592db87b4261bba22e69c82f40b6": {
          "model_module": "@jupyter-widgets/base",
          "model_name": "LayoutModel",
          "model_module_version": "1.2.0",
          "state": {
            "_model_module": "@jupyter-widgets/base",
            "_model_module_version": "1.2.0",
            "_model_name": "LayoutModel",
            "_view_count": null,
            "_view_module": "@jupyter-widgets/base",
            "_view_module_version": "1.2.0",
            "_view_name": "LayoutView",
            "align_content": null,
            "align_items": null,
            "align_self": null,
            "border": null,
            "bottom": null,
            "display": null,
            "flex": null,
            "flex_flow": null,
            "grid_area": null,
            "grid_auto_columns": null,
            "grid_auto_flow": null,
            "grid_auto_rows": null,
            "grid_column": null,
            "grid_gap": null,
            "grid_row": null,
            "grid_template_areas": null,
            "grid_template_columns": null,
            "grid_template_rows": null,
            "height": null,
            "justify_content": null,
            "justify_items": null,
            "left": null,
            "margin": null,
            "max_height": null,
            "max_width": null,
            "min_height": null,
            "min_width": null,
            "object_fit": null,
            "object_position": null,
            "order": null,
            "overflow": null,
            "overflow_x": null,
            "overflow_y": null,
            "padding": null,
            "right": null,
            "top": null,
            "visibility": null,
            "width": null
          }
        },
        "d366ad07b1f142bca63ca014a8ef60d0": {
          "model_module": "@jupyter-widgets/base",
          "model_name": "LayoutModel",
          "model_module_version": "1.2.0",
          "state": {
            "_model_module": "@jupyter-widgets/base",
            "_model_module_version": "1.2.0",
            "_model_name": "LayoutModel",
            "_view_count": null,
            "_view_module": "@jupyter-widgets/base",
            "_view_module_version": "1.2.0",
            "_view_name": "LayoutView",
            "align_content": null,
            "align_items": null,
            "align_self": null,
            "border": null,
            "bottom": null,
            "display": null,
            "flex": null,
            "flex_flow": null,
            "grid_area": null,
            "grid_auto_columns": null,
            "grid_auto_flow": null,
            "grid_auto_rows": null,
            "grid_column": null,
            "grid_gap": null,
            "grid_row": null,
            "grid_template_areas": null,
            "grid_template_columns": null,
            "grid_template_rows": null,
            "height": null,
            "justify_content": null,
            "justify_items": null,
            "left": null,
            "margin": null,
            "max_height": null,
            "max_width": null,
            "min_height": null,
            "min_width": null,
            "object_fit": null,
            "object_position": null,
            "order": null,
            "overflow": null,
            "overflow_x": null,
            "overflow_y": null,
            "padding": null,
            "right": null,
            "top": null,
            "visibility": null,
            "width": null
          }
        },
        "31e7587640bc40d7b1b0b7ea8343788a": {
          "model_module": "@jupyter-widgets/controls",
          "model_name": "DescriptionStyleModel",
          "model_module_version": "1.5.0",
          "state": {
            "_model_module": "@jupyter-widgets/controls",
            "_model_module_version": "1.5.0",
            "_model_name": "DescriptionStyleModel",
            "_view_count": null,
            "_view_module": "@jupyter-widgets/base",
            "_view_module_version": "1.2.0",
            "_view_name": "StyleView",
            "description_width": ""
          }
        },
        "e3897d13079c4c629b08e8b9c78d2bbb": {
          "model_module": "@jupyter-widgets/base",
          "model_name": "LayoutModel",
          "model_module_version": "1.2.0",
          "state": {
            "_model_module": "@jupyter-widgets/base",
            "_model_module_version": "1.2.0",
            "_model_name": "LayoutModel",
            "_view_count": null,
            "_view_module": "@jupyter-widgets/base",
            "_view_module_version": "1.2.0",
            "_view_name": "LayoutView",
            "align_content": null,
            "align_items": null,
            "align_self": null,
            "border": null,
            "bottom": null,
            "display": null,
            "flex": null,
            "flex_flow": null,
            "grid_area": null,
            "grid_auto_columns": null,
            "grid_auto_flow": null,
            "grid_auto_rows": null,
            "grid_column": null,
            "grid_gap": null,
            "grid_row": null,
            "grid_template_areas": null,
            "grid_template_columns": null,
            "grid_template_rows": null,
            "height": null,
            "justify_content": null,
            "justify_items": null,
            "left": null,
            "margin": null,
            "max_height": null,
            "max_width": null,
            "min_height": null,
            "min_width": null,
            "object_fit": null,
            "object_position": null,
            "order": null,
            "overflow": null,
            "overflow_x": null,
            "overflow_y": null,
            "padding": null,
            "right": null,
            "top": null,
            "visibility": null,
            "width": null
          }
        },
        "a274fc2ebcc1439398029c2c855f1e0d": {
          "model_module": "@jupyter-widgets/controls",
          "model_name": "ProgressStyleModel",
          "model_module_version": "1.5.0",
          "state": {
            "_model_module": "@jupyter-widgets/controls",
            "_model_module_version": "1.5.0",
            "_model_name": "ProgressStyleModel",
            "_view_count": null,
            "_view_module": "@jupyter-widgets/base",
            "_view_module_version": "1.2.0",
            "_view_name": "StyleView",
            "bar_color": null,
            "description_width": ""
          }
        },
        "0d4f3d29019b40cc89199231bdc6f094": {
          "model_module": "@jupyter-widgets/controls",
          "model_name": "VBoxModel",
          "model_module_version": "1.5.0",
          "state": {
            "_dom_classes": [],
            "_model_module": "@jupyter-widgets/controls",
            "_model_module_version": "1.5.0",
            "_model_name": "VBoxModel",
            "_view_count": null,
            "_view_module": "@jupyter-widgets/controls",
            "_view_module_version": "1.5.0",
            "_view_name": "VBoxView",
            "box_style": "",
            "children": [
              "IPY_MODEL_00481f4c987341f4a405d79ca4eecda8",
              "IPY_MODEL_e3f19eb06c2c49a1a686975472f4ae97"
            ],
            "layout": "IPY_MODEL_adfe736b662d416089a2630d04cb2357"
          }
        },
        "00481f4c987341f4a405d79ca4eecda8": {
          "model_module": "@jupyter-widgets/controls",
          "model_name": "LabelModel",
          "model_module_version": "1.5.0",
          "state": {
            "_dom_classes": [],
            "_model_module": "@jupyter-widgets/controls",
            "_model_module_version": "1.5.0",
            "_model_name": "LabelModel",
            "_view_count": null,
            "_view_module": "@jupyter-widgets/controls",
            "_view_module_version": "1.5.0",
            "_view_name": "LabelView",
            "description": "",
            "description_tooltip": null,
            "layout": "IPY_MODEL_18a3c2e0e87b4099a41acf855ece88f4",
            "placeholder": "​",
            "style": "IPY_MODEL_24d43e2d8297475a9fda2eb94d5538fb",
            "value": "64.818 MB of 64.818 MB uploaded (0.000 MB deduped)\r"
          }
        },
        "e3f19eb06c2c49a1a686975472f4ae97": {
          "model_module": "@jupyter-widgets/controls",
          "model_name": "FloatProgressModel",
          "model_module_version": "1.5.0",
          "state": {
            "_dom_classes": [],
            "_model_module": "@jupyter-widgets/controls",
            "_model_module_version": "1.5.0",
            "_model_name": "FloatProgressModel",
            "_view_count": null,
            "_view_module": "@jupyter-widgets/controls",
            "_view_module_version": "1.5.0",
            "_view_name": "ProgressView",
            "bar_style": "",
            "description": "",
            "description_tooltip": null,
            "layout": "IPY_MODEL_d476880a15084e8ba6db24caa7d08079",
            "max": 1,
            "min": 0,
            "orientation": "horizontal",
            "style": "IPY_MODEL_ccf12bcef566412fb38721815fd26f55",
            "value": 1
          }
        },
        "adfe736b662d416089a2630d04cb2357": {
          "model_module": "@jupyter-widgets/base",
          "model_name": "LayoutModel",
          "model_module_version": "1.2.0",
          "state": {
            "_model_module": "@jupyter-widgets/base",
            "_model_module_version": "1.2.0",
            "_model_name": "LayoutModel",
            "_view_count": null,
            "_view_module": "@jupyter-widgets/base",
            "_view_module_version": "1.2.0",
            "_view_name": "LayoutView",
            "align_content": null,
            "align_items": null,
            "align_self": null,
            "border": null,
            "bottom": null,
            "display": null,
            "flex": null,
            "flex_flow": null,
            "grid_area": null,
            "grid_auto_columns": null,
            "grid_auto_flow": null,
            "grid_auto_rows": null,
            "grid_column": null,
            "grid_gap": null,
            "grid_row": null,
            "grid_template_areas": null,
            "grid_template_columns": null,
            "grid_template_rows": null,
            "height": null,
            "justify_content": null,
            "justify_items": null,
            "left": null,
            "margin": null,
            "max_height": null,
            "max_width": null,
            "min_height": null,
            "min_width": null,
            "object_fit": null,
            "object_position": null,
            "order": null,
            "overflow": null,
            "overflow_x": null,
            "overflow_y": null,
            "padding": null,
            "right": null,
            "top": null,
            "visibility": null,
            "width": null
          }
        },
        "18a3c2e0e87b4099a41acf855ece88f4": {
          "model_module": "@jupyter-widgets/base",
          "model_name": "LayoutModel",
          "model_module_version": "1.2.0",
          "state": {
            "_model_module": "@jupyter-widgets/base",
            "_model_module_version": "1.2.0",
            "_model_name": "LayoutModel",
            "_view_count": null,
            "_view_module": "@jupyter-widgets/base",
            "_view_module_version": "1.2.0",
            "_view_name": "LayoutView",
            "align_content": null,
            "align_items": null,
            "align_self": null,
            "border": null,
            "bottom": null,
            "display": null,
            "flex": null,
            "flex_flow": null,
            "grid_area": null,
            "grid_auto_columns": null,
            "grid_auto_flow": null,
            "grid_auto_rows": null,
            "grid_column": null,
            "grid_gap": null,
            "grid_row": null,
            "grid_template_areas": null,
            "grid_template_columns": null,
            "grid_template_rows": null,
            "height": null,
            "justify_content": null,
            "justify_items": null,
            "left": null,
            "margin": null,
            "max_height": null,
            "max_width": null,
            "min_height": null,
            "min_width": null,
            "object_fit": null,
            "object_position": null,
            "order": null,
            "overflow": null,
            "overflow_x": null,
            "overflow_y": null,
            "padding": null,
            "right": null,
            "top": null,
            "visibility": null,
            "width": null
          }
        },
        "24d43e2d8297475a9fda2eb94d5538fb": {
          "model_module": "@jupyter-widgets/controls",
          "model_name": "DescriptionStyleModel",
          "model_module_version": "1.5.0",
          "state": {
            "_model_module": "@jupyter-widgets/controls",
            "_model_module_version": "1.5.0",
            "_model_name": "DescriptionStyleModel",
            "_view_count": null,
            "_view_module": "@jupyter-widgets/base",
            "_view_module_version": "1.2.0",
            "_view_name": "StyleView",
            "description_width": ""
          }
        },
        "d476880a15084e8ba6db24caa7d08079": {
          "model_module": "@jupyter-widgets/base",
          "model_name": "LayoutModel",
          "model_module_version": "1.2.0",
          "state": {
            "_model_module": "@jupyter-widgets/base",
            "_model_module_version": "1.2.0",
            "_model_name": "LayoutModel",
            "_view_count": null,
            "_view_module": "@jupyter-widgets/base",
            "_view_module_version": "1.2.0",
            "_view_name": "LayoutView",
            "align_content": null,
            "align_items": null,
            "align_self": null,
            "border": null,
            "bottom": null,
            "display": null,
            "flex": null,
            "flex_flow": null,
            "grid_area": null,
            "grid_auto_columns": null,
            "grid_auto_flow": null,
            "grid_auto_rows": null,
            "grid_column": null,
            "grid_gap": null,
            "grid_row": null,
            "grid_template_areas": null,
            "grid_template_columns": null,
            "grid_template_rows": null,
            "height": null,
            "justify_content": null,
            "justify_items": null,
            "left": null,
            "margin": null,
            "max_height": null,
            "max_width": null,
            "min_height": null,
            "min_width": null,
            "object_fit": null,
            "object_position": null,
            "order": null,
            "overflow": null,
            "overflow_x": null,
            "overflow_y": null,
            "padding": null,
            "right": null,
            "top": null,
            "visibility": null,
            "width": null
          }
        },
        "ccf12bcef566412fb38721815fd26f55": {
          "model_module": "@jupyter-widgets/controls",
          "model_name": "ProgressStyleModel",
          "model_module_version": "1.5.0",
          "state": {
            "_model_module": "@jupyter-widgets/controls",
            "_model_module_version": "1.5.0",
            "_model_name": "ProgressStyleModel",
            "_view_count": null,
            "_view_module": "@jupyter-widgets/base",
            "_view_module_version": "1.2.0",
            "_view_name": "StyleView",
            "bar_color": null,
            "description_width": ""
          }
        },
        "c890404d87464e968043cd807cf8fc8d": {
          "model_module": "@jupyter-widgets/controls",
          "model_name": "VBoxModel",
          "model_module_version": "1.5.0",
          "state": {
            "_dom_classes": [],
            "_model_module": "@jupyter-widgets/controls",
            "_model_module_version": "1.5.0",
            "_model_name": "VBoxModel",
            "_view_count": null,
            "_view_module": "@jupyter-widgets/controls",
            "_view_module_version": "1.5.0",
            "_view_name": "VBoxView",
            "box_style": "",
            "children": [
              "IPY_MODEL_d9c1693825dc4fc192503519070d7c19",
              "IPY_MODEL_41192afb3ed84fe5a9f448c9873bd301"
            ],
            "layout": "IPY_MODEL_e7d2534a50004a05a0f68745d35f1cff"
          }
        },
        "d9c1693825dc4fc192503519070d7c19": {
          "model_module": "@jupyter-widgets/controls",
          "model_name": "LabelModel",
          "model_module_version": "1.5.0",
          "state": {
            "_dom_classes": [],
            "_model_module": "@jupyter-widgets/controls",
            "_model_module_version": "1.5.0",
            "_model_name": "LabelModel",
            "_view_count": null,
            "_view_module": "@jupyter-widgets/controls",
            "_view_module_version": "1.5.0",
            "_view_name": "LabelView",
            "description": "",
            "description_tooltip": null,
            "layout": "IPY_MODEL_62de01f0cfe54139b4db7064795d31f5",
            "placeholder": "​",
            "style": "IPY_MODEL_a760006de54942a2bbd58aae95c54412",
            "value": "0.009 MB of 0.009 MB uploaded (0.000 MB deduped)\r"
          }
        },
        "41192afb3ed84fe5a9f448c9873bd301": {
          "model_module": "@jupyter-widgets/controls",
          "model_name": "FloatProgressModel",
          "model_module_version": "1.5.0",
          "state": {
            "_dom_classes": [],
            "_model_module": "@jupyter-widgets/controls",
            "_model_module_version": "1.5.0",
            "_model_name": "FloatProgressModel",
            "_view_count": null,
            "_view_module": "@jupyter-widgets/controls",
            "_view_module_version": "1.5.0",
            "_view_name": "ProgressView",
            "bar_style": "",
            "description": "",
            "description_tooltip": null,
            "layout": "IPY_MODEL_d9aff15340df4f819a1e9276c56d0a0f",
            "max": 1,
            "min": 0,
            "orientation": "horizontal",
            "style": "IPY_MODEL_a1f3ef6aa91340d5b362301c9abb4fb9",
            "value": 1
          }
        },
        "e7d2534a50004a05a0f68745d35f1cff": {
          "model_module": "@jupyter-widgets/base",
          "model_name": "LayoutModel",
          "model_module_version": "1.2.0",
          "state": {
            "_model_module": "@jupyter-widgets/base",
            "_model_module_version": "1.2.0",
            "_model_name": "LayoutModel",
            "_view_count": null,
            "_view_module": "@jupyter-widgets/base",
            "_view_module_version": "1.2.0",
            "_view_name": "LayoutView",
            "align_content": null,
            "align_items": null,
            "align_self": null,
            "border": null,
            "bottom": null,
            "display": null,
            "flex": null,
            "flex_flow": null,
            "grid_area": null,
            "grid_auto_columns": null,
            "grid_auto_flow": null,
            "grid_auto_rows": null,
            "grid_column": null,
            "grid_gap": null,
            "grid_row": null,
            "grid_template_areas": null,
            "grid_template_columns": null,
            "grid_template_rows": null,
            "height": null,
            "justify_content": null,
            "justify_items": null,
            "left": null,
            "margin": null,
            "max_height": null,
            "max_width": null,
            "min_height": null,
            "min_width": null,
            "object_fit": null,
            "object_position": null,
            "order": null,
            "overflow": null,
            "overflow_x": null,
            "overflow_y": null,
            "padding": null,
            "right": null,
            "top": null,
            "visibility": null,
            "width": null
          }
        },
        "62de01f0cfe54139b4db7064795d31f5": {
          "model_module": "@jupyter-widgets/base",
          "model_name": "LayoutModel",
          "model_module_version": "1.2.0",
          "state": {
            "_model_module": "@jupyter-widgets/base",
            "_model_module_version": "1.2.0",
            "_model_name": "LayoutModel",
            "_view_count": null,
            "_view_module": "@jupyter-widgets/base",
            "_view_module_version": "1.2.0",
            "_view_name": "LayoutView",
            "align_content": null,
            "align_items": null,
            "align_self": null,
            "border": null,
            "bottom": null,
            "display": null,
            "flex": null,
            "flex_flow": null,
            "grid_area": null,
            "grid_auto_columns": null,
            "grid_auto_flow": null,
            "grid_auto_rows": null,
            "grid_column": null,
            "grid_gap": null,
            "grid_row": null,
            "grid_template_areas": null,
            "grid_template_columns": null,
            "grid_template_rows": null,
            "height": null,
            "justify_content": null,
            "justify_items": null,
            "left": null,
            "margin": null,
            "max_height": null,
            "max_width": null,
            "min_height": null,
            "min_width": null,
            "object_fit": null,
            "object_position": null,
            "order": null,
            "overflow": null,
            "overflow_x": null,
            "overflow_y": null,
            "padding": null,
            "right": null,
            "top": null,
            "visibility": null,
            "width": null
          }
        },
        "a760006de54942a2bbd58aae95c54412": {
          "model_module": "@jupyter-widgets/controls",
          "model_name": "DescriptionStyleModel",
          "model_module_version": "1.5.0",
          "state": {
            "_model_module": "@jupyter-widgets/controls",
            "_model_module_version": "1.5.0",
            "_model_name": "DescriptionStyleModel",
            "_view_count": null,
            "_view_module": "@jupyter-widgets/base",
            "_view_module_version": "1.2.0",
            "_view_name": "StyleView",
            "description_width": ""
          }
        },
        "d9aff15340df4f819a1e9276c56d0a0f": {
          "model_module": "@jupyter-widgets/base",
          "model_name": "LayoutModel",
          "model_module_version": "1.2.0",
          "state": {
            "_model_module": "@jupyter-widgets/base",
            "_model_module_version": "1.2.0",
            "_model_name": "LayoutModel",
            "_view_count": null,
            "_view_module": "@jupyter-widgets/base",
            "_view_module_version": "1.2.0",
            "_view_name": "LayoutView",
            "align_content": null,
            "align_items": null,
            "align_self": null,
            "border": null,
            "bottom": null,
            "display": null,
            "flex": null,
            "flex_flow": null,
            "grid_area": null,
            "grid_auto_columns": null,
            "grid_auto_flow": null,
            "grid_auto_rows": null,
            "grid_column": null,
            "grid_gap": null,
            "grid_row": null,
            "grid_template_areas": null,
            "grid_template_columns": null,
            "grid_template_rows": null,
            "height": null,
            "justify_content": null,
            "justify_items": null,
            "left": null,
            "margin": null,
            "max_height": null,
            "max_width": null,
            "min_height": null,
            "min_width": null,
            "object_fit": null,
            "object_position": null,
            "order": null,
            "overflow": null,
            "overflow_x": null,
            "overflow_y": null,
            "padding": null,
            "right": null,
            "top": null,
            "visibility": null,
            "width": null
          }
        },
        "a1f3ef6aa91340d5b362301c9abb4fb9": {
          "model_module": "@jupyter-widgets/controls",
          "model_name": "ProgressStyleModel",
          "model_module_version": "1.5.0",
          "state": {
            "_model_module": "@jupyter-widgets/controls",
            "_model_module_version": "1.5.0",
            "_model_name": "ProgressStyleModel",
            "_view_count": null,
            "_view_module": "@jupyter-widgets/base",
            "_view_module_version": "1.2.0",
            "_view_name": "StyleView",
            "bar_color": null,
            "description_width": ""
          }
        },
        "1a24218f78894a958b41774320fcff10": {
          "model_module": "@jupyter-widgets/controls",
          "model_name": "VBoxModel",
          "model_module_version": "1.5.0",
          "state": {
            "_dom_classes": [],
            "_model_module": "@jupyter-widgets/controls",
            "_model_module_version": "1.5.0",
            "_model_name": "VBoxModel",
            "_view_count": null,
            "_view_module": "@jupyter-widgets/controls",
            "_view_module_version": "1.5.0",
            "_view_name": "VBoxView",
            "box_style": "",
            "children": [
              "IPY_MODEL_dc5e2404e5654d6f8295fc1986665c03",
              "IPY_MODEL_a6e421a79b8e48aab61f62075ccb3904"
            ],
            "layout": "IPY_MODEL_086d66e53faa441f8b48ea0829a57d03"
          }
        },
        "dc5e2404e5654d6f8295fc1986665c03": {
          "model_module": "@jupyter-widgets/controls",
          "model_name": "LabelModel",
          "model_module_version": "1.5.0",
          "state": {
            "_dom_classes": [],
            "_model_module": "@jupyter-widgets/controls",
            "_model_module_version": "1.5.0",
            "_model_name": "LabelModel",
            "_view_count": null,
            "_view_module": "@jupyter-widgets/controls",
            "_view_module_version": "1.5.0",
            "_view_name": "LabelView",
            "description": "",
            "description_tooltip": null,
            "layout": "IPY_MODEL_424e34968c03455aa18df090b500aeb3",
            "placeholder": "​",
            "style": "IPY_MODEL_f9d3c55d155349b48f4b0b519bfbf616",
            "value": "103.449 MB of 103.449 MB uploaded (0.000 MB deduped)\r"
          }
        },
        "a6e421a79b8e48aab61f62075ccb3904": {
          "model_module": "@jupyter-widgets/controls",
          "model_name": "FloatProgressModel",
          "model_module_version": "1.5.0",
          "state": {
            "_dom_classes": [],
            "_model_module": "@jupyter-widgets/controls",
            "_model_module_version": "1.5.0",
            "_model_name": "FloatProgressModel",
            "_view_count": null,
            "_view_module": "@jupyter-widgets/controls",
            "_view_module_version": "1.5.0",
            "_view_name": "ProgressView",
            "bar_style": "",
            "description": "",
            "description_tooltip": null,
            "layout": "IPY_MODEL_0e208e59d6b748fe9e4806513c3afd83",
            "max": 1,
            "min": 0,
            "orientation": "horizontal",
            "style": "IPY_MODEL_cb8433f81cb649698024cdf455ddab23",
            "value": 1
          }
        },
        "086d66e53faa441f8b48ea0829a57d03": {
          "model_module": "@jupyter-widgets/base",
          "model_name": "LayoutModel",
          "model_module_version": "1.2.0",
          "state": {
            "_model_module": "@jupyter-widgets/base",
            "_model_module_version": "1.2.0",
            "_model_name": "LayoutModel",
            "_view_count": null,
            "_view_module": "@jupyter-widgets/base",
            "_view_module_version": "1.2.0",
            "_view_name": "LayoutView",
            "align_content": null,
            "align_items": null,
            "align_self": null,
            "border": null,
            "bottom": null,
            "display": null,
            "flex": null,
            "flex_flow": null,
            "grid_area": null,
            "grid_auto_columns": null,
            "grid_auto_flow": null,
            "grid_auto_rows": null,
            "grid_column": null,
            "grid_gap": null,
            "grid_row": null,
            "grid_template_areas": null,
            "grid_template_columns": null,
            "grid_template_rows": null,
            "height": null,
            "justify_content": null,
            "justify_items": null,
            "left": null,
            "margin": null,
            "max_height": null,
            "max_width": null,
            "min_height": null,
            "min_width": null,
            "object_fit": null,
            "object_position": null,
            "order": null,
            "overflow": null,
            "overflow_x": null,
            "overflow_y": null,
            "padding": null,
            "right": null,
            "top": null,
            "visibility": null,
            "width": null
          }
        },
        "424e34968c03455aa18df090b500aeb3": {
          "model_module": "@jupyter-widgets/base",
          "model_name": "LayoutModel",
          "model_module_version": "1.2.0",
          "state": {
            "_model_module": "@jupyter-widgets/base",
            "_model_module_version": "1.2.0",
            "_model_name": "LayoutModel",
            "_view_count": null,
            "_view_module": "@jupyter-widgets/base",
            "_view_module_version": "1.2.0",
            "_view_name": "LayoutView",
            "align_content": null,
            "align_items": null,
            "align_self": null,
            "border": null,
            "bottom": null,
            "display": null,
            "flex": null,
            "flex_flow": null,
            "grid_area": null,
            "grid_auto_columns": null,
            "grid_auto_flow": null,
            "grid_auto_rows": null,
            "grid_column": null,
            "grid_gap": null,
            "grid_row": null,
            "grid_template_areas": null,
            "grid_template_columns": null,
            "grid_template_rows": null,
            "height": null,
            "justify_content": null,
            "justify_items": null,
            "left": null,
            "margin": null,
            "max_height": null,
            "max_width": null,
            "min_height": null,
            "min_width": null,
            "object_fit": null,
            "object_position": null,
            "order": null,
            "overflow": null,
            "overflow_x": null,
            "overflow_y": null,
            "padding": null,
            "right": null,
            "top": null,
            "visibility": null,
            "width": null
          }
        },
        "f9d3c55d155349b48f4b0b519bfbf616": {
          "model_module": "@jupyter-widgets/controls",
          "model_name": "DescriptionStyleModel",
          "model_module_version": "1.5.0",
          "state": {
            "_model_module": "@jupyter-widgets/controls",
            "_model_module_version": "1.5.0",
            "_model_name": "DescriptionStyleModel",
            "_view_count": null,
            "_view_module": "@jupyter-widgets/base",
            "_view_module_version": "1.2.0",
            "_view_name": "StyleView",
            "description_width": ""
          }
        },
        "0e208e59d6b748fe9e4806513c3afd83": {
          "model_module": "@jupyter-widgets/base",
          "model_name": "LayoutModel",
          "model_module_version": "1.2.0",
          "state": {
            "_model_module": "@jupyter-widgets/base",
            "_model_module_version": "1.2.0",
            "_model_name": "LayoutModel",
            "_view_count": null,
            "_view_module": "@jupyter-widgets/base",
            "_view_module_version": "1.2.0",
            "_view_name": "LayoutView",
            "align_content": null,
            "align_items": null,
            "align_self": null,
            "border": null,
            "bottom": null,
            "display": null,
            "flex": null,
            "flex_flow": null,
            "grid_area": null,
            "grid_auto_columns": null,
            "grid_auto_flow": null,
            "grid_auto_rows": null,
            "grid_column": null,
            "grid_gap": null,
            "grid_row": null,
            "grid_template_areas": null,
            "grid_template_columns": null,
            "grid_template_rows": null,
            "height": null,
            "justify_content": null,
            "justify_items": null,
            "left": null,
            "margin": null,
            "max_height": null,
            "max_width": null,
            "min_height": null,
            "min_width": null,
            "object_fit": null,
            "object_position": null,
            "order": null,
            "overflow": null,
            "overflow_x": null,
            "overflow_y": null,
            "padding": null,
            "right": null,
            "top": null,
            "visibility": null,
            "width": null
          }
        },
        "cb8433f81cb649698024cdf455ddab23": {
          "model_module": "@jupyter-widgets/controls",
          "model_name": "ProgressStyleModel",
          "model_module_version": "1.5.0",
          "state": {
            "_model_module": "@jupyter-widgets/controls",
            "_model_module_version": "1.5.0",
            "_model_name": "ProgressStyleModel",
            "_view_count": null,
            "_view_module": "@jupyter-widgets/base",
            "_view_module_version": "1.2.0",
            "_view_name": "StyleView",
            "bar_color": null,
            "description_width": ""
          }
        },
        "ad13fe2f439d42a4973347d77c48540f": {
          "model_module": "@jupyter-widgets/controls",
          "model_name": "VBoxModel",
          "model_module_version": "1.5.0",
          "state": {
            "_dom_classes": [],
            "_model_module": "@jupyter-widgets/controls",
            "_model_module_version": "1.5.0",
            "_model_name": "VBoxModel",
            "_view_count": null,
            "_view_module": "@jupyter-widgets/controls",
            "_view_module_version": "1.5.0",
            "_view_name": "VBoxView",
            "box_style": "",
            "children": [
              "IPY_MODEL_4b34f90abe0442b9b75340fc05bf46a4",
              "IPY_MODEL_a84ee15f9c3f4de6b7f3f4af40fd1987"
            ],
            "layout": "IPY_MODEL_c2191ced524544be89e41d2563873cc2"
          }
        },
        "4b34f90abe0442b9b75340fc05bf46a4": {
          "model_module": "@jupyter-widgets/controls",
          "model_name": "LabelModel",
          "model_module_version": "1.5.0",
          "state": {
            "_dom_classes": [],
            "_model_module": "@jupyter-widgets/controls",
            "_model_module_version": "1.5.0",
            "_model_name": "LabelModel",
            "_view_count": null,
            "_view_module": "@jupyter-widgets/controls",
            "_view_module_version": "1.5.0",
            "_view_name": "LabelView",
            "description": "",
            "description_tooltip": null,
            "layout": "IPY_MODEL_c22e7de387334d5ca752433ec61f68cb",
            "placeholder": "​",
            "style": "IPY_MODEL_3841c41d542344a286c8cfa3567b913f",
            "value": "0.009 MB of 0.009 MB uploaded (0.000 MB deduped)\r"
          }
        },
        "a84ee15f9c3f4de6b7f3f4af40fd1987": {
          "model_module": "@jupyter-widgets/controls",
          "model_name": "FloatProgressModel",
          "model_module_version": "1.5.0",
          "state": {
            "_dom_classes": [],
            "_model_module": "@jupyter-widgets/controls",
            "_model_module_version": "1.5.0",
            "_model_name": "FloatProgressModel",
            "_view_count": null,
            "_view_module": "@jupyter-widgets/controls",
            "_view_module_version": "1.5.0",
            "_view_name": "ProgressView",
            "bar_style": "",
            "description": "",
            "description_tooltip": null,
            "layout": "IPY_MODEL_f3eaa48cd84a49f68d881ac811f9079e",
            "max": 1,
            "min": 0,
            "orientation": "horizontal",
            "style": "IPY_MODEL_f461fed5e6ba47bf8bc844da27ff00c6",
            "value": 1
          }
        },
        "c2191ced524544be89e41d2563873cc2": {
          "model_module": "@jupyter-widgets/base",
          "model_name": "LayoutModel",
          "model_module_version": "1.2.0",
          "state": {
            "_model_module": "@jupyter-widgets/base",
            "_model_module_version": "1.2.0",
            "_model_name": "LayoutModel",
            "_view_count": null,
            "_view_module": "@jupyter-widgets/base",
            "_view_module_version": "1.2.0",
            "_view_name": "LayoutView",
            "align_content": null,
            "align_items": null,
            "align_self": null,
            "border": null,
            "bottom": null,
            "display": null,
            "flex": null,
            "flex_flow": null,
            "grid_area": null,
            "grid_auto_columns": null,
            "grid_auto_flow": null,
            "grid_auto_rows": null,
            "grid_column": null,
            "grid_gap": null,
            "grid_row": null,
            "grid_template_areas": null,
            "grid_template_columns": null,
            "grid_template_rows": null,
            "height": null,
            "justify_content": null,
            "justify_items": null,
            "left": null,
            "margin": null,
            "max_height": null,
            "max_width": null,
            "min_height": null,
            "min_width": null,
            "object_fit": null,
            "object_position": null,
            "order": null,
            "overflow": null,
            "overflow_x": null,
            "overflow_y": null,
            "padding": null,
            "right": null,
            "top": null,
            "visibility": null,
            "width": null
          }
        },
        "c22e7de387334d5ca752433ec61f68cb": {
          "model_module": "@jupyter-widgets/base",
          "model_name": "LayoutModel",
          "model_module_version": "1.2.0",
          "state": {
            "_model_module": "@jupyter-widgets/base",
            "_model_module_version": "1.2.0",
            "_model_name": "LayoutModel",
            "_view_count": null,
            "_view_module": "@jupyter-widgets/base",
            "_view_module_version": "1.2.0",
            "_view_name": "LayoutView",
            "align_content": null,
            "align_items": null,
            "align_self": null,
            "border": null,
            "bottom": null,
            "display": null,
            "flex": null,
            "flex_flow": null,
            "grid_area": null,
            "grid_auto_columns": null,
            "grid_auto_flow": null,
            "grid_auto_rows": null,
            "grid_column": null,
            "grid_gap": null,
            "grid_row": null,
            "grid_template_areas": null,
            "grid_template_columns": null,
            "grid_template_rows": null,
            "height": null,
            "justify_content": null,
            "justify_items": null,
            "left": null,
            "margin": null,
            "max_height": null,
            "max_width": null,
            "min_height": null,
            "min_width": null,
            "object_fit": null,
            "object_position": null,
            "order": null,
            "overflow": null,
            "overflow_x": null,
            "overflow_y": null,
            "padding": null,
            "right": null,
            "top": null,
            "visibility": null,
            "width": null
          }
        },
        "3841c41d542344a286c8cfa3567b913f": {
          "model_module": "@jupyter-widgets/controls",
          "model_name": "DescriptionStyleModel",
          "model_module_version": "1.5.0",
          "state": {
            "_model_module": "@jupyter-widgets/controls",
            "_model_module_version": "1.5.0",
            "_model_name": "DescriptionStyleModel",
            "_view_count": null,
            "_view_module": "@jupyter-widgets/base",
            "_view_module_version": "1.2.0",
            "_view_name": "StyleView",
            "description_width": ""
          }
        },
        "f3eaa48cd84a49f68d881ac811f9079e": {
          "model_module": "@jupyter-widgets/base",
          "model_name": "LayoutModel",
          "model_module_version": "1.2.0",
          "state": {
            "_model_module": "@jupyter-widgets/base",
            "_model_module_version": "1.2.0",
            "_model_name": "LayoutModel",
            "_view_count": null,
            "_view_module": "@jupyter-widgets/base",
            "_view_module_version": "1.2.0",
            "_view_name": "LayoutView",
            "align_content": null,
            "align_items": null,
            "align_self": null,
            "border": null,
            "bottom": null,
            "display": null,
            "flex": null,
            "flex_flow": null,
            "grid_area": null,
            "grid_auto_columns": null,
            "grid_auto_flow": null,
            "grid_auto_rows": null,
            "grid_column": null,
            "grid_gap": null,
            "grid_row": null,
            "grid_template_areas": null,
            "grid_template_columns": null,
            "grid_template_rows": null,
            "height": null,
            "justify_content": null,
            "justify_items": null,
            "left": null,
            "margin": null,
            "max_height": null,
            "max_width": null,
            "min_height": null,
            "min_width": null,
            "object_fit": null,
            "object_position": null,
            "order": null,
            "overflow": null,
            "overflow_x": null,
            "overflow_y": null,
            "padding": null,
            "right": null,
            "top": null,
            "visibility": null,
            "width": null
          }
        },
        "f461fed5e6ba47bf8bc844da27ff00c6": {
          "model_module": "@jupyter-widgets/controls",
          "model_name": "ProgressStyleModel",
          "model_module_version": "1.5.0",
          "state": {
            "_model_module": "@jupyter-widgets/controls",
            "_model_module_version": "1.5.0",
            "_model_name": "ProgressStyleModel",
            "_view_count": null,
            "_view_module": "@jupyter-widgets/base",
            "_view_module_version": "1.2.0",
            "_view_name": "StyleView",
            "bar_color": null,
            "description_width": ""
          }
        },
        "fd78f77729f3464c9acd6e54fdd7ed11": {
          "model_module": "@jupyter-widgets/controls",
          "model_name": "VBoxModel",
          "model_module_version": "1.5.0",
          "state": {
            "_dom_classes": [],
            "_model_module": "@jupyter-widgets/controls",
            "_model_module_version": "1.5.0",
            "_model_name": "VBoxModel",
            "_view_count": null,
            "_view_module": "@jupyter-widgets/controls",
            "_view_module_version": "1.5.0",
            "_view_name": "VBoxView",
            "box_style": "",
            "children": [
              "IPY_MODEL_5224a34fa0eb4c9ebe0b3567a6e98435",
              "IPY_MODEL_a65099dbb7d64d67b91dc38d4dde06e5"
            ],
            "layout": "IPY_MODEL_1af339805dad4da3b4cc0e78ba3d49bc"
          }
        },
        "5224a34fa0eb4c9ebe0b3567a6e98435": {
          "model_module": "@jupyter-widgets/controls",
          "model_name": "LabelModel",
          "model_module_version": "1.5.0",
          "state": {
            "_dom_classes": [],
            "_model_module": "@jupyter-widgets/controls",
            "_model_module_version": "1.5.0",
            "_model_name": "LabelModel",
            "_view_count": null,
            "_view_module": "@jupyter-widgets/controls",
            "_view_module_version": "1.5.0",
            "_view_name": "LabelView",
            "description": "",
            "description_tooltip": null,
            "layout": "IPY_MODEL_04ac0d131a0d42a190da5a378058f458",
            "placeholder": "​",
            "style": "IPY_MODEL_3b6018a69d174abd94e0af123dd68056",
            "value": "32.155 MB of 32.155 MB uploaded (0.000 MB deduped)\r"
          }
        },
        "a65099dbb7d64d67b91dc38d4dde06e5": {
          "model_module": "@jupyter-widgets/controls",
          "model_name": "FloatProgressModel",
          "model_module_version": "1.5.0",
          "state": {
            "_dom_classes": [],
            "_model_module": "@jupyter-widgets/controls",
            "_model_module_version": "1.5.0",
            "_model_name": "FloatProgressModel",
            "_view_count": null,
            "_view_module": "@jupyter-widgets/controls",
            "_view_module_version": "1.5.0",
            "_view_name": "ProgressView",
            "bar_style": "",
            "description": "",
            "description_tooltip": null,
            "layout": "IPY_MODEL_6d759cebf3c6428a842b223cd2bd197d",
            "max": 1,
            "min": 0,
            "orientation": "horizontal",
            "style": "IPY_MODEL_68a437bdda01466e9f6f8459a3ba6623",
            "value": 1
          }
        },
        "1af339805dad4da3b4cc0e78ba3d49bc": {
          "model_module": "@jupyter-widgets/base",
          "model_name": "LayoutModel",
          "model_module_version": "1.2.0",
          "state": {
            "_model_module": "@jupyter-widgets/base",
            "_model_module_version": "1.2.0",
            "_model_name": "LayoutModel",
            "_view_count": null,
            "_view_module": "@jupyter-widgets/base",
            "_view_module_version": "1.2.0",
            "_view_name": "LayoutView",
            "align_content": null,
            "align_items": null,
            "align_self": null,
            "border": null,
            "bottom": null,
            "display": null,
            "flex": null,
            "flex_flow": null,
            "grid_area": null,
            "grid_auto_columns": null,
            "grid_auto_flow": null,
            "grid_auto_rows": null,
            "grid_column": null,
            "grid_gap": null,
            "grid_row": null,
            "grid_template_areas": null,
            "grid_template_columns": null,
            "grid_template_rows": null,
            "height": null,
            "justify_content": null,
            "justify_items": null,
            "left": null,
            "margin": null,
            "max_height": null,
            "max_width": null,
            "min_height": null,
            "min_width": null,
            "object_fit": null,
            "object_position": null,
            "order": null,
            "overflow": null,
            "overflow_x": null,
            "overflow_y": null,
            "padding": null,
            "right": null,
            "top": null,
            "visibility": null,
            "width": null
          }
        },
        "04ac0d131a0d42a190da5a378058f458": {
          "model_module": "@jupyter-widgets/base",
          "model_name": "LayoutModel",
          "model_module_version": "1.2.0",
          "state": {
            "_model_module": "@jupyter-widgets/base",
            "_model_module_version": "1.2.0",
            "_model_name": "LayoutModel",
            "_view_count": null,
            "_view_module": "@jupyter-widgets/base",
            "_view_module_version": "1.2.0",
            "_view_name": "LayoutView",
            "align_content": null,
            "align_items": null,
            "align_self": null,
            "border": null,
            "bottom": null,
            "display": null,
            "flex": null,
            "flex_flow": null,
            "grid_area": null,
            "grid_auto_columns": null,
            "grid_auto_flow": null,
            "grid_auto_rows": null,
            "grid_column": null,
            "grid_gap": null,
            "grid_row": null,
            "grid_template_areas": null,
            "grid_template_columns": null,
            "grid_template_rows": null,
            "height": null,
            "justify_content": null,
            "justify_items": null,
            "left": null,
            "margin": null,
            "max_height": null,
            "max_width": null,
            "min_height": null,
            "min_width": null,
            "object_fit": null,
            "object_position": null,
            "order": null,
            "overflow": null,
            "overflow_x": null,
            "overflow_y": null,
            "padding": null,
            "right": null,
            "top": null,
            "visibility": null,
            "width": null
          }
        },
        "3b6018a69d174abd94e0af123dd68056": {
          "model_module": "@jupyter-widgets/controls",
          "model_name": "DescriptionStyleModel",
          "model_module_version": "1.5.0",
          "state": {
            "_model_module": "@jupyter-widgets/controls",
            "_model_module_version": "1.5.0",
            "_model_name": "DescriptionStyleModel",
            "_view_count": null,
            "_view_module": "@jupyter-widgets/base",
            "_view_module_version": "1.2.0",
            "_view_name": "StyleView",
            "description_width": ""
          }
        },
        "6d759cebf3c6428a842b223cd2bd197d": {
          "model_module": "@jupyter-widgets/base",
          "model_name": "LayoutModel",
          "model_module_version": "1.2.0",
          "state": {
            "_model_module": "@jupyter-widgets/base",
            "_model_module_version": "1.2.0",
            "_model_name": "LayoutModel",
            "_view_count": null,
            "_view_module": "@jupyter-widgets/base",
            "_view_module_version": "1.2.0",
            "_view_name": "LayoutView",
            "align_content": null,
            "align_items": null,
            "align_self": null,
            "border": null,
            "bottom": null,
            "display": null,
            "flex": null,
            "flex_flow": null,
            "grid_area": null,
            "grid_auto_columns": null,
            "grid_auto_flow": null,
            "grid_auto_rows": null,
            "grid_column": null,
            "grid_gap": null,
            "grid_row": null,
            "grid_template_areas": null,
            "grid_template_columns": null,
            "grid_template_rows": null,
            "height": null,
            "justify_content": null,
            "justify_items": null,
            "left": null,
            "margin": null,
            "max_height": null,
            "max_width": null,
            "min_height": null,
            "min_width": null,
            "object_fit": null,
            "object_position": null,
            "order": null,
            "overflow": null,
            "overflow_x": null,
            "overflow_y": null,
            "padding": null,
            "right": null,
            "top": null,
            "visibility": null,
            "width": null
          }
        },
        "68a437bdda01466e9f6f8459a3ba6623": {
          "model_module": "@jupyter-widgets/controls",
          "model_name": "ProgressStyleModel",
          "model_module_version": "1.5.0",
          "state": {
            "_model_module": "@jupyter-widgets/controls",
            "_model_module_version": "1.5.0",
            "_model_name": "ProgressStyleModel",
            "_view_count": null,
            "_view_module": "@jupyter-widgets/base",
            "_view_module_version": "1.2.0",
            "_view_name": "StyleView",
            "bar_color": null,
            "description_width": ""
          }
        },
        "7edd05edeac3437ca026ef5bbe58b878": {
          "model_module": "@jupyter-widgets/controls",
          "model_name": "VBoxModel",
          "model_module_version": "1.5.0",
          "state": {
            "_dom_classes": [],
            "_model_module": "@jupyter-widgets/controls",
            "_model_module_version": "1.5.0",
            "_model_name": "VBoxModel",
            "_view_count": null,
            "_view_module": "@jupyter-widgets/controls",
            "_view_module_version": "1.5.0",
            "_view_name": "VBoxView",
            "box_style": "",
            "children": [
              "IPY_MODEL_b70801fe6e844682b75f00b330b17ff1",
              "IPY_MODEL_528cd973c74945ada3c7e8ff1d1004dd"
            ],
            "layout": "IPY_MODEL_7fca23eb2bd04a69a501bf1dde7c3e45"
          }
        },
        "b70801fe6e844682b75f00b330b17ff1": {
          "model_module": "@jupyter-widgets/controls",
          "model_name": "LabelModel",
          "model_module_version": "1.5.0",
          "state": {
            "_dom_classes": [],
            "_model_module": "@jupyter-widgets/controls",
            "_model_module_version": "1.5.0",
            "_model_name": "LabelModel",
            "_view_count": null,
            "_view_module": "@jupyter-widgets/controls",
            "_view_module_version": "1.5.0",
            "_view_name": "LabelView",
            "description": "",
            "description_tooltip": null,
            "layout": "IPY_MODEL_e61ee233a26340f59a48a06c54699d01",
            "placeholder": "​",
            "style": "IPY_MODEL_5537ca20ab7a4d11a808de847fdaba49",
            "value": "0.009 MB of 0.009 MB uploaded (0.000 MB deduped)\r"
          }
        },
        "528cd973c74945ada3c7e8ff1d1004dd": {
          "model_module": "@jupyter-widgets/controls",
          "model_name": "FloatProgressModel",
          "model_module_version": "1.5.0",
          "state": {
            "_dom_classes": [],
            "_model_module": "@jupyter-widgets/controls",
            "_model_module_version": "1.5.0",
            "_model_name": "FloatProgressModel",
            "_view_count": null,
            "_view_module": "@jupyter-widgets/controls",
            "_view_module_version": "1.5.0",
            "_view_name": "ProgressView",
            "bar_style": "",
            "description": "",
            "description_tooltip": null,
            "layout": "IPY_MODEL_eb4841dea9ed4a24bd3e674f32024ba7",
            "max": 1,
            "min": 0,
            "orientation": "horizontal",
            "style": "IPY_MODEL_995194a0aaed41038d469a7a1b2a95bc",
            "value": 1
          }
        },
        "7fca23eb2bd04a69a501bf1dde7c3e45": {
          "model_module": "@jupyter-widgets/base",
          "model_name": "LayoutModel",
          "model_module_version": "1.2.0",
          "state": {
            "_model_module": "@jupyter-widgets/base",
            "_model_module_version": "1.2.0",
            "_model_name": "LayoutModel",
            "_view_count": null,
            "_view_module": "@jupyter-widgets/base",
            "_view_module_version": "1.2.0",
            "_view_name": "LayoutView",
            "align_content": null,
            "align_items": null,
            "align_self": null,
            "border": null,
            "bottom": null,
            "display": null,
            "flex": null,
            "flex_flow": null,
            "grid_area": null,
            "grid_auto_columns": null,
            "grid_auto_flow": null,
            "grid_auto_rows": null,
            "grid_column": null,
            "grid_gap": null,
            "grid_row": null,
            "grid_template_areas": null,
            "grid_template_columns": null,
            "grid_template_rows": null,
            "height": null,
            "justify_content": null,
            "justify_items": null,
            "left": null,
            "margin": null,
            "max_height": null,
            "max_width": null,
            "min_height": null,
            "min_width": null,
            "object_fit": null,
            "object_position": null,
            "order": null,
            "overflow": null,
            "overflow_x": null,
            "overflow_y": null,
            "padding": null,
            "right": null,
            "top": null,
            "visibility": null,
            "width": null
          }
        },
        "e61ee233a26340f59a48a06c54699d01": {
          "model_module": "@jupyter-widgets/base",
          "model_name": "LayoutModel",
          "model_module_version": "1.2.0",
          "state": {
            "_model_module": "@jupyter-widgets/base",
            "_model_module_version": "1.2.0",
            "_model_name": "LayoutModel",
            "_view_count": null,
            "_view_module": "@jupyter-widgets/base",
            "_view_module_version": "1.2.0",
            "_view_name": "LayoutView",
            "align_content": null,
            "align_items": null,
            "align_self": null,
            "border": null,
            "bottom": null,
            "display": null,
            "flex": null,
            "flex_flow": null,
            "grid_area": null,
            "grid_auto_columns": null,
            "grid_auto_flow": null,
            "grid_auto_rows": null,
            "grid_column": null,
            "grid_gap": null,
            "grid_row": null,
            "grid_template_areas": null,
            "grid_template_columns": null,
            "grid_template_rows": null,
            "height": null,
            "justify_content": null,
            "justify_items": null,
            "left": null,
            "margin": null,
            "max_height": null,
            "max_width": null,
            "min_height": null,
            "min_width": null,
            "object_fit": null,
            "object_position": null,
            "order": null,
            "overflow": null,
            "overflow_x": null,
            "overflow_y": null,
            "padding": null,
            "right": null,
            "top": null,
            "visibility": null,
            "width": null
          }
        },
        "5537ca20ab7a4d11a808de847fdaba49": {
          "model_module": "@jupyter-widgets/controls",
          "model_name": "DescriptionStyleModel",
          "model_module_version": "1.5.0",
          "state": {
            "_model_module": "@jupyter-widgets/controls",
            "_model_module_version": "1.5.0",
            "_model_name": "DescriptionStyleModel",
            "_view_count": null,
            "_view_module": "@jupyter-widgets/base",
            "_view_module_version": "1.2.0",
            "_view_name": "StyleView",
            "description_width": ""
          }
        },
        "eb4841dea9ed4a24bd3e674f32024ba7": {
          "model_module": "@jupyter-widgets/base",
          "model_name": "LayoutModel",
          "model_module_version": "1.2.0",
          "state": {
            "_model_module": "@jupyter-widgets/base",
            "_model_module_version": "1.2.0",
            "_model_name": "LayoutModel",
            "_view_count": null,
            "_view_module": "@jupyter-widgets/base",
            "_view_module_version": "1.2.0",
            "_view_name": "LayoutView",
            "align_content": null,
            "align_items": null,
            "align_self": null,
            "border": null,
            "bottom": null,
            "display": null,
            "flex": null,
            "flex_flow": null,
            "grid_area": null,
            "grid_auto_columns": null,
            "grid_auto_flow": null,
            "grid_auto_rows": null,
            "grid_column": null,
            "grid_gap": null,
            "grid_row": null,
            "grid_template_areas": null,
            "grid_template_columns": null,
            "grid_template_rows": null,
            "height": null,
            "justify_content": null,
            "justify_items": null,
            "left": null,
            "margin": null,
            "max_height": null,
            "max_width": null,
            "min_height": null,
            "min_width": null,
            "object_fit": null,
            "object_position": null,
            "order": null,
            "overflow": null,
            "overflow_x": null,
            "overflow_y": null,
            "padding": null,
            "right": null,
            "top": null,
            "visibility": null,
            "width": null
          }
        },
        "995194a0aaed41038d469a7a1b2a95bc": {
          "model_module": "@jupyter-widgets/controls",
          "model_name": "ProgressStyleModel",
          "model_module_version": "1.5.0",
          "state": {
            "_model_module": "@jupyter-widgets/controls",
            "_model_module_version": "1.5.0",
            "_model_name": "ProgressStyleModel",
            "_view_count": null,
            "_view_module": "@jupyter-widgets/base",
            "_view_module_version": "1.2.0",
            "_view_name": "StyleView",
            "bar_color": null,
            "description_width": ""
          }
        },
        "61c413e40faa4e10ade04bb9f5d4d521": {
          "model_module": "@jupyter-widgets/controls",
          "model_name": "VBoxModel",
          "model_module_version": "1.5.0",
          "state": {
            "_dom_classes": [],
            "_model_module": "@jupyter-widgets/controls",
            "_model_module_version": "1.5.0",
            "_model_name": "VBoxModel",
            "_view_count": null,
            "_view_module": "@jupyter-widgets/controls",
            "_view_module_version": "1.5.0",
            "_view_name": "VBoxView",
            "box_style": "",
            "children": [
              "IPY_MODEL_e7d3759e6b834bdcbef5704bb63029a6",
              "IPY_MODEL_c8a902ec63ba4b82a572534fcda512f4"
            ],
            "layout": "IPY_MODEL_75157e52b6314fd49e8c78e4aab8e1e6"
          }
        },
        "e7d3759e6b834bdcbef5704bb63029a6": {
          "model_module": "@jupyter-widgets/controls",
          "model_name": "LabelModel",
          "model_module_version": "1.5.0",
          "state": {
            "_dom_classes": [],
            "_model_module": "@jupyter-widgets/controls",
            "_model_module_version": "1.5.0",
            "_model_name": "LabelModel",
            "_view_count": null,
            "_view_module": "@jupyter-widgets/controls",
            "_view_module_version": "1.5.0",
            "_view_name": "LabelView",
            "description": "",
            "description_tooltip": null,
            "layout": "IPY_MODEL_2b6edaa5352846cba74dfdf4c5130bb7",
            "placeholder": "​",
            "style": "IPY_MODEL_0c74c08eb40a4ae1be56b7cf0de3be1f",
            "value": "20.891 MB of 20.891 MB uploaded (0.000 MB deduped)\r"
          }
        },
        "c8a902ec63ba4b82a572534fcda512f4": {
          "model_module": "@jupyter-widgets/controls",
          "model_name": "FloatProgressModel",
          "model_module_version": "1.5.0",
          "state": {
            "_dom_classes": [],
            "_model_module": "@jupyter-widgets/controls",
            "_model_module_version": "1.5.0",
            "_model_name": "FloatProgressModel",
            "_view_count": null,
            "_view_module": "@jupyter-widgets/controls",
            "_view_module_version": "1.5.0",
            "_view_name": "ProgressView",
            "bar_style": "",
            "description": "",
            "description_tooltip": null,
            "layout": "IPY_MODEL_985434043bb440f794de158f0255284d",
            "max": 1,
            "min": 0,
            "orientation": "horizontal",
            "style": "IPY_MODEL_324eaba4d6b448aeb30f23daf13b8623",
            "value": 1
          }
        },
        "75157e52b6314fd49e8c78e4aab8e1e6": {
          "model_module": "@jupyter-widgets/base",
          "model_name": "LayoutModel",
          "model_module_version": "1.2.0",
          "state": {
            "_model_module": "@jupyter-widgets/base",
            "_model_module_version": "1.2.0",
            "_model_name": "LayoutModel",
            "_view_count": null,
            "_view_module": "@jupyter-widgets/base",
            "_view_module_version": "1.2.0",
            "_view_name": "LayoutView",
            "align_content": null,
            "align_items": null,
            "align_self": null,
            "border": null,
            "bottom": null,
            "display": null,
            "flex": null,
            "flex_flow": null,
            "grid_area": null,
            "grid_auto_columns": null,
            "grid_auto_flow": null,
            "grid_auto_rows": null,
            "grid_column": null,
            "grid_gap": null,
            "grid_row": null,
            "grid_template_areas": null,
            "grid_template_columns": null,
            "grid_template_rows": null,
            "height": null,
            "justify_content": null,
            "justify_items": null,
            "left": null,
            "margin": null,
            "max_height": null,
            "max_width": null,
            "min_height": null,
            "min_width": null,
            "object_fit": null,
            "object_position": null,
            "order": null,
            "overflow": null,
            "overflow_x": null,
            "overflow_y": null,
            "padding": null,
            "right": null,
            "top": null,
            "visibility": null,
            "width": null
          }
        },
        "2b6edaa5352846cba74dfdf4c5130bb7": {
          "model_module": "@jupyter-widgets/base",
          "model_name": "LayoutModel",
          "model_module_version": "1.2.0",
          "state": {
            "_model_module": "@jupyter-widgets/base",
            "_model_module_version": "1.2.0",
            "_model_name": "LayoutModel",
            "_view_count": null,
            "_view_module": "@jupyter-widgets/base",
            "_view_module_version": "1.2.0",
            "_view_name": "LayoutView",
            "align_content": null,
            "align_items": null,
            "align_self": null,
            "border": null,
            "bottom": null,
            "display": null,
            "flex": null,
            "flex_flow": null,
            "grid_area": null,
            "grid_auto_columns": null,
            "grid_auto_flow": null,
            "grid_auto_rows": null,
            "grid_column": null,
            "grid_gap": null,
            "grid_row": null,
            "grid_template_areas": null,
            "grid_template_columns": null,
            "grid_template_rows": null,
            "height": null,
            "justify_content": null,
            "justify_items": null,
            "left": null,
            "margin": null,
            "max_height": null,
            "max_width": null,
            "min_height": null,
            "min_width": null,
            "object_fit": null,
            "object_position": null,
            "order": null,
            "overflow": null,
            "overflow_x": null,
            "overflow_y": null,
            "padding": null,
            "right": null,
            "top": null,
            "visibility": null,
            "width": null
          }
        },
        "0c74c08eb40a4ae1be56b7cf0de3be1f": {
          "model_module": "@jupyter-widgets/controls",
          "model_name": "DescriptionStyleModel",
          "model_module_version": "1.5.0",
          "state": {
            "_model_module": "@jupyter-widgets/controls",
            "_model_module_version": "1.5.0",
            "_model_name": "DescriptionStyleModel",
            "_view_count": null,
            "_view_module": "@jupyter-widgets/base",
            "_view_module_version": "1.2.0",
            "_view_name": "StyleView",
            "description_width": ""
          }
        },
        "985434043bb440f794de158f0255284d": {
          "model_module": "@jupyter-widgets/base",
          "model_name": "LayoutModel",
          "model_module_version": "1.2.0",
          "state": {
            "_model_module": "@jupyter-widgets/base",
            "_model_module_version": "1.2.0",
            "_model_name": "LayoutModel",
            "_view_count": null,
            "_view_module": "@jupyter-widgets/base",
            "_view_module_version": "1.2.0",
            "_view_name": "LayoutView",
            "align_content": null,
            "align_items": null,
            "align_self": null,
            "border": null,
            "bottom": null,
            "display": null,
            "flex": null,
            "flex_flow": null,
            "grid_area": null,
            "grid_auto_columns": null,
            "grid_auto_flow": null,
            "grid_auto_rows": null,
            "grid_column": null,
            "grid_gap": null,
            "grid_row": null,
            "grid_template_areas": null,
            "grid_template_columns": null,
            "grid_template_rows": null,
            "height": null,
            "justify_content": null,
            "justify_items": null,
            "left": null,
            "margin": null,
            "max_height": null,
            "max_width": null,
            "min_height": null,
            "min_width": null,
            "object_fit": null,
            "object_position": null,
            "order": null,
            "overflow": null,
            "overflow_x": null,
            "overflow_y": null,
            "padding": null,
            "right": null,
            "top": null,
            "visibility": null,
            "width": null
          }
        },
        "324eaba4d6b448aeb30f23daf13b8623": {
          "model_module": "@jupyter-widgets/controls",
          "model_name": "ProgressStyleModel",
          "model_module_version": "1.5.0",
          "state": {
            "_model_module": "@jupyter-widgets/controls",
            "_model_module_version": "1.5.0",
            "_model_name": "ProgressStyleModel",
            "_view_count": null,
            "_view_module": "@jupyter-widgets/base",
            "_view_module_version": "1.2.0",
            "_view_name": "StyleView",
            "bar_color": null,
            "description_width": ""
          }
        },
        "0b05961dd64f4b498197d8f7eb8f379e": {
          "model_module": "@jupyter-widgets/controls",
          "model_name": "VBoxModel",
          "model_module_version": "1.5.0",
          "state": {
            "_dom_classes": [],
            "_model_module": "@jupyter-widgets/controls",
            "_model_module_version": "1.5.0",
            "_model_name": "VBoxModel",
            "_view_count": null,
            "_view_module": "@jupyter-widgets/controls",
            "_view_module_version": "1.5.0",
            "_view_name": "VBoxView",
            "box_style": "",
            "children": [
              "IPY_MODEL_4c2a28a6663d41a49c25f021336dc79c",
              "IPY_MODEL_1457e5f8a6944e00bb7bce883916a9b6"
            ],
            "layout": "IPY_MODEL_a9ee83e7d496495da74ac4c144f9e383"
          }
        },
        "4c2a28a6663d41a49c25f021336dc79c": {
          "model_module": "@jupyter-widgets/controls",
          "model_name": "LabelModel",
          "model_module_version": "1.5.0",
          "state": {
            "_dom_classes": [],
            "_model_module": "@jupyter-widgets/controls",
            "_model_module_version": "1.5.0",
            "_model_name": "LabelModel",
            "_view_count": null,
            "_view_module": "@jupyter-widgets/controls",
            "_view_module_version": "1.5.0",
            "_view_name": "LabelView",
            "description": "",
            "description_tooltip": null,
            "layout": "IPY_MODEL_f4e080a6b78b4595b8dc23e15c12bdab",
            "placeholder": "​",
            "style": "IPY_MODEL_4e9862ca7d324bc4aeef4f22b57a0ac8",
            "value": "0.009 MB of 0.009 MB uploaded (0.000 MB deduped)\r"
          }
        },
        "1457e5f8a6944e00bb7bce883916a9b6": {
          "model_module": "@jupyter-widgets/controls",
          "model_name": "FloatProgressModel",
          "model_module_version": "1.5.0",
          "state": {
            "_dom_classes": [],
            "_model_module": "@jupyter-widgets/controls",
            "_model_module_version": "1.5.0",
            "_model_name": "FloatProgressModel",
            "_view_count": null,
            "_view_module": "@jupyter-widgets/controls",
            "_view_module_version": "1.5.0",
            "_view_name": "ProgressView",
            "bar_style": "",
            "description": "",
            "description_tooltip": null,
            "layout": "IPY_MODEL_1b4b67d808cd4e9bace4ee6d00ce3be7",
            "max": 1,
            "min": 0,
            "orientation": "horizontal",
            "style": "IPY_MODEL_6e3f05f8e9e9477eb3bdfd2e9116d524",
            "value": 1
          }
        },
        "a9ee83e7d496495da74ac4c144f9e383": {
          "model_module": "@jupyter-widgets/base",
          "model_name": "LayoutModel",
          "model_module_version": "1.2.0",
          "state": {
            "_model_module": "@jupyter-widgets/base",
            "_model_module_version": "1.2.0",
            "_model_name": "LayoutModel",
            "_view_count": null,
            "_view_module": "@jupyter-widgets/base",
            "_view_module_version": "1.2.0",
            "_view_name": "LayoutView",
            "align_content": null,
            "align_items": null,
            "align_self": null,
            "border": null,
            "bottom": null,
            "display": null,
            "flex": null,
            "flex_flow": null,
            "grid_area": null,
            "grid_auto_columns": null,
            "grid_auto_flow": null,
            "grid_auto_rows": null,
            "grid_column": null,
            "grid_gap": null,
            "grid_row": null,
            "grid_template_areas": null,
            "grid_template_columns": null,
            "grid_template_rows": null,
            "height": null,
            "justify_content": null,
            "justify_items": null,
            "left": null,
            "margin": null,
            "max_height": null,
            "max_width": null,
            "min_height": null,
            "min_width": null,
            "object_fit": null,
            "object_position": null,
            "order": null,
            "overflow": null,
            "overflow_x": null,
            "overflow_y": null,
            "padding": null,
            "right": null,
            "top": null,
            "visibility": null,
            "width": null
          }
        },
        "f4e080a6b78b4595b8dc23e15c12bdab": {
          "model_module": "@jupyter-widgets/base",
          "model_name": "LayoutModel",
          "model_module_version": "1.2.0",
          "state": {
            "_model_module": "@jupyter-widgets/base",
            "_model_module_version": "1.2.0",
            "_model_name": "LayoutModel",
            "_view_count": null,
            "_view_module": "@jupyter-widgets/base",
            "_view_module_version": "1.2.0",
            "_view_name": "LayoutView",
            "align_content": null,
            "align_items": null,
            "align_self": null,
            "border": null,
            "bottom": null,
            "display": null,
            "flex": null,
            "flex_flow": null,
            "grid_area": null,
            "grid_auto_columns": null,
            "grid_auto_flow": null,
            "grid_auto_rows": null,
            "grid_column": null,
            "grid_gap": null,
            "grid_row": null,
            "grid_template_areas": null,
            "grid_template_columns": null,
            "grid_template_rows": null,
            "height": null,
            "justify_content": null,
            "justify_items": null,
            "left": null,
            "margin": null,
            "max_height": null,
            "max_width": null,
            "min_height": null,
            "min_width": null,
            "object_fit": null,
            "object_position": null,
            "order": null,
            "overflow": null,
            "overflow_x": null,
            "overflow_y": null,
            "padding": null,
            "right": null,
            "top": null,
            "visibility": null,
            "width": null
          }
        },
        "4e9862ca7d324bc4aeef4f22b57a0ac8": {
          "model_module": "@jupyter-widgets/controls",
          "model_name": "DescriptionStyleModel",
          "model_module_version": "1.5.0",
          "state": {
            "_model_module": "@jupyter-widgets/controls",
            "_model_module_version": "1.5.0",
            "_model_name": "DescriptionStyleModel",
            "_view_count": null,
            "_view_module": "@jupyter-widgets/base",
            "_view_module_version": "1.2.0",
            "_view_name": "StyleView",
            "description_width": ""
          }
        },
        "1b4b67d808cd4e9bace4ee6d00ce3be7": {
          "model_module": "@jupyter-widgets/base",
          "model_name": "LayoutModel",
          "model_module_version": "1.2.0",
          "state": {
            "_model_module": "@jupyter-widgets/base",
            "_model_module_version": "1.2.0",
            "_model_name": "LayoutModel",
            "_view_count": null,
            "_view_module": "@jupyter-widgets/base",
            "_view_module_version": "1.2.0",
            "_view_name": "LayoutView",
            "align_content": null,
            "align_items": null,
            "align_self": null,
            "border": null,
            "bottom": null,
            "display": null,
            "flex": null,
            "flex_flow": null,
            "grid_area": null,
            "grid_auto_columns": null,
            "grid_auto_flow": null,
            "grid_auto_rows": null,
            "grid_column": null,
            "grid_gap": null,
            "grid_row": null,
            "grid_template_areas": null,
            "grid_template_columns": null,
            "grid_template_rows": null,
            "height": null,
            "justify_content": null,
            "justify_items": null,
            "left": null,
            "margin": null,
            "max_height": null,
            "max_width": null,
            "min_height": null,
            "min_width": null,
            "object_fit": null,
            "object_position": null,
            "order": null,
            "overflow": null,
            "overflow_x": null,
            "overflow_y": null,
            "padding": null,
            "right": null,
            "top": null,
            "visibility": null,
            "width": null
          }
        },
        "6e3f05f8e9e9477eb3bdfd2e9116d524": {
          "model_module": "@jupyter-widgets/controls",
          "model_name": "ProgressStyleModel",
          "model_module_version": "1.5.0",
          "state": {
            "_model_module": "@jupyter-widgets/controls",
            "_model_module_version": "1.5.0",
            "_model_name": "ProgressStyleModel",
            "_view_count": null,
            "_view_module": "@jupyter-widgets/base",
            "_view_module_version": "1.2.0",
            "_view_name": "StyleView",
            "bar_color": null,
            "description_width": ""
          }
        },
        "a2afdc33c2f04a70b5d5abdb6a1d9785": {
          "model_module": "@jupyter-widgets/controls",
          "model_name": "VBoxModel",
          "model_module_version": "1.5.0",
          "state": {
            "_dom_classes": [],
            "_model_module": "@jupyter-widgets/controls",
            "_model_module_version": "1.5.0",
            "_model_name": "VBoxModel",
            "_view_count": null,
            "_view_module": "@jupyter-widgets/controls",
            "_view_module_version": "1.5.0",
            "_view_name": "VBoxView",
            "box_style": "",
            "children": [
              "IPY_MODEL_4071357441504fe996e757697cab0c1d",
              "IPY_MODEL_7a7682c5986a47898b75ca223ed6656e"
            ],
            "layout": "IPY_MODEL_8c2350aa53b9426f83817137c3af9f5b"
          }
        },
        "4071357441504fe996e757697cab0c1d": {
          "model_module": "@jupyter-widgets/controls",
          "model_name": "LabelModel",
          "model_module_version": "1.5.0",
          "state": {
            "_dom_classes": [],
            "_model_module": "@jupyter-widgets/controls",
            "_model_module_version": "1.5.0",
            "_model_name": "LabelModel",
            "_view_count": null,
            "_view_module": "@jupyter-widgets/controls",
            "_view_module_version": "1.5.0",
            "_view_name": "LabelView",
            "description": "",
            "description_tooltip": null,
            "layout": "IPY_MODEL_4cda36823b514991bba4f30e40c8a359",
            "placeholder": "​",
            "style": "IPY_MODEL_40ec728b82a3479e9454b1c388fd351b",
            "value": "113.226 MB of 113.226 MB uploaded (0.000 MB deduped)\r"
          }
        },
        "7a7682c5986a47898b75ca223ed6656e": {
          "model_module": "@jupyter-widgets/controls",
          "model_name": "FloatProgressModel",
          "model_module_version": "1.5.0",
          "state": {
            "_dom_classes": [],
            "_model_module": "@jupyter-widgets/controls",
            "_model_module_version": "1.5.0",
            "_model_name": "FloatProgressModel",
            "_view_count": null,
            "_view_module": "@jupyter-widgets/controls",
            "_view_module_version": "1.5.0",
            "_view_name": "ProgressView",
            "bar_style": "",
            "description": "",
            "description_tooltip": null,
            "layout": "IPY_MODEL_8dbb2a2cbb4849ff9a1d197ca49785c6",
            "max": 1,
            "min": 0,
            "orientation": "horizontal",
            "style": "IPY_MODEL_bea71babfb24407db7633aa2c109bc4c",
            "value": 1
          }
        },
        "8c2350aa53b9426f83817137c3af9f5b": {
          "model_module": "@jupyter-widgets/base",
          "model_name": "LayoutModel",
          "model_module_version": "1.2.0",
          "state": {
            "_model_module": "@jupyter-widgets/base",
            "_model_module_version": "1.2.0",
            "_model_name": "LayoutModel",
            "_view_count": null,
            "_view_module": "@jupyter-widgets/base",
            "_view_module_version": "1.2.0",
            "_view_name": "LayoutView",
            "align_content": null,
            "align_items": null,
            "align_self": null,
            "border": null,
            "bottom": null,
            "display": null,
            "flex": null,
            "flex_flow": null,
            "grid_area": null,
            "grid_auto_columns": null,
            "grid_auto_flow": null,
            "grid_auto_rows": null,
            "grid_column": null,
            "grid_gap": null,
            "grid_row": null,
            "grid_template_areas": null,
            "grid_template_columns": null,
            "grid_template_rows": null,
            "height": null,
            "justify_content": null,
            "justify_items": null,
            "left": null,
            "margin": null,
            "max_height": null,
            "max_width": null,
            "min_height": null,
            "min_width": null,
            "object_fit": null,
            "object_position": null,
            "order": null,
            "overflow": null,
            "overflow_x": null,
            "overflow_y": null,
            "padding": null,
            "right": null,
            "top": null,
            "visibility": null,
            "width": null
          }
        },
        "4cda36823b514991bba4f30e40c8a359": {
          "model_module": "@jupyter-widgets/base",
          "model_name": "LayoutModel",
          "model_module_version": "1.2.0",
          "state": {
            "_model_module": "@jupyter-widgets/base",
            "_model_module_version": "1.2.0",
            "_model_name": "LayoutModel",
            "_view_count": null,
            "_view_module": "@jupyter-widgets/base",
            "_view_module_version": "1.2.0",
            "_view_name": "LayoutView",
            "align_content": null,
            "align_items": null,
            "align_self": null,
            "border": null,
            "bottom": null,
            "display": null,
            "flex": null,
            "flex_flow": null,
            "grid_area": null,
            "grid_auto_columns": null,
            "grid_auto_flow": null,
            "grid_auto_rows": null,
            "grid_column": null,
            "grid_gap": null,
            "grid_row": null,
            "grid_template_areas": null,
            "grid_template_columns": null,
            "grid_template_rows": null,
            "height": null,
            "justify_content": null,
            "justify_items": null,
            "left": null,
            "margin": null,
            "max_height": null,
            "max_width": null,
            "min_height": null,
            "min_width": null,
            "object_fit": null,
            "object_position": null,
            "order": null,
            "overflow": null,
            "overflow_x": null,
            "overflow_y": null,
            "padding": null,
            "right": null,
            "top": null,
            "visibility": null,
            "width": null
          }
        },
        "40ec728b82a3479e9454b1c388fd351b": {
          "model_module": "@jupyter-widgets/controls",
          "model_name": "DescriptionStyleModel",
          "model_module_version": "1.5.0",
          "state": {
            "_model_module": "@jupyter-widgets/controls",
            "_model_module_version": "1.5.0",
            "_model_name": "DescriptionStyleModel",
            "_view_count": null,
            "_view_module": "@jupyter-widgets/base",
            "_view_module_version": "1.2.0",
            "_view_name": "StyleView",
            "description_width": ""
          }
        },
        "8dbb2a2cbb4849ff9a1d197ca49785c6": {
          "model_module": "@jupyter-widgets/base",
          "model_name": "LayoutModel",
          "model_module_version": "1.2.0",
          "state": {
            "_model_module": "@jupyter-widgets/base",
            "_model_module_version": "1.2.0",
            "_model_name": "LayoutModel",
            "_view_count": null,
            "_view_module": "@jupyter-widgets/base",
            "_view_module_version": "1.2.0",
            "_view_name": "LayoutView",
            "align_content": null,
            "align_items": null,
            "align_self": null,
            "border": null,
            "bottom": null,
            "display": null,
            "flex": null,
            "flex_flow": null,
            "grid_area": null,
            "grid_auto_columns": null,
            "grid_auto_flow": null,
            "grid_auto_rows": null,
            "grid_column": null,
            "grid_gap": null,
            "grid_row": null,
            "grid_template_areas": null,
            "grid_template_columns": null,
            "grid_template_rows": null,
            "height": null,
            "justify_content": null,
            "justify_items": null,
            "left": null,
            "margin": null,
            "max_height": null,
            "max_width": null,
            "min_height": null,
            "min_width": null,
            "object_fit": null,
            "object_position": null,
            "order": null,
            "overflow": null,
            "overflow_x": null,
            "overflow_y": null,
            "padding": null,
            "right": null,
            "top": null,
            "visibility": null,
            "width": null
          }
        },
        "bea71babfb24407db7633aa2c109bc4c": {
          "model_module": "@jupyter-widgets/controls",
          "model_name": "ProgressStyleModel",
          "model_module_version": "1.5.0",
          "state": {
            "_model_module": "@jupyter-widgets/controls",
            "_model_module_version": "1.5.0",
            "_model_name": "ProgressStyleModel",
            "_view_count": null,
            "_view_module": "@jupyter-widgets/base",
            "_view_module_version": "1.2.0",
            "_view_name": "StyleView",
            "bar_color": null,
            "description_width": ""
          }
        },
        "2bbfface7ee34d3d9be0cd442d9830c6": {
          "model_module": "@jupyter-widgets/controls",
          "model_name": "VBoxModel",
          "model_module_version": "1.5.0",
          "state": {
            "_dom_classes": [],
            "_model_module": "@jupyter-widgets/controls",
            "_model_module_version": "1.5.0",
            "_model_name": "VBoxModel",
            "_view_count": null,
            "_view_module": "@jupyter-widgets/controls",
            "_view_module_version": "1.5.0",
            "_view_name": "VBoxView",
            "box_style": "",
            "children": [
              "IPY_MODEL_e9860facb2f14085aa36872dd5e56250",
              "IPY_MODEL_66ebe5aaa6d44028a3d4aee3058503ac"
            ],
            "layout": "IPY_MODEL_5089ea0fab574ec5b889cdbed994fbd5"
          }
        },
        "e9860facb2f14085aa36872dd5e56250": {
          "model_module": "@jupyter-widgets/controls",
          "model_name": "LabelModel",
          "model_module_version": "1.5.0",
          "state": {
            "_dom_classes": [],
            "_model_module": "@jupyter-widgets/controls",
            "_model_module_version": "1.5.0",
            "_model_name": "LabelModel",
            "_view_count": null,
            "_view_module": "@jupyter-widgets/controls",
            "_view_module_version": "1.5.0",
            "_view_name": "LabelView",
            "description": "",
            "description_tooltip": null,
            "layout": "IPY_MODEL_77c2c651c84242fc809f0cf25ae8c10e",
            "placeholder": "​",
            "style": "IPY_MODEL_a01d49e7a2244c4e865010cab3c420b9",
            "value": "0.009 MB of 0.009 MB uploaded (0.000 MB deduped)\r"
          }
        },
        "66ebe5aaa6d44028a3d4aee3058503ac": {
          "model_module": "@jupyter-widgets/controls",
          "model_name": "FloatProgressModel",
          "model_module_version": "1.5.0",
          "state": {
            "_dom_classes": [],
            "_model_module": "@jupyter-widgets/controls",
            "_model_module_version": "1.5.0",
            "_model_name": "FloatProgressModel",
            "_view_count": null,
            "_view_module": "@jupyter-widgets/controls",
            "_view_module_version": "1.5.0",
            "_view_name": "ProgressView",
            "bar_style": "",
            "description": "",
            "description_tooltip": null,
            "layout": "IPY_MODEL_a16a16e446c44f0b9452c255027356f3",
            "max": 1,
            "min": 0,
            "orientation": "horizontal",
            "style": "IPY_MODEL_2455d30578a24fbc9d18cdafd7a8db37",
            "value": 1
          }
        },
        "5089ea0fab574ec5b889cdbed994fbd5": {
          "model_module": "@jupyter-widgets/base",
          "model_name": "LayoutModel",
          "model_module_version": "1.2.0",
          "state": {
            "_model_module": "@jupyter-widgets/base",
            "_model_module_version": "1.2.0",
            "_model_name": "LayoutModel",
            "_view_count": null,
            "_view_module": "@jupyter-widgets/base",
            "_view_module_version": "1.2.0",
            "_view_name": "LayoutView",
            "align_content": null,
            "align_items": null,
            "align_self": null,
            "border": null,
            "bottom": null,
            "display": null,
            "flex": null,
            "flex_flow": null,
            "grid_area": null,
            "grid_auto_columns": null,
            "grid_auto_flow": null,
            "grid_auto_rows": null,
            "grid_column": null,
            "grid_gap": null,
            "grid_row": null,
            "grid_template_areas": null,
            "grid_template_columns": null,
            "grid_template_rows": null,
            "height": null,
            "justify_content": null,
            "justify_items": null,
            "left": null,
            "margin": null,
            "max_height": null,
            "max_width": null,
            "min_height": null,
            "min_width": null,
            "object_fit": null,
            "object_position": null,
            "order": null,
            "overflow": null,
            "overflow_x": null,
            "overflow_y": null,
            "padding": null,
            "right": null,
            "top": null,
            "visibility": null,
            "width": null
          }
        },
        "77c2c651c84242fc809f0cf25ae8c10e": {
          "model_module": "@jupyter-widgets/base",
          "model_name": "LayoutModel",
          "model_module_version": "1.2.0",
          "state": {
            "_model_module": "@jupyter-widgets/base",
            "_model_module_version": "1.2.0",
            "_model_name": "LayoutModel",
            "_view_count": null,
            "_view_module": "@jupyter-widgets/base",
            "_view_module_version": "1.2.0",
            "_view_name": "LayoutView",
            "align_content": null,
            "align_items": null,
            "align_self": null,
            "border": null,
            "bottom": null,
            "display": null,
            "flex": null,
            "flex_flow": null,
            "grid_area": null,
            "grid_auto_columns": null,
            "grid_auto_flow": null,
            "grid_auto_rows": null,
            "grid_column": null,
            "grid_gap": null,
            "grid_row": null,
            "grid_template_areas": null,
            "grid_template_columns": null,
            "grid_template_rows": null,
            "height": null,
            "justify_content": null,
            "justify_items": null,
            "left": null,
            "margin": null,
            "max_height": null,
            "max_width": null,
            "min_height": null,
            "min_width": null,
            "object_fit": null,
            "object_position": null,
            "order": null,
            "overflow": null,
            "overflow_x": null,
            "overflow_y": null,
            "padding": null,
            "right": null,
            "top": null,
            "visibility": null,
            "width": null
          }
        },
        "a01d49e7a2244c4e865010cab3c420b9": {
          "model_module": "@jupyter-widgets/controls",
          "model_name": "DescriptionStyleModel",
          "model_module_version": "1.5.0",
          "state": {
            "_model_module": "@jupyter-widgets/controls",
            "_model_module_version": "1.5.0",
            "_model_name": "DescriptionStyleModel",
            "_view_count": null,
            "_view_module": "@jupyter-widgets/base",
            "_view_module_version": "1.2.0",
            "_view_name": "StyleView",
            "description_width": ""
          }
        },
        "a16a16e446c44f0b9452c255027356f3": {
          "model_module": "@jupyter-widgets/base",
          "model_name": "LayoutModel",
          "model_module_version": "1.2.0",
          "state": {
            "_model_module": "@jupyter-widgets/base",
            "_model_module_version": "1.2.0",
            "_model_name": "LayoutModel",
            "_view_count": null,
            "_view_module": "@jupyter-widgets/base",
            "_view_module_version": "1.2.0",
            "_view_name": "LayoutView",
            "align_content": null,
            "align_items": null,
            "align_self": null,
            "border": null,
            "bottom": null,
            "display": null,
            "flex": null,
            "flex_flow": null,
            "grid_area": null,
            "grid_auto_columns": null,
            "grid_auto_flow": null,
            "grid_auto_rows": null,
            "grid_column": null,
            "grid_gap": null,
            "grid_row": null,
            "grid_template_areas": null,
            "grid_template_columns": null,
            "grid_template_rows": null,
            "height": null,
            "justify_content": null,
            "justify_items": null,
            "left": null,
            "margin": null,
            "max_height": null,
            "max_width": null,
            "min_height": null,
            "min_width": null,
            "object_fit": null,
            "object_position": null,
            "order": null,
            "overflow": null,
            "overflow_x": null,
            "overflow_y": null,
            "padding": null,
            "right": null,
            "top": null,
            "visibility": null,
            "width": null
          }
        },
        "2455d30578a24fbc9d18cdafd7a8db37": {
          "model_module": "@jupyter-widgets/controls",
          "model_name": "ProgressStyleModel",
          "model_module_version": "1.5.0",
          "state": {
            "_model_module": "@jupyter-widgets/controls",
            "_model_module_version": "1.5.0",
            "_model_name": "ProgressStyleModel",
            "_view_count": null,
            "_view_module": "@jupyter-widgets/base",
            "_view_module_version": "1.2.0",
            "_view_name": "StyleView",
            "bar_color": null,
            "description_width": ""
          }
        },
        "0e25e6ea27ff4a2eb5db8a776b1ed1f1": {
          "model_module": "@jupyter-widgets/controls",
          "model_name": "VBoxModel",
          "model_module_version": "1.5.0",
          "state": {
            "_dom_classes": [],
            "_model_module": "@jupyter-widgets/controls",
            "_model_module_version": "1.5.0",
            "_model_name": "VBoxModel",
            "_view_count": null,
            "_view_module": "@jupyter-widgets/controls",
            "_view_module_version": "1.5.0",
            "_view_name": "VBoxView",
            "box_style": "",
            "children": [
              "IPY_MODEL_4d6bbaa776e340b1ac04d46ac8cea863",
              "IPY_MODEL_dacda262afa2451a98636c9b9ef800b0"
            ],
            "layout": "IPY_MODEL_eaa19db90d4949bbbe072825d8a948c1"
          }
        },
        "4d6bbaa776e340b1ac04d46ac8cea863": {
          "model_module": "@jupyter-widgets/controls",
          "model_name": "LabelModel",
          "model_module_version": "1.5.0",
          "state": {
            "_dom_classes": [],
            "_model_module": "@jupyter-widgets/controls",
            "_model_module_version": "1.5.0",
            "_model_name": "LabelModel",
            "_view_count": null,
            "_view_module": "@jupyter-widgets/controls",
            "_view_module_version": "1.5.0",
            "_view_name": "LabelView",
            "description": "",
            "description_tooltip": null,
            "layout": "IPY_MODEL_80118b024d0d4fc09e309a4eb6867e86",
            "placeholder": "​",
            "style": "IPY_MODEL_25e98a9d668c4d058276f178ac585588",
            "value": "64.853 MB of 64.853 MB uploaded (0.000 MB deduped)\r"
          }
        },
        "dacda262afa2451a98636c9b9ef800b0": {
          "model_module": "@jupyter-widgets/controls",
          "model_name": "FloatProgressModel",
          "model_module_version": "1.5.0",
          "state": {
            "_dom_classes": [],
            "_model_module": "@jupyter-widgets/controls",
            "_model_module_version": "1.5.0",
            "_model_name": "FloatProgressModel",
            "_view_count": null,
            "_view_module": "@jupyter-widgets/controls",
            "_view_module_version": "1.5.0",
            "_view_name": "ProgressView",
            "bar_style": "",
            "description": "",
            "description_tooltip": null,
            "layout": "IPY_MODEL_bc7e8beca77a41ffa3b96de2b0161714",
            "max": 1,
            "min": 0,
            "orientation": "horizontal",
            "style": "IPY_MODEL_117cebfd0e4d466d81d6eec6c19c1ea3",
            "value": 1
          }
        },
        "eaa19db90d4949bbbe072825d8a948c1": {
          "model_module": "@jupyter-widgets/base",
          "model_name": "LayoutModel",
          "model_module_version": "1.2.0",
          "state": {
            "_model_module": "@jupyter-widgets/base",
            "_model_module_version": "1.2.0",
            "_model_name": "LayoutModel",
            "_view_count": null,
            "_view_module": "@jupyter-widgets/base",
            "_view_module_version": "1.2.0",
            "_view_name": "LayoutView",
            "align_content": null,
            "align_items": null,
            "align_self": null,
            "border": null,
            "bottom": null,
            "display": null,
            "flex": null,
            "flex_flow": null,
            "grid_area": null,
            "grid_auto_columns": null,
            "grid_auto_flow": null,
            "grid_auto_rows": null,
            "grid_column": null,
            "grid_gap": null,
            "grid_row": null,
            "grid_template_areas": null,
            "grid_template_columns": null,
            "grid_template_rows": null,
            "height": null,
            "justify_content": null,
            "justify_items": null,
            "left": null,
            "margin": null,
            "max_height": null,
            "max_width": null,
            "min_height": null,
            "min_width": null,
            "object_fit": null,
            "object_position": null,
            "order": null,
            "overflow": null,
            "overflow_x": null,
            "overflow_y": null,
            "padding": null,
            "right": null,
            "top": null,
            "visibility": null,
            "width": null
          }
        },
        "80118b024d0d4fc09e309a4eb6867e86": {
          "model_module": "@jupyter-widgets/base",
          "model_name": "LayoutModel",
          "model_module_version": "1.2.0",
          "state": {
            "_model_module": "@jupyter-widgets/base",
            "_model_module_version": "1.2.0",
            "_model_name": "LayoutModel",
            "_view_count": null,
            "_view_module": "@jupyter-widgets/base",
            "_view_module_version": "1.2.0",
            "_view_name": "LayoutView",
            "align_content": null,
            "align_items": null,
            "align_self": null,
            "border": null,
            "bottom": null,
            "display": null,
            "flex": null,
            "flex_flow": null,
            "grid_area": null,
            "grid_auto_columns": null,
            "grid_auto_flow": null,
            "grid_auto_rows": null,
            "grid_column": null,
            "grid_gap": null,
            "grid_row": null,
            "grid_template_areas": null,
            "grid_template_columns": null,
            "grid_template_rows": null,
            "height": null,
            "justify_content": null,
            "justify_items": null,
            "left": null,
            "margin": null,
            "max_height": null,
            "max_width": null,
            "min_height": null,
            "min_width": null,
            "object_fit": null,
            "object_position": null,
            "order": null,
            "overflow": null,
            "overflow_x": null,
            "overflow_y": null,
            "padding": null,
            "right": null,
            "top": null,
            "visibility": null,
            "width": null
          }
        },
        "25e98a9d668c4d058276f178ac585588": {
          "model_module": "@jupyter-widgets/controls",
          "model_name": "DescriptionStyleModel",
          "model_module_version": "1.5.0",
          "state": {
            "_model_module": "@jupyter-widgets/controls",
            "_model_module_version": "1.5.0",
            "_model_name": "DescriptionStyleModel",
            "_view_count": null,
            "_view_module": "@jupyter-widgets/base",
            "_view_module_version": "1.2.0",
            "_view_name": "StyleView",
            "description_width": ""
          }
        },
        "bc7e8beca77a41ffa3b96de2b0161714": {
          "model_module": "@jupyter-widgets/base",
          "model_name": "LayoutModel",
          "model_module_version": "1.2.0",
          "state": {
            "_model_module": "@jupyter-widgets/base",
            "_model_module_version": "1.2.0",
            "_model_name": "LayoutModel",
            "_view_count": null,
            "_view_module": "@jupyter-widgets/base",
            "_view_module_version": "1.2.0",
            "_view_name": "LayoutView",
            "align_content": null,
            "align_items": null,
            "align_self": null,
            "border": null,
            "bottom": null,
            "display": null,
            "flex": null,
            "flex_flow": null,
            "grid_area": null,
            "grid_auto_columns": null,
            "grid_auto_flow": null,
            "grid_auto_rows": null,
            "grid_column": null,
            "grid_gap": null,
            "grid_row": null,
            "grid_template_areas": null,
            "grid_template_columns": null,
            "grid_template_rows": null,
            "height": null,
            "justify_content": null,
            "justify_items": null,
            "left": null,
            "margin": null,
            "max_height": null,
            "max_width": null,
            "min_height": null,
            "min_width": null,
            "object_fit": null,
            "object_position": null,
            "order": null,
            "overflow": null,
            "overflow_x": null,
            "overflow_y": null,
            "padding": null,
            "right": null,
            "top": null,
            "visibility": null,
            "width": null
          }
        },
        "117cebfd0e4d466d81d6eec6c19c1ea3": {
          "model_module": "@jupyter-widgets/controls",
          "model_name": "ProgressStyleModel",
          "model_module_version": "1.5.0",
          "state": {
            "_model_module": "@jupyter-widgets/controls",
            "_model_module_version": "1.5.0",
            "_model_name": "ProgressStyleModel",
            "_view_count": null,
            "_view_module": "@jupyter-widgets/base",
            "_view_module_version": "1.2.0",
            "_view_name": "StyleView",
            "bar_color": null,
            "description_width": ""
          }
        },
        "9f268543fba44b988c7743910c2795f1": {
          "model_module": "@jupyter-widgets/controls",
          "model_name": "VBoxModel",
          "model_module_version": "1.5.0",
          "state": {
            "_dom_classes": [],
            "_model_module": "@jupyter-widgets/controls",
            "_model_module_version": "1.5.0",
            "_model_name": "VBoxModel",
            "_view_count": null,
            "_view_module": "@jupyter-widgets/controls",
            "_view_module_version": "1.5.0",
            "_view_name": "VBoxView",
            "box_style": "",
            "children": [
              "IPY_MODEL_f7899bf9e32e4c2abed9a5b35f33f272",
              "IPY_MODEL_f03d270b7035475986a55487d1c52ab6"
            ],
            "layout": "IPY_MODEL_d4a72066c026472bbcecab9a4281edbd"
          }
        },
        "f7899bf9e32e4c2abed9a5b35f33f272": {
          "model_module": "@jupyter-widgets/controls",
          "model_name": "LabelModel",
          "model_module_version": "1.5.0",
          "state": {
            "_dom_classes": [],
            "_model_module": "@jupyter-widgets/controls",
            "_model_module_version": "1.5.0",
            "_model_name": "LabelModel",
            "_view_count": null,
            "_view_module": "@jupyter-widgets/controls",
            "_view_module_version": "1.5.0",
            "_view_name": "LabelView",
            "description": "",
            "description_tooltip": null,
            "layout": "IPY_MODEL_ee3e633ab2e741b683dc37d5b31472d1",
            "placeholder": "​",
            "style": "IPY_MODEL_6a78a3286baa4f31ad514028c1b535a2",
            "value": "0.009 MB of 0.009 MB uploaded (0.000 MB deduped)\r"
          }
        },
        "f03d270b7035475986a55487d1c52ab6": {
          "model_module": "@jupyter-widgets/controls",
          "model_name": "FloatProgressModel",
          "model_module_version": "1.5.0",
          "state": {
            "_dom_classes": [],
            "_model_module": "@jupyter-widgets/controls",
            "_model_module_version": "1.5.0",
            "_model_name": "FloatProgressModel",
            "_view_count": null,
            "_view_module": "@jupyter-widgets/controls",
            "_view_module_version": "1.5.0",
            "_view_name": "ProgressView",
            "bar_style": "",
            "description": "",
            "description_tooltip": null,
            "layout": "IPY_MODEL_06338524b2964439a4a4b75589d46fa5",
            "max": 1,
            "min": 0,
            "orientation": "horizontal",
            "style": "IPY_MODEL_cdcc90d6d0914e398613abc9a72ab99e",
            "value": 1
          }
        },
        "d4a72066c026472bbcecab9a4281edbd": {
          "model_module": "@jupyter-widgets/base",
          "model_name": "LayoutModel",
          "model_module_version": "1.2.0",
          "state": {
            "_model_module": "@jupyter-widgets/base",
            "_model_module_version": "1.2.0",
            "_model_name": "LayoutModel",
            "_view_count": null,
            "_view_module": "@jupyter-widgets/base",
            "_view_module_version": "1.2.0",
            "_view_name": "LayoutView",
            "align_content": null,
            "align_items": null,
            "align_self": null,
            "border": null,
            "bottom": null,
            "display": null,
            "flex": null,
            "flex_flow": null,
            "grid_area": null,
            "grid_auto_columns": null,
            "grid_auto_flow": null,
            "grid_auto_rows": null,
            "grid_column": null,
            "grid_gap": null,
            "grid_row": null,
            "grid_template_areas": null,
            "grid_template_columns": null,
            "grid_template_rows": null,
            "height": null,
            "justify_content": null,
            "justify_items": null,
            "left": null,
            "margin": null,
            "max_height": null,
            "max_width": null,
            "min_height": null,
            "min_width": null,
            "object_fit": null,
            "object_position": null,
            "order": null,
            "overflow": null,
            "overflow_x": null,
            "overflow_y": null,
            "padding": null,
            "right": null,
            "top": null,
            "visibility": null,
            "width": null
          }
        },
        "ee3e633ab2e741b683dc37d5b31472d1": {
          "model_module": "@jupyter-widgets/base",
          "model_name": "LayoutModel",
          "model_module_version": "1.2.0",
          "state": {
            "_model_module": "@jupyter-widgets/base",
            "_model_module_version": "1.2.0",
            "_model_name": "LayoutModel",
            "_view_count": null,
            "_view_module": "@jupyter-widgets/base",
            "_view_module_version": "1.2.0",
            "_view_name": "LayoutView",
            "align_content": null,
            "align_items": null,
            "align_self": null,
            "border": null,
            "bottom": null,
            "display": null,
            "flex": null,
            "flex_flow": null,
            "grid_area": null,
            "grid_auto_columns": null,
            "grid_auto_flow": null,
            "grid_auto_rows": null,
            "grid_column": null,
            "grid_gap": null,
            "grid_row": null,
            "grid_template_areas": null,
            "grid_template_columns": null,
            "grid_template_rows": null,
            "height": null,
            "justify_content": null,
            "justify_items": null,
            "left": null,
            "margin": null,
            "max_height": null,
            "max_width": null,
            "min_height": null,
            "min_width": null,
            "object_fit": null,
            "object_position": null,
            "order": null,
            "overflow": null,
            "overflow_x": null,
            "overflow_y": null,
            "padding": null,
            "right": null,
            "top": null,
            "visibility": null,
            "width": null
          }
        },
        "6a78a3286baa4f31ad514028c1b535a2": {
          "model_module": "@jupyter-widgets/controls",
          "model_name": "DescriptionStyleModel",
          "model_module_version": "1.5.0",
          "state": {
            "_model_module": "@jupyter-widgets/controls",
            "_model_module_version": "1.5.0",
            "_model_name": "DescriptionStyleModel",
            "_view_count": null,
            "_view_module": "@jupyter-widgets/base",
            "_view_module_version": "1.2.0",
            "_view_name": "StyleView",
            "description_width": ""
          }
        },
        "06338524b2964439a4a4b75589d46fa5": {
          "model_module": "@jupyter-widgets/base",
          "model_name": "LayoutModel",
          "model_module_version": "1.2.0",
          "state": {
            "_model_module": "@jupyter-widgets/base",
            "_model_module_version": "1.2.0",
            "_model_name": "LayoutModel",
            "_view_count": null,
            "_view_module": "@jupyter-widgets/base",
            "_view_module_version": "1.2.0",
            "_view_name": "LayoutView",
            "align_content": null,
            "align_items": null,
            "align_self": null,
            "border": null,
            "bottom": null,
            "display": null,
            "flex": null,
            "flex_flow": null,
            "grid_area": null,
            "grid_auto_columns": null,
            "grid_auto_flow": null,
            "grid_auto_rows": null,
            "grid_column": null,
            "grid_gap": null,
            "grid_row": null,
            "grid_template_areas": null,
            "grid_template_columns": null,
            "grid_template_rows": null,
            "height": null,
            "justify_content": null,
            "justify_items": null,
            "left": null,
            "margin": null,
            "max_height": null,
            "max_width": null,
            "min_height": null,
            "min_width": null,
            "object_fit": null,
            "object_position": null,
            "order": null,
            "overflow": null,
            "overflow_x": null,
            "overflow_y": null,
            "padding": null,
            "right": null,
            "top": null,
            "visibility": null,
            "width": null
          }
        },
        "cdcc90d6d0914e398613abc9a72ab99e": {
          "model_module": "@jupyter-widgets/controls",
          "model_name": "ProgressStyleModel",
          "model_module_version": "1.5.0",
          "state": {
            "_model_module": "@jupyter-widgets/controls",
            "_model_module_version": "1.5.0",
            "_model_name": "ProgressStyleModel",
            "_view_count": null,
            "_view_module": "@jupyter-widgets/base",
            "_view_module_version": "1.2.0",
            "_view_name": "StyleView",
            "bar_color": null,
            "description_width": ""
          }
        },
        "6d9db251e2ee4173903a24e8cb28a763": {
          "model_module": "@jupyter-widgets/controls",
          "model_name": "VBoxModel",
          "model_module_version": "1.5.0",
          "state": {
            "_dom_classes": [],
            "_model_module": "@jupyter-widgets/controls",
            "_model_module_version": "1.5.0",
            "_model_name": "VBoxModel",
            "_view_count": null,
            "_view_module": "@jupyter-widgets/controls",
            "_view_module_version": "1.5.0",
            "_view_name": "VBoxView",
            "box_style": "",
            "children": [
              "IPY_MODEL_d88c4fbb8a5e4d8a968ef515bba58603",
              "IPY_MODEL_5b17b51a62d148d181104e31ed416dfb"
            ],
            "layout": "IPY_MODEL_ccd6aae5678845329ec470c7d24b1747"
          }
        },
        "d88c4fbb8a5e4d8a968ef515bba58603": {
          "model_module": "@jupyter-widgets/controls",
          "model_name": "LabelModel",
          "model_module_version": "1.5.0",
          "state": {
            "_dom_classes": [],
            "_model_module": "@jupyter-widgets/controls",
            "_model_module_version": "1.5.0",
            "_model_name": "LabelModel",
            "_view_count": null,
            "_view_module": "@jupyter-widgets/controls",
            "_view_module_version": "1.5.0",
            "_view_name": "LabelView",
            "description": "",
            "description_tooltip": null,
            "layout": "IPY_MODEL_d034332434524e9e84bec9fba544dd9e",
            "placeholder": "​",
            "style": "IPY_MODEL_60fecd4914624ec892f0114afc4699f3",
            "value": "49.952 MB of 49.952 MB uploaded (0.000 MB deduped)\r"
          }
        },
        "5b17b51a62d148d181104e31ed416dfb": {
          "model_module": "@jupyter-widgets/controls",
          "model_name": "FloatProgressModel",
          "model_module_version": "1.5.0",
          "state": {
            "_dom_classes": [],
            "_model_module": "@jupyter-widgets/controls",
            "_model_module_version": "1.5.0",
            "_model_name": "FloatProgressModel",
            "_view_count": null,
            "_view_module": "@jupyter-widgets/controls",
            "_view_module_version": "1.5.0",
            "_view_name": "ProgressView",
            "bar_style": "",
            "description": "",
            "description_tooltip": null,
            "layout": "IPY_MODEL_3b169aae412849cfb8c3049c8b2d4738",
            "max": 1,
            "min": 0,
            "orientation": "horizontal",
            "style": "IPY_MODEL_ccf10ef2754d48b1bcc23049cc85a26e",
            "value": 1
          }
        },
        "ccd6aae5678845329ec470c7d24b1747": {
          "model_module": "@jupyter-widgets/base",
          "model_name": "LayoutModel",
          "model_module_version": "1.2.0",
          "state": {
            "_model_module": "@jupyter-widgets/base",
            "_model_module_version": "1.2.0",
            "_model_name": "LayoutModel",
            "_view_count": null,
            "_view_module": "@jupyter-widgets/base",
            "_view_module_version": "1.2.0",
            "_view_name": "LayoutView",
            "align_content": null,
            "align_items": null,
            "align_self": null,
            "border": null,
            "bottom": null,
            "display": null,
            "flex": null,
            "flex_flow": null,
            "grid_area": null,
            "grid_auto_columns": null,
            "grid_auto_flow": null,
            "grid_auto_rows": null,
            "grid_column": null,
            "grid_gap": null,
            "grid_row": null,
            "grid_template_areas": null,
            "grid_template_columns": null,
            "grid_template_rows": null,
            "height": null,
            "justify_content": null,
            "justify_items": null,
            "left": null,
            "margin": null,
            "max_height": null,
            "max_width": null,
            "min_height": null,
            "min_width": null,
            "object_fit": null,
            "object_position": null,
            "order": null,
            "overflow": null,
            "overflow_x": null,
            "overflow_y": null,
            "padding": null,
            "right": null,
            "top": null,
            "visibility": null,
            "width": null
          }
        },
        "d034332434524e9e84bec9fba544dd9e": {
          "model_module": "@jupyter-widgets/base",
          "model_name": "LayoutModel",
          "model_module_version": "1.2.0",
          "state": {
            "_model_module": "@jupyter-widgets/base",
            "_model_module_version": "1.2.0",
            "_model_name": "LayoutModel",
            "_view_count": null,
            "_view_module": "@jupyter-widgets/base",
            "_view_module_version": "1.2.0",
            "_view_name": "LayoutView",
            "align_content": null,
            "align_items": null,
            "align_self": null,
            "border": null,
            "bottom": null,
            "display": null,
            "flex": null,
            "flex_flow": null,
            "grid_area": null,
            "grid_auto_columns": null,
            "grid_auto_flow": null,
            "grid_auto_rows": null,
            "grid_column": null,
            "grid_gap": null,
            "grid_row": null,
            "grid_template_areas": null,
            "grid_template_columns": null,
            "grid_template_rows": null,
            "height": null,
            "justify_content": null,
            "justify_items": null,
            "left": null,
            "margin": null,
            "max_height": null,
            "max_width": null,
            "min_height": null,
            "min_width": null,
            "object_fit": null,
            "object_position": null,
            "order": null,
            "overflow": null,
            "overflow_x": null,
            "overflow_y": null,
            "padding": null,
            "right": null,
            "top": null,
            "visibility": null,
            "width": null
          }
        },
        "60fecd4914624ec892f0114afc4699f3": {
          "model_module": "@jupyter-widgets/controls",
          "model_name": "DescriptionStyleModel",
          "model_module_version": "1.5.0",
          "state": {
            "_model_module": "@jupyter-widgets/controls",
            "_model_module_version": "1.5.0",
            "_model_name": "DescriptionStyleModel",
            "_view_count": null,
            "_view_module": "@jupyter-widgets/base",
            "_view_module_version": "1.2.0",
            "_view_name": "StyleView",
            "description_width": ""
          }
        },
        "3b169aae412849cfb8c3049c8b2d4738": {
          "model_module": "@jupyter-widgets/base",
          "model_name": "LayoutModel",
          "model_module_version": "1.2.0",
          "state": {
            "_model_module": "@jupyter-widgets/base",
            "_model_module_version": "1.2.0",
            "_model_name": "LayoutModel",
            "_view_count": null,
            "_view_module": "@jupyter-widgets/base",
            "_view_module_version": "1.2.0",
            "_view_name": "LayoutView",
            "align_content": null,
            "align_items": null,
            "align_self": null,
            "border": null,
            "bottom": null,
            "display": null,
            "flex": null,
            "flex_flow": null,
            "grid_area": null,
            "grid_auto_columns": null,
            "grid_auto_flow": null,
            "grid_auto_rows": null,
            "grid_column": null,
            "grid_gap": null,
            "grid_row": null,
            "grid_template_areas": null,
            "grid_template_columns": null,
            "grid_template_rows": null,
            "height": null,
            "justify_content": null,
            "justify_items": null,
            "left": null,
            "margin": null,
            "max_height": null,
            "max_width": null,
            "min_height": null,
            "min_width": null,
            "object_fit": null,
            "object_position": null,
            "order": null,
            "overflow": null,
            "overflow_x": null,
            "overflow_y": null,
            "padding": null,
            "right": null,
            "top": null,
            "visibility": null,
            "width": null
          }
        },
        "ccf10ef2754d48b1bcc23049cc85a26e": {
          "model_module": "@jupyter-widgets/controls",
          "model_name": "ProgressStyleModel",
          "model_module_version": "1.5.0",
          "state": {
            "_model_module": "@jupyter-widgets/controls",
            "_model_module_version": "1.5.0",
            "_model_name": "ProgressStyleModel",
            "_view_count": null,
            "_view_module": "@jupyter-widgets/base",
            "_view_module_version": "1.2.0",
            "_view_name": "StyleView",
            "bar_color": null,
            "description_width": ""
          }
        },
        "88c5a3fa8ee34ecba8f0e6006fa92c0c": {
          "model_module": "@jupyter-widgets/controls",
          "model_name": "VBoxModel",
          "model_module_version": "1.5.0",
          "state": {
            "_dom_classes": [],
            "_model_module": "@jupyter-widgets/controls",
            "_model_module_version": "1.5.0",
            "_model_name": "VBoxModel",
            "_view_count": null,
            "_view_module": "@jupyter-widgets/controls",
            "_view_module_version": "1.5.0",
            "_view_name": "VBoxView",
            "box_style": "",
            "children": [
              "IPY_MODEL_8dd5555a213046ea8c1f1fd6842ba25a",
              "IPY_MODEL_c4eba972b4ed4d73ae7b4eaa7ecccce9"
            ],
            "layout": "IPY_MODEL_0acf5dc105f14e2b9f58fad5fafc6de1"
          }
        },
        "8dd5555a213046ea8c1f1fd6842ba25a": {
          "model_module": "@jupyter-widgets/controls",
          "model_name": "LabelModel",
          "model_module_version": "1.5.0",
          "state": {
            "_dom_classes": [],
            "_model_module": "@jupyter-widgets/controls",
            "_model_module_version": "1.5.0",
            "_model_name": "LabelModel",
            "_view_count": null,
            "_view_module": "@jupyter-widgets/controls",
            "_view_module_version": "1.5.0",
            "_view_name": "LabelView",
            "description": "",
            "description_tooltip": null,
            "layout": "IPY_MODEL_92ff6a9d4f794af7a515fc2fd85e4f6d",
            "placeholder": "​",
            "style": "IPY_MODEL_8d629a7cf9f648359bb96d26c126db1d",
            "value": "0.009 MB of 0.009 MB uploaded (0.000 MB deduped)\r"
          }
        },
        "c4eba972b4ed4d73ae7b4eaa7ecccce9": {
          "model_module": "@jupyter-widgets/controls",
          "model_name": "FloatProgressModel",
          "model_module_version": "1.5.0",
          "state": {
            "_dom_classes": [],
            "_model_module": "@jupyter-widgets/controls",
            "_model_module_version": "1.5.0",
            "_model_name": "FloatProgressModel",
            "_view_count": null,
            "_view_module": "@jupyter-widgets/controls",
            "_view_module_version": "1.5.0",
            "_view_name": "ProgressView",
            "bar_style": "",
            "description": "",
            "description_tooltip": null,
            "layout": "IPY_MODEL_81775c32f1eb409d823fe01d9a60aedb",
            "max": 1,
            "min": 0,
            "orientation": "horizontal",
            "style": "IPY_MODEL_2b0d8be94bb147399cfc2f6e71e38901",
            "value": 1
          }
        },
        "0acf5dc105f14e2b9f58fad5fafc6de1": {
          "model_module": "@jupyter-widgets/base",
          "model_name": "LayoutModel",
          "model_module_version": "1.2.0",
          "state": {
            "_model_module": "@jupyter-widgets/base",
            "_model_module_version": "1.2.0",
            "_model_name": "LayoutModel",
            "_view_count": null,
            "_view_module": "@jupyter-widgets/base",
            "_view_module_version": "1.2.0",
            "_view_name": "LayoutView",
            "align_content": null,
            "align_items": null,
            "align_self": null,
            "border": null,
            "bottom": null,
            "display": null,
            "flex": null,
            "flex_flow": null,
            "grid_area": null,
            "grid_auto_columns": null,
            "grid_auto_flow": null,
            "grid_auto_rows": null,
            "grid_column": null,
            "grid_gap": null,
            "grid_row": null,
            "grid_template_areas": null,
            "grid_template_columns": null,
            "grid_template_rows": null,
            "height": null,
            "justify_content": null,
            "justify_items": null,
            "left": null,
            "margin": null,
            "max_height": null,
            "max_width": null,
            "min_height": null,
            "min_width": null,
            "object_fit": null,
            "object_position": null,
            "order": null,
            "overflow": null,
            "overflow_x": null,
            "overflow_y": null,
            "padding": null,
            "right": null,
            "top": null,
            "visibility": null,
            "width": null
          }
        },
        "92ff6a9d4f794af7a515fc2fd85e4f6d": {
          "model_module": "@jupyter-widgets/base",
          "model_name": "LayoutModel",
          "model_module_version": "1.2.0",
          "state": {
            "_model_module": "@jupyter-widgets/base",
            "_model_module_version": "1.2.0",
            "_model_name": "LayoutModel",
            "_view_count": null,
            "_view_module": "@jupyter-widgets/base",
            "_view_module_version": "1.2.0",
            "_view_name": "LayoutView",
            "align_content": null,
            "align_items": null,
            "align_self": null,
            "border": null,
            "bottom": null,
            "display": null,
            "flex": null,
            "flex_flow": null,
            "grid_area": null,
            "grid_auto_columns": null,
            "grid_auto_flow": null,
            "grid_auto_rows": null,
            "grid_column": null,
            "grid_gap": null,
            "grid_row": null,
            "grid_template_areas": null,
            "grid_template_columns": null,
            "grid_template_rows": null,
            "height": null,
            "justify_content": null,
            "justify_items": null,
            "left": null,
            "margin": null,
            "max_height": null,
            "max_width": null,
            "min_height": null,
            "min_width": null,
            "object_fit": null,
            "object_position": null,
            "order": null,
            "overflow": null,
            "overflow_x": null,
            "overflow_y": null,
            "padding": null,
            "right": null,
            "top": null,
            "visibility": null,
            "width": null
          }
        },
        "8d629a7cf9f648359bb96d26c126db1d": {
          "model_module": "@jupyter-widgets/controls",
          "model_name": "DescriptionStyleModel",
          "model_module_version": "1.5.0",
          "state": {
            "_model_module": "@jupyter-widgets/controls",
            "_model_module_version": "1.5.0",
            "_model_name": "DescriptionStyleModel",
            "_view_count": null,
            "_view_module": "@jupyter-widgets/base",
            "_view_module_version": "1.2.0",
            "_view_name": "StyleView",
            "description_width": ""
          }
        },
        "81775c32f1eb409d823fe01d9a60aedb": {
          "model_module": "@jupyter-widgets/base",
          "model_name": "LayoutModel",
          "model_module_version": "1.2.0",
          "state": {
            "_model_module": "@jupyter-widgets/base",
            "_model_module_version": "1.2.0",
            "_model_name": "LayoutModel",
            "_view_count": null,
            "_view_module": "@jupyter-widgets/base",
            "_view_module_version": "1.2.0",
            "_view_name": "LayoutView",
            "align_content": null,
            "align_items": null,
            "align_self": null,
            "border": null,
            "bottom": null,
            "display": null,
            "flex": null,
            "flex_flow": null,
            "grid_area": null,
            "grid_auto_columns": null,
            "grid_auto_flow": null,
            "grid_auto_rows": null,
            "grid_column": null,
            "grid_gap": null,
            "grid_row": null,
            "grid_template_areas": null,
            "grid_template_columns": null,
            "grid_template_rows": null,
            "height": null,
            "justify_content": null,
            "justify_items": null,
            "left": null,
            "margin": null,
            "max_height": null,
            "max_width": null,
            "min_height": null,
            "min_width": null,
            "object_fit": null,
            "object_position": null,
            "order": null,
            "overflow": null,
            "overflow_x": null,
            "overflow_y": null,
            "padding": null,
            "right": null,
            "top": null,
            "visibility": null,
            "width": null
          }
        },
        "2b0d8be94bb147399cfc2f6e71e38901": {
          "model_module": "@jupyter-widgets/controls",
          "model_name": "ProgressStyleModel",
          "model_module_version": "1.5.0",
          "state": {
            "_model_module": "@jupyter-widgets/controls",
            "_model_module_version": "1.5.0",
            "_model_name": "ProgressStyleModel",
            "_view_count": null,
            "_view_module": "@jupyter-widgets/base",
            "_view_module_version": "1.2.0",
            "_view_name": "StyleView",
            "bar_color": null,
            "description_width": ""
          }
        },
        "581dd1cb530948cfa676042382e6882c": {
          "model_module": "@jupyter-widgets/controls",
          "model_name": "VBoxModel",
          "model_module_version": "1.5.0",
          "state": {
            "_dom_classes": [],
            "_model_module": "@jupyter-widgets/controls",
            "_model_module_version": "1.5.0",
            "_model_name": "VBoxModel",
            "_view_count": null,
            "_view_module": "@jupyter-widgets/controls",
            "_view_module_version": "1.5.0",
            "_view_name": "VBoxView",
            "box_style": "",
            "children": [
              "IPY_MODEL_e7d9fa7d1d6e4e23926ac2b9db89bc21",
              "IPY_MODEL_a59e827522104a629a8280f5ecfa1357"
            ],
            "layout": "IPY_MODEL_887e2d1a758946e9954e65613b770575"
          }
        },
        "e7d9fa7d1d6e4e23926ac2b9db89bc21": {
          "model_module": "@jupyter-widgets/controls",
          "model_name": "LabelModel",
          "model_module_version": "1.5.0",
          "state": {
            "_dom_classes": [],
            "_model_module": "@jupyter-widgets/controls",
            "_model_module_version": "1.5.0",
            "_model_name": "LabelModel",
            "_view_count": null,
            "_view_module": "@jupyter-widgets/controls",
            "_view_module_version": "1.5.0",
            "_view_name": "LabelView",
            "description": "",
            "description_tooltip": null,
            "layout": "IPY_MODEL_1b38053517d2452685fc520e3bad2960",
            "placeholder": "​",
            "style": "IPY_MODEL_2bf8fdfd9d4649f294263d58f9212cd5",
            "value": "65.078 MB of 65.078 MB uploaded (0.000 MB deduped)\r"
          }
        },
        "a59e827522104a629a8280f5ecfa1357": {
          "model_module": "@jupyter-widgets/controls",
          "model_name": "FloatProgressModel",
          "model_module_version": "1.5.0",
          "state": {
            "_dom_classes": [],
            "_model_module": "@jupyter-widgets/controls",
            "_model_module_version": "1.5.0",
            "_model_name": "FloatProgressModel",
            "_view_count": null,
            "_view_module": "@jupyter-widgets/controls",
            "_view_module_version": "1.5.0",
            "_view_name": "ProgressView",
            "bar_style": "",
            "description": "",
            "description_tooltip": null,
            "layout": "IPY_MODEL_814cc03bdd30460ab293f1301375b78d",
            "max": 1,
            "min": 0,
            "orientation": "horizontal",
            "style": "IPY_MODEL_a2555039c6574371b7bc4b9268cc4289",
            "value": 1
          }
        },
        "887e2d1a758946e9954e65613b770575": {
          "model_module": "@jupyter-widgets/base",
          "model_name": "LayoutModel",
          "model_module_version": "1.2.0",
          "state": {
            "_model_module": "@jupyter-widgets/base",
            "_model_module_version": "1.2.0",
            "_model_name": "LayoutModel",
            "_view_count": null,
            "_view_module": "@jupyter-widgets/base",
            "_view_module_version": "1.2.0",
            "_view_name": "LayoutView",
            "align_content": null,
            "align_items": null,
            "align_self": null,
            "border": null,
            "bottom": null,
            "display": null,
            "flex": null,
            "flex_flow": null,
            "grid_area": null,
            "grid_auto_columns": null,
            "grid_auto_flow": null,
            "grid_auto_rows": null,
            "grid_column": null,
            "grid_gap": null,
            "grid_row": null,
            "grid_template_areas": null,
            "grid_template_columns": null,
            "grid_template_rows": null,
            "height": null,
            "justify_content": null,
            "justify_items": null,
            "left": null,
            "margin": null,
            "max_height": null,
            "max_width": null,
            "min_height": null,
            "min_width": null,
            "object_fit": null,
            "object_position": null,
            "order": null,
            "overflow": null,
            "overflow_x": null,
            "overflow_y": null,
            "padding": null,
            "right": null,
            "top": null,
            "visibility": null,
            "width": null
          }
        },
        "1b38053517d2452685fc520e3bad2960": {
          "model_module": "@jupyter-widgets/base",
          "model_name": "LayoutModel",
          "model_module_version": "1.2.0",
          "state": {
            "_model_module": "@jupyter-widgets/base",
            "_model_module_version": "1.2.0",
            "_model_name": "LayoutModel",
            "_view_count": null,
            "_view_module": "@jupyter-widgets/base",
            "_view_module_version": "1.2.0",
            "_view_name": "LayoutView",
            "align_content": null,
            "align_items": null,
            "align_self": null,
            "border": null,
            "bottom": null,
            "display": null,
            "flex": null,
            "flex_flow": null,
            "grid_area": null,
            "grid_auto_columns": null,
            "grid_auto_flow": null,
            "grid_auto_rows": null,
            "grid_column": null,
            "grid_gap": null,
            "grid_row": null,
            "grid_template_areas": null,
            "grid_template_columns": null,
            "grid_template_rows": null,
            "height": null,
            "justify_content": null,
            "justify_items": null,
            "left": null,
            "margin": null,
            "max_height": null,
            "max_width": null,
            "min_height": null,
            "min_width": null,
            "object_fit": null,
            "object_position": null,
            "order": null,
            "overflow": null,
            "overflow_x": null,
            "overflow_y": null,
            "padding": null,
            "right": null,
            "top": null,
            "visibility": null,
            "width": null
          }
        },
        "2bf8fdfd9d4649f294263d58f9212cd5": {
          "model_module": "@jupyter-widgets/controls",
          "model_name": "DescriptionStyleModel",
          "model_module_version": "1.5.0",
          "state": {
            "_model_module": "@jupyter-widgets/controls",
            "_model_module_version": "1.5.0",
            "_model_name": "DescriptionStyleModel",
            "_view_count": null,
            "_view_module": "@jupyter-widgets/base",
            "_view_module_version": "1.2.0",
            "_view_name": "StyleView",
            "description_width": ""
          }
        },
        "814cc03bdd30460ab293f1301375b78d": {
          "model_module": "@jupyter-widgets/base",
          "model_name": "LayoutModel",
          "model_module_version": "1.2.0",
          "state": {
            "_model_module": "@jupyter-widgets/base",
            "_model_module_version": "1.2.0",
            "_model_name": "LayoutModel",
            "_view_count": null,
            "_view_module": "@jupyter-widgets/base",
            "_view_module_version": "1.2.0",
            "_view_name": "LayoutView",
            "align_content": null,
            "align_items": null,
            "align_self": null,
            "border": null,
            "bottom": null,
            "display": null,
            "flex": null,
            "flex_flow": null,
            "grid_area": null,
            "grid_auto_columns": null,
            "grid_auto_flow": null,
            "grid_auto_rows": null,
            "grid_column": null,
            "grid_gap": null,
            "grid_row": null,
            "grid_template_areas": null,
            "grid_template_columns": null,
            "grid_template_rows": null,
            "height": null,
            "justify_content": null,
            "justify_items": null,
            "left": null,
            "margin": null,
            "max_height": null,
            "max_width": null,
            "min_height": null,
            "min_width": null,
            "object_fit": null,
            "object_position": null,
            "order": null,
            "overflow": null,
            "overflow_x": null,
            "overflow_y": null,
            "padding": null,
            "right": null,
            "top": null,
            "visibility": null,
            "width": null
          }
        },
        "a2555039c6574371b7bc4b9268cc4289": {
          "model_module": "@jupyter-widgets/controls",
          "model_name": "ProgressStyleModel",
          "model_module_version": "1.5.0",
          "state": {
            "_model_module": "@jupyter-widgets/controls",
            "_model_module_version": "1.5.0",
            "_model_name": "ProgressStyleModel",
            "_view_count": null,
            "_view_module": "@jupyter-widgets/base",
            "_view_module_version": "1.2.0",
            "_view_name": "StyleView",
            "bar_color": null,
            "description_width": ""
          }
        },
        "a4fb2fe5a96b479f8d1b101863b98d61": {
          "model_module": "@jupyter-widgets/controls",
          "model_name": "VBoxModel",
          "model_module_version": "1.5.0",
          "state": {
            "_dom_classes": [],
            "_model_module": "@jupyter-widgets/controls",
            "_model_module_version": "1.5.0",
            "_model_name": "VBoxModel",
            "_view_count": null,
            "_view_module": "@jupyter-widgets/controls",
            "_view_module_version": "1.5.0",
            "_view_name": "VBoxView",
            "box_style": "",
            "children": [
              "IPY_MODEL_7479ca499c924e2b861d586e2bca2648",
              "IPY_MODEL_e3fa4ccd704e4726979a891339e3896a"
            ],
            "layout": "IPY_MODEL_a0a352b297974c54a36415490ee3981e"
          }
        },
        "7479ca499c924e2b861d586e2bca2648": {
          "model_module": "@jupyter-widgets/controls",
          "model_name": "LabelModel",
          "model_module_version": "1.5.0",
          "state": {
            "_dom_classes": [],
            "_model_module": "@jupyter-widgets/controls",
            "_model_module_version": "1.5.0",
            "_model_name": "LabelModel",
            "_view_count": null,
            "_view_module": "@jupyter-widgets/controls",
            "_view_module_version": "1.5.0",
            "_view_name": "LabelView",
            "description": "",
            "description_tooltip": null,
            "layout": "IPY_MODEL_0f0addfa1a594922919474fe9c2ecb76",
            "placeholder": "​",
            "style": "IPY_MODEL_1b32dc8586af45e68c98cfdc0520af0d",
            "value": "0.009 MB of 0.009 MB uploaded (0.000 MB deduped)\r"
          }
        },
        "e3fa4ccd704e4726979a891339e3896a": {
          "model_module": "@jupyter-widgets/controls",
          "model_name": "FloatProgressModel",
          "model_module_version": "1.5.0",
          "state": {
            "_dom_classes": [],
            "_model_module": "@jupyter-widgets/controls",
            "_model_module_version": "1.5.0",
            "_model_name": "FloatProgressModel",
            "_view_count": null,
            "_view_module": "@jupyter-widgets/controls",
            "_view_module_version": "1.5.0",
            "_view_name": "ProgressView",
            "bar_style": "",
            "description": "",
            "description_tooltip": null,
            "layout": "IPY_MODEL_66a19150da0c42f9ba5828ee5ef36561",
            "max": 1,
            "min": 0,
            "orientation": "horizontal",
            "style": "IPY_MODEL_4f4029fd2c99450eb9e16f10c9d804ca",
            "value": 1
          }
        },
        "a0a352b297974c54a36415490ee3981e": {
          "model_module": "@jupyter-widgets/base",
          "model_name": "LayoutModel",
          "model_module_version": "1.2.0",
          "state": {
            "_model_module": "@jupyter-widgets/base",
            "_model_module_version": "1.2.0",
            "_model_name": "LayoutModel",
            "_view_count": null,
            "_view_module": "@jupyter-widgets/base",
            "_view_module_version": "1.2.0",
            "_view_name": "LayoutView",
            "align_content": null,
            "align_items": null,
            "align_self": null,
            "border": null,
            "bottom": null,
            "display": null,
            "flex": null,
            "flex_flow": null,
            "grid_area": null,
            "grid_auto_columns": null,
            "grid_auto_flow": null,
            "grid_auto_rows": null,
            "grid_column": null,
            "grid_gap": null,
            "grid_row": null,
            "grid_template_areas": null,
            "grid_template_columns": null,
            "grid_template_rows": null,
            "height": null,
            "justify_content": null,
            "justify_items": null,
            "left": null,
            "margin": null,
            "max_height": null,
            "max_width": null,
            "min_height": null,
            "min_width": null,
            "object_fit": null,
            "object_position": null,
            "order": null,
            "overflow": null,
            "overflow_x": null,
            "overflow_y": null,
            "padding": null,
            "right": null,
            "top": null,
            "visibility": null,
            "width": null
          }
        },
        "0f0addfa1a594922919474fe9c2ecb76": {
          "model_module": "@jupyter-widgets/base",
          "model_name": "LayoutModel",
          "model_module_version": "1.2.0",
          "state": {
            "_model_module": "@jupyter-widgets/base",
            "_model_module_version": "1.2.0",
            "_model_name": "LayoutModel",
            "_view_count": null,
            "_view_module": "@jupyter-widgets/base",
            "_view_module_version": "1.2.0",
            "_view_name": "LayoutView",
            "align_content": null,
            "align_items": null,
            "align_self": null,
            "border": null,
            "bottom": null,
            "display": null,
            "flex": null,
            "flex_flow": null,
            "grid_area": null,
            "grid_auto_columns": null,
            "grid_auto_flow": null,
            "grid_auto_rows": null,
            "grid_column": null,
            "grid_gap": null,
            "grid_row": null,
            "grid_template_areas": null,
            "grid_template_columns": null,
            "grid_template_rows": null,
            "height": null,
            "justify_content": null,
            "justify_items": null,
            "left": null,
            "margin": null,
            "max_height": null,
            "max_width": null,
            "min_height": null,
            "min_width": null,
            "object_fit": null,
            "object_position": null,
            "order": null,
            "overflow": null,
            "overflow_x": null,
            "overflow_y": null,
            "padding": null,
            "right": null,
            "top": null,
            "visibility": null,
            "width": null
          }
        },
        "1b32dc8586af45e68c98cfdc0520af0d": {
          "model_module": "@jupyter-widgets/controls",
          "model_name": "DescriptionStyleModel",
          "model_module_version": "1.5.0",
          "state": {
            "_model_module": "@jupyter-widgets/controls",
            "_model_module_version": "1.5.0",
            "_model_name": "DescriptionStyleModel",
            "_view_count": null,
            "_view_module": "@jupyter-widgets/base",
            "_view_module_version": "1.2.0",
            "_view_name": "StyleView",
            "description_width": ""
          }
        },
        "66a19150da0c42f9ba5828ee5ef36561": {
          "model_module": "@jupyter-widgets/base",
          "model_name": "LayoutModel",
          "model_module_version": "1.2.0",
          "state": {
            "_model_module": "@jupyter-widgets/base",
            "_model_module_version": "1.2.0",
            "_model_name": "LayoutModel",
            "_view_count": null,
            "_view_module": "@jupyter-widgets/base",
            "_view_module_version": "1.2.0",
            "_view_name": "LayoutView",
            "align_content": null,
            "align_items": null,
            "align_self": null,
            "border": null,
            "bottom": null,
            "display": null,
            "flex": null,
            "flex_flow": null,
            "grid_area": null,
            "grid_auto_columns": null,
            "grid_auto_flow": null,
            "grid_auto_rows": null,
            "grid_column": null,
            "grid_gap": null,
            "grid_row": null,
            "grid_template_areas": null,
            "grid_template_columns": null,
            "grid_template_rows": null,
            "height": null,
            "justify_content": null,
            "justify_items": null,
            "left": null,
            "margin": null,
            "max_height": null,
            "max_width": null,
            "min_height": null,
            "min_width": null,
            "object_fit": null,
            "object_position": null,
            "order": null,
            "overflow": null,
            "overflow_x": null,
            "overflow_y": null,
            "padding": null,
            "right": null,
            "top": null,
            "visibility": null,
            "width": null
          }
        },
        "4f4029fd2c99450eb9e16f10c9d804ca": {
          "model_module": "@jupyter-widgets/controls",
          "model_name": "ProgressStyleModel",
          "model_module_version": "1.5.0",
          "state": {
            "_model_module": "@jupyter-widgets/controls",
            "_model_module_version": "1.5.0",
            "_model_name": "ProgressStyleModel",
            "_view_count": null,
            "_view_module": "@jupyter-widgets/base",
            "_view_module_version": "1.2.0",
            "_view_name": "StyleView",
            "bar_color": null,
            "description_width": ""
          }
        },
        "50cc9da778d94d13a240c7ea7edb6fe4": {
          "model_module": "@jupyter-widgets/controls",
          "model_name": "VBoxModel",
          "model_module_version": "1.5.0",
          "state": {
            "_dom_classes": [],
            "_model_module": "@jupyter-widgets/controls",
            "_model_module_version": "1.5.0",
            "_model_name": "VBoxModel",
            "_view_count": null,
            "_view_module": "@jupyter-widgets/controls",
            "_view_module_version": "1.5.0",
            "_view_name": "VBoxView",
            "box_style": "",
            "children": [
              "IPY_MODEL_ab662f25ad8e4db29b0e22cd5ad509b4",
              "IPY_MODEL_bf6050ce33134171b4528cc8cc10604f"
            ],
            "layout": "IPY_MODEL_b0e0570f524c4808843a3a071418bf1f"
          }
        },
        "ab662f25ad8e4db29b0e22cd5ad509b4": {
          "model_module": "@jupyter-widgets/controls",
          "model_name": "LabelModel",
          "model_module_version": "1.5.0",
          "state": {
            "_dom_classes": [],
            "_model_module": "@jupyter-widgets/controls",
            "_model_module_version": "1.5.0",
            "_model_name": "LabelModel",
            "_view_count": null,
            "_view_module": "@jupyter-widgets/controls",
            "_view_module_version": "1.5.0",
            "_view_name": "LabelView",
            "description": "",
            "description_tooltip": null,
            "layout": "IPY_MODEL_f67010f952ad42e6be439643ce7211df",
            "placeholder": "​",
            "style": "IPY_MODEL_5a75c22ef4d64a78acd4ee6d05813006",
            "value": "103.136 MB of 103.136 MB uploaded (0.000 MB deduped)\r"
          }
        },
        "bf6050ce33134171b4528cc8cc10604f": {
          "model_module": "@jupyter-widgets/controls",
          "model_name": "FloatProgressModel",
          "model_module_version": "1.5.0",
          "state": {
            "_dom_classes": [],
            "_model_module": "@jupyter-widgets/controls",
            "_model_module_version": "1.5.0",
            "_model_name": "FloatProgressModel",
            "_view_count": null,
            "_view_module": "@jupyter-widgets/controls",
            "_view_module_version": "1.5.0",
            "_view_name": "ProgressView",
            "bar_style": "",
            "description": "",
            "description_tooltip": null,
            "layout": "IPY_MODEL_fbef27e0478a4dca8d66ee1a897225c4",
            "max": 1,
            "min": 0,
            "orientation": "horizontal",
            "style": "IPY_MODEL_6640f6dee48b424fa496fb78195de0e7",
            "value": 1
          }
        },
        "b0e0570f524c4808843a3a071418bf1f": {
          "model_module": "@jupyter-widgets/base",
          "model_name": "LayoutModel",
          "model_module_version": "1.2.0",
          "state": {
            "_model_module": "@jupyter-widgets/base",
            "_model_module_version": "1.2.0",
            "_model_name": "LayoutModel",
            "_view_count": null,
            "_view_module": "@jupyter-widgets/base",
            "_view_module_version": "1.2.0",
            "_view_name": "LayoutView",
            "align_content": null,
            "align_items": null,
            "align_self": null,
            "border": null,
            "bottom": null,
            "display": null,
            "flex": null,
            "flex_flow": null,
            "grid_area": null,
            "grid_auto_columns": null,
            "grid_auto_flow": null,
            "grid_auto_rows": null,
            "grid_column": null,
            "grid_gap": null,
            "grid_row": null,
            "grid_template_areas": null,
            "grid_template_columns": null,
            "grid_template_rows": null,
            "height": null,
            "justify_content": null,
            "justify_items": null,
            "left": null,
            "margin": null,
            "max_height": null,
            "max_width": null,
            "min_height": null,
            "min_width": null,
            "object_fit": null,
            "object_position": null,
            "order": null,
            "overflow": null,
            "overflow_x": null,
            "overflow_y": null,
            "padding": null,
            "right": null,
            "top": null,
            "visibility": null,
            "width": null
          }
        },
        "f67010f952ad42e6be439643ce7211df": {
          "model_module": "@jupyter-widgets/base",
          "model_name": "LayoutModel",
          "model_module_version": "1.2.0",
          "state": {
            "_model_module": "@jupyter-widgets/base",
            "_model_module_version": "1.2.0",
            "_model_name": "LayoutModel",
            "_view_count": null,
            "_view_module": "@jupyter-widgets/base",
            "_view_module_version": "1.2.0",
            "_view_name": "LayoutView",
            "align_content": null,
            "align_items": null,
            "align_self": null,
            "border": null,
            "bottom": null,
            "display": null,
            "flex": null,
            "flex_flow": null,
            "grid_area": null,
            "grid_auto_columns": null,
            "grid_auto_flow": null,
            "grid_auto_rows": null,
            "grid_column": null,
            "grid_gap": null,
            "grid_row": null,
            "grid_template_areas": null,
            "grid_template_columns": null,
            "grid_template_rows": null,
            "height": null,
            "justify_content": null,
            "justify_items": null,
            "left": null,
            "margin": null,
            "max_height": null,
            "max_width": null,
            "min_height": null,
            "min_width": null,
            "object_fit": null,
            "object_position": null,
            "order": null,
            "overflow": null,
            "overflow_x": null,
            "overflow_y": null,
            "padding": null,
            "right": null,
            "top": null,
            "visibility": null,
            "width": null
          }
        },
        "5a75c22ef4d64a78acd4ee6d05813006": {
          "model_module": "@jupyter-widgets/controls",
          "model_name": "DescriptionStyleModel",
          "model_module_version": "1.5.0",
          "state": {
            "_model_module": "@jupyter-widgets/controls",
            "_model_module_version": "1.5.0",
            "_model_name": "DescriptionStyleModel",
            "_view_count": null,
            "_view_module": "@jupyter-widgets/base",
            "_view_module_version": "1.2.0",
            "_view_name": "StyleView",
            "description_width": ""
          }
        },
        "fbef27e0478a4dca8d66ee1a897225c4": {
          "model_module": "@jupyter-widgets/base",
          "model_name": "LayoutModel",
          "model_module_version": "1.2.0",
          "state": {
            "_model_module": "@jupyter-widgets/base",
            "_model_module_version": "1.2.0",
            "_model_name": "LayoutModel",
            "_view_count": null,
            "_view_module": "@jupyter-widgets/base",
            "_view_module_version": "1.2.0",
            "_view_name": "LayoutView",
            "align_content": null,
            "align_items": null,
            "align_self": null,
            "border": null,
            "bottom": null,
            "display": null,
            "flex": null,
            "flex_flow": null,
            "grid_area": null,
            "grid_auto_columns": null,
            "grid_auto_flow": null,
            "grid_auto_rows": null,
            "grid_column": null,
            "grid_gap": null,
            "grid_row": null,
            "grid_template_areas": null,
            "grid_template_columns": null,
            "grid_template_rows": null,
            "height": null,
            "justify_content": null,
            "justify_items": null,
            "left": null,
            "margin": null,
            "max_height": null,
            "max_width": null,
            "min_height": null,
            "min_width": null,
            "object_fit": null,
            "object_position": null,
            "order": null,
            "overflow": null,
            "overflow_x": null,
            "overflow_y": null,
            "padding": null,
            "right": null,
            "top": null,
            "visibility": null,
            "width": null
          }
        },
        "6640f6dee48b424fa496fb78195de0e7": {
          "model_module": "@jupyter-widgets/controls",
          "model_name": "ProgressStyleModel",
          "model_module_version": "1.5.0",
          "state": {
            "_model_module": "@jupyter-widgets/controls",
            "_model_module_version": "1.5.0",
            "_model_name": "ProgressStyleModel",
            "_view_count": null,
            "_view_module": "@jupyter-widgets/base",
            "_view_module_version": "1.2.0",
            "_view_name": "StyleView",
            "bar_color": null,
            "description_width": ""
          }
        },
        "edf1987354084f318ed7179aa4f409c5": {
          "model_module": "@jupyter-widgets/controls",
          "model_name": "VBoxModel",
          "model_module_version": "1.5.0",
          "state": {
            "_dom_classes": [],
            "_model_module": "@jupyter-widgets/controls",
            "_model_module_version": "1.5.0",
            "_model_name": "VBoxModel",
            "_view_count": null,
            "_view_module": "@jupyter-widgets/controls",
            "_view_module_version": "1.5.0",
            "_view_name": "VBoxView",
            "box_style": "",
            "children": [
              "IPY_MODEL_87550284791c461faaacded5f8894e3a",
              "IPY_MODEL_de53e68ade6c44d1b6df43e74b77384a"
            ],
            "layout": "IPY_MODEL_0d586d3e0d034085b1ac47eefeda3450"
          }
        },
        "87550284791c461faaacded5f8894e3a": {
          "model_module": "@jupyter-widgets/controls",
          "model_name": "LabelModel",
          "model_module_version": "1.5.0",
          "state": {
            "_dom_classes": [],
            "_model_module": "@jupyter-widgets/controls",
            "_model_module_version": "1.5.0",
            "_model_name": "LabelModel",
            "_view_count": null,
            "_view_module": "@jupyter-widgets/controls",
            "_view_module_version": "1.5.0",
            "_view_name": "LabelView",
            "description": "",
            "description_tooltip": null,
            "layout": "IPY_MODEL_0c7a80bf491f4378b93ae1c104255c7f",
            "placeholder": "​",
            "style": "IPY_MODEL_6d2e617773e341fa9c99cd6ce9795d26",
            "value": "0.009 MB of 0.009 MB uploaded (0.000 MB deduped)\r"
          }
        },
        "de53e68ade6c44d1b6df43e74b77384a": {
          "model_module": "@jupyter-widgets/controls",
          "model_name": "FloatProgressModel",
          "model_module_version": "1.5.0",
          "state": {
            "_dom_classes": [],
            "_model_module": "@jupyter-widgets/controls",
            "_model_module_version": "1.5.0",
            "_model_name": "FloatProgressModel",
            "_view_count": null,
            "_view_module": "@jupyter-widgets/controls",
            "_view_module_version": "1.5.0",
            "_view_name": "ProgressView",
            "bar_style": "",
            "description": "",
            "description_tooltip": null,
            "layout": "IPY_MODEL_db6901b18afe4cf58850fa6622c14ec7",
            "max": 1,
            "min": 0,
            "orientation": "horizontal",
            "style": "IPY_MODEL_37b96aae4072463a922384c2cb875052",
            "value": 1
          }
        },
        "0d586d3e0d034085b1ac47eefeda3450": {
          "model_module": "@jupyter-widgets/base",
          "model_name": "LayoutModel",
          "model_module_version": "1.2.0",
          "state": {
            "_model_module": "@jupyter-widgets/base",
            "_model_module_version": "1.2.0",
            "_model_name": "LayoutModel",
            "_view_count": null,
            "_view_module": "@jupyter-widgets/base",
            "_view_module_version": "1.2.0",
            "_view_name": "LayoutView",
            "align_content": null,
            "align_items": null,
            "align_self": null,
            "border": null,
            "bottom": null,
            "display": null,
            "flex": null,
            "flex_flow": null,
            "grid_area": null,
            "grid_auto_columns": null,
            "grid_auto_flow": null,
            "grid_auto_rows": null,
            "grid_column": null,
            "grid_gap": null,
            "grid_row": null,
            "grid_template_areas": null,
            "grid_template_columns": null,
            "grid_template_rows": null,
            "height": null,
            "justify_content": null,
            "justify_items": null,
            "left": null,
            "margin": null,
            "max_height": null,
            "max_width": null,
            "min_height": null,
            "min_width": null,
            "object_fit": null,
            "object_position": null,
            "order": null,
            "overflow": null,
            "overflow_x": null,
            "overflow_y": null,
            "padding": null,
            "right": null,
            "top": null,
            "visibility": null,
            "width": null
          }
        },
        "0c7a80bf491f4378b93ae1c104255c7f": {
          "model_module": "@jupyter-widgets/base",
          "model_name": "LayoutModel",
          "model_module_version": "1.2.0",
          "state": {
            "_model_module": "@jupyter-widgets/base",
            "_model_module_version": "1.2.0",
            "_model_name": "LayoutModel",
            "_view_count": null,
            "_view_module": "@jupyter-widgets/base",
            "_view_module_version": "1.2.0",
            "_view_name": "LayoutView",
            "align_content": null,
            "align_items": null,
            "align_self": null,
            "border": null,
            "bottom": null,
            "display": null,
            "flex": null,
            "flex_flow": null,
            "grid_area": null,
            "grid_auto_columns": null,
            "grid_auto_flow": null,
            "grid_auto_rows": null,
            "grid_column": null,
            "grid_gap": null,
            "grid_row": null,
            "grid_template_areas": null,
            "grid_template_columns": null,
            "grid_template_rows": null,
            "height": null,
            "justify_content": null,
            "justify_items": null,
            "left": null,
            "margin": null,
            "max_height": null,
            "max_width": null,
            "min_height": null,
            "min_width": null,
            "object_fit": null,
            "object_position": null,
            "order": null,
            "overflow": null,
            "overflow_x": null,
            "overflow_y": null,
            "padding": null,
            "right": null,
            "top": null,
            "visibility": null,
            "width": null
          }
        },
        "6d2e617773e341fa9c99cd6ce9795d26": {
          "model_module": "@jupyter-widgets/controls",
          "model_name": "DescriptionStyleModel",
          "model_module_version": "1.5.0",
          "state": {
            "_model_module": "@jupyter-widgets/controls",
            "_model_module_version": "1.5.0",
            "_model_name": "DescriptionStyleModel",
            "_view_count": null,
            "_view_module": "@jupyter-widgets/base",
            "_view_module_version": "1.2.0",
            "_view_name": "StyleView",
            "description_width": ""
          }
        },
        "db6901b18afe4cf58850fa6622c14ec7": {
          "model_module": "@jupyter-widgets/base",
          "model_name": "LayoutModel",
          "model_module_version": "1.2.0",
          "state": {
            "_model_module": "@jupyter-widgets/base",
            "_model_module_version": "1.2.0",
            "_model_name": "LayoutModel",
            "_view_count": null,
            "_view_module": "@jupyter-widgets/base",
            "_view_module_version": "1.2.0",
            "_view_name": "LayoutView",
            "align_content": null,
            "align_items": null,
            "align_self": null,
            "border": null,
            "bottom": null,
            "display": null,
            "flex": null,
            "flex_flow": null,
            "grid_area": null,
            "grid_auto_columns": null,
            "grid_auto_flow": null,
            "grid_auto_rows": null,
            "grid_column": null,
            "grid_gap": null,
            "grid_row": null,
            "grid_template_areas": null,
            "grid_template_columns": null,
            "grid_template_rows": null,
            "height": null,
            "justify_content": null,
            "justify_items": null,
            "left": null,
            "margin": null,
            "max_height": null,
            "max_width": null,
            "min_height": null,
            "min_width": null,
            "object_fit": null,
            "object_position": null,
            "order": null,
            "overflow": null,
            "overflow_x": null,
            "overflow_y": null,
            "padding": null,
            "right": null,
            "top": null,
            "visibility": null,
            "width": null
          }
        },
        "37b96aae4072463a922384c2cb875052": {
          "model_module": "@jupyter-widgets/controls",
          "model_name": "ProgressStyleModel",
          "model_module_version": "1.5.0",
          "state": {
            "_model_module": "@jupyter-widgets/controls",
            "_model_module_version": "1.5.0",
            "_model_name": "ProgressStyleModel",
            "_view_count": null,
            "_view_module": "@jupyter-widgets/base",
            "_view_module_version": "1.2.0",
            "_view_name": "StyleView",
            "bar_color": null,
            "description_width": ""
          }
        },
        "83ac6a0c37f94604b1d8f45391346b89": {
          "model_module": "@jupyter-widgets/controls",
          "model_name": "VBoxModel",
          "model_module_version": "1.5.0",
          "state": {
            "_dom_classes": [],
            "_model_module": "@jupyter-widgets/controls",
            "_model_module_version": "1.5.0",
            "_model_name": "VBoxModel",
            "_view_count": null,
            "_view_module": "@jupyter-widgets/controls",
            "_view_module_version": "1.5.0",
            "_view_name": "VBoxView",
            "box_style": "",
            "children": [
              "IPY_MODEL_4288b447e0d949058806526a6445a4f4",
              "IPY_MODEL_54e828447aec4615aa877ab676b24c51"
            ],
            "layout": "IPY_MODEL_9265b80f27164e3da27daf05cba00066"
          }
        },
        "4288b447e0d949058806526a6445a4f4": {
          "model_module": "@jupyter-widgets/controls",
          "model_name": "LabelModel",
          "model_module_version": "1.5.0",
          "state": {
            "_dom_classes": [],
            "_model_module": "@jupyter-widgets/controls",
            "_model_module_version": "1.5.0",
            "_model_name": "LabelModel",
            "_view_count": null,
            "_view_module": "@jupyter-widgets/controls",
            "_view_module_version": "1.5.0",
            "_view_name": "LabelView",
            "description": "",
            "description_tooltip": null,
            "layout": "IPY_MODEL_04f07ac3551c47e5bc3209faaeca2f81",
            "placeholder": "​",
            "style": "IPY_MODEL_f3e4bf14ad0a4f12bca70e4d12dc880b",
            "value": "103.162 MB of 103.162 MB uploaded (0.000 MB deduped)\r"
          }
        },
        "54e828447aec4615aa877ab676b24c51": {
          "model_module": "@jupyter-widgets/controls",
          "model_name": "FloatProgressModel",
          "model_module_version": "1.5.0",
          "state": {
            "_dom_classes": [],
            "_model_module": "@jupyter-widgets/controls",
            "_model_module_version": "1.5.0",
            "_model_name": "FloatProgressModel",
            "_view_count": null,
            "_view_module": "@jupyter-widgets/controls",
            "_view_module_version": "1.5.0",
            "_view_name": "ProgressView",
            "bar_style": "",
            "description": "",
            "description_tooltip": null,
            "layout": "IPY_MODEL_531c176759f0484b866194245f092ab9",
            "max": 1,
            "min": 0,
            "orientation": "horizontal",
            "style": "IPY_MODEL_4a1b94aea11046faa96e62f64ac60fb9",
            "value": 1
          }
        },
        "9265b80f27164e3da27daf05cba00066": {
          "model_module": "@jupyter-widgets/base",
          "model_name": "LayoutModel",
          "model_module_version": "1.2.0",
          "state": {
            "_model_module": "@jupyter-widgets/base",
            "_model_module_version": "1.2.0",
            "_model_name": "LayoutModel",
            "_view_count": null,
            "_view_module": "@jupyter-widgets/base",
            "_view_module_version": "1.2.0",
            "_view_name": "LayoutView",
            "align_content": null,
            "align_items": null,
            "align_self": null,
            "border": null,
            "bottom": null,
            "display": null,
            "flex": null,
            "flex_flow": null,
            "grid_area": null,
            "grid_auto_columns": null,
            "grid_auto_flow": null,
            "grid_auto_rows": null,
            "grid_column": null,
            "grid_gap": null,
            "grid_row": null,
            "grid_template_areas": null,
            "grid_template_columns": null,
            "grid_template_rows": null,
            "height": null,
            "justify_content": null,
            "justify_items": null,
            "left": null,
            "margin": null,
            "max_height": null,
            "max_width": null,
            "min_height": null,
            "min_width": null,
            "object_fit": null,
            "object_position": null,
            "order": null,
            "overflow": null,
            "overflow_x": null,
            "overflow_y": null,
            "padding": null,
            "right": null,
            "top": null,
            "visibility": null,
            "width": null
          }
        },
        "04f07ac3551c47e5bc3209faaeca2f81": {
          "model_module": "@jupyter-widgets/base",
          "model_name": "LayoutModel",
          "model_module_version": "1.2.0",
          "state": {
            "_model_module": "@jupyter-widgets/base",
            "_model_module_version": "1.2.0",
            "_model_name": "LayoutModel",
            "_view_count": null,
            "_view_module": "@jupyter-widgets/base",
            "_view_module_version": "1.2.0",
            "_view_name": "LayoutView",
            "align_content": null,
            "align_items": null,
            "align_self": null,
            "border": null,
            "bottom": null,
            "display": null,
            "flex": null,
            "flex_flow": null,
            "grid_area": null,
            "grid_auto_columns": null,
            "grid_auto_flow": null,
            "grid_auto_rows": null,
            "grid_column": null,
            "grid_gap": null,
            "grid_row": null,
            "grid_template_areas": null,
            "grid_template_columns": null,
            "grid_template_rows": null,
            "height": null,
            "justify_content": null,
            "justify_items": null,
            "left": null,
            "margin": null,
            "max_height": null,
            "max_width": null,
            "min_height": null,
            "min_width": null,
            "object_fit": null,
            "object_position": null,
            "order": null,
            "overflow": null,
            "overflow_x": null,
            "overflow_y": null,
            "padding": null,
            "right": null,
            "top": null,
            "visibility": null,
            "width": null
          }
        },
        "f3e4bf14ad0a4f12bca70e4d12dc880b": {
          "model_module": "@jupyter-widgets/controls",
          "model_name": "DescriptionStyleModel",
          "model_module_version": "1.5.0",
          "state": {
            "_model_module": "@jupyter-widgets/controls",
            "_model_module_version": "1.5.0",
            "_model_name": "DescriptionStyleModel",
            "_view_count": null,
            "_view_module": "@jupyter-widgets/base",
            "_view_module_version": "1.2.0",
            "_view_name": "StyleView",
            "description_width": ""
          }
        },
        "531c176759f0484b866194245f092ab9": {
          "model_module": "@jupyter-widgets/base",
          "model_name": "LayoutModel",
          "model_module_version": "1.2.0",
          "state": {
            "_model_module": "@jupyter-widgets/base",
            "_model_module_version": "1.2.0",
            "_model_name": "LayoutModel",
            "_view_count": null,
            "_view_module": "@jupyter-widgets/base",
            "_view_module_version": "1.2.0",
            "_view_name": "LayoutView",
            "align_content": null,
            "align_items": null,
            "align_self": null,
            "border": null,
            "bottom": null,
            "display": null,
            "flex": null,
            "flex_flow": null,
            "grid_area": null,
            "grid_auto_columns": null,
            "grid_auto_flow": null,
            "grid_auto_rows": null,
            "grid_column": null,
            "grid_gap": null,
            "grid_row": null,
            "grid_template_areas": null,
            "grid_template_columns": null,
            "grid_template_rows": null,
            "height": null,
            "justify_content": null,
            "justify_items": null,
            "left": null,
            "margin": null,
            "max_height": null,
            "max_width": null,
            "min_height": null,
            "min_width": null,
            "object_fit": null,
            "object_position": null,
            "order": null,
            "overflow": null,
            "overflow_x": null,
            "overflow_y": null,
            "padding": null,
            "right": null,
            "top": null,
            "visibility": null,
            "width": null
          }
        },
        "4a1b94aea11046faa96e62f64ac60fb9": {
          "model_module": "@jupyter-widgets/controls",
          "model_name": "ProgressStyleModel",
          "model_module_version": "1.5.0",
          "state": {
            "_model_module": "@jupyter-widgets/controls",
            "_model_module_version": "1.5.0",
            "_model_name": "ProgressStyleModel",
            "_view_count": null,
            "_view_module": "@jupyter-widgets/base",
            "_view_module_version": "1.2.0",
            "_view_name": "StyleView",
            "bar_color": null,
            "description_width": ""
          }
        },
        "5dcfb7e6344f4874811e48ab627d7a73": {
          "model_module": "@jupyter-widgets/controls",
          "model_name": "VBoxModel",
          "model_module_version": "1.5.0",
          "state": {
            "_dom_classes": [],
            "_model_module": "@jupyter-widgets/controls",
            "_model_module_version": "1.5.0",
            "_model_name": "VBoxModel",
            "_view_count": null,
            "_view_module": "@jupyter-widgets/controls",
            "_view_module_version": "1.5.0",
            "_view_name": "VBoxView",
            "box_style": "",
            "children": [
              "IPY_MODEL_09fba82223394cc5906f8da37f1dd1d6",
              "IPY_MODEL_7e538f03f1264cc18ed19ca28a6e85e1"
            ],
            "layout": "IPY_MODEL_5b32d84cd68c40709c8802abb355f65b"
          }
        },
        "09fba82223394cc5906f8da37f1dd1d6": {
          "model_module": "@jupyter-widgets/controls",
          "model_name": "LabelModel",
          "model_module_version": "1.5.0",
          "state": {
            "_dom_classes": [],
            "_model_module": "@jupyter-widgets/controls",
            "_model_module_version": "1.5.0",
            "_model_name": "LabelModel",
            "_view_count": null,
            "_view_module": "@jupyter-widgets/controls",
            "_view_module_version": "1.5.0",
            "_view_name": "LabelView",
            "description": "",
            "description_tooltip": null,
            "layout": "IPY_MODEL_837386fa289b42f890a65a338f28e7a9",
            "placeholder": "​",
            "style": "IPY_MODEL_4078a68ce3eb46c093ff0ef78cd50e8d",
            "value": "0.009 MB of 0.009 MB uploaded (0.000 MB deduped)\r"
          }
        },
        "7e538f03f1264cc18ed19ca28a6e85e1": {
          "model_module": "@jupyter-widgets/controls",
          "model_name": "FloatProgressModel",
          "model_module_version": "1.5.0",
          "state": {
            "_dom_classes": [],
            "_model_module": "@jupyter-widgets/controls",
            "_model_module_version": "1.5.0",
            "_model_name": "FloatProgressModel",
            "_view_count": null,
            "_view_module": "@jupyter-widgets/controls",
            "_view_module_version": "1.5.0",
            "_view_name": "ProgressView",
            "bar_style": "",
            "description": "",
            "description_tooltip": null,
            "layout": "IPY_MODEL_d03bd31250ab4f11a56a68e97b73927f",
            "max": 1,
            "min": 0,
            "orientation": "horizontal",
            "style": "IPY_MODEL_64e6ce84d9994a8e8601514958278a44",
            "value": 1
          }
        },
        "5b32d84cd68c40709c8802abb355f65b": {
          "model_module": "@jupyter-widgets/base",
          "model_name": "LayoutModel",
          "model_module_version": "1.2.0",
          "state": {
            "_model_module": "@jupyter-widgets/base",
            "_model_module_version": "1.2.0",
            "_model_name": "LayoutModel",
            "_view_count": null,
            "_view_module": "@jupyter-widgets/base",
            "_view_module_version": "1.2.0",
            "_view_name": "LayoutView",
            "align_content": null,
            "align_items": null,
            "align_self": null,
            "border": null,
            "bottom": null,
            "display": null,
            "flex": null,
            "flex_flow": null,
            "grid_area": null,
            "grid_auto_columns": null,
            "grid_auto_flow": null,
            "grid_auto_rows": null,
            "grid_column": null,
            "grid_gap": null,
            "grid_row": null,
            "grid_template_areas": null,
            "grid_template_columns": null,
            "grid_template_rows": null,
            "height": null,
            "justify_content": null,
            "justify_items": null,
            "left": null,
            "margin": null,
            "max_height": null,
            "max_width": null,
            "min_height": null,
            "min_width": null,
            "object_fit": null,
            "object_position": null,
            "order": null,
            "overflow": null,
            "overflow_x": null,
            "overflow_y": null,
            "padding": null,
            "right": null,
            "top": null,
            "visibility": null,
            "width": null
          }
        },
        "837386fa289b42f890a65a338f28e7a9": {
          "model_module": "@jupyter-widgets/base",
          "model_name": "LayoutModel",
          "model_module_version": "1.2.0",
          "state": {
            "_model_module": "@jupyter-widgets/base",
            "_model_module_version": "1.2.0",
            "_model_name": "LayoutModel",
            "_view_count": null,
            "_view_module": "@jupyter-widgets/base",
            "_view_module_version": "1.2.0",
            "_view_name": "LayoutView",
            "align_content": null,
            "align_items": null,
            "align_self": null,
            "border": null,
            "bottom": null,
            "display": null,
            "flex": null,
            "flex_flow": null,
            "grid_area": null,
            "grid_auto_columns": null,
            "grid_auto_flow": null,
            "grid_auto_rows": null,
            "grid_column": null,
            "grid_gap": null,
            "grid_row": null,
            "grid_template_areas": null,
            "grid_template_columns": null,
            "grid_template_rows": null,
            "height": null,
            "justify_content": null,
            "justify_items": null,
            "left": null,
            "margin": null,
            "max_height": null,
            "max_width": null,
            "min_height": null,
            "min_width": null,
            "object_fit": null,
            "object_position": null,
            "order": null,
            "overflow": null,
            "overflow_x": null,
            "overflow_y": null,
            "padding": null,
            "right": null,
            "top": null,
            "visibility": null,
            "width": null
          }
        },
        "4078a68ce3eb46c093ff0ef78cd50e8d": {
          "model_module": "@jupyter-widgets/controls",
          "model_name": "DescriptionStyleModel",
          "model_module_version": "1.5.0",
          "state": {
            "_model_module": "@jupyter-widgets/controls",
            "_model_module_version": "1.5.0",
            "_model_name": "DescriptionStyleModel",
            "_view_count": null,
            "_view_module": "@jupyter-widgets/base",
            "_view_module_version": "1.2.0",
            "_view_name": "StyleView",
            "description_width": ""
          }
        },
        "d03bd31250ab4f11a56a68e97b73927f": {
          "model_module": "@jupyter-widgets/base",
          "model_name": "LayoutModel",
          "model_module_version": "1.2.0",
          "state": {
            "_model_module": "@jupyter-widgets/base",
            "_model_module_version": "1.2.0",
            "_model_name": "LayoutModel",
            "_view_count": null,
            "_view_module": "@jupyter-widgets/base",
            "_view_module_version": "1.2.0",
            "_view_name": "LayoutView",
            "align_content": null,
            "align_items": null,
            "align_self": null,
            "border": null,
            "bottom": null,
            "display": null,
            "flex": null,
            "flex_flow": null,
            "grid_area": null,
            "grid_auto_columns": null,
            "grid_auto_flow": null,
            "grid_auto_rows": null,
            "grid_column": null,
            "grid_gap": null,
            "grid_row": null,
            "grid_template_areas": null,
            "grid_template_columns": null,
            "grid_template_rows": null,
            "height": null,
            "justify_content": null,
            "justify_items": null,
            "left": null,
            "margin": null,
            "max_height": null,
            "max_width": null,
            "min_height": null,
            "min_width": null,
            "object_fit": null,
            "object_position": null,
            "order": null,
            "overflow": null,
            "overflow_x": null,
            "overflow_y": null,
            "padding": null,
            "right": null,
            "top": null,
            "visibility": null,
            "width": null
          }
        },
        "64e6ce84d9994a8e8601514958278a44": {
          "model_module": "@jupyter-widgets/controls",
          "model_name": "ProgressStyleModel",
          "model_module_version": "1.5.0",
          "state": {
            "_model_module": "@jupyter-widgets/controls",
            "_model_module_version": "1.5.0",
            "_model_name": "ProgressStyleModel",
            "_view_count": null,
            "_view_module": "@jupyter-widgets/base",
            "_view_module_version": "1.2.0",
            "_view_name": "StyleView",
            "bar_color": null,
            "description_width": ""
          }
        }
      }
    }
  },
  "cells": [
    {
      "cell_type": "markdown",
      "metadata": {
        "id": "view-in-github",
        "colab_type": "text"
      },
      "source": [
        "<a href=\"https://colab.research.google.com/github/HegdeSiddesh/cs6910_Assignment2/blob/main/Part%20B/Part_B.ipynb\" target=\"_parent\"><img src=\"https://colab.research.google.com/assets/colab-badge.svg\" alt=\"Open In Colab\"/></a>"
      ]
    },
    {
      "cell_type": "markdown",
      "source": [
        "#Part B : Fine-tuning a pre-trained model\n",
        "\n"
      ],
      "metadata": {
        "id": "DSI5T3dEVtoO"
      }
    },
    {
      "cell_type": "markdown",
      "source": [
        "### Import required packages"
      ],
      "metadata": {
        "id": "w9orOezcSkAH"
      }
    },
    {
      "cell_type": "code",
      "execution_count": null,
      "metadata": {
        "id": "ZijUCAyFx5_s",
        "colab": {
          "base_uri": "https://localhost:8080/"
        },
        "outputId": "21687cf8-c18d-41fa-9632-48bb785e4b38"
      },
      "outputs": [
        {
          "output_type": "stream",
          "name": "stdout",
          "text": [
            "Requirement already satisfied: wandb in /usr/local/lib/python3.7/dist-packages (0.12.11)\n",
            "Requirement already satisfied: shortuuid>=0.5.0 in /usr/local/lib/python3.7/dist-packages (from wandb) (1.0.8)\n",
            "Requirement already satisfied: python-dateutil>=2.6.1 in /usr/local/lib/python3.7/dist-packages (from wandb) (2.8.2)\n",
            "Requirement already satisfied: docker-pycreds>=0.4.0 in /usr/local/lib/python3.7/dist-packages (from wandb) (0.4.0)\n",
            "Requirement already satisfied: promise<3,>=2.0 in /usr/local/lib/python3.7/dist-packages (from wandb) (2.3)\n",
            "Requirement already satisfied: pathtools in /usr/local/lib/python3.7/dist-packages (from wandb) (0.1.2)\n",
            "Requirement already satisfied: psutil>=5.0.0 in /usr/local/lib/python3.7/dist-packages (from wandb) (5.4.8)\n",
            "Requirement already satisfied: sentry-sdk>=1.0.0 in /usr/local/lib/python3.7/dist-packages (from wandb) (1.5.8)\n",
            "Requirement already satisfied: setproctitle in /usr/local/lib/python3.7/dist-packages (from wandb) (1.2.2)\n",
            "Requirement already satisfied: yaspin>=1.0.0 in /usr/local/lib/python3.7/dist-packages (from wandb) (2.1.0)\n",
            "Requirement already satisfied: PyYAML in /usr/local/lib/python3.7/dist-packages (from wandb) (3.13)\n",
            "Requirement already satisfied: protobuf>=3.12.0 in /usr/local/lib/python3.7/dist-packages (from wandb) (3.17.3)\n",
            "Requirement already satisfied: requests<3,>=2.0.0 in /usr/local/lib/python3.7/dist-packages (from wandb) (2.23.0)\n",
            "Requirement already satisfied: Click!=8.0.0,>=7.0 in /usr/local/lib/python3.7/dist-packages (from wandb) (7.1.2)\n",
            "Requirement already satisfied: six>=1.13.0 in /usr/local/lib/python3.7/dist-packages (from wandb) (1.15.0)\n",
            "Requirement already satisfied: GitPython>=1.0.0 in /usr/local/lib/python3.7/dist-packages (from wandb) (3.1.27)\n",
            "Requirement already satisfied: typing-extensions>=3.7.4.3 in /usr/local/lib/python3.7/dist-packages (from GitPython>=1.0.0->wandb) (3.10.0.2)\n",
            "Requirement already satisfied: gitdb<5,>=4.0.1 in /usr/local/lib/python3.7/dist-packages (from GitPython>=1.0.0->wandb) (4.0.9)\n",
            "Requirement already satisfied: smmap<6,>=3.0.1 in /usr/local/lib/python3.7/dist-packages (from gitdb<5,>=4.0.1->GitPython>=1.0.0->wandb) (5.0.0)\n",
            "Requirement already satisfied: chardet<4,>=3.0.2 in /usr/local/lib/python3.7/dist-packages (from requests<3,>=2.0.0->wandb) (3.0.4)\n",
            "Requirement already satisfied: certifi>=2017.4.17 in /usr/local/lib/python3.7/dist-packages (from requests<3,>=2.0.0->wandb) (2021.10.8)\n",
            "Requirement already satisfied: urllib3!=1.25.0,!=1.25.1,<1.26,>=1.21.1 in /usr/local/lib/python3.7/dist-packages (from requests<3,>=2.0.0->wandb) (1.24.3)\n",
            "Requirement already satisfied: idna<3,>=2.5 in /usr/local/lib/python3.7/dist-packages (from requests<3,>=2.0.0->wandb) (2.10)\n",
            "Requirement already satisfied: termcolor<2.0.0,>=1.1.0 in /usr/local/lib/python3.7/dist-packages (from yaspin>=1.0.0->wandb) (1.1.0)\n"
          ]
        }
      ],
      "source": [
        "import matplotlib.pyplot as plt \n",
        "import pandas as pd\n",
        "import numpy as np\n",
        "import random\n",
        "np.random.seed(137) # To ensure that the random number generated are the same for every iteration\n",
        "import warnings\n",
        "#warnings.filterwarnings(\"ignore\")\n",
        "!pip install --upgrade wandb\n",
        "import wandb\n",
        "import tensorflow as tf\n",
        "from tensorflow import keras\n",
        "from keras import datasets, layers, models\n",
        "from keras.models import Sequential\n",
        "from keras_preprocessing.image import ImageDataGenerator\n",
        "import os\n",
        "from keras.datasets import fashion_mnist\n",
        "from keras.layers.convolutional import Conv2D\n",
        "from keras.layers import Dense, Flatten, InputLayer\n",
        "from keras.layers.convolutional import MaxPooling2D\n",
        "from keras.layers import Activation\n",
        "from wandb.keras import WandbCallback\n",
        "from google.colab.patches import cv2_imshow\n",
        "from keras.callbacks import EarlyStopping\n",
        "tf.random.set_seed(137)"
      ]
    },
    {
      "cell_type": "code",
      "execution_count": null,
      "metadata": {
        "id": "wDIk96MJvcIw",
        "colab": {
          "base_uri": "https://localhost:8080/"
        },
        "outputId": "7cb20202-f3cc-4ac1-e2fb-98e26272b3b4"
      },
      "outputs": [
        {
          "output_type": "stream",
          "name": "stderr",
          "text": [
            "\u001b[34m\u001b[1mwandb\u001b[0m: Currently logged in as: \u001b[33mhithesh-sidhesh\u001b[0m (use `wandb login --relogin` to force relogin)\n"
          ]
        },
        {
          "output_type": "execute_result",
          "data": {
            "text/plain": [
              "True"
            ]
          },
          "metadata": {},
          "execution_count": 2
        }
      ],
      "source": [
        "wandb.login()"
      ]
    },
    {
      "cell_type": "code",
      "source": [
        "#Download and unzip the iNaturalist dataset\n",
        "!wget https://storage.googleapis.com/wandb_datasets/nature_12K.zip\n",
        "!unzip -q /content/nature_12K.zip"
      ],
      "metadata": {
        "id": "uE9tJ8y82FAg",
        "colab": {
          "base_uri": "https://localhost:8080/"
        },
        "outputId": "04f40a6d-51b9-478d-ac4b-f7e2f6209c09"
      },
      "execution_count": null,
      "outputs": [
        {
          "output_type": "stream",
          "name": "stdout",
          "text": [
            "--2022-03-30 20:32:38--  https://storage.googleapis.com/wandb_datasets/nature_12K.zip\n",
            "Resolving storage.googleapis.com (storage.googleapis.com)... 142.250.157.128, 142.251.8.128, 108.177.125.128, ...\n",
            "Connecting to storage.googleapis.com (storage.googleapis.com)|142.250.157.128|:443... connected.\n",
            "HTTP request sent, awaiting response... 200 OK\n",
            "Length: 3816687935 (3.6G) [application/zip]\n",
            "Saving to: ‘nature_12K.zip.1’\n",
            "\n",
            "nature_12K.zip.1      8%[>                   ] 293.35M   203MB/s               ^C\n",
            "replace inaturalist_12K/.DS_Store? [y]es, [n]o, [A]ll, [N]one, [r]ename: N\n"
          ]
        }
      ]
    },
    {
      "cell_type": "code",
      "source": [
        "#GPU\n",
        "gpu_info = !nvidia-smi\n",
        "gpu_info = '\\n'.join(gpu_info)\n",
        "if gpu_info.find('failed') >= 0:\n",
        "  print('Select the Runtime > \"Change runtime type\" menu to enable a GPU accelerator, ')\n",
        "  print('and then re-execute this cell.')\n",
        "else:\n",
        "  print(gpu_info)"
      ],
      "metadata": {
        "id": "Zoo_r2_XsELT",
        "colab": {
          "base_uri": "https://localhost:8080/"
        },
        "outputId": "f6b8af1e-53d5-4d42-a07a-8eddd1cb5d6f"
      },
      "execution_count": null,
      "outputs": [
        {
          "output_type": "stream",
          "name": "stdout",
          "text": [
            "Wed Mar 30 20:32:46 2022       \n",
            "+-----------------------------------------------------------------------------+\n",
            "| NVIDIA-SMI 460.32.03    Driver Version: 460.32.03    CUDA Version: 11.2     |\n",
            "|-------------------------------+----------------------+----------------------+\n",
            "| GPU  Name        Persistence-M| Bus-Id        Disp.A | Volatile Uncorr. ECC |\n",
            "| Fan  Temp  Perf  Pwr:Usage/Cap|         Memory-Usage | GPU-Util  Compute M. |\n",
            "|                               |                      |               MIG M. |\n",
            "|===============================+======================+======================|\n",
            "|   0  Tesla P100-PCIE...  Off  | 00000000:00:04.0 Off |                    0 |\n",
            "| N/A   36C    P0    28W / 250W |      0MiB / 16280MiB |      0%      Default |\n",
            "|                               |                      |                  N/A |\n",
            "+-------------------------------+----------------------+----------------------+\n",
            "                                                                               \n",
            "+-----------------------------------------------------------------------------+\n",
            "| Processes:                                                                  |\n",
            "|  GPU   GI   CI        PID   Type   Process name                  GPU Memory |\n",
            "|        ID   ID                                                   Usage      |\n",
            "|=============================================================================|\n",
            "|  No running processes found                                                 |\n",
            "+-----------------------------------------------------------------------------+\n"
          ]
        }
      ]
    },
    {
      "cell_type": "code",
      "source": [
        "from psutil import virtual_memory\n",
        "ram_gb = virtual_memory().total / 1e9\n",
        "print('Your runtime has {:.1f} gigabytes of available RAM\\n'.format(ram_gb))\n",
        "\n",
        "if ram_gb < 20:\n",
        "  print('To enable a high-RAM runtime, select the Runtime > \"Change runtime type\"')\n",
        "  print('menu, and then select High-RAM in the Runtime shape dropdown. Then, ')\n",
        "  print('re-execute this cell.')\n",
        "else:\n",
        "  print('You are using a high-RAM runtime!')"
      ],
      "metadata": {
        "id": "1J0VAy5isLQz",
        "colab": {
          "base_uri": "https://localhost:8080/"
        },
        "outputId": "e10f0f08-df5e-424e-c101-2849470cf260"
      },
      "execution_count": null,
      "outputs": [
        {
          "output_type": "stream",
          "name": "stdout",
          "text": [
            "Your runtime has 27.3 gigabytes of available RAM\n",
            "\n",
            "You are using a high-RAM runtime!\n"
          ]
        }
      ]
    },
    {
      "cell_type": "code",
      "source": [
        "wandb.init(project=\"Assignment_2\", entity=\"hithesh-sidhesh\", name=\"Part_B\")"
      ],
      "metadata": {
        "id": "JapS9yHc8lzz",
        "colab": {
          "base_uri": "https://localhost:8080/",
          "height": 91
        },
        "outputId": "91ad560c-8b20-4b9b-c8d5-06b74fb728f7"
      },
      "execution_count": null,
      "outputs": [
        {
          "output_type": "display_data",
          "data": {
            "text/plain": [
              "<IPython.core.display.HTML object>"
            ],
            "text/html": [
              "Tracking run with wandb version 0.12.11"
            ]
          },
          "metadata": {}
        },
        {
          "output_type": "display_data",
          "data": {
            "text/plain": [
              "<IPython.core.display.HTML object>"
            ],
            "text/html": [
              "Run data is saved locally in <code>/content/wandb/run-20220330_203246-3dq03oax</code>"
            ]
          },
          "metadata": {}
        },
        {
          "output_type": "display_data",
          "data": {
            "text/plain": [
              "<IPython.core.display.HTML object>"
            ],
            "text/html": [
              "Syncing run <strong><a href=\"https://wandb.ai/hithesh-sidhesh/Assignment_2/runs/3dq03oax\" target=\"_blank\">Part_B</a></strong> to <a href=\"https://wandb.ai/hithesh-sidhesh/Assignment_2\" target=\"_blank\">Weights & Biases</a> (<a href=\"https://wandb.me/run\" target=\"_blank\">docs</a>)<br/>"
            ]
          },
          "metadata": {}
        },
        {
          "output_type": "execute_result",
          "data": {
            "text/html": [
              "<button onClick=\"this.nextSibling.style.display='block';this.style.display='none';\">Display W&B run</button><iframe src=\"https://wandb.ai/hithesh-sidhesh/Assignment_2/runs/3dq03oax?jupyter=true\" style=\"border:none;width:100%;height:420px;display:none;\"></iframe>"
            ],
            "text/plain": [
              "<wandb.sdk.wandb_run.Run at 0x7f115ab98110>"
            ]
          },
          "metadata": {},
          "execution_count": 6
        }
      ]
    },
    {
      "cell_type": "code",
      "source": [
        "#To find the shape of the image\n",
        "os.chdir(\"/content/inaturalist_12K/train/Amphibia\")\n",
        "img=plt.imread(\"0012ec13b97dfbfb3dd5de8c3da95555.jpg\")\n",
        "print(img.shape)\n",
        "print(\"The image consists of %i pixels\" % (img.shape[0] * img.shape[1]))\n",
        "plt.imshow(img);"
      ],
      "metadata": {
        "id": "Xtmfzkmu0hJA",
        "colab": {
          "base_uri": "https://localhost:8080/",
          "height": 303
        },
        "outputId": "cb2154fe-0e07-4670-e936-6b8ff27ed3fd"
      },
      "execution_count": null,
      "outputs": [
        {
          "output_type": "stream",
          "name": "stdout",
          "text": [
            "(600, 800, 3)\n",
            "The image consists of 480000 pixels\n"
          ]
        },
        {
          "output_type": "display_data",
          "data": {
            "text/plain": [
              "<Figure size 432x288 with 1 Axes>"
            ],
            "image/png": "[encoded data removed]"
          },
          "metadata": {
            "needs_background": "light"
          }
        }
      ]
    },
    {
      "cell_type": "code",
      "source": [
        "def datagen(augment_data):\n",
        "\n",
        "  ##################################################Initialize data generation pipeling ########################################################\n",
        "  #Splitting training data into train and validation sets\n",
        "\n",
        "  train_datagen = tf.keras.preprocessing.image.ImageDataGenerator(rescale=1/255,validation_split=0.1)\n",
        "  IMG_SIZE = (128,128)\n",
        "  batch_size = 32\n",
        "  if augment_data==True:  \n",
        "    train_datagen = tf.keras.preprocessing.image.ImageDataGenerator(rescale=1/255,rotation_range=90, zoom_range=0.2, shear_range=0.2, horizontal_flip=True,validation_split=0.1)\n",
        "\n",
        "  else:\n",
        "    train_datagen = tf.keras.preprocessing.image.ImageDataGenerator(rescale=1/255,validation_split=0.1)\n",
        "\n",
        "  \n",
        "  train_gen = train_datagen.flow_from_directory(\n",
        "          '/content/inaturalist_12K/train',\n",
        "          target_size=IMG_SIZE,\n",
        "          subset = 'training',\n",
        "              batch_size=batch_size,\n",
        "              class_mode='categorical',\n",
        "              shuffle = True,\n",
        "          seed = 137)\n",
        "  print('TRAINING')\n",
        "  print('Number of samples', train_gen.samples)\n",
        "  print('Names of classes', train_gen.class_indices)\n",
        "  print('Number of classes', len(train_gen.class_indices))\n",
        "  print('Number of samples per class', int(train_gen.samples / len(train_gen.class_indices) ))\n",
        "\n",
        "  validation_gen = train_datagen.flow_from_directory(\n",
        "          '/content/inaturalist_12K/train',\n",
        "          target_size=IMG_SIZE,\n",
        "              subset = 'validation',\n",
        "              batch_size=batch_size,\n",
        "              class_mode='categorical',\n",
        "              shuffle = False,\n",
        "          seed = 137)\n",
        "  print('VALIDATION')\n",
        "  print('Number of samples', validation_gen.samples)\n",
        "  print('Names of classes', validation_gen.class_indices)\n",
        "  print('Number of classes', len(validation_gen.class_indices))\n",
        "  print('Number of samples per class', int(validation_gen.samples / len(validation_gen.class_indices) ))\n",
        "\n",
        "  train_generator = tf.data.Dataset.from_generator(\n",
        "    lambda: train_gen,\n",
        "    output_types = (tf.float32, tf.float32)\n",
        "    ,output_shapes = ([None, 128, 128, 3], [None, 10]),\n",
        "  )\n",
        "  #train_generator = train_generator.shuffle(buffer_size=1000)\n",
        "  #train_generator = train_generator.batch(32)\n",
        "  train_generator = train_generator.repeat()\n",
        "  train_generator = train_generator.prefetch(buffer_size=tf.data.experimental.AUTOTUNE)\n",
        "\n",
        "  validation_generator = tf.data.Dataset.from_generator(\n",
        "      lambda: validation_gen,\n",
        "      output_types = (tf.float32, tf.float32)\n",
        "      ,output_shapes = ([None, 128, 128, 3], [None, 10]),\n",
        "  )\n",
        "  #validation_generator = validation_generator.shuffle(buffer_size=1000)\n",
        "  #validation_generator = validation_generator.batch(32)\n",
        "  validation_generator = validation_generator.repeat()\n",
        "  validation_generator = validation_generator.prefetch(buffer_size=tf.data.experimental.AUTOTUNE)\n",
        "\n",
        "  ##########################Prepare test data###########################################\n",
        "  IMG_SIZE = (128,128)\n",
        "\n",
        "  test_datagen = tf.keras.preprocessing.image.ImageDataGenerator(rescale=1./255)\n",
        "  test_gen = test_datagen.flow_from_directory(\n",
        "          '/content/inaturalist_12K/val',\n",
        "          target_size=IMG_SIZE,\n",
        "              batch_size=32,\n",
        "              class_mode='categorical',\n",
        "              shuffle = False,\n",
        "          seed = 137)\n",
        "  test_generator = tf.data.Dataset.from_generator(\n",
        "      lambda: test_gen,\n",
        "      output_types = (tf.float32, tf.float32)\n",
        "      ,output_shapes = ([None, 128, 128, 3], [None, 10]),\n",
        "  )\n",
        "  test_generator = test_generator.repeat()\n",
        "  test_generator = test_generator.prefetch(buffer_size=tf.data.experimental.AUTOTUNE)\n",
        "\n",
        "  \n",
        "  return train_generator , validation_generator , test_gen ,batch_size , train_gen , validation_gen , train_gen.batch_size , validation_gen.batch_size , train_gen.samples , validation_gen.samples , test_gen.samples , test_gen.batch_size\n",
        "  "
      ],
      "metadata": {
        "id": "KtOM0oJ1o4LZ"
      },
      "execution_count": null,
      "outputs": []
    },
    {
      "cell_type": "code",
      "source": [
        "#Reference link :- https://keras.io/api/applications/#usage-examples-for-image-classification-models\n",
        "# After comparing all the 40 pre-trained models in keras , we have shortlisted these 4 models based on the Top-1 accuracy, Top-5 accuracy , Number of parameters and Time(ms) per inference step (GPU).\n",
        "from tensorflow.keras.applications import ResNet50V2           \n",
        "from tensorflow.keras.applications import Xception              \n",
        "from tensorflow.keras.applications import MobileNetV2           \n",
        "from tensorflow.keras.applications import EfficientNetB3        \n",
        "\n"
      ],
      "metadata": {
        "id": "Igt5zIHwR-jd"
      },
      "execution_count": null,
      "outputs": []
    },
    {
      "cell_type": "code",
      "source": [
        "###############################################\n",
        "# Listing the hyperparameters in wandb config \n",
        "###############################################\n",
        "sweep_config = {\n",
        "    'method': 'bayes', #grid, random\n",
        "    'metric': {\n",
        "      'name': 'val_accuracy',\n",
        "      'goal': 'maximize'   \n",
        "    },\n",
        "    'parameters': {\n",
        "        'model':{\n",
        "            'values':['resnet','xception', 'efficientnet','mobilenet']\n",
        "        },\n",
        "        #excluding output layer\n",
        "        'dense_layers': {\n",
        "            'values': [0,1,2]\n",
        "        },\n",
        "        'size_layer': {\n",
        "            'values': [32, 64, 128]\n",
        "        },\n",
        "        #100% means no fine tuning, only pre training\n",
        "        'layers_freeze':{\n",
        "            'values': [60,70,80,100]\n",
        "        \n",
        "        },\n",
        "        'dropout': {\n",
        "            'values':[0.01,0.2,0.5,0.8]\n",
        "        },\n",
        "        'augment_data': {\n",
        "            'values': ['yes', 'no']\n",
        "        },\n",
        "\n",
        "    }\n",
        "}"
      ],
      "metadata": {
        "id": "nCWlrvf5mFzh"
      },
      "execution_count": null,
      "outputs": []
    },
    {
      "cell_type": "code",
      "source": [
        "sweep_id = wandb.sweep(sweep_config,project=\"Assignment_2\", entity=\"hithesh-sidhesh\" )"
      ],
      "metadata": {
        "id": "Zg7lxyTR8dGt",
        "colab": {
          "base_uri": "https://localhost:8080/"
        },
        "outputId": "21c33ce5-e122-4fb0-bb7c-aad77d709637"
      },
      "execution_count": null,
      "outputs": [
        {
          "output_type": "stream",
          "name": "stdout",
          "text": [
            "Create sweep with ID: ns0reusj\n",
            "Sweep URL: https://wandb.ai/hithesh-sidhesh/Assignment_2/sweeps/ns0reusj\n"
          ]
        }
      ]
    },
    {
      "cell_type": "code",
      "source": [
        "def modelname(keras_model):\n",
        "\n",
        "  # Each Keras Application expects a specific kind of input preprocessing . \n",
        "  #(For Xception, call tf.keras.applications.xception.preprocess_input for pre-processing the input)\n",
        "  lib=\"tf.keras.applications.\"\n",
        "\n",
        "  if keras_model==\"resnet\":\n",
        "    print(\"Resnet chosen\")\n",
        "    name1=\"resnet_v2\"\n",
        "    modelname=ResNet50V2\n",
        "  elif keras_model==\"xception\":\n",
        "    print(\"Xception chosen\")                   \n",
        "    name1=\"xception\"\n",
        "    modelname=Xception\n",
        "  elif keras_model==\"mobilenet\":\n",
        "    print(\"Mobilenet chosen\")\n",
        "    name1=\"mobilenet_v2\"\n",
        "    modelname=MobileNetV2\n",
        "  elif keras_model==\"efficientnet\":\n",
        "    print(\"EfficientNetB3 chosen\")\n",
        "    name1=\"efficientnet\"\n",
        "    modelname=EfficientNetB3\n",
        "  \n",
        "  #preprocessing the input\n",
        "  preprocess_input = eval(lib+name1+\".preprocess_input\")\n",
        "  \n",
        "  base_model = Sequential()\n",
        "  base_model.add(modelname(include_top=False,input_shape=(128,128,3),weights='imagenet',pooling='avg'))\n",
        "\n",
        "  return preprocess_input , base_model\n"
      ],
      "metadata": {
        "id": "RkUvqkPfPekl"
      },
      "execution_count": null,
      "outputs": []
    },
    {
      "cell_type": "code",
      "source": [
        "#Reference link for transfer learning using a pre-trained model :- https://developer.ridgerun.com/wiki/index.php?title=Keras_with_MobilenetV2_for_Deep_Learning\n",
        "#                                                                  https://keras.io/guides/transfer_learning/ \n",
        "def train():\n",
        "\n",
        "  config_defaults = {\n",
        "        'model': 'efficientnet',\n",
        "        'dense_layers':1 ,\n",
        "        'size_layer':64 ,\n",
        "        'layers_freeze':70 ,\n",
        "        'augment_data' : 'no',\n",
        "        'dropout' : 0.2\n",
        "  }\n",
        "    \n",
        "  with wandb.init(project='Assignment_2',config = sweep_config, name=\"Part B\"):\n",
        "    config = wandb.init().config\n",
        "\n",
        "    #Setting custom run name \n",
        "    wandb.run.name = config.model + '_dense_layers_' + str(config.dense_layers) + '_size_layer_' + str(config.size_layer) + '_layers_freeze_' + str(config.layers_freeze) +'_augment_data_' + config.augment_data + '_dropout_' + str(config.dropout) \n",
        "    \n",
        "    keras_model = config.model\n",
        "    preprocess_input,base_model = modelname(config.model)\n",
        "    #freezing the base model\n",
        "    base_model.trainable = False\n",
        "\n",
        "    base_model.add(Flatten()) # The flatten layer is essential to convert the feature map into a column vector\n",
        "    for i in range(config.dense_layers):\n",
        "      base_model.add(Dense(config.size_layer, activation='relu')) #add a dense layer\n",
        "      base_model.add(tf.keras.layers.Dropout(config.dropout))\n",
        "\n",
        "    base_model.add(Dense(10, activation=\"softmax\")) # we have 10 classes\n",
        "\n",
        "    base_model.summary()\n",
        "\n",
        "    #set the learning rate . It's also critical to use a very low learning rate at this stage, \n",
        "    #because you are training a much larger model than in the first round of training, \n",
        "    #on a dataset that is typically very small. \n",
        "    #As a result, you are at risk of overfitting very quickly if you apply large weight updates. \n",
        "    #Here, you only want to readapt the pretrained weights in an incremental way.\n",
        "\n",
        "    #Train the top layer\n",
        "\n",
        "    base_learning_rate = 0.0001\n",
        "\n",
        "    #Train the model on new data.\n",
        "    base_model.compile(optimizer=tf.keras.optimizers.Adam(learning_rate=base_learning_rate),loss = 'categorical_crossentropy', metrics = ['accuracy'])\n",
        "    \n",
        "    #Early Stopping callback\n",
        "    earlyStopping = EarlyStopping(monitor='val_loss', patience=6, verbose=2, mode='min')\n",
        "\n",
        "    #Epochs for pre training \n",
        "    initial_epochs = 10\n",
        "    \n",
        "    train_generator , validation_generator , test_gen , batch_size , train_gen , validation_gen , train_gen.batch_size , validation_gen.batch_size , train_gen.samples , validation_gen.samples , test_gen.samples ,test_gen.batch_size = datagen(config.augment_data)\n",
        "    \n",
        "    \n",
        "    hist = base_model.fit(train_generator,\n",
        "                     epochs=initial_epochs,\n",
        "                     batch_size=batch_size,\n",
        "                     steps_per_epoch = train_gen.samples//train_gen.batch_size,\n",
        "                     validation_data=validation_generator,\n",
        "                     validation_steps= validation_gen.samples//validation_gen.batch_size,\n",
        "                     verbose=2,\n",
        "                     callbacks=[WandbCallback(data_type=\"image\", generator=validation_generator) , earlyStopping ]\n",
        "                    )\n",
        "    \n",
        "    #Do a round of fine-tuning of the entire model\n",
        "    # Unfreeze the base_model. Note that it keeps running in inference mode\n",
        "    # since we passed `training=False` when calling it. This means that\n",
        "    # the batchnorm layers will not update their batch statistics.\n",
        "    # This prevents the batchnorm layers from undoing all the training\n",
        "    # we've done so far.\n",
        "    import math \n",
        "    if config.layers_freeze !=100:\n",
        "      #unfreeze the base model\n",
        "      base_model.trainable = True\n",
        "      # Fine-tune from this layer onwards\n",
        "      fine_tune_at = math.floor((config.layers_freeze/100.0)*len(base_model.layers))\n",
        "      # Freeze all the layers before the \"fine_tune_at\" layer\n",
        "      for layer in base_model.layers[:fine_tune_at]:\n",
        "          #freeze \n",
        "        layer.trainable =  False\n",
        "      base_model.compile(optimizer = tf.keras.optimizers.Adam(learning_rate=base_learning_rate/10),loss = 'categorical_crossentropy',metrics=['accuracy'])\n",
        "        \n",
        "      \n",
        "  \n",
        "        #fine tune epochs \n",
        "      fine_tune_epochs = 10\n",
        "      total_epochs =  initial_epochs + fine_tune_epochs\n",
        "      hist_fine = base_model.fit(train_generator,\n",
        "                             epochs=total_epochs,\n",
        "                             initial_epoch=hist.epoch[-1]+1,\n",
        "                             validation_data=validation_generator,\n",
        "                             batch_size=batch_size,\n",
        "                             steps_per_epoch = train_gen.samples//train_gen.batch_size,\n",
        "                             validation_steps= validation_gen.samples//validation_gen.batch_size,\n",
        "                             verbose=2,\n",
        "                             callbacks=[WandbCallback(data_type=\"image\", generator=validation_generator) , earlyStopping]\n",
        "                            )\n",
        "      \n",
        "    test_loss, test_acc = base_model.evaluate(test_gen , steps=test_gen.samples//test_gen.batch_size, verbose=2)\n",
        "    \n",
        "    if config.layers_freeze !=100:\n",
        "      val_acc=max(hist_fine.history['val_accuracy'])\n",
        "      train_acc=max(hist_fine.history['accuracy'])\n",
        "      val_loss=max(hist_fine.history['val_loss'])\n",
        "      train_loss=max(hist_fine.history['loss']) \n",
        "    else:\n",
        "      val_acc=max(hist.history['val_accuracy'])\n",
        "      train_acc=max(hist.history['accuracy'])\n",
        "      val_loss=max(hist.history['val_loss'])\n",
        "      train_loss=max(hist.history['loss']) \n",
        "\n",
        "    log_values = {'Training_loss':train_loss, 'Validation_loss':val_loss, 'Training_accuracy':train_acc, 'Validation_accuracy':val_acc}\n",
        "    print('Test accuracy on model is : ',test_acc)\n",
        "    wandb.log(log_values)\n",
        "    print(log_values)\n",
        "    wandb.log({\"accuracy\": val_acc})\n",
        "    wandb.run.save()\n",
        "    wandb.run.finish()\n",
        "    return base_model\n"
      ],
      "metadata": {
        "id": "Uy4a2xZfju_X"
      },
      "execution_count": null,
      "outputs": []
    },
    {
      "cell_type": "code",
      "source": [
        "#################################\n",
        "# Setting up wandb sweeps\n",
        "#################################\n",
        "wandb.agent(sweep_id, train , count = 15 )\n"
      ],
      "metadata": {
        "id": "uUyIeqL9lGmo",
        "colab": {
          "base_uri": "https://localhost:8080/",
          "height": 1000,
          "referenced_widgets": [
            "09bd632c86a746508abb62ee426a6c49",
            "c8cfa0e5129840f78276c7ff5844fadc",
            "f1abc30b5ce54e709a64a0691858010f",
            "1515575fcf92458c9426efd7300c0c4f",
            "3a742dabe23743318fa82fb926b5f1f9",
            "d07a0bd50ede4c52bcd51cc3596a19fc",
            "eb9bd98c3a4840b8929a077274692cd5",
            "04d2ba58887e4a8d988c3610eb60d210",
            "32f0b227c6134ccb81578ca3f18a50e1",
            "4c6f80aa80084c679fa840ec5329f408",
            "28059690d98b43e29f234f3cb8fa7719",
            "36787e70bbdc45cead00307828653a2d",
            "4c7407cabe7949c19db8358561d43b4a",
            "857025c01e204d93959245709028920b",
            "15bd4f8573134444a71c9177536e0912",
            "bf73bfc52e5a494fb47e1c51de9271f8",
            "20332718a96748378c11c5370d5fe938",
            "a9bdbfc8d10741f8aaf622b44be29a53",
            "423220ed8ca84e6b9c6959a1f0e836c2",
            "0590592db87b4261bba22e69c82f40b6",
            "d366ad07b1f142bca63ca014a8ef60d0",
            "31e7587640bc40d7b1b0b7ea8343788a",
            "e3897d13079c4c629b08e8b9c78d2bbb",
            "a274fc2ebcc1439398029c2c855f1e0d",
            "0d4f3d29019b40cc89199231bdc6f094",
            "00481f4c987341f4a405d79ca4eecda8",
            "e3f19eb06c2c49a1a686975472f4ae97",
            "adfe736b662d416089a2630d04cb2357",
            "18a3c2e0e87b4099a41acf855ece88f4",
            "24d43e2d8297475a9fda2eb94d5538fb",
            "d476880a15084e8ba6db24caa7d08079",
            "ccf12bcef566412fb38721815fd26f55",
            "c890404d87464e968043cd807cf8fc8d",
            "d9c1693825dc4fc192503519070d7c19",
            "41192afb3ed84fe5a9f448c9873bd301",
            "e7d2534a50004a05a0f68745d35f1cff",
            "62de01f0cfe54139b4db7064795d31f5",
            "a760006de54942a2bbd58aae95c54412",
            "d9aff15340df4f819a1e9276c56d0a0f",
            "a1f3ef6aa91340d5b362301c9abb4fb9",
            "1a24218f78894a958b41774320fcff10",
            "dc5e2404e5654d6f8295fc1986665c03",
            "a6e421a79b8e48aab61f62075ccb3904",
            "086d66e53faa441f8b48ea0829a57d03",
            "424e34968c03455aa18df090b500aeb3",
            "f9d3c55d155349b48f4b0b519bfbf616",
            "0e208e59d6b748fe9e4806513c3afd83",
            "cb8433f81cb649698024cdf455ddab23",
            "ad13fe2f439d42a4973347d77c48540f",
            "4b34f90abe0442b9b75340fc05bf46a4",
            "a84ee15f9c3f4de6b7f3f4af40fd1987",
            "c2191ced524544be89e41d2563873cc2",
            "c22e7de387334d5ca752433ec61f68cb",
            "3841c41d542344a286c8cfa3567b913f",
            "f3eaa48cd84a49f68d881ac811f9079e",
            "f461fed5e6ba47bf8bc844da27ff00c6",
            "fd78f77729f3464c9acd6e54fdd7ed11",
            "5224a34fa0eb4c9ebe0b3567a6e98435",
            "a65099dbb7d64d67b91dc38d4dde06e5",
            "1af339805dad4da3b4cc0e78ba3d49bc",
            "04ac0d131a0d42a190da5a378058f458",
            "3b6018a69d174abd94e0af123dd68056",
            "6d759cebf3c6428a842b223cd2bd197d",
            "68a437bdda01466e9f6f8459a3ba6623",
            "7edd05edeac3437ca026ef5bbe58b878",
            "b70801fe6e844682b75f00b330b17ff1",
            "528cd973c74945ada3c7e8ff1d1004dd",
            "7fca23eb2bd04a69a501bf1dde7c3e45",
            "e61ee233a26340f59a48a06c54699d01",
            "5537ca20ab7a4d11a808de847fdaba49",
            "eb4841dea9ed4a24bd3e674f32024ba7",
            "995194a0aaed41038d469a7a1b2a95bc",
            "61c413e40faa4e10ade04bb9f5d4d521",
            "e7d3759e6b834bdcbef5704bb63029a6",
            "c8a902ec63ba4b82a572534fcda512f4",
            "75157e52b6314fd49e8c78e4aab8e1e6",
            "2b6edaa5352846cba74dfdf4c5130bb7",
            "0c74c08eb40a4ae1be56b7cf0de3be1f",
            "985434043bb440f794de158f0255284d",
            "324eaba4d6b448aeb30f23daf13b8623",
            "0b05961dd64f4b498197d8f7eb8f379e",
            "4c2a28a6663d41a49c25f021336dc79c",
            "1457e5f8a6944e00bb7bce883916a9b6",
            "a9ee83e7d496495da74ac4c144f9e383",
            "f4e080a6b78b4595b8dc23e15c12bdab",
            "4e9862ca7d324bc4aeef4f22b57a0ac8",
            "1b4b67d808cd4e9bace4ee6d00ce3be7",
            "6e3f05f8e9e9477eb3bdfd2e9116d524",
            "a2afdc33c2f04a70b5d5abdb6a1d9785",
            "4071357441504fe996e757697cab0c1d",
            "7a7682c5986a47898b75ca223ed6656e",
            "8c2350aa53b9426f83817137c3af9f5b",
            "4cda36823b514991bba4f30e40c8a359",
            "40ec728b82a3479e9454b1c388fd351b",
            "8dbb2a2cbb4849ff9a1d197ca49785c6",
            "bea71babfb24407db7633aa2c109bc4c",
            "2bbfface7ee34d3d9be0cd442d9830c6",
            "e9860facb2f14085aa36872dd5e56250",
            "66ebe5aaa6d44028a3d4aee3058503ac",
            "5089ea0fab574ec5b889cdbed994fbd5",
            "77c2c651c84242fc809f0cf25ae8c10e",
            "a01d49e7a2244c4e865010cab3c420b9",
            "a16a16e446c44f0b9452c255027356f3",
            "2455d30578a24fbc9d18cdafd7a8db37",
            "0e25e6ea27ff4a2eb5db8a776b1ed1f1",
            "4d6bbaa776e340b1ac04d46ac8cea863",
            "dacda262afa2451a98636c9b9ef800b0",
            "eaa19db90d4949bbbe072825d8a948c1",
            "80118b024d0d4fc09e309a4eb6867e86",
            "25e98a9d668c4d058276f178ac585588",
            "bc7e8beca77a41ffa3b96de2b0161714",
            "117cebfd0e4d466d81d6eec6c19c1ea3",
            "9f268543fba44b988c7743910c2795f1",
            "f7899bf9e32e4c2abed9a5b35f33f272",
            "f03d270b7035475986a55487d1c52ab6",
            "d4a72066c026472bbcecab9a4281edbd",
            "ee3e633ab2e741b683dc37d5b31472d1",
            "6a78a3286baa4f31ad514028c1b535a2",
            "06338524b2964439a4a4b75589d46fa5",
            "cdcc90d6d0914e398613abc9a72ab99e",
            "6d9db251e2ee4173903a24e8cb28a763",
            "d88c4fbb8a5e4d8a968ef515bba58603",
            "5b17b51a62d148d181104e31ed416dfb",
            "ccd6aae5678845329ec470c7d24b1747",
            "d034332434524e9e84bec9fba544dd9e",
            "60fecd4914624ec892f0114afc4699f3",
            "3b169aae412849cfb8c3049c8b2d4738",
            "ccf10ef2754d48b1bcc23049cc85a26e",
            "88c5a3fa8ee34ecba8f0e6006fa92c0c",
            "8dd5555a213046ea8c1f1fd6842ba25a",
            "c4eba972b4ed4d73ae7b4eaa7ecccce9",
            "0acf5dc105f14e2b9f58fad5fafc6de1",
            "92ff6a9d4f794af7a515fc2fd85e4f6d",
            "8d629a7cf9f648359bb96d26c126db1d",
            "81775c32f1eb409d823fe01d9a60aedb",
            "2b0d8be94bb147399cfc2f6e71e38901",
            "581dd1cb530948cfa676042382e6882c",
            "e7d9fa7d1d6e4e23926ac2b9db89bc21",
            "a59e827522104a629a8280f5ecfa1357",
            "887e2d1a758946e9954e65613b770575",
            "1b38053517d2452685fc520e3bad2960",
            "2bf8fdfd9d4649f294263d58f9212cd5",
            "814cc03bdd30460ab293f1301375b78d",
            "a2555039c6574371b7bc4b9268cc4289",
            "a4fb2fe5a96b479f8d1b101863b98d61",
            "7479ca499c924e2b861d586e2bca2648",
            "e3fa4ccd704e4726979a891339e3896a",
            "a0a352b297974c54a36415490ee3981e",
            "0f0addfa1a594922919474fe9c2ecb76",
            "1b32dc8586af45e68c98cfdc0520af0d",
            "66a19150da0c42f9ba5828ee5ef36561",
            "4f4029fd2c99450eb9e16f10c9d804ca",
            "50cc9da778d94d13a240c7ea7edb6fe4",
            "ab662f25ad8e4db29b0e22cd5ad509b4",
            "bf6050ce33134171b4528cc8cc10604f",
            "b0e0570f524c4808843a3a071418bf1f",
            "f67010f952ad42e6be439643ce7211df",
            "5a75c22ef4d64a78acd4ee6d05813006",
            "fbef27e0478a4dca8d66ee1a897225c4",
            "6640f6dee48b424fa496fb78195de0e7",
            "edf1987354084f318ed7179aa4f409c5",
            "87550284791c461faaacded5f8894e3a",
            "de53e68ade6c44d1b6df43e74b77384a",
            "0d586d3e0d034085b1ac47eefeda3450",
            "0c7a80bf491f4378b93ae1c104255c7f",
            "6d2e617773e341fa9c99cd6ce9795d26",
            "db6901b18afe4cf58850fa6622c14ec7",
            "37b96aae4072463a922384c2cb875052",
            "83ac6a0c37f94604b1d8f45391346b89",
            "4288b447e0d949058806526a6445a4f4",
            "54e828447aec4615aa877ab676b24c51",
            "9265b80f27164e3da27daf05cba00066",
            "04f07ac3551c47e5bc3209faaeca2f81",
            "f3e4bf14ad0a4f12bca70e4d12dc880b",
            "531c176759f0484b866194245f092ab9",
            "4a1b94aea11046faa96e62f64ac60fb9",
            "5dcfb7e6344f4874811e48ab627d7a73",
            "09fba82223394cc5906f8da37f1dd1d6",
            "7e538f03f1264cc18ed19ca28a6e85e1",
            "5b32d84cd68c40709c8802abb355f65b",
            "837386fa289b42f890a65a338f28e7a9",
            "4078a68ce3eb46c093ff0ef78cd50e8d",
            "d03bd31250ab4f11a56a68e97b73927f",
            "64e6ce84d9994a8e8601514958278a44"
          ]
        },
        "outputId": "b843448c-707b-4093-9c88-b895fcee47b0"
      },
      "execution_count": null,
      "outputs": [
        {
          "output_type": "stream",
          "name": "stderr",
          "text": [
            "\u001b[34m\u001b[1mwandb\u001b[0m: \u001b[33mWARNING\u001b[0m Calling wandb.login() after wandb.init() has no effect.\n",
            "\u001b[34m\u001b[1mwandb\u001b[0m: Agent Starting Run: q25izwld with config:\n",
            "\u001b[34m\u001b[1mwandb\u001b[0m: \taugment_data: yes\n",
            "\u001b[34m\u001b[1mwandb\u001b[0m: \tdense_layers: 0\n",
            "\u001b[34m\u001b[1mwandb\u001b[0m: \tdropout: 0.5\n",
            "\u001b[34m\u001b[1mwandb\u001b[0m: \tlayers_freeze: 100\n",
            "\u001b[34m\u001b[1mwandb\u001b[0m: \tmodel: mobilenet\n",
            "\u001b[34m\u001b[1mwandb\u001b[0m: \tsize_layer: 32\n",
            "\u001b[34m\u001b[1mwandb\u001b[0m: \u001b[33mWARNING\u001b[0m Ignored wandb.init() arg project when running a sweep.\n"
          ]
        },
        {
          "output_type": "display_data",
          "data": {
            "text/plain": [
              "<IPython.core.display.HTML object>"
            ],
            "text/html": [
              "Tracking run with wandb version 0.12.11"
            ]
          },
          "metadata": {}
        },
        {
          "output_type": "display_data",
          "data": {
            "text/plain": [
              "<IPython.core.display.HTML object>"
            ],
            "text/html": [
              "Run data is saved locally in <code>/content/inaturalist_12K/train/Amphibia/wandb/run-20220330_203257-q25izwld</code>"
            ]
          },
          "metadata": {}
        },
        {
          "output_type": "display_data",
          "data": {
            "text/plain": [
              "<IPython.core.display.HTML object>"
            ],
            "text/html": [
              "Syncing run <strong><a href=\"https://wandb.ai/hithesh-sidhesh/Assignment_2/runs/q25izwld\" target=\"_blank\">Part B</a></strong> to <a href=\"https://wandb.ai/hithesh-sidhesh/Assignment_2\" target=\"_blank\">Weights & Biases</a> (<a href=\"https://wandb.me/run\" target=\"_blank\">docs</a>)<br/>Sweep page:  <a href=\"https://wandb.ai/hithesh-sidhesh/Assignment_2/sweeps/ns0reusj\" target=\"_blank\">https://wandb.ai/hithesh-sidhesh/Assignment_2/sweeps/ns0reusj</a>"
            ]
          },
          "metadata": {}
        },
        {
          "output_type": "display_data",
          "data": {
            "text/plain": [
              "<IPython.core.display.HTML object>"
            ],
            "text/html": [
              "Finishing last run (ID:q25izwld) before initializing another..."
            ]
          },
          "metadata": {}
        },
        {
          "output_type": "stream",
          "name": "stdout",
          "text": [
            "\n"
          ]
        },
        {
          "output_type": "display_data",
          "data": {
            "text/plain": [
              "<IPython.core.display.HTML object>"
            ],
            "text/html": [
              "Waiting for W&B process to finish... <strong style=\"color:green\">(success).</strong>"
            ]
          },
          "metadata": {}
        },
        {
          "output_type": "display_data",
          "data": {
            "text/plain": [
              "VBox(children=(Label(value='0.001 MB of 0.001 MB uploaded (0.000 MB deduped)\\r'), FloatProgress(value=1.0, max…"
            ],
            "application/vnd.jupyter.widget-view+json": {
              "version_major": 2,
              "version_minor": 0,
              "model_id": "09bd632c86a746508abb62ee426a6c49"
            }
          },
          "metadata": {}
        },
        {
          "output_type": "display_data",
          "data": {
            "text/plain": [
              "<IPython.core.display.HTML object>"
            ],
            "text/html": [
              "Synced <strong style=\"color:#cdcd00\">Part B</strong>: <a href=\"https://wandb.ai/hithesh-sidhesh/Assignment_2/runs/q25izwld\" target=\"_blank\">https://wandb.ai/hithesh-sidhesh/Assignment_2/runs/q25izwld</a><br/>Synced 4 W&B file(s), 0 media file(s), 0 artifact file(s) and 0 other file(s)"
            ]
          },
          "metadata": {}
        },
        {
          "output_type": "display_data",
          "data": {
            "text/plain": [
              "<IPython.core.display.HTML object>"
            ],
            "text/html": [
              "Find logs at: <code>./wandb/run-20220330_203257-q25izwld/logs</code>"
            ]
          },
          "metadata": {}
        },
        {
          "output_type": "display_data",
          "data": {
            "text/plain": [
              "<IPython.core.display.HTML object>"
            ],
            "text/html": [
              "Successfully finished last run (ID:q25izwld). Initializing new run:<br/>"
            ]
          },
          "metadata": {}
        },
        {
          "output_type": "display_data",
          "data": {
            "text/plain": [
              "<IPython.core.display.HTML object>"
            ],
            "text/html": [
              "Tracking run with wandb version 0.12.11"
            ]
          },
          "metadata": {}
        },
        {
          "output_type": "display_data",
          "data": {
            "text/plain": [
              "<IPython.core.display.HTML object>"
            ],
            "text/html": [
              "Run data is saved locally in <code>/content/inaturalist_12K/train/Amphibia/wandb/run-20220330_203304-q25izwld</code>"
            ]
          },
          "metadata": {}
        },
        {
          "output_type": "display_data",
          "data": {
            "text/plain": [
              "<IPython.core.display.HTML object>"
            ],
            "text/html": [
              "Syncing run <strong><a href=\"https://wandb.ai/hithesh-sidhesh/Assignment_2/runs/q25izwld\" target=\"_blank\">Part B</a></strong> to <a href=\"https://wandb.ai/hithesh-sidhesh/Assignment_2\" target=\"_blank\">Weights & Biases</a> (<a href=\"https://wandb.me/run\" target=\"_blank\">docs</a>)<br/>Sweep page:  <a href=\"https://wandb.ai/hithesh-sidhesh/Assignment_2/sweeps/ns0reusj\" target=\"_blank\">https://wandb.ai/hithesh-sidhesh/Assignment_2/sweeps/ns0reusj</a>"
            ]
          },
          "metadata": {}
        },
        {
          "output_type": "stream",
          "name": "stdout",
          "text": [
            "Mobilenet chosen\n",
            "Model: \"sequential\"\n",
            "_________________________________________________________________\n",
            " Layer (type)                Output Shape              Param #   \n",
            "=================================================================\n",
            " mobilenetv2_1.00_128 (Funct  (None, 1280)             2257984   \n",
            " ional)                                                          \n",
            "                                                                 \n",
            " flatten (Flatten)           (None, 1280)              0         \n",
            "                                                                 \n",
            " dense (Dense)               (None, 10)                12810     \n",
            "                                                                 \n",
            "=================================================================\n",
            "Total params: 2,270,794\n",
            "Trainable params: 0\n",
            "Non-trainable params: 2,270,794\n",
            "_________________________________________________________________\n",
            "Found 10037 images belonging to 10 classes.\n",
            "TRAINING\n",
            "Number of samples 10037\n",
            "Names of classes {'Amphibia': 0, 'Animalia': 1, 'Arachnida': 2, 'Aves': 3, 'Fungi': 4, 'Insecta': 5, 'Mammalia': 6, 'Mollusca': 7, 'Plantae': 8, 'Reptilia': 9}\n",
            "Number of classes 10\n",
            "Number of samples per class 1003\n",
            "Found 1114 images belonging to 10 classes.\n",
            "VALIDATION\n",
            "Number of samples 1114\n",
            "Names of classes {'Amphibia': 0, 'Animalia': 1, 'Arachnida': 2, 'Aves': 3, 'Fungi': 4, 'Insecta': 5, 'Mammalia': 6, 'Mollusca': 7, 'Plantae': 8, 'Reptilia': 9}\n",
            "Number of classes 10\n",
            "Number of samples per class 111\n",
            "Found 2000 images belonging to 10 classes.\n"
          ]
        },
        {
          "output_type": "stream",
          "name": "stderr",
          "text": [
            "\u001b[34m\u001b[1mwandb\u001b[0m: \u001b[33mWARNING\u001b[0m The data_type argument of wandb.keras.WandbCallback is deprecated and will be removed in a future release. Please use input_type instead.\n",
            "\u001b[34m\u001b[1mwandb\u001b[0m: \u001b[33mWARNING\u001b[0m Setting input_type = data_type.\n"
          ]
        },
        {
          "output_type": "stream",
          "name": "stdout",
          "text": [
            "Epoch 1/10\n",
            "313/313 - 105s - loss: 2.8956 - accuracy: 0.1026 - val_loss: 2.8893 - val_accuracy: 0.0993 - _timestamp: 1648672504.0000 - _runtime: 113.0000 - 105s/epoch - 336ms/step\n",
            "Epoch 2/10\n",
            "313/313 - 99s - loss: 2.8944 - accuracy: 0.1022 - val_loss: 2.8941 - val_accuracy: 0.0961 - _timestamp: 1648672603.0000 - _runtime: 212.0000 - 99s/epoch - 315ms/step\n",
            "Epoch 3/10\n",
            "313/313 - 98s - loss: 2.8943 - accuracy: 0.1031 - val_loss: 2.8992 - val_accuracy: 0.0952 - _timestamp: 1648672702.0000 - _runtime: 311.0000 - 98s/epoch - 313ms/step\n",
            "Epoch 4/10\n",
            "313/313 - 98s - loss: 2.8964 - accuracy: 0.1028 - val_loss: 2.8889 - val_accuracy: 0.0998 - _timestamp: 1648672799.0000 - _runtime: 408.0000 - 98s/epoch - 312ms/step\n",
            "Epoch 5/10\n",
            "313/313 - 95s - loss: 2.8966 - accuracy: 0.1018 - val_loss: 2.8958 - val_accuracy: 0.0980 - _timestamp: 1648672894.0000 - _runtime: 503.0000 - 95s/epoch - 302ms/step\n",
            "Epoch 6/10\n",
            "313/313 - 91s - loss: 2.8938 - accuracy: 0.1030 - val_loss: 2.8880 - val_accuracy: 0.0998 - _timestamp: 1648672984.0000 - _runtime: 593.0000 - 91s/epoch - 290ms/step\n",
            "Epoch 7/10\n",
            "313/313 - 88s - loss: 2.8947 - accuracy: 0.1025 - val_loss: 2.8795 - val_accuracy: 0.1026 - _timestamp: 1648673072.0000 - _runtime: 681.0000 - 88s/epoch - 280ms/step\n",
            "Epoch 8/10\n",
            "313/313 - 88s - loss: 2.8919 - accuracy: 0.1024 - val_loss: 2.8341 - val_accuracy: 0.1054 - _timestamp: 1648673160.0000 - _runtime: 769.0000 - 88s/epoch - 281ms/step\n",
            "Epoch 9/10\n",
            "313/313 - 87s - loss: 2.8951 - accuracy: 0.1034 - val_loss: 2.8309 - val_accuracy: 0.1054 - _timestamp: 1648673247.0000 - _runtime: 856.0000 - 87s/epoch - 279ms/step\n",
            "Epoch 10/10\n",
            "313/313 - 87s - loss: 2.8968 - accuracy: 0.1016 - val_loss: 2.8481 - val_accuracy: 0.1054 - _timestamp: 1648673335.0000 - _runtime: 944.0000 - 87s/epoch - 278ms/step\n",
            "62/62 - 20s - loss: 2.9401 - accuracy: 0.0953 - 20s/epoch - 327ms/step\n"
          ]
        },
        {
          "output_type": "stream",
          "name": "stderr",
          "text": [
            "\u001b[34m\u001b[1mwandb\u001b[0m: \u001b[33mWARNING\u001b[0m Calling wandb.run.save without any arguments is deprecated.Changes to attributes are automatically persisted.\n"
          ]
        },
        {
          "output_type": "stream",
          "name": "stdout",
          "text": [
            "Test accuracy on model is :  0.09526209533214569\n",
            "{'Training_loss': 2.8968002796173096, 'Validation_loss': 2.8991551399230957, 'Training_accuracy': 0.1034482792019844, 'Validation_accuracy': 0.10536044090986252, '_timestamp': 1648673357, '_runtime': 966}\n",
            "\n"
          ]
        },
        {
          "output_type": "display_data",
          "data": {
            "text/plain": [
              "<IPython.core.display.HTML object>"
            ],
            "text/html": [
              "Waiting for W&B process to finish... <strong style=\"color:green\">(success).</strong>"
            ]
          },
          "metadata": {}
        },
        {
          "output_type": "display_data",
          "data": {
            "text/plain": [
              "VBox(children=(Label(value='20.601 MB of 20.601 MB uploaded (0.000 MB deduped)\\r'), FloatProgress(value=1.0, m…"
            ],
            "application/vnd.jupyter.widget-view+json": {
              "version_major": 2,
              "version_minor": 0,
              "model_id": "32f0b227c6134ccb81578ca3f18a50e1"
            }
          },
          "metadata": {}
        },
        {
          "output_type": "display_data",
          "data": {
            "text/plain": [
              "<IPython.core.display.HTML object>"
            ],
            "text/html": [
              "<style>\n",
              "    table.wandb td:nth-child(1) { padding: 0 10px; text-align: right }\n",
              "    .wandb-row { display: flex; flex-direction: row; flex-wrap: wrap; width: 100% }\n",
              "    .wandb-col { display: flex; flex-direction: column; flex-basis: 100%; flex: 1; padding: 10px; }\n",
              "    </style>\n",
              "<div class=\"wandb-row\"><div class=\"wandb-col\"><h3>Run history:</h3><br/><table class=\"wandb\"><tr><td>Training_accuracy</td><td>▁</td></tr><tr><td>Training_loss</td><td>▁</td></tr><tr><td>Validation_accuracy</td><td>▁</td></tr><tr><td>Validation_loss</td><td>▁</td></tr><tr><td>accuracy</td><td>▃▂▄▃▁▄▃▃▄▁█</td></tr><tr><td>epoch</td><td>▁▂▃▃▄▅▆▆▇█</td></tr><tr><td>loss</td><td>▆▅▄▇█▄▅▁▆█</td></tr><tr><td>val_accuracy</td><td>▄▂▁▄▃▄▆███</td></tr><tr><td>val_loss</td><td>▇▇█▇█▇▆▁▁▃</td></tr></table><br/></div><div class=\"wandb-col\"><h3>Run summary:</h3><br/><table class=\"wandb\"><tr><td>Training_accuracy</td><td>0.10345</td></tr><tr><td>Training_loss</td><td>2.8968</td></tr><tr><td>Validation_accuracy</td><td>0.10536</td></tr><tr><td>Validation_loss</td><td>2.89916</td></tr><tr><td>accuracy</td><td>0.10536</td></tr><tr><td>best_epoch</td><td>8</td></tr><tr><td>best_val_loss</td><td>2.83094</td></tr><tr><td>epoch</td><td>9</td></tr><tr><td>loss</td><td>2.8968</td></tr><tr><td>val_accuracy</td><td>0.10536</td></tr><tr><td>val_loss</td><td>2.84807</td></tr></table><br/></div></div>"
            ]
          },
          "metadata": {}
        },
        {
          "output_type": "display_data",
          "data": {
            "text/plain": [
              "<IPython.core.display.HTML object>"
            ],
            "text/html": [
              "Synced <strong style=\"color:#cdcd00\">Part B</strong>: <a href=\"https://wandb.ai/hithesh-sidhesh/Assignment_2/runs/q25izwld\" target=\"_blank\">https://wandb.ai/hithesh-sidhesh/Assignment_2/runs/q25izwld</a><br/>Synced 5 W&B file(s), 320 media file(s), 0 artifact file(s) and 1 other file(s)"
            ]
          },
          "metadata": {}
        },
        {
          "output_type": "display_data",
          "data": {
            "text/plain": [
              "<IPython.core.display.HTML object>"
            ],
            "text/html": [
              "Find logs at: <code>./wandb/run-20220330_203304-q25izwld/logs</code>"
            ]
          },
          "metadata": {}
        },
        {
          "output_type": "stream",
          "name": "stderr",
          "text": [
            "\u001b[34m\u001b[1mwandb\u001b[0m: Sweep Agent: Waiting for job.\n",
            "\u001b[34m\u001b[1mwandb\u001b[0m: Job received.\n",
            "\u001b[34m\u001b[1mwandb\u001b[0m: Agent Starting Run: if03h48j with config:\n",
            "\u001b[34m\u001b[1mwandb\u001b[0m: \taugment_data: yes\n",
            "\u001b[34m\u001b[1mwandb\u001b[0m: \tdense_layers: 2\n",
            "\u001b[34m\u001b[1mwandb\u001b[0m: \tdropout: 0.5\n",
            "\u001b[34m\u001b[1mwandb\u001b[0m: \tlayers_freeze: 70\n",
            "\u001b[34m\u001b[1mwandb\u001b[0m: \tmodel: efficientnet\n",
            "\u001b[34m\u001b[1mwandb\u001b[0m: \tsize_layer: 64\n",
            "\u001b[34m\u001b[1mwandb\u001b[0m: \u001b[33mWARNING\u001b[0m Ignored wandb.init() arg project when running a sweep.\n"
          ]
        },
        {
          "output_type": "display_data",
          "data": {
            "text/plain": [
              "<IPython.core.display.HTML object>"
            ],
            "text/html": [
              "Tracking run with wandb version 0.12.11"
            ]
          },
          "metadata": {}
        },
        {
          "output_type": "display_data",
          "data": {
            "text/plain": [
              "<IPython.core.display.HTML object>"
            ],
            "text/html": [
              "Run data is saved locally in <code>/content/inaturalist_12K/train/Amphibia/wandb/run-20220330_204937-if03h48j</code>"
            ]
          },
          "metadata": {}
        },
        {
          "output_type": "display_data",
          "data": {
            "text/plain": [
              "<IPython.core.display.HTML object>"
            ],
            "text/html": [
              "Syncing run <strong><a href=\"https://wandb.ai/hithesh-sidhesh/Assignment_2/runs/if03h48j\" target=\"_blank\">Part B</a></strong> to <a href=\"https://wandb.ai/hithesh-sidhesh/Assignment_2\" target=\"_blank\">Weights & Biases</a> (<a href=\"https://wandb.me/run\" target=\"_blank\">docs</a>)<br/>Sweep page:  <a href=\"https://wandb.ai/hithesh-sidhesh/Assignment_2/sweeps/ns0reusj\" target=\"_blank\">https://wandb.ai/hithesh-sidhesh/Assignment_2/sweeps/ns0reusj</a>"
            ]
          },
          "metadata": {}
        },
        {
          "output_type": "display_data",
          "data": {
            "text/plain": [
              "<IPython.core.display.HTML object>"
            ],
            "text/html": [
              "Finishing last run (ID:if03h48j) before initializing another..."
            ]
          },
          "metadata": {}
        },
        {
          "output_type": "stream",
          "name": "stdout",
          "text": [
            "\n"
          ]
        },
        {
          "output_type": "display_data",
          "data": {
            "text/plain": [
              "<IPython.core.display.HTML object>"
            ],
            "text/html": [
              "Waiting for W&B process to finish... <strong style=\"color:green\">(success).</strong>"
            ]
          },
          "metadata": {}
        },
        {
          "output_type": "display_data",
          "data": {
            "text/plain": [
              "VBox(children=(Label(value='0.001 MB of 0.001 MB uploaded (0.000 MB deduped)\\r'), FloatProgress(value=1.0, max…"
            ],
            "application/vnd.jupyter.widget-view+json": {
              "version_major": 2,
              "version_minor": 0,
              "model_id": "20332718a96748378c11c5370d5fe938"
            }
          },
          "metadata": {}
        },
        {
          "output_type": "display_data",
          "data": {
            "text/plain": [
              "<IPython.core.display.HTML object>"
            ],
            "text/html": [
              "Synced <strong style=\"color:#cdcd00\">Part B</strong>: <a href=\"https://wandb.ai/hithesh-sidhesh/Assignment_2/runs/if03h48j\" target=\"_blank\">https://wandb.ai/hithesh-sidhesh/Assignment_2/runs/if03h48j</a><br/>Synced 4 W&B file(s), 0 media file(s), 0 artifact file(s) and 0 other file(s)"
            ]
          },
          "metadata": {}
        },
        {
          "output_type": "display_data",
          "data": {
            "text/plain": [
              "<IPython.core.display.HTML object>"
            ],
            "text/html": [
              "Find logs at: <code>./wandb/run-20220330_204937-if03h48j/logs</code>"
            ]
          },
          "metadata": {}
        },
        {
          "output_type": "display_data",
          "data": {
            "text/plain": [
              "<IPython.core.display.HTML object>"
            ],
            "text/html": [
              "Successfully finished last run (ID:if03h48j). Initializing new run:<br/>"
            ]
          },
          "metadata": {}
        },
        {
          "output_type": "display_data",
          "data": {
            "text/plain": [
              "<IPython.core.display.HTML object>"
            ],
            "text/html": [
              "Tracking run with wandb version 0.12.11"
            ]
          },
          "metadata": {}
        },
        {
          "output_type": "display_data",
          "data": {
            "text/plain": [
              "<IPython.core.display.HTML object>"
            ],
            "text/html": [
              "Run data is saved locally in <code>/content/inaturalist_12K/train/Amphibia/wandb/run-20220330_204944-if03h48j</code>"
            ]
          },
          "metadata": {}
        },
        {
          "output_type": "display_data",
          "data": {
            "text/plain": [
              "<IPython.core.display.HTML object>"
            ],
            "text/html": [
              "Syncing run <strong><a href=\"https://wandb.ai/hithesh-sidhesh/Assignment_2/runs/if03h48j\" target=\"_blank\">Part B</a></strong> to <a href=\"https://wandb.ai/hithesh-sidhesh/Assignment_2\" target=\"_blank\">Weights & Biases</a> (<a href=\"https://wandb.me/run\" target=\"_blank\">docs</a>)<br/>Sweep page:  <a href=\"https://wandb.ai/hithesh-sidhesh/Assignment_2/sweeps/ns0reusj\" target=\"_blank\">https://wandb.ai/hithesh-sidhesh/Assignment_2/sweeps/ns0reusj</a>"
            ]
          },
          "metadata": {}
        },
        {
          "output_type": "stream",
          "name": "stdout",
          "text": [
            "EfficientNetB3 chosen\n",
            "Model: \"sequential\"\n",
            "_________________________________________________________________\n",
            " Layer (type)                Output Shape              Param #   \n",
            "=================================================================\n",
            " efficientnetb3 (Functional)  (None, 1536)             10783535  \n",
            "                                                                 \n",
            " flatten (Flatten)           (None, 1536)              0         \n",
            "                                                                 \n",
            " dense (Dense)               (None, 64)                98368     \n",
            "                                                                 \n",
            " dropout (Dropout)           (None, 64)                0         \n",
            "                                                                 \n",
            " dense_1 (Dense)             (None, 64)                4160      \n",
            "                                                                 \n",
            " dropout_1 (Dropout)         (None, 64)                0         \n",
            "                                                                 \n",
            " dense_2 (Dense)             (None, 10)                650       \n",
            "                                                                 \n",
            "=================================================================\n",
            "Total params: 10,886,713\n",
            "Trainable params: 0\n",
            "Non-trainable params: 10,886,713\n",
            "_________________________________________________________________\n",
            "Found 10325 images belonging to 10 classes.\n",
            "TRAINING\n",
            "Number of samples 10325\n",
            "Names of classes {'Amphibia': 0, 'Animalia': 1, 'Arachnida': 2, 'Aves': 3, 'Fungi': 4, 'Insecta': 5, 'Mammalia': 6, 'Mollusca': 7, 'Plantae': 8, 'Reptilia': 9}\n",
            "Number of classes 10\n",
            "Number of samples per class 1032\n",
            "Found 1146 images belonging to 10 classes.\n",
            "VALIDATION\n",
            "Number of samples 1146\n",
            "Names of classes {'Amphibia': 0, 'Animalia': 1, 'Arachnida': 2, 'Aves': 3, 'Fungi': 4, 'Insecta': 5, 'Mammalia': 6, 'Mollusca': 7, 'Plantae': 8, 'Reptilia': 9}\n",
            "Number of classes 10\n",
            "Number of samples per class 114\n",
            "Found 2000 images belonging to 10 classes.\n",
            "Epoch 1/10\n",
            "322/322 - 113s - loss: 2.3932 - accuracy: 0.0944 - val_loss: 2.3327 - val_accuracy: 0.0661 - _timestamp: 1648673513.0000 - _runtime: 124.0000 - 113s/epoch - 352ms/step\n",
            "Epoch 2/10\n",
            "322/322 - 101s - loss: 2.3908 - accuracy: 0.0910 - val_loss: 2.3229 - val_accuracy: 0.0898 - _timestamp: 1648673613.0000 - _runtime: 224.0000 - 101s/epoch - 313ms/step\n",
            "Epoch 3/10\n",
            "322/322 - 99s - loss: 2.3852 - accuracy: 0.0993 - val_loss: 2.3229 - val_accuracy: 0.0898 - _timestamp: 1648673713.0000 - _runtime: 324.0000 - 99s/epoch - 307ms/step\n",
            "Epoch 4/10\n",
            "322/322 - 99s - loss: 2.3887 - accuracy: 0.1007 - val_loss: 2.3229 - val_accuracy: 0.0898 - _timestamp: 1648673811.0000 - _runtime: 422.0000 - 99s/epoch - 308ms/step\n",
            "Epoch 5/10\n",
            "322/322 - 96s - loss: 2.3953 - accuracy: 0.0928 - val_loss: 2.3229 - val_accuracy: 0.0898 - _timestamp: 1648673908.0000 - _runtime: 519.0000 - 96s/epoch - 299ms/step\n",
            "Epoch 6/10\n",
            "322/322 - 92s - loss: 2.3916 - accuracy: 0.0945 - val_loss: 2.3230 - val_accuracy: 0.0898 - _timestamp: 1648674000.0000 - _runtime: 611.0000 - 92s/epoch - 286ms/step\n",
            "Epoch 7/10\n",
            "322/322 - 90s - loss: 2.3927 - accuracy: 0.0957 - val_loss: 2.3228 - val_accuracy: 0.0898 - _timestamp: 1648674089.0000 - _runtime: 700.0000 - 90s/epoch - 278ms/step\n",
            "Epoch 8/10\n",
            "322/322 - 89s - loss: 2.3926 - accuracy: 0.0991 - val_loss: 2.3221 - val_accuracy: 0.0898 - _timestamp: 1648674178.0000 - _runtime: 789.0000 - 89s/epoch - 275ms/step\n",
            "Epoch 9/10\n",
            "322/322 - 88s - loss: 2.3866 - accuracy: 0.0990 - val_loss: 2.3205 - val_accuracy: 0.0898 - _timestamp: 1648674266.0000 - _runtime: 877.0000 - 88s/epoch - 275ms/step\n",
            "Epoch 10/10\n",
            "322/322 - 89s - loss: 2.3959 - accuracy: 0.0972 - val_loss: 2.3205 - val_accuracy: 0.0898 - _timestamp: 1648674355.0000 - _runtime: 966.0000 - 89s/epoch - 275ms/step\n",
            "Epoch 11/20\n",
            "322/322 - 114s - loss: 2.3834 - accuracy: 0.0982 - val_loss: 2.3101 - val_accuracy: 0.0898 - _timestamp: 1648674470.0000 - _runtime: 1081.0000 - 114s/epoch - 355ms/step\n",
            "Epoch 12/20\n",
            "322/322 - 100s - loss: 2.3715 - accuracy: 0.0993 - val_loss: 2.3014 - val_accuracy: 0.0898 - _timestamp: 1648674570.0000 - _runtime: 1181.0000 - 100s/epoch - 312ms/step\n",
            "Epoch 13/20\n",
            "322/322 - 100s - loss: 2.3640 - accuracy: 0.1095 - val_loss: 2.2942 - val_accuracy: 0.0898 - _timestamp: 1648674670.0000 - _runtime: 1281.0000 - 100s/epoch - 309ms/step\n",
            "Epoch 14/20\n",
            "322/322 - 99s - loss: 2.3503 - accuracy: 0.1123 - val_loss: 2.2897 - val_accuracy: 0.0898 - _timestamp: 1648674768.0000 - _runtime: 1379.0000 - 99s/epoch - 307ms/step\n",
            "Epoch 15/20\n",
            "322/322 - 99s - loss: 2.3454 - accuracy: 0.1131 - val_loss: 2.2841 - val_accuracy: 0.1158 - _timestamp: 1648674867.0000 - _runtime: 1478.0000 - 99s/epoch - 306ms/step\n",
            "Epoch 16/20\n",
            "322/322 - 93s - loss: 2.3410 - accuracy: 0.1174 - val_loss: 2.2786 - val_accuracy: 0.2217 - _timestamp: 1648674960.0000 - _runtime: 1571.0000 - 93s/epoch - 288ms/step\n",
            "Epoch 17/20\n",
            "322/322 - 89s - loss: 2.3241 - accuracy: 0.1282 - val_loss: 2.2703 - val_accuracy: 0.2217 - _timestamp: 1648675049.0000 - _runtime: 1660.0000 - 89s/epoch - 277ms/step\n",
            "Epoch 18/20\n",
            "322/322 - 89s - loss: 2.3253 - accuracy: 0.1348 - val_loss: 2.2666 - val_accuracy: 0.2217 - _timestamp: 1648675138.0000 - _runtime: 1749.0000 - 89s/epoch - 277ms/step\n",
            "Epoch 19/20\n",
            "322/322 - 89s - loss: 2.3232 - accuracy: 0.1364 - val_loss: 2.2638 - val_accuracy: 0.2217 - _timestamp: 1648675227.0000 - _runtime: 1838.0000 - 89s/epoch - 277ms/step\n",
            "Epoch 20/20\n",
            "322/322 - 90s - loss: 2.3141 - accuracy: 0.1454 - val_loss: 2.2607 - val_accuracy: 0.2217 - _timestamp: 1648675317.0000 - _runtime: 1928.0000 - 90s/epoch - 279ms/step\n",
            "62/62 - 21s - loss: 2.3134 - accuracy: 0.1008 - 21s/epoch - 344ms/step\n",
            "Test accuracy on model is :  0.10080645233392715\n",
            "{'Training_loss': 2.3834097385406494, 'Validation_loss': 2.3100569248199463, 'Training_accuracy': 0.14543864130973816, 'Validation_accuracy': 0.2217235118150711, '_timestamp': 1648675340, '_runtime': 1951}\n",
            "\n"
          ]
        },
        {
          "output_type": "display_data",
          "data": {
            "text/plain": [
              "<IPython.core.display.HTML object>"
            ],
            "text/html": [
              "Waiting for W&B process to finish... <strong style=\"color:green\">(success).</strong>"
            ]
          },
          "metadata": {}
        },
        {
          "output_type": "display_data",
          "data": {
            "text/plain": [
              "VBox(children=(Label(value='64.756 MB of 64.756 MB uploaded (0.000 MB deduped)\\r'), FloatProgress(value=1.0, m…"
            ],
            "application/vnd.jupyter.widget-view+json": {
              "version_major": 2,
              "version_minor": 0,
              "model_id": "0d4f3d29019b40cc89199231bdc6f094"
            }
          },
          "metadata": {}
        },
        {
          "output_type": "display_data",
          "data": {
            "text/plain": [
              "<IPython.core.display.HTML object>"
            ],
            "text/html": [
              "<style>\n",
              "    table.wandb td:nth-child(1) { padding: 0 10px; text-align: right }\n",
              "    .wandb-row { display: flex; flex-direction: row; flex-wrap: wrap; width: 100% }\n",
              "    .wandb-col { display: flex; flex-direction: column; flex-basis: 100%; flex: 1; padding: 10px; }\n",
              "    </style>\n",
              "<div class=\"wandb-row\"><div class=\"wandb-col\"><h3>Run history:</h3><br/><table class=\"wandb\"><tr><td>Training_accuracy</td><td>▁</td></tr><tr><td>Training_loss</td><td>▁</td></tr><tr><td>Validation_accuracy</td><td>▁</td></tr><tr><td>Validation_loss</td><td>▁</td></tr><tr><td>accuracy</td><td>▁▁▁▂▁▁▁▁▁▁▁▁▂▂▂▂▃▃▃▄█</td></tr><tr><td>epoch</td><td>▁▁▂▂▂▃▃▄▄▄▅▅▅▆▆▇▇▇██</td></tr><tr><td>loss</td><td>██▇▇████▇█▇▆▅▄▄▃▂▂▂▁</td></tr><tr><td>val_accuracy</td><td>▁▂▂▂▂▂▂▂▂▂▂▂▂▂▃█████</td></tr><tr><td>val_loss</td><td>█▇▇▇▇▇▇▇▇▇▆▅▄▄▃▃▂▂▁▁</td></tr></table><br/></div><div class=\"wandb-col\"><h3>Run summary:</h3><br/><table class=\"wandb\"><tr><td>Training_accuracy</td><td>0.14544</td></tr><tr><td>Training_loss</td><td>2.38341</td></tr><tr><td>Validation_accuracy</td><td>0.22172</td></tr><tr><td>Validation_loss</td><td>2.31006</td></tr><tr><td>accuracy</td><td>0.22172</td></tr><tr><td>best_epoch</td><td>19</td></tr><tr><td>best_val_loss</td><td>2.26075</td></tr><tr><td>epoch</td><td>19</td></tr><tr><td>loss</td><td>2.3141</td></tr><tr><td>val_accuracy</td><td>0.22172</td></tr><tr><td>val_loss</td><td>2.26075</td></tr></table><br/></div></div>"
            ]
          },
          "metadata": {}
        },
        {
          "output_type": "display_data",
          "data": {
            "text/plain": [
              "<IPython.core.display.HTML object>"
            ],
            "text/html": [
              "Synced <strong style=\"color:#cdcd00\">Part B</strong>: <a href=\"https://wandb.ai/hithesh-sidhesh/Assignment_2/runs/if03h48j\" target=\"_blank\">https://wandb.ai/hithesh-sidhesh/Assignment_2/runs/if03h48j</a><br/>Synced 5 W&B file(s), 640 media file(s), 0 artifact file(s) and 1 other file(s)"
            ]
          },
          "metadata": {}
        },
        {
          "output_type": "display_data",
          "data": {
            "text/plain": [
              "<IPython.core.display.HTML object>"
            ],
            "text/html": [
              "Find logs at: <code>./wandb/run-20220330_204944-if03h48j/logs</code>"
            ]
          },
          "metadata": {}
        },
        {
          "output_type": "stream",
          "name": "stderr",
          "text": [
            "\u001b[34m\u001b[1mwandb\u001b[0m: Agent Starting Run: vub6oukd with config:\n",
            "\u001b[34m\u001b[1mwandb\u001b[0m: \taugment_data: yes\n",
            "\u001b[34m\u001b[1mwandb\u001b[0m: \tdense_layers: 1\n",
            "\u001b[34m\u001b[1mwandb\u001b[0m: \tdropout: 0.2\n",
            "\u001b[34m\u001b[1mwandb\u001b[0m: \tlayers_freeze: 70\n",
            "\u001b[34m\u001b[1mwandb\u001b[0m: \tmodel: xception\n",
            "\u001b[34m\u001b[1mwandb\u001b[0m: \tsize_layer: 128\n",
            "\u001b[34m\u001b[1mwandb\u001b[0m: \u001b[33mWARNING\u001b[0m Ignored wandb.init() arg project when running a sweep.\n"
          ]
        },
        {
          "output_type": "display_data",
          "data": {
            "text/plain": [
              "<IPython.core.display.HTML object>"
            ],
            "text/html": [
              "Tracking run with wandb version 0.12.11"
            ]
          },
          "metadata": {}
        },
        {
          "output_type": "display_data",
          "data": {
            "text/plain": [
              "<IPython.core.display.HTML object>"
            ],
            "text/html": [
              "Run data is saved locally in <code>/content/inaturalist_12K/train/Amphibia/wandb/run-20220330_212236-vub6oukd</code>"
            ]
          },
          "metadata": {}
        },
        {
          "output_type": "display_data",
          "data": {
            "text/plain": [
              "<IPython.core.display.HTML object>"
            ],
            "text/html": [
              "Syncing run <strong><a href=\"https://wandb.ai/hithesh-sidhesh/Assignment_2/runs/vub6oukd\" target=\"_blank\">Part B</a></strong> to <a href=\"https://wandb.ai/hithesh-sidhesh/Assignment_2\" target=\"_blank\">Weights & Biases</a> (<a href=\"https://wandb.me/run\" target=\"_blank\">docs</a>)<br/>Sweep page:  <a href=\"https://wandb.ai/hithesh-sidhesh/Assignment_2/sweeps/ns0reusj\" target=\"_blank\">https://wandb.ai/hithesh-sidhesh/Assignment_2/sweeps/ns0reusj</a>"
            ]
          },
          "metadata": {}
        },
        {
          "output_type": "display_data",
          "data": {
            "text/plain": [
              "<IPython.core.display.HTML object>"
            ],
            "text/html": [
              "Finishing last run (ID:vub6oukd) before initializing another..."
            ]
          },
          "metadata": {}
        },
        {
          "output_type": "stream",
          "name": "stdout",
          "text": [
            "\n"
          ]
        },
        {
          "output_type": "display_data",
          "data": {
            "text/plain": [
              "<IPython.core.display.HTML object>"
            ],
            "text/html": [
              "Waiting for W&B process to finish... <strong style=\"color:green\">(success).</strong>"
            ]
          },
          "metadata": {}
        },
        {
          "output_type": "display_data",
          "data": {
            "text/plain": [
              "VBox(children=(Label(value='0.001 MB of 0.001 MB uploaded (0.000 MB deduped)\\r'), FloatProgress(value=1.0, max…"
            ],
            "application/vnd.jupyter.widget-view+json": {
              "version_major": 2,
              "version_minor": 0,
              "model_id": "c890404d87464e968043cd807cf8fc8d"
            }
          },
          "metadata": {}
        },
        {
          "output_type": "display_data",
          "data": {
            "text/plain": [
              "<IPython.core.display.HTML object>"
            ],
            "text/html": [
              "Synced <strong style=\"color:#cdcd00\">Part B</strong>: <a href=\"https://wandb.ai/hithesh-sidhesh/Assignment_2/runs/vub6oukd\" target=\"_blank\">https://wandb.ai/hithesh-sidhesh/Assignment_2/runs/vub6oukd</a><br/>Synced 4 W&B file(s), 0 media file(s), 0 artifact file(s) and 0 other file(s)"
            ]
          },
          "metadata": {}
        },
        {
          "output_type": "display_data",
          "data": {
            "text/plain": [
              "<IPython.core.display.HTML object>"
            ],
            "text/html": [
              "Find logs at: <code>./wandb/run-20220330_212236-vub6oukd/logs</code>"
            ]
          },
          "metadata": {}
        },
        {
          "output_type": "display_data",
          "data": {
            "text/plain": [
              "<IPython.core.display.HTML object>"
            ],
            "text/html": [
              "Successfully finished last run (ID:vub6oukd). Initializing new run:<br/>"
            ]
          },
          "metadata": {}
        },
        {
          "output_type": "display_data",
          "data": {
            "text/plain": [
              "<IPython.core.display.HTML object>"
            ],
            "text/html": [
              "Tracking run with wandb version 0.12.11"
            ]
          },
          "metadata": {}
        },
        {
          "output_type": "display_data",
          "data": {
            "text/plain": [
              "<IPython.core.display.HTML object>"
            ],
            "text/html": [
              "Run data is saved locally in <code>/content/inaturalist_12K/train/Amphibia/wandb/run-20220330_212242-vub6oukd</code>"
            ]
          },
          "metadata": {}
        },
        {
          "output_type": "display_data",
          "data": {
            "text/plain": [
              "<IPython.core.display.HTML object>"
            ],
            "text/html": [
              "Syncing run <strong><a href=\"https://wandb.ai/hithesh-sidhesh/Assignment_2/runs/vub6oukd\" target=\"_blank\">Part B</a></strong> to <a href=\"https://wandb.ai/hithesh-sidhesh/Assignment_2\" target=\"_blank\">Weights & Biases</a> (<a href=\"https://wandb.me/run\" target=\"_blank\">docs</a>)<br/>Sweep page:  <a href=\"https://wandb.ai/hithesh-sidhesh/Assignment_2/sweeps/ns0reusj\" target=\"_blank\">https://wandb.ai/hithesh-sidhesh/Assignment_2/sweeps/ns0reusj</a>"
            ]
          },
          "metadata": {}
        },
        {
          "output_type": "stream",
          "name": "stdout",
          "text": [
            "Xception chosen\n",
            "Model: \"sequential\"\n",
            "_________________________________________________________________\n",
            " Layer (type)                Output Shape              Param #   \n",
            "=================================================================\n",
            " xception (Functional)       (None, 2048)              20861480  \n",
            "                                                                 \n",
            " flatten (Flatten)           (None, 2048)              0         \n",
            "                                                                 \n",
            " dense (Dense)               (None, 128)               262272    \n",
            "                                                                 \n",
            " dropout (Dropout)           (None, 128)               0         \n",
            "                                                                 \n",
            " dense_1 (Dense)             (None, 10)                1290      \n",
            "                                                                 \n",
            "=================================================================\n",
            "Total params: 21,125,042\n",
            "Trainable params: 0\n",
            "Non-trainable params: 21,125,042\n",
            "_________________________________________________________________\n",
            "Found 10901 images belonging to 10 classes.\n",
            "TRAINING\n",
            "Number of samples 10901\n",
            "Names of classes {'Amphibia': 0, 'Animalia': 1, 'Arachnida': 2, 'Aves': 3, 'Fungi': 4, 'Insecta': 5, 'Mammalia': 6, 'Mollusca': 7, 'Plantae': 8, 'Reptilia': 9}\n",
            "Number of classes 10\n",
            "Number of samples per class 1090\n",
            "Found 1210 images belonging to 10 classes.\n",
            "VALIDATION\n",
            "Number of samples 1210\n",
            "Names of classes {'Amphibia': 0, 'Animalia': 1, 'Arachnida': 2, 'Aves': 3, 'Fungi': 4, 'Insecta': 5, 'Mammalia': 6, 'Mollusca': 7, 'Plantae': 8, 'Reptilia': 9}\n",
            "Number of classes 10\n",
            "Number of samples per class 121\n",
            "Found 2000 images belonging to 10 classes.\n",
            "Epoch 1/10\n",
            "340/340 - 106s - loss: 2.6378 - accuracy: 0.0946 - val_loss: 2.5439 - val_accuracy: 0.0938 - _timestamp: 1648675482.0000 - _runtime: 115.0000 - 106s/epoch - 312ms/step\n",
            "Epoch 2/10\n",
            "340/340 - 101s - loss: 2.6344 - accuracy: 0.0956 - val_loss: 2.5463 - val_accuracy: 0.0934 - _timestamp: 1648675583.0000 - _runtime: 216.0000 - 101s/epoch - 298ms/step\n",
            "Epoch 3/10\n",
            "340/340 - 100s - loss: 2.6367 - accuracy: 0.0911 - val_loss: 2.5468 - val_accuracy: 0.0942 - _timestamp: 1648675683.0000 - _runtime: 316.0000 - 100s/epoch - 295ms/step\n",
            "Epoch 4/10\n",
            "340/340 - 101s - loss: 2.6325 - accuracy: 0.0947 - val_loss: 2.5465 - val_accuracy: 0.0934 - _timestamp: 1648675785.0000 - _runtime: 418.0000 - 101s/epoch - 298ms/step\n",
            "Epoch 5/10\n",
            "340/340 - 97s - loss: 2.6398 - accuracy: 0.0926 - val_loss: 2.5477 - val_accuracy: 0.0942 - _timestamp: 1648675882.0000 - _runtime: 515.0000 - 97s/epoch - 287ms/step\n",
            "Epoch 6/10\n",
            "340/340 - 102s - loss: 2.6316 - accuracy: 0.0977 - val_loss: 2.5496 - val_accuracy: 0.0942 - _timestamp: 1648675984.0000 - _runtime: 617.0000 - 102s/epoch - 299ms/step\n",
            "Epoch 7/10\n",
            "340/340 - 86s - loss: 2.6417 - accuracy: 0.0917 - val_loss: 2.5436 - val_accuracy: 0.0942 - _timestamp: 1648676069.0000 - _runtime: 702.0000 - 86s/epoch - 253ms/step\n",
            "Epoch 8/10\n",
            "340/340 - 89s - loss: 2.6361 - accuracy: 0.0987 - val_loss: 2.5484 - val_accuracy: 0.0942 - _timestamp: 1648676159.0000 - _runtime: 792.0000 - 89s/epoch - 261ms/step\n",
            "Epoch 9/10\n",
            "340/340 - 90s - loss: 2.6406 - accuracy: 0.0954 - val_loss: 2.5424 - val_accuracy: 0.0942 - _timestamp: 1648676248.0000 - _runtime: 881.0000 - 90s/epoch - 265ms/step\n",
            "Epoch 10/10\n",
            "340/340 - 89s - loss: 2.6305 - accuracy: 0.0977 - val_loss: 2.5537 - val_accuracy: 0.0917 - _timestamp: 1648676338.0000 - _runtime: 971.0000 - 89s/epoch - 262ms/step\n",
            "Epoch 11/20\n",
            "340/340 - 106s - loss: 2.6078 - accuracy: 0.0997 - val_loss: 2.5279 - val_accuracy: 0.0849 - _timestamp: 1648676444.0000 - _runtime: 1077.0000 - 106s/epoch - 313ms/step\n",
            "Epoch 12/20\n",
            "340/340 - 101s - loss: 2.5784 - accuracy: 0.0969 - val_loss: 2.4899 - val_accuracy: 0.0866 - _timestamp: 1648676545.0000 - _runtime: 1178.0000 - 101s/epoch - 298ms/step\n",
            "Epoch 13/20\n",
            "340/340 - 101s - loss: 2.5356 - accuracy: 0.1015 - val_loss: 2.4383 - val_accuracy: 0.1019 - _timestamp: 1648676646.0000 - _runtime: 1279.0000 - 101s/epoch - 297ms/step\n",
            "Epoch 14/20\n",
            "340/340 - 100s - loss: 2.5063 - accuracy: 0.1003 - val_loss: 2.4067 - val_accuracy: 0.1002 - _timestamp: 1648676747.0000 - _runtime: 1380.0000 - 100s/epoch - 296ms/step\n",
            "Epoch 15/20\n",
            "340/340 - 98s - loss: 2.4700 - accuracy: 0.1096 - val_loss: 2.3795 - val_accuracy: 0.1036 - _timestamp: 1648676845.0000 - _runtime: 1478.0000 - 98s/epoch - 288ms/step\n",
            "Epoch 16/20\n",
            "340/340 - 95s - loss: 2.4473 - accuracy: 0.1100 - val_loss: 2.3679 - val_accuracy: 0.1112 - _timestamp: 1648676939.0000 - _runtime: 1572.0000 - 95s/epoch - 278ms/step\n",
            "Epoch 17/20\n",
            "340/340 - 90s - loss: 2.4269 - accuracy: 0.1222 - val_loss: 2.3492 - val_accuracy: 0.1138 - _timestamp: 1648677029.0000 - _runtime: 1662.0000 - 90s/epoch - 264ms/step\n",
            "Epoch 18/20\n",
            "340/340 - 97s - loss: 2.3972 - accuracy: 0.1287 - val_loss: 2.3296 - val_accuracy: 0.1282 - _timestamp: 1648677126.0000 - _runtime: 1759.0000 - 97s/epoch - 285ms/step\n",
            "Epoch 19/20\n",
            "340/340 - 86s - loss: 2.3839 - accuracy: 0.1378 - val_loss: 2.3086 - val_accuracy: 0.1443 - _timestamp: 1648677212.0000 - _runtime: 1845.0000 - 86s/epoch - 252ms/step\n",
            "Epoch 20/20\n",
            "340/340 - 90s - loss: 2.3671 - accuracy: 0.1396 - val_loss: 2.2917 - val_accuracy: 0.1553 - _timestamp: 1648677302.0000 - _runtime: 1935.0000 - 90s/epoch - 264ms/step\n",
            "62/62 - 21s - loss: 2.3671 - accuracy: 0.1205 - 21s/epoch - 331ms/step\n",
            "Test accuracy on model is :  0.12046370655298233\n",
            "{'Training_loss': 2.6077611446380615, 'Validation_loss': 2.527942180633545, 'Training_accuracy': 0.13957126438617706, 'Validation_accuracy': 0.1553480476140976, '_timestamp': 1648677343, '_runtime': 1976}\n",
            "\n"
          ]
        },
        {
          "output_type": "display_data",
          "data": {
            "text/plain": [
              "<IPython.core.display.HTML object>"
            ],
            "text/html": [
              "Waiting for W&B process to finish... <strong style=\"color:green\">(success).</strong>"
            ]
          },
          "metadata": {}
        },
        {
          "output_type": "display_data",
          "data": {
            "text/plain": [
              "VBox(children=(Label(value='103.421 MB of 103.421 MB uploaded (0.000 MB deduped)\\r'), FloatProgress(value=1.0,…"
            ],
            "application/vnd.jupyter.widget-view+json": {
              "version_major": 2,
              "version_minor": 0,
              "model_id": "1a24218f78894a958b41774320fcff10"
            }
          },
          "metadata": {}
        },
        {
          "output_type": "display_data",
          "data": {
            "text/plain": [
              "<IPython.core.display.HTML object>"
            ],
            "text/html": [
              "<style>\n",
              "    table.wandb td:nth-child(1) { padding: 0 10px; text-align: right }\n",
              "    .wandb-row { display: flex; flex-direction: row; flex-wrap: wrap; width: 100% }\n",
              "    .wandb-col { display: flex; flex-direction: column; flex-basis: 100%; flex: 1; padding: 10px; }\n",
              "    </style>\n",
              "<div class=\"wandb-row\"><div class=\"wandb-col\"><h3>Run history:</h3><br/><table class=\"wandb\"><tr><td>Training_accuracy</td><td>▁</td></tr><tr><td>Training_loss</td><td>▁</td></tr><tr><td>Validation_accuracy</td><td>▁</td></tr><tr><td>Validation_loss</td><td>▁</td></tr><tr><td>accuracy</td><td>▁▁▁▁▁▂▁▂▁▂▂▂▂▂▃▃▄▅▆▆█</td></tr><tr><td>epoch</td><td>▁▁▂▂▂▃▃▄▄▄▅▅▅▆▆▇▇▇██</td></tr><tr><td>loss</td><td>██████████▇▆▅▅▄▃▃▂▁▁</td></tr><tr><td>val_accuracy</td><td>▂▂▂▂▂▂▂▂▂▂▁▁▃▃▃▄▄▅▇█</td></tr><tr><td>val_loss</td><td>██████████▇▆▅▄▃▃▃▂▁▁</td></tr></table><br/></div><div class=\"wandb-col\"><h3>Run summary:</h3><br/><table class=\"wandb\"><tr><td>Training_accuracy</td><td>0.13957</td></tr><tr><td>Training_loss</td><td>2.60776</td></tr><tr><td>Validation_accuracy</td><td>0.15535</td></tr><tr><td>Validation_loss</td><td>2.52794</td></tr><tr><td>accuracy</td><td>0.15535</td></tr><tr><td>best_epoch</td><td>19</td></tr><tr><td>best_val_loss</td><td>2.29171</td></tr><tr><td>epoch</td><td>19</td></tr><tr><td>loss</td><td>2.36714</td></tr><tr><td>val_accuracy</td><td>0.15535</td></tr><tr><td>val_loss</td><td>2.29171</td></tr></table><br/></div></div>"
            ]
          },
          "metadata": {}
        },
        {
          "output_type": "display_data",
          "data": {
            "text/plain": [
              "<IPython.core.display.HTML object>"
            ],
            "text/html": [
              "Synced <strong style=\"color:#cdcd00\">Part B</strong>: <a href=\"https://wandb.ai/hithesh-sidhesh/Assignment_2/runs/vub6oukd\" target=\"_blank\">https://wandb.ai/hithesh-sidhesh/Assignment_2/runs/vub6oukd</a><br/>Synced 5 W&B file(s), 640 media file(s), 0 artifact file(s) and 1 other file(s)"
            ]
          },
          "metadata": {}
        },
        {
          "output_type": "display_data",
          "data": {
            "text/plain": [
              "<IPython.core.display.HTML object>"
            ],
            "text/html": [
              "Find logs at: <code>./wandb/run-20220330_212242-vub6oukd/logs</code>"
            ]
          },
          "metadata": {}
        },
        {
          "output_type": "stream",
          "name": "stderr",
          "text": [
            "\u001b[34m\u001b[1mwandb\u001b[0m: Agent Starting Run: cv9yb1su with config:\n",
            "\u001b[34m\u001b[1mwandb\u001b[0m: \taugment_data: yes\n",
            "\u001b[34m\u001b[1mwandb\u001b[0m: \tdense_layers: 2\n",
            "\u001b[34m\u001b[1mwandb\u001b[0m: \tdropout: 0.5\n",
            "\u001b[34m\u001b[1mwandb\u001b[0m: \tlayers_freeze: 80\n",
            "\u001b[34m\u001b[1mwandb\u001b[0m: \tmodel: mobilenet\n",
            "\u001b[34m\u001b[1mwandb\u001b[0m: \tsize_layer: 128\n",
            "\u001b[34m\u001b[1mwandb\u001b[0m: \u001b[33mWARNING\u001b[0m Ignored wandb.init() arg project when running a sweep.\n"
          ]
        },
        {
          "output_type": "display_data",
          "data": {
            "text/plain": [
              "<IPython.core.display.HTML object>"
            ],
            "text/html": [
              "Tracking run with wandb version 0.12.11"
            ]
          },
          "metadata": {}
        },
        {
          "output_type": "display_data",
          "data": {
            "text/plain": [
              "<IPython.core.display.HTML object>"
            ],
            "text/html": [
              "Run data is saved locally in <code>/content/inaturalist_12K/train/Amphibia/wandb/run-20220330_215559-cv9yb1su</code>"
            ]
          },
          "metadata": {}
        },
        {
          "output_type": "display_data",
          "data": {
            "text/plain": [
              "<IPython.core.display.HTML object>"
            ],
            "text/html": [
              "Syncing run <strong><a href=\"https://wandb.ai/hithesh-sidhesh/Assignment_2/runs/cv9yb1su\" target=\"_blank\">Part B</a></strong> to <a href=\"https://wandb.ai/hithesh-sidhesh/Assignment_2\" target=\"_blank\">Weights & Biases</a> (<a href=\"https://wandb.me/run\" target=\"_blank\">docs</a>)<br/>Sweep page:  <a href=\"https://wandb.ai/hithesh-sidhesh/Assignment_2/sweeps/ns0reusj\" target=\"_blank\">https://wandb.ai/hithesh-sidhesh/Assignment_2/sweeps/ns0reusj</a>"
            ]
          },
          "metadata": {}
        },
        {
          "output_type": "display_data",
          "data": {
            "text/plain": [
              "<IPython.core.display.HTML object>"
            ],
            "text/html": [
              "Finishing last run (ID:cv9yb1su) before initializing another..."
            ]
          },
          "metadata": {}
        },
        {
          "output_type": "stream",
          "name": "stdout",
          "text": [
            "\n"
          ]
        },
        {
          "output_type": "display_data",
          "data": {
            "text/plain": [
              "<IPython.core.display.HTML object>"
            ],
            "text/html": [
              "Waiting for W&B process to finish... <strong style=\"color:green\">(success).</strong>"
            ]
          },
          "metadata": {}
        },
        {
          "output_type": "display_data",
          "data": {
            "text/plain": [
              "VBox(children=(Label(value='0.001 MB of 0.001 MB uploaded (0.000 MB deduped)\\r'), FloatProgress(value=1.0, max…"
            ],
            "application/vnd.jupyter.widget-view+json": {
              "version_major": 2,
              "version_minor": 0,
              "model_id": "ad13fe2f439d42a4973347d77c48540f"
            }
          },
          "metadata": {}
        },
        {
          "output_type": "display_data",
          "data": {
            "text/plain": [
              "<IPython.core.display.HTML object>"
            ],
            "text/html": [
              "Synced <strong style=\"color:#cdcd00\">Part B</strong>: <a href=\"https://wandb.ai/hithesh-sidhesh/Assignment_2/runs/cv9yb1su\" target=\"_blank\">https://wandb.ai/hithesh-sidhesh/Assignment_2/runs/cv9yb1su</a><br/>Synced 4 W&B file(s), 0 media file(s), 0 artifact file(s) and 0 other file(s)"
            ]
          },
          "metadata": {}
        },
        {
          "output_type": "display_data",
          "data": {
            "text/plain": [
              "<IPython.core.display.HTML object>"
            ],
            "text/html": [
              "Find logs at: <code>./wandb/run-20220330_215559-cv9yb1su/logs</code>"
            ]
          },
          "metadata": {}
        },
        {
          "output_type": "display_data",
          "data": {
            "text/plain": [
              "<IPython.core.display.HTML object>"
            ],
            "text/html": [
              "Successfully finished last run (ID:cv9yb1su). Initializing new run:<br/>"
            ]
          },
          "metadata": {}
        },
        {
          "output_type": "display_data",
          "data": {
            "text/plain": [
              "<IPython.core.display.HTML object>"
            ],
            "text/html": [
              "Tracking run with wandb version 0.12.11"
            ]
          },
          "metadata": {}
        },
        {
          "output_type": "display_data",
          "data": {
            "text/plain": [
              "<IPython.core.display.HTML object>"
            ],
            "text/html": [
              "Run data is saved locally in <code>/content/inaturalist_12K/train/Amphibia/wandb/run-20220330_215606-cv9yb1su</code>"
            ]
          },
          "metadata": {}
        },
        {
          "output_type": "display_data",
          "data": {
            "text/plain": [
              "<IPython.core.display.HTML object>"
            ],
            "text/html": [
              "Syncing run <strong><a href=\"https://wandb.ai/hithesh-sidhesh/Assignment_2/runs/cv9yb1su\" target=\"_blank\">Part B</a></strong> to <a href=\"https://wandb.ai/hithesh-sidhesh/Assignment_2\" target=\"_blank\">Weights & Biases</a> (<a href=\"https://wandb.me/run\" target=\"_blank\">docs</a>)<br/>Sweep page:  <a href=\"https://wandb.ai/hithesh-sidhesh/Assignment_2/sweeps/ns0reusj\" target=\"_blank\">https://wandb.ai/hithesh-sidhesh/Assignment_2/sweeps/ns0reusj</a>"
            ]
          },
          "metadata": {}
        },
        {
          "output_type": "stream",
          "name": "stdout",
          "text": [
            "Mobilenet chosen\n",
            "Model: \"sequential\"\n",
            "_________________________________________________________________\n",
            " Layer (type)                Output Shape              Param #   \n",
            "=================================================================\n",
            " mobilenetv2_1.00_128 (Funct  (None, 1280)             2257984   \n",
            " ional)                                                          \n",
            "                                                                 \n",
            " flatten (Flatten)           (None, 1280)              0         \n",
            "                                                                 \n",
            " dense (Dense)               (None, 128)               163968    \n",
            "                                                                 \n",
            " dropout (Dropout)           (None, 128)               0         \n",
            "                                                                 \n",
            " dense_1 (Dense)             (None, 128)               16512     \n",
            "                                                                 \n",
            " dropout_1 (Dropout)         (None, 128)               0         \n",
            "                                                                 \n",
            " dense_2 (Dense)             (None, 10)                1290      \n",
            "                                                                 \n",
            "=================================================================\n",
            "Total params: 2,439,754\n",
            "Trainable params: 0\n",
            "Non-trainable params: 2,439,754\n",
            "_________________________________________________________________\n",
            "Found 11477 images belonging to 10 classes.\n",
            "TRAINING\n",
            "Number of samples 11477\n",
            "Names of classes {'Amphibia': 0, 'Animalia': 1, 'Arachnida': 2, 'Aves': 3, 'Fungi': 4, 'Insecta': 5, 'Mammalia': 6, 'Mollusca': 7, 'Plantae': 8, 'Reptilia': 9}\n",
            "Number of classes 10\n",
            "Number of samples per class 1147\n",
            "Found 1274 images belonging to 10 classes.\n",
            "VALIDATION\n",
            "Number of samples 1274\n",
            "Names of classes {'Amphibia': 0, 'Animalia': 1, 'Arachnida': 2, 'Aves': 3, 'Fungi': 4, 'Insecta': 5, 'Mammalia': 6, 'Mollusca': 7, 'Plantae': 8, 'Reptilia': 9}\n",
            "Number of classes 10\n",
            "Number of samples per class 127\n",
            "Found 2000 images belonging to 10 classes.\n",
            "Epoch 1/10\n",
            "358/358 - 106s - loss: 3.3243 - accuracy: 0.0884 - val_loss: 2.6333 - val_accuracy: 0.0697 - _timestamp: 1648677486.0000 - _runtime: 115.0000 - 106s/epoch - 296ms/step\n",
            "Epoch 2/10\n",
            "358/358 - 101s - loss: 3.2969 - accuracy: 0.0877 - val_loss: 2.6261 - val_accuracy: 0.0700 - _timestamp: 1648677587.0000 - _runtime: 216.0000 - 101s/epoch - 283ms/step\n",
            "Epoch 3/10\n",
            "358/358 - 101s - loss: 3.3148 - accuracy: 0.0882 - val_loss: 2.6239 - val_accuracy: 0.0700 - _timestamp: 1648677688.0000 - _runtime: 317.0000 - 101s/epoch - 281ms/step\n",
            "Epoch 4/10\n",
            "358/358 - 100s - loss: 3.2873 - accuracy: 0.0905 - val_loss: 2.6251 - val_accuracy: 0.0684 - _timestamp: 1648677788.0000 - _runtime: 417.0000 - 100s/epoch - 280ms/step\n",
            "Epoch 5/10\n",
            "358/358 - 98s - loss: 3.3249 - accuracy: 0.0870 - val_loss: 2.6306 - val_accuracy: 0.0700 - _timestamp: 1648677886.0000 - _runtime: 515.0000 - 98s/epoch - 274ms/step\n",
            "Epoch 6/10\n",
            "358/358 - 94s - loss: 3.2999 - accuracy: 0.0922 - val_loss: 2.6250 - val_accuracy: 0.0700 - _timestamp: 1648677981.0000 - _runtime: 610.0000 - 94s/epoch - 264ms/step\n",
            "Epoch 7/10\n",
            "358/358 - 96s - loss: 3.3027 - accuracy: 0.0881 - val_loss: 2.6250 - val_accuracy: 0.0700 - _timestamp: 1648678076.0000 - _runtime: 705.0000 - 96s/epoch - 267ms/step\n",
            "Epoch 8/10\n",
            "358/358 - 87s - loss: 3.3032 - accuracy: 0.0870 - val_loss: 2.6248 - val_accuracy: 0.0700 - _timestamp: 1648678164.0000 - _runtime: 793.0000 - 87s/epoch - 244ms/step\n",
            "Epoch 9/10\n",
            "358/358 - 95s - loss: 3.2926 - accuracy: 0.0851 - val_loss: 2.6233 - val_accuracy: 0.0700 - _timestamp: 1648678258.0000 - _runtime: 887.0000 - 95s/epoch - 265ms/step\n",
            "Epoch 10/10\n",
            "358/358 - 81s - loss: 3.3142 - accuracy: 0.0836 - val_loss: 2.6239 - val_accuracy: 0.0700 - _timestamp: 1648678339.0000 - _runtime: 968.0000 - 81s/epoch - 226ms/step\n",
            "Epoch 11/20\n",
            "358/358 - 107s - loss: 3.2698 - accuracy: 0.0868 - val_loss: 2.5760 - val_accuracy: 0.0741 - _timestamp: 1648678470.0000 - _runtime: 1099.0000 - 107s/epoch - 298ms/step\n",
            "Epoch 12/20\n",
            "358/358 - 102s - loss: 3.2032 - accuracy: 0.0881 - val_loss: 2.5570 - val_accuracy: 0.0749 - _timestamp: 1648678573.0000 - _runtime: 1202.0000 - 102s/epoch - 285ms/step\n",
            "Epoch 13/20\n",
            "358/358 - 101s - loss: 3.1057 - accuracy: 0.0984 - val_loss: 2.5158 - val_accuracy: 0.0773 - _timestamp: 1648678674.0000 - _runtime: 1303.0000 - 101s/epoch - 283ms/step\n",
            "Epoch 14/20\n",
            "358/358 - 100s - loss: 3.0863 - accuracy: 0.0966 - val_loss: 2.4844 - val_accuracy: 0.0765 - _timestamp: 1648678774.0000 - _runtime: 1403.0000 - 100s/epoch - 279ms/step\n",
            "Epoch 15/20\n",
            "358/358 - 105s - loss: 3.0361 - accuracy: 0.0993 - val_loss: 2.4594 - val_accuracy: 0.0829 - _timestamp: 1648678879.0000 - _runtime: 1508.0000 - 105s/epoch - 294ms/step\n",
            "Epoch 16/20\n",
            "358/358 - 95s - loss: 2.9962 - accuracy: 0.1076 - val_loss: 2.4294 - val_accuracy: 0.0853 - _timestamp: 1648678974.0000 - _runtime: 1603.0000 - 95s/epoch - 265ms/step\n",
            "Epoch 17/20\n",
            "358/358 - 88s - loss: 2.9402 - accuracy: 0.1146 - val_loss: 2.4005 - val_accuracy: 0.0894 - _timestamp: 1648679062.0000 - _runtime: 1691.0000 - 88s/epoch - 246ms/step\n",
            "Epoch 18/20\n",
            "358/358 - 89s - loss: 2.9197 - accuracy: 0.1185 - val_loss: 2.3791 - val_accuracy: 0.0974 - _timestamp: 1648679151.0000 - _runtime: 1780.0000 - 89s/epoch - 248ms/step\n",
            "Epoch 19/20\n",
            "358/358 - 88s - loss: 2.8830 - accuracy: 0.1220 - val_loss: 2.3533 - val_accuracy: 0.1111 - _timestamp: 1648679239.0000 - _runtime: 1868.0000 - 88s/epoch - 246ms/step\n",
            "Epoch 20/20\n",
            "358/358 - 89s - loss: 2.8619 - accuracy: 0.1303 - val_loss: 2.3408 - val_accuracy: 0.1208 - _timestamp: 1648679328.0000 - _runtime: 1957.0000 - 89s/epoch - 250ms/step\n",
            "62/62 - 20s - loss: 2.3807 - accuracy: 0.0963 - 20s/epoch - 328ms/step\n",
            "Test accuracy on model is :  0.09627015888690948\n",
            "{'Training_loss': 3.269800901412964, 'Validation_loss': 2.5759947299957275, 'Training_accuracy': 0.13027523458003998, 'Validation_accuracy': 0.12077295035123825, '_timestamp': 1648679350, '_runtime': 1979}\n",
            "\n"
          ]
        },
        {
          "output_type": "display_data",
          "data": {
            "text/plain": [
              "<IPython.core.display.HTML object>"
            ],
            "text/html": [
              "Waiting for W&B process to finish... <strong style=\"color:green\">(success).</strong>"
            ]
          },
          "metadata": {}
        },
        {
          "output_type": "display_data",
          "data": {
            "text/plain": [
              "VBox(children=(Label(value='32.127 MB of 32.127 MB uploaded (0.000 MB deduped)\\r'), FloatProgress(value=1.0, m…"
            ],
            "application/vnd.jupyter.widget-view+json": {
              "version_major": 2,
              "version_minor": 0,
              "model_id": "fd78f77729f3464c9acd6e54fdd7ed11"
            }
          },
          "metadata": {}
        },
        {
          "output_type": "display_data",
          "data": {
            "text/plain": [
              "<IPython.core.display.HTML object>"
            ],
            "text/html": [
              "<style>\n",
              "    table.wandb td:nth-child(1) { padding: 0 10px; text-align: right }\n",
              "    .wandb-row { display: flex; flex-direction: row; flex-wrap: wrap; width: 100% }\n",
              "    .wandb-col { display: flex; flex-direction: column; flex-basis: 100%; flex: 1; padding: 10px; }\n",
              "    </style>\n",
              "<div class=\"wandb-row\"><div class=\"wandb-col\"><h3>Run history:</h3><br/><table class=\"wandb\"><tr><td>Training_accuracy</td><td>▁</td></tr><tr><td>Training_loss</td><td>▁</td></tr><tr><td>Validation_accuracy</td><td>▁</td></tr><tr><td>Validation_loss</td><td>▁</td></tr><tr><td>accuracy</td><td>▂▂▂▂▂▂▂▂▁▁▁▂▃▃▃▅▆▆▇█▇</td></tr><tr><td>epoch</td><td>▁▁▂▂▂▃▃▄▄▄▅▅▅▆▆▇▇▇██</td></tr><tr><td>loss</td><td>███▇██████▇▆▅▄▄▃▂▂▁▁</td></tr><tr><td>val_accuracy</td><td>▁▁▁▁▁▁▁▁▁▁▂▂▂▂▃▃▄▅▇█</td></tr><tr><td>val_loss</td><td>██████████▇▆▅▄▄▃▂▂▁▁</td></tr></table><br/></div><div class=\"wandb-col\"><h3>Run summary:</h3><br/><table class=\"wandb\"><tr><td>Training_accuracy</td><td>0.13028</td></tr><tr><td>Training_loss</td><td>3.2698</td></tr><tr><td>Validation_accuracy</td><td>0.12077</td></tr><tr><td>Validation_loss</td><td>2.57599</td></tr><tr><td>accuracy</td><td>0.12077</td></tr><tr><td>best_epoch</td><td>19</td></tr><tr><td>best_val_loss</td><td>2.34078</td></tr><tr><td>epoch</td><td>19</td></tr><tr><td>loss</td><td>2.86188</td></tr><tr><td>val_accuracy</td><td>0.12077</td></tr><tr><td>val_loss</td><td>2.34078</td></tr></table><br/></div></div>"
            ]
          },
          "metadata": {}
        },
        {
          "output_type": "display_data",
          "data": {
            "text/plain": [
              "<IPython.core.display.HTML object>"
            ],
            "text/html": [
              "Synced <strong style=\"color:#cdcd00\">Part B</strong>: <a href=\"https://wandb.ai/hithesh-sidhesh/Assignment_2/runs/cv9yb1su\" target=\"_blank\">https://wandb.ai/hithesh-sidhesh/Assignment_2/runs/cv9yb1su</a><br/>Synced 5 W&B file(s), 640 media file(s), 0 artifact file(s) and 1 other file(s)"
            ]
          },
          "metadata": {}
        },
        {
          "output_type": "display_data",
          "data": {
            "text/plain": [
              "<IPython.core.display.HTML object>"
            ],
            "text/html": [
              "Find logs at: <code>./wandb/run-20220330_215606-cv9yb1su/logs</code>"
            ]
          },
          "metadata": {}
        },
        {
          "output_type": "stream",
          "name": "stderr",
          "text": [
            "\u001b[34m\u001b[1mwandb\u001b[0m: Sweep Agent: Waiting for job.\n",
            "\u001b[34m\u001b[1mwandb\u001b[0m: Job received.\n",
            "\u001b[34m\u001b[1mwandb\u001b[0m: Agent Starting Run: 8clhcg44 with config:\n",
            "\u001b[34m\u001b[1mwandb\u001b[0m: \taugment_data: yes\n",
            "\u001b[34m\u001b[1mwandb\u001b[0m: \tdense_layers: 2\n",
            "\u001b[34m\u001b[1mwandb\u001b[0m: \tdropout: 0.2\n",
            "\u001b[34m\u001b[1mwandb\u001b[0m: \tlayers_freeze: 100\n",
            "\u001b[34m\u001b[1mwandb\u001b[0m: \tmodel: mobilenet\n",
            "\u001b[34m\u001b[1mwandb\u001b[0m: \tsize_layer: 64\n",
            "\u001b[34m\u001b[1mwandb\u001b[0m: \u001b[33mWARNING\u001b[0m Ignored wandb.init() arg project when running a sweep.\n"
          ]
        },
        {
          "output_type": "display_data",
          "data": {
            "text/plain": [
              "<IPython.core.display.HTML object>"
            ],
            "text/html": [
              "Tracking run with wandb version 0.12.11"
            ]
          },
          "metadata": {}
        },
        {
          "output_type": "display_data",
          "data": {
            "text/plain": [
              "<IPython.core.display.HTML object>"
            ],
            "text/html": [
              "Run data is saved locally in <code>/content/inaturalist_12K/train/Amphibia/wandb/run-20220330_222932-8clhcg44</code>"
            ]
          },
          "metadata": {}
        },
        {
          "output_type": "display_data",
          "data": {
            "text/plain": [
              "<IPython.core.display.HTML object>"
            ],
            "text/html": [
              "Syncing run <strong><a href=\"https://wandb.ai/hithesh-sidhesh/Assignment_2/runs/8clhcg44\" target=\"_blank\">Part B</a></strong> to <a href=\"https://wandb.ai/hithesh-sidhesh/Assignment_2\" target=\"_blank\">Weights & Biases</a> (<a href=\"https://wandb.me/run\" target=\"_blank\">docs</a>)<br/>Sweep page:  <a href=\"https://wandb.ai/hithesh-sidhesh/Assignment_2/sweeps/ns0reusj\" target=\"_blank\">https://wandb.ai/hithesh-sidhesh/Assignment_2/sweeps/ns0reusj</a>"
            ]
          },
          "metadata": {}
        },
        {
          "output_type": "display_data",
          "data": {
            "text/plain": [
              "<IPython.core.display.HTML object>"
            ],
            "text/html": [
              "Finishing last run (ID:8clhcg44) before initializing another..."
            ]
          },
          "metadata": {}
        },
        {
          "output_type": "stream",
          "name": "stdout",
          "text": [
            "\n"
          ]
        },
        {
          "output_type": "display_data",
          "data": {
            "text/plain": [
              "<IPython.core.display.HTML object>"
            ],
            "text/html": [
              "Waiting for W&B process to finish... <strong style=\"color:green\">(success).</strong>"
            ]
          },
          "metadata": {}
        },
        {
          "output_type": "display_data",
          "data": {
            "text/plain": [
              "VBox(children=(Label(value='0.001 MB of 0.001 MB uploaded (0.000 MB deduped)\\r'), FloatProgress(value=1.0, max…"
            ],
            "application/vnd.jupyter.widget-view+json": {
              "version_major": 2,
              "version_minor": 0,
              "model_id": "7edd05edeac3437ca026ef5bbe58b878"
            }
          },
          "metadata": {}
        },
        {
          "output_type": "display_data",
          "data": {
            "text/plain": [
              "<IPython.core.display.HTML object>"
            ],
            "text/html": [
              "Synced <strong style=\"color:#cdcd00\">Part B</strong>: <a href=\"https://wandb.ai/hithesh-sidhesh/Assignment_2/runs/8clhcg44\" target=\"_blank\">https://wandb.ai/hithesh-sidhesh/Assignment_2/runs/8clhcg44</a><br/>Synced 4 W&B file(s), 0 media file(s), 0 artifact file(s) and 0 other file(s)"
            ]
          },
          "metadata": {}
        },
        {
          "output_type": "display_data",
          "data": {
            "text/plain": [
              "<IPython.core.display.HTML object>"
            ],
            "text/html": [
              "Find logs at: <code>./wandb/run-20220330_222932-8clhcg44/logs</code>"
            ]
          },
          "metadata": {}
        },
        {
          "output_type": "display_data",
          "data": {
            "text/plain": [
              "<IPython.core.display.HTML object>"
            ],
            "text/html": [
              "Successfully finished last run (ID:8clhcg44). Initializing new run:<br/>"
            ]
          },
          "metadata": {}
        },
        {
          "output_type": "display_data",
          "data": {
            "text/plain": [
              "<IPython.core.display.HTML object>"
            ],
            "text/html": [
              "Tracking run with wandb version 0.12.11"
            ]
          },
          "metadata": {}
        },
        {
          "output_type": "display_data",
          "data": {
            "text/plain": [
              "<IPython.core.display.HTML object>"
            ],
            "text/html": [
              "Run data is saved locally in <code>/content/inaturalist_12K/train/Amphibia/wandb/run-20220330_222939-8clhcg44</code>"
            ]
          },
          "metadata": {}
        },
        {
          "output_type": "display_data",
          "data": {
            "text/plain": [
              "<IPython.core.display.HTML object>"
            ],
            "text/html": [
              "Syncing run <strong><a href=\"https://wandb.ai/hithesh-sidhesh/Assignment_2/runs/8clhcg44\" target=\"_blank\">Part B</a></strong> to <a href=\"https://wandb.ai/hithesh-sidhesh/Assignment_2\" target=\"_blank\">Weights & Biases</a> (<a href=\"https://wandb.me/run\" target=\"_blank\">docs</a>)<br/>Sweep page:  <a href=\"https://wandb.ai/hithesh-sidhesh/Assignment_2/sweeps/ns0reusj\" target=\"_blank\">https://wandb.ai/hithesh-sidhesh/Assignment_2/sweeps/ns0reusj</a>"
            ]
          },
          "metadata": {}
        },
        {
          "output_type": "stream",
          "name": "stdout",
          "text": [
            "Mobilenet chosen\n",
            "Model: \"sequential\"\n",
            "_________________________________________________________________\n",
            " Layer (type)                Output Shape              Param #   \n",
            "=================================================================\n",
            " mobilenetv2_1.00_128 (Funct  (None, 1280)             2257984   \n",
            " ional)                                                          \n",
            "                                                                 \n",
            " flatten (Flatten)           (None, 1280)              0         \n",
            "                                                                 \n",
            " dense (Dense)               (None, 64)                81984     \n",
            "                                                                 \n",
            " dropout (Dropout)           (None, 64)                0         \n",
            "                                                                 \n",
            " dense_1 (Dense)             (None, 64)                4160      \n",
            "                                                                 \n",
            " dropout_1 (Dropout)         (None, 64)                0         \n",
            "                                                                 \n",
            " dense_2 (Dense)             (None, 10)                650       \n",
            "                                                                 \n",
            "=================================================================\n",
            "Total params: 2,344,778\n",
            "Trainable params: 0\n",
            "Non-trainable params: 2,344,778\n",
            "_________________________________________________________________\n",
            "Found 12053 images belonging to 10 classes.\n",
            "TRAINING\n",
            "Number of samples 12053\n",
            "Names of classes {'Amphibia': 0, 'Animalia': 1, 'Arachnida': 2, 'Aves': 3, 'Fungi': 4, 'Insecta': 5, 'Mammalia': 6, 'Mollusca': 7, 'Plantae': 8, 'Reptilia': 9}\n",
            "Number of classes 10\n",
            "Number of samples per class 1205\n",
            "Found 1338 images belonging to 10 classes.\n",
            "VALIDATION\n",
            "Number of samples 1338\n",
            "Names of classes {'Amphibia': 0, 'Animalia': 1, 'Arachnida': 2, 'Aves': 3, 'Fungi': 4, 'Insecta': 5, 'Mammalia': 6, 'Mollusca': 7, 'Plantae': 8, 'Reptilia': 9}\n",
            "Number of classes 10\n",
            "Number of samples per class 133\n",
            "Found 2000 images belonging to 10 classes.\n",
            "Epoch 1/10\n",
            "376/376 - 107s - loss: 2.8610 - accuracy: 0.0780 - val_loss: 2.7021 - val_accuracy: 0.0747 - _timestamp: 1648679501.0000 - _runtime: 117.0000 - 107s/epoch - 285ms/step\n",
            "Epoch 2/10\n",
            "376/376 - 102s - loss: 2.8579 - accuracy: 0.0763 - val_loss: 2.6965 - val_accuracy: 0.0750 - _timestamp: 1648679603.0000 - _runtime: 219.0000 - 102s/epoch - 271ms/step\n",
            "Epoch 3/10\n",
            "376/376 - 102s - loss: 2.8463 - accuracy: 0.0774 - val_loss: 2.6956 - val_accuracy: 0.0750 - _timestamp: 1648679704.0000 - _runtime: 320.0000 - 102s/epoch - 270ms/step\n",
            "Epoch 4/10\n",
            "376/376 - 101s - loss: 2.8585 - accuracy: 0.0788 - val_loss: 2.6913 - val_accuracy: 0.0750 - _timestamp: 1648679805.0000 - _runtime: 421.0000 - 101s/epoch - 268ms/step\n",
            "Epoch 5/10\n",
            "376/376 - 99s - loss: 2.8515 - accuracy: 0.0797 - val_loss: 2.6940 - val_accuracy: 0.0750 - _timestamp: 1648679904.0000 - _runtime: 520.0000 - 99s/epoch - 263ms/step\n",
            "Epoch 6/10\n",
            "376/376 - 95s - loss: 2.8480 - accuracy: 0.0793 - val_loss: 2.6932 - val_accuracy: 0.0750 - _timestamp: 1648679999.0000 - _runtime: 615.0000 - 95s/epoch - 253ms/step\n",
            "Epoch 7/10\n",
            "376/376 - 89s - loss: 2.8491 - accuracy: 0.0784 - val_loss: 2.6963 - val_accuracy: 0.0750 - _timestamp: 1648680089.0000 - _runtime: 705.0000 - 89s/epoch - 237ms/step\n",
            "Epoch 8/10\n",
            "376/376 - 96s - loss: 2.8452 - accuracy: 0.0784 - val_loss: 2.6935 - val_accuracy: 0.0750 - _timestamp: 1648680184.0000 - _runtime: 800.0000 - 96s/epoch - 254ms/step\n",
            "Epoch 9/10\n",
            "376/376 - 95s - loss: 2.8598 - accuracy: 0.0789 - val_loss: 2.6934 - val_accuracy: 0.0750 - _timestamp: 1648680279.0000 - _runtime: 895.0000 - 95s/epoch - 252ms/step\n",
            "Epoch 10/10\n",
            "376/376 - 82s - loss: 2.8509 - accuracy: 0.0787 - val_loss: 2.6932 - val_accuracy: 0.0750 - _timestamp: 1648680361.0000 - _runtime: 977.0000 - 82s/epoch - 218ms/step\n",
            "Epoch 10: early stopping\n",
            "62/62 - 20s - loss: 2.5554 - accuracy: 0.1079 - 20s/epoch - 327ms/step\n",
            "Test accuracy on model is :  0.10786290466785431\n",
            "{'Training_loss': 2.8610329627990723, 'Validation_loss': 2.7020931243896484, 'Training_accuracy': 0.07969386875629425, 'Validation_accuracy': 0.07503828406333923, '_timestamp': 1648680382, '_runtime': 998}\n",
            "\n"
          ]
        },
        {
          "output_type": "display_data",
          "data": {
            "text/plain": [
              "<IPython.core.display.HTML object>"
            ],
            "text/html": [
              "Waiting for W&B process to finish... <strong style=\"color:green\">(success).</strong>"
            ]
          },
          "metadata": {}
        },
        {
          "output_type": "display_data",
          "data": {
            "text/plain": [
              "VBox(children=(Label(value='20.878 MB of 20.878 MB uploaded (0.000 MB deduped)\\r'), FloatProgress(value=1.0, m…"
            ],
            "application/vnd.jupyter.widget-view+json": {
              "version_major": 2,
              "version_minor": 0,
              "model_id": "61c413e40faa4e10ade04bb9f5d4d521"
            }
          },
          "metadata": {}
        },
        {
          "output_type": "display_data",
          "data": {
            "text/plain": [
              "<IPython.core.display.HTML object>"
            ],
            "text/html": [
              "<style>\n",
              "    table.wandb td:nth-child(1) { padding: 0 10px; text-align: right }\n",
              "    .wandb-row { display: flex; flex-direction: row; flex-wrap: wrap; width: 100% }\n",
              "    .wandb-col { display: flex; flex-direction: column; flex-basis: 100%; flex: 1; padding: 10px; }\n",
              "    </style>\n",
              "<div class=\"wandb-row\"><div class=\"wandb-col\"><h3>Run history:</h3><br/><table class=\"wandb\"><tr><td>Training_accuracy</td><td>▁</td></tr><tr><td>Training_loss</td><td>▁</td></tr><tr><td>Validation_accuracy</td><td>▁</td></tr><tr><td>Validation_loss</td><td>▁</td></tr><tr><td>accuracy</td><td>▆▃▄▇█▇▆▆▇▆▁</td></tr><tr><td>epoch</td><td>▁▂▃▃▄▅▆▆▇█</td></tr><tr><td>loss</td><td>█▇▂▇▄▂▃▁▇▄</td></tr><tr><td>val_accuracy</td><td>▁█████████</td></tr><tr><td>val_loss</td><td>█▄▄▁▃▂▄▂▂▂</td></tr></table><br/></div><div class=\"wandb-col\"><h3>Run summary:</h3><br/><table class=\"wandb\"><tr><td>Training_accuracy</td><td>0.07969</td></tr><tr><td>Training_loss</td><td>2.86103</td></tr><tr><td>Validation_accuracy</td><td>0.07504</td></tr><tr><td>Validation_loss</td><td>2.70209</td></tr><tr><td>accuracy</td><td>0.07504</td></tr><tr><td>best_epoch</td><td>3</td></tr><tr><td>best_val_loss</td><td>2.69126</td></tr><tr><td>epoch</td><td>9</td></tr><tr><td>loss</td><td>2.85088</td></tr><tr><td>val_accuracy</td><td>0.07504</td></tr><tr><td>val_loss</td><td>2.69318</td></tr></table><br/></div></div>"
            ]
          },
          "metadata": {}
        },
        {
          "output_type": "display_data",
          "data": {
            "text/plain": [
              "<IPython.core.display.HTML object>"
            ],
            "text/html": [
              "Synced <strong style=\"color:#cdcd00\">Part B</strong>: <a href=\"https://wandb.ai/hithesh-sidhesh/Assignment_2/runs/8clhcg44\" target=\"_blank\">https://wandb.ai/hithesh-sidhesh/Assignment_2/runs/8clhcg44</a><br/>Synced 5 W&B file(s), 320 media file(s), 0 artifact file(s) and 1 other file(s)"
            ]
          },
          "metadata": {}
        },
        {
          "output_type": "display_data",
          "data": {
            "text/plain": [
              "<IPython.core.display.HTML object>"
            ],
            "text/html": [
              "Find logs at: <code>./wandb/run-20220330_222939-8clhcg44/logs</code>"
            ]
          },
          "metadata": {}
        },
        {
          "output_type": "stream",
          "name": "stderr",
          "text": [
            "\u001b[34m\u001b[1mwandb\u001b[0m: Agent Starting Run: 6xn8qm85 with config:\n",
            "\u001b[34m\u001b[1mwandb\u001b[0m: \taugment_data: yes\n",
            "\u001b[34m\u001b[1mwandb\u001b[0m: \tdense_layers: 1\n",
            "\u001b[34m\u001b[1mwandb\u001b[0m: \tdropout: 0.5\n",
            "\u001b[34m\u001b[1mwandb\u001b[0m: \tlayers_freeze: 60\n",
            "\u001b[34m\u001b[1mwandb\u001b[0m: \tmodel: resnet\n",
            "\u001b[34m\u001b[1mwandb\u001b[0m: \tsize_layer: 32\n",
            "\u001b[34m\u001b[1mwandb\u001b[0m: \u001b[33mWARNING\u001b[0m Ignored wandb.init() arg project when running a sweep.\n"
          ]
        },
        {
          "output_type": "display_data",
          "data": {
            "text/plain": [
              "<IPython.core.display.HTML object>"
            ],
            "text/html": [
              "Tracking run with wandb version 0.12.11"
            ]
          },
          "metadata": {}
        },
        {
          "output_type": "display_data",
          "data": {
            "text/plain": [
              "<IPython.core.display.HTML object>"
            ],
            "text/html": [
              "Run data is saved locally in <code>/content/inaturalist_12K/train/Amphibia/wandb/run-20220330_224633-6xn8qm85</code>"
            ]
          },
          "metadata": {}
        },
        {
          "output_type": "display_data",
          "data": {
            "text/plain": [
              "<IPython.core.display.HTML object>"
            ],
            "text/html": [
              "Syncing run <strong><a href=\"https://wandb.ai/hithesh-sidhesh/Assignment_2/runs/6xn8qm85\" target=\"_blank\">Part B</a></strong> to <a href=\"https://wandb.ai/hithesh-sidhesh/Assignment_2\" target=\"_blank\">Weights & Biases</a> (<a href=\"https://wandb.me/run\" target=\"_blank\">docs</a>)<br/>Sweep page:  <a href=\"https://wandb.ai/hithesh-sidhesh/Assignment_2/sweeps/ns0reusj\" target=\"_blank\">https://wandb.ai/hithesh-sidhesh/Assignment_2/sweeps/ns0reusj</a>"
            ]
          },
          "metadata": {}
        },
        {
          "output_type": "display_data",
          "data": {
            "text/plain": [
              "<IPython.core.display.HTML object>"
            ],
            "text/html": [
              "Finishing last run (ID:6xn8qm85) before initializing another..."
            ]
          },
          "metadata": {}
        },
        {
          "output_type": "stream",
          "name": "stdout",
          "text": [
            "\n"
          ]
        },
        {
          "output_type": "display_data",
          "data": {
            "text/plain": [
              "<IPython.core.display.HTML object>"
            ],
            "text/html": [
              "Waiting for W&B process to finish... <strong style=\"color:green\">(success).</strong>"
            ]
          },
          "metadata": {}
        },
        {
          "output_type": "display_data",
          "data": {
            "text/plain": [
              "VBox(children=(Label(value='0.001 MB of 0.001 MB uploaded (0.000 MB deduped)\\r'), FloatProgress(value=1.0, max…"
            ],
            "application/vnd.jupyter.widget-view+json": {
              "version_major": 2,
              "version_minor": 0,
              "model_id": "0b05961dd64f4b498197d8f7eb8f379e"
            }
          },
          "metadata": {}
        },
        {
          "output_type": "display_data",
          "data": {
            "text/plain": [
              "<IPython.core.display.HTML object>"
            ],
            "text/html": [
              "Synced <strong style=\"color:#cdcd00\">Part B</strong>: <a href=\"https://wandb.ai/hithesh-sidhesh/Assignment_2/runs/6xn8qm85\" target=\"_blank\">https://wandb.ai/hithesh-sidhesh/Assignment_2/runs/6xn8qm85</a><br/>Synced 4 W&B file(s), 0 media file(s), 0 artifact file(s) and 0 other file(s)"
            ]
          },
          "metadata": {}
        },
        {
          "output_type": "display_data",
          "data": {
            "text/plain": [
              "<IPython.core.display.HTML object>"
            ],
            "text/html": [
              "Find logs at: <code>./wandb/run-20220330_224633-6xn8qm85/logs</code>"
            ]
          },
          "metadata": {}
        },
        {
          "output_type": "display_data",
          "data": {
            "text/plain": [
              "<IPython.core.display.HTML object>"
            ],
            "text/html": [
              "Successfully finished last run (ID:6xn8qm85). Initializing new run:<br/>"
            ]
          },
          "metadata": {}
        },
        {
          "output_type": "display_data",
          "data": {
            "text/plain": [
              "<IPython.core.display.HTML object>"
            ],
            "text/html": [
              "Tracking run with wandb version 0.12.11"
            ]
          },
          "metadata": {}
        },
        {
          "output_type": "display_data",
          "data": {
            "text/plain": [
              "<IPython.core.display.HTML object>"
            ],
            "text/html": [
              "Run data is saved locally in <code>/content/inaturalist_12K/train/Amphibia/wandb/run-20220330_224640-6xn8qm85</code>"
            ]
          },
          "metadata": {}
        },
        {
          "output_type": "display_data",
          "data": {
            "text/plain": [
              "<IPython.core.display.HTML object>"
            ],
            "text/html": [
              "Syncing run <strong><a href=\"https://wandb.ai/hithesh-sidhesh/Assignment_2/runs/6xn8qm85\" target=\"_blank\">Part B</a></strong> to <a href=\"https://wandb.ai/hithesh-sidhesh/Assignment_2\" target=\"_blank\">Weights & Biases</a> (<a href=\"https://wandb.me/run\" target=\"_blank\">docs</a>)<br/>Sweep page:  <a href=\"https://wandb.ai/hithesh-sidhesh/Assignment_2/sweeps/ns0reusj\" target=\"_blank\">https://wandb.ai/hithesh-sidhesh/Assignment_2/sweeps/ns0reusj</a>"
            ]
          },
          "metadata": {}
        },
        {
          "output_type": "stream",
          "name": "stdout",
          "text": [
            "Resnet chosen\n",
            "Model: \"sequential\"\n",
            "_________________________________________________________________\n",
            " Layer (type)                Output Shape              Param #   \n",
            "=================================================================\n",
            " resnet50v2 (Functional)     (None, 2048)              23564800  \n",
            "                                                                 \n",
            " flatten (Flatten)           (None, 2048)              0         \n",
            "                                                                 \n",
            " dense (Dense)               (None, 32)                65568     \n",
            "                                                                 \n",
            " dropout (Dropout)           (None, 32)                0         \n",
            "                                                                 \n",
            " dense_1 (Dense)             (None, 10)                330       \n",
            "                                                                 \n",
            "=================================================================\n",
            "Total params: 23,630,698\n",
            "Trainable params: 0\n",
            "Non-trainable params: 23,630,698\n",
            "_________________________________________________________________\n",
            "Found 12341 images belonging to 10 classes.\n",
            "TRAINING\n",
            "Number of samples 12341\n",
            "Names of classes {'Amphibia': 0, 'Animalia': 1, 'Arachnida': 2, 'Aves': 3, 'Fungi': 4, 'Insecta': 5, 'Mammalia': 6, 'Mollusca': 7, 'Plantae': 8, 'Reptilia': 9}\n",
            "Number of classes 10\n",
            "Number of samples per class 1234\n",
            "Found 1370 images belonging to 10 classes.\n",
            "VALIDATION\n",
            "Number of samples 1370\n",
            "Names of classes {'Amphibia': 0, 'Animalia': 1, 'Arachnida': 2, 'Aves': 3, 'Fungi': 4, 'Insecta': 5, 'Mammalia': 6, 'Mollusca': 7, 'Plantae': 8, 'Reptilia': 9}\n",
            "Number of classes 10\n",
            "Number of samples per class 137\n",
            "Found 2000 images belonging to 10 classes.\n",
            "Epoch 1/10\n",
            "385/385 - 108s - loss: 3.5323 - accuracy: 0.1212 - val_loss: 2.9822 - val_accuracy: 0.1376 - _timestamp: 1648680523.0000 - _runtime: 117.0000 - 108s/epoch - 281ms/step\n",
            "Epoch 2/10\n",
            "385/385 - 103s - loss: 3.5768 - accuracy: 0.1185 - val_loss: 2.9874 - val_accuracy: 0.1375 - _timestamp: 1648680627.0000 - _runtime: 221.0000 - 103s/epoch - 267ms/step\n",
            "Epoch 3/10\n",
            "385/385 - 102s - loss: 3.5677 - accuracy: 0.1235 - val_loss: 2.9834 - val_accuracy: 0.1405 - _timestamp: 1648680729.0000 - _runtime: 323.0000 - 102s/epoch - 266ms/step\n",
            "Epoch 4/10\n",
            "385/385 - 102s - loss: 3.5781 - accuracy: 0.1239 - val_loss: 2.9940 - val_accuracy: 0.1360 - _timestamp: 1648680831.0000 - _runtime: 425.0000 - 102s/epoch - 264ms/step\n",
            "Epoch 5/10\n",
            "385/385 - 100s - loss: 3.5494 - accuracy: 0.1195 - val_loss: 2.9785 - val_accuracy: 0.1390 - _timestamp: 1648680931.0000 - _runtime: 525.0000 - 100s/epoch - 261ms/step\n",
            "Epoch 6/10\n",
            "385/385 - 97s - loss: 3.5845 - accuracy: 0.1196 - val_loss: 2.9850 - val_accuracy: 0.1413 - _timestamp: 1648681028.0000 - _runtime: 622.0000 - 97s/epoch - 251ms/step\n",
            "Epoch 7/10\n",
            "385/385 - 89s - loss: 3.5536 - accuracy: 0.1203 - val_loss: 2.9925 - val_accuracy: 0.1383 - _timestamp: 1648681117.0000 - _runtime: 711.0000 - 89s/epoch - 231ms/step\n",
            "Epoch 8/10\n",
            "385/385 - 96s - loss: 3.5469 - accuracy: 0.1209 - val_loss: 2.9915 - val_accuracy: 0.1390 - _timestamp: 1648681212.0000 - _runtime: 806.0000 - 96s/epoch - 249ms/step\n",
            "Epoch 9/10\n",
            "385/385 - 89s - loss: 3.5388 - accuracy: 0.1206 - val_loss: 2.9878 - val_accuracy: 0.1390 - _timestamp: 1648681301.0000 - _runtime: 895.0000 - 89s/epoch - 231ms/step\n",
            "Epoch 10/10\n",
            "385/385 - 95s - loss: 3.5841 - accuracy: 0.1184 - val_loss: 2.9913 - val_accuracy: 0.1360 - _timestamp: 1648681396.0000 - _runtime: 990.0000 - 95s/epoch - 247ms/step\n",
            "Epoch 11/20\n",
            "385/385 - 108s - loss: 3.5232 - accuracy: 0.1224 - val_loss: 2.9610 - val_accuracy: 0.1405 - _timestamp: 1648681504.0000 - _runtime: 1098.0000 - 108s/epoch - 281ms/step\n",
            "Epoch 12/20\n",
            "385/385 - 103s - loss: 3.4805 - accuracy: 0.1271 - val_loss: 2.9278 - val_accuracy: 0.1510 - _timestamp: 1648681608.0000 - _runtime: 1202.0000 - 103s/epoch - 268ms/step\n",
            "Epoch 13/20\n",
            "385/385 - 103s - loss: 3.5281 - accuracy: 0.1290 - val_loss: 2.9085 - val_accuracy: 0.1547 - _timestamp: 1648681711.0000 - _runtime: 1305.0000 - 103s/epoch - 268ms/step\n",
            "Epoch 14/20\n",
            "385/385 - 102s - loss: 3.4432 - accuracy: 0.1289 - val_loss: 2.8654 - val_accuracy: 0.1622 - _timestamp: 1648681812.0000 - _runtime: 1406.0000 - 102s/epoch - 264ms/step\n",
            "Epoch 15/20\n",
            "385/385 - 100s - loss: 3.4112 - accuracy: 0.1321 - val_loss: 2.8307 - val_accuracy: 0.1704 - _timestamp: 1648681912.0000 - _runtime: 1506.0000 - 100s/epoch - 259ms/step\n",
            "Epoch 16/20\n",
            "385/385 - 97s - loss: 3.3656 - accuracy: 0.1371 - val_loss: 2.7980 - val_accuracy: 0.1719 - _timestamp: 1648682009.0000 - _runtime: 1603.0000 - 97s/epoch - 253ms/step\n",
            "Epoch 17/20\n",
            "385/385 - 89s - loss: 3.3840 - accuracy: 0.1336 - val_loss: 2.7875 - val_accuracy: 0.1786 - _timestamp: 1648682099.0000 - _runtime: 1693.0000 - 89s/epoch - 232ms/step\n",
            "Epoch 18/20\n",
            "385/385 - 89s - loss: 3.3427 - accuracy: 0.1424 - val_loss: 2.7589 - val_accuracy: 0.1831 - _timestamp: 1648682188.0000 - _runtime: 1782.0000 - 89s/epoch - 232ms/step\n",
            "Epoch 19/20\n",
            "385/385 - 89s - loss: 3.3107 - accuracy: 0.1414 - val_loss: 2.7401 - val_accuracy: 0.1861 - _timestamp: 1648682277.0000 - _runtime: 1871.0000 - 89s/epoch - 232ms/step\n",
            "Epoch 20/20\n",
            "385/385 - 89s - loss: 3.2827 - accuracy: 0.1459 - val_loss: 2.7151 - val_accuracy: 0.1921 - _timestamp: 1648682366.0000 - _runtime: 1960.0000 - 89s/epoch - 230ms/step\n",
            "62/62 - 21s - loss: 3.1102 - accuracy: 0.0932 - 21s/epoch - 331ms/step\n",
            "Test accuracy on model is :  0.0932459682226181\n",
            "{'Training_loss': 3.5280590057373047, 'Validation_loss': 2.9610414505004883, 'Training_accuracy': 0.14590950310230255, 'Validation_accuracy': 0.19207772612571716, '_timestamp': 1648682388, '_runtime': 1982}\n",
            "\n"
          ]
        },
        {
          "output_type": "display_data",
          "data": {
            "text/plain": [
              "<IPython.core.display.HTML object>"
            ],
            "text/html": [
              "Waiting for W&B process to finish... <strong style=\"color:green\">(success).</strong>"
            ]
          },
          "metadata": {}
        },
        {
          "output_type": "display_data",
          "data": {
            "text/plain": [
              "VBox(children=(Label(value='113.204 MB of 113.204 MB uploaded (0.000 MB deduped)\\r'), FloatProgress(value=1.0,…"
            ],
            "application/vnd.jupyter.widget-view+json": {
              "version_major": 2,
              "version_minor": 0,
              "model_id": "a2afdc33c2f04a70b5d5abdb6a1d9785"
            }
          },
          "metadata": {}
        },
        {
          "output_type": "display_data",
          "data": {
            "text/plain": [
              "<IPython.core.display.HTML object>"
            ],
            "text/html": [
              "<style>\n",
              "    table.wandb td:nth-child(1) { padding: 0 10px; text-align: right }\n",
              "    .wandb-row { display: flex; flex-direction: row; flex-wrap: wrap; width: 100% }\n",
              "    .wandb-col { display: flex; flex-direction: column; flex-basis: 100%; flex: 1; padding: 10px; }\n",
              "    </style>\n",
              "<div class=\"wandb-row\"><div class=\"wandb-col\"><h3>Run history:</h3><br/><table class=\"wandb\"><tr><td>Training_accuracy</td><td>▁</td></tr><tr><td>Training_loss</td><td>▁</td></tr><tr><td>Validation_accuracy</td><td>▁</td></tr><tr><td>Validation_loss</td><td>▁</td></tr><tr><td>accuracy</td><td>▁▁▁▂▁▁▁▁▁▁▁▂▂▂▂▃▂▃▃▄█</td></tr><tr><td>epoch</td><td>▁▁▂▂▂▃▃▄▄▄▅▅▅▆▆▇▇▇██</td></tr><tr><td>loss</td><td>▇███▇█▇▇▇█▇▆▇▅▄▃▃▂▂▁</td></tr><tr><td>val_accuracy</td><td>▁▁▂▁▁▂▁▁▁▁▂▃▃▄▅▅▆▇▇█</td></tr><tr><td>val_loss</td><td>██████████▇▆▆▅▄▃▃▂▂▁</td></tr></table><br/></div><div class=\"wandb-col\"><h3>Run summary:</h3><br/><table class=\"wandb\"><tr><td>Training_accuracy</td><td>0.14591</td></tr><tr><td>Training_loss</td><td>3.52806</td></tr><tr><td>Validation_accuracy</td><td>0.19208</td></tr><tr><td>Validation_loss</td><td>2.96104</td></tr><tr><td>accuracy</td><td>0.19208</td></tr><tr><td>best_epoch</td><td>19</td></tr><tr><td>best_val_loss</td><td>2.7151</td></tr><tr><td>epoch</td><td>19</td></tr><tr><td>loss</td><td>3.2827</td></tr><tr><td>val_accuracy</td><td>0.19208</td></tr><tr><td>val_loss</td><td>2.7151</td></tr></table><br/></div></div>"
            ]
          },
          "metadata": {}
        },
        {
          "output_type": "display_data",
          "data": {
            "text/plain": [
              "<IPython.core.display.HTML object>"
            ],
            "text/html": [
              "Synced <strong style=\"color:#cdcd00\">Part B</strong>: <a href=\"https://wandb.ai/hithesh-sidhesh/Assignment_2/runs/6xn8qm85\" target=\"_blank\">https://wandb.ai/hithesh-sidhesh/Assignment_2/runs/6xn8qm85</a><br/>Synced 5 W&B file(s), 640 media file(s), 0 artifact file(s) and 1 other file(s)"
            ]
          },
          "metadata": {}
        },
        {
          "output_type": "display_data",
          "data": {
            "text/plain": [
              "<IPython.core.display.HTML object>"
            ],
            "text/html": [
              "Find logs at: <code>./wandb/run-20220330_224640-6xn8qm85/logs</code>"
            ]
          },
          "metadata": {}
        },
        {
          "output_type": "stream",
          "name": "stderr",
          "text": [
            "\u001b[34m\u001b[1mwandb\u001b[0m: Agent Starting Run: kly43e17 with config:\n",
            "\u001b[34m\u001b[1mwandb\u001b[0m: \taugment_data: no\n",
            "\u001b[34m\u001b[1mwandb\u001b[0m: \tdense_layers: 0\n",
            "\u001b[34m\u001b[1mwandb\u001b[0m: \tdropout: 0.2\n",
            "\u001b[34m\u001b[1mwandb\u001b[0m: \tlayers_freeze: 60\n",
            "\u001b[34m\u001b[1mwandb\u001b[0m: \tmodel: efficientnet\n",
            "\u001b[34m\u001b[1mwandb\u001b[0m: \tsize_layer: 128\n",
            "\u001b[34m\u001b[1mwandb\u001b[0m: \u001b[33mWARNING\u001b[0m Ignored wandb.init() arg project when running a sweep.\n"
          ]
        },
        {
          "output_type": "display_data",
          "data": {
            "text/plain": [
              "<IPython.core.display.HTML object>"
            ],
            "text/html": [
              "Tracking run with wandb version 0.12.11"
            ]
          },
          "metadata": {}
        },
        {
          "output_type": "display_data",
          "data": {
            "text/plain": [
              "<IPython.core.display.HTML object>"
            ],
            "text/html": [
              "Run data is saved locally in <code>/content/inaturalist_12K/train/Amphibia/wandb/run-20220330_232005-kly43e17</code>"
            ]
          },
          "metadata": {}
        },
        {
          "output_type": "display_data",
          "data": {
            "text/plain": [
              "<IPython.core.display.HTML object>"
            ],
            "text/html": [
              "Syncing run <strong><a href=\"https://wandb.ai/hithesh-sidhesh/Assignment_2/runs/kly43e17\" target=\"_blank\">Part B</a></strong> to <a href=\"https://wandb.ai/hithesh-sidhesh/Assignment_2\" target=\"_blank\">Weights & Biases</a> (<a href=\"https://wandb.me/run\" target=\"_blank\">docs</a>)<br/>Sweep page:  <a href=\"https://wandb.ai/hithesh-sidhesh/Assignment_2/sweeps/ns0reusj\" target=\"_blank\">https://wandb.ai/hithesh-sidhesh/Assignment_2/sweeps/ns0reusj</a>"
            ]
          },
          "metadata": {}
        },
        {
          "output_type": "display_data",
          "data": {
            "text/plain": [
              "<IPython.core.display.HTML object>"
            ],
            "text/html": [
              "Finishing last run (ID:kly43e17) before initializing another..."
            ]
          },
          "metadata": {}
        },
        {
          "output_type": "stream",
          "name": "stdout",
          "text": [
            "\n"
          ]
        },
        {
          "output_type": "display_data",
          "data": {
            "text/plain": [
              "<IPython.core.display.HTML object>"
            ],
            "text/html": [
              "Waiting for W&B process to finish... <strong style=\"color:green\">(success).</strong>"
            ]
          },
          "metadata": {}
        },
        {
          "output_type": "display_data",
          "data": {
            "text/plain": [
              "VBox(children=(Label(value='0.001 MB of 0.001 MB uploaded (0.000 MB deduped)\\r'), FloatProgress(value=1.0, max…"
            ],
            "application/vnd.jupyter.widget-view+json": {
              "version_major": 2,
              "version_minor": 0,
              "model_id": "2bbfface7ee34d3d9be0cd442d9830c6"
            }
          },
          "metadata": {}
        },
        {
          "output_type": "display_data",
          "data": {
            "text/plain": [
              "<IPython.core.display.HTML object>"
            ],
            "text/html": [
              "Synced <strong style=\"color:#cdcd00\">Part B</strong>: <a href=\"https://wandb.ai/hithesh-sidhesh/Assignment_2/runs/kly43e17\" target=\"_blank\">https://wandb.ai/hithesh-sidhesh/Assignment_2/runs/kly43e17</a><br/>Synced 4 W&B file(s), 0 media file(s), 0 artifact file(s) and 0 other file(s)"
            ]
          },
          "metadata": {}
        },
        {
          "output_type": "display_data",
          "data": {
            "text/plain": [
              "<IPython.core.display.HTML object>"
            ],
            "text/html": [
              "Find logs at: <code>./wandb/run-20220330_232005-kly43e17/logs</code>"
            ]
          },
          "metadata": {}
        },
        {
          "output_type": "display_data",
          "data": {
            "text/plain": [
              "<IPython.core.display.HTML object>"
            ],
            "text/html": [
              "Successfully finished last run (ID:kly43e17). Initializing new run:<br/>"
            ]
          },
          "metadata": {}
        },
        {
          "output_type": "display_data",
          "data": {
            "text/plain": [
              "<IPython.core.display.HTML object>"
            ],
            "text/html": [
              "Tracking run with wandb version 0.12.11"
            ]
          },
          "metadata": {}
        },
        {
          "output_type": "display_data",
          "data": {
            "text/plain": [
              "<IPython.core.display.HTML object>"
            ],
            "text/html": [
              "Run data is saved locally in <code>/content/inaturalist_12K/train/Amphibia/wandb/run-20220330_232013-kly43e17</code>"
            ]
          },
          "metadata": {}
        },
        {
          "output_type": "display_data",
          "data": {
            "text/plain": [
              "<IPython.core.display.HTML object>"
            ],
            "text/html": [
              "Syncing run <strong><a href=\"https://wandb.ai/hithesh-sidhesh/Assignment_2/runs/kly43e17\" target=\"_blank\">Part B</a></strong> to <a href=\"https://wandb.ai/hithesh-sidhesh/Assignment_2\" target=\"_blank\">Weights & Biases</a> (<a href=\"https://wandb.me/run\" target=\"_blank\">docs</a>)<br/>Sweep page:  <a href=\"https://wandb.ai/hithesh-sidhesh/Assignment_2/sweeps/ns0reusj\" target=\"_blank\">https://wandb.ai/hithesh-sidhesh/Assignment_2/sweeps/ns0reusj</a>"
            ]
          },
          "metadata": {}
        },
        {
          "output_type": "stream",
          "name": "stdout",
          "text": [
            "EfficientNetB3 chosen\n",
            "Model: \"sequential\"\n",
            "_________________________________________________________________\n",
            " Layer (type)                Output Shape              Param #   \n",
            "=================================================================\n",
            " efficientnetb3 (Functional)  (None, 1536)             10783535  \n",
            "                                                                 \n",
            " flatten (Flatten)           (None, 1536)              0         \n",
            "                                                                 \n",
            " dense (Dense)               (None, 10)                15370     \n",
            "                                                                 \n",
            "=================================================================\n",
            "Total params: 10,798,905\n",
            "Trainable params: 0\n",
            "Non-trainable params: 10,798,905\n",
            "_________________________________________________________________\n",
            "Found 12917 images belonging to 10 classes.\n",
            "TRAINING\n",
            "Number of samples 12917\n",
            "Names of classes {'Amphibia': 0, 'Animalia': 1, 'Arachnida': 2, 'Aves': 3, 'Fungi': 4, 'Insecta': 5, 'Mammalia': 6, 'Mollusca': 7, 'Plantae': 8, 'Reptilia': 9}\n",
            "Number of classes 10\n",
            "Number of samples per class 1291\n",
            "Found 1434 images belonging to 10 classes.\n",
            "VALIDATION\n",
            "Number of samples 1434\n",
            "Names of classes {'Amphibia': 0, 'Animalia': 1, 'Arachnida': 2, 'Aves': 3, 'Fungi': 4, 'Insecta': 5, 'Mammalia': 6, 'Mollusca': 7, 'Plantae': 8, 'Reptilia': 9}\n",
            "Number of classes 10\n",
            "Number of samples per class 143\n",
            "Found 2000 images belonging to 10 classes.\n",
            "Epoch 1/10\n",
            "403/403 - 117s - loss: 2.3172 - accuracy: 0.0770 - val_loss: 2.3156 - val_accuracy: 0.0717 - _timestamp: 1648682547.0000 - _runtime: 128.0000 - 117s/epoch - 291ms/step\n",
            "Epoch 2/10\n",
            "403/403 - 104s - loss: 2.3175 - accuracy: 0.0750 - val_loss: 2.3188 - val_accuracy: 0.0720 - _timestamp: 1648682652.0000 - _runtime: 233.0000 - 104s/epoch - 257ms/step\n",
            "Epoch 3/10\n",
            "403/403 - 104s - loss: 2.3162 - accuracy: 0.0773 - val_loss: 2.3187 - val_accuracy: 0.0720 - _timestamp: 1648682755.0000 - _runtime: 336.0000 - 104s/epoch - 258ms/step\n",
            "Epoch 4/10\n",
            "403/403 - 103s - loss: 2.3177 - accuracy: 0.0757 - val_loss: 2.3188 - val_accuracy: 0.0720 - _timestamp: 1648682858.0000 - _runtime: 439.0000 - 103s/epoch - 255ms/step\n",
            "Epoch 5/10\n",
            "403/403 - 102s - loss: 2.3178 - accuracy: 0.0741 - val_loss: 2.3187 - val_accuracy: 0.0720 - _timestamp: 1648682960.0000 - _runtime: 541.0000 - 102s/epoch - 253ms/step\n",
            "Epoch 6/10\n",
            "403/403 - 98s - loss: 2.3172 - accuracy: 0.0733 - val_loss: 2.3187 - val_accuracy: 0.0720 - _timestamp: 1648683058.0000 - _runtime: 639.0000 - 98s/epoch - 243ms/step\n",
            "Epoch 7/10\n",
            "403/403 - 92s - loss: 2.3169 - accuracy: 0.0761 - val_loss: 2.3188 - val_accuracy: 0.0720 - _timestamp: 1648683150.0000 - _runtime: 731.0000 - 92s/epoch - 228ms/step\n",
            "Epoch 7: early stopping\n",
            "Epoch 8/20\n",
            "403/403 - 118s - loss: 2.1684 - accuracy: 0.3254 - val_loss: 2.0856 - val_accuracy: 0.3588 - _timestamp: 1648683268.0000 - _runtime: 849.0000 - 118s/epoch - 293ms/step\n",
            "Epoch 9/20\n",
            "403/403 - 105s - loss: 2.0474 - accuracy: 0.3742 - val_loss: 2.0600 - val_accuracy: 0.3588 - _timestamp: 1648683373.0000 - _runtime: 954.0000 - 105s/epoch - 260ms/step\n",
            "Epoch 10/20\n",
            "403/403 - 103s - loss: 2.0364 - accuracy: 0.3745 - val_loss: 2.0606 - val_accuracy: 0.3588 - _timestamp: 1648683477.0000 - _runtime: 1058.0000 - 103s/epoch - 257ms/step\n",
            "Epoch 11/20\n",
            "403/403 - 106s - loss: 2.0446 - accuracy: 0.3696 - val_loss: 2.0599 - val_accuracy: 0.3588 - _timestamp: 1648683582.0000 - _runtime: 1163.0000 - 106s/epoch - 262ms/step\n",
            "Epoch 12/20\n",
            "403/403 - 102s - loss: 2.0383 - accuracy: 0.3719 - val_loss: 2.0597 - val_accuracy: 0.3588 - _timestamp: 1648683683.0000 - _runtime: 1264.0000 - 102s/epoch - 253ms/step\n",
            "Epoch 13/20\n",
            "403/403 - 97s - loss: 2.0270 - accuracy: 0.3794 - val_loss: 2.0605 - val_accuracy: 0.3588 - _timestamp: 1648683781.0000 - _runtime: 1362.0000 - 97s/epoch - 240ms/step\n",
            "Epoch 14/20\n",
            "403/403 - 92s - loss: 2.0465 - accuracy: 0.3683 - val_loss: 2.0591 - val_accuracy: 0.3588 - _timestamp: 1648683872.0000 - _runtime: 1453.0000 - 92s/epoch - 227ms/step\n",
            "Epoch 15/20\n",
            "403/403 - 90s - loss: 2.0398 - accuracy: 0.3714 - val_loss: 2.0594 - val_accuracy: 0.3588 - _timestamp: 1648683962.0000 - _runtime: 1543.0000 - 90s/epoch - 223ms/step\n",
            "Epoch 16/20\n",
            "403/403 - 96s - loss: 2.0349 - accuracy: 0.3745 - val_loss: 2.0482 - val_accuracy: 0.3652 - _timestamp: 1648684058.0000 - _runtime: 1639.0000 - 96s/epoch - 238ms/step\n",
            "Epoch 17/20\n",
            "403/403 - 85s - loss: 2.0357 - accuracy: 0.3736 - val_loss: 2.0215 - val_accuracy: 0.3816 - _timestamp: 1648684143.0000 - _runtime: 1724.0000 - 85s/epoch - 211ms/step\n",
            "Epoch 18/20\n",
            "403/403 - 90s - loss: 2.0374 - accuracy: 0.3726 - val_loss: 2.0196 - val_accuracy: 0.3816 - _timestamp: 1648684233.0000 - _runtime: 1814.0000 - 90s/epoch - 224ms/step\n",
            "Epoch 19/20\n",
            "403/403 - 96s - loss: 2.0376 - accuracy: 0.3725 - val_loss: 2.0207 - val_accuracy: 0.3816 - _timestamp: 1648684330.0000 - _runtime: 1911.0000 - 96s/epoch - 239ms/step\n",
            "Epoch 20/20\n",
            "403/403 - 84s - loss: 2.0345 - accuracy: 0.3739 - val_loss: 2.0197 - val_accuracy: 0.3816 - _timestamp: 1648684414.0000 - _runtime: 1995.0000 - 84s/epoch - 207ms/step\n",
            "62/62 - 21s - loss: 2.5009 - accuracy: 0.1008 - 21s/epoch - 346ms/step\n",
            "Test accuracy on model is :  0.10080645233392715\n",
            "{'Training_loss': 2.1683826446533203, 'Validation_loss': 2.085601806640625, 'Training_accuracy': 0.37935584783554077, 'Validation_accuracy': 0.38159772753715515, '_timestamp': 1648684437, '_runtime': 2018}\n",
            "\n"
          ]
        },
        {
          "output_type": "display_data",
          "data": {
            "text/plain": [
              "<IPython.core.display.HTML object>"
            ],
            "text/html": [
              "Waiting for W&B process to finish... <strong style=\"color:green\">(success).</strong>"
            ]
          },
          "metadata": {}
        },
        {
          "output_type": "display_data",
          "data": {
            "text/plain": [
              "VBox(children=(Label(value='64.718 MB of 64.718 MB uploaded (0.000 MB deduped)\\r'), FloatProgress(value=1.0, m…"
            ],
            "application/vnd.jupyter.widget-view+json": {
              "version_major": 2,
              "version_minor": 0,
              "model_id": "0e25e6ea27ff4a2eb5db8a776b1ed1f1"
            }
          },
          "metadata": {}
        },
        {
          "output_type": "display_data",
          "data": {
            "text/plain": [
              "<IPython.core.display.HTML object>"
            ],
            "text/html": [
              "<style>\n",
              "    table.wandb td:nth-child(1) { padding: 0 10px; text-align: right }\n",
              "    .wandb-row { display: flex; flex-direction: row; flex-wrap: wrap; width: 100% }\n",
              "    .wandb-col { display: flex; flex-direction: column; flex-basis: 100%; flex: 1; padding: 10px; }\n",
              "    </style>\n",
              "<div class=\"wandb-row\"><div class=\"wandb-col\"><h3>Run history:</h3><br/><table class=\"wandb\"><tr><td>Training_accuracy</td><td>▁</td></tr><tr><td>Training_loss</td><td>▁</td></tr><tr><td>Validation_accuracy</td><td>▁</td></tr><tr><td>Validation_loss</td><td>▁</td></tr><tr><td>accuracy</td><td>▁▁▁▁▁▁▁▇█████████████</td></tr><tr><td>epoch</td><td>▁▁▂▂▂▃▃▄▄▄▅▅▅▆▆▇▇▇██</td></tr><tr><td>loss</td><td>███████▄▁▁▁▁▁▁▁▁▁▁▁▁</td></tr><tr><td>val_accuracy</td><td>▁▁▁▁▁▁▁▇▇▇▇▇▇▇▇█████</td></tr><tr><td>val_loss</td><td>███████▃▂▂▂▂▂▂▂▂▁▁▁▁</td></tr></table><br/></div><div class=\"wandb-col\"><h3>Run summary:</h3><br/><table class=\"wandb\"><tr><td>Training_accuracy</td><td>0.37936</td></tr><tr><td>Training_loss</td><td>2.16838</td></tr><tr><td>Validation_accuracy</td><td>0.3816</td></tr><tr><td>Validation_loss</td><td>2.0856</td></tr><tr><td>accuracy</td><td>0.3816</td></tr><tr><td>best_epoch</td><td>17</td></tr><tr><td>best_val_loss</td><td>2.01961</td></tr><tr><td>epoch</td><td>19</td></tr><tr><td>loss</td><td>2.03454</td></tr><tr><td>val_accuracy</td><td>0.3816</td></tr><tr><td>val_loss</td><td>2.01968</td></tr></table><br/></div></div>"
            ]
          },
          "metadata": {}
        },
        {
          "output_type": "display_data",
          "data": {
            "text/plain": [
              "<IPython.core.display.HTML object>"
            ],
            "text/html": [
              "Synced <strong style=\"color:#cdcd00\">Part B</strong>: <a href=\"https://wandb.ai/hithesh-sidhesh/Assignment_2/runs/kly43e17\" target=\"_blank\">https://wandb.ai/hithesh-sidhesh/Assignment_2/runs/kly43e17</a><br/>Synced 5 W&B file(s), 640 media file(s), 0 artifact file(s) and 1 other file(s)"
            ]
          },
          "metadata": {}
        },
        {
          "output_type": "display_data",
          "data": {
            "text/plain": [
              "<IPython.core.display.HTML object>"
            ],
            "text/html": [
              "Find logs at: <code>./wandb/run-20220330_232013-kly43e17/logs</code>"
            ]
          },
          "metadata": {}
        },
        {
          "output_type": "stream",
          "name": "stderr",
          "text": [
            "\u001b[34m\u001b[1mwandb\u001b[0m: Agent Starting Run: wec0wqlj with config:\n",
            "\u001b[34m\u001b[1mwandb\u001b[0m: \taugment_data: no\n",
            "\u001b[34m\u001b[1mwandb\u001b[0m: \tdense_layers: 0\n",
            "\u001b[34m\u001b[1mwandb\u001b[0m: \tdropout: 0.2\n",
            "\u001b[34m\u001b[1mwandb\u001b[0m: \tlayers_freeze: 100\n",
            "\u001b[34m\u001b[1mwandb\u001b[0m: \tmodel: efficientnet\n",
            "\u001b[34m\u001b[1mwandb\u001b[0m: \tsize_layer: 64\n",
            "\u001b[34m\u001b[1mwandb\u001b[0m: \u001b[33mWARNING\u001b[0m Ignored wandb.init() arg project when running a sweep.\n"
          ]
        },
        {
          "output_type": "display_data",
          "data": {
            "text/plain": [
              "<IPython.core.display.HTML object>"
            ],
            "text/html": [
              "Tracking run with wandb version 0.12.11"
            ]
          },
          "metadata": {}
        },
        {
          "output_type": "display_data",
          "data": {
            "text/plain": [
              "<IPython.core.display.HTML object>"
            ],
            "text/html": [
              "Run data is saved locally in <code>/content/inaturalist_12K/train/Amphibia/wandb/run-20220330_235410-wec0wqlj</code>"
            ]
          },
          "metadata": {}
        },
        {
          "output_type": "display_data",
          "data": {
            "text/plain": [
              "<IPython.core.display.HTML object>"
            ],
            "text/html": [
              "Syncing run <strong><a href=\"https://wandb.ai/hithesh-sidhesh/Assignment_2/runs/wec0wqlj\" target=\"_blank\">Part B</a></strong> to <a href=\"https://wandb.ai/hithesh-sidhesh/Assignment_2\" target=\"_blank\">Weights & Biases</a> (<a href=\"https://wandb.me/run\" target=\"_blank\">docs</a>)<br/>Sweep page:  <a href=\"https://wandb.ai/hithesh-sidhesh/Assignment_2/sweeps/ns0reusj\" target=\"_blank\">https://wandb.ai/hithesh-sidhesh/Assignment_2/sweeps/ns0reusj</a>"
            ]
          },
          "metadata": {}
        },
        {
          "output_type": "display_data",
          "data": {
            "text/plain": [
              "<IPython.core.display.HTML object>"
            ],
            "text/html": [
              "Finishing last run (ID:wec0wqlj) before initializing another..."
            ]
          },
          "metadata": {}
        },
        {
          "output_type": "stream",
          "name": "stdout",
          "text": [
            "\n"
          ]
        },
        {
          "output_type": "display_data",
          "data": {
            "text/plain": [
              "<IPython.core.display.HTML object>"
            ],
            "text/html": [
              "Waiting for W&B process to finish... <strong style=\"color:green\">(success).</strong>"
            ]
          },
          "metadata": {}
        },
        {
          "output_type": "display_data",
          "data": {
            "text/plain": [
              "VBox(children=(Label(value='0.001 MB of 0.001 MB uploaded (0.000 MB deduped)\\r'), FloatProgress(value=1.0, max…"
            ],
            "application/vnd.jupyter.widget-view+json": {
              "version_major": 2,
              "version_minor": 0,
              "model_id": "9f268543fba44b988c7743910c2795f1"
            }
          },
          "metadata": {}
        },
        {
          "output_type": "display_data",
          "data": {
            "text/plain": [
              "<IPython.core.display.HTML object>"
            ],
            "text/html": [
              "Synced <strong style=\"color:#cdcd00\">Part B</strong>: <a href=\"https://wandb.ai/hithesh-sidhesh/Assignment_2/runs/wec0wqlj\" target=\"_blank\">https://wandb.ai/hithesh-sidhesh/Assignment_2/runs/wec0wqlj</a><br/>Synced 4 W&B file(s), 0 media file(s), 0 artifact file(s) and 0 other file(s)"
            ]
          },
          "metadata": {}
        },
        {
          "output_type": "display_data",
          "data": {
            "text/plain": [
              "<IPython.core.display.HTML object>"
            ],
            "text/html": [
              "Find logs at: <code>./wandb/run-20220330_235410-wec0wqlj/logs</code>"
            ]
          },
          "metadata": {}
        },
        {
          "output_type": "display_data",
          "data": {
            "text/plain": [
              "<IPython.core.display.HTML object>"
            ],
            "text/html": [
              "Successfully finished last run (ID:wec0wqlj). Initializing new run:<br/>"
            ]
          },
          "metadata": {}
        },
        {
          "output_type": "display_data",
          "data": {
            "text/plain": [
              "<IPython.core.display.HTML object>"
            ],
            "text/html": [
              "Tracking run with wandb version 0.12.11"
            ]
          },
          "metadata": {}
        },
        {
          "output_type": "display_data",
          "data": {
            "text/plain": [
              "<IPython.core.display.HTML object>"
            ],
            "text/html": [
              "Run data is saved locally in <code>/content/inaturalist_12K/train/Amphibia/wandb/run-20220330_235417-wec0wqlj</code>"
            ]
          },
          "metadata": {}
        },
        {
          "output_type": "display_data",
          "data": {
            "text/plain": [
              "<IPython.core.display.HTML object>"
            ],
            "text/html": [
              "Syncing run <strong><a href=\"https://wandb.ai/hithesh-sidhesh/Assignment_2/runs/wec0wqlj\" target=\"_blank\">Part B</a></strong> to <a href=\"https://wandb.ai/hithesh-sidhesh/Assignment_2\" target=\"_blank\">Weights & Biases</a> (<a href=\"https://wandb.me/run\" target=\"_blank\">docs</a>)<br/>Sweep page:  <a href=\"https://wandb.ai/hithesh-sidhesh/Assignment_2/sweeps/ns0reusj\" target=\"_blank\">https://wandb.ai/hithesh-sidhesh/Assignment_2/sweeps/ns0reusj</a>"
            ]
          },
          "metadata": {}
        },
        {
          "output_type": "stream",
          "name": "stdout",
          "text": [
            "EfficientNetB3 chosen\n",
            "Model: \"sequential\"\n",
            "_________________________________________________________________\n",
            " Layer (type)                Output Shape              Param #   \n",
            "=================================================================\n",
            " efficientnetb3 (Functional)  (None, 1536)             10783535  \n",
            "                                                                 \n",
            " flatten (Flatten)           (None, 1536)              0         \n",
            "                                                                 \n",
            " dense (Dense)               (None, 10)                15370     \n",
            "                                                                 \n",
            "=================================================================\n",
            "Total params: 10,798,905\n",
            "Trainable params: 0\n",
            "Non-trainable params: 10,798,905\n",
            "_________________________________________________________________\n",
            "Found 13493 images belonging to 10 classes.\n",
            "TRAINING\n",
            "Number of samples 13493\n",
            "Names of classes {'Amphibia': 0, 'Animalia': 1, 'Arachnida': 2, 'Aves': 3, 'Fungi': 4, 'Insecta': 5, 'Mammalia': 6, 'Mollusca': 7, 'Plantae': 8, 'Reptilia': 9}\n",
            "Number of classes 10\n",
            "Number of samples per class 1349\n",
            "Found 1498 images belonging to 10 classes.\n",
            "VALIDATION\n",
            "Number of samples 1498\n",
            "Names of classes {'Amphibia': 0, 'Animalia': 1, 'Arachnida': 2, 'Aves': 3, 'Fungi': 4, 'Insecta': 5, 'Mammalia': 6, 'Mollusca': 7, 'Plantae': 8, 'Reptilia': 9}\n",
            "Number of classes 10\n",
            "Number of samples per class 149\n",
            "Found 2000 images belonging to 10 classes.\n",
            "Epoch 1/10\n",
            "421/421 - 119s - loss: 2.3254 - accuracy: 0.0668 - val_loss: 2.3220 - val_accuracy: 0.0679 - _timestamp: 1648684592.0000 - _runtime: 130.0000 - 119s/epoch - 284ms/step\n",
            "Epoch 2/10\n",
            "421/421 - 105s - loss: 2.3254 - accuracy: 0.0663 - val_loss: 2.3225 - val_accuracy: 0.0682 - _timestamp: 1648684697.0000 - _runtime: 235.0000 - 105s/epoch - 249ms/step\n",
            "Epoch 3/10\n",
            "421/421 - 104s - loss: 2.3256 - accuracy: 0.0670 - val_loss: 2.3225 - val_accuracy: 0.0682 - _timestamp: 1648684801.0000 - _runtime: 339.0000 - 104s/epoch - 247ms/step\n",
            "Epoch 4/10\n",
            "421/421 - 104s - loss: 2.3254 - accuracy: 0.0667 - val_loss: 2.3225 - val_accuracy: 0.0682 - _timestamp: 1648684906.0000 - _runtime: 444.0000 - 104s/epoch - 248ms/step\n",
            "Epoch 5/10\n",
            "421/421 - 102s - loss: 2.3255 - accuracy: 0.0665 - val_loss: 2.3225 - val_accuracy: 0.0682 - _timestamp: 1648685008.0000 - _runtime: 546.0000 - 102s/epoch - 243ms/step\n",
            "Epoch 6/10\n",
            "421/421 - 98s - loss: 2.3265 - accuracy: 0.0667 - val_loss: 2.3225 - val_accuracy: 0.0682 - _timestamp: 1648685106.0000 - _runtime: 644.0000 - 98s/epoch - 233ms/step\n",
            "Epoch 7/10\n",
            "421/421 - 92s - loss: 2.3264 - accuracy: 0.0660 - val_loss: 2.3225 - val_accuracy: 0.0682 - _timestamp: 1648685198.0000 - _runtime: 736.0000 - 92s/epoch - 218ms/step\n",
            "Epoch 7: early stopping\n",
            "62/62 - 22s - loss: 2.3261 - accuracy: 0.1008 - 22s/epoch - 348ms/step\n",
            "Test accuracy on model is :  0.10080645233392715\n",
            "{'Training_loss': 2.3264966011047363, 'Validation_loss': 2.3225443363189697, 'Training_accuracy': 0.06700839102268219, 'Validation_accuracy': 0.06821282207965851, '_timestamp': 1648685220, '_runtime': 758}\n",
            "\n"
          ]
        },
        {
          "output_type": "display_data",
          "data": {
            "text/plain": [
              "<IPython.core.display.HTML object>"
            ],
            "text/html": [
              "Waiting for W&B process to finish... <strong style=\"color:green\">(success).</strong>"
            ]
          },
          "metadata": {}
        },
        {
          "output_type": "display_data",
          "data": {
            "text/plain": [
              "VBox(children=(Label(value='49.940 MB of 49.940 MB uploaded (0.000 MB deduped)\\r'), FloatProgress(value=1.0, m…"
            ],
            "application/vnd.jupyter.widget-view+json": {
              "version_major": 2,
              "version_minor": 0,
              "model_id": "6d9db251e2ee4173903a24e8cb28a763"
            }
          },
          "metadata": {}
        },
        {
          "output_type": "display_data",
          "data": {
            "text/plain": [
              "<IPython.core.display.HTML object>"
            ],
            "text/html": [
              "<style>\n",
              "    table.wandb td:nth-child(1) { padding: 0 10px; text-align: right }\n",
              "    .wandb-row { display: flex; flex-direction: row; flex-wrap: wrap; width: 100% }\n",
              "    .wandb-col { display: flex; flex-direction: column; flex-basis: 100%; flex: 1; padding: 10px; }\n",
              "    </style>\n",
              "<div class=\"wandb-row\"><div class=\"wandb-col\"><h3>Run history:</h3><br/><table class=\"wandb\"><tr><td>Training_accuracy</td><td>▁</td></tr><tr><td>Training_loss</td><td>▁</td></tr><tr><td>Validation_accuracy</td><td>▁</td></tr><tr><td>Validation_loss</td><td>▁</td></tr><tr><td>accuracy</td><td>▃▂▄▃▂▃▁█</td></tr><tr><td>epoch</td><td>▁▂▃▅▆▇█</td></tr><tr><td>loss</td><td>▁▁▃▁▂█▇</td></tr><tr><td>val_accuracy</td><td>▁██████</td></tr><tr><td>val_loss</td><td>▁▇█▇██▇</td></tr></table><br/></div><div class=\"wandb-col\"><h3>Run summary:</h3><br/><table class=\"wandb\"><tr><td>Training_accuracy</td><td>0.06701</td></tr><tr><td>Training_loss</td><td>2.3265</td></tr><tr><td>Validation_accuracy</td><td>0.06821</td></tr><tr><td>Validation_loss</td><td>2.32254</td></tr><tr><td>accuracy</td><td>0.06821</td></tr><tr><td>best_epoch</td><td>0</td></tr><tr><td>best_val_loss</td><td>2.32196</td></tr><tr><td>epoch</td><td>6</td></tr><tr><td>loss</td><td>2.32641</td></tr><tr><td>val_accuracy</td><td>0.06821</td></tr><tr><td>val_loss</td><td>2.32245</td></tr></table><br/></div></div>"
            ]
          },
          "metadata": {}
        },
        {
          "output_type": "display_data",
          "data": {
            "text/plain": [
              "<IPython.core.display.HTML object>"
            ],
            "text/html": [
              "Synced <strong style=\"color:#cdcd00\">Part B</strong>: <a href=\"https://wandb.ai/hithesh-sidhesh/Assignment_2/runs/wec0wqlj\" target=\"_blank\">https://wandb.ai/hithesh-sidhesh/Assignment_2/runs/wec0wqlj</a><br/>Synced 5 W&B file(s), 224 media file(s), 0 artifact file(s) and 1 other file(s)"
            ]
          },
          "metadata": {}
        },
        {
          "output_type": "display_data",
          "data": {
            "text/plain": [
              "<IPython.core.display.HTML object>"
            ],
            "text/html": [
              "Find logs at: <code>./wandb/run-20220330_235417-wec0wqlj/logs</code>"
            ]
          },
          "metadata": {}
        },
        {
          "output_type": "stream",
          "name": "stderr",
          "text": [
            "\u001b[34m\u001b[1mwandb\u001b[0m: Sweep Agent: Waiting for job.\n",
            "\u001b[34m\u001b[1mwandb\u001b[0m: Job received.\n",
            "\u001b[34m\u001b[1mwandb\u001b[0m: Agent Starting Run: v4s0rkqc with config:\n",
            "\u001b[34m\u001b[1mwandb\u001b[0m: \taugment_data: yes\n",
            "\u001b[34m\u001b[1mwandb\u001b[0m: \tdense_layers: 0\n",
            "\u001b[34m\u001b[1mwandb\u001b[0m: \tdropout: 0.01\n",
            "\u001b[34m\u001b[1mwandb\u001b[0m: \tlayers_freeze: 60\n",
            "\u001b[34m\u001b[1mwandb\u001b[0m: \tmodel: efficientnet\n",
            "\u001b[34m\u001b[1mwandb\u001b[0m: \tsize_layer: 32\n",
            "\u001b[34m\u001b[1mwandb\u001b[0m: \u001b[33mWARNING\u001b[0m Ignored wandb.init() arg project when running a sweep.\n"
          ]
        },
        {
          "output_type": "display_data",
          "data": {
            "text/plain": [
              "<IPython.core.display.HTML object>"
            ],
            "text/html": [
              "Tracking run with wandb version 0.12.11"
            ]
          },
          "metadata": {}
        },
        {
          "output_type": "display_data",
          "data": {
            "text/plain": [
              "<IPython.core.display.HTML object>"
            ],
            "text/html": [
              "Run data is saved locally in <code>/content/inaturalist_12K/train/Amphibia/wandb/run-20220331_000721-v4s0rkqc</code>"
            ]
          },
          "metadata": {}
        },
        {
          "output_type": "display_data",
          "data": {
            "text/plain": [
              "<IPython.core.display.HTML object>"
            ],
            "text/html": [
              "Syncing run <strong><a href=\"https://wandb.ai/hithesh-sidhesh/Assignment_2/runs/v4s0rkqc\" target=\"_blank\">Part B</a></strong> to <a href=\"https://wandb.ai/hithesh-sidhesh/Assignment_2\" target=\"_blank\">Weights & Biases</a> (<a href=\"https://wandb.me/run\" target=\"_blank\">docs</a>)<br/>Sweep page:  <a href=\"https://wandb.ai/hithesh-sidhesh/Assignment_2/sweeps/ns0reusj\" target=\"_blank\">https://wandb.ai/hithesh-sidhesh/Assignment_2/sweeps/ns0reusj</a>"
            ]
          },
          "metadata": {}
        },
        {
          "output_type": "display_data",
          "data": {
            "text/plain": [
              "<IPython.core.display.HTML object>"
            ],
            "text/html": [
              "Finishing last run (ID:v4s0rkqc) before initializing another..."
            ]
          },
          "metadata": {}
        },
        {
          "output_type": "stream",
          "name": "stdout",
          "text": [
            "\n"
          ]
        },
        {
          "output_type": "display_data",
          "data": {
            "text/plain": [
              "<IPython.core.display.HTML object>"
            ],
            "text/html": [
              "Waiting for W&B process to finish... <strong style=\"color:green\">(success).</strong>"
            ]
          },
          "metadata": {}
        },
        {
          "output_type": "display_data",
          "data": {
            "text/plain": [
              "VBox(children=(Label(value='0.001 MB of 0.001 MB uploaded (0.000 MB deduped)\\r'), FloatProgress(value=1.0, max…"
            ],
            "application/vnd.jupyter.widget-view+json": {
              "version_major": 2,
              "version_minor": 0,
              "model_id": "88c5a3fa8ee34ecba8f0e6006fa92c0c"
            }
          },
          "metadata": {}
        },
        {
          "output_type": "display_data",
          "data": {
            "text/plain": [
              "<IPython.core.display.HTML object>"
            ],
            "text/html": [
              "Synced <strong style=\"color:#cdcd00\">Part B</strong>: <a href=\"https://wandb.ai/hithesh-sidhesh/Assignment_2/runs/v4s0rkqc\" target=\"_blank\">https://wandb.ai/hithesh-sidhesh/Assignment_2/runs/v4s0rkqc</a><br/>Synced 4 W&B file(s), 0 media file(s), 0 artifact file(s) and 0 other file(s)"
            ]
          },
          "metadata": {}
        },
        {
          "output_type": "display_data",
          "data": {
            "text/plain": [
              "<IPython.core.display.HTML object>"
            ],
            "text/html": [
              "Find logs at: <code>./wandb/run-20220331_000721-v4s0rkqc/logs</code>"
            ]
          },
          "metadata": {}
        },
        {
          "output_type": "display_data",
          "data": {
            "text/plain": [
              "<IPython.core.display.HTML object>"
            ],
            "text/html": [
              "Successfully finished last run (ID:v4s0rkqc). Initializing new run:<br/>"
            ]
          },
          "metadata": {}
        },
        {
          "output_type": "display_data",
          "data": {
            "text/plain": [
              "<IPython.core.display.HTML object>"
            ],
            "text/html": [
              "Tracking run with wandb version 0.12.11"
            ]
          },
          "metadata": {}
        },
        {
          "output_type": "display_data",
          "data": {
            "text/plain": [
              "<IPython.core.display.HTML object>"
            ],
            "text/html": [
              "Run data is saved locally in <code>/content/inaturalist_12K/train/Amphibia/wandb/run-20220331_000729-v4s0rkqc</code>"
            ]
          },
          "metadata": {}
        },
        {
          "output_type": "display_data",
          "data": {
            "text/plain": [
              "<IPython.core.display.HTML object>"
            ],
            "text/html": [
              "Syncing run <strong><a href=\"https://wandb.ai/hithesh-sidhesh/Assignment_2/runs/v4s0rkqc\" target=\"_blank\">Part B</a></strong> to <a href=\"https://wandb.ai/hithesh-sidhesh/Assignment_2\" target=\"_blank\">Weights & Biases</a> (<a href=\"https://wandb.me/run\" target=\"_blank\">docs</a>)<br/>Sweep page:  <a href=\"https://wandb.ai/hithesh-sidhesh/Assignment_2/sweeps/ns0reusj\" target=\"_blank\">https://wandb.ai/hithesh-sidhesh/Assignment_2/sweeps/ns0reusj</a>"
            ]
          },
          "metadata": {}
        },
        {
          "output_type": "stream",
          "name": "stdout",
          "text": [
            "EfficientNetB3 chosen\n",
            "Model: \"sequential\"\n",
            "_________________________________________________________________\n",
            " Layer (type)                Output Shape              Param #   \n",
            "=================================================================\n",
            " efficientnetb3 (Functional)  (None, 1536)             10783535  \n",
            "                                                                 \n",
            " flatten (Flatten)           (None, 1536)              0         \n",
            "                                                                 \n",
            " dense (Dense)               (None, 10)                15370     \n",
            "                                                                 \n",
            "=================================================================\n",
            "Total params: 10,798,905\n",
            "Trainable params: 0\n",
            "Non-trainable params: 10,798,905\n",
            "_________________________________________________________________\n",
            "Found 13695 images belonging to 10 classes.\n",
            "TRAINING\n",
            "Number of samples 13695\n",
            "Names of classes {'Amphibia': 0, 'Animalia': 1, 'Arachnida': 2, 'Aves': 3, 'Fungi': 4, 'Insecta': 5, 'Mammalia': 6, 'Mollusca': 7, 'Plantae': 8, 'Reptilia': 9}\n",
            "Number of classes 10\n",
            "Number of samples per class 1369\n",
            "Found 1520 images belonging to 10 classes.\n",
            "VALIDATION\n",
            "Number of samples 1520\n",
            "Names of classes {'Amphibia': 0, 'Animalia': 1, 'Arachnida': 2, 'Aves': 3, 'Fungi': 4, 'Insecta': 5, 'Mammalia': 6, 'Mollusca': 7, 'Plantae': 8, 'Reptilia': 9}\n",
            "Number of classes 10\n",
            "Number of samples per class 152\n",
            "Found 2000 images belonging to 10 classes.\n",
            "Epoch 1/10\n",
            "427/427 - 119s - loss: 2.3539 - accuracy: 0.0659 - val_loss: 2.3569 - val_accuracy: 0.0665 - _timestamp: 1648685383.0000 - _runtime: 130.0000 - 119s/epoch - 278ms/step\n",
            "Epoch 2/10\n",
            "427/427 - 105s - loss: 2.3540 - accuracy: 0.0665 - val_loss: 2.3522 - val_accuracy: 0.0672 - _timestamp: 1648685488.0000 - _runtime: 235.0000 - 105s/epoch - 246ms/step\n",
            "Epoch 3/10\n",
            "427/427 - 104s - loss: 2.3536 - accuracy: 0.0662 - val_loss: 2.3524 - val_accuracy: 0.0672 - _timestamp: 1648685593.0000 - _runtime: 340.0000 - 104s/epoch - 244ms/step\n",
            "Epoch 4/10\n",
            "427/427 - 104s - loss: 2.3532 - accuracy: 0.0681 - val_loss: 2.3522 - val_accuracy: 0.0672 - _timestamp: 1648685697.0000 - _runtime: 444.0000 - 104s/epoch - 244ms/step\n",
            "Epoch 5/10\n",
            "427/427 - 101s - loss: 2.3534 - accuracy: 0.0657 - val_loss: 2.3523 - val_accuracy: 0.0672 - _timestamp: 1648685799.0000 - _runtime: 546.0000 - 101s/epoch - 238ms/step\n",
            "Epoch 6/10\n",
            "427/427 - 98s - loss: 2.3542 - accuracy: 0.0657 - val_loss: 2.3523 - val_accuracy: 0.0672 - _timestamp: 1648685897.0000 - _runtime: 644.0000 - 98s/epoch - 230ms/step\n",
            "Epoch 7/10\n",
            "427/427 - 93s - loss: 2.3540 - accuracy: 0.0684 - val_loss: 2.3521 - val_accuracy: 0.0672 - _timestamp: 1648685989.0000 - _runtime: 736.0000 - 93s/epoch - 218ms/step\n",
            "Epoch 8/10\n",
            "427/427 - 90s - loss: 2.3530 - accuracy: 0.0673 - val_loss: 2.3522 - val_accuracy: 0.0672 - _timestamp: 1648686080.0000 - _runtime: 827.0000 - 90s/epoch - 211ms/step\n",
            "Epoch 9/10\n",
            "427/427 - 91s - loss: 2.3544 - accuracy: 0.0659 - val_loss: 2.3523 - val_accuracy: 0.0672 - _timestamp: 1648686171.0000 - _runtime: 918.0000 - 91s/epoch - 213ms/step\n",
            "Epoch 10/10\n",
            "427/427 - 90s - loss: 2.3532 - accuracy: 0.0675 - val_loss: 2.3521 - val_accuracy: 0.0672 - _timestamp: 1648686261.0000 - _runtime: 1008.0000 - 90s/epoch - 211ms/step\n",
            "Epoch 11/20\n",
            "427/427 - 119s - loss: 2.1577 - accuracy: 0.3164 - val_loss: 2.0375 - val_accuracy: 0.3958 - _timestamp: 1648686380.0000 - _runtime: 1127.0000 - 119s/epoch - 278ms/step\n",
            "Epoch 12/20\n",
            "427/427 - 105s - loss: 1.9882 - accuracy: 0.4117 - val_loss: 1.9969 - val_accuracy: 0.3958 - _timestamp: 1648686485.0000 - _runtime: 1232.0000 - 105s/epoch - 247ms/step\n",
            "Epoch 13/20\n",
            "427/427 - 105s - loss: 1.9781 - accuracy: 0.4079 - val_loss: 1.9973 - val_accuracy: 0.3958 - _timestamp: 1648686590.0000 - _runtime: 1337.0000 - 105s/epoch - 245ms/step\n",
            "Epoch 14/20\n",
            "427/427 - 105s - loss: 1.9793 - accuracy: 0.4068 - val_loss: 1.9968 - val_accuracy: 0.3958 - _timestamp: 1648686694.0000 - _runtime: 1441.0000 - 105s/epoch - 245ms/step\n",
            "Epoch 15/20\n",
            "427/427 - 102s - loss: 1.9753 - accuracy: 0.4091 - val_loss: 1.9970 - val_accuracy: 0.3958 - _timestamp: 1648686797.0000 - _runtime: 1544.0000 - 102s/epoch - 239ms/step\n",
            "Epoch 16/20\n",
            "427/427 - 98s - loss: 1.9753 - accuracy: 0.4091 - val_loss: 1.9968 - val_accuracy: 0.3958 - _timestamp: 1648686896.0000 - _runtime: 1643.0000 - 98s/epoch - 231ms/step\n",
            "Epoch 17/20\n",
            "427/427 - 94s - loss: 1.9777 - accuracy: 0.4072 - val_loss: 1.9966 - val_accuracy: 0.3958 - _timestamp: 1648686989.0000 - _runtime: 1736.0000 - 94s/epoch - 220ms/step\n",
            "Epoch 18/20\n",
            "427/427 - 90s - loss: 1.9777 - accuracy: 0.4078 - val_loss: 1.9962 - val_accuracy: 0.3958 - _timestamp: 1648687079.0000 - _runtime: 1826.0000 - 90s/epoch - 211ms/step\n",
            "Epoch 19/20\n",
            "427/427 - 90s - loss: 1.9762 - accuracy: 0.4081 - val_loss: 1.9729 - val_accuracy: 0.4086 - _timestamp: 1648687169.0000 - _runtime: 1916.0000 - 90s/epoch - 210ms/step\n",
            "Epoch 20/20\n",
            "427/427 - 90s - loss: 1.9712 - accuracy: 0.4105 - val_loss: 1.9560 - val_accuracy: 0.4173 - _timestamp: 1648687258.0000 - _runtime: 2005.0000 - 90s/epoch - 210ms/step\n",
            "62/62 - 22s - loss: 2.5397 - accuracy: 0.1008 - 22s/epoch - 348ms/step\n",
            "Test accuracy on model is :  0.10080645233392715\n",
            "{'Training_loss': 2.1577062606811523, 'Validation_loss': 2.0375030040740967, 'Training_accuracy': 0.41169580817222595, 'Validation_accuracy': 0.41733869910240173, '_timestamp': 1648687281, '_runtime': 2028}\n",
            "\n"
          ]
        },
        {
          "output_type": "display_data",
          "data": {
            "text/plain": [
              "<IPython.core.display.HTML object>"
            ],
            "text/html": [
              "Waiting for W&B process to finish... <strong style=\"color:green\">(success).</strong>"
            ]
          },
          "metadata": {}
        },
        {
          "output_type": "display_data",
          "data": {
            "text/plain": [
              "VBox(children=(Label(value='64.943 MB of 64.943 MB uploaded (0.000 MB deduped)\\r'), FloatProgress(value=1.0, m…"
            ],
            "application/vnd.jupyter.widget-view+json": {
              "version_major": 2,
              "version_minor": 0,
              "model_id": "581dd1cb530948cfa676042382e6882c"
            }
          },
          "metadata": {}
        },
        {
          "output_type": "display_data",
          "data": {
            "text/plain": [
              "<IPython.core.display.HTML object>"
            ],
            "text/html": [
              "<style>\n",
              "    table.wandb td:nth-child(1) { padding: 0 10px; text-align: right }\n",
              "    .wandb-row { display: flex; flex-direction: row; flex-wrap: wrap; width: 100% }\n",
              "    .wandb-col { display: flex; flex-direction: column; flex-basis: 100%; flex: 1; padding: 10px; }\n",
              "    </style>\n",
              "<div class=\"wandb-row\"><div class=\"wandb-col\"><h3>Run history:</h3><br/><table class=\"wandb\"><tr><td>Training_accuracy</td><td>▁</td></tr><tr><td>Training_loss</td><td>▁</td></tr><tr><td>Validation_accuracy</td><td>▁</td></tr><tr><td>Validation_loss</td><td>▁</td></tr><tr><td>accuracy</td><td>▁▁▁▁▁▁▁▁▁▁▆██████████</td></tr><tr><td>epoch</td><td>▁▁▂▂▂▃▃▄▄▄▅▅▅▆▆▇▇▇██</td></tr><tr><td>loss</td><td>██████████▄▁▁▁▁▁▁▁▁▁</td></tr><tr><td>val_accuracy</td><td>▁▁▁▁▁▁▁▁▁▁██████████</td></tr><tr><td>val_loss</td><td>██████████▂▂▂▂▂▂▂▂▁▁</td></tr></table><br/></div><div class=\"wandb-col\"><h3>Run summary:</h3><br/><table class=\"wandb\"><tr><td>Training_accuracy</td><td>0.4117</td></tr><tr><td>Training_loss</td><td>2.15771</td></tr><tr><td>Validation_accuracy</td><td>0.41734</td></tr><tr><td>Validation_loss</td><td>2.0375</td></tr><tr><td>accuracy</td><td>0.41734</td></tr><tr><td>best_epoch</td><td>19</td></tr><tr><td>best_val_loss</td><td>1.95601</td></tr><tr><td>epoch</td><td>19</td></tr><tr><td>loss</td><td>1.97124</td></tr><tr><td>val_accuracy</td><td>0.41734</td></tr><tr><td>val_loss</td><td>1.95601</td></tr></table><br/></div></div>"
            ]
          },
          "metadata": {}
        },
        {
          "output_type": "display_data",
          "data": {
            "text/plain": [
              "<IPython.core.display.HTML object>"
            ],
            "text/html": [
              "Synced <strong style=\"color:#cdcd00\">Part B</strong>: <a href=\"https://wandb.ai/hithesh-sidhesh/Assignment_2/runs/v4s0rkqc\" target=\"_blank\">https://wandb.ai/hithesh-sidhesh/Assignment_2/runs/v4s0rkqc</a><br/>Synced 5 W&B file(s), 640 media file(s), 0 artifact file(s) and 1 other file(s)"
            ]
          },
          "metadata": {}
        },
        {
          "output_type": "display_data",
          "data": {
            "text/plain": [
              "<IPython.core.display.HTML object>"
            ],
            "text/html": [
              "Find logs at: <code>./wandb/run-20220331_000729-v4s0rkqc/logs</code>"
            ]
          },
          "metadata": {}
        },
        {
          "output_type": "stream",
          "name": "stderr",
          "text": [
            "\u001b[34m\u001b[1mwandb\u001b[0m: Agent Starting Run: kyams4gm with config:\n",
            "\u001b[34m\u001b[1mwandb\u001b[0m: \taugment_data: yes\n",
            "\u001b[34m\u001b[1mwandb\u001b[0m: \tdense_layers: 2\n",
            "\u001b[34m\u001b[1mwandb\u001b[0m: \tdropout: 0.2\n",
            "\u001b[34m\u001b[1mwandb\u001b[0m: \tlayers_freeze: 70\n",
            "\u001b[34m\u001b[1mwandb\u001b[0m: \tmodel: xception\n",
            "\u001b[34m\u001b[1mwandb\u001b[0m: \tsize_layer: 32\n",
            "\u001b[34m\u001b[1mwandb\u001b[0m: \u001b[33mWARNING\u001b[0m Ignored wandb.init() arg project when running a sweep.\n"
          ]
        },
        {
          "output_type": "display_data",
          "data": {
            "text/plain": [
              "<IPython.core.display.HTML object>"
            ],
            "text/html": [
              "Tracking run with wandb version 0.12.11"
            ]
          },
          "metadata": {}
        },
        {
          "output_type": "display_data",
          "data": {
            "text/plain": [
              "<IPython.core.display.HTML object>"
            ],
            "text/html": [
              "Run data is saved locally in <code>/content/inaturalist_12K/train/Amphibia/wandb/run-20220331_004135-kyams4gm</code>"
            ]
          },
          "metadata": {}
        },
        {
          "output_type": "display_data",
          "data": {
            "text/plain": [
              "<IPython.core.display.HTML object>"
            ],
            "text/html": [
              "Syncing run <strong><a href=\"https://wandb.ai/hithesh-sidhesh/Assignment_2/runs/kyams4gm\" target=\"_blank\">Part B</a></strong> to <a href=\"https://wandb.ai/hithesh-sidhesh/Assignment_2\" target=\"_blank\">Weights & Biases</a> (<a href=\"https://wandb.me/run\" target=\"_blank\">docs</a>)<br/>Sweep page:  <a href=\"https://wandb.ai/hithesh-sidhesh/Assignment_2/sweeps/ns0reusj\" target=\"_blank\">https://wandb.ai/hithesh-sidhesh/Assignment_2/sweeps/ns0reusj</a>"
            ]
          },
          "metadata": {}
        },
        {
          "output_type": "display_data",
          "data": {
            "text/plain": [
              "<IPython.core.display.HTML object>"
            ],
            "text/html": [
              "Finishing last run (ID:kyams4gm) before initializing another..."
            ]
          },
          "metadata": {}
        },
        {
          "output_type": "stream",
          "name": "stdout",
          "text": [
            "\n"
          ]
        },
        {
          "output_type": "display_data",
          "data": {
            "text/plain": [
              "<IPython.core.display.HTML object>"
            ],
            "text/html": [
              "Waiting for W&B process to finish... <strong style=\"color:green\">(success).</strong>"
            ]
          },
          "metadata": {}
        },
        {
          "output_type": "display_data",
          "data": {
            "text/plain": [
              "VBox(children=(Label(value='0.001 MB of 0.001 MB uploaded (0.000 MB deduped)\\r'), FloatProgress(value=1.0, max…"
            ],
            "application/vnd.jupyter.widget-view+json": {
              "version_major": 2,
              "version_minor": 0,
              "model_id": "a4fb2fe5a96b479f8d1b101863b98d61"
            }
          },
          "metadata": {}
        },
        {
          "output_type": "display_data",
          "data": {
            "text/plain": [
              "<IPython.core.display.HTML object>"
            ],
            "text/html": [
              "Synced <strong style=\"color:#cdcd00\">Part B</strong>: <a href=\"https://wandb.ai/hithesh-sidhesh/Assignment_2/runs/kyams4gm\" target=\"_blank\">https://wandb.ai/hithesh-sidhesh/Assignment_2/runs/kyams4gm</a><br/>Synced 4 W&B file(s), 0 media file(s), 0 artifact file(s) and 0 other file(s)"
            ]
          },
          "metadata": {}
        },
        {
          "output_type": "display_data",
          "data": {
            "text/plain": [
              "<IPython.core.display.HTML object>"
            ],
            "text/html": [
              "Find logs at: <code>./wandb/run-20220331_004135-kyams4gm/logs</code>"
            ]
          },
          "metadata": {}
        },
        {
          "output_type": "display_data",
          "data": {
            "text/plain": [
              "<IPython.core.display.HTML object>"
            ],
            "text/html": [
              "Successfully finished last run (ID:kyams4gm). Initializing new run:<br/>"
            ]
          },
          "metadata": {}
        },
        {
          "output_type": "display_data",
          "data": {
            "text/plain": [
              "<IPython.core.display.HTML object>"
            ],
            "text/html": [
              "Tracking run with wandb version 0.12.11"
            ]
          },
          "metadata": {}
        },
        {
          "output_type": "display_data",
          "data": {
            "text/plain": [
              "<IPython.core.display.HTML object>"
            ],
            "text/html": [
              "Run data is saved locally in <code>/content/inaturalist_12K/train/Amphibia/wandb/run-20220331_004143-kyams4gm</code>"
            ]
          },
          "metadata": {}
        },
        {
          "output_type": "display_data",
          "data": {
            "text/plain": [
              "<IPython.core.display.HTML object>"
            ],
            "text/html": [
              "Syncing run <strong><a href=\"https://wandb.ai/hithesh-sidhesh/Assignment_2/runs/kyams4gm\" target=\"_blank\">Part B</a></strong> to <a href=\"https://wandb.ai/hithesh-sidhesh/Assignment_2\" target=\"_blank\">Weights & Biases</a> (<a href=\"https://wandb.me/run\" target=\"_blank\">docs</a>)<br/>Sweep page:  <a href=\"https://wandb.ai/hithesh-sidhesh/Assignment_2/sweeps/ns0reusj\" target=\"_blank\">https://wandb.ai/hithesh-sidhesh/Assignment_2/sweeps/ns0reusj</a>"
            ]
          },
          "metadata": {}
        },
        {
          "output_type": "stream",
          "name": "stdout",
          "text": [
            "Xception chosen\n",
            "Model: \"sequential\"\n",
            "_________________________________________________________________\n",
            " Layer (type)                Output Shape              Param #   \n",
            "=================================================================\n",
            " xception (Functional)       (None, 2048)              20861480  \n",
            "                                                                 \n",
            " flatten (Flatten)           (None, 2048)              0         \n",
            "                                                                 \n",
            " dense (Dense)               (None, 32)                65568     \n",
            "                                                                 \n",
            " dropout (Dropout)           (None, 32)                0         \n",
            "                                                                 \n",
            " dense_1 (Dense)             (None, 32)                1056      \n",
            "                                                                 \n",
            " dropout_1 (Dropout)         (None, 32)                0         \n",
            "                                                                 \n",
            " dense_2 (Dense)             (None, 10)                330       \n",
            "                                                                 \n",
            "=================================================================\n",
            "Total params: 20,928,434\n",
            "Trainable params: 0\n",
            "Non-trainable params: 20,928,434\n",
            "_________________________________________________________________\n",
            "Found 14271 images belonging to 10 classes.\n",
            "TRAINING\n",
            "Number of samples 14271\n",
            "Names of classes {'Amphibia': 0, 'Animalia': 1, 'Arachnida': 2, 'Aves': 3, 'Fungi': 4, 'Insecta': 5, 'Mammalia': 6, 'Mollusca': 7, 'Plantae': 8, 'Reptilia': 9}\n",
            "Number of classes 10\n",
            "Number of samples per class 1427\n",
            "Found 1584 images belonging to 10 classes.\n",
            "VALIDATION\n",
            "Number of samples 1584\n",
            "Names of classes {'Amphibia': 0, 'Animalia': 1, 'Arachnida': 2, 'Aves': 3, 'Fungi': 4, 'Insecta': 5, 'Mammalia': 6, 'Mollusca': 7, 'Plantae': 8, 'Reptilia': 9}\n",
            "Number of classes 10\n",
            "Number of samples per class 158\n",
            "Found 2000 images belonging to 10 classes.\n",
            "Epoch 1/10\n",
            "445/445 - 110s - loss: 2.4065 - accuracy: 0.0791 - val_loss: 2.3451 - val_accuracy: 0.0599 - _timestamp: 1648687426.0000 - _runtime: 119.0000 - 110s/epoch - 246ms/step\n",
            "Epoch 2/10\n",
            "445/445 - 105s - loss: 2.4015 - accuracy: 0.0729 - val_loss: 2.3498 - val_accuracy: 0.0606 - _timestamp: 1648687531.0000 - _runtime: 224.0000 - 105s/epoch - 235ms/step\n",
            "Epoch 3/10\n",
            "445/445 - 104s - loss: 2.4064 - accuracy: 0.0738 - val_loss: 2.3471 - val_accuracy: 0.0606 - _timestamp: 1648687636.0000 - _runtime: 329.0000 - 104s/epoch - 234ms/step\n",
            "Epoch 4/10\n",
            "445/445 - 104s - loss: 2.4067 - accuracy: 0.0721 - val_loss: 2.3511 - val_accuracy: 0.0599 - _timestamp: 1648687740.0000 - _runtime: 433.0000 - 104s/epoch - 234ms/step\n",
            "Epoch 5/10\n",
            "445/445 - 102s - loss: 2.4066 - accuracy: 0.0752 - val_loss: 2.3480 - val_accuracy: 0.0606 - _timestamp: 1648687842.0000 - _runtime: 535.0000 - 102s/epoch - 229ms/step\n",
            "Epoch 6/10\n",
            "445/445 - 99s - loss: 2.4052 - accuracy: 0.0749 - val_loss: 2.3475 - val_accuracy: 0.0606 - _timestamp: 1648687941.0000 - _runtime: 634.0000 - 99s/epoch - 223ms/step\n",
            "Epoch 7/10\n",
            "445/445 - 98s - loss: 2.4093 - accuracy: 0.0707 - val_loss: 2.3492 - val_accuracy: 0.0606 - _timestamp: 1648688039.0000 - _runtime: 732.0000 - 98s/epoch - 219ms/step\n",
            "Epoch 7: early stopping\n",
            "Epoch 8/20\n",
            "445/445 - 112s - loss: 2.3748 - accuracy: 0.0837 - val_loss: 2.3043 - val_accuracy: 0.0780 - _timestamp: 1648688158.0000 - _runtime: 851.0000 - 112s/epoch - 251ms/step\n",
            "Epoch 9/20\n",
            "445/445 - 105s - loss: 2.3365 - accuracy: 0.1058 - val_loss: 2.2665 - val_accuracy: 0.1276 - _timestamp: 1648688263.0000 - _runtime: 956.0000 - 105s/epoch - 235ms/step\n",
            "Epoch 10/20\n",
            "445/445 - 105s - loss: 2.2958 - accuracy: 0.1380 - val_loss: 2.2313 - val_accuracy: 0.1843 - _timestamp: 1648688368.0000 - _runtime: 1061.0000 - 105s/epoch - 237ms/step\n",
            "Epoch 11/20\n",
            "445/445 - 104s - loss: 2.2524 - accuracy: 0.1894 - val_loss: 2.1976 - val_accuracy: 0.2661 - _timestamp: 1648688472.0000 - _runtime: 1165.0000 - 104s/epoch - 233ms/step\n",
            "Epoch 12/20\n",
            "445/445 - 102s - loss: 2.2260 - accuracy: 0.2295 - val_loss: 2.1720 - val_accuracy: 0.3157 - _timestamp: 1648688575.0000 - _runtime: 1268.0000 - 102s/epoch - 230ms/step\n",
            "Epoch 13/20\n",
            "445/445 - 99s - loss: 2.1852 - accuracy: 0.2865 - val_loss: 2.1479 - val_accuracy: 0.3673 - _timestamp: 1648688674.0000 - _runtime: 1367.0000 - 99s/epoch - 222ms/step\n",
            "Epoch 14/20\n",
            "445/445 - 94s - loss: 2.1759 - accuracy: 0.3080 - val_loss: 2.1294 - val_accuracy: 0.3976 - _timestamp: 1648688768.0000 - _runtime: 1461.0000 - 94s/epoch - 211ms/step\n",
            "Epoch 15/20\n",
            "445/445 - 93s - loss: 2.1445 - accuracy: 0.3405 - val_loss: 2.1102 - val_accuracy: 0.4098 - _timestamp: 1648688861.0000 - _runtime: 1554.0000 - 93s/epoch - 209ms/step\n",
            "Epoch 16/20\n",
            "445/445 - 86s - loss: 2.1317 - accuracy: 0.3577 - val_loss: 2.0978 - val_accuracy: 0.4130 - _timestamp: 1648688946.0000 - _runtime: 1639.0000 - 86s/epoch - 192ms/step\n",
            "Epoch 17/20\n",
            "445/445 - 90s - loss: 2.1197 - accuracy: 0.3740 - val_loss: 2.0816 - val_accuracy: 0.4149 - _timestamp: 1648689037.0000 - _runtime: 1730.0000 - 90s/epoch - 202ms/step\n",
            "Epoch 18/20\n",
            "445/445 - 89s - loss: 2.1048 - accuracy: 0.3922 - val_loss: 2.0726 - val_accuracy: 0.4175 - _timestamp: 1648689126.0000 - _runtime: 1819.0000 - 89s/epoch - 201ms/step\n",
            "Epoch 19/20\n",
            "445/445 - 89s - loss: 2.0884 - accuracy: 0.4019 - val_loss: 2.0637 - val_accuracy: 0.4182 - _timestamp: 1648689215.0000 - _runtime: 1908.0000 - 89s/epoch - 201ms/step\n",
            "Epoch 20/20\n",
            "445/445 - 90s - loss: 2.0892 - accuracy: 0.4078 - val_loss: 2.0558 - val_accuracy: 0.4182 - _timestamp: 1648689305.0000 - _runtime: 1998.0000 - 90s/epoch - 201ms/step\n",
            "62/62 - 20s - loss: 2.4247 - accuracy: 0.1028 - 20s/epoch - 326ms/step\n",
            "Test accuracy on model is :  0.10282257944345474\n",
            "{'Training_loss': 2.3747637271881104, 'Validation_loss': 2.3043038845062256, 'Training_accuracy': 0.4078235924243927, 'Validation_accuracy': 0.41817009449005127, '_timestamp': 1648689326, '_runtime': 2019}\n",
            "\n"
          ]
        },
        {
          "output_type": "display_data",
          "data": {
            "text/plain": [
              "<IPython.core.display.HTML object>"
            ],
            "text/html": [
              "Waiting for W&B process to finish... <strong style=\"color:green\">(success).</strong>"
            ]
          },
          "metadata": {}
        },
        {
          "output_type": "display_data",
          "data": {
            "text/plain": [
              "VBox(children=(Label(value='103.101 MB of 103.101 MB uploaded (0.000 MB deduped)\\r'), FloatProgress(value=1.0,…"
            ],
            "application/vnd.jupyter.widget-view+json": {
              "version_major": 2,
              "version_minor": 0,
              "model_id": "50cc9da778d94d13a240c7ea7edb6fe4"
            }
          },
          "metadata": {}
        },
        {
          "output_type": "display_data",
          "data": {
            "text/plain": [
              "<IPython.core.display.HTML object>"
            ],
            "text/html": [
              "<style>\n",
              "    table.wandb td:nth-child(1) { padding: 0 10px; text-align: right }\n",
              "    .wandb-row { display: flex; flex-direction: row; flex-wrap: wrap; width: 100% }\n",
              "    .wandb-col { display: flex; flex-direction: column; flex-basis: 100%; flex: 1; padding: 10px; }\n",
              "    </style>\n",
              "<div class=\"wandb-row\"><div class=\"wandb-col\"><h3>Run history:</h3><br/><table class=\"wandb\"><tr><td>Training_accuracy</td><td>▁</td></tr><tr><td>Training_loss</td><td>▁</td></tr><tr><td>Validation_accuracy</td><td>▁</td></tr><tr><td>Validation_loss</td><td>▁</td></tr><tr><td>accuracy</td><td>▁▁▁▁▁▁▁▁▂▂▃▄▅▆▆▇▇▇███</td></tr><tr><td>epoch</td><td>▁▁▂▂▂▃▃▄▄▄▅▅▅▆▆▇▇▇██</td></tr><tr><td>loss</td><td>███████▇▆▆▅▄▃▃▂▂▂▁▁▁</td></tr><tr><td>val_accuracy</td><td>▁▁▁▁▁▁▁▁▂▃▅▆▇███████</td></tr><tr><td>val_loss</td><td>███████▇▆▅▄▄▃▃▂▂▂▁▁▁</td></tr></table><br/></div><div class=\"wandb-col\"><h3>Run summary:</h3><br/><table class=\"wandb\"><tr><td>Training_accuracy</td><td>0.40782</td></tr><tr><td>Training_loss</td><td>2.37476</td></tr><tr><td>Validation_accuracy</td><td>0.41817</td></tr><tr><td>Validation_loss</td><td>2.3043</td></tr><tr><td>accuracy</td><td>0.41817</td></tr><tr><td>best_epoch</td><td>19</td></tr><tr><td>best_val_loss</td><td>2.05583</td></tr><tr><td>epoch</td><td>19</td></tr><tr><td>loss</td><td>2.08921</td></tr><tr><td>val_accuracy</td><td>0.41817</td></tr><tr><td>val_loss</td><td>2.05583</td></tr></table><br/></div></div>"
            ]
          },
          "metadata": {}
        },
        {
          "output_type": "display_data",
          "data": {
            "text/plain": [
              "<IPython.core.display.HTML object>"
            ],
            "text/html": [
              "Synced <strong style=\"color:#cdcd00\">Part B</strong>: <a href=\"https://wandb.ai/hithesh-sidhesh/Assignment_2/runs/kyams4gm\" target=\"_blank\">https://wandb.ai/hithesh-sidhesh/Assignment_2/runs/kyams4gm</a><br/>Synced 5 W&B file(s), 640 media file(s), 0 artifact file(s) and 1 other file(s)"
            ]
          },
          "metadata": {}
        },
        {
          "output_type": "display_data",
          "data": {
            "text/plain": [
              "<IPython.core.display.HTML object>"
            ],
            "text/html": [
              "Find logs at: <code>./wandb/run-20220331_004143-kyams4gm/logs</code>"
            ]
          },
          "metadata": {}
        },
        {
          "output_type": "stream",
          "name": "stderr",
          "text": [
            "\u001b[34m\u001b[1mwandb\u001b[0m: Agent Starting Run: kfkq3ndc with config:\n",
            "\u001b[34m\u001b[1mwandb\u001b[0m: \taugment_data: no\n",
            "\u001b[34m\u001b[1mwandb\u001b[0m: \tdense_layers: 0\n",
            "\u001b[34m\u001b[1mwandb\u001b[0m: \tdropout: 0.2\n",
            "\u001b[34m\u001b[1mwandb\u001b[0m: \tlayers_freeze: 70\n",
            "\u001b[34m\u001b[1mwandb\u001b[0m: \tmodel: xception\n",
            "\u001b[34m\u001b[1mwandb\u001b[0m: \tsize_layer: 128\n",
            "\u001b[34m\u001b[1mwandb\u001b[0m: \u001b[33mWARNING\u001b[0m Ignored wandb.init() arg project when running a sweep.\n"
          ]
        },
        {
          "output_type": "display_data",
          "data": {
            "text/plain": [
              "<IPython.core.display.HTML object>"
            ],
            "text/html": [
              "Tracking run with wandb version 0.12.11"
            ]
          },
          "metadata": {}
        },
        {
          "output_type": "display_data",
          "data": {
            "text/plain": [
              "<IPython.core.display.HTML object>"
            ],
            "text/html": [
              "Run data is saved locally in <code>/content/inaturalist_12K/train/Amphibia/wandb/run-20220331_011544-kfkq3ndc</code>"
            ]
          },
          "metadata": {}
        },
        {
          "output_type": "display_data",
          "data": {
            "text/plain": [
              "<IPython.core.display.HTML object>"
            ],
            "text/html": [
              "Syncing run <strong><a href=\"https://wandb.ai/hithesh-sidhesh/Assignment_2/runs/kfkq3ndc\" target=\"_blank\">Part B</a></strong> to <a href=\"https://wandb.ai/hithesh-sidhesh/Assignment_2\" target=\"_blank\">Weights & Biases</a> (<a href=\"https://wandb.me/run\" target=\"_blank\">docs</a>)<br/>Sweep page:  <a href=\"https://wandb.ai/hithesh-sidhesh/Assignment_2/sweeps/ns0reusj\" target=\"_blank\">https://wandb.ai/hithesh-sidhesh/Assignment_2/sweeps/ns0reusj</a>"
            ]
          },
          "metadata": {}
        },
        {
          "output_type": "display_data",
          "data": {
            "text/plain": [
              "<IPython.core.display.HTML object>"
            ],
            "text/html": [
              "Finishing last run (ID:kfkq3ndc) before initializing another..."
            ]
          },
          "metadata": {}
        },
        {
          "output_type": "stream",
          "name": "stdout",
          "text": [
            "\n"
          ]
        },
        {
          "output_type": "display_data",
          "data": {
            "text/plain": [
              "<IPython.core.display.HTML object>"
            ],
            "text/html": [
              "Waiting for W&B process to finish... <strong style=\"color:green\">(success).</strong>"
            ]
          },
          "metadata": {}
        },
        {
          "output_type": "display_data",
          "data": {
            "text/plain": [
              "VBox(children=(Label(value='0.001 MB of 0.001 MB uploaded (0.000 MB deduped)\\r'), FloatProgress(value=1.0, max…"
            ],
            "application/vnd.jupyter.widget-view+json": {
              "version_major": 2,
              "version_minor": 0,
              "model_id": "edf1987354084f318ed7179aa4f409c5"
            }
          },
          "metadata": {}
        },
        {
          "output_type": "display_data",
          "data": {
            "text/plain": [
              "<IPython.core.display.HTML object>"
            ],
            "text/html": [
              "Synced <strong style=\"color:#cdcd00\">Part B</strong>: <a href=\"https://wandb.ai/hithesh-sidhesh/Assignment_2/runs/kfkq3ndc\" target=\"_blank\">https://wandb.ai/hithesh-sidhesh/Assignment_2/runs/kfkq3ndc</a><br/>Synced 4 W&B file(s), 0 media file(s), 0 artifact file(s) and 0 other file(s)"
            ]
          },
          "metadata": {}
        },
        {
          "output_type": "display_data",
          "data": {
            "text/plain": [
              "<IPython.core.display.HTML object>"
            ],
            "text/html": [
              "Find logs at: <code>./wandb/run-20220331_011544-kfkq3ndc/logs</code>"
            ]
          },
          "metadata": {}
        },
        {
          "output_type": "display_data",
          "data": {
            "text/plain": [
              "<IPython.core.display.HTML object>"
            ],
            "text/html": [
              "Successfully finished last run (ID:kfkq3ndc). Initializing new run:<br/>"
            ]
          },
          "metadata": {}
        },
        {
          "output_type": "display_data",
          "data": {
            "text/plain": [
              "<IPython.core.display.HTML object>"
            ],
            "text/html": [
              "Tracking run with wandb version 0.12.11"
            ]
          },
          "metadata": {}
        },
        {
          "output_type": "display_data",
          "data": {
            "text/plain": [
              "<IPython.core.display.HTML object>"
            ],
            "text/html": [
              "Run data is saved locally in <code>/content/inaturalist_12K/train/Amphibia/wandb/run-20220331_011552-kfkq3ndc</code>"
            ]
          },
          "metadata": {}
        },
        {
          "output_type": "display_data",
          "data": {
            "text/plain": [
              "<IPython.core.display.HTML object>"
            ],
            "text/html": [
              "Syncing run <strong><a href=\"https://wandb.ai/hithesh-sidhesh/Assignment_2/runs/kfkq3ndc\" target=\"_blank\">Part B</a></strong> to <a href=\"https://wandb.ai/hithesh-sidhesh/Assignment_2\" target=\"_blank\">Weights & Biases</a> (<a href=\"https://wandb.me/run\" target=\"_blank\">docs</a>)<br/>Sweep page:  <a href=\"https://wandb.ai/hithesh-sidhesh/Assignment_2/sweeps/ns0reusj\" target=\"_blank\">https://wandb.ai/hithesh-sidhesh/Assignment_2/sweeps/ns0reusj</a>"
            ]
          },
          "metadata": {}
        },
        {
          "output_type": "stream",
          "name": "stdout",
          "text": [
            "Xception chosen\n",
            "Model: \"sequential\"\n",
            "_________________________________________________________________\n",
            " Layer (type)                Output Shape              Param #   \n",
            "=================================================================\n",
            " xception (Functional)       (None, 2048)              20861480  \n",
            "                                                                 \n",
            " flatten (Flatten)           (None, 2048)              0         \n",
            "                                                                 \n",
            " dense (Dense)               (None, 10)                20490     \n",
            "                                                                 \n",
            "=================================================================\n",
            "Total params: 20,881,970\n",
            "Trainable params: 0\n",
            "Non-trainable params: 20,881,970\n",
            "_________________________________________________________________\n",
            "Found 14847 images belonging to 10 classes.\n",
            "TRAINING\n",
            "Number of samples 14847\n",
            "Names of classes {'Amphibia': 0, 'Animalia': 1, 'Arachnida': 2, 'Aves': 3, 'Fungi': 4, 'Insecta': 5, 'Mammalia': 6, 'Mollusca': 7, 'Plantae': 8, 'Reptilia': 9}\n",
            "Number of classes 10\n",
            "Number of samples per class 1484\n",
            "Found 1648 images belonging to 10 classes.\n",
            "VALIDATION\n",
            "Number of samples 1648\n",
            "Names of classes {'Amphibia': 0, 'Animalia': 1, 'Arachnida': 2, 'Aves': 3, 'Fungi': 4, 'Insecta': 5, 'Mammalia': 6, 'Mollusca': 7, 'Plantae': 8, 'Reptilia': 9}\n",
            "Number of classes 10\n",
            "Number of samples per class 164\n",
            "Found 2000 images belonging to 10 classes.\n",
            "Epoch 1/10\n",
            "463/463 - 110s - loss: 2.6346 - accuracy: 0.0667 - val_loss: 2.6202 - val_accuracy: 0.0741 - _timestamp: 1648689476.0000 - _runtime: 120.0000 - 110s/epoch - 238ms/step\n",
            "Epoch 2/10\n",
            "463/463 - 106s - loss: 2.6347 - accuracy: 0.0669 - val_loss: 2.6165 - val_accuracy: 0.0743 - _timestamp: 1648689583.0000 - _runtime: 227.0000 - 106s/epoch - 230ms/step\n",
            "Epoch 3/10\n",
            "463/463 - 106s - loss: 2.6340 - accuracy: 0.0666 - val_loss: 2.6159 - val_accuracy: 0.0743 - _timestamp: 1648689689.0000 - _runtime: 333.0000 - 106s/epoch - 228ms/step\n",
            "Epoch 4/10\n",
            "463/463 - 105s - loss: 2.6358 - accuracy: 0.0668 - val_loss: 2.6092 - val_accuracy: 0.0743 - _timestamp: 1648689793.0000 - _runtime: 437.0000 - 105s/epoch - 226ms/step\n",
            "Epoch 5/10\n",
            "463/463 - 103s - loss: 2.6327 - accuracy: 0.0666 - val_loss: 2.6126 - val_accuracy: 0.0749 - _timestamp: 1648689897.0000 - _runtime: 541.0000 - 103s/epoch - 223ms/step\n",
            "Epoch 6/10\n",
            "463/463 - 100s - loss: 2.6341 - accuracy: 0.0668 - val_loss: 2.6147 - val_accuracy: 0.0755 - _timestamp: 1648689997.0000 - _runtime: 641.0000 - 100s/epoch - 216ms/step\n",
            "Epoch 7/10\n",
            "463/463 - 95s - loss: 2.6355 - accuracy: 0.0670 - val_loss: 2.6165 - val_accuracy: 0.0749 - _timestamp: 1648690091.0000 - _runtime: 735.0000 - 95s/epoch - 204ms/step\n",
            "Epoch 8/10\n",
            "463/463 - 90s - loss: 2.6339 - accuracy: 0.0671 - val_loss: 2.6126 - val_accuracy: 0.0749 - _timestamp: 1648690181.0000 - _runtime: 825.0000 - 90s/epoch - 194ms/step\n",
            "Epoch 9/10\n",
            "463/463 - 89s - loss: 2.6342 - accuracy: 0.0666 - val_loss: 2.6141 - val_accuracy: 0.0749 - _timestamp: 1648690271.0000 - _runtime: 915.0000 - 89s/epoch - 193ms/step\n",
            "Epoch 10/10\n",
            "463/463 - 90s - loss: 2.6349 - accuracy: 0.0665 - val_loss: 2.6161 - val_accuracy: 0.0755 - _timestamp: 1648690360.0000 - _runtime: 1004.0000 - 90s/epoch - 193ms/step\n",
            "Epoch 10: early stopping\n",
            "Epoch 11/20\n",
            "463/463 - 110s - loss: 2.2009 - accuracy: 0.2513 - val_loss: 1.9939 - val_accuracy: 0.3917 - _timestamp: 1648690470.0000 - _runtime: 1114.0000 - 110s/epoch - 238ms/step\n",
            "Epoch 12/20\n",
            "463/463 - 106s - loss: 1.9428 - accuracy: 0.4198 - val_loss: 1.8838 - val_accuracy: 0.4381 - _timestamp: 1648690576.0000 - _runtime: 1220.0000 - 106s/epoch - 230ms/step\n",
            "Epoch 13/20\n",
            "463/463 - 106s - loss: 1.8537 - accuracy: 0.4441 - val_loss: 1.7927 - val_accuracy: 0.4585 - _timestamp: 1648690682.0000 - _runtime: 1326.0000 - 106s/epoch - 228ms/step\n",
            "Epoch 14/20\n",
            "463/463 - 105s - loss: 1.7774 - accuracy: 0.4591 - val_loss: 1.7221 - val_accuracy: 0.4765 - _timestamp: 1648690787.0000 - _runtime: 1431.0000 - 105s/epoch - 227ms/step\n",
            "Epoch 15/20\n",
            "463/463 - 103s - loss: 1.7177 - accuracy: 0.4717 - val_loss: 1.6520 - val_accuracy: 0.4969 - _timestamp: 1648690891.0000 - _runtime: 1535.0000 - 103s/epoch - 223ms/step\n",
            "Epoch 16/20\n",
            "463/463 - 100s - loss: 1.6562 - accuracy: 0.4890 - val_loss: 1.6011 - val_accuracy: 0.5093 - _timestamp: 1648690991.0000 - _runtime: 1635.0000 - 100s/epoch - 216ms/step\n",
            "Epoch 17/20\n",
            "463/463 - 95s - loss: 1.6115 - accuracy: 0.4991 - val_loss: 1.5548 - val_accuracy: 0.5217 - _timestamp: 1648691086.0000 - _runtime: 1730.0000 - 95s/epoch - 205ms/step\n",
            "Epoch 18/20\n",
            "463/463 - 90s - loss: 1.5800 - accuracy: 0.5050 - val_loss: 1.5133 - val_accuracy: 0.5377 - _timestamp: 1648691176.0000 - _runtime: 1820.0000 - 90s/epoch - 194ms/step\n",
            "Epoch 19/20\n",
            "463/463 - 90s - loss: 1.5507 - accuracy: 0.5133 - val_loss: 1.4858 - val_accuracy: 0.5421 - _timestamp: 1648691266.0000 - _runtime: 1910.0000 - 90s/epoch - 195ms/step\n",
            "Epoch 20/20\n",
            "463/463 - 90s - loss: 1.5212 - accuracy: 0.5208 - val_loss: 1.4554 - val_accuracy: 0.5538 - _timestamp: 1648691356.0000 - _runtime: 2000.0000 - 90s/epoch - 193ms/step\n",
            "62/62 - 21s - loss: 1.8864 - accuracy: 0.2812 - 21s/epoch - 337ms/step\n",
            "Test accuracy on model is :  0.28125\n",
            "{'Training_loss': 2.2008893489837646, 'Validation_loss': 1.9939218759536743, 'Training_accuracy': 0.5207560062408447, 'Validation_accuracy': 0.5538366436958313, '_timestamp': 1648691427, '_runtime': 2071}\n",
            "\n"
          ]
        },
        {
          "output_type": "display_data",
          "data": {
            "text/plain": [
              "<IPython.core.display.HTML object>"
            ],
            "text/html": [
              "Waiting for W&B process to finish... <strong style=\"color:green\">(success).</strong>"
            ]
          },
          "metadata": {}
        },
        {
          "output_type": "display_data",
          "data": {
            "text/plain": [
              "VBox(children=(Label(value='102.987 MB of 102.987 MB uploaded (0.000 MB deduped)\\r'), FloatProgress(value=1.0,…"
            ],
            "application/vnd.jupyter.widget-view+json": {
              "version_major": 2,
              "version_minor": 0,
              "model_id": "83ac6a0c37f94604b1d8f45391346b89"
            }
          },
          "metadata": {}
        },
        {
          "output_type": "display_data",
          "data": {
            "text/plain": [
              "<IPython.core.display.HTML object>"
            ],
            "text/html": [
              "<style>\n",
              "    table.wandb td:nth-child(1) { padding: 0 10px; text-align: right }\n",
              "    .wandb-row { display: flex; flex-direction: row; flex-wrap: wrap; width: 100% }\n",
              "    .wandb-col { display: flex; flex-direction: column; flex-basis: 100%; flex: 1; padding: 10px; }\n",
              "    </style>\n",
              "<div class=\"wandb-row\"><div class=\"wandb-col\"><h3>Run history:</h3><br/><table class=\"wandb\"><tr><td>Training_accuracy</td><td>▁</td></tr><tr><td>Training_loss</td><td>▁</td></tr><tr><td>Validation_accuracy</td><td>▁</td></tr><tr><td>Validation_loss</td><td>▁</td></tr><tr><td>accuracy</td><td>▁▁▁▁▁▁▁▁▁▁▄▆▆▇▇▇▇▇▇██</td></tr><tr><td>epoch</td><td>▁▁▂▂▂▃▃▄▄▄▅▅▅▆▆▇▇▇██</td></tr><tr><td>loss</td><td>██████████▅▄▃▃▂▂▂▁▁▁</td></tr><tr><td>val_accuracy</td><td>▁▁▁▁▁▁▁▁▁▁▆▆▇▇▇▇████</td></tr><tr><td>val_loss</td><td>██████████▄▄▃▃▂▂▂▁▁▁</td></tr></table><br/></div><div class=\"wandb-col\"><h3>Run summary:</h3><br/><table class=\"wandb\"><tr><td>Training_accuracy</td><td>0.52076</td></tr><tr><td>Training_loss</td><td>2.20089</td></tr><tr><td>Validation_accuracy</td><td>0.55384</td></tr><tr><td>Validation_loss</td><td>1.99392</td></tr><tr><td>accuracy</td><td>0.55384</td></tr><tr><td>best_epoch</td><td>19</td></tr><tr><td>best_val_loss</td><td>1.45535</td></tr><tr><td>epoch</td><td>19</td></tr><tr><td>loss</td><td>1.52124</td></tr><tr><td>val_accuracy</td><td>0.55384</td></tr><tr><td>val_loss</td><td>1.45535</td></tr></table><br/></div></div>"
            ]
          },
          "metadata": {}
        },
        {
          "output_type": "display_data",
          "data": {
            "text/plain": [
              "<IPython.core.display.HTML object>"
            ],
            "text/html": [
              "Synced <strong style=\"color:#cdcd00\">Part B</strong>: <a href=\"https://wandb.ai/hithesh-sidhesh/Assignment_2/runs/kfkq3ndc\" target=\"_blank\">https://wandb.ai/hithesh-sidhesh/Assignment_2/runs/kfkq3ndc</a><br/>Synced 5 W&B file(s), 640 media file(s), 0 artifact file(s) and 1 other file(s)"
            ]
          },
          "metadata": {}
        },
        {
          "output_type": "display_data",
          "data": {
            "text/plain": [
              "<IPython.core.display.HTML object>"
            ],
            "text/html": [
              "Find logs at: <code>./wandb/run-20220331_011552-kfkq3ndc/logs</code>"
            ]
          },
          "metadata": {}
        },
        {
          "output_type": "stream",
          "name": "stderr",
          "text": [
            "\u001b[34m\u001b[1mwandb\u001b[0m: Sweep Agent: Waiting for job.\n",
            "\u001b[34m\u001b[1mwandb\u001b[0m: Job received.\n",
            "\u001b[34m\u001b[1mwandb\u001b[0m: Agent Starting Run: ijdnec34 with config:\n",
            "\u001b[34m\u001b[1mwandb\u001b[0m: \taugment_data: no\n",
            "\u001b[34m\u001b[1mwandb\u001b[0m: \tdense_layers: 0\n",
            "\u001b[34m\u001b[1mwandb\u001b[0m: \tdropout: 0.8\n",
            "\u001b[34m\u001b[1mwandb\u001b[0m: \tlayers_freeze: 80\n",
            "\u001b[34m\u001b[1mwandb\u001b[0m: \tmodel: efficientnet\n",
            "\u001b[34m\u001b[1mwandb\u001b[0m: \tsize_layer: 128\n",
            "\u001b[34m\u001b[1mwandb\u001b[0m: \u001b[33mWARNING\u001b[0m Ignored wandb.init() arg project when running a sweep.\n"
          ]
        },
        {
          "output_type": "display_data",
          "data": {
            "text/plain": [
              "<IPython.core.display.HTML object>"
            ],
            "text/html": [
              "Tracking run with wandb version 0.12.11"
            ]
          },
          "metadata": {}
        },
        {
          "output_type": "display_data",
          "data": {
            "text/plain": [
              "<IPython.core.display.HTML object>"
            ],
            "text/html": [
              "Run data is saved locally in <code>/content/inaturalist_12K/train/Amphibia/wandb/run-20220331_015050-ijdnec34</code>"
            ]
          },
          "metadata": {}
        },
        {
          "output_type": "display_data",
          "data": {
            "text/plain": [
              "<IPython.core.display.HTML object>"
            ],
            "text/html": [
              "Syncing run <strong><a href=\"https://wandb.ai/hithesh-sidhesh/Assignment_2/runs/ijdnec34\" target=\"_blank\">Part B</a></strong> to <a href=\"https://wandb.ai/hithesh-sidhesh/Assignment_2\" target=\"_blank\">Weights & Biases</a> (<a href=\"https://wandb.me/run\" target=\"_blank\">docs</a>)<br/>Sweep page:  <a href=\"https://wandb.ai/hithesh-sidhesh/Assignment_2/sweeps/ns0reusj\" target=\"_blank\">https://wandb.ai/hithesh-sidhesh/Assignment_2/sweeps/ns0reusj</a>"
            ]
          },
          "metadata": {}
        },
        {
          "output_type": "display_data",
          "data": {
            "text/plain": [
              "<IPython.core.display.HTML object>"
            ],
            "text/html": [
              "Finishing last run (ID:ijdnec34) before initializing another..."
            ]
          },
          "metadata": {}
        },
        {
          "output_type": "stream",
          "name": "stdout",
          "text": [
            "\n"
          ]
        },
        {
          "output_type": "display_data",
          "data": {
            "text/plain": [
              "<IPython.core.display.HTML object>"
            ],
            "text/html": [
              "Waiting for W&B process to finish... <strong style=\"color:green\">(success).</strong>"
            ]
          },
          "metadata": {}
        },
        {
          "output_type": "display_data",
          "data": {
            "text/plain": [
              "VBox(children=(Label(value='0.001 MB of 0.001 MB uploaded (0.000 MB deduped)\\r'), FloatProgress(value=1.0, max…"
            ],
            "application/vnd.jupyter.widget-view+json": {
              "version_major": 2,
              "version_minor": 0,
              "model_id": "5dcfb7e6344f4874811e48ab627d7a73"
            }
          },
          "metadata": {}
        },
        {
          "output_type": "display_data",
          "data": {
            "text/plain": [
              "<IPython.core.display.HTML object>"
            ],
            "text/html": [
              "Synced <strong style=\"color:#cdcd00\">Part B</strong>: <a href=\"https://wandb.ai/hithesh-sidhesh/Assignment_2/runs/ijdnec34\" target=\"_blank\">https://wandb.ai/hithesh-sidhesh/Assignment_2/runs/ijdnec34</a><br/>Synced 4 W&B file(s), 0 media file(s), 0 artifact file(s) and 0 other file(s)"
            ]
          },
          "metadata": {}
        },
        {
          "output_type": "display_data",
          "data": {
            "text/plain": [
              "<IPython.core.display.HTML object>"
            ],
            "text/html": [
              "Find logs at: <code>./wandb/run-20220331_015050-ijdnec34/logs</code>"
            ]
          },
          "metadata": {}
        },
        {
          "output_type": "display_data",
          "data": {
            "text/plain": [
              "<IPython.core.display.HTML object>"
            ],
            "text/html": [
              "Successfully finished last run (ID:ijdnec34). Initializing new run:<br/>"
            ]
          },
          "metadata": {}
        },
        {
          "output_type": "display_data",
          "data": {
            "text/plain": [
              "<IPython.core.display.HTML object>"
            ],
            "text/html": [
              "Tracking run with wandb version 0.12.11"
            ]
          },
          "metadata": {}
        },
        {
          "output_type": "display_data",
          "data": {
            "text/plain": [
              "<IPython.core.display.HTML object>"
            ],
            "text/html": [
              "Run data is saved locally in <code>/content/inaturalist_12K/train/Amphibia/wandb/run-20220331_015058-ijdnec34</code>"
            ]
          },
          "metadata": {}
        },
        {
          "output_type": "display_data",
          "data": {
            "text/plain": [
              "<IPython.core.display.HTML object>"
            ],
            "text/html": [
              "Syncing run <strong><a href=\"https://wandb.ai/hithesh-sidhesh/Assignment_2/runs/ijdnec34\" target=\"_blank\">Part B</a></strong> to <a href=\"https://wandb.ai/hithesh-sidhesh/Assignment_2\" target=\"_blank\">Weights & Biases</a> (<a href=\"https://wandb.me/run\" target=\"_blank\">docs</a>)<br/>Sweep page:  <a href=\"https://wandb.ai/hithesh-sidhesh/Assignment_2/sweeps/ns0reusj\" target=\"_blank\">https://wandb.ai/hithesh-sidhesh/Assignment_2/sweeps/ns0reusj</a>"
            ]
          },
          "metadata": {}
        },
        {
          "output_type": "stream",
          "name": "stdout",
          "text": [
            "EfficientNetB3 chosen\n",
            "Model: \"sequential\"\n",
            "_________________________________________________________________\n",
            " Layer (type)                Output Shape              Param #   \n",
            "=================================================================\n",
            " efficientnetb3 (Functional)  (None, 1536)             10783535  \n",
            "                                                                 \n",
            " flatten (Flatten)           (None, 1536)              0         \n",
            "                                                                 \n",
            " dense (Dense)               (None, 10)                15370     \n",
            "                                                                 \n",
            "=================================================================\n",
            "Total params: 10,798,905\n",
            "Trainable params: 0\n",
            "Non-trainable params: 10,798,905\n",
            "_________________________________________________________________\n",
            "Found 15423 images belonging to 10 classes.\n",
            "TRAINING\n",
            "Number of samples 15423\n",
            "Names of classes {'Amphibia': 0, 'Animalia': 1, 'Arachnida': 2, 'Aves': 3, 'Fungi': 4, 'Insecta': 5, 'Mammalia': 6, 'Mollusca': 7, 'Plantae': 8, 'Reptilia': 9}\n",
            "Number of classes 10\n",
            "Number of samples per class 1542\n",
            "Found 1712 images belonging to 10 classes.\n",
            "VALIDATION\n",
            "Number of samples 1712\n",
            "Names of classes {'Amphibia': 0, 'Animalia': 1, 'Arachnida': 2, 'Aves': 3, 'Fungi': 4, 'Insecta': 5, 'Mammalia': 6, 'Mollusca': 7, 'Plantae': 8, 'Reptilia': 9}\n",
            "Number of classes 10\n",
            "Number of samples per class 171\n",
            "Found 2000 images belonging to 10 classes.\n",
            "Epoch 1/10\n",
            "481/481 - 121s - loss: 2.2282 - accuracy: 0.1772 - val_loss: 2.2219 - val_accuracy: 0.0566 - _timestamp: 1648691595.0000 - _runtime: 132.0000 - 121s/epoch - 251ms/step\n",
            "Epoch 2/10\n",
            "481/481 - 107s - loss: 2.2273 - accuracy: 0.1772 - val_loss: 2.2268 - val_accuracy: 0.0571 - _timestamp: 1648691703.0000 - _runtime: 240.0000 - 107s/epoch - 222ms/step\n",
            "Epoch 3/10\n",
            "481/481 - 107s - loss: 2.2275 - accuracy: 0.1816 - val_loss: 2.2267 - val_accuracy: 0.0571 - _timestamp: 1648691810.0000 - _runtime: 347.0000 - 107s/epoch - 223ms/step\n",
            "Epoch 4/10\n",
            "481/481 - 106s - loss: 2.2283 - accuracy: 0.1789 - val_loss: 2.2268 - val_accuracy: 0.0571 - _timestamp: 1648691915.0000 - _runtime: 452.0000 - 106s/epoch - 220ms/step\n",
            "Epoch 5/10\n",
            "481/481 - 105s - loss: 2.2271 - accuracy: 0.1813 - val_loss: 2.2267 - val_accuracy: 0.0571 - _timestamp: 1648692020.0000 - _runtime: 557.0000 - 105s/epoch - 218ms/step\n",
            "Epoch 6/10\n",
            "481/481 - 102s - loss: 2.2275 - accuracy: 0.1795 - val_loss: 2.2267 - val_accuracy: 0.0571 - _timestamp: 1648692122.0000 - _runtime: 659.0000 - 102s/epoch - 212ms/step\n",
            "Epoch 7/10\n",
            "481/481 - 97s - loss: 2.2272 - accuracy: 0.1793 - val_loss: 2.2268 - val_accuracy: 0.0571 - _timestamp: 1648692219.0000 - _runtime: 756.0000 - 97s/epoch - 202ms/step\n",
            "Epoch 7: early stopping\n",
            "Epoch 8/20\n",
            "481/481 - 121s - loss: 1.9941 - accuracy: 0.4638 - val_loss: 1.8831 - val_accuracy: 0.4649 - _timestamp: 1648692339.0000 - _runtime: 876.0000 - 121s/epoch - 252ms/step\n",
            "Epoch 9/20\n",
            "481/481 - 107s - loss: 1.8533 - accuracy: 0.4749 - val_loss: 1.8668 - val_accuracy: 0.4649 - _timestamp: 1648692447.0000 - _runtime: 984.0000 - 107s/epoch - 223ms/step\n",
            "Epoch 10/20\n",
            "481/481 - 107s - loss: 1.8541 - accuracy: 0.4720 - val_loss: 1.8666 - val_accuracy: 0.4649 - _timestamp: 1648692554.0000 - _runtime: 1091.0000 - 107s/epoch - 223ms/step\n",
            "Epoch 11/20\n",
            "481/481 - 106s - loss: 1.8499 - accuracy: 0.4737 - val_loss: 1.8665 - val_accuracy: 0.4649 - _timestamp: 1648692660.0000 - _runtime: 1197.0000 - 106s/epoch - 221ms/step\n",
            "Epoch 12/20\n",
            "481/481 - 104s - loss: 1.8416 - accuracy: 0.4777 - val_loss: 1.8667 - val_accuracy: 0.4649 - _timestamp: 1648692764.0000 - _runtime: 1301.0000 - 104s/epoch - 215ms/step\n",
            "Epoch 13/20\n",
            "481/481 - 102s - loss: 1.8485 - accuracy: 0.4742 - val_loss: 1.8663 - val_accuracy: 0.4649 - _timestamp: 1648692866.0000 - _runtime: 1403.0000 - 102s/epoch - 213ms/step\n",
            "Epoch 14/20\n",
            "481/481 - 97s - loss: 1.8460 - accuracy: 0.4750 - val_loss: 1.8659 - val_accuracy: 0.4649 - _timestamp: 1648692963.0000 - _runtime: 1500.0000 - 97s/epoch - 201ms/step\n",
            "Epoch 15/20\n",
            "481/481 - 91s - loss: 1.8517 - accuracy: 0.4722 - val_loss: 1.8651 - val_accuracy: 0.4649 - _timestamp: 1648693053.0000 - _runtime: 1590.0000 - 91s/epoch - 188ms/step\n",
            "Epoch 16/20\n"
          ]
        }
      ]
    }
  ]
}